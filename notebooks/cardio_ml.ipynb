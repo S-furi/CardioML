{
 "cells": [
  {
   "attachments": {},
   "cell_type": "markdown",
   "metadata": {},
   "source": [
    "# CardioML"
   ]
  },
  {
   "attachments": {},
   "cell_type": "markdown",
   "metadata": {},
   "source": [
    "Elaborato di Programmazione di Applicazioni Data Intensive - 2023\n",
    "\n",
    "Membri del Gruppo:\n",
    "- Matteo Iorio\n",
    "- Fabio Vincenzi\n",
    "- Stefano Furi"
   ]
  },
  {
   "attachments": {},
   "cell_type": "markdown",
   "metadata": {},
   "source": [
    "Il dataset utilizzato riguarda una serie di misurazioni effettuate attraverso [cardiotocografia](https://it.wikipedia.org/wiki/Cardiotocografia), consultabile presso [UCI Machine Learning Repository](https://archive.ics.uci.edu/ml/datasets/cardiotocography#).\n",
    "\n",
    "Lo scopo di questo elaborato verrà scritto qui molto presto :)"
   ]
  },
  {
   "attachments": {},
   "cell_type": "markdown",
   "metadata": {},
   "source": [
    "Decidiamo se mettere il `setup.py` con link qui direttamente alla repo github, così se i prof chiedono solo il file jupyter, possono tranquillamente usarlo senza clonare l'intera repo, mentre invece per i temerari che clonano l'intera repo, il dataset è già qui integrato."
   ]
  },
  {
   "cell_type": "code",
   "execution_count": 61,
   "metadata": {},
   "outputs": [],
   "source": [
    "import pandas as pd\n",
    "import numpy as np\n",
    "import matplotlib.pyplot as plt"
   ]
  },
  {
   "cell_type": "code",
   "execution_count": 62,
   "metadata": {},
   "outputs": [],
   "source": [
    "raw_df = pd.read_csv(\"../data/ctg.csv\", delimiter=';')"
   ]
  },
  {
   "cell_type": "code",
   "execution_count": 63,
   "metadata": {},
   "outputs": [
    {
     "data": {
      "text/html": [
       "<div>\n",
       "<style scoped>\n",
       "    .dataframe tbody tr th:only-of-type {\n",
       "        vertical-align: middle;\n",
       "    }\n",
       "\n",
       "    .dataframe tbody tr th {\n",
       "        vertical-align: top;\n",
       "    }\n",
       "\n",
       "    .dataframe thead th {\n",
       "        text-align: right;\n",
       "    }\n",
       "</style>\n",
       "<table border=\"1\" class=\"dataframe\">\n",
       "  <thead>\n",
       "    <tr style=\"text-align: right;\">\n",
       "      <th></th>\n",
       "      <th>FileName</th>\n",
       "      <th>Date</th>\n",
       "      <th>SegFile</th>\n",
       "      <th>b</th>\n",
       "      <th>e</th>\n",
       "      <th>LBE</th>\n",
       "      <th>LB</th>\n",
       "      <th>AC</th>\n",
       "      <th>FM</th>\n",
       "      <th>UC</th>\n",
       "      <th>...</th>\n",
       "      <th>C</th>\n",
       "      <th>D</th>\n",
       "      <th>E</th>\n",
       "      <th>AD</th>\n",
       "      <th>DE</th>\n",
       "      <th>LD</th>\n",
       "      <th>FS</th>\n",
       "      <th>SUSP</th>\n",
       "      <th>CLASS</th>\n",
       "      <th>NSP</th>\n",
       "    </tr>\n",
       "  </thead>\n",
       "  <tbody>\n",
       "    <tr>\n",
       "      <th>0</th>\n",
       "      <td>Variab10.txt</td>\n",
       "      <td>01/12/96</td>\n",
       "      <td>CTG0001.txt</td>\n",
       "      <td>240</td>\n",
       "      <td>357</td>\n",
       "      <td>120</td>\n",
       "      <td>120</td>\n",
       "      <td>0</td>\n",
       "      <td>0</td>\n",
       "      <td>0</td>\n",
       "      <td>...</td>\n",
       "      <td>0</td>\n",
       "      <td>0</td>\n",
       "      <td>0</td>\n",
       "      <td>0</td>\n",
       "      <td>0</td>\n",
       "      <td>0</td>\n",
       "      <td>1</td>\n",
       "      <td>0</td>\n",
       "      <td>9</td>\n",
       "      <td>2</td>\n",
       "    </tr>\n",
       "    <tr>\n",
       "      <th>1</th>\n",
       "      <td>Fmcs_1.txt</td>\n",
       "      <td>03/05/96</td>\n",
       "      <td>CTG0002.txt</td>\n",
       "      <td>5</td>\n",
       "      <td>632</td>\n",
       "      <td>132</td>\n",
       "      <td>132</td>\n",
       "      <td>4</td>\n",
       "      <td>0</td>\n",
       "      <td>4</td>\n",
       "      <td>...</td>\n",
       "      <td>0</td>\n",
       "      <td>0</td>\n",
       "      <td>0</td>\n",
       "      <td>1</td>\n",
       "      <td>0</td>\n",
       "      <td>0</td>\n",
       "      <td>0</td>\n",
       "      <td>0</td>\n",
       "      <td>6</td>\n",
       "      <td>1</td>\n",
       "    </tr>\n",
       "    <tr>\n",
       "      <th>2</th>\n",
       "      <td>Fmcs_1.txt</td>\n",
       "      <td>03/05/96</td>\n",
       "      <td>CTG0003.txt</td>\n",
       "      <td>177</td>\n",
       "      <td>779</td>\n",
       "      <td>133</td>\n",
       "      <td>133</td>\n",
       "      <td>2</td>\n",
       "      <td>0</td>\n",
       "      <td>5</td>\n",
       "      <td>...</td>\n",
       "      <td>0</td>\n",
       "      <td>0</td>\n",
       "      <td>0</td>\n",
       "      <td>1</td>\n",
       "      <td>0</td>\n",
       "      <td>0</td>\n",
       "      <td>0</td>\n",
       "      <td>0</td>\n",
       "      <td>6</td>\n",
       "      <td>1</td>\n",
       "    </tr>\n",
       "    <tr>\n",
       "      <th>3</th>\n",
       "      <td>Fmcs_1.txt</td>\n",
       "      <td>03/05/96</td>\n",
       "      <td>CTG0004.txt</td>\n",
       "      <td>411</td>\n",
       "      <td>1192</td>\n",
       "      <td>134</td>\n",
       "      <td>134</td>\n",
       "      <td>2</td>\n",
       "      <td>0</td>\n",
       "      <td>6</td>\n",
       "      <td>...</td>\n",
       "      <td>0</td>\n",
       "      <td>0</td>\n",
       "      <td>0</td>\n",
       "      <td>1</td>\n",
       "      <td>0</td>\n",
       "      <td>0</td>\n",
       "      <td>0</td>\n",
       "      <td>0</td>\n",
       "      <td>6</td>\n",
       "      <td>1</td>\n",
       "    </tr>\n",
       "    <tr>\n",
       "      <th>4</th>\n",
       "      <td>Fmcs_1.txt</td>\n",
       "      <td>03/05/96</td>\n",
       "      <td>CTG0005.txt</td>\n",
       "      <td>533</td>\n",
       "      <td>1147</td>\n",
       "      <td>132</td>\n",
       "      <td>132</td>\n",
       "      <td>4</td>\n",
       "      <td>0</td>\n",
       "      <td>5</td>\n",
       "      <td>...</td>\n",
       "      <td>0</td>\n",
       "      <td>0</td>\n",
       "      <td>0</td>\n",
       "      <td>0</td>\n",
       "      <td>0</td>\n",
       "      <td>0</td>\n",
       "      <td>0</td>\n",
       "      <td>0</td>\n",
       "      <td>2</td>\n",
       "      <td>1</td>\n",
       "    </tr>\n",
       "  </tbody>\n",
       "</table>\n",
       "<p>5 rows × 40 columns</p>\n",
       "</div>"
      ],
      "text/plain": [
       "       FileName      Date      SegFile    b     e  LBE   LB  AC  FM  UC  ...  \\\n",
       "0  Variab10.txt  01/12/96  CTG0001.txt  240   357  120  120   0   0   0  ...   \n",
       "1    Fmcs_1.txt  03/05/96  CTG0002.txt    5   632  132  132   4   0   4  ...   \n",
       "2    Fmcs_1.txt  03/05/96  CTG0003.txt  177   779  133  133   2   0   5  ...   \n",
       "3    Fmcs_1.txt  03/05/96  CTG0004.txt  411  1192  134  134   2   0   6  ...   \n",
       "4    Fmcs_1.txt  03/05/96  CTG0005.txt  533  1147  132  132   4   0   5  ...   \n",
       "\n",
       "   C  D  E AD  DE  LD  FS  SUSP  CLASS  NSP  \n",
       "0  0  0  0  0   0   0   1     0      9    2  \n",
       "1  0  0  0  1   0   0   0     0      6    1  \n",
       "2  0  0  0  1   0   0   0     0      6    1  \n",
       "3  0  0  0  1   0   0   0     0      6    1  \n",
       "4  0  0  0  0   0   0   0     0      2    1  \n",
       "\n",
       "[5 rows x 40 columns]"
      ]
     },
     "execution_count": 63,
     "metadata": {},
     "output_type": "execute_result"
    }
   ],
   "source": [
    "raw_df.head()"
   ]
  },
  {
   "attachments": {},
   "cell_type": "markdown",
   "metadata": {},
   "source": [
    "SPIEGAZIONE RAPIDA DELLE VARIABILI, DIVISE PER CATEGORICHE E CONTINUE"
   ]
  },
  {
   "attachments": {},
   "cell_type": "markdown",
   "metadata": {},
   "source": [
    "Mappiamo i nomi di aclune colonne in nomi più esplicativi."
   ]
  },
  {
   "cell_type": "code",
   "execution_count": 64,
   "metadata": {},
   "outputs": [],
   "source": [
    "col_names = {\n",
    "    \"FileName\": \"file_name\",\n",
    "    \"Date\": \"date\",\n",
    "    \"SegFile\": \"seg_file\",\n",
    "    \"b\": \"start_instant\",\n",
    "    \"e\": \"end_instant\",\n",
    "    \"LBE\": \"medical_baseline\",\n",
    "    \"LB\": \"sisproto_baseline\",\n",
    "    \"AC\": \"heart_acc\",\n",
    "    \"FM\": \"foetal_move\",\n",
    "    \"UC\": \"utherine_contract\",\n",
    "    \"ASTV\": \"pct_short_variability\",\n",
    "    \"MSTV\": \"mean_short_variability\",\n",
    "    \"ALTV\": \"pct_long_variability\",\n",
    "    \"MLTV\": \"mean_long_variability\",\n",
    "    \"DL\": \"light_dec\",\n",
    "    \"DS\": \"severe_dec\",\n",
    "    \"DP\": \"prolongued_dec\",\n",
    "    \"DR\": \"repetitive_dec\",\n",
    "    \"A\": \"calm_sleep\",\n",
    "    \"B\": \"rem_sleep\",\n",
    "    \"C\": \"calm_vigilance\",\n",
    "    \"D\": \"active_vigilance\",\n",
    "    \"SH\": \"shift_pattern\",\n",
    "    \"AD\": \"acc_pattern_stress\", # negativo se pattern in decelerazione\n",
    "    \"DE\": \"dec_pattern_vagal\",\n",
    "    \"LD\": \"largely_dec\",\n",
    "    \"FS\": \"patho_flat_sinusoidal\",\n",
    "    \"SUSP\": \"suspect\"\n",
    "}"
   ]
  },
  {
   "cell_type": "code",
   "execution_count": 65,
   "metadata": {},
   "outputs": [
    {
     "data": {
      "text/plain": [
       "Index(['file_name', 'date', 'seg_file', 'start_instant', 'end_instant',\n",
       "       'medical_baseline', 'sisproto_baseline', 'heart_acc', 'foetal_move',\n",
       "       'utherine_contract', 'pct_short_variability', 'mean_short_variability',\n",
       "       'pct_long_variability', 'mean_long_variability', 'light_dec',\n",
       "       'severe_dec', 'prolongued_dec', 'repetitive_dec', 'width', 'min', 'max',\n",
       "       'nmax', 'nzeros', 'mode', 'mean', 'median', 'variance', 'tendency',\n",
       "       'calm_sleep', 'rem_sleep', 'calm_vigilance', 'active_vigilance', 'e',\n",
       "       'acc_pattern_stress', 'dec_pattern_vagal', 'largely_dec',\n",
       "       'patho_flat_sinusoidal', 'suspect', 'class', 'nsp'],\n",
       "      dtype='object')"
      ]
     },
     "execution_count": 65,
     "metadata": {},
     "output_type": "execute_result"
    }
   ],
   "source": [
    "raw_df.rename(columns=col_names, inplace=True)\n",
    "raw_df.columns = raw_df.columns.str.lower()\n",
    "raw_df.columns"
   ]
  },
  {
   "attachments": {},
   "cell_type": "markdown",
   "metadata": {},
   "source": [
    "Alcune variabili categoriche sono state mappate a `np.float64`, mentre altre sarebbe stato sufficiente un tipo `np.int32`. Possiamo quindi ricaricare il dataset, specificando il tipo di dato per ogni colonna, facendo anche riferimento all'utilizzo di memoria"
   ]
  },
  {
   "cell_type": "code",
   "execution_count": 66,
   "metadata": {},
   "outputs": [
    {
     "name": "stdout",
     "output_type": "stream",
     "text": [
      "<class 'pandas.core.frame.DataFrame'>\n",
      "RangeIndex: 2126 entries, 0 to 2125\n",
      "Data columns (total 40 columns):\n",
      " #   Column                  Non-Null Count  Dtype \n",
      "---  ------                  --------------  ----- \n",
      " 0   file_name               2126 non-null   object\n",
      " 1   date                    2126 non-null   object\n",
      " 2   seg_file                2126 non-null   object\n",
      " 3   start_instant           2126 non-null   int64 \n",
      " 4   end_instant             2126 non-null   int64 \n",
      " 5   medical_baseline        2126 non-null   int64 \n",
      " 6   sisproto_baseline       2126 non-null   int64 \n",
      " 7   heart_acc               2126 non-null   int64 \n",
      " 8   foetal_move             2126 non-null   int64 \n",
      " 9   utherine_contract       2126 non-null   int64 \n",
      " 10  pct_short_variability   2126 non-null   int64 \n",
      " 11  mean_short_variability  2126 non-null   object\n",
      " 12  pct_long_variability    2126 non-null   int64 \n",
      " 13  mean_long_variability   2126 non-null   object\n",
      " 14  light_dec               2126 non-null   int64 \n",
      " 15  severe_dec              2126 non-null   int64 \n",
      " 16  prolongued_dec          2126 non-null   int64 \n",
      " 17  repetitive_dec          2126 non-null   int64 \n",
      " 18  width                   2126 non-null   int64 \n",
      " 19  min                     2126 non-null   int64 \n",
      " 20  max                     2126 non-null   int64 \n",
      " 21  nmax                    2126 non-null   int64 \n",
      " 22  nzeros                  2126 non-null   int64 \n",
      " 23  mode                    2126 non-null   int64 \n",
      " 24  mean                    2126 non-null   int64 \n",
      " 25  median                  2126 non-null   int64 \n",
      " 26  variance                2126 non-null   int64 \n",
      " 27  tendency                2126 non-null   int64 \n",
      " 28  calm_sleep              2126 non-null   int64 \n",
      " 29  rem_sleep               2126 non-null   int64 \n",
      " 30  calm_vigilance          2126 non-null   int64 \n",
      " 31  active_vigilance        2126 non-null   int64 \n",
      " 32  e                       2126 non-null   int64 \n",
      " 33  acc_pattern_stress      2126 non-null   int64 \n",
      " 34  dec_pattern_vagal       2126 non-null   int64 \n",
      " 35  largely_dec             2126 non-null   int64 \n",
      " 36  patho_flat_sinusoidal   2126 non-null   int64 \n",
      " 37  suspect                 2126 non-null   int64 \n",
      " 38  class                   2126 non-null   int64 \n",
      " 39  nsp                     2126 non-null   int64 \n",
      "dtypes: int64(35), object(5)\n",
      "memory usage: 1.2 MB\n"
     ]
    }
   ],
   "source": [
    "raw_df.info(memory_usage=\"deep\")"
   ]
  },
  {
   "cell_type": "code",
   "execution_count": 94,
   "metadata": {},
   "outputs": [],
   "source": [
    "bool_vars = [\n",
    "    \"A\", \"B\", \"C\", \"D\", \"SH\",\n",
    "    \"AD\", \"DE\", \"LD\", \"FS\", \"SUSP\"\n",
    "]\n",
    "\n",
    "cat_vars = [\"CLASS\", \"NSP\", \"Tendency\"]\n",
    "\n",
    "num_vars = [\n",
    "    \"b\", \"e\", \"LBE\", \"LB\", \"AC\",\n",
    "    \"FM\", \"UC\", \"ASTV\",\n",
    "    \"MSTV\", \"ALTV\", \"MLTV\", \"DL\",\n",
    "    \"DS\", \"DP\", \"DR\", \"Width\", \"Min\",\n",
    "    \"Max\", \"Nmax\", \"Nzeros\", \"Mode\",\n",
    "    \"Mean\", \"Median\", \"Variance\"\n",
    "]\n",
    "\n",
    "custom_dtpes = { \n",
    "    **{ col: \"bool\" for col in bool_vars }, \n",
    "    **{ col: \"category\" for col in cat_vars}\n",
    "}"
   ]
  },
  {
   "cell_type": "code",
   "execution_count": 95,
   "metadata": {},
   "outputs": [],
   "source": [
    "raw_df = pd.read_csv(\"../data/ctg.csv\", delimiter=';', dtype=custom_dtpes)"
   ]
  },
  {
   "cell_type": "code",
   "execution_count": 96,
   "metadata": {},
   "outputs": [
    {
     "name": "stdout",
     "output_type": "stream",
     "text": [
      "<class 'pandas.core.frame.DataFrame'>\n",
      "RangeIndex: 2126 entries, 0 to 2125\n",
      "Data columns (total 40 columns):\n",
      " #   Column    Non-Null Count  Dtype   \n",
      "---  ------    --------------  -----   \n",
      " 0   FileName  2126 non-null   object  \n",
      " 1   Date      2126 non-null   object  \n",
      " 2   SegFile   2126 non-null   object  \n",
      " 3   b         2126 non-null   int64   \n",
      " 4   e         2126 non-null   int64   \n",
      " 5   LBE       2126 non-null   int64   \n",
      " 6   LB        2126 non-null   int64   \n",
      " 7   AC        2126 non-null   int64   \n",
      " 8   FM        2126 non-null   int64   \n",
      " 9   UC        2126 non-null   int64   \n",
      " 10  ASTV      2126 non-null   int64   \n",
      " 11  MSTV      2126 non-null   object  \n",
      " 12  ALTV      2126 non-null   int64   \n",
      " 13  MLTV      2126 non-null   object  \n",
      " 14  DL        2126 non-null   int64   \n",
      " 15  DS        2126 non-null   int64   \n",
      " 16  DP        2126 non-null   int64   \n",
      " 17  DR        2126 non-null   int64   \n",
      " 18  Width     2126 non-null   int64   \n",
      " 19  Min       2126 non-null   int64   \n",
      " 20  Max       2126 non-null   int64   \n",
      " 21  Nmax      2126 non-null   int64   \n",
      " 22  Nzeros    2126 non-null   int64   \n",
      " 23  Mode      2126 non-null   int64   \n",
      " 24  Mean      2126 non-null   int64   \n",
      " 25  Median    2126 non-null   int64   \n",
      " 26  Variance  2126 non-null   int64   \n",
      " 27  Tendency  2126 non-null   category\n",
      " 28  A         2126 non-null   bool    \n",
      " 29  B         2126 non-null   bool    \n",
      " 30  C         2126 non-null   bool    \n",
      " 31  D         2126 non-null   bool    \n",
      " 32  E         2126 non-null   int64   \n",
      " 33  AD        2126 non-null   bool    \n",
      " 34  DE        2126 non-null   bool    \n",
      " 35  LD        2126 non-null   bool    \n",
      " 36  FS        2126 non-null   bool    \n",
      " 37  SUSP      2126 non-null   bool    \n",
      " 38  CLASS     2126 non-null   category\n",
      " 39  NSP       2126 non-null   category\n",
      "dtypes: bool(9), category(3), int64(23), object(5)\n",
      "memory usage: 1.1 MB\n"
     ]
    }
   ],
   "source": [
    "raw_df.info(memory_usage=\"deep\")"
   ]
  },
  {
   "attachments": {},
   "cell_type": "markdown",
   "metadata": {},
   "source": [
    "Abbiamo risparmiato 0.1 MB ! (amazzati)"
   ]
  }
 ],
 "metadata": {
  "kernelspec": {
   "display_name": "env",
   "language": "python",
   "name": "python3"
  },
  "language_info": {
   "codemirror_mode": {
    "name": "ipython",
    "version": 3
   },
   "file_extension": ".py",
   "mimetype": "text/x-python",
   "name": "python",
   "nbconvert_exporter": "python",
   "pygments_lexer": "ipython3",
   "version": "3.9.16"
  },
  "orig_nbformat": 4
 },
 "nbformat": 4,
 "nbformat_minor": 2
}
