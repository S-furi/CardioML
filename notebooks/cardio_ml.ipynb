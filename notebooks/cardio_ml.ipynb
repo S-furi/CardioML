{
  "cells": [
    {
      "cell_type": "markdown",
      "metadata": {
        "id": "AUCXRc_tjTB_"
      },
      "source": [
        "# CardioML\n",
        "\n"
      ]
    },
    {
      "cell_type": "markdown",
      "metadata": {
        "id": "qd0misoXjTCG"
      },
      "source": [
        "Elaborato di Programmazione di Applicazioni Data Intensive - 2023\n",
        "\n",
        "Membri del Gruppo:\n",
        "- Matteo Iorio\n",
        "- Fabio Vincenzi\n",
        "- Stefano Furi"
      ]
    },
    {
      "cell_type": "code",
      "execution_count": 1,
      "metadata": {
        "id": "yNqSjBQ0jTCH"
      },
      "outputs": [],
      "source": [
        "import pandas as pd\n",
        "import numpy as np\n",
        "import matplotlib.pyplot as plt\n",
        "import seaborn as sns\n",
        "\n",
        "sns.set(style=\"ticks\")\n",
        "sns.set_style(\"whitegrid\")"
      ]
    },
    {
      "cell_type": "markdown",
      "metadata": {
        "id": "EZNeLWRtjTCH"
      },
      "source": [
        "## Creazione del DataFrame"
      ]
    },
    {
      "cell_type": "markdown",
      "metadata": {
        "id": "eAEwO9jDjTCI"
      },
      "source": [
        "Ci siamo posti l'obbiettivo di realizzare un progetto che **possa veramente risultare utile** per alcuni professionisti del settore. Quello che andremo a studiare è un problema che riguarda i fanciulli di tenera età, più in particolare andremo ad analizzare i *risultati di rilevazioni cardiache*, andando a determinare se avranno o meno complicanze cardiache patologiche. \n",
        "\n",
        "Il dataset utilizzato riguarda una serie di misurazioni effettuate attraverso [cardiotocografia](https://it.wikipedia.org/wiki/Cardiotocografia), consultabile presso [UCI Machine Learning Repository](https://archive.ics.uci.edu/ml/datasets/cardiotocography#).\n"
      ]
    },
    {
      "cell_type": "markdown",
      "metadata": {
        "id": "mdmYRAuyjTCI"
      },
      "source": [
        "\n",
        "Lo scopo di questo elaborato verrà scritto qui molto presto :)"
      ]
    },
    {
      "cell_type": "markdown",
      "metadata": {
        "id": "J1Da8hQfjTCJ"
      },
      "source": [
        "Decidiamo se mettere il `setup.py` con link qui direttamente alla repo github, così se i prof chiedono solo il file jupyter, possono tranquillamente usarlo senza clonare l'intera repo, mentre invece per i temerari che clonano l'intera repo, il dataset è già qui integrato."
      ]
    },
    {
      "cell_type": "markdown",
      "metadata": {
        "id": "etfNFk4wjTCJ"
      },
      "source": [
        "## Preparazione del dataset"
      ]
    },
    {
      "cell_type": "code",
      "execution_count": 2,
      "metadata": {
        "id": "_waY7KnUjTCJ"
      },
      "outputs": [],
      "source": [
        "raw_df = pd.read_csv(\"https://raw.githubusercontent.com/S-furi/CardioML/main/data/ctg.csv?token=GHSAT0AAAAAAB2INSX3OMMLZ7L45MTIRBW2ZEB3QJQ\", delimiter=';')"
      ]
    },
    {
      "cell_type": "code",
      "execution_count": 3,
      "metadata": {
        "colab": {
          "base_uri": "https://localhost:8080/",
          "height": 233
        },
        "id": "KkPzRMCLjTCJ",
        "outputId": "33a89fe9-35a7-4761-c5c2-59d63550517b"
      },
      "outputs": [
        {
          "output_type": "execute_result",
          "data": {
            "text/plain": [
              "       FileName      Date      SegFile    b     e  LBE   LB  AC  FM  UC  ...  \\\n",
              "0  Variab10.txt  01/12/96  CTG0001.txt  240   357  120  120   0   0   0  ...   \n",
              "1    Fmcs_1.txt  03/05/96  CTG0002.txt    5   632  132  132   4   0   4  ...   \n",
              "2    Fmcs_1.txt  03/05/96  CTG0003.txt  177   779  133  133   2   0   5  ...   \n",
              "3    Fmcs_1.txt  03/05/96  CTG0004.txt  411  1192  134  134   2   0   6  ...   \n",
              "4    Fmcs_1.txt  03/05/96  CTG0005.txt  533  1147  132  132   4   0   5  ...   \n",
              "\n",
              "   C  D  E AD  DE  LD  FS  SUSP  CLASS  NSP  \n",
              "0  0  0  0  0   0   0   1     0      9    2  \n",
              "1  0  0  0  1   0   0   0     0      6    1  \n",
              "2  0  0  0  1   0   0   0     0      6    1  \n",
              "3  0  0  0  1   0   0   0     0      6    1  \n",
              "4  0  0  0  0   0   0   0     0      2    1  \n",
              "\n",
              "[5 rows x 40 columns]"
            ],
            "text/html": [
              "\n",
              "  <div id=\"df-b24467fd-d48f-4d97-a295-a5a13a1815ab\">\n",
              "    <div class=\"colab-df-container\">\n",
              "      <div>\n",
              "<style scoped>\n",
              "    .dataframe tbody tr th:only-of-type {\n",
              "        vertical-align: middle;\n",
              "    }\n",
              "\n",
              "    .dataframe tbody tr th {\n",
              "        vertical-align: top;\n",
              "    }\n",
              "\n",
              "    .dataframe thead th {\n",
              "        text-align: right;\n",
              "    }\n",
              "</style>\n",
              "<table border=\"1\" class=\"dataframe\">\n",
              "  <thead>\n",
              "    <tr style=\"text-align: right;\">\n",
              "      <th></th>\n",
              "      <th>FileName</th>\n",
              "      <th>Date</th>\n",
              "      <th>SegFile</th>\n",
              "      <th>b</th>\n",
              "      <th>e</th>\n",
              "      <th>LBE</th>\n",
              "      <th>LB</th>\n",
              "      <th>AC</th>\n",
              "      <th>FM</th>\n",
              "      <th>UC</th>\n",
              "      <th>...</th>\n",
              "      <th>C</th>\n",
              "      <th>D</th>\n",
              "      <th>E</th>\n",
              "      <th>AD</th>\n",
              "      <th>DE</th>\n",
              "      <th>LD</th>\n",
              "      <th>FS</th>\n",
              "      <th>SUSP</th>\n",
              "      <th>CLASS</th>\n",
              "      <th>NSP</th>\n",
              "    </tr>\n",
              "  </thead>\n",
              "  <tbody>\n",
              "    <tr>\n",
              "      <th>0</th>\n",
              "      <td>Variab10.txt</td>\n",
              "      <td>01/12/96</td>\n",
              "      <td>CTG0001.txt</td>\n",
              "      <td>240</td>\n",
              "      <td>357</td>\n",
              "      <td>120</td>\n",
              "      <td>120</td>\n",
              "      <td>0</td>\n",
              "      <td>0</td>\n",
              "      <td>0</td>\n",
              "      <td>...</td>\n",
              "      <td>0</td>\n",
              "      <td>0</td>\n",
              "      <td>0</td>\n",
              "      <td>0</td>\n",
              "      <td>0</td>\n",
              "      <td>0</td>\n",
              "      <td>1</td>\n",
              "      <td>0</td>\n",
              "      <td>9</td>\n",
              "      <td>2</td>\n",
              "    </tr>\n",
              "    <tr>\n",
              "      <th>1</th>\n",
              "      <td>Fmcs_1.txt</td>\n",
              "      <td>03/05/96</td>\n",
              "      <td>CTG0002.txt</td>\n",
              "      <td>5</td>\n",
              "      <td>632</td>\n",
              "      <td>132</td>\n",
              "      <td>132</td>\n",
              "      <td>4</td>\n",
              "      <td>0</td>\n",
              "      <td>4</td>\n",
              "      <td>...</td>\n",
              "      <td>0</td>\n",
              "      <td>0</td>\n",
              "      <td>0</td>\n",
              "      <td>1</td>\n",
              "      <td>0</td>\n",
              "      <td>0</td>\n",
              "      <td>0</td>\n",
              "      <td>0</td>\n",
              "      <td>6</td>\n",
              "      <td>1</td>\n",
              "    </tr>\n",
              "    <tr>\n",
              "      <th>2</th>\n",
              "      <td>Fmcs_1.txt</td>\n",
              "      <td>03/05/96</td>\n",
              "      <td>CTG0003.txt</td>\n",
              "      <td>177</td>\n",
              "      <td>779</td>\n",
              "      <td>133</td>\n",
              "      <td>133</td>\n",
              "      <td>2</td>\n",
              "      <td>0</td>\n",
              "      <td>5</td>\n",
              "      <td>...</td>\n",
              "      <td>0</td>\n",
              "      <td>0</td>\n",
              "      <td>0</td>\n",
              "      <td>1</td>\n",
              "      <td>0</td>\n",
              "      <td>0</td>\n",
              "      <td>0</td>\n",
              "      <td>0</td>\n",
              "      <td>6</td>\n",
              "      <td>1</td>\n",
              "    </tr>\n",
              "    <tr>\n",
              "      <th>3</th>\n",
              "      <td>Fmcs_1.txt</td>\n",
              "      <td>03/05/96</td>\n",
              "      <td>CTG0004.txt</td>\n",
              "      <td>411</td>\n",
              "      <td>1192</td>\n",
              "      <td>134</td>\n",
              "      <td>134</td>\n",
              "      <td>2</td>\n",
              "      <td>0</td>\n",
              "      <td>6</td>\n",
              "      <td>...</td>\n",
              "      <td>0</td>\n",
              "      <td>0</td>\n",
              "      <td>0</td>\n",
              "      <td>1</td>\n",
              "      <td>0</td>\n",
              "      <td>0</td>\n",
              "      <td>0</td>\n",
              "      <td>0</td>\n",
              "      <td>6</td>\n",
              "      <td>1</td>\n",
              "    </tr>\n",
              "    <tr>\n",
              "      <th>4</th>\n",
              "      <td>Fmcs_1.txt</td>\n",
              "      <td>03/05/96</td>\n",
              "      <td>CTG0005.txt</td>\n",
              "      <td>533</td>\n",
              "      <td>1147</td>\n",
              "      <td>132</td>\n",
              "      <td>132</td>\n",
              "      <td>4</td>\n",
              "      <td>0</td>\n",
              "      <td>5</td>\n",
              "      <td>...</td>\n",
              "      <td>0</td>\n",
              "      <td>0</td>\n",
              "      <td>0</td>\n",
              "      <td>0</td>\n",
              "      <td>0</td>\n",
              "      <td>0</td>\n",
              "      <td>0</td>\n",
              "      <td>0</td>\n",
              "      <td>2</td>\n",
              "      <td>1</td>\n",
              "    </tr>\n",
              "  </tbody>\n",
              "</table>\n",
              "<p>5 rows × 40 columns</p>\n",
              "</div>\n",
              "      <button class=\"colab-df-convert\" onclick=\"convertToInteractive('df-b24467fd-d48f-4d97-a295-a5a13a1815ab')\"\n",
              "              title=\"Convert this dataframe to an interactive table.\"\n",
              "              style=\"display:none;\">\n",
              "        \n",
              "  <svg xmlns=\"http://www.w3.org/2000/svg\" height=\"24px\"viewBox=\"0 0 24 24\"\n",
              "       width=\"24px\">\n",
              "    <path d=\"M0 0h24v24H0V0z\" fill=\"none\"/>\n",
              "    <path d=\"M18.56 5.44l.94 2.06.94-2.06 2.06-.94-2.06-.94-.94-2.06-.94 2.06-2.06.94zm-11 1L8.5 8.5l.94-2.06 2.06-.94-2.06-.94L8.5 2.5l-.94 2.06-2.06.94zm10 10l.94 2.06.94-2.06 2.06-.94-2.06-.94-.94-2.06-.94 2.06-2.06.94z\"/><path d=\"M17.41 7.96l-1.37-1.37c-.4-.4-.92-.59-1.43-.59-.52 0-1.04.2-1.43.59L10.3 9.45l-7.72 7.72c-.78.78-.78 2.05 0 2.83L4 21.41c.39.39.9.59 1.41.59.51 0 1.02-.2 1.41-.59l7.78-7.78 2.81-2.81c.8-.78.8-2.07 0-2.86zM5.41 20L4 18.59l7.72-7.72 1.47 1.35L5.41 20z\"/>\n",
              "  </svg>\n",
              "      </button>\n",
              "      \n",
              "  <style>\n",
              "    .colab-df-container {\n",
              "      display:flex;\n",
              "      flex-wrap:wrap;\n",
              "      gap: 12px;\n",
              "    }\n",
              "\n",
              "    .colab-df-convert {\n",
              "      background-color: #E8F0FE;\n",
              "      border: none;\n",
              "      border-radius: 50%;\n",
              "      cursor: pointer;\n",
              "      display: none;\n",
              "      fill: #1967D2;\n",
              "      height: 32px;\n",
              "      padding: 0 0 0 0;\n",
              "      width: 32px;\n",
              "    }\n",
              "\n",
              "    .colab-df-convert:hover {\n",
              "      background-color: #E2EBFA;\n",
              "      box-shadow: 0px 1px 2px rgba(60, 64, 67, 0.3), 0px 1px 3px 1px rgba(60, 64, 67, 0.15);\n",
              "      fill: #174EA6;\n",
              "    }\n",
              "\n",
              "    [theme=dark] .colab-df-convert {\n",
              "      background-color: #3B4455;\n",
              "      fill: #D2E3FC;\n",
              "    }\n",
              "\n",
              "    [theme=dark] .colab-df-convert:hover {\n",
              "      background-color: #434B5C;\n",
              "      box-shadow: 0px 1px 3px 1px rgba(0, 0, 0, 0.15);\n",
              "      filter: drop-shadow(0px 1px 2px rgba(0, 0, 0, 0.3));\n",
              "      fill: #FFFFFF;\n",
              "    }\n",
              "  </style>\n",
              "\n",
              "      <script>\n",
              "        const buttonEl =\n",
              "          document.querySelector('#df-b24467fd-d48f-4d97-a295-a5a13a1815ab button.colab-df-convert');\n",
              "        buttonEl.style.display =\n",
              "          google.colab.kernel.accessAllowed ? 'block' : 'none';\n",
              "\n",
              "        async function convertToInteractive(key) {\n",
              "          const element = document.querySelector('#df-b24467fd-d48f-4d97-a295-a5a13a1815ab');\n",
              "          const dataTable =\n",
              "            await google.colab.kernel.invokeFunction('convertToInteractive',\n",
              "                                                     [key], {});\n",
              "          if (!dataTable) return;\n",
              "\n",
              "          const docLinkHtml = 'Like what you see? Visit the ' +\n",
              "            '<a target=\"_blank\" href=https://colab.research.google.com/notebooks/data_table.ipynb>data table notebook</a>'\n",
              "            + ' to learn more about interactive tables.';\n",
              "          element.innerHTML = '';\n",
              "          dataTable['output_type'] = 'display_data';\n",
              "          await google.colab.output.renderOutput(dataTable, element);\n",
              "          const docLink = document.createElement('div');\n",
              "          docLink.innerHTML = docLinkHtml;\n",
              "          element.appendChild(docLink);\n",
              "        }\n",
              "      </script>\n",
              "    </div>\n",
              "  </div>\n",
              "  "
            ]
          },
          "metadata": {},
          "execution_count": 3
        }
      ],
      "source": [
        "raw_df.head()"
      ]
    },
    {
      "cell_type": "markdown",
      "metadata": {
        "id": "As_KLTVOjTCK"
      },
      "source": [
        "\n",
        "*   **file_name**: Nome del file che contiene i dati della cardiotografia. È un identificatore unico per il file.\n",
        "*   **date**: Data relativa alla registrazione della cardiotografia. Indica la data in cui è stato eseguito l'esame.\n",
        "*   **seg_file**: Nome del file di segmentazione associato ai dati della \n",
        "cardiotografia. Può contenere informazioni sulla suddivisione temporale dei dati.\n",
        "*   **start_instant**: Istante di inizio della registrazione della cardiotografia. Indica il momento in cui i dati sono stati registrati.\n",
        "end_instant: Istante di fine della registrazione della cardiotografia. Indica il momento finale in cui i dati sono stati registrati.\n",
        "*   **medical_baseline**: Baseline medica, rappresenta la linea di base dei segnali registrati durante l'esame.\n",
        "*   **sisproto_baseline**: Baseline di riferimento, rappresenta una linea di base standard usata per confrontare i segnali registrati.\n",
        "*   **heart_acc**: Accelerazioni cardiache, misura le variazioni di frequenza cardiaca che indicano l'accelerazione del cuore.\n",
        "*   **foetal_move**: Movimenti fetali, rappresenta l'attività motoria del feto durante la registrazione.\n",
        "*   **utherine_contract**: Contrazioni uterine, indica le contrazioni dell'utero durante la registrazione.\n",
        "*   **pct_short_variability**: Variabilità a breve termine della frequenza cardiaca fetale espressa in percentuale.\n",
        "*   **mean_short_variability**: Media della variabilità a breve termine della frequenza cardiaca fetale.\n",
        "*   **pct_long_variability**: Variabilità a lungo termine della frequenza cardiaca fetale espressa in percentuale.\n",
        "*   **mean_long_variability**: Media della variabilità a lungo termine della frequenza cardiaca fetale.\n",
        "*   **light_dec**: Decelerazioni lievi, rappresenta la diminuzione temporanea della frequenza cardiaca fetale in modo lieve.\n",
        "*   **severe_dec**: Decelerazioni gravi, indica la diminuzione temporanea della frequenza cardiaca fetale in modo significativo.\n",
        "*   **prolongued_dec**: Decelerazioni prolungate, rappresenta la diminuzione prolungata della frequenza cardiaca fetale.\n",
        "*   **repetitive_dec**: Decelerazioni ripetitive, indica la presenza di decelerazioni che si ripetono durante la registrazione.\n",
        "*   **calm_sleep**: Stato di sonno tranquillo del feto durante la registrazione.\n",
        "*   **rem_sleep**: Stato di sonno REM (Rapid Eye Movement) del feto durante la registrazione.\n",
        "*   **calm_vigilance**: Stato di veglia tranquilla del feto durante la registrazione.\n",
        "*   **active_vigilance**: Stato di veglia attiva del feto durante la registrazione.\n",
        "*   **acc_pattern_stress**: Pattern di accelerazione legato allo stress. Assume un valore negativo se è presente un pattern di decelerazione.\n"
      ]
    },
    {
      "cell_type": "markdown",
      "metadata": {
        "id": "Y7yTkN74jTCK"
      },
      "source": [
        "Alcune variabili categoriche sono state mappate a `np.float64`, mentre altre sarebbe stato sufficiente un tipo `np.int32`. Possiamo quindi ricaricare il dataset, specificando il tipo di dato per ogni colonna, facendo anche riferimento all'utilizzo di memoria"
      ]
    },
    {
      "cell_type": "code",
      "execution_count": 4,
      "metadata": {
        "colab": {
          "base_uri": "https://localhost:8080/"
        },
        "id": "ORIzkWYcjTCK",
        "outputId": "7ab2da03-a386-4c09-dea6-10fdfe2abf9b"
      },
      "outputs": [
        {
          "output_type": "stream",
          "name": "stdout",
          "text": [
            "<class 'pandas.core.frame.DataFrame'>\n",
            "RangeIndex: 2126 entries, 0 to 2125\n",
            "Data columns (total 40 columns):\n",
            " #   Column    Non-Null Count  Dtype \n",
            "---  ------    --------------  ----- \n",
            " 0   FileName  2126 non-null   object\n",
            " 1   Date      2126 non-null   object\n",
            " 2   SegFile   2126 non-null   object\n",
            " 3   b         2126 non-null   int64 \n",
            " 4   e         2126 non-null   int64 \n",
            " 5   LBE       2126 non-null   int64 \n",
            " 6   LB        2126 non-null   int64 \n",
            " 7   AC        2126 non-null   int64 \n",
            " 8   FM        2126 non-null   int64 \n",
            " 9   UC        2126 non-null   int64 \n",
            " 10  ASTV      2126 non-null   int64 \n",
            " 11  MSTV      2126 non-null   object\n",
            " 12  ALTV      2126 non-null   int64 \n",
            " 13  MLTV      2126 non-null   object\n",
            " 14  DL        2126 non-null   int64 \n",
            " 15  DS        2126 non-null   int64 \n",
            " 16  DP        2126 non-null   int64 \n",
            " 17  DR        2126 non-null   int64 \n",
            " 18  Width     2126 non-null   int64 \n",
            " 19  Min       2126 non-null   int64 \n",
            " 20  Max       2126 non-null   int64 \n",
            " 21  Nmax      2126 non-null   int64 \n",
            " 22  Nzeros    2126 non-null   int64 \n",
            " 23  Mode      2126 non-null   int64 \n",
            " 24  Mean      2126 non-null   int64 \n",
            " 25  Median    2126 non-null   int64 \n",
            " 26  Variance  2126 non-null   int64 \n",
            " 27  Tendency  2126 non-null   int64 \n",
            " 28  A         2126 non-null   int64 \n",
            " 29  B         2126 non-null   int64 \n",
            " 30  C         2126 non-null   int64 \n",
            " 31  D         2126 non-null   int64 \n",
            " 32  E         2126 non-null   int64 \n",
            " 33  AD        2126 non-null   int64 \n",
            " 34  DE        2126 non-null   int64 \n",
            " 35  LD        2126 non-null   int64 \n",
            " 36  FS        2126 non-null   int64 \n",
            " 37  SUSP      2126 non-null   int64 \n",
            " 38  CLASS     2126 non-null   int64 \n",
            " 39  NSP       2126 non-null   int64 \n",
            "dtypes: int64(35), object(5)\n",
            "memory usage: 1.2 MB\n"
          ]
        }
      ],
      "source": [
        "raw_df.info(memory_usage=\"deep\")"
      ]
    },
    {
      "cell_type": "code",
      "execution_count": 4,
      "metadata": {
        "id": "KCP2FJiw9Vyf"
      },
      "outputs": [],
      "source": []
    },
    {
      "cell_type": "markdown",
      "metadata": {
        "id": "9ux4f88DjTCL"
      },
      "source": [
        "Possiamo poi procedere con la classificazione dei nostro dati, più nello specifico abbiamo individuato 3 macro classi:\n",
        "* *bool_vars*: Tutte le variabili del nostro data frame che assumono valori tra [0, 1], andremo ad assegnare come tipologia di valore quello *booleano*\n",
        "* *cat_varts*: All'interno di questa tipologia di variabili, troviamo quelle *categoriche*, assegneremo a tali variabili il valore *category*\n",
        "* *num_vars*: In quest'ultima tipologia di variabili, abbiamo solamente le tipologie di valori *numerici*, le quali verranno trattate come variabili di tipo *float32*\n",
        "\n",
        "Queste classi, oltre ad essere utili per motivi di training dei modelli, risultano utili per poter caricare efficientemente il *dataframe* in memoria."
      ]
    },
    {
      "cell_type": "code",
      "execution_count": 5,
      "metadata": {
        "id": "C8k0z7QljTCL"
      },
      "outputs": [],
      "source": [
        "bool_vars = [\n",
        "    \"A\", \"B\", \"C\", \"D\", \"SH\",\n",
        "    \"AD\", \"DE\", \"LD\", \"FS\", \"SUSP\"\n",
        "]\n",
        "\n",
        "cat_vars = [\"CLASS\", \"NSP\", \"Tendency\"]\n",
        "\n",
        "num_vars = [\n",
        "    \"b\", \"e\", \"LBE\", \"LB\", \"AC\",\n",
        "    \"FM\", \"UC\", \"ASTV\",\n",
        "    \"MSTV\", \"ALTV\", \"MLTV\", \"DL\",\n",
        "    \"DS\", \"DP\", \"DR\", \"Width\", \"Min\",\n",
        "    \"Max\", \"Nmax\", \"Nzeros\", \"Mode\",\n",
        "    \"Mean\", \"Median\", \"Variance\"\n",
        "]\n",
        "\n",
        "custom_dtpes = { \n",
        "    **{ col: \"bool\" for col in bool_vars }, \n",
        "    **{ col: \"category\" for col in cat_vars},\n",
        "    **{ col: \"float32\" for col in num_vars}\n",
        "}"
      ]
    },
    {
      "cell_type": "markdown",
      "metadata": {
        "id": "gNH-VVbojTCL"
      },
      "source": [
        "Possiamo quindi procedere a leggere nuovamente il Data Frame, specificando i tipi delle colonne."
      ]
    },
    {
      "cell_type": "code",
      "execution_count": 6,
      "metadata": {
        "id": "ONo7sYFojTCM"
      },
      "outputs": [],
      "source": [
        "raw_df = pd.read_csv(\"https://raw.githubusercontent.com/S-furi/CardioML/main/data/ctg.csv\", delimiter=';', dtype=custom_dtpes, decimal=',')"
      ]
    },
    {
      "cell_type": "code",
      "execution_count": 7,
      "metadata": {
        "colab": {
          "base_uri": "https://localhost:8080/"
        },
        "id": "P4s1VntCjTCM",
        "outputId": "95455cfc-a01e-4cc2-ff5f-75481791b0f0"
      },
      "outputs": [
        {
          "output_type": "stream",
          "name": "stdout",
          "text": [
            "<class 'pandas.core.frame.DataFrame'>\n",
            "RangeIndex: 2126 entries, 0 to 2125\n",
            "Data columns (total 40 columns):\n",
            " #   Column    Non-Null Count  Dtype   \n",
            "---  ------    --------------  -----   \n",
            " 0   FileName  2126 non-null   object  \n",
            " 1   Date      2126 non-null   object  \n",
            " 2   SegFile   2126 non-null   object  \n",
            " 3   b         2126 non-null   float32 \n",
            " 4   e         2126 non-null   float32 \n",
            " 5   LBE       2126 non-null   float32 \n",
            " 6   LB        2126 non-null   float32 \n",
            " 7   AC        2126 non-null   float32 \n",
            " 8   FM        2126 non-null   float32 \n",
            " 9   UC        2126 non-null   float32 \n",
            " 10  ASTV      2126 non-null   float32 \n",
            " 11  MSTV      2126 non-null   float32 \n",
            " 12  ALTV      2126 non-null   float32 \n",
            " 13  MLTV      2126 non-null   float32 \n",
            " 14  DL        2126 non-null   float32 \n",
            " 15  DS        2126 non-null   float32 \n",
            " 16  DP        2126 non-null   float32 \n",
            " 17  DR        2126 non-null   float32 \n",
            " 18  Width     2126 non-null   float32 \n",
            " 19  Min       2126 non-null   float32 \n",
            " 20  Max       2126 non-null   float32 \n",
            " 21  Nmax      2126 non-null   float32 \n",
            " 22  Nzeros    2126 non-null   float32 \n",
            " 23  Mode      2126 non-null   float32 \n",
            " 24  Mean      2126 non-null   float32 \n",
            " 25  Median    2126 non-null   float32 \n",
            " 26  Variance  2126 non-null   float32 \n",
            " 27  Tendency  2126 non-null   category\n",
            " 28  A         2126 non-null   bool    \n",
            " 29  B         2126 non-null   bool    \n",
            " 30  C         2126 non-null   bool    \n",
            " 31  D         2126 non-null   bool    \n",
            " 32  E         2126 non-null   int64   \n",
            " 33  AD        2126 non-null   bool    \n",
            " 34  DE        2126 non-null   bool    \n",
            " 35  LD        2126 non-null   bool    \n",
            " 36  FS        2126 non-null   bool    \n",
            " 37  SUSP      2126 non-null   bool    \n",
            " 38  CLASS     2126 non-null   category\n",
            " 39  NSP       2126 non-null   category\n",
            "dtypes: bool(9), category(3), float32(24), int64(1), object(3)\n",
            "memory usage: 660.6 KB\n"
          ]
        }
      ],
      "source": [
        "raw_df.info(memory_usage=\"deep\")"
      ]
    },
    {
      "cell_type": "markdown",
      "metadata": {
        "id": "XX7Cdlk1jTCM"
      },
      "source": [
        "In questo modo, abbiamo ridotto di quasi la metà la quantità di memoria utilizzata per mantenere il dataset."
      ]
    },
    {
      "cell_type": "markdown",
      "metadata": {
        "id": "s0gowddBjTCN"
      },
      "source": [
        "I nomi utilizzati nel dataset non risultano molto esplicativi, perciò mappiamo i nomi di aclune colonne in nomi più esplicativi."
      ]
    },
    {
      "cell_type": "code",
      "execution_count": 8,
      "metadata": {
        "id": "ekZlw_6ZjTCN"
      },
      "outputs": [],
      "source": [
        "col_names = {\n",
        "    \"FileName\": \"file_name\",\n",
        "    \"Date\": \"date\",\n",
        "    \"SegFile\": \"seg_file\",\n",
        "    \"b\": \"start_instant\",\n",
        "    \"e\": \"end_instant\",\n",
        "    \"LBE\": \"medical_baseline\",\n",
        "    \"LB\": \"sisproto_baseline\",\n",
        "    \"AC\": \"heart_acc\",\n",
        "    \"FM\": \"foetal_move\",\n",
        "    \"UC\": \"utherine_contract\",\n",
        "    \"ASTV\": \"pct_short_variability\",\n",
        "    \"MSTV\": \"mean_short_variability\",\n",
        "    \"ALTV\": \"pct_long_variability\",\n",
        "    \"MLTV\": \"mean_long_variability\",\n",
        "    \"DL\": \"light_dec\",\n",
        "    \"DS\": \"severe_dec\",\n",
        "    \"DP\": \"prolongued_dec\",\n",
        "    \"DR\": \"repetitive_dec\",\n",
        "    \"A\": \"calm_sleep\",\n",
        "    \"B\": \"rem_sleep\",\n",
        "    \"C\": \"calm_vigilance\",\n",
        "    \"D\": \"active_vigilance\",\n",
        "    \"AD\": \"acc_pattern_stress\", # negativo se pattern in decelerazione\n",
        "    \"DE\": \"dec_pattern_vagal\",\n",
        "    \"LD\": \"largely_dec\",\n",
        "    \"FS\": \"patho_flat_sinusoidal\",\n",
        "    \"SUSP\": \"suspect\"\n",
        "}"
      ]
    },
    {
      "cell_type": "code",
      "execution_count": 9,
      "metadata": {
        "id": "rLYx4-y-jTCN"
      },
      "outputs": [],
      "source": [
        "bool_vars_low = [\n",
        "    \"calm_sleep\", \"rem_sleep\", \"calm_vigilance\", \"active_vigilance\",\n",
        "    \"acc_pattern_stress\", \"dec_pattern_vagal\", \"largely_dec\", \"patho_flat_sinusoidal\", \"suspect\"\n",
        "]\n",
        "cat_vars_low = [\n",
        "    \"class\", \"nsp\", \"tendency\"\n",
        "]\n",
        "num_vars_low = [\n",
        "    \"start_instant\", \"end_instant\", \"medical_baseline\", \"sisproto_baseline\", \"heart_acc\",\n",
        "    \"foetal_move\", \"utherine_contract\", \"pct_short_variability\",\n",
        "    \"mean_short_variability\", \"pct_long_variability\", \"mean_long_variability\", \"light_dec\",\n",
        "    \"severe_dec\", \"prolongued_dec\", \"repetitive_dec\", \"width\", \"min\",\n",
        "    \"max\", \"nmax\", \"nzeros\", \"mode\",\n",
        "    \"mean\", \"median\", \"variance\"\n",
        "]"
      ]
    },
    {
      "cell_type": "code",
      "execution_count": 10,
      "metadata": {
        "colab": {
          "base_uri": "https://localhost:8080/"
        },
        "id": "zdzl_-3cjTCO",
        "outputId": "6b62ad8f-968c-44d1-8fda-d11f6daed77d"
      },
      "outputs": [
        {
          "output_type": "execute_result",
          "data": {
            "text/plain": [
              "Index(['file_name', 'date', 'seg_file', 'start_instant', 'end_instant',\n",
              "       'medical_baseline', 'sisproto_baseline', 'heart_acc', 'foetal_move',\n",
              "       'utherine_contract', 'pct_short_variability', 'mean_short_variability',\n",
              "       'pct_long_variability', 'mean_long_variability', 'light_dec',\n",
              "       'severe_dec', 'prolongued_dec', 'repetitive_dec', 'width', 'min', 'max',\n",
              "       'nmax', 'nzeros', 'mode', 'mean', 'median', 'variance', 'tendency',\n",
              "       'calm_sleep', 'rem_sleep', 'calm_vigilance', 'active_vigilance', 'e',\n",
              "       'acc_pattern_stress', 'dec_pattern_vagal', 'largely_dec',\n",
              "       'patho_flat_sinusoidal', 'suspect', 'class', 'nsp'],\n",
              "      dtype='object')"
            ]
          },
          "metadata": {},
          "execution_count": 10
        }
      ],
      "source": [
        "raw_df.rename(columns=col_names, inplace=True)\n",
        "raw_df.columns = raw_df.columns.str.lower()\n",
        "raw_df.columns"
      ]
    },
    {
      "cell_type": "markdown",
      "metadata": {
        "id": "cQXwdguZjTCO"
      },
      "source": [
        "Otteniamo quindi un dataset con le colonne ben formattate"
      ]
    },
    {
      "cell_type": "code",
      "execution_count": 11,
      "metadata": {
        "colab": {
          "base_uri": "https://localhost:8080/",
          "height": 297
        },
        "id": "6CEbh2hNjTCO",
        "outputId": "47edb4d9-3608-48cb-bb6c-817e49cdf2fd"
      },
      "outputs": [
        {
          "output_type": "execute_result",
          "data": {
            "text/plain": [
              "      file_name      date     seg_file  start_instant  end_instant  \\\n",
              "0  Variab10.txt  01/12/96  CTG0001.txt          240.0        357.0   \n",
              "1    Fmcs_1.txt  03/05/96  CTG0002.txt            5.0        632.0   \n",
              "2    Fmcs_1.txt  03/05/96  CTG0003.txt          177.0        779.0   \n",
              "3    Fmcs_1.txt  03/05/96  CTG0004.txt          411.0       1192.0   \n",
              "4    Fmcs_1.txt  03/05/96  CTG0005.txt          533.0       1147.0   \n",
              "\n",
              "   medical_baseline  sisproto_baseline  heart_acc  foetal_move  \\\n",
              "0             120.0              120.0        0.0          0.0   \n",
              "1             132.0              132.0        4.0          0.0   \n",
              "2             133.0              133.0        2.0          0.0   \n",
              "3             134.0              134.0        2.0          0.0   \n",
              "4             132.0              132.0        4.0          0.0   \n",
              "\n",
              "   utherine_contract  ...  calm_vigilance  active_vigilance  e  \\\n",
              "0                0.0  ...           False             False  0   \n",
              "1                4.0  ...           False             False  0   \n",
              "2                5.0  ...           False             False  0   \n",
              "3                6.0  ...           False             False  0   \n",
              "4                5.0  ...           False             False  0   \n",
              "\n",
              "   acc_pattern_stress  dec_pattern_vagal  largely_dec  patho_flat_sinusoidal  \\\n",
              "0               False              False        False                   True   \n",
              "1                True              False        False                  False   \n",
              "2                True              False        False                  False   \n",
              "3                True              False        False                  False   \n",
              "4               False              False        False                  False   \n",
              "\n",
              "   suspect  class  nsp  \n",
              "0    False      9    2  \n",
              "1    False      6    1  \n",
              "2    False      6    1  \n",
              "3    False      6    1  \n",
              "4    False      2    1  \n",
              "\n",
              "[5 rows x 40 columns]"
            ],
            "text/html": [
              "\n",
              "  <div id=\"df-cce253df-0d97-4f8e-8117-112f481b41e6\">\n",
              "    <div class=\"colab-df-container\">\n",
              "      <div>\n",
              "<style scoped>\n",
              "    .dataframe tbody tr th:only-of-type {\n",
              "        vertical-align: middle;\n",
              "    }\n",
              "\n",
              "    .dataframe tbody tr th {\n",
              "        vertical-align: top;\n",
              "    }\n",
              "\n",
              "    .dataframe thead th {\n",
              "        text-align: right;\n",
              "    }\n",
              "</style>\n",
              "<table border=\"1\" class=\"dataframe\">\n",
              "  <thead>\n",
              "    <tr style=\"text-align: right;\">\n",
              "      <th></th>\n",
              "      <th>file_name</th>\n",
              "      <th>date</th>\n",
              "      <th>seg_file</th>\n",
              "      <th>start_instant</th>\n",
              "      <th>end_instant</th>\n",
              "      <th>medical_baseline</th>\n",
              "      <th>sisproto_baseline</th>\n",
              "      <th>heart_acc</th>\n",
              "      <th>foetal_move</th>\n",
              "      <th>utherine_contract</th>\n",
              "      <th>...</th>\n",
              "      <th>calm_vigilance</th>\n",
              "      <th>active_vigilance</th>\n",
              "      <th>e</th>\n",
              "      <th>acc_pattern_stress</th>\n",
              "      <th>dec_pattern_vagal</th>\n",
              "      <th>largely_dec</th>\n",
              "      <th>patho_flat_sinusoidal</th>\n",
              "      <th>suspect</th>\n",
              "      <th>class</th>\n",
              "      <th>nsp</th>\n",
              "    </tr>\n",
              "  </thead>\n",
              "  <tbody>\n",
              "    <tr>\n",
              "      <th>0</th>\n",
              "      <td>Variab10.txt</td>\n",
              "      <td>01/12/96</td>\n",
              "      <td>CTG0001.txt</td>\n",
              "      <td>240.0</td>\n",
              "      <td>357.0</td>\n",
              "      <td>120.0</td>\n",
              "      <td>120.0</td>\n",
              "      <td>0.0</td>\n",
              "      <td>0.0</td>\n",
              "      <td>0.0</td>\n",
              "      <td>...</td>\n",
              "      <td>False</td>\n",
              "      <td>False</td>\n",
              "      <td>0</td>\n",
              "      <td>False</td>\n",
              "      <td>False</td>\n",
              "      <td>False</td>\n",
              "      <td>True</td>\n",
              "      <td>False</td>\n",
              "      <td>9</td>\n",
              "      <td>2</td>\n",
              "    </tr>\n",
              "    <tr>\n",
              "      <th>1</th>\n",
              "      <td>Fmcs_1.txt</td>\n",
              "      <td>03/05/96</td>\n",
              "      <td>CTG0002.txt</td>\n",
              "      <td>5.0</td>\n",
              "      <td>632.0</td>\n",
              "      <td>132.0</td>\n",
              "      <td>132.0</td>\n",
              "      <td>4.0</td>\n",
              "      <td>0.0</td>\n",
              "      <td>4.0</td>\n",
              "      <td>...</td>\n",
              "      <td>False</td>\n",
              "      <td>False</td>\n",
              "      <td>0</td>\n",
              "      <td>True</td>\n",
              "      <td>False</td>\n",
              "      <td>False</td>\n",
              "      <td>False</td>\n",
              "      <td>False</td>\n",
              "      <td>6</td>\n",
              "      <td>1</td>\n",
              "    </tr>\n",
              "    <tr>\n",
              "      <th>2</th>\n",
              "      <td>Fmcs_1.txt</td>\n",
              "      <td>03/05/96</td>\n",
              "      <td>CTG0003.txt</td>\n",
              "      <td>177.0</td>\n",
              "      <td>779.0</td>\n",
              "      <td>133.0</td>\n",
              "      <td>133.0</td>\n",
              "      <td>2.0</td>\n",
              "      <td>0.0</td>\n",
              "      <td>5.0</td>\n",
              "      <td>...</td>\n",
              "      <td>False</td>\n",
              "      <td>False</td>\n",
              "      <td>0</td>\n",
              "      <td>True</td>\n",
              "      <td>False</td>\n",
              "      <td>False</td>\n",
              "      <td>False</td>\n",
              "      <td>False</td>\n",
              "      <td>6</td>\n",
              "      <td>1</td>\n",
              "    </tr>\n",
              "    <tr>\n",
              "      <th>3</th>\n",
              "      <td>Fmcs_1.txt</td>\n",
              "      <td>03/05/96</td>\n",
              "      <td>CTG0004.txt</td>\n",
              "      <td>411.0</td>\n",
              "      <td>1192.0</td>\n",
              "      <td>134.0</td>\n",
              "      <td>134.0</td>\n",
              "      <td>2.0</td>\n",
              "      <td>0.0</td>\n",
              "      <td>6.0</td>\n",
              "      <td>...</td>\n",
              "      <td>False</td>\n",
              "      <td>False</td>\n",
              "      <td>0</td>\n",
              "      <td>True</td>\n",
              "      <td>False</td>\n",
              "      <td>False</td>\n",
              "      <td>False</td>\n",
              "      <td>False</td>\n",
              "      <td>6</td>\n",
              "      <td>1</td>\n",
              "    </tr>\n",
              "    <tr>\n",
              "      <th>4</th>\n",
              "      <td>Fmcs_1.txt</td>\n",
              "      <td>03/05/96</td>\n",
              "      <td>CTG0005.txt</td>\n",
              "      <td>533.0</td>\n",
              "      <td>1147.0</td>\n",
              "      <td>132.0</td>\n",
              "      <td>132.0</td>\n",
              "      <td>4.0</td>\n",
              "      <td>0.0</td>\n",
              "      <td>5.0</td>\n",
              "      <td>...</td>\n",
              "      <td>False</td>\n",
              "      <td>False</td>\n",
              "      <td>0</td>\n",
              "      <td>False</td>\n",
              "      <td>False</td>\n",
              "      <td>False</td>\n",
              "      <td>False</td>\n",
              "      <td>False</td>\n",
              "      <td>2</td>\n",
              "      <td>1</td>\n",
              "    </tr>\n",
              "  </tbody>\n",
              "</table>\n",
              "<p>5 rows × 40 columns</p>\n",
              "</div>\n",
              "      <button class=\"colab-df-convert\" onclick=\"convertToInteractive('df-cce253df-0d97-4f8e-8117-112f481b41e6')\"\n",
              "              title=\"Convert this dataframe to an interactive table.\"\n",
              "              style=\"display:none;\">\n",
              "        \n",
              "  <svg xmlns=\"http://www.w3.org/2000/svg\" height=\"24px\"viewBox=\"0 0 24 24\"\n",
              "       width=\"24px\">\n",
              "    <path d=\"M0 0h24v24H0V0z\" fill=\"none\"/>\n",
              "    <path d=\"M18.56 5.44l.94 2.06.94-2.06 2.06-.94-2.06-.94-.94-2.06-.94 2.06-2.06.94zm-11 1L8.5 8.5l.94-2.06 2.06-.94-2.06-.94L8.5 2.5l-.94 2.06-2.06.94zm10 10l.94 2.06.94-2.06 2.06-.94-2.06-.94-.94-2.06-.94 2.06-2.06.94z\"/><path d=\"M17.41 7.96l-1.37-1.37c-.4-.4-.92-.59-1.43-.59-.52 0-1.04.2-1.43.59L10.3 9.45l-7.72 7.72c-.78.78-.78 2.05 0 2.83L4 21.41c.39.39.9.59 1.41.59.51 0 1.02-.2 1.41-.59l7.78-7.78 2.81-2.81c.8-.78.8-2.07 0-2.86zM5.41 20L4 18.59l7.72-7.72 1.47 1.35L5.41 20z\"/>\n",
              "  </svg>\n",
              "      </button>\n",
              "      \n",
              "  <style>\n",
              "    .colab-df-container {\n",
              "      display:flex;\n",
              "      flex-wrap:wrap;\n",
              "      gap: 12px;\n",
              "    }\n",
              "\n",
              "    .colab-df-convert {\n",
              "      background-color: #E8F0FE;\n",
              "      border: none;\n",
              "      border-radius: 50%;\n",
              "      cursor: pointer;\n",
              "      display: none;\n",
              "      fill: #1967D2;\n",
              "      height: 32px;\n",
              "      padding: 0 0 0 0;\n",
              "      width: 32px;\n",
              "    }\n",
              "\n",
              "    .colab-df-convert:hover {\n",
              "      background-color: #E2EBFA;\n",
              "      box-shadow: 0px 1px 2px rgba(60, 64, 67, 0.3), 0px 1px 3px 1px rgba(60, 64, 67, 0.15);\n",
              "      fill: #174EA6;\n",
              "    }\n",
              "\n",
              "    [theme=dark] .colab-df-convert {\n",
              "      background-color: #3B4455;\n",
              "      fill: #D2E3FC;\n",
              "    }\n",
              "\n",
              "    [theme=dark] .colab-df-convert:hover {\n",
              "      background-color: #434B5C;\n",
              "      box-shadow: 0px 1px 3px 1px rgba(0, 0, 0, 0.15);\n",
              "      filter: drop-shadow(0px 1px 2px rgba(0, 0, 0, 0.3));\n",
              "      fill: #FFFFFF;\n",
              "    }\n",
              "  </style>\n",
              "\n",
              "      <script>\n",
              "        const buttonEl =\n",
              "          document.querySelector('#df-cce253df-0d97-4f8e-8117-112f481b41e6 button.colab-df-convert');\n",
              "        buttonEl.style.display =\n",
              "          google.colab.kernel.accessAllowed ? 'block' : 'none';\n",
              "\n",
              "        async function convertToInteractive(key) {\n",
              "          const element = document.querySelector('#df-cce253df-0d97-4f8e-8117-112f481b41e6');\n",
              "          const dataTable =\n",
              "            await google.colab.kernel.invokeFunction('convertToInteractive',\n",
              "                                                     [key], {});\n",
              "          if (!dataTable) return;\n",
              "\n",
              "          const docLinkHtml = 'Like what you see? Visit the ' +\n",
              "            '<a target=\"_blank\" href=https://colab.research.google.com/notebooks/data_table.ipynb>data table notebook</a>'\n",
              "            + ' to learn more about interactive tables.';\n",
              "          element.innerHTML = '';\n",
              "          dataTable['output_type'] = 'display_data';\n",
              "          await google.colab.output.renderOutput(dataTable, element);\n",
              "          const docLink = document.createElement('div');\n",
              "          docLink.innerHTML = docLinkHtml;\n",
              "          element.appendChild(docLink);\n",
              "        }\n",
              "      </script>\n",
              "    </div>\n",
              "  </div>\n",
              "  "
            ]
          },
          "metadata": {},
          "execution_count": 11
        }
      ],
      "source": [
        "raw_df.head(5)"
      ]
    },
    {
      "cell_type": "markdown",
      "metadata": {
        "id": "Bq-9P0ssjTCO"
      },
      "source": [
        "Ai fini dello scopo di questo progetto, le colonne `file_name`, `seg_file` e `date` non risultano particolarmente utili per la creazione di modelli predittivi."
      ]
    },
    {
      "cell_type": "code",
      "execution_count": 12,
      "metadata": {
        "id": "tt9kn7RDjTCP"
      },
      "outputs": [],
      "source": [
        "df = raw_df.drop(columns=['file_name', 'date', 'seg_file'])"
      ]
    },
    {
      "cell_type": "markdown",
      "metadata": {
        "id": "Ke4wUPkmjTCP"
      },
      "source": [
        "Il dataset è ora utilizzabile per procedere con l'analisi esplorativa."
      ]
    },
    {
      "cell_type": "markdown",
      "metadata": {
        "id": "c6cB5pqrjTCP"
      },
      "source": [
        "## Analisi Esplorativa"
      ]
    },
    {
      "cell_type": "markdown",
      "metadata": {
        "id": "FuO5DrwGjTCP"
      },
      "source": [
        "Possiamo rapidamente vedere quali variabili del dataset hanno correlazione maggiore, per poter poi comprendere come effettivamente alcuni valori possano influenzare altri. Utilizziamo quindi l'indice di correlazione di Pearson."
      ]
    },
    {
      "cell_type": "code",
      "execution_count": 13,
      "metadata": {
        "colab": {
          "base_uri": "https://localhost:8080/",
          "height": 779
        },
        "id": "hblxW-VrjTCP",
        "outputId": "536669bf-bcee-460e-dbdf-18a21ba10d4d"
      },
      "outputs": [
        {
          "output_type": "stream",
          "name": "stderr",
          "text": [
            "<ipython-input-13-e90dc83d269b>:1: FutureWarning: The default value of numeric_only in DataFrame.corr is deprecated. In a future version, it will default to False. Select only valid columns or specify the value of numeric_only to silence this warning.\n",
            "  corr_matrix = df.drop(columns=['min', 'mean', 'max','nmax', 'mode', 'median']) \\\n"
          ]
        },
        {
          "output_type": "execute_result",
          "data": {
            "text/plain": [
              "Text(0.5, 1.0, 'Correlation Matrix Heatmap')"
            ]
          },
          "metadata": {},
          "execution_count": 13
        },
        {
          "output_type": "display_data",
          "data": {
            "text/plain": [
              "<Figure size 800x600 with 2 Axes>"
            ],
            "image/png": "[encoded data removed]"
          },
          "metadata": {}
        }
      ],
      "source": [
        "corr_matrix = df.drop(columns=['min', 'mean', 'max','nmax', 'mode', 'median']) \\\n",
        "    .corr(method=\"pearson\")\n",
        "\n",
        "plt.figure(figsize=(8, 6))\n",
        "sns.heatmap(corr_matrix, cmap=\"coolwarm\")\n",
        "plt.title(\"Correlation Matrix Heatmap\")"
      ]
    },
    {
      "cell_type": "markdown",
      "metadata": {
        "id": "RQStGVBMjTCP"
      },
      "source": [
        "La *heatmap* mostra come alcune variabili vengano influenzate tra di loro (correlazione). \n",
        "È importante notare come la correlazione non implichi sempre relazioni di causa-effetto, ma piusttosto come due variabili possano verificarsi insieme o influenzarsi reciprocamente. \n",
        "\n",
        "\n",
        "**largely_dec** e **prolongued_dec**: correlazione di 0.7578\n",
        "Notiamo una relazione positiva tra la diminuzione significativa (largely_dec) e la diminuzione prolungata (prolongued_dec). Questa relazione può essere di particolare interesse nella valutazione della salute fetale, poiché una diminuzione significativa prolungata potrebbe essere associata a condizioni di stress o anomalie nel tracciato cardiografico.\n",
        "\n",
        "**width** e **mean_short_variability**: correlazione di 0.6608\n",
        "Questa correlazione moderatamente alta suggerisce una relazione positiva tra la larghezza (width) e la variabilità media a breve termine (mean_short_variability). Ciò potrebbe essere interessante da un punto di vista clinico, poiché un aumento della larghezza potrebbe essere associato a una maggiore variabilità nelle misurazioni cardiografiche a breve termine.\n",
        "\n",
        "**variance** e **mean_short_variability**: correlazione di 0.5559\n",
        "Questa correlazione moderata indica una relazione positiva tra la varianza (variance) e la variabilità media a breve termine (mean_short_variability). Ciò suggerisce che un aumento della varianza potrebbe essere associato a un aumento della variabilità nelle misurazioni cardiografiche a breve termine."
      ]
    },
    {
      "cell_type": "code",
      "execution_count": 14,
      "metadata": {
        "colab": {
          "base_uri": "https://localhost:8080/",
          "height": 559
        },
        "id": "fin8xY8sb3pN",
        "outputId": "f32cbe09-cac3-45a6-f85d-21f55510d186"
      },
      "outputs": [
        {
          "output_type": "execute_result",
          "data": {
            "text/plain": [
              "([<matplotlib.patches.Wedge at 0x7f634b48b6a0>,\n",
              "  <matplotlib.patches.Wedge at 0x7f634d4edd50>,\n",
              "  <matplotlib.patches.Wedge at 0x7f634b2cc2b0>],\n",
              " [Text(-0.8441562311892146, 0.7052660897451555, 'normal'),\n",
              "  Text(0.6344062353380878, -0.8986260226390926, 'suspect'),\n",
              "  Text(1.0630076905865578, -0.28286860863983, 'pathological')],\n",
              " [Text(-0.4604488533759351, 0.38469059440644837, '78%'),\n",
              "  Text(0.3460397647298661, -0.4901596487122323, '14%'),\n",
              "  Text(0.5798223766835768, -0.15429196834899814, '8%')])"
            ]
          },
          "metadata": {},
          "execution_count": 14
        },
        {
          "output_type": "display_data",
          "data": {
            "text/plain": [
              "<Figure size 640x480 with 1 Axes>"
            ],
            "image/png": "[encoded data removed]"
          },
          "metadata": {}
        }
      ],
      "source": [
        "keys = ['normal', 'suspect', 'pathological']\n",
        "palette_color = sns.color_palette('pastel')\n",
        "\n",
        "plt.pie(df['nsp'].value_counts(), labels=keys, colors=palette_color, autopct='%.0f%%')"
      ]
    },
    {
      "cell_type": "markdown",
      "metadata": {
        "id": "jaNg9s-ZjTCP"
      },
      "source": [
        "Come si può notare dalla heatmap, esiste una una forte correlazione tra la variabile `width` e `mean_short_variability`, pari a:"
      ]
    },
    {
      "cell_type": "code",
      "execution_count": 15,
      "metadata": {
        "colab": {
          "base_uri": "https://localhost:8080/"
        },
        "id": "VNVvqmqejTCQ",
        "outputId": "7e57091e-e921-4f69-f04a-9e7d15e8c37a"
      },
      "outputs": [
        {
          "output_type": "execute_result",
          "data": {
            "text/plain": [
              "0.6608467767745067"
            ]
          },
          "metadata": {},
          "execution_count": 15
        }
      ],
      "source": [
        "corr_matrix['width']['mean_short_variability']"
      ]
    },
    {
      "cell_type": "code",
      "execution_count": 16,
      "metadata": {
        "colab": {
          "base_uri": "https://localhost:8080/",
          "height": 475
        },
        "id": "48u0WI1VjTCQ",
        "outputId": "3a83868a-fec6-4f0f-c305-a0a6326bc47b"
      },
      "outputs": [
        {
          "output_type": "execute_result",
          "data": {
            "text/plain": [
              "<Axes: xlabel='width', ylabel='mean_short_variability'>"
            ]
          },
          "metadata": {},
          "execution_count": 16
        },
        {
          "output_type": "display_data",
          "data": {
            "text/plain": [
              "<Figure size 640x480 with 1 Axes>"
            ],
            "image/png": "[encoded data removed]"
          },
          "metadata": {}
        }
      ],
      "source": [
        "sns.scatterplot(data=df, x='width', y='mean_short_variability', hue='nsp', palette=['#6c9a8b', '#ffc914', '#d62828'])"
      ]
    },
    {
      "cell_type": "markdown",
      "metadata": {
        "id": "6wtpG-rXjTCQ"
      },
      "source": [
        "La **\"width\"** rappresenta la durata delle onde nell'attività cardiaca fetale registrata. Potrebbe essere calcolata come la durata dell'onda P, la durata dell'onda QRS o altre onde specifiche nell'ECG fetale. La larghezza dell'onda ci permette di ottenere delle informazioni riguardo la conducibilità e sulla morfologia dell'attività cardiaca del neonato.\n",
        "\n",
        "La **\"mean_short_variability\"** rappresenta invece la variabilità media a breve termine dell'attività cardiaca fetale. Questa variabile fa riferimento alla fluttuazione delle frequenze cardiache nel breve termine, calcolata come i battiti cardiaci consecutivi nell'arco di pochi minuti. La grande variabilità a breve termine è considerata un fattore di salute del neonato, dal momento in cui la variabilità è associata ad una migliore adattabilità del feto.\n",
        "\n",
        "Da come si può vedere in questo grafico vi è una piccola regione in cui sono condensati una grande quantità di casi **patologici**, quando si ha il *mean_short_variability* compreso tra 1.70 circa e la *width* compresa tra 80 e 130 circa. "
      ]
    },
    {
      "cell_type": "markdown",
      "metadata": {
        "id": "StlOXHGmjTCQ"
      },
      "source": [
        "Possiamo individuare una associazione moderata tra `mean_short_variability` e `variance`, in particolare il loro indice di correlazione è pari a:"
      ]
    },
    {
      "cell_type": "code",
      "execution_count": 17,
      "metadata": {
        "colab": {
          "base_uri": "https://localhost:8080/"
        },
        "id": "ysZUEEx6jTCQ",
        "outputId": "81ad0c0a-6329-4134-f9ac-9766400240ad"
      },
      "outputs": [
        {
          "output_type": "execute_result",
          "data": {
            "text/plain": [
              "0.5558524410341099"
            ]
          },
          "metadata": {},
          "execution_count": 17
        }
      ],
      "source": [
        "corr_matrix['mean_short_variability']['variance']"
      ]
    },
    {
      "cell_type": "code",
      "execution_count": 18,
      "metadata": {
        "colab": {
          "base_uri": "https://localhost:8080/",
          "height": 475
        },
        "id": "PVrQvW6ojTCQ",
        "outputId": "50620a39-824e-4e44-bd3d-63eabee33070"
      },
      "outputs": [
        {
          "output_type": "execute_result",
          "data": {
            "text/plain": [
              "<Axes: xlabel='mean_short_variability', ylabel='variance'>"
            ]
          },
          "metadata": {},
          "execution_count": 18
        },
        {
          "output_type": "display_data",
          "data": {
            "text/plain": [
              "<Figure size 640x480 with 1 Axes>"
            ],
            "image/png": "[encoded data removed]"
          },
          "metadata": {}
        }
      ],
      "source": [
        "sns.scatterplot(data=df, x='mean_short_variability', y='variance', hue='nsp', palette=['#6c9a8b', '#ffc914', '#d62828'])"
      ]
    },
    {
      "cell_type": "markdown",
      "metadata": {
        "id": "wvyfekEajTCR"
      },
      "source": [
        "La **\"variance\"** è una misura statistica che rappresenta la dispersione dei dati intorno alla media.\n",
        "\n",
        "Una *correlazione positiva* tra queste due variabili suggerisce che una maggiore *\"variance\"* è associata a una maggiore *\"mean_short_variability\"*. Ciò indica che le oscillazioni nella frequenza cardiaca fetale sono più variabili e presentano una maggiore dispersione intorno alla media durante il breve periodo di analisi.\n",
        "\n",
        "La concentrazione principale dei casi \"normal\" (NSP) può variare a seconda dei dati specifici e delle caratteristiche del campione cardiotocografico analizzato. Tuttavia, in generale, si potrebbe osservare che i casi \"normal\" si concentrano in un intervallo di valori più bassi per entrambe le variabili. Ad esempio, potrebbero essere comuni valori di variance compresi tra 0 e 50 e valori di mean_short_variability tra 0 e 3 per i casi \"normal\".\n",
        "\n",
        "D'altra parte, la concentrazione dei casi \"patologici\" (NSP) potrebbe manifestarsi in valori più elevati per entrambe le variabili. Ad esempio, potrebbero essere comuni valori di variance compresi tra 50 e 150 e valori di mean_short_variability compresi tra 1 e 3 per i casi \"patologici\".\n"
      ]
    },
    {
      "cell_type": "markdown",
      "metadata": {
        "id": "CdKKM3WrjTCR"
      },
      "source": [
        "È interessante notare anche l'apparente forte correlazione tra `largely_dec` e `prolongued_dec`, pari a:"
      ]
    },
    {
      "cell_type": "code",
      "execution_count": 19,
      "metadata": {
        "colab": {
          "base_uri": "https://localhost:8080/"
        },
        "id": "y0eZGsVBjTCR",
        "outputId": "cf8fb29c-c6fd-45b4-a311-8146b860acab"
      },
      "outputs": [
        {
          "output_type": "execute_result",
          "data": {
            "text/plain": [
              "0.7577662756421346"
            ]
          },
          "metadata": {},
          "execution_count": 19
        }
      ],
      "source": [
        "corr_matrix['largely_dec']['prolongued_dec']"
      ]
    },
    {
      "cell_type": "markdown",
      "metadata": {
        "id": "iOsp3IhbjTCR"
      },
      "source": [
        "Possiamo quindi effettuare un grafico per visualizzare la distribuzione dei valori (diagonale) e come si presenta l'output di `NSP` in base alla distribuzione dei due valori"
      ]
    },
    {
      "cell_type": "code",
      "execution_count": 20,
      "metadata": {
        "colab": {
          "base_uri": "https://localhost:8080/",
          "height": 527
        },
        "id": "9jdLtnl7jTCR",
        "outputId": "85e8a422-c52a-40c5-af31-ff981986174c"
      },
      "outputs": [
        {
          "output_type": "execute_result",
          "data": {
            "text/plain": [
              "<seaborn.axisgrid.PairGrid at 0x7f6349750b80>"
            ]
          },
          "metadata": {},
          "execution_count": 20
        },
        {
          "output_type": "display_data",
          "data": {
            "text/plain": [
              "<Figure size 564.75x500 with 6 Axes>"
            ],
            "image/png": "[encoded data removed]"
          },
          "metadata": {}
        }
      ],
      "source": [
        "sns.pairplot(data=df, vars=['largely_dec', 'prolongued_dec'], hue='nsp',\n",
        "             palette=['#6c9a8b', '#ffc914', '#d62828'],\n",
        "             diag_kind=\"kde\", plot_kws={'alpha': 0.6, 's': 30})"
      ]
    },
    {
      "cell_type": "markdown",
      "metadata": {
        "id": "-C4PHMUzjTCR"
      },
      "source": [
        "Per quanto le variabili risultano piuttosto correlate, questo potrebbe non indicare una diretta relazione di cause-effetto tra le due variabili. In particolare, essendo entrambe misure ricavate da momenti di decelerazione, la loro forte correlazione può piuttosto indicare come queste variabili possano verificarsi durante lo stesso fenomeno.\n",
        "\n",
        "È però degno di nota come la variabile `NSP` sia sul livello di *pathological* quando la variabile booleana `largely_dec` sia impostata a 1, per ogni valore di `prolongued_dec`, mentre quando a 0, si può notare per valori superiori a 2 di `prolongued_dec` un comportamento sospetto."
      ]
    },
    {
      "cell_type": "markdown",
      "metadata": {
        "id": "OPMXMnevjTCR"
      },
      "source": [
        "## Modelli predittivi"
      ]
    },
    {
      "cell_type": "code",
      "execution_count": 56,
      "metadata": {
        "id": "YPFaXRQFjTCR"
      },
      "outputs": [],
      "source": [
        "from sklearn.model_selection import train_test_split\n",
        "from sklearn.preprocessing import StandardScaler, MinMaxScaler\n",
        "from sklearn.metrics import mean_squared_error, r2_score\n",
        "from sklearn.pipeline import Pipeline\n",
        "from sklearn.tree import plot_tree\n",
        "from sklearn.model_selection import GridSearchCV"
      ]
    },
    {
      "cell_type": "markdown",
      "metadata": {
        "id": "dcvzfUBvjgS4"
      },
      "source": [
        "Root Mean Squared Percentage Error "
      ]
    },
    {
      "cell_type": "code",
      "execution_count": 22,
      "metadata": {
        "id": "DuQGw3hbjTCR"
      },
      "outputs": [],
      "source": [
        "def rmspe(y_real, y_pred):\n",
        "    return np.sqrt(np.mean((y_pred /y_real - 1) ** 2))"
      ]
    },
    {
      "cell_type": "markdown",
      "metadata": {
        "id": "1hUgwJpojiNC"
      },
      "source": [
        "DESCRIVERE I VARI MODELLI E A COSA SERVONO"
      ]
    },
    {
      "cell_type": "code",
      "execution_count": 23,
      "metadata": {
        "id": "JX-hFcc0jTCS"
      },
      "outputs": [],
      "source": [
        "def print_eval(X, y, model):\n",
        "    y_pred = model.predict(X)\n",
        "    print(f\"      MSE: {mean_squared_error(y, y_pred):12.4f}\")\n",
        "    print(f\"R-squared: {r2_score(y, y_pred):12.4f}\")\n",
        "    print(f\"    RMSPE: {rmspe(y, y_pred):12.4f}\")"
      ]
    },
    {
      "cell_type": "markdown",
      "metadata": {
        "id": "iXtqg9IpjTCS"
      },
      "source": [
        "Definiamo ora una nuova funzione che ci permetterà di addestrare il modello attraverso i dati passati in input:\n",
        "*  *X_train*\n",
        "*  *y_train*\n",
        "\n",
        "Una volta che il nostro modello sarà stato addestrato, andremo subito a verificare la sua correttezza tramite la funzione *print_eval*. Questa funzione contiene al suo interno un insieme di calcoli matematici che ci permettono di capire quanto il nostro modello sbagli. "
      ]
    },
    {
      "cell_type": "code",
      "execution_count": 24,
      "metadata": {
        "id": "rSYyLGsKjTCS"
      },
      "outputs": [],
      "source": [
        "def fit_eval_tree(model, X_train, y_train, X_test, y_test):\n",
        "    model.fit(X_train, y_train)\n",
        "    print_eval(X_test, y_test, model=model)"
      ]
    },
    {
      "cell_type": "markdown",
      "metadata": {
        "id": "P9Q8eWddjTCS"
      },
      "source": [
        "### Modelli di studio\n",
        "I modelli con la quale andremo a studiare il nostro dataset sono diversi, tra i tanti disponibili abbiamo deciso di utilizzare:\n",
        "1. *Alberi decisionali*: RandomForestRegressor, DecisionTreeRegressor,  , XGBoost, GradientBoosting, LightGBM\n",
        "2. *Classificazione multiclasse*:One-Vesus-All, Multinomial, SVM  \n",
        "\n",
        "Per ogni modello bisogna commentare i vari valori ottenuti, la cosa ottima è provare anche diverse **depth** nei vari alberi, per quanto riguarda invece la classificazione, se le classi sono molto sbilanciate fornire una spiegazione approfondita di questo problema in quanto noi abbiamo molti NSP uguali a 0, con una conseguente sbilanciatura nel modello, aumentando quindi il peso nelle classi piu sbilanciate"
      ]
    },
    {
      "cell_type": "markdown",
      "metadata": {
        "id": "Xl9P-RoqIDkX"
      },
      "source": [
        "### Alberi Decisionali"
      ]
    },
    {
      "cell_type": "markdown",
      "metadata": {
        "id": "KhSzUKaGaoip"
      },
      "source": [
        "Prima di iniziare a realizzare i diversi modelli di classificazione, partiamo con il definire una funzione, *boosting_hyperparameters*, che ci permetterà di migliorare il nostro algoritmo. All'interno di questa funzione utilizzeremo la **Gried Search**, in modo da trovare i migliori **iper parametri** da utilizzare. "
      ]
    },
    {
      "cell_type": "code",
      "execution_count": 25,
      "metadata": {
        "id": "42rqp8dqUnMi"
      },
      "outputs": [],
      "source": [
        "def boosting_hyperparameters(classifier, params, cv, X_boosting, y_boosting, name):\n",
        "  grid_search = GridSearchCV(classifier, params, cv=cv, scoring='accuracy')\n",
        "  grid_search.fit(X_train if X_boosting is None else X_boosting,\\\n",
        "                  y_train if y_boosting is None else y_boosting)\n",
        "  print(f\"Grid Search: {grid_search}\")\n",
        "  print(f\"Migliori iperparametri per {name}: {grid_search.best_params_}\")\n",
        "  print(f\"Punteggio medio di cross-validation per {name} : {grid_search.best_score_}\\n \\n\")\n",
        "  return grid_search\n"
      ]
    },
    {
      "cell_type": "markdown",
      "metadata": {
        "id": "25fj1gdfIakU"
      },
      "source": [
        "Successivamente a ciò, possiamo iniziare a definire il valori che andremo ad utilizzare per addestrare e validare il nostro modello:\n",
        "1. *X*: E' un data frame, dove all'interno troviamo tutte le colonne, eccetto una, **nsp**\n",
        "2. *y*: E' una serie, composta da un solo valore, **nsp**\n",
        "\n",
        "Queste due variabili verranno utilizzate per generare le *variabili di training* e le *variabili di testing*. "
      ]
    },
    {
      "cell_type": "code",
      "execution_count": 26,
      "metadata": {
        "id": "sqPAlvKkjTCS"
      },
      "outputs": [],
      "source": [
        "df_dropped = df.drop(columns=[\"nsp\"])\n",
        "X = df_dropped\n",
        "y = df[\"nsp\"].astype(int)"
      ]
    },
    {
      "cell_type": "code",
      "execution_count": 27,
      "metadata": {
        "colab": {
          "base_uri": "https://localhost:8080/",
          "height": 297
        },
        "id": "M7x_kFX6daW4",
        "outputId": "17530ffe-2155-4ce2-d1be-59deb3749f79"
      },
      "outputs": [
        {
          "output_type": "execute_result",
          "data": {
            "text/plain": [
              "   start_instant  end_instant  medical_baseline  sisproto_baseline  heart_acc  \\\n",
              "0          240.0        357.0             120.0              120.0        0.0   \n",
              "1            5.0        632.0             132.0              132.0        4.0   \n",
              "2          177.0        779.0             133.0              133.0        2.0   \n",
              "3          411.0       1192.0             134.0              134.0        2.0   \n",
              "4          533.0       1147.0             132.0              132.0        4.0   \n",
              "\n",
              "   foetal_move  utherine_contract  pct_short_variability  \\\n",
              "0          0.0                0.0                   73.0   \n",
              "1          0.0                4.0                   17.0   \n",
              "2          0.0                5.0                   16.0   \n",
              "3          0.0                6.0                   16.0   \n",
              "4          0.0                5.0                   16.0   \n",
              "\n",
              "   mean_short_variability  pct_long_variability  ...  rem_sleep  \\\n",
              "0                     0.5                  43.0  ...      False   \n",
              "1                     2.1                   0.0  ...      False   \n",
              "2                     2.1                   0.0  ...      False   \n",
              "3                     2.4                   0.0  ...      False   \n",
              "4                     2.4                   0.0  ...       True   \n",
              "\n",
              "   calm_vigilance  active_vigilance  e  acc_pattern_stress  dec_pattern_vagal  \\\n",
              "0           False             False  0               False              False   \n",
              "1           False             False  0                True              False   \n",
              "2           False             False  0                True              False   \n",
              "3           False             False  0                True              False   \n",
              "4           False             False  0               False              False   \n",
              "\n",
              "   largely_dec  patho_flat_sinusoidal  suspect  class  \n",
              "0        False                   True    False      9  \n",
              "1        False                  False    False      6  \n",
              "2        False                  False    False      6  \n",
              "3        False                  False    False      6  \n",
              "4        False                  False    False      2  \n",
              "\n",
              "[5 rows x 36 columns]"
            ],
            "text/html": [
              "\n",
              "  <div id=\"df-e7e6f6fc-846c-4286-9d4f-19dcb6b3248f\">\n",
              "    <div class=\"colab-df-container\">\n",
              "      <div>\n",
              "<style scoped>\n",
              "    .dataframe tbody tr th:only-of-type {\n",
              "        vertical-align: middle;\n",
              "    }\n",
              "\n",
              "    .dataframe tbody tr th {\n",
              "        vertical-align: top;\n",
              "    }\n",
              "\n",
              "    .dataframe thead th {\n",
              "        text-align: right;\n",
              "    }\n",
              "</style>\n",
              "<table border=\"1\" class=\"dataframe\">\n",
              "  <thead>\n",
              "    <tr style=\"text-align: right;\">\n",
              "      <th></th>\n",
              "      <th>start_instant</th>\n",
              "      <th>end_instant</th>\n",
              "      <th>medical_baseline</th>\n",
              "      <th>sisproto_baseline</th>\n",
              "      <th>heart_acc</th>\n",
              "      <th>foetal_move</th>\n",
              "      <th>utherine_contract</th>\n",
              "      <th>pct_short_variability</th>\n",
              "      <th>mean_short_variability</th>\n",
              "      <th>pct_long_variability</th>\n",
              "      <th>...</th>\n",
              "      <th>rem_sleep</th>\n",
              "      <th>calm_vigilance</th>\n",
              "      <th>active_vigilance</th>\n",
              "      <th>e</th>\n",
              "      <th>acc_pattern_stress</th>\n",
              "      <th>dec_pattern_vagal</th>\n",
              "      <th>largely_dec</th>\n",
              "      <th>patho_flat_sinusoidal</th>\n",
              "      <th>suspect</th>\n",
              "      <th>class</th>\n",
              "    </tr>\n",
              "  </thead>\n",
              "  <tbody>\n",
              "    <tr>\n",
              "      <th>0</th>\n",
              "      <td>240.0</td>\n",
              "      <td>357.0</td>\n",
              "      <td>120.0</td>\n",
              "      <td>120.0</td>\n",
              "      <td>0.0</td>\n",
              "      <td>0.0</td>\n",
              "      <td>0.0</td>\n",
              "      <td>73.0</td>\n",
              "      <td>0.5</td>\n",
              "      <td>43.0</td>\n",
              "      <td>...</td>\n",
              "      <td>False</td>\n",
              "      <td>False</td>\n",
              "      <td>False</td>\n",
              "      <td>0</td>\n",
              "      <td>False</td>\n",
              "      <td>False</td>\n",
              "      <td>False</td>\n",
              "      <td>True</td>\n",
              "      <td>False</td>\n",
              "      <td>9</td>\n",
              "    </tr>\n",
              "    <tr>\n",
              "      <th>1</th>\n",
              "      <td>5.0</td>\n",
              "      <td>632.0</td>\n",
              "      <td>132.0</td>\n",
              "      <td>132.0</td>\n",
              "      <td>4.0</td>\n",
              "      <td>0.0</td>\n",
              "      <td>4.0</td>\n",
              "      <td>17.0</td>\n",
              "      <td>2.1</td>\n",
              "      <td>0.0</td>\n",
              "      <td>...</td>\n",
              "      <td>False</td>\n",
              "      <td>False</td>\n",
              "      <td>False</td>\n",
              "      <td>0</td>\n",
              "      <td>True</td>\n",
              "      <td>False</td>\n",
              "      <td>False</td>\n",
              "      <td>False</td>\n",
              "      <td>False</td>\n",
              "      <td>6</td>\n",
              "    </tr>\n",
              "    <tr>\n",
              "      <th>2</th>\n",
              "      <td>177.0</td>\n",
              "      <td>779.0</td>\n",
              "      <td>133.0</td>\n",
              "      <td>133.0</td>\n",
              "      <td>2.0</td>\n",
              "      <td>0.0</td>\n",
              "      <td>5.0</td>\n",
              "      <td>16.0</td>\n",
              "      <td>2.1</td>\n",
              "      <td>0.0</td>\n",
              "      <td>...</td>\n",
              "      <td>False</td>\n",
              "      <td>False</td>\n",
              "      <td>False</td>\n",
              "      <td>0</td>\n",
              "      <td>True</td>\n",
              "      <td>False</td>\n",
              "      <td>False</td>\n",
              "      <td>False</td>\n",
              "      <td>False</td>\n",
              "      <td>6</td>\n",
              "    </tr>\n",
              "    <tr>\n",
              "      <th>3</th>\n",
              "      <td>411.0</td>\n",
              "      <td>1192.0</td>\n",
              "      <td>134.0</td>\n",
              "      <td>134.0</td>\n",
              "      <td>2.0</td>\n",
              "      <td>0.0</td>\n",
              "      <td>6.0</td>\n",
              "      <td>16.0</td>\n",
              "      <td>2.4</td>\n",
              "      <td>0.0</td>\n",
              "      <td>...</td>\n",
              "      <td>False</td>\n",
              "      <td>False</td>\n",
              "      <td>False</td>\n",
              "      <td>0</td>\n",
              "      <td>True</td>\n",
              "      <td>False</td>\n",
              "      <td>False</td>\n",
              "      <td>False</td>\n",
              "      <td>False</td>\n",
              "      <td>6</td>\n",
              "    </tr>\n",
              "    <tr>\n",
              "      <th>4</th>\n",
              "      <td>533.0</td>\n",
              "      <td>1147.0</td>\n",
              "      <td>132.0</td>\n",
              "      <td>132.0</td>\n",
              "      <td>4.0</td>\n",
              "      <td>0.0</td>\n",
              "      <td>5.0</td>\n",
              "      <td>16.0</td>\n",
              "      <td>2.4</td>\n",
              "      <td>0.0</td>\n",
              "      <td>...</td>\n",
              "      <td>True</td>\n",
              "      <td>False</td>\n",
              "      <td>False</td>\n",
              "      <td>0</td>\n",
              "      <td>False</td>\n",
              "      <td>False</td>\n",
              "      <td>False</td>\n",
              "      <td>False</td>\n",
              "      <td>False</td>\n",
              "      <td>2</td>\n",
              "    </tr>\n",
              "  </tbody>\n",
              "</table>\n",
              "<p>5 rows × 36 columns</p>\n",
              "</div>\n",
              "      <button class=\"colab-df-convert\" onclick=\"convertToInteractive('df-e7e6f6fc-846c-4286-9d4f-19dcb6b3248f')\"\n",
              "              title=\"Convert this dataframe to an interactive table.\"\n",
              "              style=\"display:none;\">\n",
              "        \n",
              "  <svg xmlns=\"http://www.w3.org/2000/svg\" height=\"24px\"viewBox=\"0 0 24 24\"\n",
              "       width=\"24px\">\n",
              "    <path d=\"M0 0h24v24H0V0z\" fill=\"none\"/>\n",
              "    <path d=\"M18.56 5.44l.94 2.06.94-2.06 2.06-.94-2.06-.94-.94-2.06-.94 2.06-2.06.94zm-11 1L8.5 8.5l.94-2.06 2.06-.94-2.06-.94L8.5 2.5l-.94 2.06-2.06.94zm10 10l.94 2.06.94-2.06 2.06-.94-2.06-.94-.94-2.06-.94 2.06-2.06.94z\"/><path d=\"M17.41 7.96l-1.37-1.37c-.4-.4-.92-.59-1.43-.59-.52 0-1.04.2-1.43.59L10.3 9.45l-7.72 7.72c-.78.78-.78 2.05 0 2.83L4 21.41c.39.39.9.59 1.41.59.51 0 1.02-.2 1.41-.59l7.78-7.78 2.81-2.81c.8-.78.8-2.07 0-2.86zM5.41 20L4 18.59l7.72-7.72 1.47 1.35L5.41 20z\"/>\n",
              "  </svg>\n",
              "      </button>\n",
              "      \n",
              "  <style>\n",
              "    .colab-df-container {\n",
              "      display:flex;\n",
              "      flex-wrap:wrap;\n",
              "      gap: 12px;\n",
              "    }\n",
              "\n",
              "    .colab-df-convert {\n",
              "      background-color: #E8F0FE;\n",
              "      border: none;\n",
              "      border-radius: 50%;\n",
              "      cursor: pointer;\n",
              "      display: none;\n",
              "      fill: #1967D2;\n",
              "      height: 32px;\n",
              "      padding: 0 0 0 0;\n",
              "      width: 32px;\n",
              "    }\n",
              "\n",
              "    .colab-df-convert:hover {\n",
              "      background-color: #E2EBFA;\n",
              "      box-shadow: 0px 1px 2px rgba(60, 64, 67, 0.3), 0px 1px 3px 1px rgba(60, 64, 67, 0.15);\n",
              "      fill: #174EA6;\n",
              "    }\n",
              "\n",
              "    [theme=dark] .colab-df-convert {\n",
              "      background-color: #3B4455;\n",
              "      fill: #D2E3FC;\n",
              "    }\n",
              "\n",
              "    [theme=dark] .colab-df-convert:hover {\n",
              "      background-color: #434B5C;\n",
              "      box-shadow: 0px 1px 3px 1px rgba(0, 0, 0, 0.15);\n",
              "      filter: drop-shadow(0px 1px 2px rgba(0, 0, 0, 0.3));\n",
              "      fill: #FFFFFF;\n",
              "    }\n",
              "  </style>\n",
              "\n",
              "      <script>\n",
              "        const buttonEl =\n",
              "          document.querySelector('#df-e7e6f6fc-846c-4286-9d4f-19dcb6b3248f button.colab-df-convert');\n",
              "        buttonEl.style.display =\n",
              "          google.colab.kernel.accessAllowed ? 'block' : 'none';\n",
              "\n",
              "        async function convertToInteractive(key) {\n",
              "          const element = document.querySelector('#df-e7e6f6fc-846c-4286-9d4f-19dcb6b3248f');\n",
              "          const dataTable =\n",
              "            await google.colab.kernel.invokeFunction('convertToInteractive',\n",
              "                                                     [key], {});\n",
              "          if (!dataTable) return;\n",
              "\n",
              "          const docLinkHtml = 'Like what you see? Visit the ' +\n",
              "            '<a target=\"_blank\" href=https://colab.research.google.com/notebooks/data_table.ipynb>data table notebook</a>'\n",
              "            + ' to learn more about interactive tables.';\n",
              "          element.innerHTML = '';\n",
              "          dataTable['output_type'] = 'display_data';\n",
              "          await google.colab.output.renderOutput(dataTable, element);\n",
              "          const docLink = document.createElement('div');\n",
              "          docLink.innerHTML = docLinkHtml;\n",
              "          element.appendChild(docLink);\n",
              "        }\n",
              "      </script>\n",
              "    </div>\n",
              "  </div>\n",
              "  "
            ]
          },
          "metadata": {},
          "execution_count": 27
        }
      ],
      "source": [
        "X.head(5)"
      ]
    },
    {
      "cell_type": "markdown",
      "metadata": {
        "id": "mZsq3iCKdBFC"
      },
      "source": [
        "Un'operazione preliminare che dovremmo eseguire per lavorare su queste variabili è modificare il tipo dei valori nella variabile *y*, ponendo la tipologia del dato come **intero**, in questo modo potremo calcolare l'accuratezza del modello con le formule viste in precedenza."
      ]
    },
    {
      "cell_type": "code",
      "execution_count": 28,
      "metadata": {
        "colab": {
          "base_uri": "https://localhost:8080/"
        },
        "id": "mooSig0ljTCS",
        "outputId": "7549e7e3-773a-4be5-8802-61c67c33d81a"
      },
      "outputs": [
        {
          "output_type": "execute_result",
          "data": {
            "text/plain": [
              "0    2\n",
              "1    1\n",
              "2    1\n",
              "3    1\n",
              "4    1\n",
              "Name: nsp, dtype: int64"
            ]
          },
          "metadata": {},
          "execution_count": 28
        }
      ],
      "source": [
        "y.head(5)"
      ]
    },
    {
      "cell_type": "markdown",
      "metadata": {
        "id": "FSxdnFTfdet7"
      },
      "source": [
        "Una volta che abbiamo definito le nostre due variabili X ed y, possiamo adoperarci della funzione *train_test_split* per suddividere i dataset X e y, in variabili di training e variabili di testing. Da notare che specifichiamo in oltre anche il parametro *stratify=y*, con questa funzionalità andiamo a distribuire i valori di *y* nelle variabili di training e nelle variabili di test."
      ]
    },
    {
      "cell_type": "code",
      "execution_count": 29,
      "metadata": {
        "id": "zhaQZLYdjTCT"
      },
      "outputs": [],
      "source": [
        "X_train, X_test, y_train, y_test = train_test_split(X, y, test_size=1/3, stratify=y,random_state=1926)"
      ]
    },
    {
      "cell_type": "markdown",
      "metadata": {
        "id": "fc0y5GBdIzQV"
      },
      "source": [
        "#### Random Forest"
      ]
    },
    {
      "cell_type": "markdown",
      "metadata": {
        "id": "ZB08mzl8ewDy"
      },
      "source": [
        "Il primo modello che andremo ad utilizzare per lavorare sul nostro dataset è il *Random Forest*.  "
      ]
    },
    {
      "cell_type": "code",
      "execution_count": 30,
      "metadata": {
        "id": "xfji5CUcI5Lu"
      },
      "outputs": [],
      "source": [
        "from sklearn.ensemble import RandomForestRegressor, RandomForestClassifier"
      ]
    },
    {
      "cell_type": "markdown",
      "metadata": {
        "id": "eaxpOMnRetfn"
      },
      "source": [
        "Il Random Forest che andremo ad utilizzare è **inizializzato con i seguenti iper parametri**:\n",
        "1. ***max_samples***=0.2, specifica la **dimensione del subset di dati di addestramento da utilizzare** per ogni albero all'interno della Random Forest\n",
        "\n",
        "2. ***max_features***=\"sqrt\",  indica il n**umero massimo di features da considerare durante la ricerca** della migliore suddivisione dei nodi all'interno di ciascun albero della foresta \n",
        "\n",
        "3. ***n_estimators***=200, indica il **numero di alberi decisionali che verranno creati** all'interno dell'ensemble.\n",
        "\n",
        "4. ***max_depth***=None, indica la **massima profondità consentita** per ciascun albero all'interno dell'ensemble\n",
        "\n",
        "5. ***n_jobs***=-1, specifica il **numero di processori da utilizzare** per l'addestramento e la previsione dell'ensemble, in questo caso verranno usati tutti quelli disponibili"
      ]
    },
    {
      "cell_type": "code",
      "execution_count": 31,
      "metadata": {
        "id": "nr_NrUJ9JJ5d"
      },
      "outputs": [],
      "source": [
        "rfr = RandomForestRegressor(max_samples=0.2, max_features=\"sqrt\", n_estimators=200, max_depth=None, n_jobs=-1)"
      ]
    },
    {
      "cell_type": "markdown",
      "metadata": {
        "id": "ImAWHX6CiRRJ"
      },
      "source": [
        "Dopo aver inizializzato il nostro *RandomForestRegressor*, passiamo quindi a addestrare e verificare l'accuratezza di questo modello. "
      ]
    },
    {
      "cell_type": "code",
      "execution_count": 32,
      "metadata": {
        "colab": {
          "base_uri": "https://localhost:8080/"
        },
        "id": "z-JM3ZSngToo",
        "outputId": "fb0a0eed-b4b7-49af-e61c-c8baeb7eab16"
      },
      "outputs": [
        {
          "output_type": "stream",
          "name": "stdout",
          "text": [
            "      MSE:       0.0153\n",
            "R-squared:       0.9595\n",
            "    RMSPE:       0.0846\n"
          ]
        }
      ],
      "source": [
        "fit_eval_tree(rfr, X_train, y_train, X_test, y_test)"
      ]
    },
    {
      "cell_type": "markdown",
      "metadata": {
        "id": "aCvZy3WbkLkJ"
      },
      "source": [
        "Da come si può notare il modello che abbiamo ottenuto un errore percentuale del 18%. Controlliamo ora l'importanza di ciascuna feature all'interno dell'albero. "
      ]
    },
    {
      "cell_type": "code",
      "execution_count": 33,
      "metadata": {
        "colab": {
          "base_uri": "https://localhost:8080/"
        },
        "id": "FD7dB0pqqasf",
        "outputId": "32f0cd97-d878-4585-d1dc-0cf90f3724f0"
      },
      "outputs": [
        {
          "output_type": "execute_result",
          "data": {
            "text/plain": [
              "class                     0.284319\n",
              "largely_dec               0.116773\n",
              "patho_flat_sinusoidal     0.059646\n",
              "pct_short_variability     0.056291\n",
              "mean_short_variability    0.054680\n",
              "mean                      0.051065\n",
              "mode                      0.045366\n",
              "pct_long_variability      0.036627\n",
              "prolongued_dec            0.032885\n",
              "median                    0.030697\n",
              "suspect                   0.027695\n",
              "e                         0.027599\n",
              "heart_acc                 0.026005\n",
              "variance                  0.021861\n",
              "width                     0.014489\n",
              "mean_long_variability     0.014039\n",
              "calm_sleep                0.012741\n",
              "min                       0.011225\n",
              "utherine_contract         0.011098\n",
              "sisproto_baseline         0.009213\n",
              "end_instant               0.009151\n",
              "max                       0.009037\n",
              "start_instant             0.007344\n",
              "medical_baseline          0.007178\n",
              "foetal_move               0.005312\n",
              "nmax                      0.004618\n",
              "acc_pattern_stress        0.002603\n",
              "dec_pattern_vagal         0.002428\n",
              "light_dec                 0.002368\n",
              "rem_sleep                 0.002160\n",
              "tendency                  0.002035\n",
              "nzeros                    0.000871\n",
              "severe_dec                0.000485\n",
              "active_vigilance          0.000094\n",
              "repetitive_dec            0.000000\n",
              "calm_vigilance            0.000000\n",
              "dtype: float64"
            ]
          },
          "metadata": {},
          "execution_count": 33
        }
      ],
      "source": [
        "pd.Series(rfr.feature_importances_, index=X.columns).sort_values(ascending=False)"
      ]
    },
    {
      "cell_type": "code",
      "execution_count": 34,
      "metadata": {
        "colab": {
          "base_uri": "https://localhost:8080/",
          "height": 840
        },
        "id": "xACZcMw9XGsh",
        "outputId": "79ad1293-cea7-40a0-fb03-f6f61a15eb31"
      },
      "outputs": [
        {
          "output_type": "execute_result",
          "data": {
            "text/plain": [
              "[Text(0.5555555555555556, 0.875, 'pct_short_variability <= 59.5\\nsquared_error = 0.354\\nsamples = 257\\nvalue = 1.307'),\n",
              " Text(0.3333333333333333, 0.625, 'pct_long_variability <= 52.5\\nsquared_error = 0.076\\nsamples = 187\\nvalue = 1.083'),\n",
              " Text(0.2222222222222222, 0.375, 'mean <= 112.5\\nsquared_error = 0.064\\nsamples = 184\\nvalue = 1.069'),\n",
              " Text(0.1111111111111111, 0.125, '\\n  (...)  \\n'),\n",
              " Text(0.3333333333333333, 0.125, '\\n  (...)  \\n'),\n",
              " Text(0.4444444444444444, 0.375, 'squared_error = 0.0\\nsamples = 3\\nvalue = 2.0'),\n",
              " Text(0.7777777777777778, 0.625, 'patho_flat_sinusoidal <= 0.5\\nsquared_error = 0.602\\nsamples = 70\\nvalue = 1.909'),\n",
              " Text(0.6666666666666666, 0.375, 'mean <= 96.0\\nsquared_error = 0.413\\nsamples = 57\\nvalue = 1.667'),\n",
              " Text(0.5555555555555556, 0.125, '\\n  (...)  \\n'),\n",
              " Text(0.7777777777777778, 0.125, '\\n  (...)  \\n'),\n",
              " Text(0.8888888888888888, 0.375, 'squared_error = 0.0\\nsamples = 13\\nvalue = 3.0')]"
            ]
          },
          "metadata": {},
          "execution_count": 34
        },
        {
          "output_type": "display_data",
          "data": {
            "text/plain": [
              "<Figure size 1000x800 with 1 Axes>"
            ],
            "image/png": "[encoded data removed]"
          },
          "metadata": {}
        }
      ],
      "source": [
        "plt.figure(figsize=(10, 8))\n",
        "plot_tree(rfr.estimators_[0], feature_names=X_train.columns, max_depth=2, filled=True, fontsize=8)"
      ]
    },
    {
      "cell_type": "markdown",
      "metadata": {
        "id": "0zD9WC7CJtDj"
      },
      "source": [
        "#### Boosting degli iper-parametri"
      ]
    },
    {
      "cell_type": "code",
      "execution_count": 35,
      "metadata": {
        "colab": {
          "base_uri": "https://localhost:8080/",
          "height": 268
        },
        "id": "zQ8m-ENFJ453",
        "outputId": "f2b0a82b-bfa5-4ee5-ee4a-9bcae6428523"
      },
      "outputs": [
        {
          "output_type": "stream",
          "name": "stdout",
          "text": [
            "Grid Search: GridSearchCV(cv=5, estimator=RandomForestClassifier(random_state=1926),\n",
            "             param_grid={'max_depth': [2, 3, 5], 'min_samples_leaf': [1, 2],\n",
            "                         'min_samples_split': [2, 5],\n",
            "                         'n_estimators': [100, 200]},\n",
            "             scoring='accuracy')\n",
            "Migliori iperparametri per Random Forest: {'max_depth': 5, 'min_samples_leaf': 1, 'min_samples_split': 5, 'n_estimators': 200}\n",
            "Punteggio medio di cross-validation per Random Forest : 0.9816528144129796\n",
            " \n",
            "\n"
          ]
        },
        {
          "output_type": "execute_result",
          "data": {
            "text/plain": [
              "GridSearchCV(cv=5, estimator=RandomForestClassifier(random_state=1926),\n",
              "             param_grid={'max_depth': [2, 3, 5], 'min_samples_leaf': [1, 2],\n",
              "                         'min_samples_split': [2, 5],\n",
              "                         'n_estimators': [100, 200]},\n",
              "             scoring='accuracy')"
            ],
            "text/html": [
              "<style>#sk-container-id-1 {color: black;background-color: white;}#sk-container-id-1 pre{padding: 0;}#sk-container-id-1 div.sk-toggleable {background-color: white;}#sk-container-id-1 label.sk-toggleable__label {cursor: pointer;display: block;width: 100%;margin-bottom: 0;padding: 0.3em;box-sizing: border-box;text-align: center;}#sk-container-id-1 label.sk-toggleable__label-arrow:before {content: \"▸\";float: left;margin-right: 0.25em;color: #696969;}#sk-container-id-1 label.sk-toggleable__label-arrow:hover:before {color: black;}#sk-container-id-1 div.sk-estimator:hover label.sk-toggleable__label-arrow:before {color: black;}#sk-container-id-1 div.sk-toggleable__content {max-height: 0;max-width: 0;overflow: hidden;text-align: left;background-color: #f0f8ff;}#sk-container-id-1 div.sk-toggleable__content pre {margin: 0.2em;color: black;border-radius: 0.25em;background-color: #f0f8ff;}#sk-container-id-1 input.sk-toggleable__control:checked~div.sk-toggleable__content {max-height: 200px;max-width: 100%;overflow: auto;}#sk-container-id-1 input.sk-toggleable__control:checked~label.sk-toggleable__label-arrow:before {content: \"▾\";}#sk-container-id-1 div.sk-estimator input.sk-toggleable__control:checked~label.sk-toggleable__label {background-color: #d4ebff;}#sk-container-id-1 div.sk-label input.sk-toggleable__control:checked~label.sk-toggleable__label {background-color: #d4ebff;}#sk-container-id-1 input.sk-hidden--visually {border: 0;clip: rect(1px 1px 1px 1px);clip: rect(1px, 1px, 1px, 1px);height: 1px;margin: -1px;overflow: hidden;padding: 0;position: absolute;width: 1px;}#sk-container-id-1 div.sk-estimator {font-family: monospace;background-color: #f0f8ff;border: 1px dotted black;border-radius: 0.25em;box-sizing: border-box;margin-bottom: 0.5em;}#sk-container-id-1 div.sk-estimator:hover {background-color: #d4ebff;}#sk-container-id-1 div.sk-parallel-item::after {content: \"\";width: 100%;border-bottom: 1px solid gray;flex-grow: 1;}#sk-container-id-1 div.sk-label:hover label.sk-toggleable__label {background-color: #d4ebff;}#sk-container-id-1 div.sk-serial::before {content: \"\";position: absolute;border-left: 1px solid gray;box-sizing: border-box;top: 0;bottom: 0;left: 50%;z-index: 0;}#sk-container-id-1 div.sk-serial {display: flex;flex-direction: column;align-items: center;background-color: white;padding-right: 0.2em;padding-left: 0.2em;position: relative;}#sk-container-id-1 div.sk-item {position: relative;z-index: 1;}#sk-container-id-1 div.sk-parallel {display: flex;align-items: stretch;justify-content: center;background-color: white;position: relative;}#sk-container-id-1 div.sk-item::before, #sk-container-id-1 div.sk-parallel-item::before {content: \"\";position: absolute;border-left: 1px solid gray;box-sizing: border-box;top: 0;bottom: 0;left: 50%;z-index: -1;}#sk-container-id-1 div.sk-parallel-item {display: flex;flex-direction: column;z-index: 1;position: relative;background-color: white;}#sk-container-id-1 div.sk-parallel-item:first-child::after {align-self: flex-end;width: 50%;}#sk-container-id-1 div.sk-parallel-item:last-child::after {align-self: flex-start;width: 50%;}#sk-container-id-1 div.sk-parallel-item:only-child::after {width: 0;}#sk-container-id-1 div.sk-dashed-wrapped {border: 1px dashed gray;margin: 0 0.4em 0.5em 0.4em;box-sizing: border-box;padding-bottom: 0.4em;background-color: white;}#sk-container-id-1 div.sk-label label {font-family: monospace;font-weight: bold;display: inline-block;line-height: 1.2em;}#sk-container-id-1 div.sk-label-container {text-align: center;}#sk-container-id-1 div.sk-container {/* jupyter's `normalize.less` sets `[hidden] { display: none; }` but bootstrap.min.css set `[hidden] { display: none !important; }` so we also need the `!important` here to be able to override the default hidden behavior on the sphinx rendered scikit-learn.org. See: https://github.com/scikit-learn/scikit-learn/issues/21755 */display: inline-block !important;position: relative;}#sk-container-id-1 div.sk-text-repr-fallback {display: none;}</style><div id=\"sk-container-id-1\" class=\"sk-top-container\"><div class=\"sk-text-repr-fallback\"><pre>GridSearchCV(cv=5, estimator=RandomForestClassifier(random_state=1926),\n",
              "             param_grid={&#x27;max_depth&#x27;: [2, 3, 5], &#x27;min_samples_leaf&#x27;: [1, 2],\n",
              "                         &#x27;min_samples_split&#x27;: [2, 5],\n",
              "                         &#x27;n_estimators&#x27;: [100, 200]},\n",
              "             scoring=&#x27;accuracy&#x27;)</pre><b>In a Jupyter environment, please rerun this cell to show the HTML representation or trust the notebook. <br />On GitHub, the HTML representation is unable to render, please try loading this page with nbviewer.org.</b></div><div class=\"sk-container\" hidden><div class=\"sk-item sk-dashed-wrapped\"><div class=\"sk-label-container\"><div class=\"sk-label sk-toggleable\"><input class=\"sk-toggleable__control sk-hidden--visually\" id=\"sk-estimator-id-1\" type=\"checkbox\" ><label for=\"sk-estimator-id-1\" class=\"sk-toggleable__label sk-toggleable__label-arrow\">GridSearchCV</label><div class=\"sk-toggleable__content\"><pre>GridSearchCV(cv=5, estimator=RandomForestClassifier(random_state=1926),\n",
              "             param_grid={&#x27;max_depth&#x27;: [2, 3, 5], &#x27;min_samples_leaf&#x27;: [1, 2],\n",
              "                         &#x27;min_samples_split&#x27;: [2, 5],\n",
              "                         &#x27;n_estimators&#x27;: [100, 200]},\n",
              "             scoring=&#x27;accuracy&#x27;)</pre></div></div></div><div class=\"sk-parallel\"><div class=\"sk-parallel-item\"><div class=\"sk-item\"><div class=\"sk-label-container\"><div class=\"sk-label sk-toggleable\"><input class=\"sk-toggleable__control sk-hidden--visually\" id=\"sk-estimator-id-2\" type=\"checkbox\" ><label for=\"sk-estimator-id-2\" class=\"sk-toggleable__label sk-toggleable__label-arrow\">estimator: RandomForestClassifier</label><div class=\"sk-toggleable__content\"><pre>RandomForestClassifier(random_state=1926)</pre></div></div></div><div class=\"sk-serial\"><div class=\"sk-item\"><div class=\"sk-estimator sk-toggleable\"><input class=\"sk-toggleable__control sk-hidden--visually\" id=\"sk-estimator-id-3\" type=\"checkbox\" ><label for=\"sk-estimator-id-3\" class=\"sk-toggleable__label sk-toggleable__label-arrow\">RandomForestClassifier</label><div class=\"sk-toggleable__content\"><pre>RandomForestClassifier(random_state=1926)</pre></div></div></div></div></div></div></div></div></div></div>"
            ]
          },
          "metadata": {},
          "execution_count": 35
        }
      ],
      "source": [
        "rf_params = {\n",
        "    'n_estimators': [100, 200],\n",
        "    'max_depth': [2, 3, 5],\n",
        "    'min_samples_split': [2, 5],\n",
        "    'min_samples_leaf': [1, 2]\n",
        "}\n",
        "rf = RandomForestClassifier(random_state=1926)\n",
        "boosting_hyperparameters(classifier=rf, params=rf_params, cv=5, X_boosting=None, y_boosting=None, name=\"Random Forest\")"
      ]
    },
    {
      "cell_type": "markdown",
      "metadata": {
        "id": "DUWXaohiKpxN"
      },
      "source": [
        "### Decision Forest Classifier"
      ]
    },
    {
      "cell_type": "code",
      "execution_count": 36,
      "metadata": {
        "id": "tAo_pEwGLpww"
      },
      "outputs": [],
      "source": [
        "from sklearn.tree import DecisionTreeRegressor, DecisionTreeClassifier"
      ]
    },
    {
      "cell_type": "code",
      "execution_count": 37,
      "metadata": {
        "colab": {
          "base_uri": "https://localhost:8080/"
        },
        "id": "BYP5jllyLvgD",
        "outputId": "61eca331-9353-4409-cfc1-fb3e3bc0a722"
      },
      "outputs": [
        {
          "output_type": "stream",
          "name": "stdout",
          "text": [
            "      MSE:       0.0182\n",
            "R-squared:       0.9520\n",
            "    RMSPE:       0.0810\n"
          ]
        }
      ],
      "source": [
        "dtc = DecisionTreeRegressor(max_depth=5, random_state=1926)\n",
        "fit_eval_tree(dtc, X_train, y_train, X_test, y_test)"
      ]
    },
    {
      "cell_type": "code",
      "execution_count": 38,
      "metadata": {
        "colab": {
          "base_uri": "https://localhost:8080/"
        },
        "id": "PD5xh_KvqJ6O",
        "outputId": "a5a6c2b1-7b12-49c5-e289-4dd9d3dd53f4"
      },
      "outputs": [
        {
          "output_type": "stream",
          "name": "stdout",
          "text": [
            "Profondita albero: 5\n",
            "Numero di foglie : 12\n"
          ]
        }
      ],
      "source": [
        "print(f\"Profondita albero: {dtc.get_depth()}\")\n",
        "print(f\"Numero di foglie : {dtc.get_n_leaves()}\")"
      ]
    },
    {
      "cell_type": "code",
      "execution_count": 39,
      "metadata": {
        "colab": {
          "base_uri": "https://localhost:8080/",
          "height": 409
        },
        "id": "ugG4LNH2OoWf",
        "outputId": "d95d1353-e71d-4654-b92f-20a561fce1a6"
      },
      "outputs": [
        {
          "output_type": "display_data",
          "data": {
            "text/plain": [
              "<Figure size 1800x600 with 1 Axes>"
            ],
            "image/png": "[encoded data removed]"
          },
          "metadata": {}
        }
      ],
      "source": [
        "plt.figure(figsize=(18, 6))\n",
        "plot_tree(dtc, feature_names=X.columns, max_depth=2, filled=True, fontsize=8);"
      ]
    },
    {
      "cell_type": "code",
      "execution_count": 40,
      "metadata": {
        "colab": {
          "base_uri": "https://localhost:8080/",
          "height": 268
        },
        "id": "cNeS_QuUNCI9",
        "outputId": "7ff65048-70f1-4583-be00-bdd75fb562b8"
      },
      "outputs": [
        {
          "output_type": "stream",
          "name": "stdout",
          "text": [
            "Grid Search: GridSearchCV(cv=5, estimator=DecisionTreeClassifier(random_state=1926),\n",
            "             param_grid={'max_depth': [None, 5, 10],\n",
            "                         'min_samples_leaf': [1, 2, 4],\n",
            "                         'min_samples_split': [2, 5, 10]},\n",
            "             scoring='accuracy')\n",
            "Migliori iperparametri per Decision Tree: {'max_depth': None, 'min_samples_leaf': 4, 'min_samples_split': 10}\n",
            "Punteggio medio di cross-validation per Decision Tree : 0.9880007962972179\n",
            " \n",
            "\n"
          ]
        },
        {
          "output_type": "execute_result",
          "data": {
            "text/plain": [
              "GridSearchCV(cv=5, estimator=DecisionTreeClassifier(random_state=1926),\n",
              "             param_grid={'max_depth': [None, 5, 10],\n",
              "                         'min_samples_leaf': [1, 2, 4],\n",
              "                         'min_samples_split': [2, 5, 10]},\n",
              "             scoring='accuracy')"
            ],
            "text/html": [
              "<style>#sk-container-id-2 {color: black;background-color: white;}#sk-container-id-2 pre{padding: 0;}#sk-container-id-2 div.sk-toggleable {background-color: white;}#sk-container-id-2 label.sk-toggleable__label {cursor: pointer;display: block;width: 100%;margin-bottom: 0;padding: 0.3em;box-sizing: border-box;text-align: center;}#sk-container-id-2 label.sk-toggleable__label-arrow:before {content: \"▸\";float: left;margin-right: 0.25em;color: #696969;}#sk-container-id-2 label.sk-toggleable__label-arrow:hover:before {color: black;}#sk-container-id-2 div.sk-estimator:hover label.sk-toggleable__label-arrow:before {color: black;}#sk-container-id-2 div.sk-toggleable__content {max-height: 0;max-width: 0;overflow: hidden;text-align: left;background-color: #f0f8ff;}#sk-container-id-2 div.sk-toggleable__content pre {margin: 0.2em;color: black;border-radius: 0.25em;background-color: #f0f8ff;}#sk-container-id-2 input.sk-toggleable__control:checked~div.sk-toggleable__content {max-height: 200px;max-width: 100%;overflow: auto;}#sk-container-id-2 input.sk-toggleable__control:checked~label.sk-toggleable__label-arrow:before {content: \"▾\";}#sk-container-id-2 div.sk-estimator input.sk-toggleable__control:checked~label.sk-toggleable__label {background-color: #d4ebff;}#sk-container-id-2 div.sk-label input.sk-toggleable__control:checked~label.sk-toggleable__label {background-color: #d4ebff;}#sk-container-id-2 input.sk-hidden--visually {border: 0;clip: rect(1px 1px 1px 1px);clip: rect(1px, 1px, 1px, 1px);height: 1px;margin: -1px;overflow: hidden;padding: 0;position: absolute;width: 1px;}#sk-container-id-2 div.sk-estimator {font-family: monospace;background-color: #f0f8ff;border: 1px dotted black;border-radius: 0.25em;box-sizing: border-box;margin-bottom: 0.5em;}#sk-container-id-2 div.sk-estimator:hover {background-color: #d4ebff;}#sk-container-id-2 div.sk-parallel-item::after {content: \"\";width: 100%;border-bottom: 1px solid gray;flex-grow: 1;}#sk-container-id-2 div.sk-label:hover label.sk-toggleable__label {background-color: #d4ebff;}#sk-container-id-2 div.sk-serial::before {content: \"\";position: absolute;border-left: 1px solid gray;box-sizing: border-box;top: 0;bottom: 0;left: 50%;z-index: 0;}#sk-container-id-2 div.sk-serial {display: flex;flex-direction: column;align-items: center;background-color: white;padding-right: 0.2em;padding-left: 0.2em;position: relative;}#sk-container-id-2 div.sk-item {position: relative;z-index: 1;}#sk-container-id-2 div.sk-parallel {display: flex;align-items: stretch;justify-content: center;background-color: white;position: relative;}#sk-container-id-2 div.sk-item::before, #sk-container-id-2 div.sk-parallel-item::before {content: \"\";position: absolute;border-left: 1px solid gray;box-sizing: border-box;top: 0;bottom: 0;left: 50%;z-index: -1;}#sk-container-id-2 div.sk-parallel-item {display: flex;flex-direction: column;z-index: 1;position: relative;background-color: white;}#sk-container-id-2 div.sk-parallel-item:first-child::after {align-self: flex-end;width: 50%;}#sk-container-id-2 div.sk-parallel-item:last-child::after {align-self: flex-start;width: 50%;}#sk-container-id-2 div.sk-parallel-item:only-child::after {width: 0;}#sk-container-id-2 div.sk-dashed-wrapped {border: 1px dashed gray;margin: 0 0.4em 0.5em 0.4em;box-sizing: border-box;padding-bottom: 0.4em;background-color: white;}#sk-container-id-2 div.sk-label label {font-family: monospace;font-weight: bold;display: inline-block;line-height: 1.2em;}#sk-container-id-2 div.sk-label-container {text-align: center;}#sk-container-id-2 div.sk-container {/* jupyter's `normalize.less` sets `[hidden] { display: none; }` but bootstrap.min.css set `[hidden] { display: none !important; }` so we also need the `!important` here to be able to override the default hidden behavior on the sphinx rendered scikit-learn.org. See: https://github.com/scikit-learn/scikit-learn/issues/21755 */display: inline-block !important;position: relative;}#sk-container-id-2 div.sk-text-repr-fallback {display: none;}</style><div id=\"sk-container-id-2\" class=\"sk-top-container\"><div class=\"sk-text-repr-fallback\"><pre>GridSearchCV(cv=5, estimator=DecisionTreeClassifier(random_state=1926),\n",
              "             param_grid={&#x27;max_depth&#x27;: [None, 5, 10],\n",
              "                         &#x27;min_samples_leaf&#x27;: [1, 2, 4],\n",
              "                         &#x27;min_samples_split&#x27;: [2, 5, 10]},\n",
              "             scoring=&#x27;accuracy&#x27;)</pre><b>In a Jupyter environment, please rerun this cell to show the HTML representation or trust the notebook. <br />On GitHub, the HTML representation is unable to render, please try loading this page with nbviewer.org.</b></div><div class=\"sk-container\" hidden><div class=\"sk-item sk-dashed-wrapped\"><div class=\"sk-label-container\"><div class=\"sk-label sk-toggleable\"><input class=\"sk-toggleable__control sk-hidden--visually\" id=\"sk-estimator-id-4\" type=\"checkbox\" ><label for=\"sk-estimator-id-4\" class=\"sk-toggleable__label sk-toggleable__label-arrow\">GridSearchCV</label><div class=\"sk-toggleable__content\"><pre>GridSearchCV(cv=5, estimator=DecisionTreeClassifier(random_state=1926),\n",
              "             param_grid={&#x27;max_depth&#x27;: [None, 5, 10],\n",
              "                         &#x27;min_samples_leaf&#x27;: [1, 2, 4],\n",
              "                         &#x27;min_samples_split&#x27;: [2, 5, 10]},\n",
              "             scoring=&#x27;accuracy&#x27;)</pre></div></div></div><div class=\"sk-parallel\"><div class=\"sk-parallel-item\"><div class=\"sk-item\"><div class=\"sk-label-container\"><div class=\"sk-label sk-toggleable\"><input class=\"sk-toggleable__control sk-hidden--visually\" id=\"sk-estimator-id-5\" type=\"checkbox\" ><label for=\"sk-estimator-id-5\" class=\"sk-toggleable__label sk-toggleable__label-arrow\">estimator: DecisionTreeClassifier</label><div class=\"sk-toggleable__content\"><pre>DecisionTreeClassifier(random_state=1926)</pre></div></div></div><div class=\"sk-serial\"><div class=\"sk-item\"><div class=\"sk-estimator sk-toggleable\"><input class=\"sk-toggleable__control sk-hidden--visually\" id=\"sk-estimator-id-6\" type=\"checkbox\" ><label for=\"sk-estimator-id-6\" class=\"sk-toggleable__label sk-toggleable__label-arrow\">DecisionTreeClassifier</label><div class=\"sk-toggleable__content\"><pre>DecisionTreeClassifier(random_state=1926)</pre></div></div></div></div></div></div></div></div></div></div>"
            ]
          },
          "metadata": {},
          "execution_count": 40
        }
      ],
      "source": [
        "dt_params = {\n",
        "    'max_depth': [None, 5, 10],\n",
        "    'min_samples_split': [2, 5, 10],\n",
        "    'min_samples_leaf': [1, 2, 4]\n",
        "}\n",
        "# Crea un oggetto Random Forest e un oggetto Grid Search\n",
        "dfc = DecisionTreeClassifier(random_state=1926)\n",
        "boosting_hyperparameters(classifier=dfc, params=dt_params, cv=5, X_boosting=None, y_boosting=None, name=\"Decision Tree\")\n"
      ]
    },
    {
      "cell_type": "markdown",
      "metadata": {
        "id": "q04mtvLFN41o"
      },
      "source": [
        "### XGBoost"
      ]
    },
    {
      "cell_type": "code",
      "execution_count": 41,
      "metadata": {
        "id": "CXaVvnnlN9r0"
      },
      "outputs": [],
      "source": [
        "from xgboost import XGBRegressor, XGBClassifier"
      ]
    },
    {
      "cell_type": "code",
      "execution_count": 42,
      "metadata": {
        "id": "_Mq_qMC7tzOl"
      },
      "outputs": [],
      "source": [
        "X_xgbtrain, X_xgbtest, y_xgbtrain, y_xgbtest = train_test_split(X[num_vars_low], y, test_size=1/3, stratify=y,random_state=1926)"
      ]
    },
    {
      "cell_type": "code",
      "execution_count": 43,
      "metadata": {
        "colab": {
          "base_uri": "https://localhost:8080/"
        },
        "id": "9TsSF9wvOMmF",
        "outputId": "1fd5ad3e-61a9-4ab1-94df-ea8292f30023"
      },
      "outputs": [
        {
          "output_type": "stream",
          "name": "stdout",
          "text": [
            "[18:50:50] WARNING: ../src/learner.cc:767: \n",
            "Parameters: { \"verbose_eval\" } are not used.\n",
            "\n",
            "      MSE:       0.0460\n",
            "R-squared:       0.8785\n",
            "    RMSPE:       0.1477\n"
          ]
        }
      ],
      "source": [
        "xgbm = XGBRegressor(objective='reg:squarederror',reg_alpha=0.0, reg_lambda=1.0, n_estimators=200, verbose_eval=True)\n",
        "fit_eval_tree(xgbm, X_xgbtrain, y_xgbtrain, X_xgbtest, y_xgbtest)\n"
      ]
    },
    {
      "cell_type": "code",
      "execution_count": 44,
      "metadata": {
        "colab": {
          "base_uri": "https://localhost:8080/",
          "height": 574
        },
        "id": "liYS00yOR1IS",
        "outputId": "8c54e925-a4ed-4e30-f8f2-9b2828a10182"
      },
      "outputs": [
        {
          "output_type": "stream",
          "name": "stdout",
          "text": [
            "Grid Search: GridSearchCV(cv=5,\n",
            "             estimator=XGBClassifier(base_score=None, booster=None,\n",
            "                                     callbacks=None, colsample_bylevel=None,\n",
            "                                     colsample_bynode=None,\n",
            "                                     colsample_bytree=None,\n",
            "                                     early_stopping_rounds=None,\n",
            "                                     enable_categorical=False, eval_metric=None,\n",
            "                                     feature_types=None, gamma=None,\n",
            "                                     gpu_id=None, grow_policy=None,\n",
            "                                     importance_type=None,\n",
            "                                     interaction_constraints=None,\n",
            "                                     learning_rate=None,...\n",
            "                                     max_cat_threshold=None,\n",
            "                                     max_cat_to_onehot=None,\n",
            "                                     max_delta_step=None, max_depth=None,\n",
            "                                     max_leaves=None, min_child_weight=None,\n",
            "                                     missing=nan, monotone_constraints=None,\n",
            "                                     n_estimators=100, n_jobs=None,\n",
            "                                     num_parallel_tree=None, predictor=None,\n",
            "                                     random_state=None, ...),\n",
            "             param_grid={'learning_rate': [0.1, 0.01, 0.001],\n",
            "                         'max_depth': [3, 5], 'n_estimators': [100, 200, 300]},\n",
            "             scoring='accuracy')\n",
            "Migliori iperparametri per XGBoost: {'learning_rate': 0.1, 'max_depth': 3, 'n_estimators': 300}\n",
            "Punteggio medio di cross-validation per XGBoost : 0.9569526700841088\n",
            " \n",
            "\n"
          ]
        },
        {
          "output_type": "execute_result",
          "data": {
            "text/plain": [
              "GridSearchCV(cv=5,\n",
              "             estimator=XGBClassifier(base_score=None, booster=None,\n",
              "                                     callbacks=None, colsample_bylevel=None,\n",
              "                                     colsample_bynode=None,\n",
              "                                     colsample_bytree=None,\n",
              "                                     early_stopping_rounds=None,\n",
              "                                     enable_categorical=False, eval_metric=None,\n",
              "                                     feature_types=None, gamma=None,\n",
              "                                     gpu_id=None, grow_policy=None,\n",
              "                                     importance_type=None,\n",
              "                                     interaction_constraints=None,\n",
              "                                     learning_rate=None,...\n",
              "                                     max_cat_threshold=None,\n",
              "                                     max_cat_to_onehot=None,\n",
              "                                     max_delta_step=None, max_depth=None,\n",
              "                                     max_leaves=None, min_child_weight=None,\n",
              "                                     missing=nan, monotone_constraints=None,\n",
              "                                     n_estimators=100, n_jobs=None,\n",
              "                                     num_parallel_tree=None, predictor=None,\n",
              "                                     random_state=None, ...),\n",
              "             param_grid={'learning_rate': [0.1, 0.01, 0.001],\n",
              "                         'max_depth': [3, 5], 'n_estimators': [100, 200, 300]},\n",
              "             scoring='accuracy')"
            ],
            "text/html": [
              "<style>#sk-container-id-3 {color: black;background-color: white;}#sk-container-id-3 pre{padding: 0;}#sk-container-id-3 div.sk-toggleable {background-color: white;}#sk-container-id-3 label.sk-toggleable__label {cursor: pointer;display: block;width: 100%;margin-bottom: 0;padding: 0.3em;box-sizing: border-box;text-align: center;}#sk-container-id-3 label.sk-toggleable__label-arrow:before {content: \"▸\";float: left;margin-right: 0.25em;color: #696969;}#sk-container-id-3 label.sk-toggleable__label-arrow:hover:before {color: black;}#sk-container-id-3 div.sk-estimator:hover label.sk-toggleable__label-arrow:before {color: black;}#sk-container-id-3 div.sk-toggleable__content {max-height: 0;max-width: 0;overflow: hidden;text-align: left;background-color: #f0f8ff;}#sk-container-id-3 div.sk-toggleable__content pre {margin: 0.2em;color: black;border-radius: 0.25em;background-color: #f0f8ff;}#sk-container-id-3 input.sk-toggleable__control:checked~div.sk-toggleable__content {max-height: 200px;max-width: 100%;overflow: auto;}#sk-container-id-3 input.sk-toggleable__control:checked~label.sk-toggleable__label-arrow:before {content: \"▾\";}#sk-container-id-3 div.sk-estimator input.sk-toggleable__control:checked~label.sk-toggleable__label {background-color: #d4ebff;}#sk-container-id-3 div.sk-label input.sk-toggleable__control:checked~label.sk-toggleable__label {background-color: #d4ebff;}#sk-container-id-3 input.sk-hidden--visually {border: 0;clip: rect(1px 1px 1px 1px);clip: rect(1px, 1px, 1px, 1px);height: 1px;margin: -1px;overflow: hidden;padding: 0;position: absolute;width: 1px;}#sk-container-id-3 div.sk-estimator {font-family: monospace;background-color: #f0f8ff;border: 1px dotted black;border-radius: 0.25em;box-sizing: border-box;margin-bottom: 0.5em;}#sk-container-id-3 div.sk-estimator:hover {background-color: #d4ebff;}#sk-container-id-3 div.sk-parallel-item::after {content: \"\";width: 100%;border-bottom: 1px solid gray;flex-grow: 1;}#sk-container-id-3 div.sk-label:hover label.sk-toggleable__label {background-color: #d4ebff;}#sk-container-id-3 div.sk-serial::before {content: \"\";position: absolute;border-left: 1px solid gray;box-sizing: border-box;top: 0;bottom: 0;left: 50%;z-index: 0;}#sk-container-id-3 div.sk-serial {display: flex;flex-direction: column;align-items: center;background-color: white;padding-right: 0.2em;padding-left: 0.2em;position: relative;}#sk-container-id-3 div.sk-item {position: relative;z-index: 1;}#sk-container-id-3 div.sk-parallel {display: flex;align-items: stretch;justify-content: center;background-color: white;position: relative;}#sk-container-id-3 div.sk-item::before, #sk-container-id-3 div.sk-parallel-item::before {content: \"\";position: absolute;border-left: 1px solid gray;box-sizing: border-box;top: 0;bottom: 0;left: 50%;z-index: -1;}#sk-container-id-3 div.sk-parallel-item {display: flex;flex-direction: column;z-index: 1;position: relative;background-color: white;}#sk-container-id-3 div.sk-parallel-item:first-child::after {align-self: flex-end;width: 50%;}#sk-container-id-3 div.sk-parallel-item:last-child::after {align-self: flex-start;width: 50%;}#sk-container-id-3 div.sk-parallel-item:only-child::after {width: 0;}#sk-container-id-3 div.sk-dashed-wrapped {border: 1px dashed gray;margin: 0 0.4em 0.5em 0.4em;box-sizing: border-box;padding-bottom: 0.4em;background-color: white;}#sk-container-id-3 div.sk-label label {font-family: monospace;font-weight: bold;display: inline-block;line-height: 1.2em;}#sk-container-id-3 div.sk-label-container {text-align: center;}#sk-container-id-3 div.sk-container {/* jupyter's `normalize.less` sets `[hidden] { display: none; }` but bootstrap.min.css set `[hidden] { display: none !important; }` so we also need the `!important` here to be able to override the default hidden behavior on the sphinx rendered scikit-learn.org. See: https://github.com/scikit-learn/scikit-learn/issues/21755 */display: inline-block !important;position: relative;}#sk-container-id-3 div.sk-text-repr-fallback {display: none;}</style><div id=\"sk-container-id-3\" class=\"sk-top-container\"><div class=\"sk-text-repr-fallback\"><pre>GridSearchCV(cv=5,\n",
              "             estimator=XGBClassifier(base_score=None, booster=None,\n",
              "                                     callbacks=None, colsample_bylevel=None,\n",
              "                                     colsample_bynode=None,\n",
              "                                     colsample_bytree=None,\n",
              "                                     early_stopping_rounds=None,\n",
              "                                     enable_categorical=False, eval_metric=None,\n",
              "                                     feature_types=None, gamma=None,\n",
              "                                     gpu_id=None, grow_policy=None,\n",
              "                                     importance_type=None,\n",
              "                                     interaction_constraints=None,\n",
              "                                     learning_rate=None,...\n",
              "                                     max_cat_threshold=None,\n",
              "                                     max_cat_to_onehot=None,\n",
              "                                     max_delta_step=None, max_depth=None,\n",
              "                                     max_leaves=None, min_child_weight=None,\n",
              "                                     missing=nan, monotone_constraints=None,\n",
              "                                     n_estimators=100, n_jobs=None,\n",
              "                                     num_parallel_tree=None, predictor=None,\n",
              "                                     random_state=None, ...),\n",
              "             param_grid={&#x27;learning_rate&#x27;: [0.1, 0.01, 0.001],\n",
              "                         &#x27;max_depth&#x27;: [3, 5], &#x27;n_estimators&#x27;: [100, 200, 300]},\n",
              "             scoring=&#x27;accuracy&#x27;)</pre><b>In a Jupyter environment, please rerun this cell to show the HTML representation or trust the notebook. <br />On GitHub, the HTML representation is unable to render, please try loading this page with nbviewer.org.</b></div><div class=\"sk-container\" hidden><div class=\"sk-item sk-dashed-wrapped\"><div class=\"sk-label-container\"><div class=\"sk-label sk-toggleable\"><input class=\"sk-toggleable__control sk-hidden--visually\" id=\"sk-estimator-id-7\" type=\"checkbox\" ><label for=\"sk-estimator-id-7\" class=\"sk-toggleable__label sk-toggleable__label-arrow\">GridSearchCV</label><div class=\"sk-toggleable__content\"><pre>GridSearchCV(cv=5,\n",
              "             estimator=XGBClassifier(base_score=None, booster=None,\n",
              "                                     callbacks=None, colsample_bylevel=None,\n",
              "                                     colsample_bynode=None,\n",
              "                                     colsample_bytree=None,\n",
              "                                     early_stopping_rounds=None,\n",
              "                                     enable_categorical=False, eval_metric=None,\n",
              "                                     feature_types=None, gamma=None,\n",
              "                                     gpu_id=None, grow_policy=None,\n",
              "                                     importance_type=None,\n",
              "                                     interaction_constraints=None,\n",
              "                                     learning_rate=None,...\n",
              "                                     max_cat_threshold=None,\n",
              "                                     max_cat_to_onehot=None,\n",
              "                                     max_delta_step=None, max_depth=None,\n",
              "                                     max_leaves=None, min_child_weight=None,\n",
              "                                     missing=nan, monotone_constraints=None,\n",
              "                                     n_estimators=100, n_jobs=None,\n",
              "                                     num_parallel_tree=None, predictor=None,\n",
              "                                     random_state=None, ...),\n",
              "             param_grid={&#x27;learning_rate&#x27;: [0.1, 0.01, 0.001],\n",
              "                         &#x27;max_depth&#x27;: [3, 5], &#x27;n_estimators&#x27;: [100, 200, 300]},\n",
              "             scoring=&#x27;accuracy&#x27;)</pre></div></div></div><div class=\"sk-parallel\"><div class=\"sk-parallel-item\"><div class=\"sk-item\"><div class=\"sk-label-container\"><div class=\"sk-label sk-toggleable\"><input class=\"sk-toggleable__control sk-hidden--visually\" id=\"sk-estimator-id-8\" type=\"checkbox\" ><label for=\"sk-estimator-id-8\" class=\"sk-toggleable__label sk-toggleable__label-arrow\">estimator: XGBClassifier</label><div class=\"sk-toggleable__content\"><pre>XGBClassifier(base_score=None, booster=None, callbacks=None,\n",
              "              colsample_bylevel=None, colsample_bynode=None,\n",
              "              colsample_bytree=None, early_stopping_rounds=None,\n",
              "              enable_categorical=False, eval_metric=None, feature_types=None,\n",
              "              gamma=None, gpu_id=None, grow_policy=None, importance_type=None,\n",
              "              interaction_constraints=None, learning_rate=None, max_bin=None,\n",
              "              max_cat_threshold=None, max_cat_to_onehot=None,\n",
              "              max_delta_step=None, max_depth=None, max_leaves=None,\n",
              "              min_child_weight=None, missing=nan, monotone_constraints=None,\n",
              "              n_estimators=100, n_jobs=None, num_parallel_tree=None,\n",
              "              predictor=None, random_state=None, ...)</pre></div></div></div><div class=\"sk-serial\"><div class=\"sk-item\"><div class=\"sk-estimator sk-toggleable\"><input class=\"sk-toggleable__control sk-hidden--visually\" id=\"sk-estimator-id-9\" type=\"checkbox\" ><label for=\"sk-estimator-id-9\" class=\"sk-toggleable__label sk-toggleable__label-arrow\">XGBClassifier</label><div class=\"sk-toggleable__content\"><pre>XGBClassifier(base_score=None, booster=None, callbacks=None,\n",
              "              colsample_bylevel=None, colsample_bynode=None,\n",
              "              colsample_bytree=None, early_stopping_rounds=None,\n",
              "              enable_categorical=False, eval_metric=None, feature_types=None,\n",
              "              gamma=None, gpu_id=None, grow_policy=None, importance_type=None,\n",
              "              interaction_constraints=None, learning_rate=None, max_bin=None,\n",
              "              max_cat_threshold=None, max_cat_to_onehot=None,\n",
              "              max_delta_step=None, max_depth=None, max_leaves=None,\n",
              "              min_child_weight=None, missing=nan, monotone_constraints=None,\n",
              "              n_estimators=100, n_jobs=None, num_parallel_tree=None,\n",
              "              predictor=None, random_state=None, ...)</pre></div></div></div></div></div></div></div></div></div></div>"
            ]
          },
          "metadata": {},
          "execution_count": 44
        }
      ],
      "source": [
        "xgb_model = XGBClassifier()\n",
        "y_boosting = np.subtract(y_xgbtrain, 1)\n",
        "# Define the hyperparameters grid for grid search\n",
        "params_grid = {\n",
        "    'n_estimators': [100, 200, 300],\n",
        "    'max_depth': [3, 5],\n",
        "    'learning_rate': [0.1, 0.01, 0.001]\n",
        "}\n",
        "\n",
        "boosting_hyperparameters(classifier=xgb_model, params=params_grid, cv=5, X_boosting=X_xgbtrain,  y_boosting=y_boosting, name=\"XGBoost\")"
      ]
    },
    {
      "cell_type": "markdown",
      "metadata": {
        "id": "9dwVxMDzPY4r"
      },
      "source": [
        "### CatBoosting"
      ]
    },
    {
      "cell_type": "code",
      "execution_count": 45,
      "metadata": {
        "id": "z9qhODNZPkC1"
      },
      "outputs": [],
      "source": [
        "#pip install catboost"
      ]
    },
    {
      "cell_type": "code",
      "execution_count": 46,
      "metadata": {
        "colab": {
          "base_uri": "https://localhost:8080/",
          "height": 317
        },
        "id": "4Vl3Aq9WPegE",
        "outputId": "9f5a0b1d-27dd-432b-e06c-68a9c3599bb6"
      },
      "outputs": [
        {
          "output_type": "error",
          "ename": "ModuleNotFoundError",
          "evalue": "ignored",
          "traceback": [
            "\u001b[0;31m---------------------------------------------------------------------------\u001b[0m",
            "\u001b[0;31mModuleNotFoundError\u001b[0m                       Traceback (most recent call last)",
            "\u001b[0;32m<ipython-input-46-0df67df577d8>\u001b[0m in \u001b[0;36m<cell line: 1>\u001b[0;34m()\u001b[0m\n\u001b[0;32m----> 1\u001b[0;31m \u001b[0;32mfrom\u001b[0m \u001b[0mcatboost\u001b[0m \u001b[0;32mimport\u001b[0m \u001b[0mCatBoostRegressor\u001b[0m\u001b[0;34m\u001b[0m\u001b[0;34m\u001b[0m\u001b[0m\n\u001b[0m\u001b[1;32m      2\u001b[0m \u001b[0mcat_vars_low\u001b[0m\u001b[0;34m\u001b[0m\u001b[0;34m\u001b[0m\u001b[0m\n",
            "\u001b[0;31mModuleNotFoundError\u001b[0m: No module named 'catboost'",
            "",
            "\u001b[0;31m---------------------------------------------------------------------------\u001b[0;32m\nNOTE: If your import is failing due to a missing package, you can\nmanually install dependencies using either !pip or !apt.\n\nTo view examples of installing some common dependencies, click the\n\"Open Examples\" button below.\n\u001b[0;31m---------------------------------------------------------------------------\u001b[0m\n"
          ],
          "errorDetails": {
            "actions": [
              {
                "action": "open_url",
                "actionText": "Open Examples",
                "url": "/notebooks/snippets/importing_libraries.ipynb"
              }
            ]
          }
        }
      ],
      "source": [
        "from catboost import CatBoostRegressor\n",
        "cat_vars_low"
      ]
    },
    {
      "cell_type": "code",
      "execution_count": null,
      "metadata": {
        "id": "kMTPRsqUPilp"
      },
      "outputs": [],
      "source": [
        "catbm = CatBoostRegressor(n_estimators=1926, cat_features=['class', 'tendency'])\n",
        "fit_eval_tree(catbm, X_train, y_train, X_test, y_test)"
      ]
    },
    {
      "cell_type": "code",
      "execution_count": null,
      "metadata": {
        "id": "fm-eg30zUR3Q"
      },
      "outputs": [],
      "source": [
        "catbm.score(X_test, y_test)"
      ]
    },
    {
      "cell_type": "code",
      "execution_count": null,
      "metadata": {
        "id": "sU6q4D5fwWT3"
      },
      "outputs": [],
      "source": []
    },
    {
      "cell_type": "markdown",
      "metadata": {
        "id": "WRXvOhXQwXXy"
      },
      "source": [
        "ASSURDO !! COMMRNTARE STA ROBA "
      ]
    },
    {
      "cell_type": "markdown",
      "metadata": {
        "id": "0lL6F1hRN6HG"
      },
      "source": [
        "### Modelli di Classificazione\n",
        "Per i modelli di classificazione, per mantenere il numero delle classi di `NSP` costanti all'interno di ogni fold, è necessario utilizzare una `StratifiedKFold`.\n"
      ]
    },
    {
      "cell_type": "code",
      "execution_count": 47,
      "metadata": {
        "id": "Wlmi8WPWN7I7"
      },
      "outputs": [],
      "source": [
        "from sklearn.model_selection import StratifiedKFold, cross_validate, GridSearchCV\n",
        "skf = StratifiedKFold(3, shuffle=True, random_state=1926)"
      ]
    },
    {
      "cell_type": "markdown",
      "metadata": {
        "id": "tNvDL4CoODU5"
      },
      "source": [
        "A questo punto possiamo definire una funzione per poter agevolmente calcolare i risultati della Cross Validation di modelli di classificazione."
      ]
    },
    {
      "cell_type": "code",
      "execution_count": 48,
      "metadata": {
        "id": "jtcoE7ATOAT4"
      },
      "outputs": [],
      "source": [
        "def cross_validate_class(model, X, y, cv=skf) -> pd.DataFrame:\n",
        "    \"\"\" Returns the mean of the `test_score` parameter\n",
        "        applying the cross validation given in input \"\"\"\n",
        "    cv_results = cross_validate(model, X, y, cv=cv)\n",
        "    return np.mean(cv_results['test_score'])\n",
        "\n",
        "def grid_search_class(model, grid, X_train, y_train, cv=skf):\n",
        "    gs = GridSearchCV(model, grid, cv=cv)\n",
        "    gs.fit(X_train, y_train)\n",
        "    return (\n",
        "        gs,\n",
        "        pd.DataFrame(gs.cv_results_).sort_values('mean_test_score', ascending=False).head()\n",
        "    )"
      ]
    },
    {
      "cell_type": "markdown",
      "metadata": {
        "id": "FFAzKG5KOHOD"
      },
      "source": [
        "##### Classificazione Lineare\n",
        "Inizialmente testiamo un modello di classificazione molto semplice di classificazione Lineare, avvalendoci dell'algoritmo di apprendimento `Perceptron`."
      ]
    },
    {
      "cell_type": "code",
      "execution_count": 49,
      "metadata": {
        "colab": {
          "base_uri": "https://localhost:8080/"
        },
        "id": "etzyn4UiOKEQ",
        "outputId": "a6388032-a685-4f3a-abd4-32228dcdd424"
      },
      "outputs": [
        {
          "output_type": "execute_result",
          "data": {
            "text/plain": [
              "0.3342736248236953"
            ]
          },
          "metadata": {},
          "execution_count": 49
        }
      ],
      "source": [
        "from sklearn.linear_model import Perceptron\n",
        "model = Perceptron(random_state=1926)\n",
        "\n",
        "model.fit(X_train, y_train)\n",
        "model.score(X_test, y_test)"
      ]
    },
    {
      "cell_type": "markdown",
      "metadata": {
        "id": "Ls4uLjw4OmxP"
      },
      "source": [
        "Per i modelli di classificazione, è importante adottare misurazioni differenti. In questo caso è interessante controllare lo stato della **_Confusion Matrix_**"
      ]
    },
    {
      "cell_type": "code",
      "source": [
        "from sklearn.metrics import confusion_matrix, precision_score, recall_score, f1_score\n",
        "\n",
        "labels = { 1: 'Normal', 2: 'Suspect', 3: 'Pathological' }\n",
        "\n",
        "def get_confusion_matrix(model, y_true, y_pred, normalize=None):\n",
        "    cm = pd.DataFrame(\n",
        "        confusion_matrix(y_true, y_pred, normalize=normalize),\n",
        "        index=model.classes_, columns=model.classes_\n",
        "    )\n",
        "\n",
        "    cm.index = [ labels[i] for i in cm.index ]\n",
        "    cm.columns = [ labels[i] for i in cm.columns ]\n",
        "    return cm\n",
        "\n",
        "def get_percentage_cm(cm: pd.DataFrame)-> pd.DataFrame:\n",
        "    return (cm * 100).round(2).astype(str) + '%'\n",
        "\n",
        "def get_coefficients_frame(gs, idx):\n",
        "    return pd.DataFrame(\n",
        "        {\n",
        "            \"Normal\": gs.best_estimator_['regr'].coef_[0],\n",
        "            \"Suspect\": gs.best_estimator_['regr'].coef_[1],\n",
        "            \"Pathological\": gs.best_estimator_['regr'].coef_[2],\n",
        "        }, index=idx\n",
        "    )"
      ],
      "metadata": {
        "id": "3PGFN6uIQpZ9"
      },
      "execution_count": 51,
      "outputs": []
    },
    {
      "cell_type": "code",
      "source": [
        "get_confusion_matrix(model, y_test, model.predict(X_test))"
      ],
      "metadata": {
        "colab": {
          "base_uri": "https://localhost:8080/",
          "height": 142
        },
        "id": "fl95t00GTsy-",
        "outputId": "592d689e-d8df-4c0a-d10a-a1e0ec8ebcae"
      },
      "execution_count": 52,
      "outputs": [
        {
          "output_type": "execute_result",
          "data": {
            "text/plain": [
              "              Normal  Suspect  Pathological\n",
              "Normal           125      191           236\n",
              "Suspect            4       75            19\n",
              "Pathological       0       22            37"
            ],
            "text/html": [
              "\n",
              "  <div id=\"df-64e84e57-4f6b-41f1-9650-d2abb6c1e8db\">\n",
              "    <div class=\"colab-df-container\">\n",
              "      <div>\n",
              "<style scoped>\n",
              "    .dataframe tbody tr th:only-of-type {\n",
              "        vertical-align: middle;\n",
              "    }\n",
              "\n",
              "    .dataframe tbody tr th {\n",
              "        vertical-align: top;\n",
              "    }\n",
              "\n",
              "    .dataframe thead th {\n",
              "        text-align: right;\n",
              "    }\n",
              "</style>\n",
              "<table border=\"1\" class=\"dataframe\">\n",
              "  <thead>\n",
              "    <tr style=\"text-align: right;\">\n",
              "      <th></th>\n",
              "      <th>Normal</th>\n",
              "      <th>Suspect</th>\n",
              "      <th>Pathological</th>\n",
              "    </tr>\n",
              "  </thead>\n",
              "  <tbody>\n",
              "    <tr>\n",
              "      <th>Normal</th>\n",
              "      <td>125</td>\n",
              "      <td>191</td>\n",
              "      <td>236</td>\n",
              "    </tr>\n",
              "    <tr>\n",
              "      <th>Suspect</th>\n",
              "      <td>4</td>\n",
              "      <td>75</td>\n",
              "      <td>19</td>\n",
              "    </tr>\n",
              "    <tr>\n",
              "      <th>Pathological</th>\n",
              "      <td>0</td>\n",
              "      <td>22</td>\n",
              "      <td>37</td>\n",
              "    </tr>\n",
              "  </tbody>\n",
              "</table>\n",
              "</div>\n",
              "      <button class=\"colab-df-convert\" onclick=\"convertToInteractive('df-64e84e57-4f6b-41f1-9650-d2abb6c1e8db')\"\n",
              "              title=\"Convert this dataframe to an interactive table.\"\n",
              "              style=\"display:none;\">\n",
              "        \n",
              "  <svg xmlns=\"http://www.w3.org/2000/svg\" height=\"24px\"viewBox=\"0 0 24 24\"\n",
              "       width=\"24px\">\n",
              "    <path d=\"M0 0h24v24H0V0z\" fill=\"none\"/>\n",
              "    <path d=\"M18.56 5.44l.94 2.06.94-2.06 2.06-.94-2.06-.94-.94-2.06-.94 2.06-2.06.94zm-11 1L8.5 8.5l.94-2.06 2.06-.94-2.06-.94L8.5 2.5l-.94 2.06-2.06.94zm10 10l.94 2.06.94-2.06 2.06-.94-2.06-.94-.94-2.06-.94 2.06-2.06.94z\"/><path d=\"M17.41 7.96l-1.37-1.37c-.4-.4-.92-.59-1.43-.59-.52 0-1.04.2-1.43.59L10.3 9.45l-7.72 7.72c-.78.78-.78 2.05 0 2.83L4 21.41c.39.39.9.59 1.41.59.51 0 1.02-.2 1.41-.59l7.78-7.78 2.81-2.81c.8-.78.8-2.07 0-2.86zM5.41 20L4 18.59l7.72-7.72 1.47 1.35L5.41 20z\"/>\n",
              "  </svg>\n",
              "      </button>\n",
              "      \n",
              "  <style>\n",
              "    .colab-df-container {\n",
              "      display:flex;\n",
              "      flex-wrap:wrap;\n",
              "      gap: 12px;\n",
              "    }\n",
              "\n",
              "    .colab-df-convert {\n",
              "      background-color: #E8F0FE;\n",
              "      border: none;\n",
              "      border-radius: 50%;\n",
              "      cursor: pointer;\n",
              "      display: none;\n",
              "      fill: #1967D2;\n",
              "      height: 32px;\n",
              "      padding: 0 0 0 0;\n",
              "      width: 32px;\n",
              "    }\n",
              "\n",
              "    .colab-df-convert:hover {\n",
              "      background-color: #E2EBFA;\n",
              "      box-shadow: 0px 1px 2px rgba(60, 64, 67, 0.3), 0px 1px 3px 1px rgba(60, 64, 67, 0.15);\n",
              "      fill: #174EA6;\n",
              "    }\n",
              "\n",
              "    [theme=dark] .colab-df-convert {\n",
              "      background-color: #3B4455;\n",
              "      fill: #D2E3FC;\n",
              "    }\n",
              "\n",
              "    [theme=dark] .colab-df-convert:hover {\n",
              "      background-color: #434B5C;\n",
              "      box-shadow: 0px 1px 3px 1px rgba(0, 0, 0, 0.15);\n",
              "      filter: drop-shadow(0px 1px 2px rgba(0, 0, 0, 0.3));\n",
              "      fill: #FFFFFF;\n",
              "    }\n",
              "  </style>\n",
              "\n",
              "      <script>\n",
              "        const buttonEl =\n",
              "          document.querySelector('#df-64e84e57-4f6b-41f1-9650-d2abb6c1e8db button.colab-df-convert');\n",
              "        buttonEl.style.display =\n",
              "          google.colab.kernel.accessAllowed ? 'block' : 'none';\n",
              "\n",
              "        async function convertToInteractive(key) {\n",
              "          const element = document.querySelector('#df-64e84e57-4f6b-41f1-9650-d2abb6c1e8db');\n",
              "          const dataTable =\n",
              "            await google.colab.kernel.invokeFunction('convertToInteractive',\n",
              "                                                     [key], {});\n",
              "          if (!dataTable) return;\n",
              "\n",
              "          const docLinkHtml = 'Like what you see? Visit the ' +\n",
              "            '<a target=\"_blank\" href=https://colab.research.google.com/notebooks/data_table.ipynb>data table notebook</a>'\n",
              "            + ' to learn more about interactive tables.';\n",
              "          element.innerHTML = '';\n",
              "          dataTable['output_type'] = 'display_data';\n",
              "          await google.colab.output.renderOutput(dataTable, element);\n",
              "          const docLink = document.createElement('div');\n",
              "          docLink.innerHTML = docLinkHtml;\n",
              "          element.appendChild(docLink);\n",
              "        }\n",
              "      </script>\n",
              "    </div>\n",
              "  </div>\n",
              "  "
            ]
          },
          "metadata": {},
          "execution_count": 52
        }
      ]
    },
    {
      "cell_type": "markdown",
      "source": [
        "La *confusion matrix* rispecchia la conformazione del dataset, ovvero che lo sbilanciamento delle classi di `NSP` porta inevitabilmente ad uno squilibrio nella predizione di classi. In questo caso, il modello `Perceptron` per sopperire allo sbilianciamento di record con classi `Suspect` e `Patological`, mostra risultati perggiori nella classe `Normal` e una piuttosto forte inclinazione verso `Pathological`.\n",
        "\n",
        "Potrebbe essere più d'aiuto visualizzare i dati in percentuale.\n"
      ],
      "metadata": {
        "id": "LsT-5rWbWwye"
      }
    },
    {
      "cell_type": "code",
      "source": [
        "cm_perc = get_percentage_cm(\n",
        "    get_confusion_matrix(model, y_test, model.predict(X_test), normalize='true'))\n",
        "\n",
        "cm_perc"
      ],
      "metadata": {
        "colab": {
          "base_uri": "https://localhost:8080/",
          "height": 142
        },
        "id": "7NYCWkzTXHW-",
        "outputId": "f560c71a-2cae-4209-b3dd-57f3d4a782d1"
      },
      "execution_count": 54,
      "outputs": [
        {
          "output_type": "execute_result",
          "data": {
            "text/plain": [
              "              Normal Suspect Pathological\n",
              "Normal        22.64%   34.6%       42.75%\n",
              "Suspect        4.08%  76.53%       19.39%\n",
              "Pathological    0.0%  37.29%       62.71%"
            ],
            "text/html": [
              "\n",
              "  <div id=\"df-48f6891a-fbd7-4e0d-b61c-8340d5defc8e\">\n",
              "    <div class=\"colab-df-container\">\n",
              "      <div>\n",
              "<style scoped>\n",
              "    .dataframe tbody tr th:only-of-type {\n",
              "        vertical-align: middle;\n",
              "    }\n",
              "\n",
              "    .dataframe tbody tr th {\n",
              "        vertical-align: top;\n",
              "    }\n",
              "\n",
              "    .dataframe thead th {\n",
              "        text-align: right;\n",
              "    }\n",
              "</style>\n",
              "<table border=\"1\" class=\"dataframe\">\n",
              "  <thead>\n",
              "    <tr style=\"text-align: right;\">\n",
              "      <th></th>\n",
              "      <th>Normal</th>\n",
              "      <th>Suspect</th>\n",
              "      <th>Pathological</th>\n",
              "    </tr>\n",
              "  </thead>\n",
              "  <tbody>\n",
              "    <tr>\n",
              "      <th>Normal</th>\n",
              "      <td>22.64%</td>\n",
              "      <td>34.6%</td>\n",
              "      <td>42.75%</td>\n",
              "    </tr>\n",
              "    <tr>\n",
              "      <th>Suspect</th>\n",
              "      <td>4.08%</td>\n",
              "      <td>76.53%</td>\n",
              "      <td>19.39%</td>\n",
              "    </tr>\n",
              "    <tr>\n",
              "      <th>Pathological</th>\n",
              "      <td>0.0%</td>\n",
              "      <td>37.29%</td>\n",
              "      <td>62.71%</td>\n",
              "    </tr>\n",
              "  </tbody>\n",
              "</table>\n",
              "</div>\n",
              "      <button class=\"colab-df-convert\" onclick=\"convertToInteractive('df-48f6891a-fbd7-4e0d-b61c-8340d5defc8e')\"\n",
              "              title=\"Convert this dataframe to an interactive table.\"\n",
              "              style=\"display:none;\">\n",
              "        \n",
              "  <svg xmlns=\"http://www.w3.org/2000/svg\" height=\"24px\"viewBox=\"0 0 24 24\"\n",
              "       width=\"24px\">\n",
              "    <path d=\"M0 0h24v24H0V0z\" fill=\"none\"/>\n",
              "    <path d=\"M18.56 5.44l.94 2.06.94-2.06 2.06-.94-2.06-.94-.94-2.06-.94 2.06-2.06.94zm-11 1L8.5 8.5l.94-2.06 2.06-.94-2.06-.94L8.5 2.5l-.94 2.06-2.06.94zm10 10l.94 2.06.94-2.06 2.06-.94-2.06-.94-.94-2.06-.94 2.06-2.06.94z\"/><path d=\"M17.41 7.96l-1.37-1.37c-.4-.4-.92-.59-1.43-.59-.52 0-1.04.2-1.43.59L10.3 9.45l-7.72 7.72c-.78.78-.78 2.05 0 2.83L4 21.41c.39.39.9.59 1.41.59.51 0 1.02-.2 1.41-.59l7.78-7.78 2.81-2.81c.8-.78.8-2.07 0-2.86zM5.41 20L4 18.59l7.72-7.72 1.47 1.35L5.41 20z\"/>\n",
              "  </svg>\n",
              "      </button>\n",
              "      \n",
              "  <style>\n",
              "    .colab-df-container {\n",
              "      display:flex;\n",
              "      flex-wrap:wrap;\n",
              "      gap: 12px;\n",
              "    }\n",
              "\n",
              "    .colab-df-convert {\n",
              "      background-color: #E8F0FE;\n",
              "      border: none;\n",
              "      border-radius: 50%;\n",
              "      cursor: pointer;\n",
              "      display: none;\n",
              "      fill: #1967D2;\n",
              "      height: 32px;\n",
              "      padding: 0 0 0 0;\n",
              "      width: 32px;\n",
              "    }\n",
              "\n",
              "    .colab-df-convert:hover {\n",
              "      background-color: #E2EBFA;\n",
              "      box-shadow: 0px 1px 2px rgba(60, 64, 67, 0.3), 0px 1px 3px 1px rgba(60, 64, 67, 0.15);\n",
              "      fill: #174EA6;\n",
              "    }\n",
              "\n",
              "    [theme=dark] .colab-df-convert {\n",
              "      background-color: #3B4455;\n",
              "      fill: #D2E3FC;\n",
              "    }\n",
              "\n",
              "    [theme=dark] .colab-df-convert:hover {\n",
              "      background-color: #434B5C;\n",
              "      box-shadow: 0px 1px 3px 1px rgba(0, 0, 0, 0.15);\n",
              "      filter: drop-shadow(0px 1px 2px rgba(0, 0, 0, 0.3));\n",
              "      fill: #FFFFFF;\n",
              "    }\n",
              "  </style>\n",
              "\n",
              "      <script>\n",
              "        const buttonEl =\n",
              "          document.querySelector('#df-48f6891a-fbd7-4e0d-b61c-8340d5defc8e button.colab-df-convert');\n",
              "        buttonEl.style.display =\n",
              "          google.colab.kernel.accessAllowed ? 'block' : 'none';\n",
              "\n",
              "        async function convertToInteractive(key) {\n",
              "          const element = document.querySelector('#df-48f6891a-fbd7-4e0d-b61c-8340d5defc8e');\n",
              "          const dataTable =\n",
              "            await google.colab.kernel.invokeFunction('convertToInteractive',\n",
              "                                                     [key], {});\n",
              "          if (!dataTable) return;\n",
              "\n",
              "          const docLinkHtml = 'Like what you see? Visit the ' +\n",
              "            '<a target=\"_blank\" href=https://colab.research.google.com/notebooks/data_table.ipynb>data table notebook</a>'\n",
              "            + ' to learn more about interactive tables.';\n",
              "          element.innerHTML = '';\n",
              "          dataTable['output_type'] = 'display_data';\n",
              "          await google.colab.output.renderOutput(dataTable, element);\n",
              "          const docLink = document.createElement('div');\n",
              "          docLink.innerHTML = docLinkHtml;\n",
              "          element.appendChild(docLink);\n",
              "        }\n",
              "      </script>\n",
              "    </div>\n",
              "  </div>\n",
              "  "
            ]
          },
          "metadata": {},
          "execution_count": 54
        }
      ]
    },
    {
      "cell_type": "markdown",
      "source": [
        "Proviamo ora ad effettuare una Grid Search per individuare i migliori iperparametri. In particolare, `Perceptron`:\n",
        "- Utilizza una funzione di regolarizzazione (`penalty`) variabile tra:\n",
        "  - `l1`\n",
        "  - `l2`\n",
        "  - `elasticnet`\n",
        "    - tramite `l1_ratio` si gestisce il peso della regolarizzazione l1.\n",
        "- Specifcare il parametro `alpha` delle regolarizzazioni\n",
        "- `fit_intercept`\n",
        "\n",
        "Effettuiamo anche valutazioni sull'utilizzo di filtri per la normalizzazione dei dati attraverso `StandardScale` e `MinMaxScaler`, oppure nessuno."
      ],
      "metadata": {
        "id": "doin6pWNXplZ"
      }
    },
    {
      "cell_type": "code",
      "source": [
        "perc = Pipeline([\n",
        "    ('scale', None),\n",
        "    ('regr', Perceptron(random_state=1926))\n",
        "])\n",
        "\n",
        "grid = [\n",
        "    {\n",
        "        'scale': [None, StandardScaler(), MinMaxScaler()],\n",
        "        'regr__penalty': ['l1', 'l2'],\n",
        "        'regr__alpha': np.logspace(-5, 3, 9),\n",
        "        'regr__fit_intercept': [False, True],\n",
        "    },\n",
        "    {\n",
        "        'scale': [None, StandardScaler(), MinMaxScaler()],\n",
        "        'regr__penalty': ['elasticnet'],\n",
        "        'regr__alpha': np.logspace(-5, 3, 9),\n",
        "        'regr__l1_ratio': [0.1, 0.2, 0.3, 0.4, 0.5, 0.6, 0.7, 0.8, 0.9],\n",
        "        'regr__fit_intercept': [False, True],\n",
        "    },\n",
        "    {\n",
        "        'scale': [None, StandardScaler(), MinMaxScaler()],\n",
        "        'regr__penalty': [None]\n",
        "    }\n",
        "]\n",
        "\n",
        "gs, result = grid_search_class(perc, grid, X_train, y_train)"
      ],
      "metadata": {
        "id": "Jt5jnAvFXviH"
      },
      "execution_count": 57,
      "outputs": []
    },
    {
      "cell_type": "markdown",
      "source": [
        "I migliori parametri trovati sono"
      ],
      "metadata": {
        "id": "vkywa8OTYOXz"
      }
    },
    {
      "cell_type": "code",
      "source": [
        "result.iloc[0]['params']"
      ],
      "metadata": {
        "colab": {
          "base_uri": "https://localhost:8080/"
        },
        "id": "JkqvcDcjYXro",
        "outputId": "0691bbc1-cc8e-4b56-b88c-5b2433bdd705"
      },
      "execution_count": 58,
      "outputs": [
        {
          "output_type": "execute_result",
          "data": {
            "text/plain": [
              "{'regr__alpha': 1e-05,\n",
              " 'regr__fit_intercept': False,\n",
              " 'regr__l1_ratio': 0.5,\n",
              " 'regr__penalty': 'elasticnet',\n",
              " 'scale': MinMaxScaler()}"
            ]
          },
          "metadata": {},
          "execution_count": 58
        }
      ]
    },
    {
      "cell_type": "markdown",
      "source": [
        "Utilizzando `elasticnet` con `l1_ratio` pari a 0.5, significa che è stata utilizzata anche al regolarizzazione Lasso, la quale può aver eliminato le features meno importanti."
      ],
      "metadata": {
        "id": "9p8NVuV7YeLz"
      }
    },
    {
      "cell_type": "code",
      "source": [
        "gs.best_estimator_['regr'].coef_\n",
        "get_coefficients_frame(gs, X.columns)"
      ],
      "metadata": {
        "colab": {
          "base_uri": "https://localhost:8080/",
          "height": 1000
        },
        "id": "jEoLJuUuYgIs",
        "outputId": "e2dd2cec-fa84-4a4f-f39b-c7745bdc4058"
      },
      "execution_count": 59,
      "outputs": [
        {
          "output_type": "execute_result",
          "data": {
            "text/plain": [
              "                          Normal    Suspect  Pathological\n",
              "start_instant           6.016332  -6.661470      0.207741\n",
              "end_instant            -2.225219  -0.429192      0.697612\n",
              "medical_baseline       -5.496406   2.849283      1.740522\n",
              "sisproto_baseline      -5.496406   2.849283      1.740522\n",
              "heart_acc               4.074393  -3.644429     -0.375241\n",
              "foetal_move            -3.250419   2.863981      0.000000\n",
              "utherine_contract      -0.864958   0.646082     -0.901096\n",
              "pct_short_variability  -2.989835   1.998034     -0.215649\n",
              "mean_short_variability  2.927713  -2.640532     -0.699514\n",
              "pct_long_variability   -6.653299   5.455237      1.667427\n",
              "mean_long_variability   0.240612  -1.699456      0.000000\n",
              "light_dec               7.350580  -6.923527      0.000000\n",
              "severe_dec              0.000000   0.000000      0.852833\n",
              "prolongued_dec         -8.976323   7.483027      1.153737\n",
              "repetitive_dec          0.000000   0.000000      0.000000\n",
              "width                   0.892531  -2.098480     -2.148709\n",
              "min                     2.717831  -3.397347      1.678374\n",
              "max                    -2.114248   0.957651      0.000000\n",
              "nmax                   -1.816467   0.505321      0.000000\n",
              "nzeros                  2.194661  -2.829182      0.000000\n",
              "mode                    8.425826  -5.848454     -1.319906\n",
              "mean                   -0.070693   1.311928     -2.679522\n",
              "median                  2.783013  -1.255444     -0.995811\n",
              "variance               -3.966560   5.927564     -1.818222\n",
              "tendency                1.730390  -0.834826     -1.302737\n",
              "calm_sleep              4.418379  -3.692721     -1.789863\n",
              "rem_sleep               6.312340  -5.503215     -1.860374\n",
              "calm_vigilance          4.555072  -2.728527      0.000000\n",
              "active_vigilance        3.449023  -3.627368      0.000000\n",
              "e                      -5.313993   8.305056     -1.822108\n",
              "acc_pattern_stress      7.244410  -2.764744     -1.837296\n",
              "dec_pattern_vagal       2.521015   1.865346     -1.788103\n",
              "largely_dec            -5.317337 -10.237336      5.607081\n",
              "patho_flat_sinusoidal  -2.583044  -4.517022      4.620279\n",
              "suspect                -4.461702  10.110494     -3.701515\n",
              "class                  -4.711808  -0.873742      1.378825"
            ],
            "text/html": [
              "\n",
              "  <div id=\"df-4da57e98-53dc-4797-a1fc-c9975abd43b4\">\n",
              "    <div class=\"colab-df-container\">\n",
              "      <div>\n",
              "<style scoped>\n",
              "    .dataframe tbody tr th:only-of-type {\n",
              "        vertical-align: middle;\n",
              "    }\n",
              "\n",
              "    .dataframe tbody tr th {\n",
              "        vertical-align: top;\n",
              "    }\n",
              "\n",
              "    .dataframe thead th {\n",
              "        text-align: right;\n",
              "    }\n",
              "</style>\n",
              "<table border=\"1\" class=\"dataframe\">\n",
              "  <thead>\n",
              "    <tr style=\"text-align: right;\">\n",
              "      <th></th>\n",
              "      <th>Normal</th>\n",
              "      <th>Suspect</th>\n",
              "      <th>Pathological</th>\n",
              "    </tr>\n",
              "  </thead>\n",
              "  <tbody>\n",
              "    <tr>\n",
              "      <th>start_instant</th>\n",
              "      <td>6.016332</td>\n",
              "      <td>-6.661470</td>\n",
              "      <td>0.207741</td>\n",
              "    </tr>\n",
              "    <tr>\n",
              "      <th>end_instant</th>\n",
              "      <td>-2.225219</td>\n",
              "      <td>-0.429192</td>\n",
              "      <td>0.697612</td>\n",
              "    </tr>\n",
              "    <tr>\n",
              "      <th>medical_baseline</th>\n",
              "      <td>-5.496406</td>\n",
              "      <td>2.849283</td>\n",
              "      <td>1.740522</td>\n",
              "    </tr>\n",
              "    <tr>\n",
              "      <th>sisproto_baseline</th>\n",
              "      <td>-5.496406</td>\n",
              "      <td>2.849283</td>\n",
              "      <td>1.740522</td>\n",
              "    </tr>\n",
              "    <tr>\n",
              "      <th>heart_acc</th>\n",
              "      <td>4.074393</td>\n",
              "      <td>-3.644429</td>\n",
              "      <td>-0.375241</td>\n",
              "    </tr>\n",
              "    <tr>\n",
              "      <th>foetal_move</th>\n",
              "      <td>-3.250419</td>\n",
              "      <td>2.863981</td>\n",
              "      <td>0.000000</td>\n",
              "    </tr>\n",
              "    <tr>\n",
              "      <th>utherine_contract</th>\n",
              "      <td>-0.864958</td>\n",
              "      <td>0.646082</td>\n",
              "      <td>-0.901096</td>\n",
              "    </tr>\n",
              "    <tr>\n",
              "      <th>pct_short_variability</th>\n",
              "      <td>-2.989835</td>\n",
              "      <td>1.998034</td>\n",
              "      <td>-0.215649</td>\n",
              "    </tr>\n",
              "    <tr>\n",
              "      <th>mean_short_variability</th>\n",
              "      <td>2.927713</td>\n",
              "      <td>-2.640532</td>\n",
              "      <td>-0.699514</td>\n",
              "    </tr>\n",
              "    <tr>\n",
              "      <th>pct_long_variability</th>\n",
              "      <td>-6.653299</td>\n",
              "      <td>5.455237</td>\n",
              "      <td>1.667427</td>\n",
              "    </tr>\n",
              "    <tr>\n",
              "      <th>mean_long_variability</th>\n",
              "      <td>0.240612</td>\n",
              "      <td>-1.699456</td>\n",
              "      <td>0.000000</td>\n",
              "    </tr>\n",
              "    <tr>\n",
              "      <th>light_dec</th>\n",
              "      <td>7.350580</td>\n",
              "      <td>-6.923527</td>\n",
              "      <td>0.000000</td>\n",
              "    </tr>\n",
              "    <tr>\n",
              "      <th>severe_dec</th>\n",
              "      <td>0.000000</td>\n",
              "      <td>0.000000</td>\n",
              "      <td>0.852833</td>\n",
              "    </tr>\n",
              "    <tr>\n",
              "      <th>prolongued_dec</th>\n",
              "      <td>-8.976323</td>\n",
              "      <td>7.483027</td>\n",
              "      <td>1.153737</td>\n",
              "    </tr>\n",
              "    <tr>\n",
              "      <th>repetitive_dec</th>\n",
              "      <td>0.000000</td>\n",
              "      <td>0.000000</td>\n",
              "      <td>0.000000</td>\n",
              "    </tr>\n",
              "    <tr>\n",
              "      <th>width</th>\n",
              "      <td>0.892531</td>\n",
              "      <td>-2.098480</td>\n",
              "      <td>-2.148709</td>\n",
              "    </tr>\n",
              "    <tr>\n",
              "      <th>min</th>\n",
              "      <td>2.717831</td>\n",
              "      <td>-3.397347</td>\n",
              "      <td>1.678374</td>\n",
              "    </tr>\n",
              "    <tr>\n",
              "      <th>max</th>\n",
              "      <td>-2.114248</td>\n",
              "      <td>0.957651</td>\n",
              "      <td>0.000000</td>\n",
              "    </tr>\n",
              "    <tr>\n",
              "      <th>nmax</th>\n",
              "      <td>-1.816467</td>\n",
              "      <td>0.505321</td>\n",
              "      <td>0.000000</td>\n",
              "    </tr>\n",
              "    <tr>\n",
              "      <th>nzeros</th>\n",
              "      <td>2.194661</td>\n",
              "      <td>-2.829182</td>\n",
              "      <td>0.000000</td>\n",
              "    </tr>\n",
              "    <tr>\n",
              "      <th>mode</th>\n",
              "      <td>8.425826</td>\n",
              "      <td>-5.848454</td>\n",
              "      <td>-1.319906</td>\n",
              "    </tr>\n",
              "    <tr>\n",
              "      <th>mean</th>\n",
              "      <td>-0.070693</td>\n",
              "      <td>1.311928</td>\n",
              "      <td>-2.679522</td>\n",
              "    </tr>\n",
              "    <tr>\n",
              "      <th>median</th>\n",
              "      <td>2.783013</td>\n",
              "      <td>-1.255444</td>\n",
              "      <td>-0.995811</td>\n",
              "    </tr>\n",
              "    <tr>\n",
              "      <th>variance</th>\n",
              "      <td>-3.966560</td>\n",
              "      <td>5.927564</td>\n",
              "      <td>-1.818222</td>\n",
              "    </tr>\n",
              "    <tr>\n",
              "      <th>tendency</th>\n",
              "      <td>1.730390</td>\n",
              "      <td>-0.834826</td>\n",
              "      <td>-1.302737</td>\n",
              "    </tr>\n",
              "    <tr>\n",
              "      <th>calm_sleep</th>\n",
              "      <td>4.418379</td>\n",
              "      <td>-3.692721</td>\n",
              "      <td>-1.789863</td>\n",
              "    </tr>\n",
              "    <tr>\n",
              "      <th>rem_sleep</th>\n",
              "      <td>6.312340</td>\n",
              "      <td>-5.503215</td>\n",
              "      <td>-1.860374</td>\n",
              "    </tr>\n",
              "    <tr>\n",
              "      <th>calm_vigilance</th>\n",
              "      <td>4.555072</td>\n",
              "      <td>-2.728527</td>\n",
              "      <td>0.000000</td>\n",
              "    </tr>\n",
              "    <tr>\n",
              "      <th>active_vigilance</th>\n",
              "      <td>3.449023</td>\n",
              "      <td>-3.627368</td>\n",
              "      <td>0.000000</td>\n",
              "    </tr>\n",
              "    <tr>\n",
              "      <th>e</th>\n",
              "      <td>-5.313993</td>\n",
              "      <td>8.305056</td>\n",
              "      <td>-1.822108</td>\n",
              "    </tr>\n",
              "    <tr>\n",
              "      <th>acc_pattern_stress</th>\n",
              "      <td>7.244410</td>\n",
              "      <td>-2.764744</td>\n",
              "      <td>-1.837296</td>\n",
              "    </tr>\n",
              "    <tr>\n",
              "      <th>dec_pattern_vagal</th>\n",
              "      <td>2.521015</td>\n",
              "      <td>1.865346</td>\n",
              "      <td>-1.788103</td>\n",
              "    </tr>\n",
              "    <tr>\n",
              "      <th>largely_dec</th>\n",
              "      <td>-5.317337</td>\n",
              "      <td>-10.237336</td>\n",
              "      <td>5.607081</td>\n",
              "    </tr>\n",
              "    <tr>\n",
              "      <th>patho_flat_sinusoidal</th>\n",
              "      <td>-2.583044</td>\n",
              "      <td>-4.517022</td>\n",
              "      <td>4.620279</td>\n",
              "    </tr>\n",
              "    <tr>\n",
              "      <th>suspect</th>\n",
              "      <td>-4.461702</td>\n",
              "      <td>10.110494</td>\n",
              "      <td>-3.701515</td>\n",
              "    </tr>\n",
              "    <tr>\n",
              "      <th>class</th>\n",
              "      <td>-4.711808</td>\n",
              "      <td>-0.873742</td>\n",
              "      <td>1.378825</td>\n",
              "    </tr>\n",
              "  </tbody>\n",
              "</table>\n",
              "</div>\n",
              "      <button class=\"colab-df-convert\" onclick=\"convertToInteractive('df-4da57e98-53dc-4797-a1fc-c9975abd43b4')\"\n",
              "              title=\"Convert this dataframe to an interactive table.\"\n",
              "              style=\"display:none;\">\n",
              "        \n",
              "  <svg xmlns=\"http://www.w3.org/2000/svg\" height=\"24px\"viewBox=\"0 0 24 24\"\n",
              "       width=\"24px\">\n",
              "    <path d=\"M0 0h24v24H0V0z\" fill=\"none\"/>\n",
              "    <path d=\"M18.56 5.44l.94 2.06.94-2.06 2.06-.94-2.06-.94-.94-2.06-.94 2.06-2.06.94zm-11 1L8.5 8.5l.94-2.06 2.06-.94-2.06-.94L8.5 2.5l-.94 2.06-2.06.94zm10 10l.94 2.06.94-2.06 2.06-.94-2.06-.94-.94-2.06-.94 2.06-2.06.94z\"/><path d=\"M17.41 7.96l-1.37-1.37c-.4-.4-.92-.59-1.43-.59-.52 0-1.04.2-1.43.59L10.3 9.45l-7.72 7.72c-.78.78-.78 2.05 0 2.83L4 21.41c.39.39.9.59 1.41.59.51 0 1.02-.2 1.41-.59l7.78-7.78 2.81-2.81c.8-.78.8-2.07 0-2.86zM5.41 20L4 18.59l7.72-7.72 1.47 1.35L5.41 20z\"/>\n",
              "  </svg>\n",
              "      </button>\n",
              "      \n",
              "  <style>\n",
              "    .colab-df-container {\n",
              "      display:flex;\n",
              "      flex-wrap:wrap;\n",
              "      gap: 12px;\n",
              "    }\n",
              "\n",
              "    .colab-df-convert {\n",
              "      background-color: #E8F0FE;\n",
              "      border: none;\n",
              "      border-radius: 50%;\n",
              "      cursor: pointer;\n",
              "      display: none;\n",
              "      fill: #1967D2;\n",
              "      height: 32px;\n",
              "      padding: 0 0 0 0;\n",
              "      width: 32px;\n",
              "    }\n",
              "\n",
              "    .colab-df-convert:hover {\n",
              "      background-color: #E2EBFA;\n",
              "      box-shadow: 0px 1px 2px rgba(60, 64, 67, 0.3), 0px 1px 3px 1px rgba(60, 64, 67, 0.15);\n",
              "      fill: #174EA6;\n",
              "    }\n",
              "\n",
              "    [theme=dark] .colab-df-convert {\n",
              "      background-color: #3B4455;\n",
              "      fill: #D2E3FC;\n",
              "    }\n",
              "\n",
              "    [theme=dark] .colab-df-convert:hover {\n",
              "      background-color: #434B5C;\n",
              "      box-shadow: 0px 1px 3px 1px rgba(0, 0, 0, 0.15);\n",
              "      filter: drop-shadow(0px 1px 2px rgba(0, 0, 0, 0.3));\n",
              "      fill: #FFFFFF;\n",
              "    }\n",
              "  </style>\n",
              "\n",
              "      <script>\n",
              "        const buttonEl =\n",
              "          document.querySelector('#df-4da57e98-53dc-4797-a1fc-c9975abd43b4 button.colab-df-convert');\n",
              "        buttonEl.style.display =\n",
              "          google.colab.kernel.accessAllowed ? 'block' : 'none';\n",
              "\n",
              "        async function convertToInteractive(key) {\n",
              "          const element = document.querySelector('#df-4da57e98-53dc-4797-a1fc-c9975abd43b4');\n",
              "          const dataTable =\n",
              "            await google.colab.kernel.invokeFunction('convertToInteractive',\n",
              "                                                     [key], {});\n",
              "          if (!dataTable) return;\n",
              "\n",
              "          const docLinkHtml = 'Like what you see? Visit the ' +\n",
              "            '<a target=\"_blank\" href=https://colab.research.google.com/notebooks/data_table.ipynb>data table notebook</a>'\n",
              "            + ' to learn more about interactive tables.';\n",
              "          element.innerHTML = '';\n",
              "          dataTable['output_type'] = 'display_data';\n",
              "          await google.colab.output.renderOutput(dataTable, element);\n",
              "          const docLink = document.createElement('div');\n",
              "          docLink.innerHTML = docLinkHtml;\n",
              "          element.appendChild(docLink);\n",
              "        }\n",
              "      </script>\n",
              "    </div>\n",
              "  </div>\n",
              "  "
            ]
          },
          "metadata": {},
          "execution_count": 59
        }
      ]
    },
    {
      "cell_type": "markdown",
      "source": [
        "Notiamo come, siccome è stata scelta nel modello migliore la regolarizzazione `l1`, alcune features si sono azzerate, specialemte per quanto riguarda la predizione della classe `Pathological`. Questa scelta di parametri ha portato ad un *confusion matrix*:"
      ],
      "metadata": {
        "id": "Dmz7pjJ1Yj4d"
      }
    },
    {
      "cell_type": "code",
      "source": [
        "cm = get_confusion_matrix(gs, y_test, gs.predict(X_test), normalize='true')\n",
        "get_percentage_cm(cm)"
      ],
      "metadata": {
        "colab": {
          "base_uri": "https://localhost:8080/",
          "height": 142
        },
        "id": "NDOmvhdNYnou",
        "outputId": "e9a081b7-3f09-4d80-823c-f78b662a2f05"
      },
      "execution_count": 60,
      "outputs": [
        {
          "output_type": "execute_result",
          "data": {
            "text/plain": [
              "              Normal Suspect Pathological\n",
              "Normal        98.91%   1.09%         0.0%\n",
              "Suspect         5.1%   94.9%         0.0%\n",
              "Pathological    0.0%   1.69%       98.31%"
            ],
            "text/html": [
              "\n",
              "  <div id=\"df-f497aea9-36ef-4147-9068-bf47b9233c64\">\n",
              "    <div class=\"colab-df-container\">\n",
              "      <div>\n",
              "<style scoped>\n",
              "    .dataframe tbody tr th:only-of-type {\n",
              "        vertical-align: middle;\n",
              "    }\n",
              "\n",
              "    .dataframe tbody tr th {\n",
              "        vertical-align: top;\n",
              "    }\n",
              "\n",
              "    .dataframe thead th {\n",
              "        text-align: right;\n",
              "    }\n",
              "</style>\n",
              "<table border=\"1\" class=\"dataframe\">\n",
              "  <thead>\n",
              "    <tr style=\"text-align: right;\">\n",
              "      <th></th>\n",
              "      <th>Normal</th>\n",
              "      <th>Suspect</th>\n",
              "      <th>Pathological</th>\n",
              "    </tr>\n",
              "  </thead>\n",
              "  <tbody>\n",
              "    <tr>\n",
              "      <th>Normal</th>\n",
              "      <td>98.91%</td>\n",
              "      <td>1.09%</td>\n",
              "      <td>0.0%</td>\n",
              "    </tr>\n",
              "    <tr>\n",
              "      <th>Suspect</th>\n",
              "      <td>5.1%</td>\n",
              "      <td>94.9%</td>\n",
              "      <td>0.0%</td>\n",
              "    </tr>\n",
              "    <tr>\n",
              "      <th>Pathological</th>\n",
              "      <td>0.0%</td>\n",
              "      <td>1.69%</td>\n",
              "      <td>98.31%</td>\n",
              "    </tr>\n",
              "  </tbody>\n",
              "</table>\n",
              "</div>\n",
              "      <button class=\"colab-df-convert\" onclick=\"convertToInteractive('df-f497aea9-36ef-4147-9068-bf47b9233c64')\"\n",
              "              title=\"Convert this dataframe to an interactive table.\"\n",
              "              style=\"display:none;\">\n",
              "        \n",
              "  <svg xmlns=\"http://www.w3.org/2000/svg\" height=\"24px\"viewBox=\"0 0 24 24\"\n",
              "       width=\"24px\">\n",
              "    <path d=\"M0 0h24v24H0V0z\" fill=\"none\"/>\n",
              "    <path d=\"M18.56 5.44l.94 2.06.94-2.06 2.06-.94-2.06-.94-.94-2.06-.94 2.06-2.06.94zm-11 1L8.5 8.5l.94-2.06 2.06-.94-2.06-.94L8.5 2.5l-.94 2.06-2.06.94zm10 10l.94 2.06.94-2.06 2.06-.94-2.06-.94-.94-2.06-.94 2.06-2.06.94z\"/><path d=\"M17.41 7.96l-1.37-1.37c-.4-.4-.92-.59-1.43-.59-.52 0-1.04.2-1.43.59L10.3 9.45l-7.72 7.72c-.78.78-.78 2.05 0 2.83L4 21.41c.39.39.9.59 1.41.59.51 0 1.02-.2 1.41-.59l7.78-7.78 2.81-2.81c.8-.78.8-2.07 0-2.86zM5.41 20L4 18.59l7.72-7.72 1.47 1.35L5.41 20z\"/>\n",
              "  </svg>\n",
              "      </button>\n",
              "      \n",
              "  <style>\n",
              "    .colab-df-container {\n",
              "      display:flex;\n",
              "      flex-wrap:wrap;\n",
              "      gap: 12px;\n",
              "    }\n",
              "\n",
              "    .colab-df-convert {\n",
              "      background-color: #E8F0FE;\n",
              "      border: none;\n",
              "      border-radius: 50%;\n",
              "      cursor: pointer;\n",
              "      display: none;\n",
              "      fill: #1967D2;\n",
              "      height: 32px;\n",
              "      padding: 0 0 0 0;\n",
              "      width: 32px;\n",
              "    }\n",
              "\n",
              "    .colab-df-convert:hover {\n",
              "      background-color: #E2EBFA;\n",
              "      box-shadow: 0px 1px 2px rgba(60, 64, 67, 0.3), 0px 1px 3px 1px rgba(60, 64, 67, 0.15);\n",
              "      fill: #174EA6;\n",
              "    }\n",
              "\n",
              "    [theme=dark] .colab-df-convert {\n",
              "      background-color: #3B4455;\n",
              "      fill: #D2E3FC;\n",
              "    }\n",
              "\n",
              "    [theme=dark] .colab-df-convert:hover {\n",
              "      background-color: #434B5C;\n",
              "      box-shadow: 0px 1px 3px 1px rgba(0, 0, 0, 0.15);\n",
              "      filter: drop-shadow(0px 1px 2px rgba(0, 0, 0, 0.3));\n",
              "      fill: #FFFFFF;\n",
              "    }\n",
              "  </style>\n",
              "\n",
              "      <script>\n",
              "        const buttonEl =\n",
              "          document.querySelector('#df-f497aea9-36ef-4147-9068-bf47b9233c64 button.colab-df-convert');\n",
              "        buttonEl.style.display =\n",
              "          google.colab.kernel.accessAllowed ? 'block' : 'none';\n",
              "\n",
              "        async function convertToInteractive(key) {\n",
              "          const element = document.querySelector('#df-f497aea9-36ef-4147-9068-bf47b9233c64');\n",
              "          const dataTable =\n",
              "            await google.colab.kernel.invokeFunction('convertToInteractive',\n",
              "                                                     [key], {});\n",
              "          if (!dataTable) return;\n",
              "\n",
              "          const docLinkHtml = 'Like what you see? Visit the ' +\n",
              "            '<a target=\"_blank\" href=https://colab.research.google.com/notebooks/data_table.ipynb>data table notebook</a>'\n",
              "            + ' to learn more about interactive tables.';\n",
              "          element.innerHTML = '';\n",
              "          dataTable['output_type'] = 'display_data';\n",
              "          await google.colab.output.renderOutput(dataTable, element);\n",
              "          const docLink = document.createElement('div');\n",
              "          docLink.innerHTML = docLinkHtml;\n",
              "          element.appendChild(docLink);\n",
              "        }\n",
              "      </script>\n",
              "    </div>\n",
              "  </div>\n",
              "  "
            ]
          },
          "metadata": {},
          "execution_count": 60
        }
      ]
    },
    {
      "cell_type": "markdown",
      "source": [
        "Notiamo subito che:\n",
        "- I risultati per la classe `Normal` sono migliorati notevolmente: i parametri sono stati pesati in modo tale da redistribuire i pesi e premiare la predizione della classe `Normal`.\n",
        "- I risultati per classe `Suspect` sono invece migliorati, ma rimanendo poco più bassi rispetto alle altre classi. Questo ci può far pensare che per via dei miglioramenti nelle altre categorie, gli individui sospetti risultano ora più difficili da individuare. Questo può essere notato anche nei diversi pesi utilizzati per i coefficienti $\\mathbf{w}$ del modello individuato, dove per esempio, la feature `prolongued_dec` assume in valore assoluto il valore più alto, ma nelle due classi ha segno opposto.\n",
        "- I risultati per la classe `Pathological` sono invece nettamente migliorati, rendendo il modello pressoché infallibile nel creare un falso `Pathological`, e avere una percentuale più del 98% nella predizione di un soggetto patologoico; tutto questo nonostante i dati per quest'ultima categoria sono molto limitati."
      ],
      "metadata": {
        "id": "H-ERLwLRY7TT"
      }
    },
    {
      "cell_type": "markdown",
      "source": [
        "Testiamo ora un modello di **regressione logistica**, il quale si basa sulla probabilità di appartenenza di una classe per ogni istanza del training set. Di default viene utilizzata la regolarizzazione `l1`, e oltre ad impostare il *random_state*, impostiamo anche "
      ],
      "metadata": {
        "id": "__yk9PD3Z5bR"
      }
    },
    {
      "cell_type": "code",
      "source": [
        "from sklearn.linear_model import LogisticRegression\n",
        "\n",
        "model = LogisticRegression(random_state=1926, solver='saga')\n",
        "\n",
        "model.fit(X_train, y_train)"
      ],
      "metadata": {
        "colab": {
          "base_uri": "https://localhost:8080/",
          "height": 128
        },
        "id": "mzNHd4AsaNt7",
        "outputId": "81bd66ea-3bb4-4f48-c8e3-b814765577b5"
      },
      "execution_count": 61,
      "outputs": [
        {
          "output_type": "stream",
          "name": "stderr",
          "text": [
            "/usr/local/lib/python3.10/dist-packages/sklearn/linear_model/_sag.py:350: ConvergenceWarning: The max_iter was reached which means the coef_ did not converge\n",
            "  warnings.warn(\n"
          ]
        },
        {
          "output_type": "execute_result",
          "data": {
            "text/plain": [
              "LogisticRegression(random_state=1926, solver='saga')"
            ],
            "text/html": [
              "<style>#sk-container-id-4 {color: black;background-color: white;}#sk-container-id-4 pre{padding: 0;}#sk-container-id-4 div.sk-toggleable {background-color: white;}#sk-container-id-4 label.sk-toggleable__label {cursor: pointer;display: block;width: 100%;margin-bottom: 0;padding: 0.3em;box-sizing: border-box;text-align: center;}#sk-container-id-4 label.sk-toggleable__label-arrow:before {content: \"▸\";float: left;margin-right: 0.25em;color: #696969;}#sk-container-id-4 label.sk-toggleable__label-arrow:hover:before {color: black;}#sk-container-id-4 div.sk-estimator:hover label.sk-toggleable__label-arrow:before {color: black;}#sk-container-id-4 div.sk-toggleable__content {max-height: 0;max-width: 0;overflow: hidden;text-align: left;background-color: #f0f8ff;}#sk-container-id-4 div.sk-toggleable__content pre {margin: 0.2em;color: black;border-radius: 0.25em;background-color: #f0f8ff;}#sk-container-id-4 input.sk-toggleable__control:checked~div.sk-toggleable__content {max-height: 200px;max-width: 100%;overflow: auto;}#sk-container-id-4 input.sk-toggleable__control:checked~label.sk-toggleable__label-arrow:before {content: \"▾\";}#sk-container-id-4 div.sk-estimator input.sk-toggleable__control:checked~label.sk-toggleable__label {background-color: #d4ebff;}#sk-container-id-4 div.sk-label input.sk-toggleable__control:checked~label.sk-toggleable__label {background-color: #d4ebff;}#sk-container-id-4 input.sk-hidden--visually {border: 0;clip: rect(1px 1px 1px 1px);clip: rect(1px, 1px, 1px, 1px);height: 1px;margin: -1px;overflow: hidden;padding: 0;position: absolute;width: 1px;}#sk-container-id-4 div.sk-estimator {font-family: monospace;background-color: #f0f8ff;border: 1px dotted black;border-radius: 0.25em;box-sizing: border-box;margin-bottom: 0.5em;}#sk-container-id-4 div.sk-estimator:hover {background-color: #d4ebff;}#sk-container-id-4 div.sk-parallel-item::after {content: \"\";width: 100%;border-bottom: 1px solid gray;flex-grow: 1;}#sk-container-id-4 div.sk-label:hover label.sk-toggleable__label {background-color: #d4ebff;}#sk-container-id-4 div.sk-serial::before {content: \"\";position: absolute;border-left: 1px solid gray;box-sizing: border-box;top: 0;bottom: 0;left: 50%;z-index: 0;}#sk-container-id-4 div.sk-serial {display: flex;flex-direction: column;align-items: center;background-color: white;padding-right: 0.2em;padding-left: 0.2em;position: relative;}#sk-container-id-4 div.sk-item {position: relative;z-index: 1;}#sk-container-id-4 div.sk-parallel {display: flex;align-items: stretch;justify-content: center;background-color: white;position: relative;}#sk-container-id-4 div.sk-item::before, #sk-container-id-4 div.sk-parallel-item::before {content: \"\";position: absolute;border-left: 1px solid gray;box-sizing: border-box;top: 0;bottom: 0;left: 50%;z-index: -1;}#sk-container-id-4 div.sk-parallel-item {display: flex;flex-direction: column;z-index: 1;position: relative;background-color: white;}#sk-container-id-4 div.sk-parallel-item:first-child::after {align-self: flex-end;width: 50%;}#sk-container-id-4 div.sk-parallel-item:last-child::after {align-self: flex-start;width: 50%;}#sk-container-id-4 div.sk-parallel-item:only-child::after {width: 0;}#sk-container-id-4 div.sk-dashed-wrapped {border: 1px dashed gray;margin: 0 0.4em 0.5em 0.4em;box-sizing: border-box;padding-bottom: 0.4em;background-color: white;}#sk-container-id-4 div.sk-label label {font-family: monospace;font-weight: bold;display: inline-block;line-height: 1.2em;}#sk-container-id-4 div.sk-label-container {text-align: center;}#sk-container-id-4 div.sk-container {/* jupyter's `normalize.less` sets `[hidden] { display: none; }` but bootstrap.min.css set `[hidden] { display: none !important; }` so we also need the `!important` here to be able to override the default hidden behavior on the sphinx rendered scikit-learn.org. See: https://github.com/scikit-learn/scikit-learn/issues/21755 */display: inline-block !important;position: relative;}#sk-container-id-4 div.sk-text-repr-fallback {display: none;}</style><div id=\"sk-container-id-4\" class=\"sk-top-container\"><div class=\"sk-text-repr-fallback\"><pre>LogisticRegression(random_state=1926, solver=&#x27;saga&#x27;)</pre><b>In a Jupyter environment, please rerun this cell to show the HTML representation or trust the notebook. <br />On GitHub, the HTML representation is unable to render, please try loading this page with nbviewer.org.</b></div><div class=\"sk-container\" hidden><div class=\"sk-item\"><div class=\"sk-estimator sk-toggleable\"><input class=\"sk-toggleable__control sk-hidden--visually\" id=\"sk-estimator-id-10\" type=\"checkbox\" checked><label for=\"sk-estimator-id-10\" class=\"sk-toggleable__label sk-toggleable__label-arrow\">LogisticRegression</label><div class=\"sk-toggleable__content\"><pre>LogisticRegression(random_state=1926, solver=&#x27;saga&#x27;)</pre></div></div></div></div></div>"
            ]
          },
          "metadata": {},
          "execution_count": 61
        }
      ]
    },
    {
      "cell_type": "code",
      "source": [
        "get_percentage_cm(\n",
        "    get_confusion_matrix(model, y_test, model.predict(X_test), normalize='true'))"
      ],
      "metadata": {
        "colab": {
          "base_uri": "https://localhost:8080/",
          "height": 142
        },
        "id": "CvR97Oa7aPS1",
        "outputId": "543087de-900f-4326-a1a8-62e31410fca1"
      },
      "execution_count": 62,
      "outputs": [
        {
          "output_type": "execute_result",
          "data": {
            "text/plain": [
              "              Normal Suspect Pathological\n",
              "Normal        98.55%   1.27%        0.18%\n",
              "Suspect       67.35%  32.65%         0.0%\n",
              "Pathological  42.37%   32.2%       25.42%"
            ],
            "text/html": [
              "\n",
              "  <div id=\"df-c1ea60e0-641f-42af-be97-bad9a171b0ab\">\n",
              "    <div class=\"colab-df-container\">\n",
              "      <div>\n",
              "<style scoped>\n",
              "    .dataframe tbody tr th:only-of-type {\n",
              "        vertical-align: middle;\n",
              "    }\n",
              "\n",
              "    .dataframe tbody tr th {\n",
              "        vertical-align: top;\n",
              "    }\n",
              "\n",
              "    .dataframe thead th {\n",
              "        text-align: right;\n",
              "    }\n",
              "</style>\n",
              "<table border=\"1\" class=\"dataframe\">\n",
              "  <thead>\n",
              "    <tr style=\"text-align: right;\">\n",
              "      <th></th>\n",
              "      <th>Normal</th>\n",
              "      <th>Suspect</th>\n",
              "      <th>Pathological</th>\n",
              "    </tr>\n",
              "  </thead>\n",
              "  <tbody>\n",
              "    <tr>\n",
              "      <th>Normal</th>\n",
              "      <td>98.55%</td>\n",
              "      <td>1.27%</td>\n",
              "      <td>0.18%</td>\n",
              "    </tr>\n",
              "    <tr>\n",
              "      <th>Suspect</th>\n",
              "      <td>67.35%</td>\n",
              "      <td>32.65%</td>\n",
              "      <td>0.0%</td>\n",
              "    </tr>\n",
              "    <tr>\n",
              "      <th>Pathological</th>\n",
              "      <td>42.37%</td>\n",
              "      <td>32.2%</td>\n",
              "      <td>25.42%</td>\n",
              "    </tr>\n",
              "  </tbody>\n",
              "</table>\n",
              "</div>\n",
              "      <button class=\"colab-df-convert\" onclick=\"convertToInteractive('df-c1ea60e0-641f-42af-be97-bad9a171b0ab')\"\n",
              "              title=\"Convert this dataframe to an interactive table.\"\n",
              "              style=\"display:none;\">\n",
              "        \n",
              "  <svg xmlns=\"http://www.w3.org/2000/svg\" height=\"24px\"viewBox=\"0 0 24 24\"\n",
              "       width=\"24px\">\n",
              "    <path d=\"M0 0h24v24H0V0z\" fill=\"none\"/>\n",
              "    <path d=\"M18.56 5.44l.94 2.06.94-2.06 2.06-.94-2.06-.94-.94-2.06-.94 2.06-2.06.94zm-11 1L8.5 8.5l.94-2.06 2.06-.94-2.06-.94L8.5 2.5l-.94 2.06-2.06.94zm10 10l.94 2.06.94-2.06 2.06-.94-2.06-.94-.94-2.06-.94 2.06-2.06.94z\"/><path d=\"M17.41 7.96l-1.37-1.37c-.4-.4-.92-.59-1.43-.59-.52 0-1.04.2-1.43.59L10.3 9.45l-7.72 7.72c-.78.78-.78 2.05 0 2.83L4 21.41c.39.39.9.59 1.41.59.51 0 1.02-.2 1.41-.59l7.78-7.78 2.81-2.81c.8-.78.8-2.07 0-2.86zM5.41 20L4 18.59l7.72-7.72 1.47 1.35L5.41 20z\"/>\n",
              "  </svg>\n",
              "      </button>\n",
              "      \n",
              "  <style>\n",
              "    .colab-df-container {\n",
              "      display:flex;\n",
              "      flex-wrap:wrap;\n",
              "      gap: 12px;\n",
              "    }\n",
              "\n",
              "    .colab-df-convert {\n",
              "      background-color: #E8F0FE;\n",
              "      border: none;\n",
              "      border-radius: 50%;\n",
              "      cursor: pointer;\n",
              "      display: none;\n",
              "      fill: #1967D2;\n",
              "      height: 32px;\n",
              "      padding: 0 0 0 0;\n",
              "      width: 32px;\n",
              "    }\n",
              "\n",
              "    .colab-df-convert:hover {\n",
              "      background-color: #E2EBFA;\n",
              "      box-shadow: 0px 1px 2px rgba(60, 64, 67, 0.3), 0px 1px 3px 1px rgba(60, 64, 67, 0.15);\n",
              "      fill: #174EA6;\n",
              "    }\n",
              "\n",
              "    [theme=dark] .colab-df-convert {\n",
              "      background-color: #3B4455;\n",
              "      fill: #D2E3FC;\n",
              "    }\n",
              "\n",
              "    [theme=dark] .colab-df-convert:hover {\n",
              "      background-color: #434B5C;\n",
              "      box-shadow: 0px 1px 3px 1px rgba(0, 0, 0, 0.15);\n",
              "      filter: drop-shadow(0px 1px 2px rgba(0, 0, 0, 0.3));\n",
              "      fill: #FFFFFF;\n",
              "    }\n",
              "  </style>\n",
              "\n",
              "      <script>\n",
              "        const buttonEl =\n",
              "          document.querySelector('#df-c1ea60e0-641f-42af-be97-bad9a171b0ab button.colab-df-convert');\n",
              "        buttonEl.style.display =\n",
              "          google.colab.kernel.accessAllowed ? 'block' : 'none';\n",
              "\n",
              "        async function convertToInteractive(key) {\n",
              "          const element = document.querySelector('#df-c1ea60e0-641f-42af-be97-bad9a171b0ab');\n",
              "          const dataTable =\n",
              "            await google.colab.kernel.invokeFunction('convertToInteractive',\n",
              "                                                     [key], {});\n",
              "          if (!dataTable) return;\n",
              "\n",
              "          const docLinkHtml = 'Like what you see? Visit the ' +\n",
              "            '<a target=\"_blank\" href=https://colab.research.google.com/notebooks/data_table.ipynb>data table notebook</a>'\n",
              "            + ' to learn more about interactive tables.';\n",
              "          element.innerHTML = '';\n",
              "          dataTable['output_type'] = 'display_data';\n",
              "          await google.colab.output.renderOutput(dataTable, element);\n",
              "          const docLink = document.createElement('div');\n",
              "          docLink.innerHTML = docLinkHtml;\n",
              "          element.appendChild(docLink);\n",
              "        }\n",
              "      </script>\n",
              "    </div>\n",
              "  </div>\n",
              "  "
            ]
          },
          "metadata": {},
          "execution_count": 62
        }
      ]
    },
    {
      "cell_type": "markdown",
      "source": [
        "È interessante notare come, similmente al modello precedente, la mal predizione di un soggetto patologico in un soggetto normale o sospetto è pressochè nulla (terza colonna, prime due righe), mentre in questo modello di regressione logistica, le accuratetzze sui casi sospetti e patologici sono scese drasticamente.\n",
        "\n",
        "Procediamo ad effettuare *tuning* degli iperparametri del modello"
      ],
      "metadata": {
        "id": "erVitgc5aWie"
      }
    },
    {
      "cell_type": "code",
      "source": [
        "log_reg = Pipeline([\n",
        "    ('scale', None),\n",
        "    ('regr', LogisticRegression(solver='saga', random_state=1926, ))\n",
        "])\n",
        "\n",
        "grid = [\n",
        "    {\n",
        "        'scale': [None, StandardScaler(), MinMaxScaler()],\n",
        "        'regr__penalty': ['l1', 'l2'],\n",
        "        'regr__C': np.logspace(-5, 3, 9),\n",
        "        'regr__fit_intercept': [False, True],\n",
        "    },\n",
        "    {\n",
        "        'scale': [None, StandardScaler(), MinMaxScaler()],\n",
        "        'regr__penalty': ['elasticnet'],\n",
        "        'regr__C': np.logspace(-5, 3, 9),\n",
        "        'regr__l1_ratio': [0.1, 0.2, 0.3, 0.4, 0.5, 0.6, 0.7, 0.8, 0.9],\n",
        "        'regr__fit_intercept': [False, True],\n",
        "    },\n",
        "    {\n",
        "        'scale': [None, StandardScaler(), MinMaxScaler()],\n",
        "        'regr__penalty': [None]\n",
        "    }\n",
        "]\n",
        "\n",
        "gs, score = grid_search_class(log_reg, grid, X_train, y_train)"
      ],
      "metadata": {
        "colab": {
          "base_uri": "https://localhost:8080/"
        },
        "id": "AI-LCheyaUNc",
        "outputId": "6318d661-5e0e-429f-8df2-2472ad658bd1"
      },
      "execution_count": 63,
      "outputs": [
        {
          "output_type": "stream",
          "name": "stderr",
          "text": [
            "/usr/local/lib/python3.10/dist-packages/sklearn/linear_model/_sag.py:350: ConvergenceWarning: The max_iter was reached which means the coef_ did not converge\n",
            "  warnings.warn(\n",
            "/usr/local/lib/python3.10/dist-packages/sklearn/linear_model/_sag.py:350: ConvergenceWarning: The max_iter was reached which means the coef_ did not converge\n",
            "  warnings.warn(\n",
            "/usr/local/lib/python3.10/dist-packages/sklearn/linear_model/_sag.py:350: ConvergenceWarning: The max_iter was reached which means the coef_ did not converge\n",
            "  warnings.warn(\n",
            "/usr/local/lib/python3.10/dist-packages/sklearn/linear_model/_sag.py:350: ConvergenceWarning: The max_iter was reached which means the coef_ did not converge\n",
            "  warnings.warn(\n",
            "/usr/local/lib/python3.10/dist-packages/sklearn/linear_model/_sag.py:350: ConvergenceWarning: The max_iter was reached which means the coef_ did not converge\n",
            "  warnings.warn(\n",
            "/usr/local/lib/python3.10/dist-packages/sklearn/linear_model/_sag.py:350: ConvergenceWarning: The max_iter was reached which means the coef_ did not converge\n",
            "  warnings.warn(\n",
            "/usr/local/lib/python3.10/dist-packages/sklearn/linear_model/_sag.py:350: ConvergenceWarning: The max_iter was reached which means the coef_ did not converge\n",
            "  warnings.warn(\n",
            "/usr/local/lib/python3.10/dist-packages/sklearn/linear_model/_sag.py:350: ConvergenceWarning: The max_iter was reached which means the coef_ did not converge\n",
            "  warnings.warn(\n",
            "/usr/local/lib/python3.10/dist-packages/sklearn/linear_model/_sag.py:350: ConvergenceWarning: The max_iter was reached which means the coef_ did not converge\n",
            "  warnings.warn(\n",
            "/usr/local/lib/python3.10/dist-packages/sklearn/linear_model/_sag.py:350: ConvergenceWarning: The max_iter was reached which means the coef_ did not converge\n",
            "  warnings.warn(\n",
            "/usr/local/lib/python3.10/dist-packages/sklearn/linear_model/_sag.py:350: ConvergenceWarning: The max_iter was reached which means the coef_ did not converge\n",
            "  warnings.warn(\n",
            "/usr/local/lib/python3.10/dist-packages/sklearn/linear_model/_sag.py:350: ConvergenceWarning: The max_iter was reached which means the coef_ did not converge\n",
            "  warnings.warn(\n",
            "/usr/local/lib/python3.10/dist-packages/sklearn/linear_model/_sag.py:350: ConvergenceWarning: The max_iter was reached which means the coef_ did not converge\n",
            "  warnings.warn(\n",
            "/usr/local/lib/python3.10/dist-packages/sklearn/linear_model/_sag.py:350: ConvergenceWarning: The max_iter was reached which means the coef_ did not converge\n",
            "  warnings.warn(\n",
            "/usr/local/lib/python3.10/dist-packages/sklearn/linear_model/_sag.py:350: ConvergenceWarning: The max_iter was reached which means the coef_ did not converge\n",
            "  warnings.warn(\n",
            "/usr/local/lib/python3.10/dist-packages/sklearn/linear_model/_sag.py:350: ConvergenceWarning: The max_iter was reached which means the coef_ did not converge\n",
            "  warnings.warn(\n",
            "/usr/local/lib/python3.10/dist-packages/sklearn/linear_model/_sag.py:350: ConvergenceWarning: The max_iter was reached which means the coef_ did not converge\n",
            "  warnings.warn(\n",
            "/usr/local/lib/python3.10/dist-packages/sklearn/linear_model/_sag.py:350: ConvergenceWarning: The max_iter was reached which means the coef_ did not converge\n",
            "  warnings.warn(\n",
            "/usr/local/lib/python3.10/dist-packages/sklearn/linear_model/_sag.py:350: ConvergenceWarning: The max_iter was reached which means the coef_ did not converge\n",
            "  warnings.warn(\n",
            "/usr/local/lib/python3.10/dist-packages/sklearn/linear_model/_sag.py:350: ConvergenceWarning: The max_iter was reached which means the coef_ did not converge\n",
            "  warnings.warn(\n",
            "/usr/local/lib/python3.10/dist-packages/sklearn/linear_model/_sag.py:350: ConvergenceWarning: The max_iter was reached which means the coef_ did not converge\n",
            "  warnings.warn(\n",
            "/usr/local/lib/python3.10/dist-packages/sklearn/linear_model/_sag.py:350: ConvergenceWarning: The max_iter was reached which means the coef_ did not converge\n",
            "  warnings.warn(\n",
            "/usr/local/lib/python3.10/dist-packages/sklearn/linear_model/_sag.py:350: ConvergenceWarning: The max_iter was reached which means the coef_ did not converge\n",
            "  warnings.warn(\n",
            "/usr/local/lib/python3.10/dist-packages/sklearn/linear_model/_sag.py:350: ConvergenceWarning: The max_iter was reached which means the coef_ did not converge\n",
            "  warnings.warn(\n",
            "/usr/local/lib/python3.10/dist-packages/sklearn/linear_model/_sag.py:350: ConvergenceWarning: The max_iter was reached which means the coef_ did not converge\n",
            "  warnings.warn(\n",
            "/usr/local/lib/python3.10/dist-packages/sklearn/linear_model/_sag.py:350: ConvergenceWarning: The max_iter was reached which means the coef_ did not converge\n",
            "  warnings.warn(\n",
            "/usr/local/lib/python3.10/dist-packages/sklearn/linear_model/_sag.py:350: ConvergenceWarning: The max_iter was reached which means the coef_ did not converge\n",
            "  warnings.warn(\n",
            "/usr/local/lib/python3.10/dist-packages/sklearn/linear_model/_sag.py:350: ConvergenceWarning: The max_iter was reached which means the coef_ did not converge\n",
            "  warnings.warn(\n",
            "/usr/local/lib/python3.10/dist-packages/sklearn/linear_model/_sag.py:350: ConvergenceWarning: The max_iter was reached which means the coef_ did not converge\n",
            "  warnings.warn(\n",
            "/usr/local/lib/python3.10/dist-packages/sklearn/linear_model/_sag.py:350: ConvergenceWarning: The max_iter was reached which means the coef_ did not converge\n",
            "  warnings.warn(\n",
            "/usr/local/lib/python3.10/dist-packages/sklearn/linear_model/_sag.py:350: ConvergenceWarning: The max_iter was reached which means the coef_ did not converge\n",
            "  warnings.warn(\n",
            "/usr/local/lib/python3.10/dist-packages/sklearn/linear_model/_sag.py:350: ConvergenceWarning: The max_iter was reached which means the coef_ did not converge\n",
            "  warnings.warn(\n",
            "/usr/local/lib/python3.10/dist-packages/sklearn/linear_model/_sag.py:350: ConvergenceWarning: The max_iter was reached which means the coef_ did not converge\n",
            "  warnings.warn(\n",
            "/usr/local/lib/python3.10/dist-packages/sklearn/linear_model/_sag.py:350: ConvergenceWarning: The max_iter was reached which means the coef_ did not converge\n",
            "  warnings.warn(\n",
            "/usr/local/lib/python3.10/dist-packages/sklearn/linear_model/_sag.py:350: ConvergenceWarning: The max_iter was reached which means the coef_ did not converge\n",
            "  warnings.warn(\n",
            "/usr/local/lib/python3.10/dist-packages/sklearn/linear_model/_sag.py:350: ConvergenceWarning: The max_iter was reached which means the coef_ did not converge\n",
            "  warnings.warn(\n",
            "/usr/local/lib/python3.10/dist-packages/sklearn/linear_model/_sag.py:350: ConvergenceWarning: The max_iter was reached which means the coef_ did not converge\n",
            "  warnings.warn(\n",
            "/usr/local/lib/python3.10/dist-packages/sklearn/linear_model/_sag.py:350: ConvergenceWarning: The max_iter was reached which means the coef_ did not converge\n",
            "  warnings.warn(\n",
            "/usr/local/lib/python3.10/dist-packages/sklearn/linear_model/_sag.py:350: ConvergenceWarning: The max_iter was reached which means the coef_ did not converge\n",
            "  warnings.warn(\n",
            "/usr/local/lib/python3.10/dist-packages/sklearn/linear_model/_sag.py:350: ConvergenceWarning: The max_iter was reached which means the coef_ did not converge\n",
            "  warnings.warn(\n",
            "/usr/local/lib/python3.10/dist-packages/sklearn/linear_model/_sag.py:350: ConvergenceWarning: The max_iter was reached which means the coef_ did not converge\n",
            "  warnings.warn(\n",
            "/usr/local/lib/python3.10/dist-packages/sklearn/linear_model/_sag.py:350: ConvergenceWarning: The max_iter was reached which means the coef_ did not converge\n",
            "  warnings.warn(\n",
            "/usr/local/lib/python3.10/dist-packages/sklearn/linear_model/_sag.py:350: ConvergenceWarning: The max_iter was reached which means the coef_ did not converge\n",
            "  warnings.warn(\n",
            "/usr/local/lib/python3.10/dist-packages/sklearn/linear_model/_sag.py:350: ConvergenceWarning: The max_iter was reached which means the coef_ did not converge\n",
            "  warnings.warn(\n",
            "/usr/local/lib/python3.10/dist-packages/sklearn/linear_model/_sag.py:350: ConvergenceWarning: The max_iter was reached which means the coef_ did not converge\n",
            "  warnings.warn(\n",
            "/usr/local/lib/python3.10/dist-packages/sklearn/linear_model/_sag.py:350: ConvergenceWarning: The max_iter was reached which means the coef_ did not converge\n",
            "  warnings.warn(\n",
            "/usr/local/lib/python3.10/dist-packages/sklearn/linear_model/_sag.py:350: ConvergenceWarning: The max_iter was reached which means the coef_ did not converge\n",
            "  warnings.warn(\n",
            "/usr/local/lib/python3.10/dist-packages/sklearn/linear_model/_sag.py:350: ConvergenceWarning: The max_iter was reached which means the coef_ did not converge\n",
            "  warnings.warn(\n",
            "/usr/local/lib/python3.10/dist-packages/sklearn/linear_model/_sag.py:350: ConvergenceWarning: The max_iter was reached which means the coef_ did not converge\n",
            "  warnings.warn(\n",
            "/usr/local/lib/python3.10/dist-packages/sklearn/linear_model/_sag.py:350: ConvergenceWarning: The max_iter was reached which means the coef_ did not converge\n",
            "  warnings.warn(\n",
            "/usr/local/lib/python3.10/dist-packages/sklearn/linear_model/_sag.py:350: ConvergenceWarning: The max_iter was reached which means the coef_ did not converge\n",
            "  warnings.warn(\n",
            "/usr/local/lib/python3.10/dist-packages/sklearn/linear_model/_sag.py:350: ConvergenceWarning: The max_iter was reached which means the coef_ did not converge\n",
            "  warnings.warn(\n",
            "/usr/local/lib/python3.10/dist-packages/sklearn/linear_model/_sag.py:350: ConvergenceWarning: The max_iter was reached which means the coef_ did not converge\n",
            "  warnings.warn(\n",
            "/usr/local/lib/python3.10/dist-packages/sklearn/linear_model/_sag.py:350: ConvergenceWarning: The max_iter was reached which means the coef_ did not converge\n",
            "  warnings.warn(\n",
            "/usr/local/lib/python3.10/dist-packages/sklearn/linear_model/_sag.py:350: ConvergenceWarning: The max_iter was reached which means the coef_ did not converge\n",
            "  warnings.warn(\n",
            "/usr/local/lib/python3.10/dist-packages/sklearn/linear_model/_sag.py:350: ConvergenceWarning: The max_iter was reached which means the coef_ did not converge\n",
            "  warnings.warn(\n",
            "/usr/local/lib/python3.10/dist-packages/sklearn/linear_model/_sag.py:350: ConvergenceWarning: The max_iter was reached which means the coef_ did not converge\n",
            "  warnings.warn(\n",
            "/usr/local/lib/python3.10/dist-packages/sklearn/linear_model/_sag.py:350: ConvergenceWarning: The max_iter was reached which means the coef_ did not converge\n",
            "  warnings.warn(\n",
            "/usr/local/lib/python3.10/dist-packages/sklearn/linear_model/_sag.py:350: ConvergenceWarning: The max_iter was reached which means the coef_ did not converge\n",
            "  warnings.warn(\n",
            "/usr/local/lib/python3.10/dist-packages/sklearn/linear_model/_sag.py:350: ConvergenceWarning: The max_iter was reached which means the coef_ did not converge\n",
            "  warnings.warn(\n",
            "/usr/local/lib/python3.10/dist-packages/sklearn/linear_model/_sag.py:350: ConvergenceWarning: The max_iter was reached which means the coef_ did not converge\n",
            "  warnings.warn(\n",
            "/usr/local/lib/python3.10/dist-packages/sklearn/linear_model/_sag.py:350: ConvergenceWarning: The max_iter was reached which means the coef_ did not converge\n",
            "  warnings.warn(\n",
            "/usr/local/lib/python3.10/dist-packages/sklearn/linear_model/_sag.py:350: ConvergenceWarning: The max_iter was reached which means the coef_ did not converge\n",
            "  warnings.warn(\n",
            "/usr/local/lib/python3.10/dist-packages/sklearn/linear_model/_sag.py:350: ConvergenceWarning: The max_iter was reached which means the coef_ did not converge\n",
            "  warnings.warn(\n",
            "/usr/local/lib/python3.10/dist-packages/sklearn/linear_model/_sag.py:350: ConvergenceWarning: The max_iter was reached which means the coef_ did not converge\n",
            "  warnings.warn(\n",
            "/usr/local/lib/python3.10/dist-packages/sklearn/linear_model/_sag.py:350: ConvergenceWarning: The max_iter was reached which means the coef_ did not converge\n",
            "  warnings.warn(\n",
            "/usr/local/lib/python3.10/dist-packages/sklearn/linear_model/_sag.py:350: ConvergenceWarning: The max_iter was reached which means the coef_ did not converge\n",
            "  warnings.warn(\n",
            "/usr/local/lib/python3.10/dist-packages/sklearn/linear_model/_sag.py:350: ConvergenceWarning: The max_iter was reached which means the coef_ did not converge\n",
            "  warnings.warn(\n",
            "/usr/local/lib/python3.10/dist-packages/sklearn/linear_model/_sag.py:350: ConvergenceWarning: The max_iter was reached which means the coef_ did not converge\n",
            "  warnings.warn(\n",
            "/usr/local/lib/python3.10/dist-packages/sklearn/linear_model/_sag.py:350: ConvergenceWarning: The max_iter was reached which means the coef_ did not converge\n",
            "  warnings.warn(\n",
            "/usr/local/lib/python3.10/dist-packages/sklearn/linear_model/_sag.py:350: ConvergenceWarning: The max_iter was reached which means the coef_ did not converge\n",
            "  warnings.warn(\n",
            "/usr/local/lib/python3.10/dist-packages/sklearn/linear_model/_sag.py:350: ConvergenceWarning: The max_iter was reached which means the coef_ did not converge\n",
            "  warnings.warn(\n",
            "/usr/local/lib/python3.10/dist-packages/sklearn/linear_model/_sag.py:350: ConvergenceWarning: The max_iter was reached which means the coef_ did not converge\n",
            "  warnings.warn(\n",
            "/usr/local/lib/python3.10/dist-packages/sklearn/linear_model/_sag.py:350: ConvergenceWarning: The max_iter was reached which means the coef_ did not converge\n",
            "  warnings.warn(\n",
            "/usr/local/lib/python3.10/dist-packages/sklearn/linear_model/_sag.py:350: ConvergenceWarning: The max_iter was reached which means the coef_ did not converge\n",
            "  warnings.warn(\n",
            "/usr/local/lib/python3.10/dist-packages/sklearn/linear_model/_sag.py:350: ConvergenceWarning: The max_iter was reached which means the coef_ did not converge\n",
            "  warnings.warn(\n",
            "/usr/local/lib/python3.10/dist-packages/sklearn/linear_model/_sag.py:350: ConvergenceWarning: The max_iter was reached which means the coef_ did not converge\n",
            "  warnings.warn(\n",
            "/usr/local/lib/python3.10/dist-packages/sklearn/linear_model/_sag.py:350: ConvergenceWarning: The max_iter was reached which means the coef_ did not converge\n",
            "  warnings.warn(\n",
            "/usr/local/lib/python3.10/dist-packages/sklearn/linear_model/_sag.py:350: ConvergenceWarning: The max_iter was reached which means the coef_ did not converge\n",
            "  warnings.warn(\n",
            "/usr/local/lib/python3.10/dist-packages/sklearn/linear_model/_sag.py:350: ConvergenceWarning: The max_iter was reached which means the coef_ did not converge\n",
            "  warnings.warn(\n",
            "/usr/local/lib/python3.10/dist-packages/sklearn/linear_model/_sag.py:350: ConvergenceWarning: The max_iter was reached which means the coef_ did not converge\n",
            "  warnings.warn(\n",
            "/usr/local/lib/python3.10/dist-packages/sklearn/linear_model/_sag.py:350: ConvergenceWarning: The max_iter was reached which means the coef_ did not converge\n",
            "  warnings.warn(\n",
            "/usr/local/lib/python3.10/dist-packages/sklearn/linear_model/_sag.py:350: ConvergenceWarning: The max_iter was reached which means the coef_ did not converge\n",
            "  warnings.warn(\n",
            "/usr/local/lib/python3.10/dist-packages/sklearn/linear_model/_sag.py:350: ConvergenceWarning: The max_iter was reached which means the coef_ did not converge\n",
            "  warnings.warn(\n",
            "/usr/local/lib/python3.10/dist-packages/sklearn/linear_model/_sag.py:350: ConvergenceWarning: The max_iter was reached which means the coef_ did not converge\n",
            "  warnings.warn(\n",
            "/usr/local/lib/python3.10/dist-packages/sklearn/linear_model/_sag.py:350: ConvergenceWarning: The max_iter was reached which means the coef_ did not converge\n",
            "  warnings.warn(\n",
            "/usr/local/lib/python3.10/dist-packages/sklearn/linear_model/_sag.py:350: ConvergenceWarning: The max_iter was reached which means the coef_ did not converge\n",
            "  warnings.warn(\n",
            "/usr/local/lib/python3.10/dist-packages/sklearn/linear_model/_sag.py:350: ConvergenceWarning: The max_iter was reached which means the coef_ did not converge\n",
            "  warnings.warn(\n",
            "/usr/local/lib/python3.10/dist-packages/sklearn/linear_model/_sag.py:350: ConvergenceWarning: The max_iter was reached which means the coef_ did not converge\n",
            "  warnings.warn(\n",
            "/usr/local/lib/python3.10/dist-packages/sklearn/linear_model/_sag.py:350: ConvergenceWarning: The max_iter was reached which means the coef_ did not converge\n",
            "  warnings.warn(\n",
            "/usr/local/lib/python3.10/dist-packages/sklearn/linear_model/_sag.py:350: ConvergenceWarning: The max_iter was reached which means the coef_ did not converge\n",
            "  warnings.warn(\n",
            "/usr/local/lib/python3.10/dist-packages/sklearn/linear_model/_sag.py:350: ConvergenceWarning: The max_iter was reached which means the coef_ did not converge\n",
            "  warnings.warn(\n",
            "/usr/local/lib/python3.10/dist-packages/sklearn/linear_model/_sag.py:350: ConvergenceWarning: The max_iter was reached which means the coef_ did not converge\n",
            "  warnings.warn(\n",
            "/usr/local/lib/python3.10/dist-packages/sklearn/linear_model/_sag.py:350: ConvergenceWarning: The max_iter was reached which means the coef_ did not converge\n",
            "  warnings.warn(\n",
            "/usr/local/lib/python3.10/dist-packages/sklearn/linear_model/_sag.py:350: ConvergenceWarning: The max_iter was reached which means the coef_ did not converge\n",
            "  warnings.warn(\n",
            "/usr/local/lib/python3.10/dist-packages/sklearn/linear_model/_sag.py:350: ConvergenceWarning: The max_iter was reached which means the coef_ did not converge\n",
            "  warnings.warn(\n",
            "/usr/local/lib/python3.10/dist-packages/sklearn/linear_model/_sag.py:350: ConvergenceWarning: The max_iter was reached which means the coef_ did not converge\n",
            "  warnings.warn(\n",
            "/usr/local/lib/python3.10/dist-packages/sklearn/linear_model/_sag.py:350: ConvergenceWarning: The max_iter was reached which means the coef_ did not converge\n",
            "  warnings.warn(\n",
            "/usr/local/lib/python3.10/dist-packages/sklearn/linear_model/_sag.py:350: ConvergenceWarning: The max_iter was reached which means the coef_ did not converge\n",
            "  warnings.warn(\n",
            "/usr/local/lib/python3.10/dist-packages/sklearn/linear_model/_sag.py:350: ConvergenceWarning: The max_iter was reached which means the coef_ did not converge\n",
            "  warnings.warn(\n",
            "/usr/local/lib/python3.10/dist-packages/sklearn/linear_model/_sag.py:350: ConvergenceWarning: The max_iter was reached which means the coef_ did not converge\n",
            "  warnings.warn(\n",
            "/usr/local/lib/python3.10/dist-packages/sklearn/linear_model/_sag.py:350: ConvergenceWarning: The max_iter was reached which means the coef_ did not converge\n",
            "  warnings.warn(\n",
            "/usr/local/lib/python3.10/dist-packages/sklearn/linear_model/_sag.py:350: ConvergenceWarning: The max_iter was reached which means the coef_ did not converge\n",
            "  warnings.warn(\n",
            "/usr/local/lib/python3.10/dist-packages/sklearn/linear_model/_sag.py:350: ConvergenceWarning: The max_iter was reached which means the coef_ did not converge\n",
            "  warnings.warn(\n",
            "/usr/local/lib/python3.10/dist-packages/sklearn/linear_model/_sag.py:350: ConvergenceWarning: The max_iter was reached which means the coef_ did not converge\n",
            "  warnings.warn(\n",
            "/usr/local/lib/python3.10/dist-packages/sklearn/linear_model/_sag.py:350: ConvergenceWarning: The max_iter was reached which means the coef_ did not converge\n",
            "  warnings.warn(\n",
            "/usr/local/lib/python3.10/dist-packages/sklearn/linear_model/_sag.py:350: ConvergenceWarning: The max_iter was reached which means the coef_ did not converge\n",
            "  warnings.warn(\n",
            "/usr/local/lib/python3.10/dist-packages/sklearn/linear_model/_sag.py:350: ConvergenceWarning: The max_iter was reached which means the coef_ did not converge\n",
            "  warnings.warn(\n",
            "/usr/local/lib/python3.10/dist-packages/sklearn/linear_model/_sag.py:350: ConvergenceWarning: The max_iter was reached which means the coef_ did not converge\n",
            "  warnings.warn(\n",
            "/usr/local/lib/python3.10/dist-packages/sklearn/linear_model/_sag.py:350: ConvergenceWarning: The max_iter was reached which means the coef_ did not converge\n",
            "  warnings.warn(\n",
            "/usr/local/lib/python3.10/dist-packages/sklearn/linear_model/_sag.py:350: ConvergenceWarning: The max_iter was reached which means the coef_ did not converge\n",
            "  warnings.warn(\n",
            "/usr/local/lib/python3.10/dist-packages/sklearn/linear_model/_sag.py:350: ConvergenceWarning: The max_iter was reached which means the coef_ did not converge\n",
            "  warnings.warn(\n"
          ]
        }
      ]
    },
    {
      "cell_type": "code",
      "source": [
        "score.iloc[0]['params']"
      ],
      "metadata": {
        "colab": {
          "base_uri": "https://localhost:8080/"
        },
        "id": "ykpcUbC7bVEI",
        "outputId": "b185caba-d41b-494e-fef8-e0679c0b8217"
      },
      "execution_count": 64,
      "outputs": [
        {
          "output_type": "execute_result",
          "data": {
            "text/plain": [
              "{'regr__C': 1.0,\n",
              " 'regr__fit_intercept': False,\n",
              " 'regr__l1_ratio': 0.5,\n",
              " 'regr__penalty': 'elasticnet',\n",
              " 'scale': StandardScaler()}"
            ]
          },
          "metadata": {},
          "execution_count": 64
        }
      ]
    },
    {
      "cell_type": "markdown",
      "source": [
        "È risultato più efficiente un mix di regolarizzazione Ridge e Lasso al 50%, risultando nel calcolo dei seguenti pesi:"
      ],
      "metadata": {
        "id": "h928ET13bbZK"
      }
    },
    {
      "cell_type": "code",
      "source": [
        "get_coefficients_frame(gs, X.columns)"
      ],
      "metadata": {
        "colab": {
          "base_uri": "https://localhost:8080/",
          "height": 1000
        },
        "id": "A3W9B2KEbn00",
        "outputId": "fb3ab37c-395a-4b02-fe0b-a64d73b66117"
      },
      "execution_count": 65,
      "outputs": [
        {
          "output_type": "execute_result",
          "data": {
            "text/plain": [
              "                          Normal   Suspect  Pathological\n",
              "start_instant           0.505188 -0.555378      0.009231\n",
              "end_instant            -0.198634  0.086504      0.087788\n",
              "medical_baseline       -0.399361  0.167325      0.191079\n",
              "sisproto_baseline      -0.399361  0.167325      0.191079\n",
              "heart_acc               0.118183 -0.272782      0.117056\n",
              "foetal_move            -0.056336  0.120599     -0.023467\n",
              "utherine_contract       0.003541  0.082300     -0.109182\n",
              "pct_short_variability  -0.281987  0.339945     -0.037108\n",
              "mean_short_variability  0.040506 -0.072527      0.000000\n",
              "pct_long_variability   -0.465241  0.309456      0.114755\n",
              "mean_long_variability  -0.035234 -0.038515      0.097506\n",
              "light_dec               0.396271 -0.469831      0.040359\n",
              "severe_dec             -0.559654  0.190796      0.327830\n",
              "prolongued_dec         -0.630305  0.469411      0.119974\n",
              "repetitive_dec          0.000000  0.000000      0.000000\n",
              "width                  -0.011091  0.118570     -0.074265\n",
              "min                    -0.047514 -0.137267      0.216952\n",
              "max                    -0.189136  0.018573      0.129587\n",
              "nmax                   -0.026262  0.119450     -0.052310\n",
              "nzeros                  0.124833 -0.182197      0.021962\n",
              "mode                    0.784296 -0.531345     -0.212059\n",
              "mean                   -0.220091  0.650011     -0.398257\n",
              "median                  0.314988 -0.170553     -0.103571\n",
              "variance               -0.162946  0.422623     -0.224109\n",
              "tendency               -0.011264  0.040760      0.000000\n",
              "calm_sleep              0.422989 -0.116214     -0.265748\n",
              "rem_sleep               0.749755 -0.470456     -0.238270\n",
              "calm_vigilance          0.350098 -0.161291     -0.147874\n",
              "active_vigilance        0.503804 -0.351732     -0.111099\n",
              "e                       0.013439  0.396908     -0.415469\n",
              "acc_pattern_stress      1.667828 -0.892965     -0.733836\n",
              "dec_pattern_vagal       1.449753 -0.383920     -1.024810\n",
              "largely_dec            -2.359081  0.162091      2.156029\n",
              "patho_flat_sinusoidal  -1.844394  0.389682      1.415418\n",
              "suspect                -3.173457  2.284043      0.848385\n",
              "class                  -2.603507  1.361669      1.200809"
            ],
            "text/html": [
              "\n",
              "  <div id=\"df-4c6bd727-0f75-40ee-acbc-9eb4bbfafbde\">\n",
              "    <div class=\"colab-df-container\">\n",
              "      <div>\n",
              "<style scoped>\n",
              "    .dataframe tbody tr th:only-of-type {\n",
              "        vertical-align: middle;\n",
              "    }\n",
              "\n",
              "    .dataframe tbody tr th {\n",
              "        vertical-align: top;\n",
              "    }\n",
              "\n",
              "    .dataframe thead th {\n",
              "        text-align: right;\n",
              "    }\n",
              "</style>\n",
              "<table border=\"1\" class=\"dataframe\">\n",
              "  <thead>\n",
              "    <tr style=\"text-align: right;\">\n",
              "      <th></th>\n",
              "      <th>Normal</th>\n",
              "      <th>Suspect</th>\n",
              "      <th>Pathological</th>\n",
              "    </tr>\n",
              "  </thead>\n",
              "  <tbody>\n",
              "    <tr>\n",
              "      <th>start_instant</th>\n",
              "      <td>0.505188</td>\n",
              "      <td>-0.555378</td>\n",
              "      <td>0.009231</td>\n",
              "    </tr>\n",
              "    <tr>\n",
              "      <th>end_instant</th>\n",
              "      <td>-0.198634</td>\n",
              "      <td>0.086504</td>\n",
              "      <td>0.087788</td>\n",
              "    </tr>\n",
              "    <tr>\n",
              "      <th>medical_baseline</th>\n",
              "      <td>-0.399361</td>\n",
              "      <td>0.167325</td>\n",
              "      <td>0.191079</td>\n",
              "    </tr>\n",
              "    <tr>\n",
              "      <th>sisproto_baseline</th>\n",
              "      <td>-0.399361</td>\n",
              "      <td>0.167325</td>\n",
              "      <td>0.191079</td>\n",
              "    </tr>\n",
              "    <tr>\n",
              "      <th>heart_acc</th>\n",
              "      <td>0.118183</td>\n",
              "      <td>-0.272782</td>\n",
              "      <td>0.117056</td>\n",
              "    </tr>\n",
              "    <tr>\n",
              "      <th>foetal_move</th>\n",
              "      <td>-0.056336</td>\n",
              "      <td>0.120599</td>\n",
              "      <td>-0.023467</td>\n",
              "    </tr>\n",
              "    <tr>\n",
              "      <th>utherine_contract</th>\n",
              "      <td>0.003541</td>\n",
              "      <td>0.082300</td>\n",
              "      <td>-0.109182</td>\n",
              "    </tr>\n",
              "    <tr>\n",
              "      <th>pct_short_variability</th>\n",
              "      <td>-0.281987</td>\n",
              "      <td>0.339945</td>\n",
              "      <td>-0.037108</td>\n",
              "    </tr>\n",
              "    <tr>\n",
              "      <th>mean_short_variability</th>\n",
              "      <td>0.040506</td>\n",
              "      <td>-0.072527</td>\n",
              "      <td>0.000000</td>\n",
              "    </tr>\n",
              "    <tr>\n",
              "      <th>pct_long_variability</th>\n",
              "      <td>-0.465241</td>\n",
              "      <td>0.309456</td>\n",
              "      <td>0.114755</td>\n",
              "    </tr>\n",
              "    <tr>\n",
              "      <th>mean_long_variability</th>\n",
              "      <td>-0.035234</td>\n",
              "      <td>-0.038515</td>\n",
              "      <td>0.097506</td>\n",
              "    </tr>\n",
              "    <tr>\n",
              "      <th>light_dec</th>\n",
              "      <td>0.396271</td>\n",
              "      <td>-0.469831</td>\n",
              "      <td>0.040359</td>\n",
              "    </tr>\n",
              "    <tr>\n",
              "      <th>severe_dec</th>\n",
              "      <td>-0.559654</td>\n",
              "      <td>0.190796</td>\n",
              "      <td>0.327830</td>\n",
              "    </tr>\n",
              "    <tr>\n",
              "      <th>prolongued_dec</th>\n",
              "      <td>-0.630305</td>\n",
              "      <td>0.469411</td>\n",
              "      <td>0.119974</td>\n",
              "    </tr>\n",
              "    <tr>\n",
              "      <th>repetitive_dec</th>\n",
              "      <td>0.000000</td>\n",
              "      <td>0.000000</td>\n",
              "      <td>0.000000</td>\n",
              "    </tr>\n",
              "    <tr>\n",
              "      <th>width</th>\n",
              "      <td>-0.011091</td>\n",
              "      <td>0.118570</td>\n",
              "      <td>-0.074265</td>\n",
              "    </tr>\n",
              "    <tr>\n",
              "      <th>min</th>\n",
              "      <td>-0.047514</td>\n",
              "      <td>-0.137267</td>\n",
              "      <td>0.216952</td>\n",
              "    </tr>\n",
              "    <tr>\n",
              "      <th>max</th>\n",
              "      <td>-0.189136</td>\n",
              "      <td>0.018573</td>\n",
              "      <td>0.129587</td>\n",
              "    </tr>\n",
              "    <tr>\n",
              "      <th>nmax</th>\n",
              "      <td>-0.026262</td>\n",
              "      <td>0.119450</td>\n",
              "      <td>-0.052310</td>\n",
              "    </tr>\n",
              "    <tr>\n",
              "      <th>nzeros</th>\n",
              "      <td>0.124833</td>\n",
              "      <td>-0.182197</td>\n",
              "      <td>0.021962</td>\n",
              "    </tr>\n",
              "    <tr>\n",
              "      <th>mode</th>\n",
              "      <td>0.784296</td>\n",
              "      <td>-0.531345</td>\n",
              "      <td>-0.212059</td>\n",
              "    </tr>\n",
              "    <tr>\n",
              "      <th>mean</th>\n",
              "      <td>-0.220091</td>\n",
              "      <td>0.650011</td>\n",
              "      <td>-0.398257</td>\n",
              "    </tr>\n",
              "    <tr>\n",
              "      <th>median</th>\n",
              "      <td>0.314988</td>\n",
              "      <td>-0.170553</td>\n",
              "      <td>-0.103571</td>\n",
              "    </tr>\n",
              "    <tr>\n",
              "      <th>variance</th>\n",
              "      <td>-0.162946</td>\n",
              "      <td>0.422623</td>\n",
              "      <td>-0.224109</td>\n",
              "    </tr>\n",
              "    <tr>\n",
              "      <th>tendency</th>\n",
              "      <td>-0.011264</td>\n",
              "      <td>0.040760</td>\n",
              "      <td>0.000000</td>\n",
              "    </tr>\n",
              "    <tr>\n",
              "      <th>calm_sleep</th>\n",
              "      <td>0.422989</td>\n",
              "      <td>-0.116214</td>\n",
              "      <td>-0.265748</td>\n",
              "    </tr>\n",
              "    <tr>\n",
              "      <th>rem_sleep</th>\n",
              "      <td>0.749755</td>\n",
              "      <td>-0.470456</td>\n",
              "      <td>-0.238270</td>\n",
              "    </tr>\n",
              "    <tr>\n",
              "      <th>calm_vigilance</th>\n",
              "      <td>0.350098</td>\n",
              "      <td>-0.161291</td>\n",
              "      <td>-0.147874</td>\n",
              "    </tr>\n",
              "    <tr>\n",
              "      <th>active_vigilance</th>\n",
              "      <td>0.503804</td>\n",
              "      <td>-0.351732</td>\n",
              "      <td>-0.111099</td>\n",
              "    </tr>\n",
              "    <tr>\n",
              "      <th>e</th>\n",
              "      <td>0.013439</td>\n",
              "      <td>0.396908</td>\n",
              "      <td>-0.415469</td>\n",
              "    </tr>\n",
              "    <tr>\n",
              "      <th>acc_pattern_stress</th>\n",
              "      <td>1.667828</td>\n",
              "      <td>-0.892965</td>\n",
              "      <td>-0.733836</td>\n",
              "    </tr>\n",
              "    <tr>\n",
              "      <th>dec_pattern_vagal</th>\n",
              "      <td>1.449753</td>\n",
              "      <td>-0.383920</td>\n",
              "      <td>-1.024810</td>\n",
              "    </tr>\n",
              "    <tr>\n",
              "      <th>largely_dec</th>\n",
              "      <td>-2.359081</td>\n",
              "      <td>0.162091</td>\n",
              "      <td>2.156029</td>\n",
              "    </tr>\n",
              "    <tr>\n",
              "      <th>patho_flat_sinusoidal</th>\n",
              "      <td>-1.844394</td>\n",
              "      <td>0.389682</td>\n",
              "      <td>1.415418</td>\n",
              "    </tr>\n",
              "    <tr>\n",
              "      <th>suspect</th>\n",
              "      <td>-3.173457</td>\n",
              "      <td>2.284043</td>\n",
              "      <td>0.848385</td>\n",
              "    </tr>\n",
              "    <tr>\n",
              "      <th>class</th>\n",
              "      <td>-2.603507</td>\n",
              "      <td>1.361669</td>\n",
              "      <td>1.200809</td>\n",
              "    </tr>\n",
              "  </tbody>\n",
              "</table>\n",
              "</div>\n",
              "      <button class=\"colab-df-convert\" onclick=\"convertToInteractive('df-4c6bd727-0f75-40ee-acbc-9eb4bbfafbde')\"\n",
              "              title=\"Convert this dataframe to an interactive table.\"\n",
              "              style=\"display:none;\">\n",
              "        \n",
              "  <svg xmlns=\"http://www.w3.org/2000/svg\" height=\"24px\"viewBox=\"0 0 24 24\"\n",
              "       width=\"24px\">\n",
              "    <path d=\"M0 0h24v24H0V0z\" fill=\"none\"/>\n",
              "    <path d=\"M18.56 5.44l.94 2.06.94-2.06 2.06-.94-2.06-.94-.94-2.06-.94 2.06-2.06.94zm-11 1L8.5 8.5l.94-2.06 2.06-.94-2.06-.94L8.5 2.5l-.94 2.06-2.06.94zm10 10l.94 2.06.94-2.06 2.06-.94-2.06-.94-.94-2.06-.94 2.06-2.06.94z\"/><path d=\"M17.41 7.96l-1.37-1.37c-.4-.4-.92-.59-1.43-.59-.52 0-1.04.2-1.43.59L10.3 9.45l-7.72 7.72c-.78.78-.78 2.05 0 2.83L4 21.41c.39.39.9.59 1.41.59.51 0 1.02-.2 1.41-.59l7.78-7.78 2.81-2.81c.8-.78.8-2.07 0-2.86zM5.41 20L4 18.59l7.72-7.72 1.47 1.35L5.41 20z\"/>\n",
              "  </svg>\n",
              "      </button>\n",
              "      \n",
              "  <style>\n",
              "    .colab-df-container {\n",
              "      display:flex;\n",
              "      flex-wrap:wrap;\n",
              "      gap: 12px;\n",
              "    }\n",
              "\n",
              "    .colab-df-convert {\n",
              "      background-color: #E8F0FE;\n",
              "      border: none;\n",
              "      border-radius: 50%;\n",
              "      cursor: pointer;\n",
              "      display: none;\n",
              "      fill: #1967D2;\n",
              "      height: 32px;\n",
              "      padding: 0 0 0 0;\n",
              "      width: 32px;\n",
              "    }\n",
              "\n",
              "    .colab-df-convert:hover {\n",
              "      background-color: #E2EBFA;\n",
              "      box-shadow: 0px 1px 2px rgba(60, 64, 67, 0.3), 0px 1px 3px 1px rgba(60, 64, 67, 0.15);\n",
              "      fill: #174EA6;\n",
              "    }\n",
              "\n",
              "    [theme=dark] .colab-df-convert {\n",
              "      background-color: #3B4455;\n",
              "      fill: #D2E3FC;\n",
              "    }\n",
              "\n",
              "    [theme=dark] .colab-df-convert:hover {\n",
              "      background-color: #434B5C;\n",
              "      box-shadow: 0px 1px 3px 1px rgba(0, 0, 0, 0.15);\n",
              "      filter: drop-shadow(0px 1px 2px rgba(0, 0, 0, 0.3));\n",
              "      fill: #FFFFFF;\n",
              "    }\n",
              "  </style>\n",
              "\n",
              "      <script>\n",
              "        const buttonEl =\n",
              "          document.querySelector('#df-4c6bd727-0f75-40ee-acbc-9eb4bbfafbde button.colab-df-convert');\n",
              "        buttonEl.style.display =\n",
              "          google.colab.kernel.accessAllowed ? 'block' : 'none';\n",
              "\n",
              "        async function convertToInteractive(key) {\n",
              "          const element = document.querySelector('#df-4c6bd727-0f75-40ee-acbc-9eb4bbfafbde');\n",
              "          const dataTable =\n",
              "            await google.colab.kernel.invokeFunction('convertToInteractive',\n",
              "                                                     [key], {});\n",
              "          if (!dataTable) return;\n",
              "\n",
              "          const docLinkHtml = 'Like what you see? Visit the ' +\n",
              "            '<a target=\"_blank\" href=https://colab.research.google.com/notebooks/data_table.ipynb>data table notebook</a>'\n",
              "            + ' to learn more about interactive tables.';\n",
              "          element.innerHTML = '';\n",
              "          dataTable['output_type'] = 'display_data';\n",
              "          await google.colab.output.renderOutput(dataTable, element);\n",
              "          const docLink = document.createElement('div');\n",
              "          docLink.innerHTML = docLinkHtml;\n",
              "          element.appendChild(docLink);\n",
              "        }\n",
              "      </script>\n",
              "    </div>\n",
              "  </div>\n",
              "  "
            ]
          },
          "metadata": {},
          "execution_count": 65
        }
      ]
    },
    {
      "cell_type": "markdown",
      "source": [
        "È da subito evidente come il non utilizzo di una regolarizzazione Lasso pura abbia portato all'azzeramento di molte meno variabili."
      ],
      "metadata": {
        "id": "8oOGQE8zbvUs"
      }
    },
    {
      "cell_type": "code",
      "source": [
        "get_percentage_cm(\n",
        "    get_confusion_matrix(gs, y_test, gs.predict(X_test), normalize='true')\n",
        ")"
      ],
      "metadata": {
        "colab": {
          "base_uri": "https://localhost:8080/",
          "height": 142
        },
        "id": "RUNLHb5Wb60_",
        "outputId": "76791d2d-c593-47df-f6f2-46249da9f450"
      },
      "execution_count": 68,
      "outputs": [
        {
          "output_type": "execute_result",
          "data": {
            "text/plain": [
              "              Normal Suspect Pathological\n",
              "Normal        99.28%   0.72%         0.0%\n",
              "Suspect         5.1%   94.9%         0.0%\n",
              "Pathological    0.0%   1.69%       98.31%"
            ],
            "text/html": [
              "\n",
              "  <div id=\"df-0ba058e9-d02b-4947-bb2e-d37b7ebfc826\">\n",
              "    <div class=\"colab-df-container\">\n",
              "      <div>\n",
              "<style scoped>\n",
              "    .dataframe tbody tr th:only-of-type {\n",
              "        vertical-align: middle;\n",
              "    }\n",
              "\n",
              "    .dataframe tbody tr th {\n",
              "        vertical-align: top;\n",
              "    }\n",
              "\n",
              "    .dataframe thead th {\n",
              "        text-align: right;\n",
              "    }\n",
              "</style>\n",
              "<table border=\"1\" class=\"dataframe\">\n",
              "  <thead>\n",
              "    <tr style=\"text-align: right;\">\n",
              "      <th></th>\n",
              "      <th>Normal</th>\n",
              "      <th>Suspect</th>\n",
              "      <th>Pathological</th>\n",
              "    </tr>\n",
              "  </thead>\n",
              "  <tbody>\n",
              "    <tr>\n",
              "      <th>Normal</th>\n",
              "      <td>99.28%</td>\n",
              "      <td>0.72%</td>\n",
              "      <td>0.0%</td>\n",
              "    </tr>\n",
              "    <tr>\n",
              "      <th>Suspect</th>\n",
              "      <td>5.1%</td>\n",
              "      <td>94.9%</td>\n",
              "      <td>0.0%</td>\n",
              "    </tr>\n",
              "    <tr>\n",
              "      <th>Pathological</th>\n",
              "      <td>0.0%</td>\n",
              "      <td>1.69%</td>\n",
              "      <td>98.31%</td>\n",
              "    </tr>\n",
              "  </tbody>\n",
              "</table>\n",
              "</div>\n",
              "      <button class=\"colab-df-convert\" onclick=\"convertToInteractive('df-0ba058e9-d02b-4947-bb2e-d37b7ebfc826')\"\n",
              "              title=\"Convert this dataframe to an interactive table.\"\n",
              "              style=\"display:none;\">\n",
              "        \n",
              "  <svg xmlns=\"http://www.w3.org/2000/svg\" height=\"24px\"viewBox=\"0 0 24 24\"\n",
              "       width=\"24px\">\n",
              "    <path d=\"M0 0h24v24H0V0z\" fill=\"none\"/>\n",
              "    <path d=\"M18.56 5.44l.94 2.06.94-2.06 2.06-.94-2.06-.94-.94-2.06-.94 2.06-2.06.94zm-11 1L8.5 8.5l.94-2.06 2.06-.94-2.06-.94L8.5 2.5l-.94 2.06-2.06.94zm10 10l.94 2.06.94-2.06 2.06-.94-2.06-.94-.94-2.06-.94 2.06-2.06.94z\"/><path d=\"M17.41 7.96l-1.37-1.37c-.4-.4-.92-.59-1.43-.59-.52 0-1.04.2-1.43.59L10.3 9.45l-7.72 7.72c-.78.78-.78 2.05 0 2.83L4 21.41c.39.39.9.59 1.41.59.51 0 1.02-.2 1.41-.59l7.78-7.78 2.81-2.81c.8-.78.8-2.07 0-2.86zM5.41 20L4 18.59l7.72-7.72 1.47 1.35L5.41 20z\"/>\n",
              "  </svg>\n",
              "      </button>\n",
              "      \n",
              "  <style>\n",
              "    .colab-df-container {\n",
              "      display:flex;\n",
              "      flex-wrap:wrap;\n",
              "      gap: 12px;\n",
              "    }\n",
              "\n",
              "    .colab-df-convert {\n",
              "      background-color: #E8F0FE;\n",
              "      border: none;\n",
              "      border-radius: 50%;\n",
              "      cursor: pointer;\n",
              "      display: none;\n",
              "      fill: #1967D2;\n",
              "      height: 32px;\n",
              "      padding: 0 0 0 0;\n",
              "      width: 32px;\n",
              "    }\n",
              "\n",
              "    .colab-df-convert:hover {\n",
              "      background-color: #E2EBFA;\n",
              "      box-shadow: 0px 1px 2px rgba(60, 64, 67, 0.3), 0px 1px 3px 1px rgba(60, 64, 67, 0.15);\n",
              "      fill: #174EA6;\n",
              "    }\n",
              "\n",
              "    [theme=dark] .colab-df-convert {\n",
              "      background-color: #3B4455;\n",
              "      fill: #D2E3FC;\n",
              "    }\n",
              "\n",
              "    [theme=dark] .colab-df-convert:hover {\n",
              "      background-color: #434B5C;\n",
              "      box-shadow: 0px 1px 3px 1px rgba(0, 0, 0, 0.15);\n",
              "      filter: drop-shadow(0px 1px 2px rgba(0, 0, 0, 0.3));\n",
              "      fill: #FFFFFF;\n",
              "    }\n",
              "  </style>\n",
              "\n",
              "      <script>\n",
              "        const buttonEl =\n",
              "          document.querySelector('#df-0ba058e9-d02b-4947-bb2e-d37b7ebfc826 button.colab-df-convert');\n",
              "        buttonEl.style.display =\n",
              "          google.colab.kernel.accessAllowed ? 'block' : 'none';\n",
              "\n",
              "        async function convertToInteractive(key) {\n",
              "          const element = document.querySelector('#df-0ba058e9-d02b-4947-bb2e-d37b7ebfc826');\n",
              "          const dataTable =\n",
              "            await google.colab.kernel.invokeFunction('convertToInteractive',\n",
              "                                                     [key], {});\n",
              "          if (!dataTable) return;\n",
              "\n",
              "          const docLinkHtml = 'Like what you see? Visit the ' +\n",
              "            '<a target=\"_blank\" href=https://colab.research.google.com/notebooks/data_table.ipynb>data table notebook</a>'\n",
              "            + ' to learn more about interactive tables.';\n",
              "          element.innerHTML = '';\n",
              "          dataTable['output_type'] = 'display_data';\n",
              "          await google.colab.output.renderOutput(dataTable, element);\n",
              "          const docLink = document.createElement('div');\n",
              "          docLink.innerHTML = docLinkHtml;\n",
              "          element.appendChild(docLink);\n",
              "        }\n",
              "      </script>\n",
              "    </div>\n",
              "  </div>\n",
              "  "
            ]
          },
          "metadata": {},
          "execution_count": 68
        }
      ]
    },
    {
      "cell_type": "code",
      "source": [
        "gs.score(X_test, y_test)"
      ],
      "metadata": {
        "colab": {
          "base_uri": "https://localhost:8080/"
        },
        "id": "HAp6rJO3cNTa",
        "outputId": "2114e4f6-008d-4614-c27c-8ccf04e909ab"
      },
      "execution_count": 69,
      "outputs": [
        {
          "output_type": "execute_result",
          "data": {
            "text/plain": [
              "0.9858956276445698"
            ]
          },
          "metadata": {},
          "execution_count": 69
        }
      ]
    }
  ],
  "metadata": {
    "colab": {
      "provenance": []
    },
    "kernelspec": {
      "display_name": "Python 3 (ipykernel)",
      "language": "python",
      "name": "python3"
    },
    "language_info": {
      "codemirror_mode": {
        "name": "ipython",
        "version": 3
      },
      "file_extension": ".py",
      "mimetype": "text/x-python",
      "name": "python",
      "nbconvert_exporter": "python",
      "pygments_lexer": "ipython3",
      "version": "3.9.16"
    }
  },
  "nbformat": 4,
  "nbformat_minor": 0
}