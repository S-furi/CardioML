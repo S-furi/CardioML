{
 "cells": [
  {
   "attachments": {},
   "cell_type": "markdown",
   "metadata": {},
   "source": [
    "# CardioML"
   ]
  },
  {
   "cell_type": "code",
   "execution_count": 1,
   "metadata": {},
   "outputs": [],
   "source": [
    "import pandas as pd"
   ]
  },
  {
   "cell_type": "code",
   "execution_count": 2,
   "metadata": {},
   "outputs": [],
   "source": [
    "raw_df = pd.read_csv(\"../data/ctg.csv\", delimiter=';')"
   ]
  },
  {
   "cell_type": "code",
   "execution_count": 3,
   "metadata": {},
   "outputs": [
    {
     "data": {
      "text/html": [
       "<div>\n",
       "<style scoped>\n",
       "    .dataframe tbody tr th:only-of-type {\n",
       "        vertical-align: middle;\n",
       "    }\n",
       "\n",
       "    .dataframe tbody tr th {\n",
       "        vertical-align: top;\n",
       "    }\n",
       "\n",
       "    .dataframe thead th {\n",
       "        text-align: right;\n",
       "    }\n",
       "</style>\n",
       "<table border=\"1\" class=\"dataframe\">\n",
       "  <thead>\n",
       "    <tr style=\"text-align: right;\">\n",
       "      <th></th>\n",
       "      <th>FileName</th>\n",
       "      <th>Date</th>\n",
       "      <th>SegFile</th>\n",
       "      <th>b</th>\n",
       "      <th>e</th>\n",
       "      <th>LBE</th>\n",
       "      <th>LB</th>\n",
       "      <th>AC</th>\n",
       "      <th>FM</th>\n",
       "      <th>UC</th>\n",
       "      <th>...</th>\n",
       "      <th>C</th>\n",
       "      <th>D</th>\n",
       "      <th>E</th>\n",
       "      <th>AD</th>\n",
       "      <th>DE</th>\n",
       "      <th>LD</th>\n",
       "      <th>FS</th>\n",
       "      <th>SUSP</th>\n",
       "      <th>CLASS</th>\n",
       "      <th>NSP</th>\n",
       "    </tr>\n",
       "  </thead>\n",
       "  <tbody>\n",
       "    <tr>\n",
       "      <th>0</th>\n",
       "      <td>Variab10.txt</td>\n",
       "      <td>01/12/96</td>\n",
       "      <td>CTG0001.txt</td>\n",
       "      <td>240.0</td>\n",
       "      <td>357.0</td>\n",
       "      <td>120.0</td>\n",
       "      <td>120.0</td>\n",
       "      <td>0.0</td>\n",
       "      <td>0.0</td>\n",
       "      <td>0.0</td>\n",
       "      <td>...</td>\n",
       "      <td>0.0</td>\n",
       "      <td>0.0</td>\n",
       "      <td>0.0</td>\n",
       "      <td>0.0</td>\n",
       "      <td>0.0</td>\n",
       "      <td>0.0</td>\n",
       "      <td>1.0</td>\n",
       "      <td>0.0</td>\n",
       "      <td>9.0</td>\n",
       "      <td>2.0</td>\n",
       "    </tr>\n",
       "    <tr>\n",
       "      <th>1</th>\n",
       "      <td>Fmcs_1.txt</td>\n",
       "      <td>03/05/96</td>\n",
       "      <td>CTG0002.txt</td>\n",
       "      <td>5.0</td>\n",
       "      <td>632.0</td>\n",
       "      <td>132.0</td>\n",
       "      <td>132.0</td>\n",
       "      <td>4.0</td>\n",
       "      <td>0.0</td>\n",
       "      <td>4.0</td>\n",
       "      <td>...</td>\n",
       "      <td>0.0</td>\n",
       "      <td>0.0</td>\n",
       "      <td>0.0</td>\n",
       "      <td>1.0</td>\n",
       "      <td>0.0</td>\n",
       "      <td>0.0</td>\n",
       "      <td>0.0</td>\n",
       "      <td>0.0</td>\n",
       "      <td>6.0</td>\n",
       "      <td>1.0</td>\n",
       "    </tr>\n",
       "    <tr>\n",
       "      <th>2</th>\n",
       "      <td>Fmcs_1.txt</td>\n",
       "      <td>03/05/96</td>\n",
       "      <td>CTG0003.txt</td>\n",
       "      <td>177.0</td>\n",
       "      <td>779.0</td>\n",
       "      <td>133.0</td>\n",
       "      <td>133.0</td>\n",
       "      <td>2.0</td>\n",
       "      <td>0.0</td>\n",
       "      <td>5.0</td>\n",
       "      <td>...</td>\n",
       "      <td>0.0</td>\n",
       "      <td>0.0</td>\n",
       "      <td>0.0</td>\n",
       "      <td>1.0</td>\n",
       "      <td>0.0</td>\n",
       "      <td>0.0</td>\n",
       "      <td>0.0</td>\n",
       "      <td>0.0</td>\n",
       "      <td>6.0</td>\n",
       "      <td>1.0</td>\n",
       "    </tr>\n",
       "    <tr>\n",
       "      <th>3</th>\n",
       "      <td>Fmcs_1.txt</td>\n",
       "      <td>03/05/96</td>\n",
       "      <td>CTG0004.txt</td>\n",
       "      <td>411.0</td>\n",
       "      <td>1192.0</td>\n",
       "      <td>134.0</td>\n",
       "      <td>134.0</td>\n",
       "      <td>2.0</td>\n",
       "      <td>0.0</td>\n",
       "      <td>6.0</td>\n",
       "      <td>...</td>\n",
       "      <td>0.0</td>\n",
       "      <td>0.0</td>\n",
       "      <td>0.0</td>\n",
       "      <td>1.0</td>\n",
       "      <td>0.0</td>\n",
       "      <td>0.0</td>\n",
       "      <td>0.0</td>\n",
       "      <td>0.0</td>\n",
       "      <td>6.0</td>\n",
       "      <td>1.0</td>\n",
       "    </tr>\n",
       "    <tr>\n",
       "      <th>4</th>\n",
       "      <td>Fmcs_1.txt</td>\n",
       "      <td>03/05/96</td>\n",
       "      <td>CTG0005.txt</td>\n",
       "      <td>533.0</td>\n",
       "      <td>1147.0</td>\n",
       "      <td>132.0</td>\n",
       "      <td>132.0</td>\n",
       "      <td>4.0</td>\n",
       "      <td>0.0</td>\n",
       "      <td>5.0</td>\n",
       "      <td>...</td>\n",
       "      <td>0.0</td>\n",
       "      <td>0.0</td>\n",
       "      <td>0.0</td>\n",
       "      <td>0.0</td>\n",
       "      <td>0.0</td>\n",
       "      <td>0.0</td>\n",
       "      <td>0.0</td>\n",
       "      <td>0.0</td>\n",
       "      <td>2.0</td>\n",
       "      <td>1.0</td>\n",
       "    </tr>\n",
       "  </tbody>\n",
       "</table>\n",
       "<p>5 rows × 40 columns</p>\n",
       "</div>"
      ],
      "text/plain": [
       "       FileName      Date      SegFile      b       e    LBE     LB   AC   FM  \\\n",
       "0  Variab10.txt  01/12/96  CTG0001.txt  240.0   357.0  120.0  120.0  0.0  0.0   \n",
       "1    Fmcs_1.txt  03/05/96  CTG0002.txt    5.0   632.0  132.0  132.0  4.0  0.0   \n",
       "2    Fmcs_1.txt  03/05/96  CTG0003.txt  177.0   779.0  133.0  133.0  2.0  0.0   \n",
       "3    Fmcs_1.txt  03/05/96  CTG0004.txt  411.0  1192.0  134.0  134.0  2.0  0.0   \n",
       "4    Fmcs_1.txt  03/05/96  CTG0005.txt  533.0  1147.0  132.0  132.0  4.0  0.0   \n",
       "\n",
       "    UC  ...    C    D    E   AD   DE   LD   FS  SUSP  CLASS  NSP  \n",
       "0  0.0  ...  0.0  0.0  0.0  0.0  0.0  0.0  1.0   0.0    9.0  2.0  \n",
       "1  4.0  ...  0.0  0.0  0.0  1.0  0.0  0.0  0.0   0.0    6.0  1.0  \n",
       "2  5.0  ...  0.0  0.0  0.0  1.0  0.0  0.0  0.0   0.0    6.0  1.0  \n",
       "3  6.0  ...  0.0  0.0  0.0  1.0  0.0  0.0  0.0   0.0    6.0  1.0  \n",
       "4  5.0  ...  0.0  0.0  0.0  0.0  0.0  0.0  0.0   0.0    2.0  1.0  \n",
       "\n",
       "[5 rows x 40 columns]"
      ]
     },
     "execution_count": 3,
     "metadata": {},
     "output_type": "execute_result"
    }
   ],
   "source": [
    "raw_df.head()"
   ]
  },
  {
   "attachments": {},
   "cell_type": "markdown",
   "metadata": {},
   "source": [
    "SPIEGAZIONE RAPIDA DELLE VARIABILI, DIVISE PER CATEGORICHE E CONTINUE"
   ]
  },
  {
   "attachments": {},
   "cell_type": "markdown",
   "metadata": {},
   "source": [
    "Mappiamo i nomi di aclune colonne in nomi più esplicativi."
   ]
  },
  {
   "cell_type": "code",
   "execution_count": 4,
   "metadata": {},
   "outputs": [],
   "source": [
    "col_names = {\n",
    "    \"FileName\": \"file_name\",\n",
    "    \"Date\": \"date\",\n",
    "    \"SegFile\": \"seg_file\",\n",
    "    \"b\": \"start_instant\",\n",
    "    \"e\": \"end_instant\",\n",
    "    \"LBE\": \"medical_baseline\",\n",
    "    \"LB\": \"sisproto_baseline\",\n",
    "    \"AC\": \"heart_acc\",\n",
    "    \"FM\": \"foetal_move\",\n",
    "    \"UC\": \"utherine_contract\",\n",
    "    \"ASTV\": \"pct_short_variability\",\n",
    "    \"MSTV\": \"mean_short_variability\",\n",
    "    \"ALTV\": \"pct_long_variability\",\n",
    "    \"MLTV\": \"mean_long_variability\",\n",
    "    \"DL\": \"light_dec\",\n",
    "    \"DS\": \"severe_dec\",\n",
    "    \"DP\": \"prolongued_dec\",\n",
    "    \"DR\": \"repetitive_dec\",\n",
    "    \"A\": \"calm_sleep\",\n",
    "    \"B\": \"rem_sleep\",\n",
    "    \"C\": \"calm_vigilance\",\n",
    "    \"D\": \"active_vigilance\",\n",
    "    \"SH\": \"shift_pattern\",\n",
    "    \"AD\": \"acc_pattern_stress\", # negativo se pattern in decelerazione\n",
    "    \"DE\": \"dec_pattern_vagal\",\n",
    "    \"LD\": \"largely_dec\",\n",
    "    \"FS\": \"patho_flat_sinusoidal\",\n",
    "    \"SUSP\": \"suspect\"\n",
    "}"
   ]
  },
  {
   "cell_type": "code",
   "execution_count": 5,
   "metadata": {},
   "outputs": [
    {
     "data": {
      "text/plain": [
       "Index(['file_name', 'date', 'seg_file', 'start_instant', 'end_instant',\n",
       "       'medical_baseline', 'sisproto_baseline', 'heart_acc', 'foetal_move',\n",
       "       'utherine_contract', 'pct_short_variability', 'mean_short_variability',\n",
       "       'pct_long_variability', 'mean_long_variability', 'light_dec',\n",
       "       'severe_dec', 'prolongued_dec', 'repetitive_dec', 'width', 'min', 'max',\n",
       "       'nmax', 'nzeros', 'mode', 'mean', 'median', 'variance', 'tendency',\n",
       "       'calm_sleep', 'rem_sleep', 'calm_vigilance', 'active_vigilance', 'e',\n",
       "       'acc_pattern_stress', 'dec_pattern_vagal', 'largely_dec',\n",
       "       'patho_flat_sinusoidal', 'suspect', 'class', 'nsp'],\n",
       "      dtype='object')"
      ]
     },
     "execution_count": 5,
     "metadata": {},
     "output_type": "execute_result"
    }
   ],
   "source": [
    "raw_df.rename(columns=col_names, inplace=True)\n",
    "raw_df.columns = raw_df.columns.str.lower()\n",
    "raw_df.columns"
   ]
  },
  {
   "cell_type": "code",
   "execution_count": 6,
   "metadata": {},
   "outputs": [
    {
     "name": "stdout",
     "output_type": "stream",
     "text": [
      "<class 'pandas.core.frame.DataFrame'>\n",
      "RangeIndex: 2129 entries, 0 to 2128\n",
      "Data columns (total 40 columns):\n",
      " #   Column                  Non-Null Count  Dtype  \n",
      "---  ------                  --------------  -----  \n",
      " 0   file_name               2126 non-null   object \n",
      " 1   date                    2126 non-null   object \n",
      " 2   seg_file                2126 non-null   object \n",
      " 3   start_instant           2126 non-null   float64\n",
      " 4   end_instant             2126 non-null   float64\n",
      " 5   medical_baseline        2126 non-null   float64\n",
      " 6   sisproto_baseline       2126 non-null   float64\n",
      " 7   heart_acc               2126 non-null   float64\n",
      " 8   foetal_move             2127 non-null   float64\n",
      " 9   utherine_contract       2127 non-null   float64\n",
      " 10  pct_short_variability   2127 non-null   float64\n",
      " 11  mean_short_variability  2127 non-null   object \n",
      " 12  pct_long_variability    2127 non-null   float64\n",
      " 13  mean_long_variability   2127 non-null   object \n",
      " 14  light_dec               2128 non-null   float64\n",
      " 15  severe_dec              2128 non-null   float64\n",
      " 16  prolongued_dec          2128 non-null   float64\n",
      " 17  repetitive_dec          2128 non-null   float64\n",
      " 18  width                   2126 non-null   float64\n",
      " 19  min                     2126 non-null   float64\n",
      " 20  max                     2126 non-null   float64\n",
      " 21  nmax                    2126 non-null   float64\n",
      " 22  nzeros                  2126 non-null   float64\n",
      " 23  mode                    2126 non-null   float64\n",
      " 24  mean                    2126 non-null   float64\n",
      " 25  median                  2126 non-null   float64\n",
      " 26  variance                2126 non-null   float64\n",
      " 27  tendency                2126 non-null   float64\n",
      " 28  calm_sleep              2126 non-null   float64\n",
      " 29  rem_sleep               2126 non-null   float64\n",
      " 30  calm_vigilance          2126 non-null   float64\n",
      " 31  active_vigilance        2126 non-null   float64\n",
      " 32  e                       2126 non-null   float64\n",
      " 33  acc_pattern_stress      2126 non-null   float64\n",
      " 34  dec_pattern_vagal       2126 non-null   float64\n",
      " 35  largely_dec             2126 non-null   float64\n",
      " 36  patho_flat_sinusoidal   2126 non-null   float64\n",
      " 37  suspect                 2126 non-null   float64\n",
      " 38  class                   2126 non-null   float64\n",
      " 39  nsp                     2126 non-null   float64\n",
      "dtypes: float64(35), object(5)\n",
      "memory usage: 665.4+ KB\n"
     ]
    }
   ],
   "source": [
    "raw_df.info()"
   ]
  },
  {
   "cell_type": "code",
   "execution_count": 14,
   "metadata": {},
   "outputs": [
    {
     "data": {
      "text/plain": [
       "<Axes: xlabel='start_instant', ylabel='end_instant'>"
      ]
     },
     "execution_count": 14,
     "metadata": {},
     "output_type": "execute_result"
    },
    {
     "data": {
      "image/png": "[encoded data removed]",
      "text/plain": [
       "<Figure size 640x480 with 1 Axes>"
      ]
     },
     "metadata": {},
     "output_type": "display_data"
    }
   ],
   "source": [
    "raw_df.plot.scatter(x=\"start_instant\", y=\"end_instant\")"
   ]
  }
 ],
 "metadata": {
  "kernelspec": {
   "display_name": "env",
   "language": "python",
   "name": "python3"
  },
  "language_info": {
   "codemirror_mode": {
    "name": "ipython",
    "version": 3
   },
   "file_extension": ".py",
   "mimetype": "text/x-python",
   "name": "python",
   "nbconvert_exporter": "python",
   "pygments_lexer": "ipython3",
   "version": "3.10.6"
  },
  "orig_nbformat": 4
 },
 "nbformat": 4,
 "nbformat_minor": 2
}
