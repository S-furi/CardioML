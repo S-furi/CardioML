{
 "cells": [
  {
   "cell_type": "markdown",
   "metadata": {},
   "source": [
    "# CardioML"
   ]
  },
  {
   "cell_type": "markdown",
   "metadata": {},
   "source": [
    "Elaborato di Programmazione di Applicazioni Data Intensive - 2023\n",
    "\n",
    "Membri del Gruppo:\n",
    "- Matteo Iorio\n",
    "- Fabio Vincenzi\n",
    "- Stefano Furi"
   ]
  },
  {
   "cell_type": "code",
   "execution_count": 1,
   "metadata": {},
   "outputs": [],
   "source": [
    "import pandas as pd\n",
    "import numpy as np\n",
    "import matplotlib.pyplot as plt\n",
    "import seaborn as sns\n",
    "\n",
    "sns.set(style=\"ticks\")\n",
    "sns.set_style(\"whitegrid\")"
   ]
  },
  {
   "cell_type": "markdown",
   "metadata": {},
   "source": [
    "## Creazione del DataFrame"
   ]
  },
  {
   "cell_type": "markdown",
   "metadata": {},
   "source": [
    "Ci siamo posti l'obbiettivo di realizzare un progetto che **possa veramente risultare utile** per alcuni professionisti del settore. Quello che andremo a studiare è un problema che riguarda i fanciulli di tenera età, più in particolare andremo ad analizzare i *risultati di rilevazioni cardiache*, andando a determinare se avranno o meno complicanze cardiache patologiche. \n",
    "\n",
    "Il dataset utilizzato riguarda una serie di misurazioni effettuate attraverso [cardiotocografia](https://it.wikipedia.org/wiki/Cardiotocografia), consultabile presso [UCI Machine Learning Repository](https://archive.ics.uci.edu/ml/datasets/cardiotocography#).\n"
   ]
  },
  {
   "cell_type": "markdown",
   "metadata": {},
   "source": [
    "\n",
    "Lo scopo di questo elaborato verrà scritto qui molto presto :)"
   ]
  },
  {
   "cell_type": "markdown",
   "metadata": {},
   "source": [
    "Decidiamo se mettere il `setup.py` con link qui direttamente alla repo github, così se i prof chiedono solo il file jupyter, possono tranquillamente usarlo senza clonare l'intera repo, mentre invece per i temerari che clonano l'intera repo, il dataset è già qui integrato."
   ]
  },
  {
   "cell_type": "markdown",
   "metadata": {},
   "source": [
    "## Preparazione del dataset"
   ]
  },
  {
   "cell_type": "code",
   "execution_count": 2,
   "metadata": {},
   "outputs": [],
   "source": [
    "raw_df = pd.read_csv(\"../data/ctg.csv\", delimiter=';')"
   ]
  },
  {
   "cell_type": "code",
   "execution_count": 3,
   "metadata": {},
   "outputs": [
    {
     "data": {
      "text/html": [
       "<div>\n",
       "<style scoped>\n",
       "    .dataframe tbody tr th:only-of-type {\n",
       "        vertical-align: middle;\n",
       "    }\n",
       "\n",
       "    .dataframe tbody tr th {\n",
       "        vertical-align: top;\n",
       "    }\n",
       "\n",
       "    .dataframe thead th {\n",
       "        text-align: right;\n",
       "    }\n",
       "</style>\n",
       "<table border=\"1\" class=\"dataframe\">\n",
       "  <thead>\n",
       "    <tr style=\"text-align: right;\">\n",
       "      <th></th>\n",
       "      <th>FileName</th>\n",
       "      <th>Date</th>\n",
       "      <th>SegFile</th>\n",
       "      <th>b</th>\n",
       "      <th>e</th>\n",
       "      <th>LBE</th>\n",
       "      <th>LB</th>\n",
       "      <th>AC</th>\n",
       "      <th>FM</th>\n",
       "      <th>UC</th>\n",
       "      <th>...</th>\n",
       "      <th>C</th>\n",
       "      <th>D</th>\n",
       "      <th>E</th>\n",
       "      <th>AD</th>\n",
       "      <th>DE</th>\n",
       "      <th>LD</th>\n",
       "      <th>FS</th>\n",
       "      <th>SUSP</th>\n",
       "      <th>CLASS</th>\n",
       "      <th>NSP</th>\n",
       "    </tr>\n",
       "  </thead>\n",
       "  <tbody>\n",
       "    <tr>\n",
       "      <th>0</th>\n",
       "      <td>Variab10.txt</td>\n",
       "      <td>01/12/96</td>\n",
       "      <td>CTG0001.txt</td>\n",
       "      <td>240</td>\n",
       "      <td>357</td>\n",
       "      <td>120</td>\n",
       "      <td>120</td>\n",
       "      <td>0</td>\n",
       "      <td>0</td>\n",
       "      <td>0</td>\n",
       "      <td>...</td>\n",
       "      <td>0</td>\n",
       "      <td>0</td>\n",
       "      <td>0</td>\n",
       "      <td>0</td>\n",
       "      <td>0</td>\n",
       "      <td>0</td>\n",
       "      <td>1</td>\n",
       "      <td>0</td>\n",
       "      <td>9</td>\n",
       "      <td>2</td>\n",
       "    </tr>\n",
       "    <tr>\n",
       "      <th>1</th>\n",
       "      <td>Fmcs_1.txt</td>\n",
       "      <td>03/05/96</td>\n",
       "      <td>CTG0002.txt</td>\n",
       "      <td>5</td>\n",
       "      <td>632</td>\n",
       "      <td>132</td>\n",
       "      <td>132</td>\n",
       "      <td>4</td>\n",
       "      <td>0</td>\n",
       "      <td>4</td>\n",
       "      <td>...</td>\n",
       "      <td>0</td>\n",
       "      <td>0</td>\n",
       "      <td>0</td>\n",
       "      <td>1</td>\n",
       "      <td>0</td>\n",
       "      <td>0</td>\n",
       "      <td>0</td>\n",
       "      <td>0</td>\n",
       "      <td>6</td>\n",
       "      <td>1</td>\n",
       "    </tr>\n",
       "    <tr>\n",
       "      <th>2</th>\n",
       "      <td>Fmcs_1.txt</td>\n",
       "      <td>03/05/96</td>\n",
       "      <td>CTG0003.txt</td>\n",
       "      <td>177</td>\n",
       "      <td>779</td>\n",
       "      <td>133</td>\n",
       "      <td>133</td>\n",
       "      <td>2</td>\n",
       "      <td>0</td>\n",
       "      <td>5</td>\n",
       "      <td>...</td>\n",
       "      <td>0</td>\n",
       "      <td>0</td>\n",
       "      <td>0</td>\n",
       "      <td>1</td>\n",
       "      <td>0</td>\n",
       "      <td>0</td>\n",
       "      <td>0</td>\n",
       "      <td>0</td>\n",
       "      <td>6</td>\n",
       "      <td>1</td>\n",
       "    </tr>\n",
       "    <tr>\n",
       "      <th>3</th>\n",
       "      <td>Fmcs_1.txt</td>\n",
       "      <td>03/05/96</td>\n",
       "      <td>CTG0004.txt</td>\n",
       "      <td>411</td>\n",
       "      <td>1192</td>\n",
       "      <td>134</td>\n",
       "      <td>134</td>\n",
       "      <td>2</td>\n",
       "      <td>0</td>\n",
       "      <td>6</td>\n",
       "      <td>...</td>\n",
       "      <td>0</td>\n",
       "      <td>0</td>\n",
       "      <td>0</td>\n",
       "      <td>1</td>\n",
       "      <td>0</td>\n",
       "      <td>0</td>\n",
       "      <td>0</td>\n",
       "      <td>0</td>\n",
       "      <td>6</td>\n",
       "      <td>1</td>\n",
       "    </tr>\n",
       "    <tr>\n",
       "      <th>4</th>\n",
       "      <td>Fmcs_1.txt</td>\n",
       "      <td>03/05/96</td>\n",
       "      <td>CTG0005.txt</td>\n",
       "      <td>533</td>\n",
       "      <td>1147</td>\n",
       "      <td>132</td>\n",
       "      <td>132</td>\n",
       "      <td>4</td>\n",
       "      <td>0</td>\n",
       "      <td>5</td>\n",
       "      <td>...</td>\n",
       "      <td>0</td>\n",
       "      <td>0</td>\n",
       "      <td>0</td>\n",
       "      <td>0</td>\n",
       "      <td>0</td>\n",
       "      <td>0</td>\n",
       "      <td>0</td>\n",
       "      <td>0</td>\n",
       "      <td>2</td>\n",
       "      <td>1</td>\n",
       "    </tr>\n",
       "  </tbody>\n",
       "</table>\n",
       "<p>5 rows × 40 columns</p>\n",
       "</div>"
      ],
      "text/plain": [
       "       FileName      Date      SegFile    b     e  LBE   LB  AC  FM  UC  ...   \n",
       "0  Variab10.txt  01/12/96  CTG0001.txt  240   357  120  120   0   0   0  ...  \\\n",
       "1    Fmcs_1.txt  03/05/96  CTG0002.txt    5   632  132  132   4   0   4  ...   \n",
       "2    Fmcs_1.txt  03/05/96  CTG0003.txt  177   779  133  133   2   0   5  ...   \n",
       "3    Fmcs_1.txt  03/05/96  CTG0004.txt  411  1192  134  134   2   0   6  ...   \n",
       "4    Fmcs_1.txt  03/05/96  CTG0005.txt  533  1147  132  132   4   0   5  ...   \n",
       "\n",
       "   C  D  E AD  DE  LD  FS  SUSP  CLASS  NSP  \n",
       "0  0  0  0  0   0   0   1     0      9    2  \n",
       "1  0  0  0  1   0   0   0     0      6    1  \n",
       "2  0  0  0  1   0   0   0     0      6    1  \n",
       "3  0  0  0  1   0   0   0     0      6    1  \n",
       "4  0  0  0  0   0   0   0     0      2    1  \n",
       "\n",
       "[5 rows x 40 columns]"
      ]
     },
     "execution_count": 3,
     "metadata": {},
     "output_type": "execute_result"
    }
   ],
   "source": [
    "raw_df.head()"
   ]
  },
  {
   "cell_type": "markdown",
   "metadata": {},
   "source": [
    "SPIEGAZIONE RAPIDA DELLE VARIABILI, DIVISE PER CATEGORICHE E CONTINUE"
   ]
  },
  {
   "cell_type": "markdown",
   "metadata": {},
   "source": [
    "Alcune variabili categoriche sono state mappate a `np.float64`, mentre altre sarebbe stato sufficiente un tipo `np.int32`. Possiamo quindi ricaricare il dataset, specificando il tipo di dato per ogni colonna, facendo anche riferimento all'utilizzo di memoria"
   ]
  },
  {
   "cell_type": "code",
   "execution_count": 4,
   "metadata": {},
   "outputs": [
    {
     "name": "stdout",
     "output_type": "stream",
     "text": [
      "<class 'pandas.core.frame.DataFrame'>\n",
      "RangeIndex: 2126 entries, 0 to 2125\n",
      "Data columns (total 40 columns):\n",
      " #   Column    Non-Null Count  Dtype \n",
      "---  ------    --------------  ----- \n",
      " 0   FileName  2126 non-null   object\n",
      " 1   Date      2126 non-null   object\n",
      " 2   SegFile   2126 non-null   object\n",
      " 3   b         2126 non-null   int64 \n",
      " 4   e         2126 non-null   int64 \n",
      " 5   LBE       2126 non-null   int64 \n",
      " 6   LB        2126 non-null   int64 \n",
      " 7   AC        2126 non-null   int64 \n",
      " 8   FM        2126 non-null   int64 \n",
      " 9   UC        2126 non-null   int64 \n",
      " 10  ASTV      2126 non-null   int64 \n",
      " 11  MSTV      2126 non-null   object\n",
      " 12  ALTV      2126 non-null   int64 \n",
      " 13  MLTV      2126 non-null   object\n",
      " 14  DL        2126 non-null   int64 \n",
      " 15  DS        2126 non-null   int64 \n",
      " 16  DP        2126 non-null   int64 \n",
      " 17  DR        2126 non-null   int64 \n",
      " 18  Width     2126 non-null   int64 \n",
      " 19  Min       2126 non-null   int64 \n",
      " 20  Max       2126 non-null   int64 \n",
      " 21  Nmax      2126 non-null   int64 \n",
      " 22  Nzeros    2126 non-null   int64 \n",
      " 23  Mode      2126 non-null   int64 \n",
      " 24  Mean      2126 non-null   int64 \n",
      " 25  Median    2126 non-null   int64 \n",
      " 26  Variance  2126 non-null   int64 \n",
      " 27  Tendency  2126 non-null   int64 \n",
      " 28  A         2126 non-null   int64 \n",
      " 29  B         2126 non-null   int64 \n",
      " 30  C         2126 non-null   int64 \n",
      " 31  D         2126 non-null   int64 \n",
      " 32  E         2126 non-null   int64 \n",
      " 33  AD        2126 non-null   int64 \n",
      " 34  DE        2126 non-null   int64 \n",
      " 35  LD        2126 non-null   int64 \n",
      " 36  FS        2126 non-null   int64 \n",
      " 37  SUSP      2126 non-null   int64 \n",
      " 38  CLASS     2126 non-null   int64 \n",
      " 39  NSP       2126 non-null   int64 \n",
      "dtypes: int64(35), object(5)\n",
      "memory usage: 1.2 MB\n"
     ]
    }
   ],
   "source": [
    "raw_df.info(memory_usage=\"deep\")"
   ]
  },
  {
   "cell_type": "markdown",
   "metadata": {},
   "source": [
    "Possiamo poi procedere con la classificazione dei nostro dati, più nello specifico abbiamo individuato 3 macro classi:\n",
    "* *bool_vars*: Tutte le variabili del nostro data frame che assumono valori tra [0, 1], andremo ad assegnare come tipologia di valore quello *booleano*\n",
    "* *cat_varts*: All'interno di questa tipologia di variabili, troviamo quelle *categoriche*, assegneremo a tali variabili il valore *category*\n",
    "* *num_vars*: In quest'ultima tipologia di variabili, abbiamo solamente le tipologie di valori *numerici*, le quali verranno trattate come variabili di tipo *float32*\n"
   ]
  },
  {
   "cell_type": "code",
   "execution_count": 5,
   "metadata": {},
   "outputs": [],
   "source": [
    "bool_vars = [\n",
    "    \"A\", \"B\", \"C\", \"D\", \"SH\",\n",
    "    \"AD\", \"DE\", \"LD\", \"FS\", \"SUSP\"\n",
    "]\n",
    "\n",
    "cat_vars = [\"CLASS\", \"NSP\", \"Tendency\"]\n",
    "\n",
    "num_vars = [\n",
    "    \"b\", \"e\", \"LBE\", \"LB\", \"AC\",\n",
    "    \"FM\", \"UC\", \"ASTV\",\n",
    "    \"MSTV\", \"ALTV\", \"MLTV\", \"DL\",\n",
    "    \"DS\", \"DP\", \"DR\", \"Width\", \"Min\",\n",
    "    \"Max\", \"Nmax\", \"Nzeros\", \"Mode\",\n",
    "    \"Mean\", \"Median\", \"Variance\"\n",
    "]\n",
    "\n",
    "custom_dtpes = { \n",
    "    **{ col: \"bool\" for col in bool_vars }, \n",
    "    **{ col: \"category\" for col in cat_vars},\n",
    "    **{ col: \"float32\" for col in num_vars}\n",
    "}"
   ]
  },
  {
   "cell_type": "markdown",
   "metadata": {},
   "source": [
    "Possiamo quindi procedere a leggere nuovamente il Data Frame, AGGIUNGERE "
   ]
  },
  {
   "cell_type": "code",
   "execution_count": 6,
   "metadata": {},
   "outputs": [],
   "source": [
    "raw_df = pd.read_csv(\"../data/ctg.csv\", delimiter=';', dtype=custom_dtpes, decimal=',')"
   ]
  },
  {
   "cell_type": "markdown",
   "metadata": {},
   "source": [
    "OTTIMIZZAZIONE"
   ]
  },
  {
   "cell_type": "code",
   "execution_count": 7,
   "metadata": {},
   "outputs": [
    {
     "name": "stdout",
     "output_type": "stream",
     "text": [
      "<class 'pandas.core.frame.DataFrame'>\n",
      "RangeIndex: 2126 entries, 0 to 2125\n",
      "Data columns (total 40 columns):\n",
      " #   Column    Non-Null Count  Dtype   \n",
      "---  ------    --------------  -----   \n",
      " 0   FileName  2126 non-null   object  \n",
      " 1   Date      2126 non-null   object  \n",
      " 2   SegFile   2126 non-null   object  \n",
      " 3   b         2126 non-null   float32 \n",
      " 4   e         2126 non-null   float32 \n",
      " 5   LBE       2126 non-null   float32 \n",
      " 6   LB        2126 non-null   float32 \n",
      " 7   AC        2126 non-null   float32 \n",
      " 8   FM        2126 non-null   float32 \n",
      " 9   UC        2126 non-null   float32 \n",
      " 10  ASTV      2126 non-null   float32 \n",
      " 11  MSTV      2126 non-null   float32 \n",
      " 12  ALTV      2126 non-null   float32 \n",
      " 13  MLTV      2126 non-null   float32 \n",
      " 14  DL        2126 non-null   float32 \n",
      " 15  DS        2126 non-null   float32 \n",
      " 16  DP        2126 non-null   float32 \n",
      " 17  DR        2126 non-null   float32 \n",
      " 18  Width     2126 non-null   float32 \n",
      " 19  Min       2126 non-null   float32 \n",
      " 20  Max       2126 non-null   float32 \n",
      " 21  Nmax      2126 non-null   float32 \n",
      " 22  Nzeros    2126 non-null   float32 \n",
      " 23  Mode      2126 non-null   float32 \n",
      " 24  Mean      2126 non-null   float32 \n",
      " 25  Median    2126 non-null   float32 \n",
      " 26  Variance  2126 non-null   float32 \n",
      " 27  Tendency  2126 non-null   category\n",
      " 28  A         2126 non-null   bool    \n",
      " 29  B         2126 non-null   bool    \n",
      " 30  C         2126 non-null   bool    \n",
      " 31  D         2126 non-null   bool    \n",
      " 32  E         2126 non-null   int64   \n",
      " 33  AD        2126 non-null   bool    \n",
      " 34  DE        2126 non-null   bool    \n",
      " 35  LD        2126 non-null   bool    \n",
      " 36  FS        2126 non-null   bool    \n",
      " 37  SUSP      2126 non-null   bool    \n",
      " 38  CLASS     2126 non-null   category\n",
      " 39  NSP       2126 non-null   category\n",
      "dtypes: bool(9), category(3), float32(24), int64(1), object(3)\n",
      "memory usage: 660.6 KB\n"
     ]
    }
   ],
   "source": [
    "raw_df.info(memory_usage=\"deep\")"
   ]
  },
  {
   "cell_type": "markdown",
   "metadata": {},
   "source": [
    "In questo modo, abbiamo ridotto di quasi la metà la quantità di memoria utilizzata per mantenere il dataset."
   ]
  },
  {
   "cell_type": "markdown",
   "metadata": {},
   "source": [
    "Mappiamo i nomi di aclune colonne in nomi più esplicativi."
   ]
  },
  {
   "cell_type": "code",
   "execution_count": 8,
   "metadata": {},
   "outputs": [],
   "source": [
    "col_names = {\n",
    "    \"FileName\": \"file_name\",\n",
    "    \"Date\": \"date\",\n",
    "    \"SegFile\": \"seg_file\",\n",
    "    \"b\": \"start_instant\",\n",
    "    \"e\": \"end_instant\",\n",
    "    \"LBE\": \"medical_baseline\",\n",
    "    \"LB\": \"sisproto_baseline\",\n",
    "    \"AC\": \"heart_acc\",\n",
    "    \"FM\": \"foetal_move\",\n",
    "    \"UC\": \"utherine_contract\",\n",
    "    \"ASTV\": \"pct_short_variability\",\n",
    "    \"MSTV\": \"mean_short_variability\",\n",
    "    \"ALTV\": \"pct_long_variability\",\n",
    "    \"MLTV\": \"mean_long_variability\",\n",
    "    \"DL\": \"light_dec\",\n",
    "    \"DS\": \"severe_dec\",\n",
    "    \"DP\": \"prolongued_dec\",\n",
    "    \"DR\": \"repetitive_dec\",\n",
    "    \"A\": \"calm_sleep\",\n",
    "    \"B\": \"rem_sleep\",\n",
    "    \"C\": \"calm_vigilance\",\n",
    "    \"D\": \"active_vigilance\",\n",
    "    \"SH\": \"shift_pattern\",\n",
    "    \"AD\": \"acc_pattern_stress\", # negativo se pattern in decelerazione\n",
    "    \"DE\": \"dec_pattern_vagal\",\n",
    "    \"LD\": \"largely_dec\",\n",
    "    \"FS\": \"patho_flat_sinusoidal\",\n",
    "    \"SUSP\": \"suspect\"\n",
    "}"
   ]
  },
  {
   "cell_type": "code",
   "execution_count": 9,
   "metadata": {},
   "outputs": [
    {
     "data": {
      "text/plain": [
       "Index(['file_name', 'date', 'seg_file', 'start_instant', 'end_instant',\n",
       "       'medical_baseline', 'sisproto_baseline', 'heart_acc', 'foetal_move',\n",
       "       'utherine_contract', 'pct_short_variability', 'mean_short_variability',\n",
       "       'pct_long_variability', 'mean_long_variability', 'light_dec',\n",
       "       'severe_dec', 'prolongued_dec', 'repetitive_dec', 'width', 'min', 'max',\n",
       "       'nmax', 'nzeros', 'mode', 'mean', 'median', 'variance', 'tendency',\n",
       "       'calm_sleep', 'rem_sleep', 'calm_vigilance', 'active_vigilance', 'e',\n",
       "       'acc_pattern_stress', 'dec_pattern_vagal', 'largely_dec',\n",
       "       'patho_flat_sinusoidal', 'suspect', 'class', 'nsp'],\n",
       "      dtype='object')"
      ]
     },
     "execution_count": 9,
     "metadata": {},
     "output_type": "execute_result"
    }
   ],
   "source": [
    "raw_df.rename(columns=col_names, inplace=True)\n",
    "raw_df.columns = raw_df.columns.str.lower()\n",
    "raw_df.columns"
   ]
  },
  {
   "cell_type": "code",
   "execution_count": 10,
   "metadata": {},
   "outputs": [
    {
     "data": {
      "text/html": [
       "<div>\n",
       "<style scoped>\n",
       "    .dataframe tbody tr th:only-of-type {\n",
       "        vertical-align: middle;\n",
       "    }\n",
       "\n",
       "    .dataframe tbody tr th {\n",
       "        vertical-align: top;\n",
       "    }\n",
       "\n",
       "    .dataframe thead th {\n",
       "        text-align: right;\n",
       "    }\n",
       "</style>\n",
       "<table border=\"1\" class=\"dataframe\">\n",
       "  <thead>\n",
       "    <tr style=\"text-align: right;\">\n",
       "      <th></th>\n",
       "      <th>file_name</th>\n",
       "      <th>date</th>\n",
       "      <th>seg_file</th>\n",
       "      <th>start_instant</th>\n",
       "      <th>end_instant</th>\n",
       "      <th>medical_baseline</th>\n",
       "      <th>sisproto_baseline</th>\n",
       "      <th>heart_acc</th>\n",
       "      <th>foetal_move</th>\n",
       "      <th>utherine_contract</th>\n",
       "      <th>...</th>\n",
       "      <th>calm_vigilance</th>\n",
       "      <th>active_vigilance</th>\n",
       "      <th>e</th>\n",
       "      <th>acc_pattern_stress</th>\n",
       "      <th>dec_pattern_vagal</th>\n",
       "      <th>largely_dec</th>\n",
       "      <th>patho_flat_sinusoidal</th>\n",
       "      <th>suspect</th>\n",
       "      <th>class</th>\n",
       "      <th>nsp</th>\n",
       "    </tr>\n",
       "  </thead>\n",
       "  <tbody>\n",
       "    <tr>\n",
       "      <th>0</th>\n",
       "      <td>Variab10.txt</td>\n",
       "      <td>01/12/96</td>\n",
       "      <td>CTG0001.txt</td>\n",
       "      <td>240.0</td>\n",
       "      <td>357.0</td>\n",
       "      <td>120.0</td>\n",
       "      <td>120.0</td>\n",
       "      <td>0.0</td>\n",
       "      <td>0.0</td>\n",
       "      <td>0.0</td>\n",
       "      <td>...</td>\n",
       "      <td>False</td>\n",
       "      <td>False</td>\n",
       "      <td>0</td>\n",
       "      <td>False</td>\n",
       "      <td>False</td>\n",
       "      <td>False</td>\n",
       "      <td>True</td>\n",
       "      <td>False</td>\n",
       "      <td>9</td>\n",
       "      <td>2</td>\n",
       "    </tr>\n",
       "    <tr>\n",
       "      <th>1</th>\n",
       "      <td>Fmcs_1.txt</td>\n",
       "      <td>03/05/96</td>\n",
       "      <td>CTG0002.txt</td>\n",
       "      <td>5.0</td>\n",
       "      <td>632.0</td>\n",
       "      <td>132.0</td>\n",
       "      <td>132.0</td>\n",
       "      <td>4.0</td>\n",
       "      <td>0.0</td>\n",
       "      <td>4.0</td>\n",
       "      <td>...</td>\n",
       "      <td>False</td>\n",
       "      <td>False</td>\n",
       "      <td>0</td>\n",
       "      <td>True</td>\n",
       "      <td>False</td>\n",
       "      <td>False</td>\n",
       "      <td>False</td>\n",
       "      <td>False</td>\n",
       "      <td>6</td>\n",
       "      <td>1</td>\n",
       "    </tr>\n",
       "    <tr>\n",
       "      <th>2</th>\n",
       "      <td>Fmcs_1.txt</td>\n",
       "      <td>03/05/96</td>\n",
       "      <td>CTG0003.txt</td>\n",
       "      <td>177.0</td>\n",
       "      <td>779.0</td>\n",
       "      <td>133.0</td>\n",
       "      <td>133.0</td>\n",
       "      <td>2.0</td>\n",
       "      <td>0.0</td>\n",
       "      <td>5.0</td>\n",
       "      <td>...</td>\n",
       "      <td>False</td>\n",
       "      <td>False</td>\n",
       "      <td>0</td>\n",
       "      <td>True</td>\n",
       "      <td>False</td>\n",
       "      <td>False</td>\n",
       "      <td>False</td>\n",
       "      <td>False</td>\n",
       "      <td>6</td>\n",
       "      <td>1</td>\n",
       "    </tr>\n",
       "    <tr>\n",
       "      <th>3</th>\n",
       "      <td>Fmcs_1.txt</td>\n",
       "      <td>03/05/96</td>\n",
       "      <td>CTG0004.txt</td>\n",
       "      <td>411.0</td>\n",
       "      <td>1192.0</td>\n",
       "      <td>134.0</td>\n",
       "      <td>134.0</td>\n",
       "      <td>2.0</td>\n",
       "      <td>0.0</td>\n",
       "      <td>6.0</td>\n",
       "      <td>...</td>\n",
       "      <td>False</td>\n",
       "      <td>False</td>\n",
       "      <td>0</td>\n",
       "      <td>True</td>\n",
       "      <td>False</td>\n",
       "      <td>False</td>\n",
       "      <td>False</td>\n",
       "      <td>False</td>\n",
       "      <td>6</td>\n",
       "      <td>1</td>\n",
       "    </tr>\n",
       "    <tr>\n",
       "      <th>4</th>\n",
       "      <td>Fmcs_1.txt</td>\n",
       "      <td>03/05/96</td>\n",
       "      <td>CTG0005.txt</td>\n",
       "      <td>533.0</td>\n",
       "      <td>1147.0</td>\n",
       "      <td>132.0</td>\n",
       "      <td>132.0</td>\n",
       "      <td>4.0</td>\n",
       "      <td>0.0</td>\n",
       "      <td>5.0</td>\n",
       "      <td>...</td>\n",
       "      <td>False</td>\n",
       "      <td>False</td>\n",
       "      <td>0</td>\n",
       "      <td>False</td>\n",
       "      <td>False</td>\n",
       "      <td>False</td>\n",
       "      <td>False</td>\n",
       "      <td>False</td>\n",
       "      <td>2</td>\n",
       "      <td>1</td>\n",
       "    </tr>\n",
       "  </tbody>\n",
       "</table>\n",
       "<p>5 rows × 40 columns</p>\n",
       "</div>"
      ],
      "text/plain": [
       "      file_name      date     seg_file  start_instant  end_instant   \n",
       "0  Variab10.txt  01/12/96  CTG0001.txt          240.0        357.0  \\\n",
       "1    Fmcs_1.txt  03/05/96  CTG0002.txt            5.0        632.0   \n",
       "2    Fmcs_1.txt  03/05/96  CTG0003.txt          177.0        779.0   \n",
       "3    Fmcs_1.txt  03/05/96  CTG0004.txt          411.0       1192.0   \n",
       "4    Fmcs_1.txt  03/05/96  CTG0005.txt          533.0       1147.0   \n",
       "\n",
       "   medical_baseline  sisproto_baseline  heart_acc  foetal_move   \n",
       "0             120.0              120.0        0.0          0.0  \\\n",
       "1             132.0              132.0        4.0          0.0   \n",
       "2             133.0              133.0        2.0          0.0   \n",
       "3             134.0              134.0        2.0          0.0   \n",
       "4             132.0              132.0        4.0          0.0   \n",
       "\n",
       "   utherine_contract  ...  calm_vigilance  active_vigilance  e   \n",
       "0                0.0  ...           False             False  0  \\\n",
       "1                4.0  ...           False             False  0   \n",
       "2                5.0  ...           False             False  0   \n",
       "3                6.0  ...           False             False  0   \n",
       "4                5.0  ...           False             False  0   \n",
       "\n",
       "   acc_pattern_stress  dec_pattern_vagal  largely_dec  patho_flat_sinusoidal   \n",
       "0               False              False        False                   True  \\\n",
       "1                True              False        False                  False   \n",
       "2                True              False        False                  False   \n",
       "3                True              False        False                  False   \n",
       "4               False              False        False                  False   \n",
       "\n",
       "   suspect  class  nsp  \n",
       "0    False      9    2  \n",
       "1    False      6    1  \n",
       "2    False      6    1  \n",
       "3    False      6    1  \n",
       "4    False      2    1  \n",
       "\n",
       "[5 rows x 40 columns]"
      ]
     },
     "execution_count": 10,
     "metadata": {},
     "output_type": "execute_result"
    }
   ],
   "source": [
    "raw_df.head(5)"
   ]
  },
  {
   "cell_type": "markdown",
   "metadata": {},
   "source": [
    "Ai fini dello scopo di questo progetto, le colonne `file_name`, `seg_file` e `date` non risultano particolarmente utili per la creazione di modelli predittivi."
   ]
  },
  {
   "cell_type": "code",
   "execution_count": 11,
   "metadata": {},
   "outputs": [],
   "source": [
    "df = raw_df.drop(columns=['file_name', 'date', 'seg_file'])"
   ]
  },
  {
   "cell_type": "markdown",
   "metadata": {},
   "source": [
    "Il dataset è ora utilizzabile per procedere con l'analisi esplorativa."
   ]
  },
  {
   "cell_type": "markdown",
   "metadata": {},
   "source": [
    "## Analisi Esplorativa"
   ]
  },
  {
   "cell_type": "markdown",
   "metadata": {},
   "source": [
    "Possiamo rapidamente vedere quali variabili del dataset hanno correlazione maggiore, per poter poi comprendere come effettivamente alcuni valori possano influenzare altri. Utilizziamo quindi l'indice di correlazione di Pearson."
   ]
  },
  {
   "cell_type": "code",
   "execution_count": 13,
   "metadata": {},
   "outputs": [
    {
     "data": {
      "text/plain": [
       "Text(0.5, 1.0, 'Correlation Matrix Heatmap')"
      ]
     },
     "execution_count": 13,
     "metadata": {},
     "output_type": "execute_result"
    },
    {
     "data": {
      "image/png": "[encoded data removed]",
      "text/plain": [
       "<Figure size 800x600 with 2 Axes>"
      ]
     },
     "metadata": {},
     "output_type": "display_data"
    }
   ],
   "source": [
    "corr_matrix = df.drop(columns=['min', 'mean', 'max','nmax', 'mode', 'median']) \\\n",
    "    .corr(method=\"pearson\")\n",
    "\n",
    "plt.figure(figsize=(8, 6))\n",
    "sns.heatmap(corr_matrix, cmap=\"coolwarm\")\n",
    "plt.title(\"Correlation Matrix Heatmap\")"
   ]
  },
  {
   "cell_type": "markdown",
   "metadata": {},
   "source": [
    "Creiamo una **color map** che ci permetterà di rendere i nostri grafici più chiari. La nostra *color map* si basa su una specifica colonna del nostro *data frame*, la colonna **NSP**. All'interno del data frame, la colonna assueme semplicemente 3 valori."
   ]
  },
  {
   "attachments": {},
   "cell_type": "markdown",
   "metadata": {},
   "source": [
    "Come si può notare dalla heatmap, esiste una una forte correlazione tra la variabile `width` e `mean_short_variability`, pari a:"
   ]
  },
  {
   "cell_type": "code",
   "execution_count": 68,
   "metadata": {},
   "outputs": [
    {
     "data": {
      "text/plain": [
       "0.6608467767745067"
      ]
     },
     "execution_count": 68,
     "metadata": {},
     "output_type": "execute_result"
    }
   ],
   "source": [
    "corr_matrix['width']['mean_short_variability']"
   ]
  },
  {
   "cell_type": "code",
   "execution_count": null,
   "metadata": {},
   "outputs": [],
   "source": [
    "sns.scatterplot(data=df, x='width', y='mean_short_variability', hue='nsp', palette=['#6c9a8b', '#ffc914', '#d62828'])"
   ]
  },
  {
   "cell_type": "markdown",
   "metadata": {},
   "source": [
    "La **\"width\"** rappresenta la durata delle onde nell'attività cardiaca fetale registrata. Potrebbe essere calcolata come la durata dell'onda P, la durata dell'onda QRS o altre onde specifiche nell'ECG fetale. La larghezza dell'onda ci permette di ottenere delle informazioni riguardo la conducibilità e sulla morfologia dell'attività cardiaca del neonato.\n",
    "\n",
    "La **\"mean_short_variability\"** rappresenta invece la variabilità media a breve termine dell'attività cardiaca fetale. Questa variabile fa riferimento alla fluttuazione delle frequenze cardiache nel breve termine, calcolata come i battiti cardiaci consecutivi nell'arco di pochi minuti. La grande variabilità a breve termine è considerata un fattore di salute del neonato, dal momento in cui la variabilità è associata ad una migliore adattabilità del feto.\n",
    "\n",
    "In generale, alcune delle anomalie cardiache nei neonati riescono influenzare sia la *\"width\"* che la *\"mean_short_variability\"* registrate durante questa analisi, la cardiotocografia. Ad esempio:\n",
    "\n",
    "* **Stenosi valvolare**: Questa malattia può influire sulla tipologia delle onde registrate nell'attività cardiaca fetale, determinando una crescita della *\"width\"*.\n",
    "\n",
    "* **Anomalia del ritmo cardiaco**: Queste anomalie possono anche influenzare la variabilità a breve termine, riducendola o causando un pattern irregolare nella *width*.\n",
    "\n",
    "* **Malformazioni cardiache strutturali**: Le malformazioni cardiache strutturali possono influire sulla forma delle onde nell'attività cardiaca del nenonato sotto osservazione, determinando una *\"width\"* alterata."
   ]
  },
  {
   "attachments": {},
   "cell_type": "markdown",
   "metadata": {},
   "source": [
    "Come si può notare dalla heatmap, esiste una una forte correlazione tra la variabile `mean_short_variability` e `variance`, pari a:"
   ]
  },
  {
   "cell_type": "code",
   "execution_count": 66,
   "metadata": {},
   "outputs": [
    {
     "data": {
      "text/plain": [
       "0.5558524410341099"
      ]
     },
     "execution_count": 66,
     "metadata": {},
     "output_type": "execute_result"
    }
   ],
   "source": [
    "corr_matrix['mean_short_variability']['variance']"
   ]
  },
  {
   "cell_type": "code",
   "execution_count": null,
   "metadata": {},
   "outputs": [],
   "source": [
    "sns.scatterplot(data=df, x='mean_short_variability', y='variance', hue='nsp', palette=['#6c9a8b', '#ffc914', '#d62828'])"
   ]
  },
  {
   "attachments": {},
   "cell_type": "markdown",
   "metadata": {},
   "source": [
    "La **\"variance\"** è una misura statistica che rappresenta la dispersione dei dati intorno alla media.\n",
    "\n",
    "Una *correlazione positiva* tra queste due variabili suggerisce che una maggiore *\"variance\"* è associata a una maggiore *\"mean_short_variability\"*. Ciò indica che le oscillazioni nella frequenza cardiaca fetale sono più variabili e presentano una maggiore dispersione intorno alla media durante il breve periodo di analisi."
   ]
  },
  {
   "cell_type": "markdown",
   "metadata": {},
   "source": [
    "Come si può notare dalla heatmap, esiste una una forte correlazione tra la variabile `largely_dec` e `prolongued_dec`, pari a:"
   ]
  },
  {
   "cell_type": "code",
   "execution_count": null,
   "metadata": {},
   "outputs": [],
   "source": [
    "corr_matrix['largely_dec']['prolongued_dec']"
   ]
  },
  {
   "cell_type": "markdown",
   "metadata": {},
   "source": [
    "Possiamo quindi effettuare un grafico per visualizzare la distribuzione dei valori (diagonale) e come si presenta l'output di `NSP` in base alla distribuzione dei due valori"
   ]
  },
  {
   "cell_type": "code",
   "execution_count": null,
   "metadata": {},
   "outputs": [],
   "source": [
    "sns.pairplot(data=df, vars=['largely_dec', 'prolongued_dec'], hue='nsp',\n",
    "             palette=['#6c9a8b', '#ffc914', '#d62828'],\n",
    "             diag_kind=\"kde\", plot_kws={'alpha': 0.6, 's': 30})"
   ]
  }
 ],
 "metadata": {
  "kernelspec": {
   "display_name": "Python 3 (ipykernel)",
   "language": "python",
   "name": "python3"
  },
  "language_info": {
   "codemirror_mode": {
    "name": "ipython",
    "version": 3
   },
   "file_extension": ".py",
   "mimetype": "text/x-python",
   "name": "python",
   "nbconvert_exporter": "python",
   "pygments_lexer": "ipython3",
   "version": "3.11.3"
  }
 },
 "nbformat": 4,
 "nbformat_minor": 2
}
