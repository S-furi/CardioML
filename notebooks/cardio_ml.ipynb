{
  "cells": [
    {
      "cell_type": "markdown",
      "metadata": {
        "id": "AUCXRc_tjTB_"
      },
      "source": [
        "# CardioML\n",
        "\n"
      ]
    },
    {
      "cell_type": "markdown",
      "metadata": {
        "id": "qd0misoXjTCG"
      },
      "source": [
        "Elaborato di Programmazione di Applicazioni Data Intensive - 2023\n",
        "\n",
        "Membri del Gruppo:\n",
        "- Matteo Iorio\n",
        "- Fabio Vincenzi\n",
        "- Stefano Furi"
      ]
    },
    {
      "cell_type": "code",
      "execution_count": null,
      "metadata": {
        "id": "yNqSjBQ0jTCH"
      },
      "outputs": [],
      "source": [
        "import pandas as pd\n",
        "import numpy as np\n",
        "import matplotlib.pyplot as plt\n",
        "import seaborn as sns\n",
        "\n",
        "sns.set(style=\"ticks\")\n",
        "sns.set_style(\"whitegrid\")"
      ]
    },
    {
      "cell_type": "markdown",
      "metadata": {
        "id": "EZNeLWRtjTCH"
      },
      "source": [
        "## Creazione del DataFrame"
      ]
    },
    {
      "cell_type": "markdown",
      "metadata": {
        "id": "eAEwO9jDjTCI"
      },
      "source": [
        "Ci siamo posti l'obbiettivo di realizzare un progetto che **possa veramente risultare utile** per alcuni professionisti del settore. Quello che andremo a studiare è un problema che riguarda i fanciulli di tenera età, più in particolare andremo ad analizzare i *risultati di rilevazioni cardiache*, andando a determinare se avranno o meno complicanze cardiache patologiche. \n",
        "\n",
        "Il dataset utilizzato riguarda una serie di misurazioni effettuate attraverso [cardiotocografia](https://it.wikipedia.org/wiki/Cardiotocografia), consultabile presso [UCI Machine Learning Repository](https://archive.ics.uci.edu/ml/datasets/cardiotocography#).\n"
      ]
    },
    {
      "cell_type": "markdown",
      "metadata": {
        "id": "etfNFk4wjTCJ"
      },
      "source": [
        "## Preparazione del dataset"
      ]
    },
    {
      "cell_type": "code",
      "execution_count": null,
      "metadata": {
        "id": "_waY7KnUjTCJ"
      },
      "outputs": [],
      "source": [
        "raw_df = pd.read_csv(\"https://raw.githubusercontent.com/S-furi/CardioML/main/data/ctg.csv?token=GHSAT0AAAAAAB2INSX3OMMLZ7L45MTIRBW2ZEB3QJQ\", delimiter=';')"
      ]
    },
    {
      "cell_type": "code",
      "execution_count": null,
      "metadata": {
        "colab": {
          "base_uri": "https://localhost:8080/",
          "height": 233
        },
        "id": "KkPzRMCLjTCJ",
        "outputId": "cccdb9cf-c25a-49e5-e503-bbef11677d2b"
      },
      "outputs": [
        {
          "output_type": "execute_result",
          "data": {
            "text/plain": [
              "       FileName      Date      SegFile    b     e  LBE   LB  AC  FM  UC  ...  \\\n",
              "0  Variab10.txt  01/12/96  CTG0001.txt  240   357  120  120   0   0   0  ...   \n",
              "1    Fmcs_1.txt  03/05/96  CTG0002.txt    5   632  132  132   4   0   4  ...   \n",
              "2    Fmcs_1.txt  03/05/96  CTG0003.txt  177   779  133  133   2   0   5  ...   \n",
              "3    Fmcs_1.txt  03/05/96  CTG0004.txt  411  1192  134  134   2   0   6  ...   \n",
              "4    Fmcs_1.txt  03/05/96  CTG0005.txt  533  1147  132  132   4   0   5  ...   \n",
              "\n",
              "   C  D  E AD  DE  LD  FS  SUSP  CLASS  NSP  \n",
              "0  0  0  0  0   0   0   1     0      9    2  \n",
              "1  0  0  0  1   0   0   0     0      6    1  \n",
              "2  0  0  0  1   0   0   0     0      6    1  \n",
              "3  0  0  0  1   0   0   0     0      6    1  \n",
              "4  0  0  0  0   0   0   0     0      2    1  \n",
              "\n",
              "[5 rows x 40 columns]"
            ],
            "text/html": [
              "\n",
              "  <div id=\"df-5f8aa6c3-b368-4f24-ae42-f3030b2694c4\">\n",
              "    <div class=\"colab-df-container\">\n",
              "      <div>\n",
              "<style scoped>\n",
              "    .dataframe tbody tr th:only-of-type {\n",
              "        vertical-align: middle;\n",
              "    }\n",
              "\n",
              "    .dataframe tbody tr th {\n",
              "        vertical-align: top;\n",
              "    }\n",
              "\n",
              "    .dataframe thead th {\n",
              "        text-align: right;\n",
              "    }\n",
              "</style>\n",
              "<table border=\"1\" class=\"dataframe\">\n",
              "  <thead>\n",
              "    <tr style=\"text-align: right;\">\n",
              "      <th></th>\n",
              "      <th>FileName</th>\n",
              "      <th>Date</th>\n",
              "      <th>SegFile</th>\n",
              "      <th>b</th>\n",
              "      <th>e</th>\n",
              "      <th>LBE</th>\n",
              "      <th>LB</th>\n",
              "      <th>AC</th>\n",
              "      <th>FM</th>\n",
              "      <th>UC</th>\n",
              "      <th>...</th>\n",
              "      <th>C</th>\n",
              "      <th>D</th>\n",
              "      <th>E</th>\n",
              "      <th>AD</th>\n",
              "      <th>DE</th>\n",
              "      <th>LD</th>\n",
              "      <th>FS</th>\n",
              "      <th>SUSP</th>\n",
              "      <th>CLASS</th>\n",
              "      <th>NSP</th>\n",
              "    </tr>\n",
              "  </thead>\n",
              "  <tbody>\n",
              "    <tr>\n",
              "      <th>0</th>\n",
              "      <td>Variab10.txt</td>\n",
              "      <td>01/12/96</td>\n",
              "      <td>CTG0001.txt</td>\n",
              "      <td>240</td>\n",
              "      <td>357</td>\n",
              "      <td>120</td>\n",
              "      <td>120</td>\n",
              "      <td>0</td>\n",
              "      <td>0</td>\n",
              "      <td>0</td>\n",
              "      <td>...</td>\n",
              "      <td>0</td>\n",
              "      <td>0</td>\n",
              "      <td>0</td>\n",
              "      <td>0</td>\n",
              "      <td>0</td>\n",
              "      <td>0</td>\n",
              "      <td>1</td>\n",
              "      <td>0</td>\n",
              "      <td>9</td>\n",
              "      <td>2</td>\n",
              "    </tr>\n",
              "    <tr>\n",
              "      <th>1</th>\n",
              "      <td>Fmcs_1.txt</td>\n",
              "      <td>03/05/96</td>\n",
              "      <td>CTG0002.txt</td>\n",
              "      <td>5</td>\n",
              "      <td>632</td>\n",
              "      <td>132</td>\n",
              "      <td>132</td>\n",
              "      <td>4</td>\n",
              "      <td>0</td>\n",
              "      <td>4</td>\n",
              "      <td>...</td>\n",
              "      <td>0</td>\n",
              "      <td>0</td>\n",
              "      <td>0</td>\n",
              "      <td>1</td>\n",
              "      <td>0</td>\n",
              "      <td>0</td>\n",
              "      <td>0</td>\n",
              "      <td>0</td>\n",
              "      <td>6</td>\n",
              "      <td>1</td>\n",
              "    </tr>\n",
              "    <tr>\n",
              "      <th>2</th>\n",
              "      <td>Fmcs_1.txt</td>\n",
              "      <td>03/05/96</td>\n",
              "      <td>CTG0003.txt</td>\n",
              "      <td>177</td>\n",
              "      <td>779</td>\n",
              "      <td>133</td>\n",
              "      <td>133</td>\n",
              "      <td>2</td>\n",
              "      <td>0</td>\n",
              "      <td>5</td>\n",
              "      <td>...</td>\n",
              "      <td>0</td>\n",
              "      <td>0</td>\n",
              "      <td>0</td>\n",
              "      <td>1</td>\n",
              "      <td>0</td>\n",
              "      <td>0</td>\n",
              "      <td>0</td>\n",
              "      <td>0</td>\n",
              "      <td>6</td>\n",
              "      <td>1</td>\n",
              "    </tr>\n",
              "    <tr>\n",
              "      <th>3</th>\n",
              "      <td>Fmcs_1.txt</td>\n",
              "      <td>03/05/96</td>\n",
              "      <td>CTG0004.txt</td>\n",
              "      <td>411</td>\n",
              "      <td>1192</td>\n",
              "      <td>134</td>\n",
              "      <td>134</td>\n",
              "      <td>2</td>\n",
              "      <td>0</td>\n",
              "      <td>6</td>\n",
              "      <td>...</td>\n",
              "      <td>0</td>\n",
              "      <td>0</td>\n",
              "      <td>0</td>\n",
              "      <td>1</td>\n",
              "      <td>0</td>\n",
              "      <td>0</td>\n",
              "      <td>0</td>\n",
              "      <td>0</td>\n",
              "      <td>6</td>\n",
              "      <td>1</td>\n",
              "    </tr>\n",
              "    <tr>\n",
              "      <th>4</th>\n",
              "      <td>Fmcs_1.txt</td>\n",
              "      <td>03/05/96</td>\n",
              "      <td>CTG0005.txt</td>\n",
              "      <td>533</td>\n",
              "      <td>1147</td>\n",
              "      <td>132</td>\n",
              "      <td>132</td>\n",
              "      <td>4</td>\n",
              "      <td>0</td>\n",
              "      <td>5</td>\n",
              "      <td>...</td>\n",
              "      <td>0</td>\n",
              "      <td>0</td>\n",
              "      <td>0</td>\n",
              "      <td>0</td>\n",
              "      <td>0</td>\n",
              "      <td>0</td>\n",
              "      <td>0</td>\n",
              "      <td>0</td>\n",
              "      <td>2</td>\n",
              "      <td>1</td>\n",
              "    </tr>\n",
              "  </tbody>\n",
              "</table>\n",
              "<p>5 rows × 40 columns</p>\n",
              "</div>\n",
              "      <button class=\"colab-df-convert\" onclick=\"convertToInteractive('df-5f8aa6c3-b368-4f24-ae42-f3030b2694c4')\"\n",
              "              title=\"Convert this dataframe to an interactive table.\"\n",
              "              style=\"display:none;\">\n",
              "        \n",
              "  <svg xmlns=\"http://www.w3.org/2000/svg\" height=\"24px\"viewBox=\"0 0 24 24\"\n",
              "       width=\"24px\">\n",
              "    <path d=\"M0 0h24v24H0V0z\" fill=\"none\"/>\n",
              "    <path d=\"M18.56 5.44l.94 2.06.94-2.06 2.06-.94-2.06-.94-.94-2.06-.94 2.06-2.06.94zm-11 1L8.5 8.5l.94-2.06 2.06-.94-2.06-.94L8.5 2.5l-.94 2.06-2.06.94zm10 10l.94 2.06.94-2.06 2.06-.94-2.06-.94-.94-2.06-.94 2.06-2.06.94z\"/><path d=\"M17.41 7.96l-1.37-1.37c-.4-.4-.92-.59-1.43-.59-.52 0-1.04.2-1.43.59L10.3 9.45l-7.72 7.72c-.78.78-.78 2.05 0 2.83L4 21.41c.39.39.9.59 1.41.59.51 0 1.02-.2 1.41-.59l7.78-7.78 2.81-2.81c.8-.78.8-2.07 0-2.86zM5.41 20L4 18.59l7.72-7.72 1.47 1.35L5.41 20z\"/>\n",
              "  </svg>\n",
              "      </button>\n",
              "      \n",
              "  <style>\n",
              "    .colab-df-container {\n",
              "      display:flex;\n",
              "      flex-wrap:wrap;\n",
              "      gap: 12px;\n",
              "    }\n",
              "\n",
              "    .colab-df-convert {\n",
              "      background-color: #E8F0FE;\n",
              "      border: none;\n",
              "      border-radius: 50%;\n",
              "      cursor: pointer;\n",
              "      display: none;\n",
              "      fill: #1967D2;\n",
              "      height: 32px;\n",
              "      padding: 0 0 0 0;\n",
              "      width: 32px;\n",
              "    }\n",
              "\n",
              "    .colab-df-convert:hover {\n",
              "      background-color: #E2EBFA;\n",
              "      box-shadow: 0px 1px 2px rgba(60, 64, 67, 0.3), 0px 1px 3px 1px rgba(60, 64, 67, 0.15);\n",
              "      fill: #174EA6;\n",
              "    }\n",
              "\n",
              "    [theme=dark] .colab-df-convert {\n",
              "      background-color: #3B4455;\n",
              "      fill: #D2E3FC;\n",
              "    }\n",
              "\n",
              "    [theme=dark] .colab-df-convert:hover {\n",
              "      background-color: #434B5C;\n",
              "      box-shadow: 0px 1px 3px 1px rgba(0, 0, 0, 0.15);\n",
              "      filter: drop-shadow(0px 1px 2px rgba(0, 0, 0, 0.3));\n",
              "      fill: #FFFFFF;\n",
              "    }\n",
              "  </style>\n",
              "\n",
              "      <script>\n",
              "        const buttonEl =\n",
              "          document.querySelector('#df-5f8aa6c3-b368-4f24-ae42-f3030b2694c4 button.colab-df-convert');\n",
              "        buttonEl.style.display =\n",
              "          google.colab.kernel.accessAllowed ? 'block' : 'none';\n",
              "\n",
              "        async function convertToInteractive(key) {\n",
              "          const element = document.querySelector('#df-5f8aa6c3-b368-4f24-ae42-f3030b2694c4');\n",
              "          const dataTable =\n",
              "            await google.colab.kernel.invokeFunction('convertToInteractive',\n",
              "                                                     [key], {});\n",
              "          if (!dataTable) return;\n",
              "\n",
              "          const docLinkHtml = 'Like what you see? Visit the ' +\n",
              "            '<a target=\"_blank\" href=https://colab.research.google.com/notebooks/data_table.ipynb>data table notebook</a>'\n",
              "            + ' to learn more about interactive tables.';\n",
              "          element.innerHTML = '';\n",
              "          dataTable['output_type'] = 'display_data';\n",
              "          await google.colab.output.renderOutput(dataTable, element);\n",
              "          const docLink = document.createElement('div');\n",
              "          docLink.innerHTML = docLinkHtml;\n",
              "          element.appendChild(docLink);\n",
              "        }\n",
              "      </script>\n",
              "    </div>\n",
              "  </div>\n",
              "  "
            ]
          },
          "metadata": {},
          "execution_count": 85
        }
      ],
      "source": [
        "raw_df.head()"
      ]
    },
    {
      "cell_type": "markdown",
      "metadata": {
        "id": "Y7yTkN74jTCK"
      },
      "source": [
        "Alcune variabili categoriche sono state mappate a `np.float64`, mentre altre sarebbe stato sufficiente un tipo `np.int32`. Possiamo quindi ricaricare il dataset, specificando il tipo di dato per ogni colonna, facendo anche riferimento all'utilizzo di memoria"
      ]
    },
    {
      "cell_type": "code",
      "execution_count": null,
      "metadata": {
        "colab": {
          "base_uri": "https://localhost:8080/"
        },
        "id": "ORIzkWYcjTCK",
        "outputId": "b4774b58-bb2a-4307-e3d3-ea4f9260d7c3"
      },
      "outputs": [
        {
          "output_type": "stream",
          "name": "stdout",
          "text": [
            "<class 'pandas.core.frame.DataFrame'>\n",
            "RangeIndex: 2126 entries, 0 to 2125\n",
            "Data columns (total 40 columns):\n",
            " #   Column    Non-Null Count  Dtype \n",
            "---  ------    --------------  ----- \n",
            " 0   FileName  2126 non-null   object\n",
            " 1   Date      2126 non-null   object\n",
            " 2   SegFile   2126 non-null   object\n",
            " 3   b         2126 non-null   int64 \n",
            " 4   e         2126 non-null   int64 \n",
            " 5   LBE       2126 non-null   int64 \n",
            " 6   LB        2126 non-null   int64 \n",
            " 7   AC        2126 non-null   int64 \n",
            " 8   FM        2126 non-null   int64 \n",
            " 9   UC        2126 non-null   int64 \n",
            " 10  ASTV      2126 non-null   int64 \n",
            " 11  MSTV      2126 non-null   object\n",
            " 12  ALTV      2126 non-null   int64 \n",
            " 13  MLTV      2126 non-null   object\n",
            " 14  DL        2126 non-null   int64 \n",
            " 15  DS        2126 non-null   int64 \n",
            " 16  DP        2126 non-null   int64 \n",
            " 17  DR        2126 non-null   int64 \n",
            " 18  Width     2126 non-null   int64 \n",
            " 19  Min       2126 non-null   int64 \n",
            " 20  Max       2126 non-null   int64 \n",
            " 21  Nmax      2126 non-null   int64 \n",
            " 22  Nzeros    2126 non-null   int64 \n",
            " 23  Mode      2126 non-null   int64 \n",
            " 24  Mean      2126 non-null   int64 \n",
            " 25  Median    2126 non-null   int64 \n",
            " 26  Variance  2126 non-null   int64 \n",
            " 27  Tendency  2126 non-null   int64 \n",
            " 28  A         2126 non-null   int64 \n",
            " 29  B         2126 non-null   int64 \n",
            " 30  C         2126 non-null   int64 \n",
            " 31  D         2126 non-null   int64 \n",
            " 32  E         2126 non-null   int64 \n",
            " 33  AD        2126 non-null   int64 \n",
            " 34  DE        2126 non-null   int64 \n",
            " 35  LD        2126 non-null   int64 \n",
            " 36  FS        2126 non-null   int64 \n",
            " 37  SUSP      2126 non-null   int64 \n",
            " 38  CLASS     2126 non-null   int64 \n",
            " 39  NSP       2126 non-null   int64 \n",
            "dtypes: int64(35), object(5)\n",
            "memory usage: 1.2 MB\n"
          ]
        }
      ],
      "source": [
        "raw_df.info(memory_usage=\"deep\")"
      ]
    },
    {
      "cell_type": "markdown",
      "metadata": {
        "id": "9ux4f88DjTCL"
      },
      "source": [
        "Possiamo poi procedere con la classificazione dei nostro dati, più nello specifico abbiamo individuato 3 macro classi:\n",
        "* *bool_vars*: Tutte le variabili del nostro data frame che assumono valori tra [0, 1], andremo ad assegnare come tipologia di valore quello *booleano*\n",
        "* *cat_varts*: All'interno di questa tipologia di variabili, troviamo quelle *categoriche*, assegneremo a tali variabili il valore *category*\n",
        "* *num_vars*: In quest'ultima tipologia di variabili, abbiamo solamente le tipologie di valori *numerici*, le quali verranno trattate come variabili di tipo *float32*\n",
        "\n",
        "Queste classi, oltre ad essere utili per motivi di training dei modelli, risultano utili per poter caricare efficientemente il *dataframe* in memoria."
      ]
    },
    {
      "cell_type": "code",
      "execution_count": null,
      "metadata": {
        "id": "C8k0z7QljTCL"
      },
      "outputs": [],
      "source": [
        "bool_vars = [\n",
        "    \"A\", \"B\", \"C\", \"D\", \"SH\",\n",
        "    \"AD\", \"DE\", \"LD\", \"FS\", \"SUSP\"\n",
        "]\n",
        "\n",
        "cat_vars = [\"CLASS\", \"NSP\", \"Tendency\"]\n",
        "\n",
        "num_vars = [\n",
        "    \"b\", \"e\", \"LBE\", \"LB\", \"AC\",\n",
        "    \"FM\", \"UC\", \"ASTV\",\n",
        "    \"MSTV\", \"ALTV\", \"MLTV\", \"DL\",\n",
        "    \"DS\", \"DP\", \"DR\", \"Width\", \"Min\",\n",
        "    \"Max\", \"Nmax\", \"Nzeros\", \"Mode\",\n",
        "    \"Mean\", \"Median\", \"Variance\"\n",
        "]\n",
        "\n",
        "custom_dtpes = { \n",
        "    **{ col: \"bool\" for col in bool_vars }, \n",
        "    **{ col: \"category\" for col in cat_vars},\n",
        "    **{ col: \"float32\" for col in num_vars}\n",
        "}"
      ]
    },
    {
      "cell_type": "markdown",
      "metadata": {
        "id": "gNH-VVbojTCL"
      },
      "source": [
        "Possiamo quindi procedere a leggere nuovamente il Data Frame, specificando i tipi delle colonne."
      ]
    },
    {
      "cell_type": "code",
      "execution_count": null,
      "metadata": {
        "id": "ONo7sYFojTCM"
      },
      "outputs": [],
      "source": [
        "raw_df = pd.read_csv(\"https://raw.githubusercontent.com/S-furi/CardioML/main/data/ctg.csv\", delimiter=';', dtype=custom_dtpes, decimal=',')"
      ]
    },
    {
      "cell_type": "code",
      "execution_count": null,
      "metadata": {
        "colab": {
          "base_uri": "https://localhost:8080/"
        },
        "id": "P4s1VntCjTCM",
        "outputId": "e45310ce-ddf5-472a-c867-a34c83e02c95"
      },
      "outputs": [
        {
          "output_type": "stream",
          "name": "stdout",
          "text": [
            "<class 'pandas.core.frame.DataFrame'>\n",
            "RangeIndex: 2126 entries, 0 to 2125\n",
            "Data columns (total 40 columns):\n",
            " #   Column    Non-Null Count  Dtype   \n",
            "---  ------    --------------  -----   \n",
            " 0   FileName  2126 non-null   object  \n",
            " 1   Date      2126 non-null   object  \n",
            " 2   SegFile   2126 non-null   object  \n",
            " 3   b         2126 non-null   float32 \n",
            " 4   e         2126 non-null   float32 \n",
            " 5   LBE       2126 non-null   float32 \n",
            " 6   LB        2126 non-null   float32 \n",
            " 7   AC        2126 non-null   float32 \n",
            " 8   FM        2126 non-null   float32 \n",
            " 9   UC        2126 non-null   float32 \n",
            " 10  ASTV      2126 non-null   float32 \n",
            " 11  MSTV      2126 non-null   float32 \n",
            " 12  ALTV      2126 non-null   float32 \n",
            " 13  MLTV      2126 non-null   float32 \n",
            " 14  DL        2126 non-null   float32 \n",
            " 15  DS        2126 non-null   float32 \n",
            " 16  DP        2126 non-null   float32 \n",
            " 17  DR        2126 non-null   float32 \n",
            " 18  Width     2126 non-null   float32 \n",
            " 19  Min       2126 non-null   float32 \n",
            " 20  Max       2126 non-null   float32 \n",
            " 21  Nmax      2126 non-null   float32 \n",
            " 22  Nzeros    2126 non-null   float32 \n",
            " 23  Mode      2126 non-null   float32 \n",
            " 24  Mean      2126 non-null   float32 \n",
            " 25  Median    2126 non-null   float32 \n",
            " 26  Variance  2126 non-null   float32 \n",
            " 27  Tendency  2126 non-null   category\n",
            " 28  A         2126 non-null   bool    \n",
            " 29  B         2126 non-null   bool    \n",
            " 30  C         2126 non-null   bool    \n",
            " 31  D         2126 non-null   bool    \n",
            " 32  E         2126 non-null   int64   \n",
            " 33  AD        2126 non-null   bool    \n",
            " 34  DE        2126 non-null   bool    \n",
            " 35  LD        2126 non-null   bool    \n",
            " 36  FS        2126 non-null   bool    \n",
            " 37  SUSP      2126 non-null   bool    \n",
            " 38  CLASS     2126 non-null   category\n",
            " 39  NSP       2126 non-null   category\n",
            "dtypes: bool(9), category(3), float32(24), int64(1), object(3)\n",
            "memory usage: 660.6 KB\n"
          ]
        }
      ],
      "source": [
        "raw_df.info(memory_usage=\"deep\")"
      ]
    },
    {
      "cell_type": "markdown",
      "metadata": {
        "id": "XX7Cdlk1jTCM"
      },
      "source": [
        "In questo modo, abbiamo ridotto di quasi la metà la quantità di memoria utilizzata per mantenere il dataset."
      ]
    },
    {
      "cell_type": "markdown",
      "metadata": {
        "id": "s0gowddBjTCN"
      },
      "source": [
        "I nomi utilizzati nel dataset non risultano molto esplicativi, perciò mappiamo i nomi di aclune colonne in nomi più esplicativi."
      ]
    },
    {
      "cell_type": "code",
      "execution_count": null,
      "metadata": {
        "id": "ekZlw_6ZjTCN"
      },
      "outputs": [],
      "source": [
        "col_names = {\n",
        "    \"FileName\": \"file_name\",\n",
        "    \"Date\": \"date\",\n",
        "    \"SegFile\": \"seg_file\",\n",
        "    \"b\": \"start_instant\",\n",
        "    \"e\": \"end_instant\",\n",
        "    \"LBE\": \"medical_baseline\",\n",
        "    \"LB\": \"sisproto_baseline\",\n",
        "    \"AC\": \"heart_acc\",\n",
        "    \"FM\": \"foetal_move\",\n",
        "    \"UC\": \"utherine_contract\",\n",
        "    \"ASTV\": \"pct_short_variability\",\n",
        "    \"MSTV\": \"mean_short_variability\",\n",
        "    \"ALTV\": \"pct_long_variability\",\n",
        "    \"MLTV\": \"mean_long_variability\",\n",
        "    \"DL\": \"light_dec\",\n",
        "    \"DS\": \"severe_dec\",\n",
        "    \"DP\": \"prolongued_dec\",\n",
        "    \"DR\": \"repetitive_dec\",\n",
        "    \"A\": \"calm_sleep\",\n",
        "    \"B\": \"rem_sleep\",\n",
        "    \"C\": \"calm_vigilance\",\n",
        "    \"D\": \"active_vigilance\",\n",
        "    \"AD\": \"acc_pattern_stress\", # negativo se pattern in decelerazione\n",
        "    \"DE\": \"dec_pattern_vagal\",\n",
        "    \"LD\": \"largely_dec\",\n",
        "    \"FS\": \"patho_flat_sinusoidal\",\n",
        "    \"SUSP\": \"suspect\"\n",
        "}"
      ]
    },
    {
      "cell_type": "markdown",
      "source": [
        "\n",
        "*   **file_name**: Nome del file che contiene i dati della cardiotografia. È un identificatore unico per il file.\n",
        "*   **date**: Data relativa alla registrazione della cardiotografia. Indica la data in cui è stato eseguito l'esame.\n",
        "*   **seg_file**: Nome del file di segmentazione associato ai dati della \n",
        "cardiotografia. Può contenere informazioni sulla suddivisione temporale dei dati.\n",
        "*   **start_instant**: Istante di inizio della registrazione della cardiotografia. Indica il momento in cui i dati sono stati registrati.\n",
        "* **end_instant**: Istante di fine della registrazione della cardiotografia. Indica il momento finale in cui i dati sono stati registrati.\n",
        "*   **medical_baseline**: Baseline medica, rappresenta la linea di base dei segnali registrati durante l'esame.\n",
        "*   **sisproto_baseline**: Baseline di riferimento, rappresenta una linea di base standard usata per confrontare i segnali registrati.\n",
        "*   **heart_acc**: Accelerazioni cardiache, misura le variazioni di frequenza cardiaca che indicano l'accelerazione del cuore.\n",
        "*   **foetal_move**: Movimenti fetali, rappresenta l'attività motoria del feto durante la registrazione.\n",
        "*   **utherine_contract**: Contrazioni uterine, indica le contrazioni dell'utero durante la registrazione.\n",
        "*   **pct_short_variability**: Variabilità a breve termine della frequenza cardiaca fetale espressa in percentuale.\n",
        "*   **mean_short_variability**: Media della variabilità a breve termine della frequenza cardiaca fetale.\n",
        "*   **pct_long_variability**: Variabilità a lungo termine della frequenza cardiaca fetale espressa in percentuale.\n",
        "*   **mean_long_variability**: Media della variabilità a lungo termine della frequenza cardiaca fetale.\n",
        "*   **light_dec**: Decelerazioni lievi, rappresenta la diminuzione temporanea della frequenza cardiaca fetale in modo lieve.\n",
        "*   **severe_dec**: Decelerazioni gravi, indica la diminuzione temporanea della frequenza cardiaca fetale in modo significativo.\n",
        "*   **prolongued_dec**: Decelerazioni prolungate, rappresenta la diminuzione prolungata della frequenza cardiaca fetale.\n",
        "*   **repetitive_dec**: Decelerazioni ripetitive, indica la presenza di decelerazioni che si ripetono durante la registrazione.\n",
        "*   **calm_sleep**: Stato di sonno tranquillo del feto durante la registrazione.\n",
        "*   **rem_sleep**: Stato di sonno REM (Rapid Eye Movement) del feto durante la registrazione.\n",
        "*   **calm_vigilance**: Stato di veglia tranquilla del feto durante la registrazione.\n",
        "*   **active_vigilance**: Stato di veglia attiva del feto durante la registrazione.\n",
        "*   **acc_pattern_stress**: Pattern di accelerazione legato allo stress. Assume un valore negativo se è presente un pattern di decelerazione.\n",
        "*  **width**: rappresenta la durata delle onde nell'attività cardiaca fetale registrata.\n",
        "* **variance** è una misura statistica che rappresenta la dispersione dei dati intorno alla media.\n"
      ],
      "metadata": {
        "id": "l8yyYREjLNPO"
      }
    },
    {
      "cell_type": "code",
      "execution_count": null,
      "metadata": {
        "id": "rLYx4-y-jTCN"
      },
      "outputs": [],
      "source": [
        "bool_vars_low = [\n",
        "    \"calm_sleep\", \"rem_sleep\", \"calm_vigilance\", \"active_vigilance\",\n",
        "    \"acc_pattern_stress\", \"dec_pattern_vagal\", \"largely_dec\", \"patho_flat_sinusoidal\", \"suspect\"\n",
        "]\n",
        "cat_vars_low = [\n",
        "    \"class\", \"nsp\", \"tendency\"\n",
        "]\n",
        "num_vars_low = [\n",
        "    \"start_instant\", \"end_instant\", \"medical_baseline\", \"sisproto_baseline\", \"heart_acc\",\n",
        "    \"foetal_move\", \"utherine_contract\", \"pct_short_variability\",\n",
        "    \"mean_short_variability\", \"pct_long_variability\", \"mean_long_variability\", \"light_dec\",\n",
        "    \"severe_dec\", \"prolongued_dec\", \"repetitive_dec\", \"width\", \"min\",\n",
        "    \"max\", \"nmax\", \"nzeros\", \"mode\",\n",
        "    \"mean\", \"median\", \"variance\"\n",
        "]"
      ]
    },
    {
      "cell_type": "code",
      "execution_count": null,
      "metadata": {
        "colab": {
          "base_uri": "https://localhost:8080/"
        },
        "id": "zdzl_-3cjTCO",
        "outputId": "f6e6e097-1f22-49c2-bea5-fd3226c0b685"
      },
      "outputs": [
        {
          "output_type": "execute_result",
          "data": {
            "text/plain": [
              "Index(['file_name', 'date', 'seg_file', 'start_instant', 'end_instant',\n",
              "       'medical_baseline', 'sisproto_baseline', 'heart_acc', 'foetal_move',\n",
              "       'utherine_contract', 'pct_short_variability', 'mean_short_variability',\n",
              "       'pct_long_variability', 'mean_long_variability', 'light_dec',\n",
              "       'severe_dec', 'prolongued_dec', 'repetitive_dec', 'width', 'min', 'max',\n",
              "       'nmax', 'nzeros', 'mode', 'mean', 'median', 'variance', 'tendency',\n",
              "       'calm_sleep', 'rem_sleep', 'calm_vigilance', 'active_vigilance', 'e',\n",
              "       'acc_pattern_stress', 'dec_pattern_vagal', 'largely_dec',\n",
              "       'patho_flat_sinusoidal', 'suspect', 'class', 'nsp'],\n",
              "      dtype='object')"
            ]
          },
          "metadata": {},
          "execution_count": 92
        }
      ],
      "source": [
        "raw_df.rename(columns=col_names, inplace=True)\n",
        "raw_df.columns = raw_df.columns.str.lower()\n",
        "raw_df.columns"
      ]
    },
    {
      "cell_type": "markdown",
      "metadata": {
        "id": "cQXwdguZjTCO"
      },
      "source": [
        "Otteniamo quindi un dataset con le colonne ben formattate"
      ]
    },
    {
      "cell_type": "code",
      "execution_count": null,
      "metadata": {
        "colab": {
          "base_uri": "https://localhost:8080/",
          "height": 297
        },
        "id": "6CEbh2hNjTCO",
        "outputId": "c5bb7ed4-66d7-46aa-a5a9-0050b49bea81"
      },
      "outputs": [
        {
          "output_type": "execute_result",
          "data": {
            "text/plain": [
              "      file_name      date     seg_file  start_instant  end_instant  \\\n",
              "0  Variab10.txt  01/12/96  CTG0001.txt          240.0        357.0   \n",
              "1    Fmcs_1.txt  03/05/96  CTG0002.txt            5.0        632.0   \n",
              "2    Fmcs_1.txt  03/05/96  CTG0003.txt          177.0        779.0   \n",
              "3    Fmcs_1.txt  03/05/96  CTG0004.txt          411.0       1192.0   \n",
              "4    Fmcs_1.txt  03/05/96  CTG0005.txt          533.0       1147.0   \n",
              "\n",
              "   medical_baseline  sisproto_baseline  heart_acc  foetal_move  \\\n",
              "0             120.0              120.0        0.0          0.0   \n",
              "1             132.0              132.0        4.0          0.0   \n",
              "2             133.0              133.0        2.0          0.0   \n",
              "3             134.0              134.0        2.0          0.0   \n",
              "4             132.0              132.0        4.0          0.0   \n",
              "\n",
              "   utherine_contract  ...  calm_vigilance  active_vigilance  e  \\\n",
              "0                0.0  ...           False             False  0   \n",
              "1                4.0  ...           False             False  0   \n",
              "2                5.0  ...           False             False  0   \n",
              "3                6.0  ...           False             False  0   \n",
              "4                5.0  ...           False             False  0   \n",
              "\n",
              "   acc_pattern_stress  dec_pattern_vagal  largely_dec  patho_flat_sinusoidal  \\\n",
              "0               False              False        False                   True   \n",
              "1                True              False        False                  False   \n",
              "2                True              False        False                  False   \n",
              "3                True              False        False                  False   \n",
              "4               False              False        False                  False   \n",
              "\n",
              "   suspect  class  nsp  \n",
              "0    False      9    2  \n",
              "1    False      6    1  \n",
              "2    False      6    1  \n",
              "3    False      6    1  \n",
              "4    False      2    1  \n",
              "\n",
              "[5 rows x 40 columns]"
            ],
            "text/html": [
              "\n",
              "  <div id=\"df-136ebdd6-256a-413e-a8f6-599e3fde09f4\">\n",
              "    <div class=\"colab-df-container\">\n",
              "      <div>\n",
              "<style scoped>\n",
              "    .dataframe tbody tr th:only-of-type {\n",
              "        vertical-align: middle;\n",
              "    }\n",
              "\n",
              "    .dataframe tbody tr th {\n",
              "        vertical-align: top;\n",
              "    }\n",
              "\n",
              "    .dataframe thead th {\n",
              "        text-align: right;\n",
              "    }\n",
              "</style>\n",
              "<table border=\"1\" class=\"dataframe\">\n",
              "  <thead>\n",
              "    <tr style=\"text-align: right;\">\n",
              "      <th></th>\n",
              "      <th>file_name</th>\n",
              "      <th>date</th>\n",
              "      <th>seg_file</th>\n",
              "      <th>start_instant</th>\n",
              "      <th>end_instant</th>\n",
              "      <th>medical_baseline</th>\n",
              "      <th>sisproto_baseline</th>\n",
              "      <th>heart_acc</th>\n",
              "      <th>foetal_move</th>\n",
              "      <th>utherine_contract</th>\n",
              "      <th>...</th>\n",
              "      <th>calm_vigilance</th>\n",
              "      <th>active_vigilance</th>\n",
              "      <th>e</th>\n",
              "      <th>acc_pattern_stress</th>\n",
              "      <th>dec_pattern_vagal</th>\n",
              "      <th>largely_dec</th>\n",
              "      <th>patho_flat_sinusoidal</th>\n",
              "      <th>suspect</th>\n",
              "      <th>class</th>\n",
              "      <th>nsp</th>\n",
              "    </tr>\n",
              "  </thead>\n",
              "  <tbody>\n",
              "    <tr>\n",
              "      <th>0</th>\n",
              "      <td>Variab10.txt</td>\n",
              "      <td>01/12/96</td>\n",
              "      <td>CTG0001.txt</td>\n",
              "      <td>240.0</td>\n",
              "      <td>357.0</td>\n",
              "      <td>120.0</td>\n",
              "      <td>120.0</td>\n",
              "      <td>0.0</td>\n",
              "      <td>0.0</td>\n",
              "      <td>0.0</td>\n",
              "      <td>...</td>\n",
              "      <td>False</td>\n",
              "      <td>False</td>\n",
              "      <td>0</td>\n",
              "      <td>False</td>\n",
              "      <td>False</td>\n",
              "      <td>False</td>\n",
              "      <td>True</td>\n",
              "      <td>False</td>\n",
              "      <td>9</td>\n",
              "      <td>2</td>\n",
              "    </tr>\n",
              "    <tr>\n",
              "      <th>1</th>\n",
              "      <td>Fmcs_1.txt</td>\n",
              "      <td>03/05/96</td>\n",
              "      <td>CTG0002.txt</td>\n",
              "      <td>5.0</td>\n",
              "      <td>632.0</td>\n",
              "      <td>132.0</td>\n",
              "      <td>132.0</td>\n",
              "      <td>4.0</td>\n",
              "      <td>0.0</td>\n",
              "      <td>4.0</td>\n",
              "      <td>...</td>\n",
              "      <td>False</td>\n",
              "      <td>False</td>\n",
              "      <td>0</td>\n",
              "      <td>True</td>\n",
              "      <td>False</td>\n",
              "      <td>False</td>\n",
              "      <td>False</td>\n",
              "      <td>False</td>\n",
              "      <td>6</td>\n",
              "      <td>1</td>\n",
              "    </tr>\n",
              "    <tr>\n",
              "      <th>2</th>\n",
              "      <td>Fmcs_1.txt</td>\n",
              "      <td>03/05/96</td>\n",
              "      <td>CTG0003.txt</td>\n",
              "      <td>177.0</td>\n",
              "      <td>779.0</td>\n",
              "      <td>133.0</td>\n",
              "      <td>133.0</td>\n",
              "      <td>2.0</td>\n",
              "      <td>0.0</td>\n",
              "      <td>5.0</td>\n",
              "      <td>...</td>\n",
              "      <td>False</td>\n",
              "      <td>False</td>\n",
              "      <td>0</td>\n",
              "      <td>True</td>\n",
              "      <td>False</td>\n",
              "      <td>False</td>\n",
              "      <td>False</td>\n",
              "      <td>False</td>\n",
              "      <td>6</td>\n",
              "      <td>1</td>\n",
              "    </tr>\n",
              "    <tr>\n",
              "      <th>3</th>\n",
              "      <td>Fmcs_1.txt</td>\n",
              "      <td>03/05/96</td>\n",
              "      <td>CTG0004.txt</td>\n",
              "      <td>411.0</td>\n",
              "      <td>1192.0</td>\n",
              "      <td>134.0</td>\n",
              "      <td>134.0</td>\n",
              "      <td>2.0</td>\n",
              "      <td>0.0</td>\n",
              "      <td>6.0</td>\n",
              "      <td>...</td>\n",
              "      <td>False</td>\n",
              "      <td>False</td>\n",
              "      <td>0</td>\n",
              "      <td>True</td>\n",
              "      <td>False</td>\n",
              "      <td>False</td>\n",
              "      <td>False</td>\n",
              "      <td>False</td>\n",
              "      <td>6</td>\n",
              "      <td>1</td>\n",
              "    </tr>\n",
              "    <tr>\n",
              "      <th>4</th>\n",
              "      <td>Fmcs_1.txt</td>\n",
              "      <td>03/05/96</td>\n",
              "      <td>CTG0005.txt</td>\n",
              "      <td>533.0</td>\n",
              "      <td>1147.0</td>\n",
              "      <td>132.0</td>\n",
              "      <td>132.0</td>\n",
              "      <td>4.0</td>\n",
              "      <td>0.0</td>\n",
              "      <td>5.0</td>\n",
              "      <td>...</td>\n",
              "      <td>False</td>\n",
              "      <td>False</td>\n",
              "      <td>0</td>\n",
              "      <td>False</td>\n",
              "      <td>False</td>\n",
              "      <td>False</td>\n",
              "      <td>False</td>\n",
              "      <td>False</td>\n",
              "      <td>2</td>\n",
              "      <td>1</td>\n",
              "    </tr>\n",
              "  </tbody>\n",
              "</table>\n",
              "<p>5 rows × 40 columns</p>\n",
              "</div>\n",
              "      <button class=\"colab-df-convert\" onclick=\"convertToInteractive('df-136ebdd6-256a-413e-a8f6-599e3fde09f4')\"\n",
              "              title=\"Convert this dataframe to an interactive table.\"\n",
              "              style=\"display:none;\">\n",
              "        \n",
              "  <svg xmlns=\"http://www.w3.org/2000/svg\" height=\"24px\"viewBox=\"0 0 24 24\"\n",
              "       width=\"24px\">\n",
              "    <path d=\"M0 0h24v24H0V0z\" fill=\"none\"/>\n",
              "    <path d=\"M18.56 5.44l.94 2.06.94-2.06 2.06-.94-2.06-.94-.94-2.06-.94 2.06-2.06.94zm-11 1L8.5 8.5l.94-2.06 2.06-.94-2.06-.94L8.5 2.5l-.94 2.06-2.06.94zm10 10l.94 2.06.94-2.06 2.06-.94-2.06-.94-.94-2.06-.94 2.06-2.06.94z\"/><path d=\"M17.41 7.96l-1.37-1.37c-.4-.4-.92-.59-1.43-.59-.52 0-1.04.2-1.43.59L10.3 9.45l-7.72 7.72c-.78.78-.78 2.05 0 2.83L4 21.41c.39.39.9.59 1.41.59.51 0 1.02-.2 1.41-.59l7.78-7.78 2.81-2.81c.8-.78.8-2.07 0-2.86zM5.41 20L4 18.59l7.72-7.72 1.47 1.35L5.41 20z\"/>\n",
              "  </svg>\n",
              "      </button>\n",
              "      \n",
              "  <style>\n",
              "    .colab-df-container {\n",
              "      display:flex;\n",
              "      flex-wrap:wrap;\n",
              "      gap: 12px;\n",
              "    }\n",
              "\n",
              "    .colab-df-convert {\n",
              "      background-color: #E8F0FE;\n",
              "      border: none;\n",
              "      border-radius: 50%;\n",
              "      cursor: pointer;\n",
              "      display: none;\n",
              "      fill: #1967D2;\n",
              "      height: 32px;\n",
              "      padding: 0 0 0 0;\n",
              "      width: 32px;\n",
              "    }\n",
              "\n",
              "    .colab-df-convert:hover {\n",
              "      background-color: #E2EBFA;\n",
              "      box-shadow: 0px 1px 2px rgba(60, 64, 67, 0.3), 0px 1px 3px 1px rgba(60, 64, 67, 0.15);\n",
              "      fill: #174EA6;\n",
              "    }\n",
              "\n",
              "    [theme=dark] .colab-df-convert {\n",
              "      background-color: #3B4455;\n",
              "      fill: #D2E3FC;\n",
              "    }\n",
              "\n",
              "    [theme=dark] .colab-df-convert:hover {\n",
              "      background-color: #434B5C;\n",
              "      box-shadow: 0px 1px 3px 1px rgba(0, 0, 0, 0.15);\n",
              "      filter: drop-shadow(0px 1px 2px rgba(0, 0, 0, 0.3));\n",
              "      fill: #FFFFFF;\n",
              "    }\n",
              "  </style>\n",
              "\n",
              "      <script>\n",
              "        const buttonEl =\n",
              "          document.querySelector('#df-136ebdd6-256a-413e-a8f6-599e3fde09f4 button.colab-df-convert');\n",
              "        buttonEl.style.display =\n",
              "          google.colab.kernel.accessAllowed ? 'block' : 'none';\n",
              "\n",
              "        async function convertToInteractive(key) {\n",
              "          const element = document.querySelector('#df-136ebdd6-256a-413e-a8f6-599e3fde09f4');\n",
              "          const dataTable =\n",
              "            await google.colab.kernel.invokeFunction('convertToInteractive',\n",
              "                                                     [key], {});\n",
              "          if (!dataTable) return;\n",
              "\n",
              "          const docLinkHtml = 'Like what you see? Visit the ' +\n",
              "            '<a target=\"_blank\" href=https://colab.research.google.com/notebooks/data_table.ipynb>data table notebook</a>'\n",
              "            + ' to learn more about interactive tables.';\n",
              "          element.innerHTML = '';\n",
              "          dataTable['output_type'] = 'display_data';\n",
              "          await google.colab.output.renderOutput(dataTable, element);\n",
              "          const docLink = document.createElement('div');\n",
              "          docLink.innerHTML = docLinkHtml;\n",
              "          element.appendChild(docLink);\n",
              "        }\n",
              "      </script>\n",
              "    </div>\n",
              "  </div>\n",
              "  "
            ]
          },
          "metadata": {},
          "execution_count": 93
        }
      ],
      "source": [
        "raw_df.head(5)"
      ]
    },
    {
      "cell_type": "markdown",
      "metadata": {
        "id": "Bq-9P0ssjTCO"
      },
      "source": [
        "Ai fini dello scopo di questo progetto, le colonne `file_name`, `seg_file` e `date` non risultano particolarmente utili per la creazione di modelli predittivi."
      ]
    },
    {
      "cell_type": "code",
      "execution_count": null,
      "metadata": {
        "id": "tt9kn7RDjTCP"
      },
      "outputs": [],
      "source": [
        "df = raw_df.drop(columns=['file_name', 'date', 'seg_file'])"
      ]
    },
    {
      "cell_type": "markdown",
      "metadata": {
        "id": "Ke4wUPkmjTCP"
      },
      "source": [
        "Il dataset è ora utilizzabile per procedere con l'analisi esplorativa."
      ]
    },
    {
      "cell_type": "markdown",
      "metadata": {
        "id": "c6cB5pqrjTCP"
      },
      "source": [
        "## Analisi Esplorativa"
      ]
    },
    {
      "cell_type": "markdown",
      "metadata": {
        "id": "FuO5DrwGjTCP"
      },
      "source": [
        "Possiamo rapidamente vedere quali variabili del dataset hanno correlazione maggiore, per poter poi comprendere come effettivamente alcuni valori possano influenzare altri. Utilizziamo quindi l'indice di correlazione di Pearson."
      ]
    },
    {
      "cell_type": "code",
      "execution_count": null,
      "metadata": {
        "colab": {
          "base_uri": "https://localhost:8080/",
          "height": 725
        },
        "id": "hblxW-VrjTCP",
        "outputId": "a53a086f-1290-419c-e1c9-0b81d9a6c12d"
      },
      "outputs": [
        {
          "output_type": "execute_result",
          "data": {
            "text/plain": [
              "Text(0.5, 1.0, 'Correlation Matrix Heatmap')"
            ]
          },
          "metadata": {},
          "execution_count": 95
        },
        {
          "output_type": "display_data",
          "data": {
            "text/plain": [
              "<Figure size 800x600 with 2 Axes>"
            ],
            "image/png": "[encoded data removed]"
          },
          "metadata": {}
        }
      ],
      "source": [
        "corr_matrix = df.drop(columns=['min', 'mean', 'max','nmax', 'mode', 'median']) \\\n",
        "    .corr(method=\"pearson\")\n",
        "\n",
        "plt.figure(figsize=(8, 6))\n",
        "sns.heatmap(corr_matrix, cmap=\"coolwarm\")\n",
        "plt.title(\"Correlation Matrix Heatmap\")"
      ]
    },
    {
      "cell_type": "markdown",
      "metadata": {
        "id": "RQStGVBMjTCP"
      },
      "source": [
        "La *heatmap* mostra come alcune variabili vengano influenzate tra di loro (correlazione). \n",
        "È importante notare come la correlazione non implichi sempre relazioni di causa-effetto, ma piusttosto come due variabili possano verificarsi insieme o influenzarsi reciprocamente. \n",
        "\n",
        "\n",
        "**largely_dec** e **prolongued_dec**: correlazione di 0.7578\n",
        "Notiamo una relazione positiva tra la diminuzione significativa (largely_dec) e la diminuzione prolungata (prolongued_dec). Questa relazione può essere di particolare interesse nella valutazione della salute fetale, poiché una diminuzione significativa prolungata potrebbe essere associata a condizioni di stress o anomalie nel tracciato cardiografico.\n",
        "\n",
        "**width** e **mean_short_variability**: correlazione di 0.6608\n",
        "Questa correlazione moderatamente alta suggerisce una relazione positiva tra la larghezza (width) e la variabilità media a breve termine (mean_short_variability). Ciò potrebbe essere interessante da un punto di vista clinico, poiché un aumento della larghezza potrebbe essere associato a una maggiore variabilità nelle misurazioni cardiografiche a breve termine.\n",
        "\n",
        "**variance** e **mean_short_variability**: correlazione di 0.5559\n",
        "Questa correlazione moderata indica una relazione positiva tra la varianza (variance) e la variabilità media a breve termine (mean_short_variability). Ciò suggerisce che un aumento della varianza potrebbe essere associato a un aumento della variabilità nelle misurazioni cardiografiche a breve termine."
      ]
    },
    {
      "cell_type": "code",
      "execution_count": null,
      "metadata": {
        "colab": {
          "base_uri": "https://localhost:8080/",
          "height": 559
        },
        "id": "fin8xY8sb3pN",
        "outputId": "6089a5a9-8d3d-41c2-cd8e-a6b9814df6f6"
      },
      "outputs": [
        {
          "output_type": "execute_result",
          "data": {
            "text/plain": [
              "([<matplotlib.patches.Wedge at 0x7f9ac84bbc70>,\n",
              "  <matplotlib.patches.Wedge at 0x7f9ac84bbbb0>,\n",
              "  <matplotlib.patches.Wedge at 0x7f9ac84d89a0>],\n",
              " [Text(-0.8441562311892146, 0.7052660897451555, 'normal'),\n",
              "  Text(0.6344062353380878, -0.8986260226390926, 'suspect'),\n",
              "  Text(1.0630076905865578, -0.28286860863983, 'pathological')],\n",
              " [Text(-0.4604488533759351, 0.38469059440644837, '78%'),\n",
              "  Text(0.3460397647298661, -0.4901596487122323, '14%'),\n",
              "  Text(0.5798223766835768, -0.15429196834899814, '8%')])"
            ]
          },
          "metadata": {},
          "execution_count": 96
        },
        {
          "output_type": "display_data",
          "data": {
            "text/plain": [
              "<Figure size 640x480 with 1 Axes>"
            ],
            "image/png": "[encoded data removed]"
          },
          "metadata": {}
        }
      ],
      "source": [
        "keys = ['normal', 'suspect', 'pathological']\n",
        "palette_color = sns.color_palette('pastel')\n",
        "plt.pie(df['nsp'].value_counts(), labels=keys, colors=palette_color, autopct='%.0f%%')"
      ]
    },
    {
      "cell_type": "markdown",
      "source": [
        "Come si può notare dal grafico a torta, la variabile target \"nsp\" risulta sbilanciata. Ciò significa che il numero di istanze per le tre classi non è bilanciato.\n",
        "Per affrontare questo problema, utilizzeremo tecniche di bilanciamento delle classi al fine di ottenere una distribuzione più equilibrata tra le varie variabili."
      ],
      "metadata": {
        "id": "hCrLas4_W7jt"
      }
    },
    {
      "cell_type": "markdown",
      "metadata": {
        "id": "jaNg9s-ZjTCP"
      },
      "source": [
        "Come si può notare dalla heatmap, esiste una una forte correlazione tra la variabile `width` e `mean_short_variability`, pari a:"
      ]
    },
    {
      "cell_type": "code",
      "execution_count": null,
      "metadata": {
        "colab": {
          "base_uri": "https://localhost:8080/"
        },
        "id": "VNVvqmqejTCQ",
        "outputId": "b5cef4a6-95e6-4ce8-913a-12faabf72526"
      },
      "outputs": [
        {
          "output_type": "execute_result",
          "data": {
            "text/plain": [
              "0.6608467767745067"
            ]
          },
          "metadata": {},
          "execution_count": 97
        }
      ],
      "source": [
        "corr_matrix['width']['mean_short_variability']"
      ]
    },
    {
      "cell_type": "code",
      "execution_count": null,
      "metadata": {
        "colab": {
          "base_uri": "https://localhost:8080/",
          "height": 475
        },
        "id": "48u0WI1VjTCQ",
        "outputId": "9983a280-074e-478a-e36d-9a095afe9180"
      },
      "outputs": [
        {
          "output_type": "execute_result",
          "data": {
            "text/plain": [
              "<Axes: xlabel='width', ylabel='mean_short_variability'>"
            ]
          },
          "metadata": {},
          "execution_count": 98
        },
        {
          "output_type": "display_data",
          "data": {
            "text/plain": [
              "<Figure size 640x480 with 1 Axes>"
            ],
            "image/png": "[encoded data removed]"
          },
          "metadata": {}
        }
      ],
      "source": [
        "sns.scatterplot(data=df, x='width', y='mean_short_variability', hue='nsp', palette=['#6c9a8b', '#ffc914', '#d62828'])"
      ]
    },
    {
      "cell_type": "markdown",
      "metadata": {
        "id": "6wtpG-rXjTCQ"
      },
      "source": [
        "La **\"width\"** rappresenta la durata delle onde nell'attività cardiaca fetale registrata. Potrebbe essere calcolata come la durata dell'onda P, la durata dell'onda QRS o altre onde specifiche nell'ECG fetale. La larghezza dell'onda ci permette di ottenere delle informazioni riguardo la conducibilità e sulla morfologia dell'attività cardiaca del neonato.\n",
        "\n",
        "La **\"mean_short_variability\"** rappresenta invece la variabilità media a breve termine dell'attività cardiaca fetale. Questa variabile fa riferimento alla fluttuazione delle frequenze cardiache nel breve termine, calcolata come i battiti cardiaci consecutivi nell'arco di pochi minuti. La grande variabilità a breve termine è considerata un fattore di salute del neonato, dal momento in cui la variabilità è associata ad una migliore adattabilità del feto.\n",
        "\n",
        "Da come si può vedere in questo grafico vi è una piccola regione in cui sono condensati una grande quantità di casi **patologici**, quando si ha il *mean_short_variability* compreso tra 1.70 circa e la *width* compresa tra 80 e 130 circa. "
      ]
    },
    {
      "cell_type": "markdown",
      "metadata": {
        "id": "StlOXHGmjTCQ"
      },
      "source": [
        "Possiamo individuare una associazione moderata tra `mean_short_variability` e `variance`, in particolare il loro indice di correlazione è pari a:"
      ]
    },
    {
      "cell_type": "code",
      "execution_count": null,
      "metadata": {
        "colab": {
          "base_uri": "https://localhost:8080/"
        },
        "id": "ysZUEEx6jTCQ",
        "outputId": "5da24a17-b2bd-4e01-d80f-640ea424e9cb"
      },
      "outputs": [
        {
          "output_type": "execute_result",
          "data": {
            "text/plain": [
              "0.5558524410341099"
            ]
          },
          "metadata": {},
          "execution_count": 99
        }
      ],
      "source": [
        "corr_matrix['mean_short_variability']['variance']"
      ]
    },
    {
      "cell_type": "code",
      "execution_count": null,
      "metadata": {
        "colab": {
          "base_uri": "https://localhost:8080/",
          "height": 475
        },
        "id": "PVrQvW6ojTCQ",
        "outputId": "1202718d-3bfe-4f88-f3be-37f942730cb5"
      },
      "outputs": [
        {
          "output_type": "execute_result",
          "data": {
            "text/plain": [
              "<Axes: xlabel='mean_short_variability', ylabel='variance'>"
            ]
          },
          "metadata": {},
          "execution_count": 100
        },
        {
          "output_type": "display_data",
          "data": {
            "text/plain": [
              "<Figure size 640x480 with 1 Axes>"
            ],
            "image/png": "[encoded data removed]"
          },
          "metadata": {}
        }
      ],
      "source": [
        "sns.scatterplot(data=df, x='mean_short_variability', y='variance', hue='nsp', palette=['#6c9a8b', '#ffc914', '#d62828'])"
      ]
    },
    {
      "cell_type": "markdown",
      "metadata": {
        "id": "wvyfekEajTCR"
      },
      "source": [
        "La **\"variance\"** è una misura statistica che rappresenta la dispersione dei dati intorno alla media.\n",
        "\n",
        "Una *correlazione positiva* tra queste due variabili suggerisce che una maggiore *\"variance\"* è associata a una maggiore *\"mean_short_variability\"*. Ciò indica che le oscillazioni nella frequenza cardiaca fetale sono più variabili e presentano una maggiore dispersione intorno alla media durante il breve periodo di analisi.\n",
        "\n",
        "La concentrazione principale dei casi \"normal\" (NSP) può variare a seconda dei dati specifici e delle caratteristiche del campione cardiotocografico analizzato. Tuttavia, in generale, si potrebbe osservare che i casi \"normal\" si concentrano in un intervallo di valori più bassi per entrambe le variabili. Ad esempio, potrebbero essere comuni valori di variance compresi tra 0 e 50 e valori di mean_short_variability tra 0 e 3 per i casi \"normal\".\n",
        "\n",
        "D'altra parte, la concentrazione dei casi \"patologici\" (NSP) potrebbe manifestarsi in valori più elevati per entrambe le variabili. Ad esempio, potrebbero essere comuni valori di variance compresi tra 50 e 150 e valori di mean_short_variability compresi tra 1 e 3 per i casi \"patologici\".\n"
      ]
    },
    {
      "cell_type": "markdown",
      "metadata": {
        "id": "CdKKM3WrjTCR"
      },
      "source": [
        "È interessante notare anche l'apparente forte correlazione tra `largely_dec` e `prolongued_dec`, pari a:"
      ]
    },
    {
      "cell_type": "code",
      "execution_count": null,
      "metadata": {
        "colab": {
          "base_uri": "https://localhost:8080/"
        },
        "id": "y0eZGsVBjTCR",
        "outputId": "09f1da1f-a504-4375-8446-a76d352e917d"
      },
      "outputs": [
        {
          "output_type": "execute_result",
          "data": {
            "text/plain": [
              "0.7577662756421346"
            ]
          },
          "metadata": {},
          "execution_count": 101
        }
      ],
      "source": [
        "corr_matrix['largely_dec']['prolongued_dec']"
      ]
    },
    {
      "cell_type": "markdown",
      "metadata": {
        "id": "iOsp3IhbjTCR"
      },
      "source": [
        "Possiamo quindi effettuare un grafico per visualizzare la distribuzione dei valori (diagonale) e come si presenta l'output di `NSP` in base alla distribuzione dei due valori"
      ]
    },
    {
      "cell_type": "code",
      "execution_count": null,
      "metadata": {
        "colab": {
          "base_uri": "https://localhost:8080/",
          "height": 527
        },
        "id": "9jdLtnl7jTCR",
        "outputId": "ecfb3fd6-de10-4c88-be03-aa447fdea45a"
      },
      "outputs": [
        {
          "output_type": "execute_result",
          "data": {
            "text/plain": [
              "<seaborn.axisgrid.PairGrid at 0x7f9ac820d960>"
            ]
          },
          "metadata": {},
          "execution_count": 102
        },
        {
          "output_type": "display_data",
          "data": {
            "text/plain": [
              "<Figure size 564.75x500 with 6 Axes>"
            ],
            "image/png": "[encoded data removed]"
          },
          "metadata": {}
        }
      ],
      "source": [
        "sns.pairplot(data=df, vars=['largely_dec', 'prolongued_dec'], hue='nsp',\n",
        "             palette=['#6c9a8b', '#ffc914', '#d62828'],\n",
        "             diag_kind=\"kde\", plot_kws={'alpha': 0.6, 's': 30})"
      ]
    },
    {
      "cell_type": "markdown",
      "metadata": {
        "id": "-C4PHMUzjTCR"
      },
      "source": [
        "Per quanto le variabili risultano piuttosto correlate, questo potrebbe non indicare una diretta relazione di cause-effetto tra le due variabili. In particolare, essendo entrambe misure ricavate da momenti di decelerazione, la loro forte correlazione può piuttosto indicare come queste variabili possano verificarsi durante lo stesso fenomeno.\n",
        "\n",
        "È però degno di nota come la variabile `NSP` sia sul livello di *pathological* quando la variabile booleana `largely_dec` sia impostata a 1, per ogni valore di `prolongued_dec`, mentre quando a 0, si può notare per valori superiori a 2 di `prolongued_dec` un comportamento sospetto."
      ]
    },
    {
      "cell_type": "markdown",
      "metadata": {
        "id": "OPMXMnevjTCR"
      },
      "source": [
        "## Modelli predittivi"
      ]
    },
    {
      "cell_type": "code",
      "execution_count": null,
      "metadata": {
        "id": "YPFaXRQFjTCR"
      },
      "outputs": [],
      "source": [
        "from sklearn.model_selection import train_test_split\n",
        "from sklearn.preprocessing import StandardScaler, MinMaxScaler, OneHotEncoder\n",
        "from sklearn.metrics import mean_squared_error, r2_score\n",
        "from sklearn.pipeline import Pipeline\n",
        "from sklearn.tree import plot_tree\n",
        "from sklearn.model_selection import GridSearchCV, StratifiedKFold\n",
        "from sklearn.pipeline import Pipeline"
      ]
    },
    {
      "cell_type": "markdown",
      "metadata": {
        "id": "dcvzfUBvjgS4"
      },
      "source": [
        "Root Mean Squared Percentage Error, è una formula che ci permette di capire quanto il nostro albero di regressione è accurato, **più il valore è basso e più il nostro modello sarà ottima**, questa funzione verrà poi utilizzata nel metodo successivo per valutare il modello che abbiamo addestrato. "
      ]
    },
    {
      "cell_type": "code",
      "execution_count": null,
      "metadata": {
        "id": "DuQGw3hbjTCR"
      },
      "outputs": [],
      "source": [
        "def rmspe(y_real, y_pred):\n",
        "    return np.sqrt(np.mean((y_pred /y_real - 1) ** 2))"
      ]
    },
    {
      "cell_type": "markdown",
      "metadata": {
        "id": "1hUgwJpojiNC"
      },
      "source": [
        "Ora che abbiamo definito RMSPE, possiamo realizzare la funzione `print_eval`, la quale ci permette di capire quanto il nostro modello è accurato rispetto ai dati X ed y di input. "
      ]
    },
    {
      "cell_type": "code",
      "execution_count": null,
      "metadata": {
        "id": "JX-hFcc0jTCS"
      },
      "outputs": [],
      "source": [
        "def print_eval(X, y, model):\n",
        "    y_pred = model.predict(X)\n",
        "    print(f\"      MSE: {mean_squared_error(y, y_pred):12.4f}\")\n",
        "    print(f\"R-squared: {r2_score(y, y_pred):12.4f}\")\n",
        "    print(f\"    RMSPE: {rmspe(y, y_pred):12.4f}\")"
      ]
    },
    {
      "cell_type": "markdown",
      "metadata": {
        "id": "iXtqg9IpjTCS"
      },
      "source": [
        "Definiamo ora una nuova funzione che ci permetterà di addestrare il modello attraverso i dati passati in input:\n",
        "*  *X_train*\n",
        "*  *y_train*\n",
        "\n",
        "Una volta che il nostro modello sarà stato addestrato, andremo subito a verificare la sua correttezza tramite la funzione *print_eval*. Questa funzione contiene al suo interno un insieme di calcoli matematici che ci permettono di capire l'accuratezza del nostro modello. "
      ]
    },
    {
      "cell_type": "code",
      "execution_count": null,
      "metadata": {
        "id": "rSYyLGsKjTCS"
      },
      "outputs": [],
      "source": [
        "def fit_eval_tree(model, X_train, y_train, X_test, y_test):\n",
        "    model.fit(X_train, y_train)\n",
        "    print_eval(X_test, y_test, model=model)"
      ]
    },
    {
      "cell_type": "markdown",
      "metadata": {
        "id": "P9Q8eWddjTCS"
      },
      "source": [
        "### Modelli di studio\n",
        "I modelli con la quale andremo a studiare il nostro dataset sono diversi, tra i tanti disponibili abbiamo deciso di utilizzare:\n",
        "1. *Alberi di regressione*: `RandomForestRegressor`, `DecisionTreeRegressor`, `XGBoost` e `GradientBoosting`.\n",
        "2. *Classificazione multiclasse*: `Perceptron`, `LogisticRegression`   "
      ]
    },
    {
      "cell_type": "markdown",
      "metadata": {
        "id": "Xl9P-RoqIDkX"
      },
      "source": [
        "### Alberi di regressione"
      ]
    },
    {
      "cell_type": "markdown",
      "metadata": {
        "id": "KhSzUKaGaoip"
      },
      "source": [
        "Prima di iniziare a realizzare i diversi modelli di classificazione, partiamo con il definire una funzione, `boosting_hyperparameters`, che ci permetterà di migliorare il nostro algoritmo. All'interno di questa funzione utilizzeremo la **Grid Search**, in modo da trovare i migliori **iper parametri** da utilizzare e la **StratifiedKFold** al posto della **K-Fold**, in quanto abbiamo un dataset sbilanciato. "
      ]
    },
    {
      "cell_type": "code",
      "execution_count": null,
      "metadata": {
        "id": "42rqp8dqUnMi"
      },
      "outputs": [],
      "source": [
        "skf = StratifiedKFold(3, shuffle=True, random_state=1926)\n",
        "\n",
        "def boosting_hyperparameters(classifier, params, X_boosting, y_boosting, name):\n",
        "  grid_search = GridSearchCV(classifier, params, cv=skf, scoring='accuracy')\n",
        "  \n",
        "  grid_model = Pipeline([\n",
        "      (\"std_scaler\", StandardScaler()),\n",
        "      (\"grid_search\", grid_search)\n",
        "  ])\n",
        "\n",
        "  grid_model.fit(X_train if X_boosting is None else X_boosting,\\\n",
        "                  y_train if y_boosting is None else y_boosting)\n",
        "  #print(f\"Grid Search: {grid_search}\")\n",
        "  print(f\"             Migliori iperparametri per {name} : {grid_search.best_params_}\")\n",
        "  print(f\"Punteggio medio di cross-validation per {name} : {(grid_search.best_score_):12.4f}\\n \\n\")\n",
        "  return grid_search\n"
      ]
    },
    {
      "cell_type": "markdown",
      "metadata": {
        "id": "25fj1gdfIakU"
      },
      "source": [
        "Successivamente a ciò, possiamo iniziare a definire il valori che andremo ad utilizzare per addestrare e validare il nostro modello:\n",
        "1. *X*: E' un data frame, dove all'interno troviamo tutte le colonne, eccetto una, **nsp**\n",
        "2. *y*: E' una serie, composta da un solo valore, **nsp**\n",
        "\n",
        "Queste due variabili verranno utilizzate per generare le *variabili di training* e le *variabili di testing*. "
      ]
    },
    {
      "cell_type": "code",
      "execution_count": null,
      "metadata": {
        "id": "sqPAlvKkjTCS"
      },
      "outputs": [],
      "source": [
        "df_dropped = df.drop(columns=[\"nsp\"])\n",
        "X = df_dropped"
      ]
    },
    {
      "cell_type": "code",
      "execution_count": null,
      "metadata": {
        "colab": {
          "base_uri": "https://localhost:8080/",
          "height": 297
        },
        "id": "M7x_kFX6daW4",
        "outputId": "a505e84a-7ff0-4e7b-bb94-1b42f2e19c6b"
      },
      "outputs": [
        {
          "output_type": "execute_result",
          "data": {
            "text/plain": [
              "   start_instant  end_instant  medical_baseline  sisproto_baseline  heart_acc  \\\n",
              "0          240.0        357.0             120.0              120.0        0.0   \n",
              "1            5.0        632.0             132.0              132.0        4.0   \n",
              "2          177.0        779.0             133.0              133.0        2.0   \n",
              "3          411.0       1192.0             134.0              134.0        2.0   \n",
              "4          533.0       1147.0             132.0              132.0        4.0   \n",
              "\n",
              "   foetal_move  utherine_contract  pct_short_variability  \\\n",
              "0          0.0                0.0                   73.0   \n",
              "1          0.0                4.0                   17.0   \n",
              "2          0.0                5.0                   16.0   \n",
              "3          0.0                6.0                   16.0   \n",
              "4          0.0                5.0                   16.0   \n",
              "\n",
              "   mean_short_variability  pct_long_variability  ...  rem_sleep  \\\n",
              "0                     0.5                  43.0  ...      False   \n",
              "1                     2.1                   0.0  ...      False   \n",
              "2                     2.1                   0.0  ...      False   \n",
              "3                     2.4                   0.0  ...      False   \n",
              "4                     2.4                   0.0  ...       True   \n",
              "\n",
              "   calm_vigilance  active_vigilance  e  acc_pattern_stress  dec_pattern_vagal  \\\n",
              "0           False             False  0               False              False   \n",
              "1           False             False  0                True              False   \n",
              "2           False             False  0                True              False   \n",
              "3           False             False  0                True              False   \n",
              "4           False             False  0               False              False   \n",
              "\n",
              "   largely_dec  patho_flat_sinusoidal  suspect  class  \n",
              "0        False                   True    False      9  \n",
              "1        False                  False    False      6  \n",
              "2        False                  False    False      6  \n",
              "3        False                  False    False      6  \n",
              "4        False                  False    False      2  \n",
              "\n",
              "[5 rows x 36 columns]"
            ],
            "text/html": [
              "\n",
              "  <div id=\"df-7b995474-d5a0-4df9-88eb-0c903b2bcf7a\">\n",
              "    <div class=\"colab-df-container\">\n",
              "      <div>\n",
              "<style scoped>\n",
              "    .dataframe tbody tr th:only-of-type {\n",
              "        vertical-align: middle;\n",
              "    }\n",
              "\n",
              "    .dataframe tbody tr th {\n",
              "        vertical-align: top;\n",
              "    }\n",
              "\n",
              "    .dataframe thead th {\n",
              "        text-align: right;\n",
              "    }\n",
              "</style>\n",
              "<table border=\"1\" class=\"dataframe\">\n",
              "  <thead>\n",
              "    <tr style=\"text-align: right;\">\n",
              "      <th></th>\n",
              "      <th>start_instant</th>\n",
              "      <th>end_instant</th>\n",
              "      <th>medical_baseline</th>\n",
              "      <th>sisproto_baseline</th>\n",
              "      <th>heart_acc</th>\n",
              "      <th>foetal_move</th>\n",
              "      <th>utherine_contract</th>\n",
              "      <th>pct_short_variability</th>\n",
              "      <th>mean_short_variability</th>\n",
              "      <th>pct_long_variability</th>\n",
              "      <th>...</th>\n",
              "      <th>rem_sleep</th>\n",
              "      <th>calm_vigilance</th>\n",
              "      <th>active_vigilance</th>\n",
              "      <th>e</th>\n",
              "      <th>acc_pattern_stress</th>\n",
              "      <th>dec_pattern_vagal</th>\n",
              "      <th>largely_dec</th>\n",
              "      <th>patho_flat_sinusoidal</th>\n",
              "      <th>suspect</th>\n",
              "      <th>class</th>\n",
              "    </tr>\n",
              "  </thead>\n",
              "  <tbody>\n",
              "    <tr>\n",
              "      <th>0</th>\n",
              "      <td>240.0</td>\n",
              "      <td>357.0</td>\n",
              "      <td>120.0</td>\n",
              "      <td>120.0</td>\n",
              "      <td>0.0</td>\n",
              "      <td>0.0</td>\n",
              "      <td>0.0</td>\n",
              "      <td>73.0</td>\n",
              "      <td>0.5</td>\n",
              "      <td>43.0</td>\n",
              "      <td>...</td>\n",
              "      <td>False</td>\n",
              "      <td>False</td>\n",
              "      <td>False</td>\n",
              "      <td>0</td>\n",
              "      <td>False</td>\n",
              "      <td>False</td>\n",
              "      <td>False</td>\n",
              "      <td>True</td>\n",
              "      <td>False</td>\n",
              "      <td>9</td>\n",
              "    </tr>\n",
              "    <tr>\n",
              "      <th>1</th>\n",
              "      <td>5.0</td>\n",
              "      <td>632.0</td>\n",
              "      <td>132.0</td>\n",
              "      <td>132.0</td>\n",
              "      <td>4.0</td>\n",
              "      <td>0.0</td>\n",
              "      <td>4.0</td>\n",
              "      <td>17.0</td>\n",
              "      <td>2.1</td>\n",
              "      <td>0.0</td>\n",
              "      <td>...</td>\n",
              "      <td>False</td>\n",
              "      <td>False</td>\n",
              "      <td>False</td>\n",
              "      <td>0</td>\n",
              "      <td>True</td>\n",
              "      <td>False</td>\n",
              "      <td>False</td>\n",
              "      <td>False</td>\n",
              "      <td>False</td>\n",
              "      <td>6</td>\n",
              "    </tr>\n",
              "    <tr>\n",
              "      <th>2</th>\n",
              "      <td>177.0</td>\n",
              "      <td>779.0</td>\n",
              "      <td>133.0</td>\n",
              "      <td>133.0</td>\n",
              "      <td>2.0</td>\n",
              "      <td>0.0</td>\n",
              "      <td>5.0</td>\n",
              "      <td>16.0</td>\n",
              "      <td>2.1</td>\n",
              "      <td>0.0</td>\n",
              "      <td>...</td>\n",
              "      <td>False</td>\n",
              "      <td>False</td>\n",
              "      <td>False</td>\n",
              "      <td>0</td>\n",
              "      <td>True</td>\n",
              "      <td>False</td>\n",
              "      <td>False</td>\n",
              "      <td>False</td>\n",
              "      <td>False</td>\n",
              "      <td>6</td>\n",
              "    </tr>\n",
              "    <tr>\n",
              "      <th>3</th>\n",
              "      <td>411.0</td>\n",
              "      <td>1192.0</td>\n",
              "      <td>134.0</td>\n",
              "      <td>134.0</td>\n",
              "      <td>2.0</td>\n",
              "      <td>0.0</td>\n",
              "      <td>6.0</td>\n",
              "      <td>16.0</td>\n",
              "      <td>2.4</td>\n",
              "      <td>0.0</td>\n",
              "      <td>...</td>\n",
              "      <td>False</td>\n",
              "      <td>False</td>\n",
              "      <td>False</td>\n",
              "      <td>0</td>\n",
              "      <td>True</td>\n",
              "      <td>False</td>\n",
              "      <td>False</td>\n",
              "      <td>False</td>\n",
              "      <td>False</td>\n",
              "      <td>6</td>\n",
              "    </tr>\n",
              "    <tr>\n",
              "      <th>4</th>\n",
              "      <td>533.0</td>\n",
              "      <td>1147.0</td>\n",
              "      <td>132.0</td>\n",
              "      <td>132.0</td>\n",
              "      <td>4.0</td>\n",
              "      <td>0.0</td>\n",
              "      <td>5.0</td>\n",
              "      <td>16.0</td>\n",
              "      <td>2.4</td>\n",
              "      <td>0.0</td>\n",
              "      <td>...</td>\n",
              "      <td>True</td>\n",
              "      <td>False</td>\n",
              "      <td>False</td>\n",
              "      <td>0</td>\n",
              "      <td>False</td>\n",
              "      <td>False</td>\n",
              "      <td>False</td>\n",
              "      <td>False</td>\n",
              "      <td>False</td>\n",
              "      <td>2</td>\n",
              "    </tr>\n",
              "  </tbody>\n",
              "</table>\n",
              "<p>5 rows × 36 columns</p>\n",
              "</div>\n",
              "      <button class=\"colab-df-convert\" onclick=\"convertToInteractive('df-7b995474-d5a0-4df9-88eb-0c903b2bcf7a')\"\n",
              "              title=\"Convert this dataframe to an interactive table.\"\n",
              "              style=\"display:none;\">\n",
              "        \n",
              "  <svg xmlns=\"http://www.w3.org/2000/svg\" height=\"24px\"viewBox=\"0 0 24 24\"\n",
              "       width=\"24px\">\n",
              "    <path d=\"M0 0h24v24H0V0z\" fill=\"none\"/>\n",
              "    <path d=\"M18.56 5.44l.94 2.06.94-2.06 2.06-.94-2.06-.94-.94-2.06-.94 2.06-2.06.94zm-11 1L8.5 8.5l.94-2.06 2.06-.94-2.06-.94L8.5 2.5l-.94 2.06-2.06.94zm10 10l.94 2.06.94-2.06 2.06-.94-2.06-.94-.94-2.06-.94 2.06-2.06.94z\"/><path d=\"M17.41 7.96l-1.37-1.37c-.4-.4-.92-.59-1.43-.59-.52 0-1.04.2-1.43.59L10.3 9.45l-7.72 7.72c-.78.78-.78 2.05 0 2.83L4 21.41c.39.39.9.59 1.41.59.51 0 1.02-.2 1.41-.59l7.78-7.78 2.81-2.81c.8-.78.8-2.07 0-2.86zM5.41 20L4 18.59l7.72-7.72 1.47 1.35L5.41 20z\"/>\n",
              "  </svg>\n",
              "      </button>\n",
              "      \n",
              "  <style>\n",
              "    .colab-df-container {\n",
              "      display:flex;\n",
              "      flex-wrap:wrap;\n",
              "      gap: 12px;\n",
              "    }\n",
              "\n",
              "    .colab-df-convert {\n",
              "      background-color: #E8F0FE;\n",
              "      border: none;\n",
              "      border-radius: 50%;\n",
              "      cursor: pointer;\n",
              "      display: none;\n",
              "      fill: #1967D2;\n",
              "      height: 32px;\n",
              "      padding: 0 0 0 0;\n",
              "      width: 32px;\n",
              "    }\n",
              "\n",
              "    .colab-df-convert:hover {\n",
              "      background-color: #E2EBFA;\n",
              "      box-shadow: 0px 1px 2px rgba(60, 64, 67, 0.3), 0px 1px 3px 1px rgba(60, 64, 67, 0.15);\n",
              "      fill: #174EA6;\n",
              "    }\n",
              "\n",
              "    [theme=dark] .colab-df-convert {\n",
              "      background-color: #3B4455;\n",
              "      fill: #D2E3FC;\n",
              "    }\n",
              "\n",
              "    [theme=dark] .colab-df-convert:hover {\n",
              "      background-color: #434B5C;\n",
              "      box-shadow: 0px 1px 3px 1px rgba(0, 0, 0, 0.15);\n",
              "      filter: drop-shadow(0px 1px 2px rgba(0, 0, 0, 0.3));\n",
              "      fill: #FFFFFF;\n",
              "    }\n",
              "  </style>\n",
              "\n",
              "      <script>\n",
              "        const buttonEl =\n",
              "          document.querySelector('#df-7b995474-d5a0-4df9-88eb-0c903b2bcf7a button.colab-df-convert');\n",
              "        buttonEl.style.display =\n",
              "          google.colab.kernel.accessAllowed ? 'block' : 'none';\n",
              "\n",
              "        async function convertToInteractive(key) {\n",
              "          const element = document.querySelector('#df-7b995474-d5a0-4df9-88eb-0c903b2bcf7a');\n",
              "          const dataTable =\n",
              "            await google.colab.kernel.invokeFunction('convertToInteractive',\n",
              "                                                     [key], {});\n",
              "          if (!dataTable) return;\n",
              "\n",
              "          const docLinkHtml = 'Like what you see? Visit the ' +\n",
              "            '<a target=\"_blank\" href=https://colab.research.google.com/notebooks/data_table.ipynb>data table notebook</a>'\n",
              "            + ' to learn more about interactive tables.';\n",
              "          element.innerHTML = '';\n",
              "          dataTable['output_type'] = 'display_data';\n",
              "          await google.colab.output.renderOutput(dataTable, element);\n",
              "          const docLink = document.createElement('div');\n",
              "          docLink.innerHTML = docLinkHtml;\n",
              "          element.appendChild(docLink);\n",
              "        }\n",
              "      </script>\n",
              "    </div>\n",
              "  </div>\n",
              "  "
            ]
          },
          "metadata": {},
          "execution_count": 109
        }
      ],
      "source": [
        "X.head(5)"
      ]
    },
    {
      "cell_type": "markdown",
      "metadata": {
        "id": "mZsq3iCKdBFC"
      },
      "source": [
        "Un'operazione preliminare che dovremmo eseguire per lavorare su queste variabili è modificare il tipo dei valori nella variabile *y*, ponendo la tipologia del dato come **intero**, in questo modo potremo calcolare l'accuratezza del modello con le formule viste in precedenza."
      ]
    },
    {
      "cell_type": "code",
      "execution_count": null,
      "metadata": {
        "colab": {
          "base_uri": "https://localhost:8080/"
        },
        "id": "mooSig0ljTCS",
        "outputId": "08bdb4e7-d74f-486f-9066-d722a57047a7"
      },
      "outputs": [
        {
          "output_type": "execute_result",
          "data": {
            "text/plain": [
              "0    2\n",
              "1    1\n",
              "2    1\n",
              "3    1\n",
              "4    1\n",
              "Name: nsp, dtype: int64"
            ]
          },
          "metadata": {},
          "execution_count": 110
        }
      ],
      "source": [
        "y = df[\"nsp\"].astype(int)\n",
        "y.head(5)"
      ]
    },
    {
      "cell_type": "markdown",
      "metadata": {
        "id": "FSxdnFTfdet7"
      },
      "source": [
        "Una volta che abbiamo definito le nostre due variabili X ed y, possiamo adoperarci della funzione *train_test_split* per suddividere i dataset X e y, in variabili di training e variabili di testing. Da notare che specifichiamo in oltre anche il parametro *stratify=y*, con questa funzionalità andiamo a distribuire i valori di *y* nelle variabili di training e nelle variabili di test."
      ]
    },
    {
      "cell_type": "code",
      "execution_count": null,
      "metadata": {
        "id": "zhaQZLYdjTCT"
      },
      "outputs": [],
      "source": [
        "X_train, X_test, y_train, y_test = train_test_split(X, y, test_size=1/3, stratify=y,random_state=1926)"
      ]
    },
    {
      "cell_type": "markdown",
      "metadata": {
        "id": "fc0y5GBdIzQV"
      },
      "source": [
        "#### Random Forest"
      ]
    },
    {
      "cell_type": "markdown",
      "metadata": {
        "id": "ZB08mzl8ewDy"
      },
      "source": [
        "Il primo modello che andremo ad utilizzare per lavorare sul nostro dataset è il *Random Forest*.  "
      ]
    },
    {
      "cell_type": "code",
      "execution_count": null,
      "metadata": {
        "id": "xfji5CUcI5Lu"
      },
      "outputs": [],
      "source": [
        "from sklearn.ensemble import RandomForestRegressor, RandomForestClassifier"
      ]
    },
    {
      "cell_type": "markdown",
      "metadata": {
        "id": "eaxpOMnRetfn"
      },
      "source": [
        "Il Random Forest che andremo ad utilizzare è **inizializzato con i seguenti iper parametri**:\n",
        "1. `max_samples`=0.2, specifica la **dimensione del subset di dati di addestramento da utilizzare** per ogni albero all'interno della Random Forest\n",
        "\n",
        "2. `max_features`=\"sqrt\",  indica il n**umero massimo di features da considerare durante la ricerca** della migliore suddivisione dei nodi all'interno di ciascun albero della foresta \n",
        "\n",
        "3. `n_estimators`=200, indica il **numero di alberi decisionali che verranno creati** all'interno dell'ensemble.\n",
        "\n",
        "4. `max_depth`=None, indica la **massima profondità consentita** per ciascun albero all'interno dell'ensemble\n",
        "\n",
        "5. `n_jobs`=-1, specifica il **numero di processori da utilizzare** per l'addestramento e la previsione dell'ensemble, in questo caso verranno usati tutti quelli disponibili"
      ]
    },
    {
      "cell_type": "code",
      "execution_count": null,
      "metadata": {
        "id": "nr_NrUJ9JJ5d"
      },
      "outputs": [],
      "source": [
        "rfr = RandomForestRegressor(max_samples=0.2, max_features=\"sqrt\", n_estimators=200, max_depth=None, n_jobs=-1)"
      ]
    },
    {
      "cell_type": "code",
      "source": [
        "randomforest_model = Pipeline([\n",
        "    (\"std_scaler\", StandardScaler()),\n",
        "    (\"tree\", rfr)\n",
        "])"
      ],
      "metadata": {
        "id": "SeAdRfEfkHbv"
      },
      "execution_count": null,
      "outputs": []
    },
    {
      "cell_type": "markdown",
      "metadata": {
        "id": "ImAWHX6CiRRJ"
      },
      "source": [
        "Dopo aver inizializzato il nostro *RandomForestRegressor*, passiamo quindi a addestrare e verificare l'accuratezza di questo modello. "
      ]
    },
    {
      "cell_type": "code",
      "execution_count": null,
      "metadata": {
        "colab": {
          "base_uri": "https://localhost:8080/"
        },
        "id": "z-JM3ZSngToo",
        "outputId": "376867e2-0075-480c-a92d-6bf107ccc0c5"
      },
      "outputs": [
        {
          "output_type": "stream",
          "name": "stdout",
          "text": [
            "      MSE:       0.0160\n",
            "R-squared:       0.9577\n",
            "    RMSPE:       0.0814\n"
          ]
        }
      ],
      "source": [
        "fit_eval_tree(randomforest_model, X_train, y_train, X_test, y_test)"
      ]
    },
    {
      "cell_type": "markdown",
      "metadata": {
        "id": "aCvZy3WbkLkJ"
      },
      "source": [
        "Da come si può notare il modello che abbiamo ottenuto un errore percentuale del 8% mentre il valore di $R^2$ ha un valore di 0.95.  Controlliamo ora l'importanza di ciascuna feature all'interno dell'albero. "
      ]
    },
    {
      "cell_type": "code",
      "execution_count": null,
      "metadata": {
        "colab": {
          "base_uri": "https://localhost:8080/"
        },
        "id": "FD7dB0pqqasf",
        "outputId": "12d2514d-9b0f-44eb-a279-ccdf110e843b"
      },
      "outputs": [
        {
          "output_type": "execute_result",
          "data": {
            "text/plain": [
              "class                     0.263444\n",
              "largely_dec               0.111423\n",
              "patho_flat_sinusoidal     0.067151\n",
              "pct_short_variability     0.060222\n",
              "mean_short_variability    0.057288\n",
              "mean                      0.049831\n",
              "mode                      0.045355\n",
              "pct_long_variability      0.039300\n",
              "median                    0.038927\n",
              "suspect                   0.038112\n",
              "prolongued_dec            0.037556\n",
              "e                         0.030972\n",
              "heart_acc                 0.018207\n",
              "variance                  0.015233\n",
              "width                     0.014174\n",
              "end_instant               0.012670\n",
              "mean_long_variability     0.010853\n",
              "utherine_contract         0.010687\n",
              "calm_sleep                0.009895\n",
              "medical_baseline          0.009797\n",
              "min                       0.009575\n",
              "sisproto_baseline         0.008787\n",
              "light_dec                 0.007730\n",
              "max                       0.006917\n",
              "nmax                      0.005463\n",
              "start_instant             0.005214\n",
              "foetal_move               0.004945\n",
              "rem_sleep                 0.003333\n",
              "dec_pattern_vagal         0.002637\n",
              "acc_pattern_stress        0.001385\n",
              "nzeros                    0.001287\n",
              "tendency                  0.001015\n",
              "severe_dec                0.000386\n",
              "active_vigilance          0.000227\n",
              "calm_vigilance            0.000000\n",
              "repetitive_dec            0.000000\n",
              "dtype: float64"
            ]
          },
          "metadata": {},
          "execution_count": 116
        }
      ],
      "source": [
        "pd.Series(rfr.feature_importances_, index=X.columns).sort_values(ascending=False)"
      ]
    },
    {
      "cell_type": "markdown",
      "source": [
        "Dalla serie qui sopra proposta, si può notare che l'elemento più pesato tra i vari parametri, è la colonna *class*, mentre l'elemento meno pesato è quello di *repetitive_dec*. \n",
        "\n",
        "Ora che abbiamo realizzato il nostro albero, possiamo passare alla visualizzazione della sua struttura."
      ],
      "metadata": {
        "id": "B7Ihl9dJpN4T"
      }
    },
    {
      "cell_type": "code",
      "execution_count": null,
      "metadata": {
        "colab": {
          "base_uri": "https://localhost:8080/",
          "height": 874
        },
        "id": "xACZcMw9XGsh",
        "outputId": "f171993b-f97b-4fb9-a96d-ecad285dd06f"
      },
      "outputs": [
        {
          "output_type": "execute_result",
          "data": {
            "text/plain": [
              "[Text(0.4583333333333333, 0.875, 'pct_long_variability <= 0.311\\nsquared_error = 0.354\\nsamples = 251\\nvalue = 1.307'),\n",
              " Text(0.25, 0.625, 'largely_dec <= 2.045\\nsquared_error = 0.236\\nsamples = 191\\nvalue = 1.159'),\n",
              " Text(0.16666666666666666, 0.375, 'sisproto_baseline <= 0.838\\nsquared_error = 0.056\\nsamples = 181\\nvalue = 1.059'),\n",
              " Text(0.08333333333333333, 0.125, '\\n  (...)  \\n'),\n",
              " Text(0.25, 0.125, '\\n  (...)  \\n'),\n",
              " Text(0.3333333333333333, 0.375, 'squared_error = 0.0\\nsamples = 10\\nvalue = 3.0'),\n",
              " Text(0.6666666666666666, 0.625, 'pct_short_variability <= 1.853\\nsquared_error = 0.439\\nsamples = 60\\nvalue = 1.768'),\n",
              " Text(0.5, 0.375, 'pct_long_variability <= 3.363\\nsquared_error = 0.326\\nsamples = 55\\nvalue = 1.645'),\n",
              " Text(0.4166666666666667, 0.125, '\\n  (...)  \\n'),\n",
              " Text(0.5833333333333334, 0.125, '\\n  (...)  \\n'),\n",
              " Text(0.8333333333333334, 0.375, 'mode <= 0.914\\nsquared_error = 0.122\\nsamples = 5\\nvalue = 2.857'),\n",
              " Text(0.75, 0.125, '\\n  (...)  \\n'),\n",
              " Text(0.9166666666666666, 0.125, '\\n  (...)  \\n')]"
            ]
          },
          "metadata": {},
          "execution_count": 117
        },
        {
          "output_type": "display_data",
          "data": {
            "text/plain": [
              "<Figure size 1000x800 with 1 Axes>"
            ],
            "image/png": "[encoded data removed]"
          },
          "metadata": {}
        }
      ],
      "source": [
        "plt.figure(figsize=(10, 8))\n",
        "plot_tree(rfr.estimators_[0], feature_names=X_train.columns, max_depth=2, filled=True, fontsize=8)"
      ]
    },
    {
      "cell_type": "markdown",
      "metadata": {
        "id": "0zD9WC7CJtDj"
      },
      "source": [
        "#### Boosting iper parametri"
      ]
    },
    {
      "cell_type": "markdown",
      "source": [
        "Ora che abbiamo il nostro modello, possiamo provare a migliorarne l'efficienza attraverso un boosting dei suoi *iper parametri*. Più nello specifico andremo a testare i valori:\n",
        "* `n_estimators`\n",
        "* `max_depth`\n",
        "* `min_samples_split`\n",
        "* `min_samples_leaf`\n",
        "\n",
        "Il boosting avverrà tramite la nostra funzione **boosting_hyperparameters**, successivamente a questa operazione potremmo vedere il valore di score migliore con i migliori *iper parametri* individuati. "
      ],
      "metadata": {
        "id": "Hlbo32j6qVwb"
      }
    },
    {
      "cell_type": "code",
      "execution_count": null,
      "metadata": {
        "colab": {
          "base_uri": "https://localhost:8080/"
        },
        "id": "zQ8m-ENFJ453",
        "outputId": "e187da0e-2303-4e66-e3cb-c18d6cfca898"
      },
      "outputs": [
        {
          "output_type": "stream",
          "name": "stdout",
          "text": [
            "             Migliori iperparametri per Random Forest : {'max_depth': 5, 'min_samples_leaf': 1, 'min_samples_split': 5, 'n_estimators': 100}\n",
            "Punteggio medio di cross-validation per Random Forest :       0.9809\n",
            " \n",
            "\n"
          ]
        }
      ],
      "source": [
        "rf_params = {\n",
        "    'n_estimators': [100, 200],\n",
        "    'max_depth': [2, 3, 5],\n",
        "    'min_samples_split': [2, 5],\n",
        "    'min_samples_leaf': [1, 2]\n",
        "}\n",
        "rf = RandomForestClassifier(random_state=1926)\n",
        "gscv = boosting_hyperparameters(classifier=rf, params=rf_params, X_boosting=None, y_boosting=None, name=\"Random Forest\")"
      ]
    },
    {
      "cell_type": "markdown",
      "source": [
        "Possiamo notare un aumento del valore di $R^2$, siamo passati da 0.95 a 0.98.  "
      ],
      "metadata": {
        "id": "8wFXOeRFr7Li"
      }
    },
    {
      "cell_type": "markdown",
      "metadata": {
        "id": "DUWXaohiKpxN"
      },
      "source": [
        "### Decision Forest Classifier"
      ]
    },
    {
      "cell_type": "markdown",
      "source": [
        "Possiamo ora passare a realizzare il nostro secondo albero, il `DecisionTreeRegressor`. "
      ],
      "metadata": {
        "id": "xJyCfrxxsskR"
      }
    },
    {
      "cell_type": "code",
      "execution_count": null,
      "metadata": {
        "id": "tAo_pEwGLpww"
      },
      "outputs": [],
      "source": [
        "from sklearn.tree import DecisionTreeRegressor, DecisionTreeClassifier"
      ]
    },
    {
      "cell_type": "markdown",
      "source": [
        "Una volta che abbiamo importato la classe che ci permette di inizializzare il nostro albero, specifichiamo anche alcuni *iper parametri*:\n",
        "* `max_depth`=5\n",
        "* `random_state`=1926"
      ],
      "metadata": {
        "id": "FqvCQBQ3tRy-"
      }
    },
    {
      "cell_type": "code",
      "execution_count": null,
      "metadata": {
        "id": "BYP5jllyLvgD"
      },
      "outputs": [],
      "source": [
        "dtc = DecisionTreeRegressor(max_depth=5, random_state=1926)"
      ]
    },
    {
      "cell_type": "markdown",
      "source": [
        "Adesso che abbiamo creato il nostro albero, possiamo inizializzare una `Pipeline`, nella quale metteremo anche uno `StandardScaler` per gestire i parametri numerici.  "
      ],
      "metadata": {
        "id": "Sy7jl8F0tpBz"
      }
    },
    {
      "cell_type": "code",
      "source": [
        "decisiontree_model = Pipeline([\n",
        "    (\"std_scaler\", StandardScaler()),\n",
        "    (\"tree\", dtc)\n",
        "])"
      ],
      "metadata": {
        "id": "02J998Bwlv2W"
      },
      "execution_count": null,
      "outputs": []
    },
    {
      "cell_type": "markdown",
      "source": [
        "Possiamo ora addestrare e valutare il modello che abbiamo creato."
      ],
      "metadata": {
        "id": "ly3kagdvt6xZ"
      }
    },
    {
      "cell_type": "code",
      "source": [
        "fit_eval_tree(decisiontree_model, X_train, y_train, X_test, y_test)"
      ],
      "metadata": {
        "colab": {
          "base_uri": "https://localhost:8080/"
        },
        "id": "jXWpuBIzlu1h",
        "outputId": "4b139b1b-6a93-4c43-eade-b7d1beed4e86"
      },
      "execution_count": null,
      "outputs": [
        {
          "output_type": "stream",
          "name": "stdout",
          "text": [
            "      MSE:       0.0182\n",
            "R-squared:       0.9520\n",
            "    RMSPE:       0.0810\n"
          ]
        }
      ]
    },
    {
      "cell_type": "markdown",
      "source": [
        "Notiamo che il valore di $R^2$ è molto simile al valore ottenuto in precedenza dal `RandomForestRegressor`, possiamo essere però soddisfatti del l'errore quadrato che otteniamo (MSE), che è pari a 0.01 .\n",
        "\n",
        "Ecco qui di seguito alcune informazioni riguardo l'albero realizzato, più nello specifico, mostriamo la profondità dell'albero e il numero di foglie che sono state generate. "
      ],
      "metadata": {
        "id": "Q8xUwcV4ukjz"
      }
    },
    {
      "cell_type": "code",
      "execution_count": null,
      "metadata": {
        "colab": {
          "base_uri": "https://localhost:8080/"
        },
        "id": "PD5xh_KvqJ6O",
        "outputId": "f759ce15-b99b-42f6-af2d-a359bd2b3aa7"
      },
      "outputs": [
        {
          "output_type": "stream",
          "name": "stdout",
          "text": [
            "Profondita albero: 5\n",
            "Numero di foglie : 12\n"
          ]
        }
      ],
      "source": [
        "print(f\"Profondita albero: {dtc.get_depth()}\")\n",
        "print(f\"Numero di foglie : {dtc.get_n_leaves()}\")"
      ]
    },
    {
      "cell_type": "markdown",
      "source": [
        "Diamo ora un occhio a come i parametri sono stati pesati all'interno dell'albero. "
      ],
      "metadata": {
        "id": "SQj2gnk5PEgZ"
      }
    },
    {
      "cell_type": "code",
      "source": [
        "pd.Series(dtc.feature_importances_, index=X.columns).sort_values(ascending=False)"
      ],
      "metadata": {
        "colab": {
          "base_uri": "https://localhost:8080/"
        },
        "id": "WvbwBIB0O_V2",
        "outputId": "1a51737e-da88-4a69-b465-f64543176a3c"
      },
      "execution_count": null,
      "outputs": [
        {
          "output_type": "execute_result",
          "data": {
            "text/plain": [
              "class                     0.904080\n",
              "e                         0.080072\n",
              "prolongued_dec            0.005585\n",
              "foetal_move               0.002455\n",
              "end_instant               0.001912\n",
              "median                    0.001875\n",
              "start_instant             0.001420\n",
              "mean_long_variability     0.001315\n",
              "mean                      0.001285\n",
              "sisproto_baseline         0.000000\n",
              "suspect                   0.000000\n",
              "patho_flat_sinusoidal     0.000000\n",
              "largely_dec               0.000000\n",
              "dec_pattern_vagal         0.000000\n",
              "acc_pattern_stress        0.000000\n",
              "medical_baseline          0.000000\n",
              "active_vigilance          0.000000\n",
              "calm_vigilance            0.000000\n",
              "rem_sleep                 0.000000\n",
              "calm_sleep                0.000000\n",
              "tendency                  0.000000\n",
              "variance                  0.000000\n",
              "pct_short_variability     0.000000\n",
              "mean_short_variability    0.000000\n",
              "mode                      0.000000\n",
              "nzeros                    0.000000\n",
              "heart_acc                 0.000000\n",
              "max                       0.000000\n",
              "min                       0.000000\n",
              "width                     0.000000\n",
              "repetitive_dec            0.000000\n",
              "utherine_contract         0.000000\n",
              "severe_dec                0.000000\n",
              "light_dec                 0.000000\n",
              "pct_long_variability      0.000000\n",
              "nmax                      0.000000\n",
              "dtype: float64"
            ]
          },
          "metadata": {},
          "execution_count": 124
        }
      ]
    },
    {
      "cell_type": "markdown",
      "source": [
        "Da come si può notare, la colonna `class` viene pesata con 0.90 mentre una grande rimanenza di variabili viene pesata come 0."
      ],
      "metadata": {
        "id": "m9r6BQaxPKna"
      }
    },
    {
      "cell_type": "code",
      "execution_count": null,
      "metadata": {
        "colab": {
          "base_uri": "https://localhost:8080/",
          "height": 409
        },
        "id": "ugG4LNH2OoWf",
        "outputId": "99b785cd-342e-47c6-e52a-9d202a6ac360"
      },
      "outputs": [
        {
          "output_type": "display_data",
          "data": {
            "text/plain": [
              "<Figure size 1800x600 with 1 Axes>"
            ],
            "image/png": "[encoded data removed]"
          },
          "metadata": {}
        }
      ],
      "source": [
        "plt.figure(figsize=(18, 6))\n",
        "plot_tree(dtc, feature_names=X.columns, max_depth=2, filled=True, fontsize=8);"
      ]
    },
    {
      "cell_type": "markdown",
      "source": [
        "#### Boosting iper parametri"
      ],
      "metadata": {
        "id": "kgK5Ex7dwEf1"
      }
    },
    {
      "cell_type": "markdown",
      "source": [
        "Una volta che abbiamo realizzato il nostro albero possiamo provare a migliorare lo `score`, attraverso un **boosting** dei suoi *iper parametri*, in particolare andremo a testare i parametri:\n",
        "* `max_depth`\n",
        "* `min_samples_split`\n",
        "* `min_samples_leaf`"
      ],
      "metadata": {
        "id": "F22wBfSNwNY7"
      }
    },
    {
      "cell_type": "code",
      "execution_count": null,
      "metadata": {
        "colab": {
          "base_uri": "https://localhost:8080/"
        },
        "id": "cNeS_QuUNCI9",
        "outputId": "809f526e-9977-47dd-b19e-de05acb28b03"
      },
      "outputs": [
        {
          "output_type": "stream",
          "name": "stdout",
          "text": [
            "             Migliori iperparametri per Decision Tree : {'max_depth': None, 'min_samples_leaf': 2, 'min_samples_split': 10}\n",
            "Punteggio medio di cross-validation per Decision Tree :       0.9866\n",
            " \n",
            "\n"
          ]
        }
      ],
      "source": [
        "dt_params = {\n",
        "    'max_depth': [None, 5, 10],\n",
        "    'min_samples_split': [2, 5, 10],\n",
        "    'min_samples_leaf': [1, 2, 4]\n",
        "}\n",
        "# Crea un oggetto Random Forest e un oggetto Grid Search\n",
        "dfc = DecisionTreeClassifier(random_state=1926)\n",
        "gscv = boosting_hyperparameters(classifier=dfc, params=dt_params, X_boosting=None, y_boosting=None, name=\"Decision Tree\")\n"
      ]
    },
    {
      "cell_type": "markdown",
      "source": [
        "Anche con i `DecisionTreeResgressor` otteniamo come valore migliore di *score* 0.98, ora possiamo provare modelli più potenti e performanti come `XGBoost` e `CatBoost`. "
      ],
      "metadata": {
        "id": "z9NGcLfSxVda"
      }
    },
    {
      "cell_type": "markdown",
      "metadata": {
        "id": "q04mtvLFN41o"
      },
      "source": [
        "### XGBoost"
      ]
    },
    {
      "cell_type": "markdown",
      "source": [
        "Come prima cosa importiamo la classe `XGBRegressor`."
      ],
      "metadata": {
        "id": "lrJJfTylyY0A"
      }
    },
    {
      "cell_type": "code",
      "execution_count": null,
      "metadata": {
        "id": "CXaVvnnlN9r0"
      },
      "outputs": [],
      "source": [
        "from xgboost import XGBRegressor, XGBClassifier"
      ]
    },
    {
      "cell_type": "markdown",
      "source": [
        "Dal momento in cui `XGBoost` ancora non è in grado di supportare le variabili categoriche abbiamo l'obbligo di utilizzare solamente le variabili numeriche.  Questo potrebbe quindi essere una causa di un **peggioramento** delle performance rispetto agli altri modelli.\n",
        "\n",
        "\n",
        "Andremo quindi a prelevare da `X` solamente le variabili *numeriche*, in questo modo non andremo generare eccezioni. "
      ],
      "metadata": {
        "id": "ggcjEjvdyiDS"
      }
    },
    {
      "cell_type": "code",
      "execution_count": null,
      "metadata": {
        "id": "_Mq_qMC7tzOl"
      },
      "outputs": [],
      "source": [
        "X_xgbtrain, X_xgbtest, y_xgbtrain, y_xgbtest = train_test_split(X[num_vars_low], y, test_size=1/3, stratify=y,random_state=1926)"
      ]
    },
    {
      "cell_type": "markdown",
      "source": [
        "Ora che abbiamo suddiviso il dataset e abbiamo creato le variabili per il *training* e il *testing*, possiamo inizializzare il modello `XGBRegressor`, impostando i seguenti *iper parametri*:\n",
        "* `objective`, specifica la funzione obiettivo da ottimizzare\n",
        "* `reg_alpha`, utilizzato per la regolarizzazione L1\n",
        "* `reg_lambda`, utilizzato per la regolarizzazione L2\n",
        "* `n_estimators`, indica il numero di sotto alberi da addestrare"
      ],
      "metadata": {
        "id": "rETAvplPzUTZ"
      }
    },
    {
      "cell_type": "code",
      "execution_count": null,
      "metadata": {
        "id": "9TsSF9wvOMmF"
      },
      "outputs": [],
      "source": [
        "xgbm = XGBRegressor(objective='reg:squarederror',reg_alpha=0.0, reg_lambda=1.0, n_estimators=200, verbose_eval=True)"
      ]
    },
    {
      "cell_type": "markdown",
      "source": [
        "Adesso che abbiamo impostato il nostro regressor, passiamo a costruire una `Pipeline`, in cui useremo uno `StandardScaler` per le variabili numeriche. "
      ],
      "metadata": {
        "id": "REae9l8v1NfN"
      }
    },
    {
      "cell_type": "code",
      "source": [
        "xgbm_model = Pipeline([\n",
        "    (\"std_scaler\", StandardScaler()),\n",
        "    (\"xgbm\", xgbm)\n",
        "])"
      ],
      "metadata": {
        "id": "GJdgSreknA1N"
      },
      "execution_count": null,
      "outputs": []
    },
    {
      "cell_type": "markdown",
      "source": [
        "Addestriamo e valutiamo il nostro modello."
      ],
      "metadata": {
        "id": "X4_4cM891Ln3"
      }
    },
    {
      "cell_type": "code",
      "source": [
        "fit_eval_tree(xgbm_model, X_xgbtrain, y_xgbtrain, X_xgbtest, y_xgbtest)"
      ],
      "metadata": {
        "colab": {
          "base_uri": "https://localhost:8080/"
        },
        "id": "H6jBS_rqm-xd",
        "outputId": "3aafe1d8-017d-40ce-b893-ec8dcb8b3eb3"
      },
      "execution_count": null,
      "outputs": [
        {
          "output_type": "stream",
          "name": "stdout",
          "text": [
            "[09:18:21] WARNING: ../src/learner.cc:767: \n",
            "Parameters: { \"verbose_eval\" } are not used.\n",
            "\n",
            "      MSE:       0.0460\n",
            "R-squared:       0.8784\n",
            "    RMSPE:       0.1477\n"
          ]
        }
      ]
    },
    {
      "cell_type": "markdown",
      "source": [
        "Da come si può notare dal risultato sovrastante, abbiamo un valore di $R^2$ pari a 0.87, un valore inferiore rispetto a `RandomForestRegressor` e `DecisionTreeRegressor` **senza boosting** di iper parametri. Diamo un occhio a come vengono pesati i valori. "
      ],
      "metadata": {
        "id": "X6EB9OTS1tBS"
      }
    },
    {
      "cell_type": "code",
      "source": [
        "pd.Series(xgbm.feature_importances_, index=X[num_vars_low].columns).sort_values(ascending=False)"
      ],
      "metadata": {
        "colab": {
          "base_uri": "https://localhost:8080/"
        },
        "id": "oar_hlQ9PnS7",
        "outputId": "8fa29a0c-b130-46cd-c865-dde36c04572a"
      },
      "execution_count": null,
      "outputs": [
        {
          "output_type": "execute_result",
          "data": {
            "text/plain": [
              "mean                      0.220781\n",
              "prolongued_dec            0.155105\n",
              "pct_short_variability     0.149150\n",
              "utherine_contract         0.089729\n",
              "severe_dec                0.070172\n",
              "pct_long_variability      0.067865\n",
              "mean_short_variability    0.051099\n",
              "heart_acc                 0.042989\n",
              "max                       0.030842\n",
              "mode                      0.029687\n",
              "min                       0.020239\n",
              "median                    0.017932\n",
              "nmax                      0.010811\n",
              "variance                  0.009119\n",
              "medical_baseline          0.007399\n",
              "mean_long_variability     0.006958\n",
              "foetal_move               0.006782\n",
              "end_instant               0.005085\n",
              "width                     0.004719\n",
              "start_instant             0.001962\n",
              "nzeros                    0.000864\n",
              "light_dec                 0.000710\n",
              "repetitive_dec            0.000000\n",
              "sisproto_baseline         0.000000\n",
              "dtype: float32"
            ]
          },
          "metadata": {},
          "execution_count": 132
        }
      ]
    },
    {
      "cell_type": "markdown",
      "source": [
        "Nel caso di `XGBoost` il parametro che viene pesato maggiormente è la colonna `mean`, mentre solamente due colonne vengono pesate con un valore pari a 0."
      ],
      "metadata": {
        "id": "WE_ZEt2kQKpq"
      }
    },
    {
      "cell_type": "markdown",
      "source": [
        "#### Boosting iper parametri\n",
        "Dal momento in cui che `XGBoost` ottiene valori peggiori rispetto ai modelli precedenti, proviamo a trovare il valore migliore per alcuni dei suoi *iper \n",
        "parametri*, scegliamo in particolare:\n",
        "* `n_estimators`\n",
        "* `max_depth`\n",
        "* `learning_rate`\n",
        "\n",
        "Da notare che passiamo valori specifici di `X_train` e `y_train`, dal momento in cui possiamo utilizzare solamente variabili numeriche.  "
      ],
      "metadata": {
        "id": "-vyNLQNE2Gsv"
      }
    },
    {
      "cell_type": "code",
      "execution_count": null,
      "metadata": {
        "colab": {
          "base_uri": "https://localhost:8080/"
        },
        "id": "liYS00yOR1IS",
        "outputId": "e172386a-df00-401f-9de4-f79ff87483df"
      },
      "outputs": [
        {
          "output_type": "stream",
          "name": "stdout",
          "text": [
            "             Migliori iperparametri per XGBoost : {'learning_rate': 0.1, 'max_depth': 3, 'n_estimators': 300}\n",
            "Punteggio medio di cross-validation per XGBoost :       0.9499\n",
            " \n",
            "\n"
          ]
        }
      ],
      "source": [
        "xgb_model = XGBClassifier()\n",
        "y_boosting = np.subtract(y_xgbtrain, 1)\n",
        "# Define the hyperparameters grid for grid search\n",
        "params_grid = {\n",
        "    'n_estimators': [100, 200, 300],\n",
        "    'max_depth': [3, 5],\n",
        "    'learning_rate': [0.1, 0.01, 0.001]\n",
        "}\n",
        "\n",
        "gscv = boosting_hyperparameters(classifier=xgb_model, params=params_grid, X_boosting=X_xgbtrain,  y_boosting=y_boosting, name=\"XGBoost\")"
      ]
    },
    {
      "cell_type": "markdown",
      "source": [
        "Dopo aver effettuato un **boosting**, otteniamo come valore ottimo 0.94, un valore inferiore rispetto ai modelli precedenti, ma va ricordato che **non** sono state utilizzate le variabili categoriche all'interno del dataframe. "
      ],
      "metadata": {
        "id": "JsZlHmyE22aL"
      }
    },
    {
      "cell_type": "markdown",
      "metadata": {
        "id": "9dwVxMDzPY4r"
      },
      "source": [
        "### CatBoosting"
      ]
    },
    {
      "cell_type": "code",
      "execution_count": null,
      "metadata": {
        "id": "z9qhODNZPkC1",
        "colab": {
          "base_uri": "https://localhost:8080/"
        },
        "outputId": "b1d98312-c556-4975-9308-9664a3a2bfed"
      },
      "outputs": [
        {
          "output_type": "stream",
          "name": "stdout",
          "text": [
            "Looking in indexes: https://pypi.org/simple, https://us-python.pkg.dev/colab-wheels/public/simple/\n",
            "Requirement already satisfied: catboost in /usr/local/lib/python3.10/dist-packages (1.2)\n",
            "Requirement already satisfied: graphviz in /usr/local/lib/python3.10/dist-packages (from catboost) (0.20.1)\n",
            "Requirement already satisfied: matplotlib in /usr/local/lib/python3.10/dist-packages (from catboost) (3.7.1)\n",
            "Requirement already satisfied: numpy>=1.16.0 in /usr/local/lib/python3.10/dist-packages (from catboost) (1.22.4)\n",
            "Requirement already satisfied: pandas>=0.24 in /usr/local/lib/python3.10/dist-packages (from catboost) (1.5.3)\n",
            "Requirement already satisfied: scipy in /usr/local/lib/python3.10/dist-packages (from catboost) (1.10.1)\n",
            "Requirement already satisfied: plotly in /usr/local/lib/python3.10/dist-packages (from catboost) (5.13.1)\n",
            "Requirement already satisfied: six in /usr/local/lib/python3.10/dist-packages (from catboost) (1.16.0)\n",
            "Requirement already satisfied: python-dateutil>=2.8.1 in /usr/local/lib/python3.10/dist-packages (from pandas>=0.24->catboost) (2.8.2)\n",
            "Requirement already satisfied: pytz>=2020.1 in /usr/local/lib/python3.10/dist-packages (from pandas>=0.24->catboost) (2022.7.1)\n",
            "Requirement already satisfied: contourpy>=1.0.1 in /usr/local/lib/python3.10/dist-packages (from matplotlib->catboost) (1.0.7)\n",
            "Requirement already satisfied: cycler>=0.10 in /usr/local/lib/python3.10/dist-packages (from matplotlib->catboost) (0.11.0)\n",
            "Requirement already satisfied: fonttools>=4.22.0 in /usr/local/lib/python3.10/dist-packages (from matplotlib->catboost) (4.39.3)\n",
            "Requirement already satisfied: kiwisolver>=1.0.1 in /usr/local/lib/python3.10/dist-packages (from matplotlib->catboost) (1.4.4)\n",
            "Requirement already satisfied: packaging>=20.0 in /usr/local/lib/python3.10/dist-packages (from matplotlib->catboost) (23.1)\n",
            "Requirement already satisfied: pillow>=6.2.0 in /usr/local/lib/python3.10/dist-packages (from matplotlib->catboost) (8.4.0)\n",
            "Requirement already satisfied: pyparsing>=2.3.1 in /usr/local/lib/python3.10/dist-packages (from matplotlib->catboost) (3.0.9)\n",
            "Requirement already satisfied: tenacity>=6.2.0 in /usr/local/lib/python3.10/dist-packages (from plotly->catboost) (8.2.2)\n"
          ]
        }
      ],
      "source": [
        "!pip install catboost"
      ]
    },
    {
      "cell_type": "markdown",
      "source": [
        "Come ultimo modello andiamo a testare `CatBoostRegressor`, un modello inferiore a `XGBoost` ma con l'unica differenza che *CatBoost* riesce a gestire le variabile categoriche. "
      ],
      "metadata": {
        "id": "4f-V1zLO3ifW"
      }
    },
    {
      "cell_type": "code",
      "execution_count": null,
      "metadata": {
        "colab": {
          "base_uri": "https://localhost:8080/"
        },
        "id": "4Vl3Aq9WPegE",
        "outputId": "fb0156bb-a0bf-4937-b35d-a473db9639c6"
      },
      "outputs": [
        {
          "output_type": "stream",
          "name": "stdout",
          "text": [
            " Le variabili categoriche all'interno del nostro modello sono: ['class', 'nsp', 'tendency']\n"
          ]
        }
      ],
      "source": [
        "from catboost import CatBoostRegressor, CatBoostClassifier\n",
        "print(f\" Le variabili categoriche all'interno del nostro modello sono: {cat_vars_low}\")"
      ]
    },
    {
      "cell_type": "markdown",
      "source": [
        "Inizializziamo il modello, andando a specificare il `random_state` , inoltre specifichiamo anche quali sono le variabili categoriche, attraverso il parametro `cat_features`. "
      ],
      "metadata": {
        "id": "ex29ZhyH4Bjo"
      }
    },
    {
      "cell_type": "code",
      "execution_count": null,
      "metadata": {
        "id": "kMTPRsqUPilp"
      },
      "outputs": [],
      "source": [
        "catbm = CatBoostRegressor(n_estimators=1926, cat_features=['class', 'tendency'], verbose=0)"
      ]
    },
    {
      "cell_type": "markdown",
      "source": [
        "Ora che abbiamo inizializzato la nostra classe, possiamo addestrare e successivamente validare il nostro modello."
      ],
      "metadata": {
        "id": "ln875MVS8Qvu"
      }
    },
    {
      "cell_type": "code",
      "source": [
        "fit_eval_tree(catbm, X_train, y_train, X_test, y_test)"
      ],
      "metadata": {
        "colab": {
          "base_uri": "https://localhost:8080/"
        },
        "id": "gbZB-dCMoBhm",
        "outputId": "c3efa85a-f165-4475-cfe8-6a819234bf26"
      },
      "execution_count": null,
      "outputs": [
        {
          "output_type": "stream",
          "name": "stdout",
          "text": [
            "      MSE:       0.0093\n",
            "R-squared:       0.9753\n",
            "    RMSPE:       0.0653\n"
          ]
        }
      ]
    },
    {
      "cell_type": "markdown",
      "source": [
        "Da come si può notare il nostro valore di $R^2$ tocca gia un valore di circa 0.97 senza aver eseguisto un **boosting** degli iper parametri. Guardiamo in che modo vengono pesate le fatuers"
      ],
      "metadata": {
        "id": "HqW9ezWl8kxH"
      }
    },
    {
      "cell_type": "code",
      "source": [
        "pd.Series(catbm.feature_importances_, index=X.columns).sort_values(ascending=False)"
      ],
      "metadata": {
        "colab": {
          "base_uri": "https://localhost:8080/"
        },
        "id": "c7JL3R45QahG",
        "outputId": "7164640d-673f-4b34-c6d5-2de2bb17718c"
      },
      "execution_count": null,
      "outputs": [
        {
          "output_type": "execute_result",
          "data": {
            "text/plain": [
              "class                     61.445438\n",
              "patho_flat_sinusoidal      7.838492\n",
              "largely_dec                7.838117\n",
              "suspect                    3.476232\n",
              "mean_short_variability     2.381874\n",
              "prolongued_dec             2.213237\n",
              "pct_long_variability       2.089637\n",
              "e                          1.258757\n",
              "mean                       1.098753\n",
              "variance                   1.032155\n",
              "mode                       0.916146\n",
              "calm_sleep                 0.760055\n",
              "median                     0.717928\n",
              "mean_long_variability      0.653449\n",
              "max                        0.618488\n",
              "min                        0.593319\n",
              "width                      0.562622\n",
              "sisproto_baseline          0.514478\n",
              "dec_pattern_vagal          0.514363\n",
              "pct_short_variability      0.511625\n",
              "end_instant                0.509484\n",
              "nmax                       0.392316\n",
              "foetal_move                0.387362\n",
              "light_dec                  0.345484\n",
              "medical_baseline           0.344608\n",
              "start_instant              0.303080\n",
              "utherine_contract          0.224560\n",
              "nzeros                     0.170778\n",
              "heart_acc                  0.124424\n",
              "tendency                   0.086886\n",
              "acc_pattern_stress         0.066881\n",
              "rem_sleep                  0.006093\n",
              "calm_vigilance             0.002778\n",
              "severe_dec                 0.000099\n",
              "repetitive_dec             0.000000\n",
              "active_vigilance           0.000000\n",
              "dtype: float64"
            ]
          },
          "metadata": {},
          "execution_count": 137
        }
      ]
    },
    {
      "cell_type": "markdown",
      "source": [
        "In questo caso invece, la variabile che viene maggiormente pesata è `class`. Proviamo ad osservare la struttura dell'albero appena realizzato."
      ],
      "metadata": {
        "id": "RutwuLHuQoMM"
      }
    },
    {
      "cell_type": "code",
      "source": [
        "catbm.plot_tree(tree_idx=0)"
      ],
      "metadata": {
        "colab": {
          "base_uri": "https://localhost:8080/",
          "height": 796
        },
        "id": "mu-J_FHc8_Q5",
        "outputId": "07154bc3-8627-4cc9-f41e-daf74bfad156"
      },
      "execution_count": null,
      "outputs": [
        {
          "output_type": "execute_result",
          "data": {
            "image/svg+xml": "<?xml version=\"1.0\" encoding=\"UTF-8\" standalone=\"no\"?>\n<!DOCTYPE svg PUBLIC \"-//W3C//DTD SVG 1.1//EN\"\n \"http://www.w3.org/Graphics/SVG/1.1/DTD/svg11.dtd\">\n<!-- Generated by graphviz version 2.43.0 (0)\n -->\n<!-- Title: %3 Pages: 1 -->\n<svg width=\"6298pt\" height=\"566pt\"\n viewBox=\"0.00 0.00 6298.00 566.00\" xmlns=\"http://www.w3.org/2000/svg\" xmlns:xlink=\"http://www.w3.org/1999/xlink\">\n<g id=\"graph0\" class=\"graph\" transform=\"scale(1 1) rotate(0) translate(4 562)\">\n<title>%3</title>\n<polygon fill=\"white\" stroke=\"transparent\" points=\"-4,4 -4,-562 6294,-562 6294,4 -4,4\"/>\n<!-- 0 -->\n<g id=\"node1\" class=\"node\">\n<title>0</title>\n<ellipse fill=\"none\" stroke=\"black\" cx=\"3091\" cy=\"-540\" rx=\"68.79\" ry=\"18\"/>\n<text text-anchor=\"middle\" x=\"3091\" y=\"-536.3\" font-family=\"Times,serif\" font-size=\"14.00\">17, value&gt;171.5</text>\n</g>\n<!-- 1 -->\n<g id=\"node2\" class=\"node\">\n<title>1</title>\n<ellipse fill=\"none\" stroke=\"black\" cx=\"2325\" cy=\"-453\" rx=\"59.59\" ry=\"18\"/>\n<text text-anchor=\"middle\" x=\"2325\" y=\"-449.3\" font-family=\"Times,serif\" font-size=\"14.00\">25, value&gt;0.5</text>\n</g>\n<!-- 0&#45;&gt;1 -->\n<g id=\"edge1\" class=\"edge\">\n<title>0&#45;&gt;1</title>\n<path fill=\"none\" stroke=\"black\" d=\"M3028.96,-532.12C2886.27,-516.28 2535.86,-477.4 2390.17,-461.23\"/>\n<polygon fill=\"black\" stroke=\"black\" points=\"2390.37,-457.73 2380.04,-460.11 2389.6,-464.69 2390.37,-457.73\"/>\n<text text-anchor=\"middle\" x=\"2762.5\" y=\"-492.8\" font-family=\"Times,serif\" font-size=\"14.00\">No</text>\n</g>\n<!-- 2 -->\n<g id=\"node3\" class=\"node\">\n<title>2</title>\n<ellipse fill=\"none\" stroke=\"black\" cx=\"3951\" cy=\"-453\" rx=\"59.59\" ry=\"18\"/>\n<text text-anchor=\"middle\" x=\"3951\" y=\"-449.3\" font-family=\"Times,serif\" font-size=\"14.00\">25, value&gt;0.5</text>\n</g>\n<!-- 0&#45;&gt;2 -->\n<g id=\"edge2\" class=\"edge\">\n<title>0&#45;&gt;2</title>\n<path fill=\"none\" stroke=\"black\" d=\"M3154.24,-532.75C3312.33,-517.12 3723.58,-476.48 3884.79,-460.54\"/>\n<polygon fill=\"black\" stroke=\"black\" points=\"3885.44,-464 3895.04,-459.53 3884.75,-457.03 3885.44,-464\"/>\n<text text-anchor=\"middle\" x=\"3583.5\" y=\"-492.8\" font-family=\"Times,serif\" font-size=\"14.00\">Yes</text>\n</g>\n<!-- 3 -->\n<g id=\"node4\" class=\"node\">\n<title>3</title>\n<ellipse fill=\"none\" stroke=\"black\" cx=\"1141\" cy=\"-366\" rx=\"68.79\" ry=\"18\"/>\n<text text-anchor=\"middle\" x=\"1141\" y=\"-362.3\" font-family=\"Times,serif\" font-size=\"14.00\">17, value&gt;180.5</text>\n</g>\n<!-- 1&#45;&gt;3 -->\n<g id=\"edge3\" class=\"edge\">\n<title>1&#45;&gt;3</title>\n<path fill=\"none\" stroke=\"black\" d=\"M2267.49,-447.87C2072.49,-433.87 1436.34,-388.2 1216.53,-372.42\"/>\n<polygon fill=\"black\" stroke=\"black\" points=\"1216.6,-368.92 1206.38,-371.69 1216.1,-375.9 1216.6,-368.92\"/>\n<text text-anchor=\"middle\" x=\"1812.5\" y=\"-405.8\" font-family=\"Times,serif\" font-size=\"14.00\">No</text>\n</g>\n<!-- 4 -->\n<g id=\"node5\" class=\"node\">\n<title>4</title>\n<ellipse fill=\"none\" stroke=\"black\" cx=\"2325\" cy=\"-366\" rx=\"68.79\" ry=\"18\"/>\n<text text-anchor=\"middle\" x=\"2325\" y=\"-362.3\" font-family=\"Times,serif\" font-size=\"14.00\">17, value&gt;180.5</text>\n</g>\n<!-- 1&#45;&gt;4 -->\n<g id=\"edge4\" class=\"edge\">\n<title>1&#45;&gt;4</title>\n<path fill=\"none\" stroke=\"black\" d=\"M2325,-434.8C2325,-423.16 2325,-407.55 2325,-394.24\"/>\n<polygon fill=\"black\" stroke=\"black\" points=\"2328.5,-394.18 2325,-384.18 2321.5,-394.18 2328.5,-394.18\"/>\n<text text-anchor=\"middle\" x=\"2335.5\" y=\"-405.8\" font-family=\"Times,serif\" font-size=\"14.00\">Yes</text>\n</g>\n<!-- 5 -->\n<g id=\"node6\" class=\"node\">\n<title>5</title>\n<ellipse fill=\"none\" stroke=\"black\" cx=\"3951\" cy=\"-366\" rx=\"68.79\" ry=\"18\"/>\n<text text-anchor=\"middle\" x=\"3951\" y=\"-362.3\" font-family=\"Times,serif\" font-size=\"14.00\">17, value&gt;180.5</text>\n</g>\n<!-- 2&#45;&gt;5 -->\n<g id=\"edge5\" class=\"edge\">\n<title>2&#45;&gt;5</title>\n<path fill=\"none\" stroke=\"black\" d=\"M3951,-434.8C3951,-423.16 3951,-407.55 3951,-394.24\"/>\n<polygon fill=\"black\" stroke=\"black\" points=\"3954.5,-394.18 3951,-384.18 3947.5,-394.18 3954.5,-394.18\"/>\n<text text-anchor=\"middle\" x=\"3959.5\" y=\"-405.8\" font-family=\"Times,serif\" font-size=\"14.00\">No</text>\n</g>\n<!-- 6 -->\n<g id=\"node7\" class=\"node\">\n<title>6</title>\n<ellipse fill=\"none\" stroke=\"black\" cx=\"5068\" cy=\"-366\" rx=\"68.79\" ry=\"18\"/>\n<text text-anchor=\"middle\" x=\"5068\" y=\"-362.3\" font-family=\"Times,serif\" font-size=\"14.00\">17, value&gt;180.5</text>\n</g>\n<!-- 2&#45;&gt;6 -->\n<g id=\"edge6\" class=\"edge\">\n<title>2&#45;&gt;6</title>\n<path fill=\"none\" stroke=\"black\" d=\"M4008.31,-447.64C4194.56,-433.47 4782.75,-388.71 4992.66,-372.73\"/>\n<polygon fill=\"black\" stroke=\"black\" points=\"4992.95,-376.22 5002.66,-371.97 4992.42,-369.24 4992.95,-376.22\"/>\n<text text-anchor=\"middle\" x=\"4587.5\" y=\"-405.8\" font-family=\"Times,serif\" font-size=\"14.00\">Yes</text>\n</g>\n<!-- 7 -->\n<g id=\"node8\" class=\"node\">\n<title>7</title>\n<ellipse fill=\"none\" stroke=\"black\" cx=\"559\" cy=\"-279\" rx=\"59.59\" ry=\"18\"/>\n<text text-anchor=\"middle\" x=\"559\" y=\"-275.3\" font-family=\"Times,serif\" font-size=\"14.00\">9, value&gt;67.5</text>\n</g>\n<!-- 3&#45;&gt;7 -->\n<g id=\"edge7\" class=\"edge\">\n<title>3&#45;&gt;7</title>\n<path fill=\"none\" stroke=\"black\" d=\"M1082.53,-356.46C972.29,-340.36 734.62,-305.65 621.41,-289.12\"/>\n<polygon fill=\"black\" stroke=\"black\" points=\"621.91,-285.65 611.51,-287.67 620.9,-292.58 621.91,-285.65\"/>\n<text text-anchor=\"middle\" x=\"893.5\" y=\"-318.8\" font-family=\"Times,serif\" font-size=\"14.00\">No</text>\n</g>\n<!-- 8 -->\n<g id=\"node9\" class=\"node\">\n<title>8</title>\n<ellipse fill=\"none\" stroke=\"black\" cx=\"1141\" cy=\"-279\" rx=\"59.59\" ry=\"18\"/>\n<text text-anchor=\"middle\" x=\"1141\" y=\"-275.3\" font-family=\"Times,serif\" font-size=\"14.00\">9, value&gt;67.5</text>\n</g>\n<!-- 3&#45;&gt;8 -->\n<g id=\"edge8\" class=\"edge\">\n<title>3&#45;&gt;8</title>\n<path fill=\"none\" stroke=\"black\" d=\"M1141,-347.8C1141,-336.16 1141,-320.55 1141,-307.24\"/>\n<polygon fill=\"black\" stroke=\"black\" points=\"1144.5,-307.18 1141,-297.18 1137.5,-307.18 1144.5,-307.18\"/>\n<text text-anchor=\"middle\" x=\"1151.5\" y=\"-318.8\" font-family=\"Times,serif\" font-size=\"14.00\">Yes</text>\n</g>\n<!-- 9 -->\n<g id=\"node10\" class=\"node\">\n<title>9</title>\n<ellipse fill=\"none\" stroke=\"black\" cx=\"2163\" cy=\"-279\" rx=\"59.59\" ry=\"18\"/>\n<text text-anchor=\"middle\" x=\"2163\" y=\"-275.3\" font-family=\"Times,serif\" font-size=\"14.00\">9, value&gt;67.5</text>\n</g>\n<!-- 4&#45;&gt;9 -->\n<g id=\"edge9\" class=\"edge\">\n<title>4&#45;&gt;9</title>\n<path fill=\"none\" stroke=\"black\" d=\"M2295.66,-349.61C2269.01,-335.62 2229.54,-314.91 2200.58,-299.72\"/>\n<polygon fill=\"black\" stroke=\"black\" points=\"2202.06,-296.54 2191.57,-294.99 2198.8,-302.74 2202.06,-296.54\"/>\n<text text-anchor=\"middle\" x=\"2262.5\" y=\"-318.8\" font-family=\"Times,serif\" font-size=\"14.00\">No</text>\n</g>\n<!-- 10 -->\n<g id=\"node11\" class=\"node\">\n<title>10</title>\n<ellipse fill=\"none\" stroke=\"black\" cx=\"2563\" cy=\"-279\" rx=\"59.59\" ry=\"18\"/>\n<text text-anchor=\"middle\" x=\"2563\" y=\"-275.3\" font-family=\"Times,serif\" font-size=\"14.00\">9, value&gt;67.5</text>\n</g>\n<!-- 4&#45;&gt;10 -->\n<g id=\"edge10\" class=\"edge\">\n<title>4&#45;&gt;10</title>\n<path fill=\"none\" stroke=\"black\" d=\"M2364.03,-351.06C2405.72,-336.17 2471.77,-312.58 2516.21,-296.71\"/>\n<polygon fill=\"black\" stroke=\"black\" points=\"2517.66,-299.91 2525.9,-293.25 2515.31,-293.32 2517.66,-299.91\"/>\n<text text-anchor=\"middle\" x=\"2469.5\" y=\"-318.8\" font-family=\"Times,serif\" font-size=\"14.00\">Yes</text>\n</g>\n<!-- 11 -->\n<g id=\"node12\" class=\"node\">\n<title>11</title>\n<ellipse fill=\"none\" stroke=\"black\" cx=\"3723\" cy=\"-279\" rx=\"59.59\" ry=\"18\"/>\n<text text-anchor=\"middle\" x=\"3723\" y=\"-275.3\" font-family=\"Times,serif\" font-size=\"14.00\">9, value&gt;67.5</text>\n</g>\n<!-- 5&#45;&gt;11 -->\n<g id=\"edge11\" class=\"edge\">\n<title>5&#45;&gt;11</title>\n<path fill=\"none\" stroke=\"black\" d=\"M3913.09,-350.87C3873.39,-336.07 3811.01,-312.81 3768.63,-297.01\"/>\n<polygon fill=\"black\" stroke=\"black\" points=\"3769.71,-293.68 3759.11,-293.46 3767.26,-300.24 3769.71,-293.68\"/>\n<text text-anchor=\"middle\" x=\"3859.5\" y=\"-318.8\" font-family=\"Times,serif\" font-size=\"14.00\">No</text>\n</g>\n<!-- 12 -->\n<g id=\"node13\" class=\"node\">\n<title>12</title>\n<ellipse fill=\"none\" stroke=\"black\" cx=\"4199\" cy=\"-279\" rx=\"59.59\" ry=\"18\"/>\n<text text-anchor=\"middle\" x=\"4199\" y=\"-275.3\" font-family=\"Times,serif\" font-size=\"14.00\">9, value&gt;67.5</text>\n</g>\n<!-- 5&#45;&gt;12 -->\n<g id=\"edge12\" class=\"edge\">\n<title>5&#45;&gt;12</title>\n<path fill=\"none\" stroke=\"black\" d=\"M3991.12,-351.25C4034.89,-336.25 4104.91,-312.25 4151.42,-296.31\"/>\n<polygon fill=\"black\" stroke=\"black\" points=\"4152.65,-299.59 4160.97,-293.03 4150.38,-292.97 4152.65,-299.59\"/>\n<text text-anchor=\"middle\" x=\"4100.5\" y=\"-318.8\" font-family=\"Times,serif\" font-size=\"14.00\">Yes</text>\n</g>\n<!-- 13 -->\n<g id=\"node14\" class=\"node\">\n<title>13</title>\n<ellipse fill=\"none\" stroke=\"black\" cx=\"5068\" cy=\"-279\" rx=\"59.59\" ry=\"18\"/>\n<text text-anchor=\"middle\" x=\"5068\" y=\"-275.3\" font-family=\"Times,serif\" font-size=\"14.00\">9, value&gt;67.5</text>\n</g>\n<!-- 6&#45;&gt;13 -->\n<g id=\"edge13\" class=\"edge\">\n<title>6&#45;&gt;13</title>\n<path fill=\"none\" stroke=\"black\" d=\"M5068,-347.8C5068,-336.16 5068,-320.55 5068,-307.24\"/>\n<polygon fill=\"black\" stroke=\"black\" points=\"5071.5,-307.18 5068,-297.18 5064.5,-307.18 5071.5,-307.18\"/>\n<text text-anchor=\"middle\" x=\"5076.5\" y=\"-318.8\" font-family=\"Times,serif\" font-size=\"14.00\">No</text>\n</g>\n<!-- 14 -->\n<g id=\"node15\" class=\"node\">\n<title>14</title>\n<ellipse fill=\"none\" stroke=\"black\" cx=\"5674\" cy=\"-279\" rx=\"59.59\" ry=\"18\"/>\n<text text-anchor=\"middle\" x=\"5674\" y=\"-275.3\" font-family=\"Times,serif\" font-size=\"14.00\">9, value&gt;67.5</text>\n</g>\n<!-- 6&#45;&gt;14 -->\n<g id=\"edge14\" class=\"edge\">\n<title>6&#45;&gt;14</title>\n<path fill=\"none\" stroke=\"black\" d=\"M5127.21,-356.7C5241.95,-340.6 5493.62,-305.3 5611.17,-288.81\"/>\n<polygon fill=\"black\" stroke=\"black\" points=\"5611.69,-292.27 5621.11,-287.42 5610.72,-285.34 5611.69,-292.27\"/>\n<text text-anchor=\"middle\" x=\"5418.5\" y=\"-318.8\" font-family=\"Times,serif\" font-size=\"14.00\">Yes</text>\n</g>\n<!-- 15 -->\n<g id=\"node16\" class=\"node\">\n<title>15</title>\n<ellipse fill=\"none\" stroke=\"black\" cx=\"307\" cy=\"-192\" rx=\"59.59\" ry=\"18\"/>\n<text text-anchor=\"middle\" x=\"307\" y=\"-188.3\" font-family=\"Times,serif\" font-size=\"14.00\">8, value&gt;0.55</text>\n</g>\n<!-- 7&#45;&gt;15 -->\n<g id=\"edge15\" class=\"edge\">\n<title>7&#45;&gt;15</title>\n<path fill=\"none\" stroke=\"black\" d=\"M520.73,-265.09C476.29,-250.1 402.94,-225.36 354.79,-209.12\"/>\n<polygon fill=\"black\" stroke=\"black\" points=\"355.81,-205.77 345.22,-205.89 353.58,-212.4 355.81,-205.77\"/>\n<text text-anchor=\"middle\" x=\"457.5\" y=\"-231.8\" font-family=\"Times,serif\" font-size=\"14.00\">No</text>\n</g>\n<!-- 16 -->\n<g id=\"node17\" class=\"node\">\n<title>16</title>\n<ellipse fill=\"none\" stroke=\"black\" cx=\"559\" cy=\"-192\" rx=\"59.59\" ry=\"18\"/>\n<text text-anchor=\"middle\" x=\"559\" y=\"-188.3\" font-family=\"Times,serif\" font-size=\"14.00\">8, value&gt;0.55</text>\n</g>\n<!-- 7&#45;&gt;16 -->\n<g id=\"edge16\" class=\"edge\">\n<title>7&#45;&gt;16</title>\n<path fill=\"none\" stroke=\"black\" d=\"M559,-260.8C559,-249.16 559,-233.55 559,-220.24\"/>\n<polygon fill=\"black\" stroke=\"black\" points=\"562.5,-220.18 559,-210.18 555.5,-220.18 562.5,-220.18\"/>\n<text text-anchor=\"middle\" x=\"569.5\" y=\"-231.8\" font-family=\"Times,serif\" font-size=\"14.00\">Yes</text>\n</g>\n<!-- 17 -->\n<g id=\"node18\" class=\"node\">\n<title>17</title>\n<ellipse fill=\"none\" stroke=\"black\" cx=\"1093\" cy=\"-192\" rx=\"59.59\" ry=\"18\"/>\n<text text-anchor=\"middle\" x=\"1093\" y=\"-188.3\" font-family=\"Times,serif\" font-size=\"14.00\">8, value&gt;0.55</text>\n</g>\n<!-- 8&#45;&gt;17 -->\n<g id=\"edge17\" class=\"edge\">\n<title>8&#45;&gt;17</title>\n<path fill=\"none\" stroke=\"black\" d=\"M1131.52,-261.21C1124.72,-249.18 1115.45,-232.75 1107.7,-219.03\"/>\n<polygon fill=\"black\" stroke=\"black\" points=\"1110.59,-217.04 1102.63,-210.05 1104.5,-220.48 1110.59,-217.04\"/>\n<text text-anchor=\"middle\" x=\"1128.5\" y=\"-231.8\" font-family=\"Times,serif\" font-size=\"14.00\">No</text>\n</g>\n<!-- 18 -->\n<g id=\"node19\" class=\"node\">\n<title>18</title>\n<ellipse fill=\"none\" stroke=\"black\" cx=\"1262\" cy=\"-192\" rx=\"59.59\" ry=\"18\"/>\n<text text-anchor=\"middle\" x=\"1262\" y=\"-188.3\" font-family=\"Times,serif\" font-size=\"14.00\">8, value&gt;0.55</text>\n</g>\n<!-- 8&#45;&gt;18 -->\n<g id=\"edge18\" class=\"edge\">\n<title>8&#45;&gt;18</title>\n<path fill=\"none\" stroke=\"black\" d=\"M1163.48,-262.21C1182.58,-248.79 1210.18,-229.4 1231.32,-214.55\"/>\n<polygon fill=\"black\" stroke=\"black\" points=\"1233.47,-217.32 1239.64,-208.7 1229.45,-211.59 1233.47,-217.32\"/>\n<text text-anchor=\"middle\" x=\"1219.5\" y=\"-231.8\" font-family=\"Times,serif\" font-size=\"14.00\">Yes</text>\n</g>\n<!-- 19 -->\n<g id=\"node20\" class=\"node\">\n<title>19</title>\n<ellipse fill=\"none\" stroke=\"black\" cx=\"1883\" cy=\"-192\" rx=\"59.59\" ry=\"18\"/>\n<text text-anchor=\"middle\" x=\"1883\" y=\"-188.3\" font-family=\"Times,serif\" font-size=\"14.00\">8, value&gt;0.55</text>\n</g>\n<!-- 9&#45;&gt;19 -->\n<g id=\"edge19\" class=\"edge\">\n<title>9&#45;&gt;19</title>\n<path fill=\"none\" stroke=\"black\" d=\"M2122.58,-265.73C2072.68,-250.58 1987.79,-224.81 1933.6,-208.36\"/>\n<polygon fill=\"black\" stroke=\"black\" points=\"1934.44,-204.96 1923.86,-205.4 1932.41,-211.66 1934.44,-204.96\"/>\n<text text-anchor=\"middle\" x=\"2048.5\" y=\"-231.8\" font-family=\"Times,serif\" font-size=\"14.00\">No</text>\n</g>\n<!-- 20 -->\n<g id=\"node21\" class=\"node\">\n<title>20</title>\n<ellipse fill=\"none\" stroke=\"black\" cx=\"2163\" cy=\"-192\" rx=\"59.59\" ry=\"18\"/>\n<text text-anchor=\"middle\" x=\"2163\" y=\"-188.3\" font-family=\"Times,serif\" font-size=\"14.00\">8, value&gt;0.55</text>\n</g>\n<!-- 9&#45;&gt;20 -->\n<g id=\"edge20\" class=\"edge\">\n<title>9&#45;&gt;20</title>\n<path fill=\"none\" stroke=\"black\" d=\"M2163,-260.8C2163,-249.16 2163,-233.55 2163,-220.24\"/>\n<polygon fill=\"black\" stroke=\"black\" points=\"2166.5,-220.18 2163,-210.18 2159.5,-220.18 2166.5,-220.18\"/>\n<text text-anchor=\"middle\" x=\"2173.5\" y=\"-231.8\" font-family=\"Times,serif\" font-size=\"14.00\">Yes</text>\n</g>\n<!-- 21 -->\n<g id=\"node22\" class=\"node\">\n<title>21</title>\n<ellipse fill=\"none\" stroke=\"black\" cx=\"2563\" cy=\"-192\" rx=\"59.59\" ry=\"18\"/>\n<text text-anchor=\"middle\" x=\"2563\" y=\"-188.3\" font-family=\"Times,serif\" font-size=\"14.00\">8, value&gt;0.55</text>\n</g>\n<!-- 10&#45;&gt;21 -->\n<g id=\"edge21\" class=\"edge\">\n<title>10&#45;&gt;21</title>\n<path fill=\"none\" stroke=\"black\" d=\"M2563,-260.8C2563,-249.16 2563,-233.55 2563,-220.24\"/>\n<polygon fill=\"black\" stroke=\"black\" points=\"2566.5,-220.18 2563,-210.18 2559.5,-220.18 2566.5,-220.18\"/>\n<text text-anchor=\"middle\" x=\"2571.5\" y=\"-231.8\" font-family=\"Times,serif\" font-size=\"14.00\">No</text>\n</g>\n<!-- 22 -->\n<g id=\"node23\" class=\"node\">\n<title>22</title>\n<ellipse fill=\"none\" stroke=\"black\" cx=\"2829\" cy=\"-192\" rx=\"59.59\" ry=\"18\"/>\n<text text-anchor=\"middle\" x=\"2829\" y=\"-188.3\" font-family=\"Times,serif\" font-size=\"14.00\">8, value&gt;0.55</text>\n</g>\n<!-- 10&#45;&gt;22 -->\n<g id=\"edge22\" class=\"edge\">\n<title>10&#45;&gt;22</title>\n<path fill=\"none\" stroke=\"black\" d=\"M2602.54,-265.37C2649.75,-250.28 2728.75,-225.04 2779.85,-208.71\"/>\n<polygon fill=\"black\" stroke=\"black\" points=\"2781.22,-211.94 2789.68,-205.56 2779.09,-205.27 2781.22,-211.94\"/>\n<text text-anchor=\"middle\" x=\"2722.5\" y=\"-231.8\" font-family=\"Times,serif\" font-size=\"14.00\">Yes</text>\n</g>\n<!-- 23 -->\n<g id=\"node24\" class=\"node\">\n<title>23</title>\n<ellipse fill=\"none\" stroke=\"black\" cx=\"3459\" cy=\"-192\" rx=\"59.59\" ry=\"18\"/>\n<text text-anchor=\"middle\" x=\"3459\" y=\"-188.3\" font-family=\"Times,serif\" font-size=\"14.00\">8, value&gt;0.55</text>\n</g>\n<!-- 11&#45;&gt;23 -->\n<g id=\"edge23\" class=\"edge\">\n<title>11&#45;&gt;23</title>\n<path fill=\"none\" stroke=\"black\" d=\"M3683.76,-265.37C3637.03,-250.32 3558.95,-225.18 3508.22,-208.85\"/>\n<polygon fill=\"black\" stroke=\"black\" points=\"3509.05,-205.44 3498.45,-205.7 3506.9,-212.1 3509.05,-205.44\"/>\n<text text-anchor=\"middle\" x=\"3615.5\" y=\"-231.8\" font-family=\"Times,serif\" font-size=\"14.00\">No</text>\n</g>\n<!-- 24 -->\n<g id=\"node25\" class=\"node\">\n<title>24</title>\n<ellipse fill=\"none\" stroke=\"black\" cx=\"3723\" cy=\"-192\" rx=\"59.59\" ry=\"18\"/>\n<text text-anchor=\"middle\" x=\"3723\" y=\"-188.3\" font-family=\"Times,serif\" font-size=\"14.00\">8, value&gt;0.55</text>\n</g>\n<!-- 11&#45;&gt;24 -->\n<g id=\"edge24\" class=\"edge\">\n<title>11&#45;&gt;24</title>\n<path fill=\"none\" stroke=\"black\" d=\"M3723,-260.8C3723,-249.16 3723,-233.55 3723,-220.24\"/>\n<polygon fill=\"black\" stroke=\"black\" points=\"3726.5,-220.18 3723,-210.18 3719.5,-220.18 3726.5,-220.18\"/>\n<text text-anchor=\"middle\" x=\"3733.5\" y=\"-231.8\" font-family=\"Times,serif\" font-size=\"14.00\">Yes</text>\n</g>\n<!-- 25 -->\n<g id=\"node26\" class=\"node\">\n<title>25</title>\n<ellipse fill=\"none\" stroke=\"black\" cx=\"4199\" cy=\"-192\" rx=\"59.59\" ry=\"18\"/>\n<text text-anchor=\"middle\" x=\"4199\" y=\"-188.3\" font-family=\"Times,serif\" font-size=\"14.00\">8, value&gt;0.55</text>\n</g>\n<!-- 12&#45;&gt;25 -->\n<g id=\"edge25\" class=\"edge\">\n<title>12&#45;&gt;25</title>\n<path fill=\"none\" stroke=\"black\" d=\"M4199,-260.8C4199,-249.16 4199,-233.55 4199,-220.24\"/>\n<polygon fill=\"black\" stroke=\"black\" points=\"4202.5,-220.18 4199,-210.18 4195.5,-220.18 4202.5,-220.18\"/>\n<text text-anchor=\"middle\" x=\"4207.5\" y=\"-231.8\" font-family=\"Times,serif\" font-size=\"14.00\">No</text>\n</g>\n<!-- 26 -->\n<g id=\"node27\" class=\"node\">\n<title>26</title>\n<ellipse fill=\"none\" stroke=\"black\" cx=\"4405\" cy=\"-192\" rx=\"59.59\" ry=\"18\"/>\n<text text-anchor=\"middle\" x=\"4405\" y=\"-188.3\" font-family=\"Times,serif\" font-size=\"14.00\">8, value&gt;0.55</text>\n</g>\n<!-- 12&#45;&gt;26 -->\n<g id=\"edge26\" class=\"edge\">\n<title>12&#45;&gt;26</title>\n<path fill=\"none\" stroke=\"black\" d=\"M4233.02,-263.96C4268.31,-249.4 4323.6,-226.59 4361.92,-210.78\"/>\n<polygon fill=\"black\" stroke=\"black\" points=\"4363.37,-213.97 4371.28,-206.92 4360.7,-207.49 4363.37,-213.97\"/>\n<text text-anchor=\"middle\" x=\"4325.5\" y=\"-231.8\" font-family=\"Times,serif\" font-size=\"14.00\">Yes</text>\n</g>\n<!-- 27 -->\n<g id=\"node28\" class=\"node\">\n<title>27</title>\n<ellipse fill=\"none\" stroke=\"black\" cx=\"5039\" cy=\"-192\" rx=\"59.59\" ry=\"18\"/>\n<text text-anchor=\"middle\" x=\"5039\" y=\"-188.3\" font-family=\"Times,serif\" font-size=\"14.00\">8, value&gt;0.55</text>\n</g>\n<!-- 13&#45;&gt;27 -->\n<g id=\"edge27\" class=\"edge\">\n<title>13&#45;&gt;27</title>\n<path fill=\"none\" stroke=\"black\" d=\"M5062.13,-260.8C5058.12,-249.05 5052.73,-233.24 5048.16,-219.84\"/>\n<polygon fill=\"black\" stroke=\"black\" points=\"5051.4,-218.51 5044.86,-210.18 5044.78,-220.77 5051.4,-218.51\"/>\n<text text-anchor=\"middle\" x=\"5064.5\" y=\"-231.8\" font-family=\"Times,serif\" font-size=\"14.00\">No</text>\n</g>\n<!-- 28 -->\n<g id=\"node29\" class=\"node\">\n<title>28</title>\n<ellipse fill=\"none\" stroke=\"black\" cx=\"5216\" cy=\"-192\" rx=\"59.59\" ry=\"18\"/>\n<text text-anchor=\"middle\" x=\"5216\" y=\"-188.3\" font-family=\"Times,serif\" font-size=\"14.00\">8, value&gt;0.55</text>\n</g>\n<!-- 13&#45;&gt;28 -->\n<g id=\"edge28\" class=\"edge\">\n<title>13&#45;&gt;28</title>\n<path fill=\"none\" stroke=\"black\" d=\"M5094.46,-262.8C5118.41,-249.05 5153.88,-228.68 5180.33,-213.49\"/>\n<polygon fill=\"black\" stroke=\"black\" points=\"5182.34,-216.37 5189.27,-208.35 5178.86,-210.3 5182.34,-216.37\"/>\n<text text-anchor=\"middle\" x=\"5161.5\" y=\"-231.8\" font-family=\"Times,serif\" font-size=\"14.00\">Yes</text>\n</g>\n<!-- 29 -->\n<g id=\"node30\" class=\"node\">\n<title>29</title>\n<ellipse fill=\"none\" stroke=\"black\" cx=\"5674\" cy=\"-192\" rx=\"59.59\" ry=\"18\"/>\n<text text-anchor=\"middle\" x=\"5674\" y=\"-188.3\" font-family=\"Times,serif\" font-size=\"14.00\">8, value&gt;0.55</text>\n</g>\n<!-- 14&#45;&gt;29 -->\n<g id=\"edge29\" class=\"edge\">\n<title>14&#45;&gt;29</title>\n<path fill=\"none\" stroke=\"black\" d=\"M5674,-260.8C5674,-249.16 5674,-233.55 5674,-220.24\"/>\n<polygon fill=\"black\" stroke=\"black\" points=\"5677.5,-220.18 5674,-210.18 5670.5,-220.18 5677.5,-220.18\"/>\n<text text-anchor=\"middle\" x=\"5682.5\" y=\"-231.8\" font-family=\"Times,serif\" font-size=\"14.00\">No</text>\n</g>\n<!-- 30 -->\n<g id=\"node31\" class=\"node\">\n<title>30</title>\n<ellipse fill=\"none\" stroke=\"black\" cx=\"5985\" cy=\"-192\" rx=\"59.59\" ry=\"18\"/>\n<text text-anchor=\"middle\" x=\"5985\" y=\"-188.3\" font-family=\"Times,serif\" font-size=\"14.00\">8, value&gt;0.55</text>\n</g>\n<!-- 14&#45;&gt;30 -->\n<g id=\"edge30\" class=\"edge\">\n<title>14&#45;&gt;30</title>\n<path fill=\"none\" stroke=\"black\" d=\"M5716.59,-266.36C5772.69,-251.03 5871.33,-224.07 5932.14,-207.45\"/>\n<polygon fill=\"black\" stroke=\"black\" points=\"5933.2,-210.79 5941.93,-204.77 5931.36,-204.03 5933.2,-210.79\"/>\n<text text-anchor=\"middle\" x=\"5859.5\" y=\"-231.8\" font-family=\"Times,serif\" font-size=\"14.00\">Yes</text>\n</g>\n<!-- 31 -->\n<g id=\"node32\" class=\"node\">\n<title>31</title>\n<ellipse fill=\"none\" stroke=\"black\" cx=\"138\" cy=\"-105\" rx=\"59.59\" ry=\"18\"/>\n<text text-anchor=\"middle\" x=\"138\" y=\"-101.3\" font-family=\"Times,serif\" font-size=\"14.00\">32, value&gt;0.5</text>\n</g>\n<!-- 15&#45;&gt;31 -->\n<g id=\"edge31\" class=\"edge\">\n<title>15&#45;&gt;31</title>\n<path fill=\"none\" stroke=\"black\" d=\"M277.56,-176.19C249.54,-162.1 207.2,-140.8 176.51,-125.37\"/>\n<polygon fill=\"black\" stroke=\"black\" points=\"177.89,-122.15 167.38,-120.78 174.74,-128.4 177.89,-122.15\"/>\n<text text-anchor=\"middle\" x=\"241.5\" y=\"-144.8\" font-family=\"Times,serif\" font-size=\"14.00\">No</text>\n</g>\n<!-- 32 -->\n<g id=\"node33\" class=\"node\">\n<title>32</title>\n<ellipse fill=\"none\" stroke=\"black\" cx=\"307\" cy=\"-105\" rx=\"59.59\" ry=\"18\"/>\n<text text-anchor=\"middle\" x=\"307\" y=\"-101.3\" font-family=\"Times,serif\" font-size=\"14.00\">32, value&gt;0.5</text>\n</g>\n<!-- 15&#45;&gt;32 -->\n<g id=\"edge32\" class=\"edge\">\n<title>15&#45;&gt;32</title>\n<path fill=\"none\" stroke=\"black\" d=\"M307,-173.8C307,-162.16 307,-146.55 307,-133.24\"/>\n<polygon fill=\"black\" stroke=\"black\" points=\"310.5,-133.18 307,-123.18 303.5,-133.18 310.5,-133.18\"/>\n<text text-anchor=\"middle\" x=\"317.5\" y=\"-144.8\" font-family=\"Times,serif\" font-size=\"14.00\">Yes</text>\n</g>\n<!-- 33 -->\n<g id=\"node34\" class=\"node\">\n<title>33</title>\n<ellipse fill=\"none\" stroke=\"black\" cx=\"514\" cy=\"-105\" rx=\"59.59\" ry=\"18\"/>\n<text text-anchor=\"middle\" x=\"514\" y=\"-101.3\" font-family=\"Times,serif\" font-size=\"14.00\">32, value&gt;0.5</text>\n</g>\n<!-- 16&#45;&gt;33 -->\n<g id=\"edge33\" class=\"edge\">\n<title>16&#45;&gt;33</title>\n<path fill=\"none\" stroke=\"black\" d=\"M549.89,-173.8C543.51,-161.74 534.86,-145.4 527.65,-131.79\"/>\n<polygon fill=\"black\" stroke=\"black\" points=\"530.71,-130.09 522.94,-122.89 524.52,-133.36 530.71,-130.09\"/>\n<text text-anchor=\"middle\" x=\"548.5\" y=\"-144.8\" font-family=\"Times,serif\" font-size=\"14.00\">No</text>\n</g>\n<!-- 34 -->\n<g id=\"node35\" class=\"node\">\n<title>34</title>\n<ellipse fill=\"none\" stroke=\"black\" cx=\"652\" cy=\"-105\" rx=\"59.59\" ry=\"18\"/>\n<text text-anchor=\"middle\" x=\"652\" y=\"-101.3\" font-family=\"Times,serif\" font-size=\"14.00\">32, value&gt;0.5</text>\n</g>\n<!-- 16&#45;&gt;34 -->\n<g id=\"edge34\" class=\"edge\">\n<title>16&#45;&gt;34</title>\n<path fill=\"none\" stroke=\"black\" d=\"M576.93,-174.61C590.96,-161.79 610.64,-143.8 626.33,-129.46\"/>\n<polygon fill=\"black\" stroke=\"black\" points=\"629.1,-131.67 634.12,-122.34 624.38,-126.5 629.1,-131.67\"/>\n<text text-anchor=\"middle\" x=\"622.5\" y=\"-144.8\" font-family=\"Times,serif\" font-size=\"14.00\">Yes</text>\n</g>\n<!-- 35 -->\n<g id=\"node36\" class=\"node\">\n<title>35</title>\n<ellipse fill=\"none\" stroke=\"black\" cx=\"926\" cy=\"-105\" rx=\"59.59\" ry=\"18\"/>\n<text text-anchor=\"middle\" x=\"926\" y=\"-101.3\" font-family=\"Times,serif\" font-size=\"14.00\">32, value&gt;0.5</text>\n</g>\n<!-- 17&#45;&gt;35 -->\n<g id=\"edge35\" class=\"edge\">\n<title>17&#45;&gt;35</title>\n<path fill=\"none\" stroke=\"black\" d=\"M1063.91,-176.19C1036.22,-162.1 994.38,-140.8 964.05,-125.37\"/>\n<polygon fill=\"black\" stroke=\"black\" points=\"965.54,-122.2 955.04,-120.78 962.36,-128.43 965.54,-122.2\"/>\n<text text-anchor=\"middle\" x=\"1028.5\" y=\"-144.8\" font-family=\"Times,serif\" font-size=\"14.00\">No</text>\n</g>\n<!-- 36 -->\n<g id=\"node37\" class=\"node\">\n<title>36</title>\n<ellipse fill=\"none\" stroke=\"black\" cx=\"1093\" cy=\"-105\" rx=\"59.59\" ry=\"18\"/>\n<text text-anchor=\"middle\" x=\"1093\" y=\"-101.3\" font-family=\"Times,serif\" font-size=\"14.00\">32, value&gt;0.5</text>\n</g>\n<!-- 17&#45;&gt;36 -->\n<g id=\"edge36\" class=\"edge\">\n<title>17&#45;&gt;36</title>\n<path fill=\"none\" stroke=\"black\" d=\"M1093,-173.8C1093,-162.16 1093,-146.55 1093,-133.24\"/>\n<polygon fill=\"black\" stroke=\"black\" points=\"1096.5,-133.18 1093,-123.18 1089.5,-133.18 1096.5,-133.18\"/>\n<text text-anchor=\"middle\" x=\"1103.5\" y=\"-144.8\" font-family=\"Times,serif\" font-size=\"14.00\">Yes</text>\n</g>\n<!-- 37 -->\n<g id=\"node38\" class=\"node\">\n<title>37</title>\n<ellipse fill=\"none\" stroke=\"black\" cx=\"1262\" cy=\"-105\" rx=\"59.59\" ry=\"18\"/>\n<text text-anchor=\"middle\" x=\"1262\" y=\"-101.3\" font-family=\"Times,serif\" font-size=\"14.00\">32, value&gt;0.5</text>\n</g>\n<!-- 18&#45;&gt;37 -->\n<g id=\"edge37\" class=\"edge\">\n<title>18&#45;&gt;37</title>\n<path fill=\"none\" stroke=\"black\" d=\"M1262,-173.8C1262,-162.16 1262,-146.55 1262,-133.24\"/>\n<polygon fill=\"black\" stroke=\"black\" points=\"1265.5,-133.18 1262,-123.18 1258.5,-133.18 1265.5,-133.18\"/>\n<text text-anchor=\"middle\" x=\"1270.5\" y=\"-144.8\" font-family=\"Times,serif\" font-size=\"14.00\">No</text>\n</g>\n<!-- 38 -->\n<g id=\"node39\" class=\"node\">\n<title>38</title>\n<ellipse fill=\"none\" stroke=\"black\" cx=\"1416\" cy=\"-105\" rx=\"59.59\" ry=\"18\"/>\n<text text-anchor=\"middle\" x=\"1416\" y=\"-101.3\" font-family=\"Times,serif\" font-size=\"14.00\">32, value&gt;0.5</text>\n</g>\n<!-- 18&#45;&gt;38 -->\n<g id=\"edge38\" class=\"edge\">\n<title>18&#45;&gt;38</title>\n<path fill=\"none\" stroke=\"black\" d=\"M1289.53,-175.8C1314.72,-161.9 1352.14,-141.25 1379.75,-126.01\"/>\n<polygon fill=\"black\" stroke=\"black\" points=\"1381.64,-128.96 1388.71,-121.06 1378.26,-122.83 1381.64,-128.96\"/>\n<text text-anchor=\"middle\" x=\"1359.5\" y=\"-144.8\" font-family=\"Times,serif\" font-size=\"14.00\">Yes</text>\n</g>\n<!-- 39 -->\n<g id=\"node40\" class=\"node\">\n<title>39</title>\n<ellipse fill=\"none\" stroke=\"black\" cx=\"1714\" cy=\"-105\" rx=\"59.59\" ry=\"18\"/>\n<text text-anchor=\"middle\" x=\"1714\" y=\"-101.3\" font-family=\"Times,serif\" font-size=\"14.00\">32, value&gt;0.5</text>\n</g>\n<!-- 19&#45;&gt;39 -->\n<g id=\"edge39\" class=\"edge\">\n<title>19&#45;&gt;39</title>\n<path fill=\"none\" stroke=\"black\" d=\"M1853.56,-176.19C1825.54,-162.1 1783.2,-140.8 1752.51,-125.37\"/>\n<polygon fill=\"black\" stroke=\"black\" points=\"1753.89,-122.15 1743.38,-120.78 1750.74,-128.4 1753.89,-122.15\"/>\n<text text-anchor=\"middle\" x=\"1817.5\" y=\"-144.8\" font-family=\"Times,serif\" font-size=\"14.00\">No</text>\n</g>\n<!-- 40 -->\n<g id=\"node41\" class=\"node\">\n<title>40</title>\n<ellipse fill=\"none\" stroke=\"black\" cx=\"1883\" cy=\"-105\" rx=\"59.59\" ry=\"18\"/>\n<text text-anchor=\"middle\" x=\"1883\" y=\"-101.3\" font-family=\"Times,serif\" font-size=\"14.00\">32, value&gt;0.5</text>\n</g>\n<!-- 19&#45;&gt;40 -->\n<g id=\"edge40\" class=\"edge\">\n<title>19&#45;&gt;40</title>\n<path fill=\"none\" stroke=\"black\" d=\"M1883,-173.8C1883,-162.16 1883,-146.55 1883,-133.24\"/>\n<polygon fill=\"black\" stroke=\"black\" points=\"1886.5,-133.18 1883,-123.18 1879.5,-133.18 1886.5,-133.18\"/>\n<text text-anchor=\"middle\" x=\"1893.5\" y=\"-144.8\" font-family=\"Times,serif\" font-size=\"14.00\">Yes</text>\n</g>\n<!-- 41 -->\n<g id=\"node42\" class=\"node\">\n<title>41</title>\n<ellipse fill=\"none\" stroke=\"black\" cx=\"2094\" cy=\"-105\" rx=\"59.59\" ry=\"18\"/>\n<text text-anchor=\"middle\" x=\"2094\" y=\"-101.3\" font-family=\"Times,serif\" font-size=\"14.00\">32, value&gt;0.5</text>\n</g>\n<!-- 20&#45;&gt;41 -->\n<g id=\"edge41\" class=\"edge\">\n<title>20&#45;&gt;41</title>\n<path fill=\"none\" stroke=\"black\" d=\"M2149.37,-174.21C2139.26,-161.75 2125.31,-144.57 2113.95,-130.57\"/>\n<polygon fill=\"black\" stroke=\"black\" points=\"2116.62,-128.32 2107.6,-122.76 2111.19,-132.73 2116.62,-128.32\"/>\n<text text-anchor=\"middle\" x=\"2141.5\" y=\"-144.8\" font-family=\"Times,serif\" font-size=\"14.00\">No</text>\n</g>\n<!-- 42 -->\n<g id=\"node43\" class=\"node\">\n<title>42</title>\n<ellipse fill=\"none\" stroke=\"black\" cx=\"2232\" cy=\"-105\" rx=\"59.59\" ry=\"18\"/>\n<text text-anchor=\"middle\" x=\"2232\" y=\"-101.3\" font-family=\"Times,serif\" font-size=\"14.00\">32, value&gt;0.5</text>\n</g>\n<!-- 20&#45;&gt;42 -->\n<g id=\"edge42\" class=\"edge\">\n<title>20&#45;&gt;42</title>\n<path fill=\"none\" stroke=\"black\" d=\"M2176.63,-174.21C2186.74,-161.75 2200.69,-144.57 2212.05,-130.57\"/>\n<polygon fill=\"black\" stroke=\"black\" points=\"2214.81,-132.73 2218.4,-122.76 2209.38,-128.32 2214.81,-132.73\"/>\n<text text-anchor=\"middle\" x=\"2212.5\" y=\"-144.8\" font-family=\"Times,serif\" font-size=\"14.00\">Yes</text>\n</g>\n<!-- 43 -->\n<g id=\"node44\" class=\"node\">\n<title>43</title>\n<ellipse fill=\"none\" stroke=\"black\" cx=\"2493\" cy=\"-105\" rx=\"59.59\" ry=\"18\"/>\n<text text-anchor=\"middle\" x=\"2493\" y=\"-101.3\" font-family=\"Times,serif\" font-size=\"14.00\">32, value&gt;0.5</text>\n</g>\n<!-- 21&#45;&gt;43 -->\n<g id=\"edge43\" class=\"edge\">\n<title>21&#45;&gt;43</title>\n<path fill=\"none\" stroke=\"black\" d=\"M2549.17,-174.21C2538.91,-161.75 2524.77,-144.57 2513.24,-130.57\"/>\n<polygon fill=\"black\" stroke=\"black\" points=\"2515.86,-128.25 2506.8,-122.76 2510.46,-132.7 2515.86,-128.25\"/>\n<text text-anchor=\"middle\" x=\"2541.5\" y=\"-144.8\" font-family=\"Times,serif\" font-size=\"14.00\">No</text>\n</g>\n<!-- 44 -->\n<g id=\"node45\" class=\"node\">\n<title>44</title>\n<ellipse fill=\"none\" stroke=\"black\" cx=\"2631\" cy=\"-105\" rx=\"59.59\" ry=\"18\"/>\n<text text-anchor=\"middle\" x=\"2631\" y=\"-101.3\" font-family=\"Times,serif\" font-size=\"14.00\">32, value&gt;0.5</text>\n</g>\n<!-- 21&#45;&gt;44 -->\n<g id=\"edge44\" class=\"edge\">\n<title>21&#45;&gt;44</title>\n<path fill=\"none\" stroke=\"black\" d=\"M2576.43,-174.21C2586.4,-161.75 2600.14,-144.57 2611.34,-130.57\"/>\n<polygon fill=\"black\" stroke=\"black\" points=\"2614.08,-132.75 2617.59,-122.76 2608.61,-128.38 2614.08,-132.75\"/>\n<text text-anchor=\"middle\" x=\"2612.5\" y=\"-144.8\" font-family=\"Times,serif\" font-size=\"14.00\">Yes</text>\n</g>\n<!-- 45 -->\n<g id=\"node46\" class=\"node\">\n<title>45</title>\n<ellipse fill=\"none\" stroke=\"black\" cx=\"2829\" cy=\"-105\" rx=\"59.59\" ry=\"18\"/>\n<text text-anchor=\"middle\" x=\"2829\" y=\"-101.3\" font-family=\"Times,serif\" font-size=\"14.00\">32, value&gt;0.5</text>\n</g>\n<!-- 22&#45;&gt;45 -->\n<g id=\"edge45\" class=\"edge\">\n<title>22&#45;&gt;45</title>\n<path fill=\"none\" stroke=\"black\" d=\"M2829,-173.8C2829,-162.16 2829,-146.55 2829,-133.24\"/>\n<polygon fill=\"black\" stroke=\"black\" points=\"2832.5,-133.18 2829,-123.18 2825.5,-133.18 2832.5,-133.18\"/>\n<text text-anchor=\"middle\" x=\"2837.5\" y=\"-144.8\" font-family=\"Times,serif\" font-size=\"14.00\">No</text>\n</g>\n<!-- 46 -->\n<g id=\"node47\" class=\"node\">\n<title>46</title>\n<ellipse fill=\"none\" stroke=\"black\" cx=\"2996\" cy=\"-105\" rx=\"59.59\" ry=\"18\"/>\n<text text-anchor=\"middle\" x=\"2996\" y=\"-101.3\" font-family=\"Times,serif\" font-size=\"14.00\">32, value&gt;0.5</text>\n</g>\n<!-- 22&#45;&gt;46 -->\n<g id=\"edge46\" class=\"edge\">\n<title>22&#45;&gt;46</title>\n<path fill=\"none\" stroke=\"black\" d=\"M2858.09,-176.19C2885.78,-162.1 2927.62,-140.8 2957.95,-125.37\"/>\n<polygon fill=\"black\" stroke=\"black\" points=\"2959.64,-128.43 2966.96,-120.78 2956.46,-122.2 2959.64,-128.43\"/>\n<text text-anchor=\"middle\" x=\"2933.5\" y=\"-144.8\" font-family=\"Times,serif\" font-size=\"14.00\">Yes</text>\n</g>\n<!-- 47 -->\n<g id=\"node48\" class=\"node\">\n<title>47</title>\n<ellipse fill=\"none\" stroke=\"black\" cx=\"3290\" cy=\"-105\" rx=\"59.59\" ry=\"18\"/>\n<text text-anchor=\"middle\" x=\"3290\" y=\"-101.3\" font-family=\"Times,serif\" font-size=\"14.00\">32, value&gt;0.5</text>\n</g>\n<!-- 23&#45;&gt;47 -->\n<g id=\"edge47\" class=\"edge\">\n<title>23&#45;&gt;47</title>\n<path fill=\"none\" stroke=\"black\" d=\"M3429.56,-176.19C3401.54,-162.1 3359.2,-140.8 3328.51,-125.37\"/>\n<polygon fill=\"black\" stroke=\"black\" points=\"3329.89,-122.15 3319.38,-120.78 3326.74,-128.4 3329.89,-122.15\"/>\n<text text-anchor=\"middle\" x=\"3393.5\" y=\"-144.8\" font-family=\"Times,serif\" font-size=\"14.00\">No</text>\n</g>\n<!-- 48 -->\n<g id=\"node49\" class=\"node\">\n<title>48</title>\n<ellipse fill=\"none\" stroke=\"black\" cx=\"3459\" cy=\"-105\" rx=\"59.59\" ry=\"18\"/>\n<text text-anchor=\"middle\" x=\"3459\" y=\"-101.3\" font-family=\"Times,serif\" font-size=\"14.00\">32, value&gt;0.5</text>\n</g>\n<!-- 23&#45;&gt;48 -->\n<g id=\"edge48\" class=\"edge\">\n<title>23&#45;&gt;48</title>\n<path fill=\"none\" stroke=\"black\" d=\"M3459,-173.8C3459,-162.16 3459,-146.55 3459,-133.24\"/>\n<polygon fill=\"black\" stroke=\"black\" points=\"3462.5,-133.18 3459,-123.18 3455.5,-133.18 3462.5,-133.18\"/>\n<text text-anchor=\"middle\" x=\"3469.5\" y=\"-144.8\" font-family=\"Times,serif\" font-size=\"14.00\">Yes</text>\n</g>\n<!-- 49 -->\n<g id=\"node50\" class=\"node\">\n<title>49</title>\n<ellipse fill=\"none\" stroke=\"black\" cx=\"3666\" cy=\"-105\" rx=\"59.59\" ry=\"18\"/>\n<text text-anchor=\"middle\" x=\"3666\" y=\"-101.3\" font-family=\"Times,serif\" font-size=\"14.00\">32, value&gt;0.5</text>\n</g>\n<!-- 24&#45;&gt;49 -->\n<g id=\"edge49\" class=\"edge\">\n<title>24&#45;&gt;49</title>\n<path fill=\"none\" stroke=\"black\" d=\"M3711.74,-174.21C3703.54,-161.98 3692.3,-145.21 3683.01,-131.36\"/>\n<polygon fill=\"black\" stroke=\"black\" points=\"3685.71,-129.11 3677.24,-122.76 3679.9,-133.01 3685.71,-129.11\"/>\n<text text-anchor=\"middle\" x=\"3706.5\" y=\"-144.8\" font-family=\"Times,serif\" font-size=\"14.00\">No</text>\n</g>\n<!-- 50 -->\n<g id=\"node51\" class=\"node\">\n<title>50</title>\n<ellipse fill=\"none\" stroke=\"black\" cx=\"3804\" cy=\"-105\" rx=\"59.59\" ry=\"18\"/>\n<text text-anchor=\"middle\" x=\"3804\" y=\"-101.3\" font-family=\"Times,serif\" font-size=\"14.00\">32, value&gt;0.5</text>\n</g>\n<!-- 24&#45;&gt;50 -->\n<g id=\"edge50\" class=\"edge\">\n<title>24&#45;&gt;50</title>\n<path fill=\"none\" stroke=\"black\" d=\"M3738.62,-174.61C3750.64,-161.99 3767.44,-144.36 3781,-130.13\"/>\n<polygon fill=\"black\" stroke=\"black\" points=\"3783.79,-132.28 3788.15,-122.63 3778.72,-127.45 3783.79,-132.28\"/>\n<text text-anchor=\"middle\" x=\"3779.5\" y=\"-144.8\" font-family=\"Times,serif\" font-size=\"14.00\">Yes</text>\n</g>\n<!-- 51 -->\n<g id=\"node52\" class=\"node\">\n<title>51</title>\n<ellipse fill=\"none\" stroke=\"black\" cx=\"4076\" cy=\"-105\" rx=\"59.59\" ry=\"18\"/>\n<text text-anchor=\"middle\" x=\"4076\" y=\"-101.3\" font-family=\"Times,serif\" font-size=\"14.00\">32, value&gt;0.5</text>\n</g>\n<!-- 25&#45;&gt;51 -->\n<g id=\"edge51\" class=\"edge\">\n<title>25&#45;&gt;51</title>\n<path fill=\"none\" stroke=\"black\" d=\"M4176.15,-175.21C4156.74,-161.79 4128.67,-142.4 4107.19,-127.55\"/>\n<polygon fill=\"black\" stroke=\"black\" points=\"4108.94,-124.51 4098.72,-121.7 4104.96,-130.27 4108.94,-124.51\"/>\n<text text-anchor=\"middle\" x=\"4153.5\" y=\"-144.8\" font-family=\"Times,serif\" font-size=\"14.00\">No</text>\n</g>\n<!-- 52 -->\n<g id=\"node53\" class=\"node\">\n<title>52</title>\n<ellipse fill=\"none\" stroke=\"black\" cx=\"4214\" cy=\"-105\" rx=\"59.59\" ry=\"18\"/>\n<text text-anchor=\"middle\" x=\"4214\" y=\"-101.3\" font-family=\"Times,serif\" font-size=\"14.00\">32, value&gt;0.5</text>\n</g>\n<!-- 25&#45;&gt;52 -->\n<g id=\"edge52\" class=\"edge\">\n<title>25&#45;&gt;52</title>\n<path fill=\"none\" stroke=\"black\" d=\"M4202.04,-173.8C4204.09,-162.16 4206.84,-146.55 4209.19,-133.24\"/>\n<polygon fill=\"black\" stroke=\"black\" points=\"4212.68,-133.63 4210.97,-123.18 4205.78,-132.41 4212.68,-133.63\"/>\n<text text-anchor=\"middle\" x=\"4218.5\" y=\"-144.8\" font-family=\"Times,serif\" font-size=\"14.00\">Yes</text>\n</g>\n<!-- 53 -->\n<g id=\"node54\" class=\"node\">\n<title>53</title>\n<ellipse fill=\"none\" stroke=\"black\" cx=\"4405\" cy=\"-105\" rx=\"59.59\" ry=\"18\"/>\n<text text-anchor=\"middle\" x=\"4405\" y=\"-101.3\" font-family=\"Times,serif\" font-size=\"14.00\">32, value&gt;0.5</text>\n</g>\n<!-- 26&#45;&gt;53 -->\n<g id=\"edge53\" class=\"edge\">\n<title>26&#45;&gt;53</title>\n<path fill=\"none\" stroke=\"black\" d=\"M4405,-173.8C4405,-162.16 4405,-146.55 4405,-133.24\"/>\n<polygon fill=\"black\" stroke=\"black\" points=\"4408.5,-133.18 4405,-123.18 4401.5,-133.18 4408.5,-133.18\"/>\n<text text-anchor=\"middle\" x=\"4413.5\" y=\"-144.8\" font-family=\"Times,serif\" font-size=\"14.00\">No</text>\n</g>\n<!-- 54 -->\n<g id=\"node55\" class=\"node\">\n<title>54</title>\n<ellipse fill=\"none\" stroke=\"black\" cx=\"4572\" cy=\"-105\" rx=\"59.59\" ry=\"18\"/>\n<text text-anchor=\"middle\" x=\"4572\" y=\"-101.3\" font-family=\"Times,serif\" font-size=\"14.00\">32, value&gt;0.5</text>\n</g>\n<!-- 26&#45;&gt;54 -->\n<g id=\"edge54\" class=\"edge\">\n<title>26&#45;&gt;54</title>\n<path fill=\"none\" stroke=\"black\" d=\"M4434.09,-176.19C4461.78,-162.1 4503.62,-140.8 4533.95,-125.37\"/>\n<polygon fill=\"black\" stroke=\"black\" points=\"4535.64,-128.43 4542.96,-120.78 4532.46,-122.2 4535.64,-128.43\"/>\n<text text-anchor=\"middle\" x=\"4509.5\" y=\"-144.8\" font-family=\"Times,serif\" font-size=\"14.00\">Yes</text>\n</g>\n<!-- 55 -->\n<g id=\"node56\" class=\"node\">\n<title>55</title>\n<ellipse fill=\"none\" stroke=\"black\" cx=\"4870\" cy=\"-105\" rx=\"59.59\" ry=\"18\"/>\n<text text-anchor=\"middle\" x=\"4870\" y=\"-101.3\" font-family=\"Times,serif\" font-size=\"14.00\">32, value&gt;0.5</text>\n</g>\n<!-- 27&#45;&gt;55 -->\n<g id=\"edge55\" class=\"edge\">\n<title>27&#45;&gt;55</title>\n<path fill=\"none\" stroke=\"black\" d=\"M5009.56,-176.19C4981.54,-162.1 4939.2,-140.8 4908.51,-125.37\"/>\n<polygon fill=\"black\" stroke=\"black\" points=\"4909.89,-122.15 4899.38,-120.78 4906.74,-128.4 4909.89,-122.15\"/>\n<text text-anchor=\"middle\" x=\"4973.5\" y=\"-144.8\" font-family=\"Times,serif\" font-size=\"14.00\">No</text>\n</g>\n<!-- 56 -->\n<g id=\"node57\" class=\"node\">\n<title>56</title>\n<ellipse fill=\"none\" stroke=\"black\" cx=\"5039\" cy=\"-105\" rx=\"59.59\" ry=\"18\"/>\n<text text-anchor=\"middle\" x=\"5039\" y=\"-101.3\" font-family=\"Times,serif\" font-size=\"14.00\">32, value&gt;0.5</text>\n</g>\n<!-- 27&#45;&gt;56 -->\n<g id=\"edge56\" class=\"edge\">\n<title>27&#45;&gt;56</title>\n<path fill=\"none\" stroke=\"black\" d=\"M5039,-173.8C5039,-162.16 5039,-146.55 5039,-133.24\"/>\n<polygon fill=\"black\" stroke=\"black\" points=\"5042.5,-133.18 5039,-123.18 5035.5,-133.18 5042.5,-133.18\"/>\n<text text-anchor=\"middle\" x=\"5049.5\" y=\"-144.8\" font-family=\"Times,serif\" font-size=\"14.00\">Yes</text>\n</g>\n<!-- 57 -->\n<g id=\"node58\" class=\"node\">\n<title>57</title>\n<ellipse fill=\"none\" stroke=\"black\" cx=\"5216\" cy=\"-105\" rx=\"59.59\" ry=\"18\"/>\n<text text-anchor=\"middle\" x=\"5216\" y=\"-101.3\" font-family=\"Times,serif\" font-size=\"14.00\">32, value&gt;0.5</text>\n</g>\n<!-- 28&#45;&gt;57 -->\n<g id=\"edge57\" class=\"edge\">\n<title>28&#45;&gt;57</title>\n<path fill=\"none\" stroke=\"black\" d=\"M5216,-173.8C5216,-162.16 5216,-146.55 5216,-133.24\"/>\n<polygon fill=\"black\" stroke=\"black\" points=\"5219.5,-133.18 5216,-123.18 5212.5,-133.18 5219.5,-133.18\"/>\n<text text-anchor=\"middle\" x=\"5224.5\" y=\"-144.8\" font-family=\"Times,serif\" font-size=\"14.00\">No</text>\n</g>\n<!-- 58 -->\n<g id=\"node59\" class=\"node\">\n<title>58</title>\n<ellipse fill=\"none\" stroke=\"black\" cx=\"5364\" cy=\"-105\" rx=\"59.59\" ry=\"18\"/>\n<text text-anchor=\"middle\" x=\"5364\" y=\"-101.3\" font-family=\"Times,serif\" font-size=\"14.00\">32, value&gt;0.5</text>\n</g>\n<!-- 28&#45;&gt;58 -->\n<g id=\"edge58\" class=\"edge\">\n<title>28&#45;&gt;58</title>\n<path fill=\"none\" stroke=\"black\" d=\"M5242.46,-175.8C5266.41,-162.05 5301.88,-141.68 5328.33,-126.49\"/>\n<polygon fill=\"black\" stroke=\"black\" points=\"5330.34,-129.37 5337.27,-121.35 5326.86,-123.3 5330.34,-129.37\"/>\n<text text-anchor=\"middle\" x=\"5309.5\" y=\"-144.8\" font-family=\"Times,serif\" font-size=\"14.00\">Yes</text>\n</g>\n<!-- 59 -->\n<g id=\"node60\" class=\"node\">\n<title>59</title>\n<ellipse fill=\"none\" stroke=\"black\" cx=\"5639\" cy=\"-105\" rx=\"59.59\" ry=\"18\"/>\n<text text-anchor=\"middle\" x=\"5639\" y=\"-101.3\" font-family=\"Times,serif\" font-size=\"14.00\">32, value&gt;0.5</text>\n</g>\n<!-- 29&#45;&gt;59 -->\n<g id=\"edge59\" class=\"edge\">\n<title>29&#45;&gt;59</title>\n<path fill=\"none\" stroke=\"black\" d=\"M5666.92,-173.8C5662,-161.85 5655.35,-145.72 5649.78,-132.18\"/>\n<polygon fill=\"black\" stroke=\"black\" points=\"5653,-130.8 5645.95,-122.89 5646.52,-133.46 5653,-130.8\"/>\n<text text-anchor=\"middle\" x=\"5667.5\" y=\"-144.8\" font-family=\"Times,serif\" font-size=\"14.00\">No</text>\n</g>\n<!-- 60 -->\n<g id=\"node61\" class=\"node\">\n<title>60</title>\n<ellipse fill=\"none\" stroke=\"black\" cx=\"5777\" cy=\"-105\" rx=\"59.59\" ry=\"18\"/>\n<text text-anchor=\"middle\" x=\"5777\" y=\"-101.3\" font-family=\"Times,serif\" font-size=\"14.00\">32, value&gt;0.5</text>\n</g>\n<!-- 29&#45;&gt;60 -->\n<g id=\"edge60\" class=\"edge\">\n<title>29&#45;&gt;60</title>\n<path fill=\"none\" stroke=\"black\" d=\"M5693.86,-174.61C5709.63,-161.59 5731.87,-143.24 5749.38,-128.79\"/>\n<polygon fill=\"black\" stroke=\"black\" points=\"5752.07,-131.11 5757.55,-122.05 5747.61,-125.72 5752.07,-131.11\"/>\n<text text-anchor=\"middle\" x=\"5742.5\" y=\"-144.8\" font-family=\"Times,serif\" font-size=\"14.00\">Yes</text>\n</g>\n<!-- 61 -->\n<g id=\"node62\" class=\"node\">\n<title>61</title>\n<ellipse fill=\"none\" stroke=\"black\" cx=\"5985\" cy=\"-105\" rx=\"59.59\" ry=\"18\"/>\n<text text-anchor=\"middle\" x=\"5985\" y=\"-101.3\" font-family=\"Times,serif\" font-size=\"14.00\">32, value&gt;0.5</text>\n</g>\n<!-- 30&#45;&gt;61 -->\n<g id=\"edge61\" class=\"edge\">\n<title>30&#45;&gt;61</title>\n<path fill=\"none\" stroke=\"black\" d=\"M5985,-173.8C5985,-162.16 5985,-146.55 5985,-133.24\"/>\n<polygon fill=\"black\" stroke=\"black\" points=\"5988.5,-133.18 5985,-123.18 5981.5,-133.18 5988.5,-133.18\"/>\n<text text-anchor=\"middle\" x=\"5993.5\" y=\"-144.8\" font-family=\"Times,serif\" font-size=\"14.00\">No</text>\n</g>\n<!-- 62 -->\n<g id=\"node63\" class=\"node\">\n<title>62</title>\n<ellipse fill=\"none\" stroke=\"black\" cx=\"6152\" cy=\"-105\" rx=\"59.59\" ry=\"18\"/>\n<text text-anchor=\"middle\" x=\"6152\" y=\"-101.3\" font-family=\"Times,serif\" font-size=\"14.00\">32, value&gt;0.5</text>\n</g>\n<!-- 30&#45;&gt;62 -->\n<g id=\"edge62\" class=\"edge\">\n<title>30&#45;&gt;62</title>\n<path fill=\"none\" stroke=\"black\" d=\"M6014.09,-176.19C6041.78,-162.1 6083.62,-140.8 6113.95,-125.37\"/>\n<polygon fill=\"black\" stroke=\"black\" points=\"6115.64,-128.43 6122.96,-120.78 6112.46,-122.2 6115.64,-128.43\"/>\n<text text-anchor=\"middle\" x=\"6089.5\" y=\"-144.8\" font-family=\"Times,serif\" font-size=\"14.00\">Yes</text>\n</g>\n<!-- 63 -->\n<g id=\"node64\" class=\"node\">\n<title>63</title>\n<polygon fill=\"none\" stroke=\"red\" points=\"80,-36 0,-36 0,0 80,0 80,-36\"/>\n<text text-anchor=\"middle\" x=\"40\" y=\"-14.3\" font-family=\"Times,serif\" font-size=\"14.00\">val = 0.018</text>\n</g>\n<!-- 31&#45;&gt;63 -->\n<g id=\"edge63\" class=\"edge\">\n<title>31&#45;&gt;63</title>\n<path fill=\"none\" stroke=\"black\" d=\"M119.1,-87.61C104.48,-74.92 84.01,-57.17 67.56,-42.9\"/>\n<polygon fill=\"black\" stroke=\"black\" points=\"69.69,-40.12 59.85,-36.21 65.11,-45.41 69.69,-40.12\"/>\n<text text-anchor=\"middle\" x=\"103.5\" y=\"-57.8\" font-family=\"Times,serif\" font-size=\"14.00\">No</text>\n</g>\n<!-- 64 -->\n<g id=\"node65\" class=\"node\">\n<title>64</title>\n<polygon fill=\"none\" stroke=\"red\" points=\"178,-36 98,-36 98,0 178,0 178,-36\"/>\n<text text-anchor=\"middle\" x=\"138\" y=\"-14.3\" font-family=\"Times,serif\" font-size=\"14.00\">val = 0.000</text>\n</g>\n<!-- 31&#45;&gt;64 -->\n<g id=\"edge64\" class=\"edge\">\n<title>31&#45;&gt;64</title>\n<path fill=\"none\" stroke=\"black\" d=\"M138,-86.8C138,-75.16 138,-59.55 138,-46.24\"/>\n<polygon fill=\"black\" stroke=\"black\" points=\"141.5,-46.18 138,-36.18 134.5,-46.18 141.5,-46.18\"/>\n<text text-anchor=\"middle\" x=\"148.5\" y=\"-57.8\" font-family=\"Times,serif\" font-size=\"14.00\">Yes</text>\n</g>\n<!-- 65 -->\n<g id=\"node66\" class=\"node\">\n<title>65</title>\n<polygon fill=\"none\" stroke=\"red\" points=\"280,-36 196,-36 196,0 280,0 280,-36\"/>\n<text text-anchor=\"middle\" x=\"238\" y=\"-14.3\" font-family=\"Times,serif\" font-size=\"14.00\">val = &#45;0.006</text>\n</g>\n<!-- 32&#45;&gt;65 -->\n<g id=\"edge65\" class=\"edge\">\n<title>32&#45;&gt;65</title>\n<path fill=\"none\" stroke=\"black\" d=\"M293.37,-87.21C283.32,-74.83 269.49,-57.8 258.17,-43.85\"/>\n<polygon fill=\"black\" stroke=\"black\" points=\"260.86,-41.61 251.84,-36.05 255.43,-46.02 260.86,-41.61\"/>\n<text text-anchor=\"middle\" x=\"285.5\" y=\"-57.8\" font-family=\"Times,serif\" font-size=\"14.00\">No</text>\n</g>\n<!-- 66 -->\n<g id=\"node67\" class=\"node\">\n<title>66</title>\n<polygon fill=\"none\" stroke=\"red\" points=\"378,-36 298,-36 298,0 378,0 378,-36\"/>\n<text text-anchor=\"middle\" x=\"338\" y=\"-14.3\" font-family=\"Times,serif\" font-size=\"14.00\">val = 0.040</text>\n</g>\n<!-- 32&#45;&gt;66 -->\n<g id=\"edge66\" class=\"edge\">\n<title>32&#45;&gt;66</title>\n<path fill=\"none\" stroke=\"black\" d=\"M313.27,-86.8C317.56,-75.05 323.32,-59.24 328.21,-45.84\"/>\n<polygon fill=\"black\" stroke=\"black\" points=\"331.6,-46.77 331.74,-36.18 325.02,-44.37 331.6,-46.77\"/>\n<text text-anchor=\"middle\" x=\"335.5\" y=\"-57.8\" font-family=\"Times,serif\" font-size=\"14.00\">Yes</text>\n</g>\n<!-- 67 -->\n<g id=\"node68\" class=\"node\">\n<title>67</title>\n<polygon fill=\"none\" stroke=\"red\" points=\"476,-36 396,-36 396,0 476,0 476,-36\"/>\n<text text-anchor=\"middle\" x=\"436\" y=\"-14.3\" font-family=\"Times,serif\" font-size=\"14.00\">val = 0.038</text>\n</g>\n<!-- 33&#45;&gt;67 -->\n<g id=\"edge67\" class=\"edge\">\n<title>33&#45;&gt;67</title>\n<path fill=\"none\" stroke=\"black\" d=\"M498.59,-87.21C487.13,-74.72 471.31,-57.48 458.44,-43.46\"/>\n<polygon fill=\"black\" stroke=\"black\" points=\"460.99,-41.05 451.65,-36.05 455.83,-45.78 460.99,-41.05\"/>\n<text text-anchor=\"middle\" x=\"488.5\" y=\"-57.8\" font-family=\"Times,serif\" font-size=\"14.00\">No</text>\n</g>\n<!-- 68 -->\n<g id=\"node69\" class=\"node\">\n<title>68</title>\n<polygon fill=\"none\" stroke=\"red\" points=\"574,-36 494,-36 494,0 574,0 574,-36\"/>\n<text text-anchor=\"middle\" x=\"534\" y=\"-14.3\" font-family=\"Times,serif\" font-size=\"14.00\">val = 0.000</text>\n</g>\n<!-- 33&#45;&gt;68 -->\n<g id=\"edge68\" class=\"edge\">\n<title>33&#45;&gt;68</title>\n<path fill=\"none\" stroke=\"black\" d=\"M518.05,-86.8C520.79,-75.16 524.46,-59.55 527.59,-46.24\"/>\n<polygon fill=\"black\" stroke=\"black\" points=\"531.08,-46.71 529.96,-36.18 524.26,-45.11 531.08,-46.71\"/>\n<text text-anchor=\"middle\" x=\"536.5\" y=\"-57.8\" font-family=\"Times,serif\" font-size=\"14.00\">Yes</text>\n</g>\n<!-- 69 -->\n<g id=\"node70\" class=\"node\">\n<title>69</title>\n<polygon fill=\"none\" stroke=\"red\" points=\"672,-36 592,-36 592,0 672,0 672,-36\"/>\n<text text-anchor=\"middle\" x=\"632\" y=\"-14.3\" font-family=\"Times,serif\" font-size=\"14.00\">val = 0.012</text>\n</g>\n<!-- 34&#45;&gt;69 -->\n<g id=\"edge69\" class=\"edge\">\n<title>34&#45;&gt;69</title>\n<path fill=\"none\" stroke=\"black\" d=\"M647.95,-86.8C645.21,-75.16 641.54,-59.55 638.41,-46.24\"/>\n<polygon fill=\"black\" stroke=\"black\" points=\"641.74,-45.11 636.04,-36.18 634.92,-46.71 641.74,-45.11\"/>\n<text text-anchor=\"middle\" x=\"652.5\" y=\"-57.8\" font-family=\"Times,serif\" font-size=\"14.00\">No</text>\n</g>\n<!-- 70 -->\n<g id=\"node71\" class=\"node\">\n<title>70</title>\n<polygon fill=\"none\" stroke=\"red\" points=\"770,-36 690,-36 690,0 770,0 770,-36\"/>\n<text text-anchor=\"middle\" x=\"730\" y=\"-14.3\" font-family=\"Times,serif\" font-size=\"14.00\">val = 0.000</text>\n</g>\n<!-- 34&#45;&gt;70 -->\n<g id=\"edge70\" class=\"edge\">\n<title>34&#45;&gt;70</title>\n<path fill=\"none\" stroke=\"black\" d=\"M667.41,-87.21C678.87,-74.72 694.69,-57.48 707.56,-43.46\"/>\n<polygon fill=\"black\" stroke=\"black\" points=\"710.17,-45.78 714.35,-36.05 705.01,-41.05 710.17,-45.78\"/>\n<text text-anchor=\"middle\" x=\"706.5\" y=\"-57.8\" font-family=\"Times,serif\" font-size=\"14.00\">Yes</text>\n</g>\n<!-- 71 -->\n<g id=\"node72\" class=\"node\">\n<title>71</title>\n<polygon fill=\"none\" stroke=\"red\" points=\"868,-36 788,-36 788,0 868,0 868,-36\"/>\n<text text-anchor=\"middle\" x=\"828\" y=\"-14.3\" font-family=\"Times,serif\" font-size=\"14.00\">val = 0.000</text>\n</g>\n<!-- 35&#45;&gt;71 -->\n<g id=\"edge71\" class=\"edge\">\n<title>35&#45;&gt;71</title>\n<path fill=\"none\" stroke=\"black\" d=\"M907.1,-87.61C892.48,-74.92 872.01,-57.17 855.56,-42.9\"/>\n<polygon fill=\"black\" stroke=\"black\" points=\"857.69,-40.12 847.85,-36.21 853.11,-45.41 857.69,-40.12\"/>\n<text text-anchor=\"middle\" x=\"891.5\" y=\"-57.8\" font-family=\"Times,serif\" font-size=\"14.00\">No</text>\n</g>\n<!-- 72 -->\n<g id=\"node73\" class=\"node\">\n<title>72</title>\n<polygon fill=\"none\" stroke=\"red\" points=\"966,-36 886,-36 886,0 966,0 966,-36\"/>\n<text text-anchor=\"middle\" x=\"926\" y=\"-14.3\" font-family=\"Times,serif\" font-size=\"14.00\">val = 0.000</text>\n</g>\n<!-- 35&#45;&gt;72 -->\n<g id=\"edge72\" class=\"edge\">\n<title>35&#45;&gt;72</title>\n<path fill=\"none\" stroke=\"black\" d=\"M926,-86.8C926,-75.16 926,-59.55 926,-46.24\"/>\n<polygon fill=\"black\" stroke=\"black\" points=\"929.5,-46.18 926,-36.18 922.5,-46.18 929.5,-46.18\"/>\n<text text-anchor=\"middle\" x=\"936.5\" y=\"-57.8\" font-family=\"Times,serif\" font-size=\"14.00\">Yes</text>\n</g>\n<!-- 73 -->\n<g id=\"node74\" class=\"node\">\n<title>73</title>\n<polygon fill=\"none\" stroke=\"red\" points=\"1064,-36 984,-36 984,0 1064,0 1064,-36\"/>\n<text text-anchor=\"middle\" x=\"1024\" y=\"-14.3\" font-family=\"Times,serif\" font-size=\"14.00\">val = 0.000</text>\n</g>\n<!-- 36&#45;&gt;73 -->\n<g id=\"edge73\" class=\"edge\">\n<title>36&#45;&gt;73</title>\n<path fill=\"none\" stroke=\"black\" d=\"M1079.37,-87.21C1069.32,-74.83 1055.49,-57.8 1044.17,-43.85\"/>\n<polygon fill=\"black\" stroke=\"black\" points=\"1046.86,-41.61 1037.84,-36.05 1041.43,-46.02 1046.86,-41.61\"/>\n<text text-anchor=\"middle\" x=\"1071.5\" y=\"-57.8\" font-family=\"Times,serif\" font-size=\"14.00\">No</text>\n</g>\n<!-- 74 -->\n<g id=\"node75\" class=\"node\">\n<title>74</title>\n<polygon fill=\"none\" stroke=\"red\" points=\"1162,-36 1082,-36 1082,0 1162,0 1162,-36\"/>\n<text text-anchor=\"middle\" x=\"1122\" y=\"-14.3\" font-family=\"Times,serif\" font-size=\"14.00\">val = 0.000</text>\n</g>\n<!-- 36&#45;&gt;74 -->\n<g id=\"edge74\" class=\"edge\">\n<title>36&#45;&gt;74</title>\n<path fill=\"none\" stroke=\"black\" d=\"M1098.87,-86.8C1102.88,-75.05 1108.27,-59.24 1112.84,-45.84\"/>\n<polygon fill=\"black\" stroke=\"black\" points=\"1116.22,-46.77 1116.14,-36.18 1109.6,-44.51 1116.22,-46.77\"/>\n<text text-anchor=\"middle\" x=\"1120.5\" y=\"-57.8\" font-family=\"Times,serif\" font-size=\"14.00\">Yes</text>\n</g>\n<!-- 75 -->\n<g id=\"node76\" class=\"node\">\n<title>75</title>\n<polygon fill=\"none\" stroke=\"red\" points=\"1260,-36 1180,-36 1180,0 1260,0 1260,-36\"/>\n<text text-anchor=\"middle\" x=\"1220\" y=\"-14.3\" font-family=\"Times,serif\" font-size=\"14.00\">val = 0.000</text>\n</g>\n<!-- 37&#45;&gt;75 -->\n<g id=\"edge75\" class=\"edge\">\n<title>37&#45;&gt;75</title>\n<path fill=\"none\" stroke=\"black\" d=\"M1253.5,-86.8C1247.64,-74.93 1239.73,-58.93 1233.07,-45.45\"/>\n<polygon fill=\"black\" stroke=\"black\" points=\"1236.05,-43.59 1228.49,-36.18 1229.78,-46.69 1236.05,-43.59\"/>\n<text text-anchor=\"middle\" x=\"1252.5\" y=\"-57.8\" font-family=\"Times,serif\" font-size=\"14.00\">No</text>\n</g>\n<!-- 76 -->\n<g id=\"node77\" class=\"node\">\n<title>76</title>\n<polygon fill=\"none\" stroke=\"red\" points=\"1358,-36 1278,-36 1278,0 1358,0 1358,-36\"/>\n<text text-anchor=\"middle\" x=\"1318\" y=\"-14.3\" font-family=\"Times,serif\" font-size=\"14.00\">val = 0.000</text>\n</g>\n<!-- 37&#45;&gt;76 -->\n<g id=\"edge76\" class=\"edge\">\n<title>37&#45;&gt;76</title>\n<path fill=\"none\" stroke=\"black\" d=\"M1273.06,-87.21C1281.06,-75.06 1292.02,-58.43 1301.11,-44.63\"/>\n<polygon fill=\"black\" stroke=\"black\" points=\"1304.19,-46.33 1306.77,-36.05 1298.34,-42.47 1304.19,-46.33\"/>\n<text text-anchor=\"middle\" x=\"1304.5\" y=\"-57.8\" font-family=\"Times,serif\" font-size=\"14.00\">Yes</text>\n</g>\n<!-- 77 -->\n<g id=\"node78\" class=\"node\">\n<title>77</title>\n<polygon fill=\"none\" stroke=\"red\" points=\"1456,-36 1376,-36 1376,0 1456,0 1456,-36\"/>\n<text text-anchor=\"middle\" x=\"1416\" y=\"-14.3\" font-family=\"Times,serif\" font-size=\"14.00\">val = 0.000</text>\n</g>\n<!-- 38&#45;&gt;77 -->\n<g id=\"edge77\" class=\"edge\">\n<title>38&#45;&gt;77</title>\n<path fill=\"none\" stroke=\"black\" d=\"M1416,-86.8C1416,-75.16 1416,-59.55 1416,-46.24\"/>\n<polygon fill=\"black\" stroke=\"black\" points=\"1419.5,-46.18 1416,-36.18 1412.5,-46.18 1419.5,-46.18\"/>\n<text text-anchor=\"middle\" x=\"1424.5\" y=\"-57.8\" font-family=\"Times,serif\" font-size=\"14.00\">No</text>\n</g>\n<!-- 78 -->\n<g id=\"node79\" class=\"node\">\n<title>78</title>\n<polygon fill=\"none\" stroke=\"red\" points=\"1554,-36 1474,-36 1474,0 1554,0 1554,-36\"/>\n<text text-anchor=\"middle\" x=\"1514\" y=\"-14.3\" font-family=\"Times,serif\" font-size=\"14.00\">val = 0.000</text>\n</g>\n<!-- 38&#45;&gt;78 -->\n<g id=\"edge78\" class=\"edge\">\n<title>38&#45;&gt;78</title>\n<path fill=\"none\" stroke=\"black\" d=\"M1434.9,-87.61C1449.52,-74.92 1469.99,-57.17 1486.44,-42.9\"/>\n<polygon fill=\"black\" stroke=\"black\" points=\"1488.89,-45.41 1494.15,-36.21 1484.31,-40.12 1488.89,-45.41\"/>\n<text text-anchor=\"middle\" x=\"1481.5\" y=\"-57.8\" font-family=\"Times,serif\" font-size=\"14.00\">Yes</text>\n</g>\n<!-- 79 -->\n<g id=\"node80\" class=\"node\">\n<title>79</title>\n<polygon fill=\"none\" stroke=\"red\" points=\"1656,-36 1572,-36 1572,0 1656,0 1656,-36\"/>\n<text text-anchor=\"middle\" x=\"1614\" y=\"-14.3\" font-family=\"Times,serif\" font-size=\"14.00\">val = &#45;0.007</text>\n</g>\n<!-- 39&#45;&gt;79 -->\n<g id=\"edge79\" class=\"edge\">\n<title>39&#45;&gt;79</title>\n<path fill=\"none\" stroke=\"black\" d=\"M1694.72,-87.61C1679.79,-74.92 1658.91,-57.17 1642.12,-42.9\"/>\n<polygon fill=\"black\" stroke=\"black\" points=\"1644.14,-40.02 1634.25,-36.21 1639.6,-45.36 1644.14,-40.02\"/>\n<text text-anchor=\"middle\" x=\"1678.5\" y=\"-57.8\" font-family=\"Times,serif\" font-size=\"14.00\">No</text>\n</g>\n<!-- 80 -->\n<g id=\"node81\" class=\"node\">\n<title>80</title>\n<polygon fill=\"none\" stroke=\"red\" points=\"1754,-36 1674,-36 1674,0 1754,0 1754,-36\"/>\n<text text-anchor=\"middle\" x=\"1714\" y=\"-14.3\" font-family=\"Times,serif\" font-size=\"14.00\">val = 0.000</text>\n</g>\n<!-- 39&#45;&gt;80 -->\n<g id=\"edge80\" class=\"edge\">\n<title>39&#45;&gt;80</title>\n<path fill=\"none\" stroke=\"black\" d=\"M1714,-86.8C1714,-75.16 1714,-59.55 1714,-46.24\"/>\n<polygon fill=\"black\" stroke=\"black\" points=\"1717.5,-46.18 1714,-36.18 1710.5,-46.18 1717.5,-46.18\"/>\n<text text-anchor=\"middle\" x=\"1724.5\" y=\"-57.8\" font-family=\"Times,serif\" font-size=\"14.00\">Yes</text>\n</g>\n<!-- 81 -->\n<g id=\"node82\" class=\"node\">\n<title>81</title>\n<polygon fill=\"none\" stroke=\"red\" points=\"1856,-36 1772,-36 1772,0 1856,0 1856,-36\"/>\n<text text-anchor=\"middle\" x=\"1814\" y=\"-14.3\" font-family=\"Times,serif\" font-size=\"14.00\">val = &#45;0.007</text>\n</g>\n<!-- 40&#45;&gt;81 -->\n<g id=\"edge81\" class=\"edge\">\n<title>40&#45;&gt;81</title>\n<path fill=\"none\" stroke=\"black\" d=\"M1869.37,-87.21C1859.32,-74.83 1845.49,-57.8 1834.17,-43.85\"/>\n<polygon fill=\"black\" stroke=\"black\" points=\"1836.86,-41.61 1827.84,-36.05 1831.43,-46.02 1836.86,-41.61\"/>\n<text text-anchor=\"middle\" x=\"1861.5\" y=\"-57.8\" font-family=\"Times,serif\" font-size=\"14.00\">No</text>\n</g>\n<!-- 82 -->\n<g id=\"node83\" class=\"node\">\n<title>82</title>\n<polygon fill=\"none\" stroke=\"red\" points=\"1954,-36 1874,-36 1874,0 1954,0 1954,-36\"/>\n<text text-anchor=\"middle\" x=\"1914\" y=\"-14.3\" font-family=\"Times,serif\" font-size=\"14.00\">val = 0.000</text>\n</g>\n<!-- 40&#45;&gt;82 -->\n<g id=\"edge82\" class=\"edge\">\n<title>40&#45;&gt;82</title>\n<path fill=\"none\" stroke=\"black\" d=\"M1889.27,-86.8C1893.56,-75.05 1899.32,-59.24 1904.21,-45.84\"/>\n<polygon fill=\"black\" stroke=\"black\" points=\"1907.6,-46.77 1907.74,-36.18 1901.02,-44.37 1907.6,-46.77\"/>\n<text text-anchor=\"middle\" x=\"1911.5\" y=\"-57.8\" font-family=\"Times,serif\" font-size=\"14.00\">Yes</text>\n</g>\n<!-- 83 -->\n<g id=\"node84\" class=\"node\">\n<title>83</title>\n<polygon fill=\"none\" stroke=\"red\" points=\"2056,-36 1972,-36 1972,0 2056,0 2056,-36\"/>\n<text text-anchor=\"middle\" x=\"2014\" y=\"-14.3\" font-family=\"Times,serif\" font-size=\"14.00\">val = &#45;0.004</text>\n</g>\n<!-- 41&#45;&gt;83 -->\n<g id=\"edge83\" class=\"edge\">\n<title>41&#45;&gt;83</title>\n<path fill=\"none\" stroke=\"black\" d=\"M2078.19,-87.21C2066.44,-74.72 2050.21,-57.48 2037.02,-43.46\"/>\n<polygon fill=\"black\" stroke=\"black\" points=\"2039.45,-40.93 2030.05,-36.05 2034.35,-45.73 2039.45,-40.93\"/>\n<text text-anchor=\"middle\" x=\"2067.5\" y=\"-57.8\" font-family=\"Times,serif\" font-size=\"14.00\">No</text>\n</g>\n<!-- 84 -->\n<g id=\"node85\" class=\"node\">\n<title>84</title>\n<polygon fill=\"none\" stroke=\"red\" points=\"2154,-36 2074,-36 2074,0 2154,0 2154,-36\"/>\n<text text-anchor=\"middle\" x=\"2114\" y=\"-14.3\" font-family=\"Times,serif\" font-size=\"14.00\">val = 0.000</text>\n</g>\n<!-- 41&#45;&gt;84 -->\n<g id=\"edge84\" class=\"edge\">\n<title>41&#45;&gt;84</title>\n<path fill=\"none\" stroke=\"black\" d=\"M2098.05,-86.8C2100.79,-75.16 2104.46,-59.55 2107.59,-46.24\"/>\n<polygon fill=\"black\" stroke=\"black\" points=\"2111.08,-46.71 2109.96,-36.18 2104.26,-45.11 2111.08,-46.71\"/>\n<text text-anchor=\"middle\" x=\"2116.5\" y=\"-57.8\" font-family=\"Times,serif\" font-size=\"14.00\">Yes</text>\n</g>\n<!-- 85 -->\n<g id=\"node86\" class=\"node\">\n<title>85</title>\n<polygon fill=\"none\" stroke=\"red\" points=\"2252,-36 2172,-36 2172,0 2252,0 2252,-36\"/>\n<text text-anchor=\"middle\" x=\"2212\" y=\"-14.3\" font-family=\"Times,serif\" font-size=\"14.00\">val = 0.000</text>\n</g>\n<!-- 42&#45;&gt;85 -->\n<g id=\"edge85\" class=\"edge\">\n<title>42&#45;&gt;85</title>\n<path fill=\"none\" stroke=\"black\" d=\"M2227.95,-86.8C2225.21,-75.16 2221.54,-59.55 2218.41,-46.24\"/>\n<polygon fill=\"black\" stroke=\"black\" points=\"2221.74,-45.11 2216.04,-36.18 2214.92,-46.71 2221.74,-45.11\"/>\n<text text-anchor=\"middle\" x=\"2232.5\" y=\"-57.8\" font-family=\"Times,serif\" font-size=\"14.00\">No</text>\n</g>\n<!-- 86 -->\n<g id=\"node87\" class=\"node\">\n<title>86</title>\n<polygon fill=\"none\" stroke=\"red\" points=\"2350,-36 2270,-36 2270,0 2350,0 2350,-36\"/>\n<text text-anchor=\"middle\" x=\"2310\" y=\"-14.3\" font-family=\"Times,serif\" font-size=\"14.00\">val = 0.000</text>\n</g>\n<!-- 42&#45;&gt;86 -->\n<g id=\"edge86\" class=\"edge\">\n<title>42&#45;&gt;86</title>\n<path fill=\"none\" stroke=\"black\" d=\"M2247.41,-87.21C2258.87,-74.72 2274.69,-57.48 2287.56,-43.46\"/>\n<polygon fill=\"black\" stroke=\"black\" points=\"2290.17,-45.78 2294.35,-36.05 2285.01,-41.05 2290.17,-45.78\"/>\n<text text-anchor=\"middle\" x=\"2286.5\" y=\"-57.8\" font-family=\"Times,serif\" font-size=\"14.00\">Yes</text>\n</g>\n<!-- 87 -->\n<g id=\"node88\" class=\"node\">\n<title>87</title>\n<polygon fill=\"none\" stroke=\"red\" points=\"2448,-36 2368,-36 2368,0 2448,0 2448,-36\"/>\n<text text-anchor=\"middle\" x=\"2408\" y=\"-14.3\" font-family=\"Times,serif\" font-size=\"14.00\">val = 0.000</text>\n</g>\n<!-- 43&#45;&gt;87 -->\n<g id=\"edge87\" class=\"edge\">\n<title>43&#45;&gt;87</title>\n<path fill=\"none\" stroke=\"black\" d=\"M2476.61,-87.61C2464.04,-75.04 2446.49,-57.49 2432.29,-43.29\"/>\n<polygon fill=\"black\" stroke=\"black\" points=\"2434.76,-40.81 2425.21,-36.21 2429.81,-45.76 2434.76,-40.81\"/>\n<text text-anchor=\"middle\" x=\"2464.5\" y=\"-57.8\" font-family=\"Times,serif\" font-size=\"14.00\">No</text>\n</g>\n<!-- 88 -->\n<g id=\"node89\" class=\"node\">\n<title>88</title>\n<polygon fill=\"none\" stroke=\"red\" points=\"2546,-36 2466,-36 2466,0 2546,0 2546,-36\"/>\n<text text-anchor=\"middle\" x=\"2506\" y=\"-14.3\" font-family=\"Times,serif\" font-size=\"14.00\">val = 0.000</text>\n</g>\n<!-- 43&#45;&gt;88 -->\n<g id=\"edge88\" class=\"edge\">\n<title>43&#45;&gt;88</title>\n<path fill=\"none\" stroke=\"black\" d=\"M2495.63,-86.8C2497.41,-75.16 2499.8,-59.55 2501.83,-46.24\"/>\n<polygon fill=\"black\" stroke=\"black\" points=\"2505.32,-46.59 2503.37,-36.18 2498.4,-45.53 2505.32,-46.59\"/>\n<text text-anchor=\"middle\" x=\"2511.5\" y=\"-57.8\" font-family=\"Times,serif\" font-size=\"14.00\">Yes</text>\n</g>\n<!-- 89 -->\n<g id=\"node90\" class=\"node\">\n<title>89</title>\n<polygon fill=\"none\" stroke=\"red\" points=\"2644,-36 2564,-36 2564,0 2644,0 2644,-36\"/>\n<text text-anchor=\"middle\" x=\"2604\" y=\"-14.3\" font-family=\"Times,serif\" font-size=\"14.00\">val = 0.000</text>\n</g>\n<!-- 44&#45;&gt;89 -->\n<g id=\"edge89\" class=\"edge\">\n<title>44&#45;&gt;89</title>\n<path fill=\"none\" stroke=\"black\" d=\"M2625.54,-86.8C2621.8,-75.05 2616.78,-59.24 2612.53,-45.84\"/>\n<polygon fill=\"black\" stroke=\"black\" points=\"2615.82,-44.65 2609.46,-36.18 2609.15,-46.77 2615.82,-44.65\"/>\n<text text-anchor=\"middle\" x=\"2628.5\" y=\"-57.8\" font-family=\"Times,serif\" font-size=\"14.00\">No</text>\n</g>\n<!-- 90 -->\n<g id=\"node91\" class=\"node\">\n<title>90</title>\n<polygon fill=\"none\" stroke=\"red\" points=\"2742,-36 2662,-36 2662,0 2742,0 2742,-36\"/>\n<text text-anchor=\"middle\" x=\"2702\" y=\"-14.3\" font-family=\"Times,serif\" font-size=\"14.00\">val = 0.000</text>\n</g>\n<!-- 44&#45;&gt;90 -->\n<g id=\"edge90\" class=\"edge\">\n<title>44&#45;&gt;90</title>\n<path fill=\"none\" stroke=\"black\" d=\"M2645.03,-87.21C2655.36,-74.83 2669.59,-57.8 2681.25,-43.85\"/>\n<polygon fill=\"black\" stroke=\"black\" points=\"2684.03,-45.97 2687.76,-36.05 2678.66,-41.48 2684.03,-45.97\"/>\n<text text-anchor=\"middle\" x=\"2681.5\" y=\"-57.8\" font-family=\"Times,serif\" font-size=\"14.00\">Yes</text>\n</g>\n<!-- 91 -->\n<g id=\"node92\" class=\"node\">\n<title>91</title>\n<polygon fill=\"none\" stroke=\"red\" points=\"2840,-36 2760,-36 2760,0 2840,0 2840,-36\"/>\n<text text-anchor=\"middle\" x=\"2800\" y=\"-14.3\" font-family=\"Times,serif\" font-size=\"14.00\">val = 0.000</text>\n</g>\n<!-- 45&#45;&gt;91 -->\n<g id=\"edge91\" class=\"edge\">\n<title>45&#45;&gt;91</title>\n<path fill=\"none\" stroke=\"black\" d=\"M2823.13,-86.8C2819.12,-75.05 2813.73,-59.24 2809.16,-45.84\"/>\n<polygon fill=\"black\" stroke=\"black\" points=\"2812.4,-44.51 2805.86,-36.18 2805.78,-46.77 2812.4,-44.51\"/>\n<text text-anchor=\"middle\" x=\"2825.5\" y=\"-57.8\" font-family=\"Times,serif\" font-size=\"14.00\">No</text>\n</g>\n<!-- 92 -->\n<g id=\"node93\" class=\"node\">\n<title>92</title>\n<polygon fill=\"none\" stroke=\"red\" points=\"2938,-36 2858,-36 2858,0 2938,0 2938,-36\"/>\n<text text-anchor=\"middle\" x=\"2898\" y=\"-14.3\" font-family=\"Times,serif\" font-size=\"14.00\">val = 0.000</text>\n</g>\n<!-- 45&#45;&gt;92 -->\n<g id=\"edge92\" class=\"edge\">\n<title>45&#45;&gt;92</title>\n<path fill=\"none\" stroke=\"black\" d=\"M2842.63,-87.21C2852.68,-74.83 2866.51,-57.8 2877.83,-43.85\"/>\n<polygon fill=\"black\" stroke=\"black\" points=\"2880.57,-46.02 2884.16,-36.05 2875.14,-41.61 2880.57,-46.02\"/>\n<text text-anchor=\"middle\" x=\"2878.5\" y=\"-57.8\" font-family=\"Times,serif\" font-size=\"14.00\">Yes</text>\n</g>\n<!-- 93 -->\n<g id=\"node94\" class=\"node\">\n<title>93</title>\n<polygon fill=\"none\" stroke=\"red\" points=\"3036,-36 2956,-36 2956,0 3036,0 3036,-36\"/>\n<text text-anchor=\"middle\" x=\"2996\" y=\"-14.3\" font-family=\"Times,serif\" font-size=\"14.00\">val = 0.000</text>\n</g>\n<!-- 46&#45;&gt;93 -->\n<g id=\"edge93\" class=\"edge\">\n<title>46&#45;&gt;93</title>\n<path fill=\"none\" stroke=\"black\" d=\"M2996,-86.8C2996,-75.16 2996,-59.55 2996,-46.24\"/>\n<polygon fill=\"black\" stroke=\"black\" points=\"2999.5,-46.18 2996,-36.18 2992.5,-46.18 2999.5,-46.18\"/>\n<text text-anchor=\"middle\" x=\"3004.5\" y=\"-57.8\" font-family=\"Times,serif\" font-size=\"14.00\">No</text>\n</g>\n<!-- 94 -->\n<g id=\"node95\" class=\"node\">\n<title>94</title>\n<polygon fill=\"none\" stroke=\"red\" points=\"3134,-36 3054,-36 3054,0 3134,0 3134,-36\"/>\n<text text-anchor=\"middle\" x=\"3094\" y=\"-14.3\" font-family=\"Times,serif\" font-size=\"14.00\">val = 0.000</text>\n</g>\n<!-- 46&#45;&gt;94 -->\n<g id=\"edge94\" class=\"edge\">\n<title>46&#45;&gt;94</title>\n<path fill=\"none\" stroke=\"black\" d=\"M3014.9,-87.61C3029.52,-74.92 3049.99,-57.17 3066.44,-42.9\"/>\n<polygon fill=\"black\" stroke=\"black\" points=\"3068.89,-45.41 3074.15,-36.21 3064.31,-40.12 3068.89,-45.41\"/>\n<text text-anchor=\"middle\" x=\"3061.5\" y=\"-57.8\" font-family=\"Times,serif\" font-size=\"14.00\">Yes</text>\n</g>\n<!-- 95 -->\n<g id=\"node96\" class=\"node\">\n<title>95</title>\n<polygon fill=\"none\" stroke=\"red\" points=\"3232,-36 3152,-36 3152,0 3232,0 3232,-36\"/>\n<text text-anchor=\"middle\" x=\"3192\" y=\"-14.3\" font-family=\"Times,serif\" font-size=\"14.00\">val = 0.011</text>\n</g>\n<!-- 47&#45;&gt;95 -->\n<g id=\"edge95\" class=\"edge\">\n<title>47&#45;&gt;95</title>\n<path fill=\"none\" stroke=\"black\" d=\"M3271.1,-87.61C3256.48,-74.92 3236.01,-57.17 3219.56,-42.9\"/>\n<polygon fill=\"black\" stroke=\"black\" points=\"3221.69,-40.12 3211.85,-36.21 3217.11,-45.41 3221.69,-40.12\"/>\n<text text-anchor=\"middle\" x=\"3255.5\" y=\"-57.8\" font-family=\"Times,serif\" font-size=\"14.00\">No</text>\n</g>\n<!-- 96 -->\n<g id=\"node97\" class=\"node\">\n<title>96</title>\n<polygon fill=\"none\" stroke=\"red\" points=\"3330,-36 3250,-36 3250,0 3330,0 3330,-36\"/>\n<text text-anchor=\"middle\" x=\"3290\" y=\"-14.3\" font-family=\"Times,serif\" font-size=\"14.00\">val = 0.000</text>\n</g>\n<!-- 47&#45;&gt;96 -->\n<g id=\"edge96\" class=\"edge\">\n<title>47&#45;&gt;96</title>\n<path fill=\"none\" stroke=\"black\" d=\"M3290,-86.8C3290,-75.16 3290,-59.55 3290,-46.24\"/>\n<polygon fill=\"black\" stroke=\"black\" points=\"3293.5,-46.18 3290,-36.18 3286.5,-46.18 3293.5,-46.18\"/>\n<text text-anchor=\"middle\" x=\"3300.5\" y=\"-57.8\" font-family=\"Times,serif\" font-size=\"14.00\">Yes</text>\n</g>\n<!-- 97 -->\n<g id=\"node98\" class=\"node\">\n<title>97</title>\n<polygon fill=\"none\" stroke=\"red\" points=\"3432,-36 3348,-36 3348,0 3432,0 3432,-36\"/>\n<text text-anchor=\"middle\" x=\"3390\" y=\"-14.3\" font-family=\"Times,serif\" font-size=\"14.00\">val = &#45;0.006</text>\n</g>\n<!-- 48&#45;&gt;97 -->\n<g id=\"edge97\" class=\"edge\">\n<title>48&#45;&gt;97</title>\n<path fill=\"none\" stroke=\"black\" d=\"M3445.37,-87.21C3435.32,-74.83 3421.49,-57.8 3410.17,-43.85\"/>\n<polygon fill=\"black\" stroke=\"black\" points=\"3412.86,-41.61 3403.84,-36.05 3407.43,-46.02 3412.86,-41.61\"/>\n<text text-anchor=\"middle\" x=\"3437.5\" y=\"-57.8\" font-family=\"Times,serif\" font-size=\"14.00\">No</text>\n</g>\n<!-- 98 -->\n<g id=\"node99\" class=\"node\">\n<title>98</title>\n<polygon fill=\"none\" stroke=\"red\" points=\"3530,-36 3450,-36 3450,0 3530,0 3530,-36\"/>\n<text text-anchor=\"middle\" x=\"3490\" y=\"-14.3\" font-family=\"Times,serif\" font-size=\"14.00\">val = 0.029</text>\n</g>\n<!-- 48&#45;&gt;98 -->\n<g id=\"edge98\" class=\"edge\">\n<title>48&#45;&gt;98</title>\n<path fill=\"none\" stroke=\"black\" d=\"M3465.27,-86.8C3469.56,-75.05 3475.32,-59.24 3480.21,-45.84\"/>\n<polygon fill=\"black\" stroke=\"black\" points=\"3483.6,-46.77 3483.74,-36.18 3477.02,-44.37 3483.6,-46.77\"/>\n<text text-anchor=\"middle\" x=\"3487.5\" y=\"-57.8\" font-family=\"Times,serif\" font-size=\"14.00\">Yes</text>\n</g>\n<!-- 99 -->\n<g id=\"node100\" class=\"node\">\n<title>99</title>\n<polygon fill=\"none\" stroke=\"red\" points=\"3628,-36 3548,-36 3548,0 3628,0 3628,-36\"/>\n<text text-anchor=\"middle\" x=\"3588\" y=\"-14.3\" font-family=\"Times,serif\" font-size=\"14.00\">val = 0.000</text>\n</g>\n<!-- 49&#45;&gt;99 -->\n<g id=\"edge99\" class=\"edge\">\n<title>49&#45;&gt;99</title>\n<path fill=\"none\" stroke=\"black\" d=\"M3650.59,-87.21C3639.13,-74.72 3623.31,-57.48 3610.44,-43.46\"/>\n<polygon fill=\"black\" stroke=\"black\" points=\"3612.99,-41.05 3603.65,-36.05 3607.83,-45.78 3612.99,-41.05\"/>\n<text text-anchor=\"middle\" x=\"3640.5\" y=\"-57.8\" font-family=\"Times,serif\" font-size=\"14.00\">No</text>\n</g>\n<!-- 100 -->\n<g id=\"node101\" class=\"node\">\n<title>100</title>\n<polygon fill=\"none\" stroke=\"red\" points=\"3726,-36 3646,-36 3646,0 3726,0 3726,-36\"/>\n<text text-anchor=\"middle\" x=\"3686\" y=\"-14.3\" font-family=\"Times,serif\" font-size=\"14.00\">val = 0.000</text>\n</g>\n<!-- 49&#45;&gt;100 -->\n<g id=\"edge100\" class=\"edge\">\n<title>49&#45;&gt;100</title>\n<path fill=\"none\" stroke=\"black\" d=\"M3670.05,-86.8C3672.79,-75.16 3676.46,-59.55 3679.59,-46.24\"/>\n<polygon fill=\"black\" stroke=\"black\" points=\"3683.08,-46.71 3681.96,-36.18 3676.26,-45.11 3683.08,-46.71\"/>\n<text text-anchor=\"middle\" x=\"3688.5\" y=\"-57.8\" font-family=\"Times,serif\" font-size=\"14.00\">Yes</text>\n</g>\n<!-- 101 -->\n<g id=\"node102\" class=\"node\">\n<title>101</title>\n<polygon fill=\"none\" stroke=\"red\" points=\"3824,-36 3744,-36 3744,0 3824,0 3824,-36\"/>\n<text text-anchor=\"middle\" x=\"3784\" y=\"-14.3\" font-family=\"Times,serif\" font-size=\"14.00\">val = 0.000</text>\n</g>\n<!-- 50&#45;&gt;101 -->\n<g id=\"edge101\" class=\"edge\">\n<title>50&#45;&gt;101</title>\n<path fill=\"none\" stroke=\"black\" d=\"M3799.95,-86.8C3797.21,-75.16 3793.54,-59.55 3790.41,-46.24\"/>\n<polygon fill=\"black\" stroke=\"black\" points=\"3793.74,-45.11 3788.04,-36.18 3786.92,-46.71 3793.74,-45.11\"/>\n<text text-anchor=\"middle\" x=\"3804.5\" y=\"-57.8\" font-family=\"Times,serif\" font-size=\"14.00\">No</text>\n</g>\n<!-- 102 -->\n<g id=\"node103\" class=\"node\">\n<title>102</title>\n<polygon fill=\"none\" stroke=\"red\" points=\"3922,-36 3842,-36 3842,0 3922,0 3922,-36\"/>\n<text text-anchor=\"middle\" x=\"3882\" y=\"-14.3\" font-family=\"Times,serif\" font-size=\"14.00\">val = 0.000</text>\n</g>\n<!-- 50&#45;&gt;102 -->\n<g id=\"edge102\" class=\"edge\">\n<title>50&#45;&gt;102</title>\n<path fill=\"none\" stroke=\"black\" d=\"M3819.41,-87.21C3830.87,-74.72 3846.69,-57.48 3859.56,-43.46\"/>\n<polygon fill=\"black\" stroke=\"black\" points=\"3862.17,-45.78 3866.35,-36.05 3857.01,-41.05 3862.17,-45.78\"/>\n<text text-anchor=\"middle\" x=\"3858.5\" y=\"-57.8\" font-family=\"Times,serif\" font-size=\"14.00\">Yes</text>\n</g>\n<!-- 103 -->\n<g id=\"node104\" class=\"node\">\n<title>103</title>\n<polygon fill=\"none\" stroke=\"red\" points=\"4020,-36 3940,-36 3940,0 4020,0 4020,-36\"/>\n<text text-anchor=\"middle\" x=\"3980\" y=\"-14.3\" font-family=\"Times,serif\" font-size=\"14.00\">val = 0.012</text>\n</g>\n<!-- 51&#45;&gt;103 -->\n<g id=\"edge103\" class=\"edge\">\n<title>51&#45;&gt;103</title>\n<path fill=\"none\" stroke=\"black\" d=\"M4057.49,-87.61C4043.16,-74.92 4023.11,-57.17 4006.99,-42.9\"/>\n<polygon fill=\"black\" stroke=\"black\" points=\"4009.25,-40.22 3999.44,-36.21 4004.61,-45.46 4009.25,-40.22\"/>\n<text text-anchor=\"middle\" x=\"4042.5\" y=\"-57.8\" font-family=\"Times,serif\" font-size=\"14.00\">No</text>\n</g>\n<!-- 104 -->\n<g id=\"node105\" class=\"node\">\n<title>104</title>\n<polygon fill=\"none\" stroke=\"red\" points=\"4118,-36 4038,-36 4038,0 4118,0 4118,-36\"/>\n<text text-anchor=\"middle\" x=\"4078\" y=\"-14.3\" font-family=\"Times,serif\" font-size=\"14.00\">val = 0.000</text>\n</g>\n<!-- 51&#45;&gt;104 -->\n<g id=\"edge104\" class=\"edge\">\n<title>51&#45;&gt;104</title>\n<path fill=\"none\" stroke=\"black\" d=\"M4076.4,-86.8C4076.68,-75.16 4077.05,-59.55 4077.36,-46.24\"/>\n<polygon fill=\"black\" stroke=\"black\" points=\"4080.86,-46.26 4077.6,-36.18 4073.86,-46.09 4080.86,-46.26\"/>\n<text text-anchor=\"middle\" x=\"4088.5\" y=\"-57.8\" font-family=\"Times,serif\" font-size=\"14.00\">Yes</text>\n</g>\n<!-- 105 -->\n<g id=\"node106\" class=\"node\">\n<title>105</title>\n<polygon fill=\"none\" stroke=\"red\" points=\"4220,-36 4136,-36 4136,0 4220,0 4220,-36\"/>\n<text text-anchor=\"middle\" x=\"4178\" y=\"-14.3\" font-family=\"Times,serif\" font-size=\"14.00\">val = &#45;0.005</text>\n</g>\n<!-- 52&#45;&gt;105 -->\n<g id=\"edge105\" class=\"edge\">\n<title>52&#45;&gt;105</title>\n<path fill=\"none\" stroke=\"black\" d=\"M4206.71,-86.8C4201.69,-74.93 4194.91,-58.93 4189.2,-45.45\"/>\n<polygon fill=\"black\" stroke=\"black\" points=\"4192.4,-44.02 4185.27,-36.18 4185.95,-46.75 4192.4,-44.02\"/>\n<text text-anchor=\"middle\" x=\"4207.5\" y=\"-57.8\" font-family=\"Times,serif\" font-size=\"14.00\">No</text>\n</g>\n<!-- 106 -->\n<g id=\"node107\" class=\"node\">\n<title>106</title>\n<polygon fill=\"none\" stroke=\"red\" points=\"4318,-36 4238,-36 4238,0 4318,0 4318,-36\"/>\n<text text-anchor=\"middle\" x=\"4278\" y=\"-14.3\" font-family=\"Times,serif\" font-size=\"14.00\">val = 0.038</text>\n</g>\n<!-- 52&#45;&gt;106 -->\n<g id=\"edge106\" class=\"edge\">\n<title>52&#45;&gt;106</title>\n<path fill=\"none\" stroke=\"black\" d=\"M4226.64,-87.21C4235.88,-74.95 4248.55,-58.11 4259,-44.24\"/>\n<polygon fill=\"black\" stroke=\"black\" points=\"4261.94,-46.14 4265.16,-36.05 4256.35,-41.93 4261.94,-46.14\"/>\n<text text-anchor=\"middle\" x=\"4260.5\" y=\"-57.8\" font-family=\"Times,serif\" font-size=\"14.00\">Yes</text>\n</g>\n<!-- 107 -->\n<g id=\"node108\" class=\"node\">\n<title>107</title>\n<polygon fill=\"none\" stroke=\"red\" points=\"4416,-36 4336,-36 4336,0 4416,0 4416,-36\"/>\n<text text-anchor=\"middle\" x=\"4376\" y=\"-14.3\" font-family=\"Times,serif\" font-size=\"14.00\">val = 0.000</text>\n</g>\n<!-- 53&#45;&gt;107 -->\n<g id=\"edge107\" class=\"edge\">\n<title>53&#45;&gt;107</title>\n<path fill=\"none\" stroke=\"black\" d=\"M4399.13,-86.8C4395.12,-75.05 4389.73,-59.24 4385.16,-45.84\"/>\n<polygon fill=\"black\" stroke=\"black\" points=\"4388.4,-44.51 4381.86,-36.18 4381.78,-46.77 4388.4,-44.51\"/>\n<text text-anchor=\"middle\" x=\"4401.5\" y=\"-57.8\" font-family=\"Times,serif\" font-size=\"14.00\">No</text>\n</g>\n<!-- 108 -->\n<g id=\"node109\" class=\"node\">\n<title>108</title>\n<polygon fill=\"none\" stroke=\"red\" points=\"4514,-36 4434,-36 4434,0 4514,0 4514,-36\"/>\n<text text-anchor=\"middle\" x=\"4474\" y=\"-14.3\" font-family=\"Times,serif\" font-size=\"14.00\">val = 0.000</text>\n</g>\n<!-- 53&#45;&gt;108 -->\n<g id=\"edge108\" class=\"edge\">\n<title>53&#45;&gt;108</title>\n<path fill=\"none\" stroke=\"black\" d=\"M4418.63,-87.21C4428.68,-74.83 4442.51,-57.8 4453.83,-43.85\"/>\n<polygon fill=\"black\" stroke=\"black\" points=\"4456.57,-46.02 4460.16,-36.05 4451.14,-41.61 4456.57,-46.02\"/>\n<text text-anchor=\"middle\" x=\"4454.5\" y=\"-57.8\" font-family=\"Times,serif\" font-size=\"14.00\">Yes</text>\n</g>\n<!-- 109 -->\n<g id=\"node110\" class=\"node\">\n<title>109</title>\n<polygon fill=\"none\" stroke=\"red\" points=\"4612,-36 4532,-36 4532,0 4612,0 4612,-36\"/>\n<text text-anchor=\"middle\" x=\"4572\" y=\"-14.3\" font-family=\"Times,serif\" font-size=\"14.00\">val = 0.000</text>\n</g>\n<!-- 54&#45;&gt;109 -->\n<g id=\"edge109\" class=\"edge\">\n<title>54&#45;&gt;109</title>\n<path fill=\"none\" stroke=\"black\" d=\"M4572,-86.8C4572,-75.16 4572,-59.55 4572,-46.24\"/>\n<polygon fill=\"black\" stroke=\"black\" points=\"4575.5,-46.18 4572,-36.18 4568.5,-46.18 4575.5,-46.18\"/>\n<text text-anchor=\"middle\" x=\"4580.5\" y=\"-57.8\" font-family=\"Times,serif\" font-size=\"14.00\">No</text>\n</g>\n<!-- 110 -->\n<g id=\"node111\" class=\"node\">\n<title>110</title>\n<polygon fill=\"none\" stroke=\"red\" points=\"4710,-36 4630,-36 4630,0 4710,0 4710,-36\"/>\n<text text-anchor=\"middle\" x=\"4670\" y=\"-14.3\" font-family=\"Times,serif\" font-size=\"14.00\">val = 0.000</text>\n</g>\n<!-- 54&#45;&gt;110 -->\n<g id=\"edge110\" class=\"edge\">\n<title>54&#45;&gt;110</title>\n<path fill=\"none\" stroke=\"black\" d=\"M4590.9,-87.61C4605.52,-74.92 4625.99,-57.17 4642.44,-42.9\"/>\n<polygon fill=\"black\" stroke=\"black\" points=\"4644.89,-45.41 4650.15,-36.21 4640.31,-40.12 4644.89,-45.41\"/>\n<text text-anchor=\"middle\" x=\"4637.5\" y=\"-57.8\" font-family=\"Times,serif\" font-size=\"14.00\">Yes</text>\n</g>\n<!-- 111 -->\n<g id=\"node112\" class=\"node\">\n<title>111</title>\n<polygon fill=\"none\" stroke=\"red\" points=\"4812,-36 4728,-36 4728,0 4812,0 4812,-36\"/>\n<text text-anchor=\"middle\" x=\"4770\" y=\"-14.3\" font-family=\"Times,serif\" font-size=\"14.00\">val = &#45;0.003</text>\n</g>\n<!-- 55&#45;&gt;111 -->\n<g id=\"edge111\" class=\"edge\">\n<title>55&#45;&gt;111</title>\n<path fill=\"none\" stroke=\"black\" d=\"M4850.72,-87.61C4835.79,-74.92 4814.91,-57.17 4798.12,-42.9\"/>\n<polygon fill=\"black\" stroke=\"black\" points=\"4800.14,-40.02 4790.25,-36.21 4795.6,-45.36 4800.14,-40.02\"/>\n<text text-anchor=\"middle\" x=\"4834.5\" y=\"-57.8\" font-family=\"Times,serif\" font-size=\"14.00\">No</text>\n</g>\n<!-- 112 -->\n<g id=\"node113\" class=\"node\">\n<title>112</title>\n<polygon fill=\"none\" stroke=\"red\" points=\"4910,-36 4830,-36 4830,0 4910,0 4910,-36\"/>\n<text text-anchor=\"middle\" x=\"4870\" y=\"-14.3\" font-family=\"Times,serif\" font-size=\"14.00\">val = 0.000</text>\n</g>\n<!-- 55&#45;&gt;112 -->\n<g id=\"edge112\" class=\"edge\">\n<title>55&#45;&gt;112</title>\n<path fill=\"none\" stroke=\"black\" d=\"M4870,-86.8C4870,-75.16 4870,-59.55 4870,-46.24\"/>\n<polygon fill=\"black\" stroke=\"black\" points=\"4873.5,-46.18 4870,-36.18 4866.5,-46.18 4873.5,-46.18\"/>\n<text text-anchor=\"middle\" x=\"4880.5\" y=\"-57.8\" font-family=\"Times,serif\" font-size=\"14.00\">Yes</text>\n</g>\n<!-- 113 -->\n<g id=\"node114\" class=\"node\">\n<title>113</title>\n<polygon fill=\"none\" stroke=\"red\" points=\"5012,-36 4928,-36 4928,0 5012,0 5012,-36\"/>\n<text text-anchor=\"middle\" x=\"4970\" y=\"-14.3\" font-family=\"Times,serif\" font-size=\"14.00\">val = &#45;0.005</text>\n</g>\n<!-- 56&#45;&gt;113 -->\n<g id=\"edge113\" class=\"edge\">\n<title>56&#45;&gt;113</title>\n<path fill=\"none\" stroke=\"black\" d=\"M5025.37,-87.21C5015.32,-74.83 5001.49,-57.8 4990.17,-43.85\"/>\n<polygon fill=\"black\" stroke=\"black\" points=\"4992.86,-41.61 4983.84,-36.05 4987.43,-46.02 4992.86,-41.61\"/>\n<text text-anchor=\"middle\" x=\"5017.5\" y=\"-57.8\" font-family=\"Times,serif\" font-size=\"14.00\">No</text>\n</g>\n<!-- 114 -->\n<g id=\"node115\" class=\"node\">\n<title>114</title>\n<polygon fill=\"none\" stroke=\"red\" points=\"5110,-36 5030,-36 5030,0 5110,0 5110,-36\"/>\n<text text-anchor=\"middle\" x=\"5070\" y=\"-14.3\" font-family=\"Times,serif\" font-size=\"14.00\">val = 0.000</text>\n</g>\n<!-- 56&#45;&gt;114 -->\n<g id=\"edge114\" class=\"edge\">\n<title>56&#45;&gt;114</title>\n<path fill=\"none\" stroke=\"black\" d=\"M5045.27,-86.8C5049.56,-75.05 5055.32,-59.24 5060.21,-45.84\"/>\n<polygon fill=\"black\" stroke=\"black\" points=\"5063.6,-46.77 5063.74,-36.18 5057.02,-44.37 5063.6,-46.77\"/>\n<text text-anchor=\"middle\" x=\"5067.5\" y=\"-57.8\" font-family=\"Times,serif\" font-size=\"14.00\">Yes</text>\n</g>\n<!-- 115 -->\n<g id=\"node116\" class=\"node\">\n<title>115</title>\n<polygon fill=\"none\" stroke=\"red\" points=\"5208,-36 5128,-36 5128,0 5208,0 5208,-36\"/>\n<text text-anchor=\"middle\" x=\"5168\" y=\"-14.3\" font-family=\"Times,serif\" font-size=\"14.00\">val = 0.000</text>\n</g>\n<!-- 57&#45;&gt;115 -->\n<g id=\"edge115\" class=\"edge\">\n<title>57&#45;&gt;115</title>\n<path fill=\"none\" stroke=\"black\" d=\"M5206.52,-87.21C5199.72,-75.18 5190.45,-58.75 5182.7,-45.03\"/>\n<polygon fill=\"black\" stroke=\"black\" points=\"5185.59,-43.04 5177.63,-36.05 5179.5,-46.48 5185.59,-43.04\"/>\n<text text-anchor=\"middle\" x=\"5203.5\" y=\"-57.8\" font-family=\"Times,serif\" font-size=\"14.00\">No</text>\n</g>\n<!-- 116 -->\n<g id=\"node117\" class=\"node\">\n<title>116</title>\n<polygon fill=\"none\" stroke=\"red\" points=\"5306,-36 5226,-36 5226,0 5306,0 5306,-36\"/>\n<text text-anchor=\"middle\" x=\"5266\" y=\"-14.3\" font-family=\"Times,serif\" font-size=\"14.00\">val = 0.000</text>\n</g>\n<!-- 57&#45;&gt;116 -->\n<g id=\"edge116\" class=\"edge\">\n<title>57&#45;&gt;116</title>\n<path fill=\"none\" stroke=\"black\" d=\"M5225.88,-87.21C5232.95,-75.18 5242.62,-58.75 5250.69,-45.03\"/>\n<polygon fill=\"black\" stroke=\"black\" points=\"5253.92,-46.44 5255.97,-36.05 5247.88,-42.89 5253.92,-46.44\"/>\n<text text-anchor=\"middle\" x=\"5254.5\" y=\"-57.8\" font-family=\"Times,serif\" font-size=\"14.00\">Yes</text>\n</g>\n<!-- 117 -->\n<g id=\"node118\" class=\"node\">\n<title>117</title>\n<polygon fill=\"none\" stroke=\"red\" points=\"5404,-36 5324,-36 5324,0 5404,0 5404,-36\"/>\n<text text-anchor=\"middle\" x=\"5364\" y=\"-14.3\" font-family=\"Times,serif\" font-size=\"14.00\">val = 0.000</text>\n</g>\n<!-- 58&#45;&gt;117 -->\n<g id=\"edge117\" class=\"edge\">\n<title>58&#45;&gt;117</title>\n<path fill=\"none\" stroke=\"black\" d=\"M5364,-86.8C5364,-75.16 5364,-59.55 5364,-46.24\"/>\n<polygon fill=\"black\" stroke=\"black\" points=\"5367.5,-46.18 5364,-36.18 5360.5,-46.18 5367.5,-46.18\"/>\n<text text-anchor=\"middle\" x=\"5372.5\" y=\"-57.8\" font-family=\"Times,serif\" font-size=\"14.00\">No</text>\n</g>\n<!-- 118 -->\n<g id=\"node119\" class=\"node\">\n<title>118</title>\n<polygon fill=\"none\" stroke=\"red\" points=\"5502,-36 5422,-36 5422,0 5502,0 5502,-36\"/>\n<text text-anchor=\"middle\" x=\"5462\" y=\"-14.3\" font-family=\"Times,serif\" font-size=\"14.00\">val = 0.000</text>\n</g>\n<!-- 58&#45;&gt;118 -->\n<g id=\"edge118\" class=\"edge\">\n<title>58&#45;&gt;118</title>\n<path fill=\"none\" stroke=\"black\" d=\"M5382.9,-87.61C5397.52,-74.92 5417.99,-57.17 5434.44,-42.9\"/>\n<polygon fill=\"black\" stroke=\"black\" points=\"5436.89,-45.41 5442.15,-36.21 5432.31,-40.12 5436.89,-45.41\"/>\n<text text-anchor=\"middle\" x=\"5429.5\" y=\"-57.8\" font-family=\"Times,serif\" font-size=\"14.00\">Yes</text>\n</g>\n<!-- 119 -->\n<g id=\"node120\" class=\"node\">\n<title>119</title>\n<polygon fill=\"none\" stroke=\"red\" points=\"5600,-36 5520,-36 5520,0 5600,0 5600,-36\"/>\n<text text-anchor=\"middle\" x=\"5560\" y=\"-14.3\" font-family=\"Times,serif\" font-size=\"14.00\">val = 0.000</text>\n</g>\n<!-- 59&#45;&gt;119 -->\n<g id=\"edge119\" class=\"edge\">\n<title>59&#45;&gt;119</title>\n<path fill=\"none\" stroke=\"black\" d=\"M5623.39,-87.21C5611.78,-74.72 5595.76,-57.48 5582.73,-43.46\"/>\n<polygon fill=\"black\" stroke=\"black\" points=\"5585.22,-40.99 5575.85,-36.05 5580.09,-45.76 5585.22,-40.99\"/>\n<text text-anchor=\"middle\" x=\"5613.5\" y=\"-57.8\" font-family=\"Times,serif\" font-size=\"14.00\">No</text>\n</g>\n<!-- 120 -->\n<g id=\"node121\" class=\"node\">\n<title>120</title>\n<polygon fill=\"none\" stroke=\"red\" points=\"5698,-36 5618,-36 5618,0 5698,0 5698,-36\"/>\n<text text-anchor=\"middle\" x=\"5658\" y=\"-14.3\" font-family=\"Times,serif\" font-size=\"14.00\">val = 0.000</text>\n</g>\n<!-- 59&#45;&gt;120 -->\n<g id=\"edge120\" class=\"edge\">\n<title>59&#45;&gt;120</title>\n<path fill=\"none\" stroke=\"black\" d=\"M5642.84,-86.8C5645.45,-75.16 5648.94,-59.55 5651.91,-46.24\"/>\n<polygon fill=\"black\" stroke=\"black\" points=\"5655.39,-46.7 5654.16,-36.18 5648.56,-45.17 5655.39,-46.7\"/>\n<text text-anchor=\"middle\" x=\"5660.5\" y=\"-57.8\" font-family=\"Times,serif\" font-size=\"14.00\">Yes</text>\n</g>\n<!-- 121 -->\n<g id=\"node122\" class=\"node\">\n<title>121</title>\n<polygon fill=\"none\" stroke=\"red\" points=\"5800,-36 5716,-36 5716,0 5800,0 5800,-36\"/>\n<text text-anchor=\"middle\" x=\"5758\" y=\"-14.3\" font-family=\"Times,serif\" font-size=\"14.00\">val = &#45;0.006</text>\n</g>\n<!-- 60&#45;&gt;121 -->\n<g id=\"edge121\" class=\"edge\">\n<title>60&#45;&gt;121</title>\n<path fill=\"none\" stroke=\"black\" d=\"M5773.16,-86.8C5770.55,-75.16 5767.06,-59.55 5764.09,-46.24\"/>\n<polygon fill=\"black\" stroke=\"black\" points=\"5767.44,-45.17 5761.84,-36.18 5760.61,-46.7 5767.44,-45.17\"/>\n<text text-anchor=\"middle\" x=\"5777.5\" y=\"-57.8\" font-family=\"Times,serif\" font-size=\"14.00\">No</text>\n</g>\n<!-- 122 -->\n<g id=\"node123\" class=\"node\">\n<title>122</title>\n<polygon fill=\"none\" stroke=\"red\" points=\"5898,-36 5818,-36 5818,0 5898,0 5898,-36\"/>\n<text text-anchor=\"middle\" x=\"5858\" y=\"-14.3\" font-family=\"Times,serif\" font-size=\"14.00\">val = 0.000</text>\n</g>\n<!-- 60&#45;&gt;122 -->\n<g id=\"edge122\" class=\"edge\">\n<title>60&#45;&gt;122</title>\n<path fill=\"none\" stroke=\"black\" d=\"M5792.62,-87.61C5804.49,-75.16 5821.01,-57.81 5834.48,-43.68\"/>\n<polygon fill=\"black\" stroke=\"black\" points=\"5837.23,-45.87 5841.6,-36.21 5832.16,-41.04 5837.23,-45.87\"/>\n<text text-anchor=\"middle\" x=\"5833.5\" y=\"-57.8\" font-family=\"Times,serif\" font-size=\"14.00\">Yes</text>\n</g>\n<!-- 123 -->\n<g id=\"node124\" class=\"node\">\n<title>123</title>\n<polygon fill=\"none\" stroke=\"red\" points=\"5996,-36 5916,-36 5916,0 5996,0 5996,-36\"/>\n<text text-anchor=\"middle\" x=\"5956\" y=\"-14.3\" font-family=\"Times,serif\" font-size=\"14.00\">val = 0.000</text>\n</g>\n<!-- 61&#45;&gt;123 -->\n<g id=\"edge123\" class=\"edge\">\n<title>61&#45;&gt;123</title>\n<path fill=\"none\" stroke=\"black\" d=\"M5979.13,-86.8C5975.12,-75.05 5969.73,-59.24 5965.16,-45.84\"/>\n<polygon fill=\"black\" stroke=\"black\" points=\"5968.4,-44.51 5961.86,-36.18 5961.78,-46.77 5968.4,-44.51\"/>\n<text text-anchor=\"middle\" x=\"5981.5\" y=\"-57.8\" font-family=\"Times,serif\" font-size=\"14.00\">No</text>\n</g>\n<!-- 124 -->\n<g id=\"node125\" class=\"node\">\n<title>124</title>\n<polygon fill=\"none\" stroke=\"red\" points=\"6094,-36 6014,-36 6014,0 6094,0 6094,-36\"/>\n<text text-anchor=\"middle\" x=\"6054\" y=\"-14.3\" font-family=\"Times,serif\" font-size=\"14.00\">val = 0.000</text>\n</g>\n<!-- 61&#45;&gt;124 -->\n<g id=\"edge124\" class=\"edge\">\n<title>61&#45;&gt;124</title>\n<path fill=\"none\" stroke=\"black\" d=\"M5998.63,-87.21C6008.68,-74.83 6022.51,-57.8 6033.83,-43.85\"/>\n<polygon fill=\"black\" stroke=\"black\" points=\"6036.57,-46.02 6040.16,-36.05 6031.14,-41.61 6036.57,-46.02\"/>\n<text text-anchor=\"middle\" x=\"6034.5\" y=\"-57.8\" font-family=\"Times,serif\" font-size=\"14.00\">Yes</text>\n</g>\n<!-- 125 -->\n<g id=\"node126\" class=\"node\">\n<title>125</title>\n<polygon fill=\"none\" stroke=\"red\" points=\"6192,-36 6112,-36 6112,0 6192,0 6192,-36\"/>\n<text text-anchor=\"middle\" x=\"6152\" y=\"-14.3\" font-family=\"Times,serif\" font-size=\"14.00\">val = 0.000</text>\n</g>\n<!-- 62&#45;&gt;125 -->\n<g id=\"edge125\" class=\"edge\">\n<title>62&#45;&gt;125</title>\n<path fill=\"none\" stroke=\"black\" d=\"M6152,-86.8C6152,-75.16 6152,-59.55 6152,-46.24\"/>\n<polygon fill=\"black\" stroke=\"black\" points=\"6155.5,-46.18 6152,-36.18 6148.5,-46.18 6155.5,-46.18\"/>\n<text text-anchor=\"middle\" x=\"6160.5\" y=\"-57.8\" font-family=\"Times,serif\" font-size=\"14.00\">No</text>\n</g>\n<!-- 126 -->\n<g id=\"node127\" class=\"node\">\n<title>126</title>\n<polygon fill=\"none\" stroke=\"red\" points=\"6290,-36 6210,-36 6210,0 6290,0 6290,-36\"/>\n<text text-anchor=\"middle\" x=\"6250\" y=\"-14.3\" font-family=\"Times,serif\" font-size=\"14.00\">val = 0.000</text>\n</g>\n<!-- 62&#45;&gt;126 -->\n<g id=\"edge126\" class=\"edge\">\n<title>62&#45;&gt;126</title>\n<path fill=\"none\" stroke=\"black\" d=\"M6170.9,-87.61C6185.52,-74.92 6205.99,-57.17 6222.44,-42.9\"/>\n<polygon fill=\"black\" stroke=\"black\" points=\"6224.89,-45.41 6230.15,-36.21 6220.31,-40.12 6224.89,-45.41\"/>\n<text text-anchor=\"middle\" x=\"6217.5\" y=\"-57.8\" font-family=\"Times,serif\" font-size=\"14.00\">Yes</text>\n</g>\n</g>\n</svg>\n",
            "text/plain": [
              "<graphviz.graphs.Digraph at 0x7f9ac8c6ad10>"
            ]
          },
          "metadata": {},
          "execution_count": 138
        }
      ]
    },
    {
      "cell_type": "markdown",
      "source": [
        "#### Boosting iper parametri\n",
        "\n",
        "Proviamo a vedere ora se riusciamo ad ottenre un valore ancora migliore attraverso un **boosting**, in particolare andiamo a toccare:\n",
        "* `learning_rate`\n",
        "* `depth`\n",
        "* `iterations`"
      ],
      "metadata": {
        "id": "kS0v3Mqo-LmG"
      }
    },
    {
      "cell_type": "code",
      "source": [
        "param_grid = {\n",
        "    'learning_rate': [0.1, 0.01, 0.001],\n",
        "    'depth': [3, 5, 7],\n",
        "    'iterations': [100, 500, 1000]\n",
        "}\n",
        "cbmc = CatBoostClassifier(verbose=0)\n",
        "\n",
        "gscv = boosting_hyperparameters(classifier=cbmc, params=params_grid, X_boosting=None,  y_boosting=None, name=\"CatBoost\") "
      ],
      "metadata": {
        "colab": {
          "base_uri": "https://localhost:8080/"
        },
        "id": "gus0e5mC5fL7",
        "outputId": "abad042c-3d00-453f-e409-31c5e9f5c372"
      },
      "execution_count": null,
      "outputs": [
        {
          "output_type": "stream",
          "name": "stdout",
          "text": [
            "             Migliori iperparametri per CatBoost : {'learning_rate': 0.1, 'max_depth': 3, 'n_estimators': 200}\n",
            "Punteggio medio di cross-validation per CatBoost :       0.9880\n",
            " \n",
            "\n"
          ]
        }
      ]
    },
    {
      "cell_type": "markdown",
      "metadata": {
        "id": "WRXvOhXQwXXy"
      },
      "source": [
        "In questo caso il valore che ottiniamo dopo il **boosting** arriva a toccare un valore vicino a 0.99, toccando quasi alla \"perfezione\". Proviamo ora invece ad sviluppare dei modelli di *classificazione*. "
      ]
    },
    {
      "cell_type": "markdown",
      "metadata": {
        "id": "0lL6F1hRN6HG"
      },
      "source": [
        "### Modelli di Classificazione\n",
        "Per i modelli di classificazione, per mantenere il numero delle classi di `NSP` costanti all'interno di ogni fold, è necessario utilizzare una `StratifiedKFold`.\n"
      ]
    },
    {
      "cell_type": "code",
      "execution_count": null,
      "metadata": {
        "id": "Wlmi8WPWN7I7"
      },
      "outputs": [],
      "source": [
        "skf = StratifiedKFold(3, shuffle=True, random_state=1926)"
      ]
    },
    {
      "cell_type": "markdown",
      "source": [
        "Aggiungiamo questa linea di codice per evitare che gli output si riempiano di `FeatureWarning`"
      ],
      "metadata": {
        "id": "GgIQctS-ePZf"
      }
    },
    {
      "cell_type": "code",
      "source": [
        "def warn(*args, **kwargs):\n",
        "    pass\n",
        "import warnings\n",
        "warnings.warn = warn"
      ],
      "metadata": {
        "id": "G01bKLK7eWoQ"
      },
      "execution_count": null,
      "outputs": []
    },
    {
      "cell_type": "markdown",
      "metadata": {
        "id": "tNvDL4CoODU5"
      },
      "source": [
        "A questo punto possiamo definire una funzione per poter agevolmente calcolare i risultati della Cross Validation di modelli di classificazione."
      ]
    },
    {
      "cell_type": "code",
      "execution_count": null,
      "metadata": {
        "id": "jtcoE7ATOAT4"
      },
      "outputs": [],
      "source": [
        "def grid_search_class(model, grid, X_train, y_train, cv=skf):\n",
        "    gs = GridSearchCV(model, grid, cv=cv)\n",
        "    gs.fit(X_train, y_train)\n",
        "    return (\n",
        "        gs,\n",
        "        pd.DataFrame(gs.cv_results_).sort_values('mean_test_score', ascending=False).head()\n",
        "    )"
      ]
    },
    {
      "cell_type": "markdown",
      "metadata": {
        "id": "FFAzKG5KOHOD"
      },
      "source": [
        "##### Classificazione Lineare\n",
        "Inizialmente testiamo un modello di classificazione molto semplice di classificazione Lineare, avvalendoci dell'algoritmo di apprendimento `Perceptron`."
      ]
    },
    {
      "cell_type": "code",
      "execution_count": null,
      "metadata": {
        "id": "etzyn4UiOKEQ",
        "colab": {
          "base_uri": "https://localhost:8080/"
        },
        "outputId": "1f106a45-0b3e-4b07-b3a8-84bf751f1006"
      },
      "outputs": [
        {
          "output_type": "execute_result",
          "data": {
            "text/plain": [
              "0.3342736248236953"
            ]
          },
          "metadata": {},
          "execution_count": 155
        }
      ],
      "source": [
        "from sklearn.linear_model import Perceptron\n",
        "model = Perceptron(random_state=1926)\n",
        "\n",
        "model.fit(X_train, y_train)\n",
        "model.score(X_test, y_test)"
      ]
    },
    {
      "cell_type": "markdown",
      "metadata": {
        "id": "Ls4uLjw4OmxP"
      },
      "source": [
        "Per i modelli di classificazione, è importante adottare misurazioni differenti. In questo caso è interessante controllare lo stato della **_Confusion Matrix_**, e per la valutazione possiamo usare `f1_score`, ovvero la media armonica tra le misure `recall` e `precision`, entrambe misure ricavate dall'accuratezza di predizioni di classe dalla *confusion matrix*."
      ]
    },
    {
      "cell_type": "code",
      "source": [
        "from sklearn.metrics import confusion_matrix, precision_score, recall_score, f1_score\n",
        "\n",
        "labels = { 1: 'Normal', 2: 'Suspect', 3: 'Pathological' }\n",
        "\n",
        "def get_confusion_matrix(model, y_true, y_pred, normalize=None):\n",
        "    cm = pd.DataFrame(\n",
        "        confusion_matrix(y_true, y_pred, normalize=normalize),\n",
        "        index=model.classes_, columns=model.classes_\n",
        "    )\n",
        "\n",
        "    cm.index = [ labels[i] for i in cm.index ]\n",
        "    cm.columns = [ labels[i] for i in cm.columns ]\n",
        "    return cm\n",
        "\n",
        "def get_percentage_cm(cm: pd.DataFrame)-> pd.DataFrame:\n",
        "    return (cm * 100).round(2).astype(str) + '%'\n",
        "\n",
        "def get_coefficients_frame(gs, idx):\n",
        "    return pd.DataFrame(\n",
        "        {\n",
        "            \"Normal\": gs.best_estimator_['regr'].coef_[0],\n",
        "            \"Suspect\": gs.best_estimator_['regr'].coef_[1],\n",
        "            \"Pathological\": gs.best_estimator_['regr'].coef_[2],\n",
        "        }, index=idx\n",
        "    )\n",
        "\n",
        "def print_f1_score(score):\n",
        "    print(f\"F1 Score: {score:5.4f}\")\n",
        "\n",
        "def get_f1_score(model, y_test, X_test):\n",
        "    return f1_score(y_test, model.predict(X_test), average='macro')"
      ],
      "metadata": {
        "id": "3PGFN6uIQpZ9"
      },
      "execution_count": null,
      "outputs": []
    },
    {
      "cell_type": "code",
      "source": [
        "get_confusion_matrix(model, y_test, model.predict(X_test))"
      ],
      "metadata": {
        "id": "fl95t00GTsy-",
        "colab": {
          "base_uri": "https://localhost:8080/",
          "height": 142
        },
        "outputId": "ecdef646-6962-4154-e95b-f8c82c4f61df"
      },
      "execution_count": null,
      "outputs": [
        {
          "output_type": "execute_result",
          "data": {
            "text/plain": [
              "              Normal  Suspect  Pathological\n",
              "Normal           125      191           236\n",
              "Suspect            4       75            19\n",
              "Pathological       0       22            37"
            ],
            "text/html": [
              "\n",
              "  <div id=\"df-da8f8d03-a276-4a80-86c5-b390a9f1fa5c\">\n",
              "    <div class=\"colab-df-container\">\n",
              "      <div>\n",
              "<style scoped>\n",
              "    .dataframe tbody tr th:only-of-type {\n",
              "        vertical-align: middle;\n",
              "    }\n",
              "\n",
              "    .dataframe tbody tr th {\n",
              "        vertical-align: top;\n",
              "    }\n",
              "\n",
              "    .dataframe thead th {\n",
              "        text-align: right;\n",
              "    }\n",
              "</style>\n",
              "<table border=\"1\" class=\"dataframe\">\n",
              "  <thead>\n",
              "    <tr style=\"text-align: right;\">\n",
              "      <th></th>\n",
              "      <th>Normal</th>\n",
              "      <th>Suspect</th>\n",
              "      <th>Pathological</th>\n",
              "    </tr>\n",
              "  </thead>\n",
              "  <tbody>\n",
              "    <tr>\n",
              "      <th>Normal</th>\n",
              "      <td>125</td>\n",
              "      <td>191</td>\n",
              "      <td>236</td>\n",
              "    </tr>\n",
              "    <tr>\n",
              "      <th>Suspect</th>\n",
              "      <td>4</td>\n",
              "      <td>75</td>\n",
              "      <td>19</td>\n",
              "    </tr>\n",
              "    <tr>\n",
              "      <th>Pathological</th>\n",
              "      <td>0</td>\n",
              "      <td>22</td>\n",
              "      <td>37</td>\n",
              "    </tr>\n",
              "  </tbody>\n",
              "</table>\n",
              "</div>\n",
              "      <button class=\"colab-df-convert\" onclick=\"convertToInteractive('df-da8f8d03-a276-4a80-86c5-b390a9f1fa5c')\"\n",
              "              title=\"Convert this dataframe to an interactive table.\"\n",
              "              style=\"display:none;\">\n",
              "        \n",
              "  <svg xmlns=\"http://www.w3.org/2000/svg\" height=\"24px\"viewBox=\"0 0 24 24\"\n",
              "       width=\"24px\">\n",
              "    <path d=\"M0 0h24v24H0V0z\" fill=\"none\"/>\n",
              "    <path d=\"M18.56 5.44l.94 2.06.94-2.06 2.06-.94-2.06-.94-.94-2.06-.94 2.06-2.06.94zm-11 1L8.5 8.5l.94-2.06 2.06-.94-2.06-.94L8.5 2.5l-.94 2.06-2.06.94zm10 10l.94 2.06.94-2.06 2.06-.94-2.06-.94-.94-2.06-.94 2.06-2.06.94z\"/><path d=\"M17.41 7.96l-1.37-1.37c-.4-.4-.92-.59-1.43-.59-.52 0-1.04.2-1.43.59L10.3 9.45l-7.72 7.72c-.78.78-.78 2.05 0 2.83L4 21.41c.39.39.9.59 1.41.59.51 0 1.02-.2 1.41-.59l7.78-7.78 2.81-2.81c.8-.78.8-2.07 0-2.86zM5.41 20L4 18.59l7.72-7.72 1.47 1.35L5.41 20z\"/>\n",
              "  </svg>\n",
              "      </button>\n",
              "      \n",
              "  <style>\n",
              "    .colab-df-container {\n",
              "      display:flex;\n",
              "      flex-wrap:wrap;\n",
              "      gap: 12px;\n",
              "    }\n",
              "\n",
              "    .colab-df-convert {\n",
              "      background-color: #E8F0FE;\n",
              "      border: none;\n",
              "      border-radius: 50%;\n",
              "      cursor: pointer;\n",
              "      display: none;\n",
              "      fill: #1967D2;\n",
              "      height: 32px;\n",
              "      padding: 0 0 0 0;\n",
              "      width: 32px;\n",
              "    }\n",
              "\n",
              "    .colab-df-convert:hover {\n",
              "      background-color: #E2EBFA;\n",
              "      box-shadow: 0px 1px 2px rgba(60, 64, 67, 0.3), 0px 1px 3px 1px rgba(60, 64, 67, 0.15);\n",
              "      fill: #174EA6;\n",
              "    }\n",
              "\n",
              "    [theme=dark] .colab-df-convert {\n",
              "      background-color: #3B4455;\n",
              "      fill: #D2E3FC;\n",
              "    }\n",
              "\n",
              "    [theme=dark] .colab-df-convert:hover {\n",
              "      background-color: #434B5C;\n",
              "      box-shadow: 0px 1px 3px 1px rgba(0, 0, 0, 0.15);\n",
              "      filter: drop-shadow(0px 1px 2px rgba(0, 0, 0, 0.3));\n",
              "      fill: #FFFFFF;\n",
              "    }\n",
              "  </style>\n",
              "\n",
              "      <script>\n",
              "        const buttonEl =\n",
              "          document.querySelector('#df-da8f8d03-a276-4a80-86c5-b390a9f1fa5c button.colab-df-convert');\n",
              "        buttonEl.style.display =\n",
              "          google.colab.kernel.accessAllowed ? 'block' : 'none';\n",
              "\n",
              "        async function convertToInteractive(key) {\n",
              "          const element = document.querySelector('#df-da8f8d03-a276-4a80-86c5-b390a9f1fa5c');\n",
              "          const dataTable =\n",
              "            await google.colab.kernel.invokeFunction('convertToInteractive',\n",
              "                                                     [key], {});\n",
              "          if (!dataTable) return;\n",
              "\n",
              "          const docLinkHtml = 'Like what you see? Visit the ' +\n",
              "            '<a target=\"_blank\" href=https://colab.research.google.com/notebooks/data_table.ipynb>data table notebook</a>'\n",
              "            + ' to learn more about interactive tables.';\n",
              "          element.innerHTML = '';\n",
              "          dataTable['output_type'] = 'display_data';\n",
              "          await google.colab.output.renderOutput(dataTable, element);\n",
              "          const docLink = document.createElement('div');\n",
              "          docLink.innerHTML = docLinkHtml;\n",
              "          element.appendChild(docLink);\n",
              "        }\n",
              "      </script>\n",
              "    </div>\n",
              "  </div>\n",
              "  "
            ]
          },
          "metadata": {},
          "execution_count": 157
        }
      ]
    },
    {
      "cell_type": "code",
      "source": [
        "print_f1_score(get_f1_score(model, y_test, X_test))"
      ],
      "metadata": {
        "colab": {
          "base_uri": "https://localhost:8080/"
        },
        "id": "O38poXN-ciIG",
        "outputId": "bbe21159-8ae0-424e-85b1-684a3587aa4c"
      },
      "execution_count": null,
      "outputs": [
        {
          "output_type": "stream",
          "name": "stdout",
          "text": [
            "F1 Score: 0.3222\n"
          ]
        }
      ]
    },
    {
      "cell_type": "markdown",
      "source": [
        "La *confusion matrix* rispecchia la conformazione del dataset, ovvero che lo sbilanciamento delle classi di `NSP` porta inevitabilmente ad uno squilibrio nella predizione di classi. In questo caso, il modello `Perceptron` per sopperire allo sbilianciamento di record con classi `Suspect` e `Patological`, mostra risultati perggiori nella classe `Normal` e una piuttosto forte inclinazione verso `Pathological`.\n",
        "\n",
        "Potrebbe essere più d'aiuto visualizzare i dati in percentuale.\n"
      ],
      "metadata": {
        "id": "LsT-5rWbWwye"
      }
    },
    {
      "cell_type": "code",
      "source": [
        "cm_perc = get_percentage_cm(\n",
        "    get_confusion_matrix(model, y_test, model.predict(X_test), normalize='true'))\n",
        "\n",
        "cm_perc"
      ],
      "metadata": {
        "id": "7NYCWkzTXHW-",
        "colab": {
          "base_uri": "https://localhost:8080/",
          "height": 142
        },
        "outputId": "2458e451-72a0-4d72-ec56-0244ea330dba"
      },
      "execution_count": null,
      "outputs": [
        {
          "output_type": "execute_result",
          "data": {
            "text/plain": [
              "              Normal Suspect Pathological\n",
              "Normal        22.64%   34.6%       42.75%\n",
              "Suspect        4.08%  76.53%       19.39%\n",
              "Pathological    0.0%  37.29%       62.71%"
            ],
            "text/html": [
              "\n",
              "  <div id=\"df-b7c12626-7485-4430-bc8a-333d0ab7a5d1\">\n",
              "    <div class=\"colab-df-container\">\n",
              "      <div>\n",
              "<style scoped>\n",
              "    .dataframe tbody tr th:only-of-type {\n",
              "        vertical-align: middle;\n",
              "    }\n",
              "\n",
              "    .dataframe tbody tr th {\n",
              "        vertical-align: top;\n",
              "    }\n",
              "\n",
              "    .dataframe thead th {\n",
              "        text-align: right;\n",
              "    }\n",
              "</style>\n",
              "<table border=\"1\" class=\"dataframe\">\n",
              "  <thead>\n",
              "    <tr style=\"text-align: right;\">\n",
              "      <th></th>\n",
              "      <th>Normal</th>\n",
              "      <th>Suspect</th>\n",
              "      <th>Pathological</th>\n",
              "    </tr>\n",
              "  </thead>\n",
              "  <tbody>\n",
              "    <tr>\n",
              "      <th>Normal</th>\n",
              "      <td>22.64%</td>\n",
              "      <td>34.6%</td>\n",
              "      <td>42.75%</td>\n",
              "    </tr>\n",
              "    <tr>\n",
              "      <th>Suspect</th>\n",
              "      <td>4.08%</td>\n",
              "      <td>76.53%</td>\n",
              "      <td>19.39%</td>\n",
              "    </tr>\n",
              "    <tr>\n",
              "      <th>Pathological</th>\n",
              "      <td>0.0%</td>\n",
              "      <td>37.29%</td>\n",
              "      <td>62.71%</td>\n",
              "    </tr>\n",
              "  </tbody>\n",
              "</table>\n",
              "</div>\n",
              "      <button class=\"colab-df-convert\" onclick=\"convertToInteractive('df-b7c12626-7485-4430-bc8a-333d0ab7a5d1')\"\n",
              "              title=\"Convert this dataframe to an interactive table.\"\n",
              "              style=\"display:none;\">\n",
              "        \n",
              "  <svg xmlns=\"http://www.w3.org/2000/svg\" height=\"24px\"viewBox=\"0 0 24 24\"\n",
              "       width=\"24px\">\n",
              "    <path d=\"M0 0h24v24H0V0z\" fill=\"none\"/>\n",
              "    <path d=\"M18.56 5.44l.94 2.06.94-2.06 2.06-.94-2.06-.94-.94-2.06-.94 2.06-2.06.94zm-11 1L8.5 8.5l.94-2.06 2.06-.94-2.06-.94L8.5 2.5l-.94 2.06-2.06.94zm10 10l.94 2.06.94-2.06 2.06-.94-2.06-.94-.94-2.06-.94 2.06-2.06.94z\"/><path d=\"M17.41 7.96l-1.37-1.37c-.4-.4-.92-.59-1.43-.59-.52 0-1.04.2-1.43.59L10.3 9.45l-7.72 7.72c-.78.78-.78 2.05 0 2.83L4 21.41c.39.39.9.59 1.41.59.51 0 1.02-.2 1.41-.59l7.78-7.78 2.81-2.81c.8-.78.8-2.07 0-2.86zM5.41 20L4 18.59l7.72-7.72 1.47 1.35L5.41 20z\"/>\n",
              "  </svg>\n",
              "      </button>\n",
              "      \n",
              "  <style>\n",
              "    .colab-df-container {\n",
              "      display:flex;\n",
              "      flex-wrap:wrap;\n",
              "      gap: 12px;\n",
              "    }\n",
              "\n",
              "    .colab-df-convert {\n",
              "      background-color: #E8F0FE;\n",
              "      border: none;\n",
              "      border-radius: 50%;\n",
              "      cursor: pointer;\n",
              "      display: none;\n",
              "      fill: #1967D2;\n",
              "      height: 32px;\n",
              "      padding: 0 0 0 0;\n",
              "      width: 32px;\n",
              "    }\n",
              "\n",
              "    .colab-df-convert:hover {\n",
              "      background-color: #E2EBFA;\n",
              "      box-shadow: 0px 1px 2px rgba(60, 64, 67, 0.3), 0px 1px 3px 1px rgba(60, 64, 67, 0.15);\n",
              "      fill: #174EA6;\n",
              "    }\n",
              "\n",
              "    [theme=dark] .colab-df-convert {\n",
              "      background-color: #3B4455;\n",
              "      fill: #D2E3FC;\n",
              "    }\n",
              "\n",
              "    [theme=dark] .colab-df-convert:hover {\n",
              "      background-color: #434B5C;\n",
              "      box-shadow: 0px 1px 3px 1px rgba(0, 0, 0, 0.15);\n",
              "      filter: drop-shadow(0px 1px 2px rgba(0, 0, 0, 0.3));\n",
              "      fill: #FFFFFF;\n",
              "    }\n",
              "  </style>\n",
              "\n",
              "      <script>\n",
              "        const buttonEl =\n",
              "          document.querySelector('#df-b7c12626-7485-4430-bc8a-333d0ab7a5d1 button.colab-df-convert');\n",
              "        buttonEl.style.display =\n",
              "          google.colab.kernel.accessAllowed ? 'block' : 'none';\n",
              "\n",
              "        async function convertToInteractive(key) {\n",
              "          const element = document.querySelector('#df-b7c12626-7485-4430-bc8a-333d0ab7a5d1');\n",
              "          const dataTable =\n",
              "            await google.colab.kernel.invokeFunction('convertToInteractive',\n",
              "                                                     [key], {});\n",
              "          if (!dataTable) return;\n",
              "\n",
              "          const docLinkHtml = 'Like what you see? Visit the ' +\n",
              "            '<a target=\"_blank\" href=https://colab.research.google.com/notebooks/data_table.ipynb>data table notebook</a>'\n",
              "            + ' to learn more about interactive tables.';\n",
              "          element.innerHTML = '';\n",
              "          dataTable['output_type'] = 'display_data';\n",
              "          await google.colab.output.renderOutput(dataTable, element);\n",
              "          const docLink = document.createElement('div');\n",
              "          docLink.innerHTML = docLinkHtml;\n",
              "          element.appendChild(docLink);\n",
              "        }\n",
              "      </script>\n",
              "    </div>\n",
              "  </div>\n",
              "  "
            ]
          },
          "metadata": {},
          "execution_count": 160
        }
      ]
    },
    {
      "cell_type": "markdown",
      "source": [
        "Proviamo ora ad effettuare una Grid Search per individuare i migliori iperparametri. In particolare, `Perceptron`:\n",
        "- Utilizza una funzione di regolarizzazione (`penalty`) variabile tra:\n",
        "  - `l1`\n",
        "  - `l2`\n",
        "  - `elasticnet`\n",
        "    - tramite `l1_ratio` si gestisce il peso della regolarizzazione l1.\n",
        "- Specifcare il parametro `alpha` delle regolarizzazioni\n",
        "- `fit_intercept`\n",
        "\n",
        "Effettuiamo anche valutazioni sull'utilizzo di filtri per la normalizzazione dei dati attraverso `StandardScale` e `MinMaxScaler`, oppure nessuno."
      ],
      "metadata": {
        "id": "doin6pWNXplZ"
      }
    },
    {
      "cell_type": "code",
      "source": [
        "perc = Pipeline([\n",
        "    ('scale', None),\n",
        "    ('regr', Perceptron(random_state=1926))\n",
        "])\n",
        "\n",
        "grid = [\n",
        "    {\n",
        "        'scale': [None, StandardScaler(), MinMaxScaler()],\n",
        "        'regr__penalty': ['l1', 'l2'],\n",
        "        'regr__alpha': np.logspace(-5, 3, 9),\n",
        "        'regr__fit_intercept': [False, True],\n",
        "    },\n",
        "    {\n",
        "        'scale': [None, StandardScaler(), MinMaxScaler()],\n",
        "        'regr__penalty': ['elasticnet'],\n",
        "        'regr__alpha': np.logspace(-5, 3, 9),\n",
        "        'regr__l1_ratio': [0.1, 0.2, 0.3, 0.4, 0.5, 0.6, 0.7, 0.8, 0.9],\n",
        "        'regr__fit_intercept': [False, True],\n",
        "    },\n",
        "    {\n",
        "        'scale': [None, StandardScaler(), MinMaxScaler()],\n",
        "        'regr__penalty': [None]\n",
        "    }\n",
        "]\n",
        "\n",
        "gs, result = grid_search_class(perc, grid, X_train, y_train)"
      ],
      "metadata": {
        "id": "Jt5jnAvFXviH"
      },
      "execution_count": null,
      "outputs": []
    },
    {
      "cell_type": "markdown",
      "source": [
        "I migliori parametri trovati sono"
      ],
      "metadata": {
        "id": "vkywa8OTYOXz"
      }
    },
    {
      "cell_type": "code",
      "source": [
        "result.iloc[0]['params']"
      ],
      "metadata": {
        "id": "JkqvcDcjYXro",
        "colab": {
          "base_uri": "https://localhost:8080/"
        },
        "outputId": "5f17608a-e348-4a88-c235-e0d1c89a31da"
      },
      "execution_count": null,
      "outputs": [
        {
          "output_type": "execute_result",
          "data": {
            "text/plain": [
              "{'regr__alpha': 1e-05,\n",
              " 'regr__fit_intercept': False,\n",
              " 'regr__l1_ratio': 0.5,\n",
              " 'regr__penalty': 'elasticnet',\n",
              " 'scale': MinMaxScaler()}"
            ]
          },
          "metadata": {},
          "execution_count": 162
        }
      ]
    },
    {
      "cell_type": "markdown",
      "source": [
        "Utilizzando `elasticnet` con `l1_ratio` pari a 0.5, significa che è stata utilizzata anche al regolarizzazione Lasso, la quale può aver eliminato le features meno importanti."
      ],
      "metadata": {
        "id": "9p8NVuV7YeLz"
      }
    },
    {
      "cell_type": "code",
      "source": [
        "gs.best_estimator_['regr'].coef_\n",
        "get_coefficients_frame(gs, X.columns)"
      ],
      "metadata": {
        "id": "jEoLJuUuYgIs",
        "colab": {
          "base_uri": "https://localhost:8080/",
          "height": 1000
        },
        "outputId": "0b8e6938-8825-4c2d-ed60-5a1ba4b49b5e"
      },
      "execution_count": null,
      "outputs": [
        {
          "output_type": "execute_result",
          "data": {
            "text/plain": [
              "                          Normal    Suspect  Pathological\n",
              "start_instant           6.016332  -6.661470      0.207741\n",
              "end_instant            -2.225219  -0.429192      0.697612\n",
              "medical_baseline       -5.496406   2.849283      1.740522\n",
              "sisproto_baseline      -5.496406   2.849283      1.740522\n",
              "heart_acc               4.074393  -3.644429     -0.375241\n",
              "foetal_move            -3.250419   2.863981      0.000000\n",
              "utherine_contract      -0.864958   0.646082     -0.901096\n",
              "pct_short_variability  -2.989835   1.998034     -0.215649\n",
              "mean_short_variability  2.927713  -2.640532     -0.699514\n",
              "pct_long_variability   -6.653299   5.455237      1.667427\n",
              "mean_long_variability   0.240612  -1.699456      0.000000\n",
              "light_dec               7.350580  -6.923527      0.000000\n",
              "severe_dec              0.000000   0.000000      0.852833\n",
              "prolongued_dec         -8.976323   7.483027      1.153737\n",
              "repetitive_dec          0.000000   0.000000      0.000000\n",
              "width                   0.892531  -2.098480     -2.148709\n",
              "min                     2.717831  -3.397347      1.678374\n",
              "max                    -2.114248   0.957651      0.000000\n",
              "nmax                   -1.816467   0.505321      0.000000\n",
              "nzeros                  2.194661  -2.829182      0.000000\n",
              "mode                    8.425826  -5.848454     -1.319906\n",
              "mean                   -0.070693   1.311928     -2.679522\n",
              "median                  2.783013  -1.255444     -0.995811\n",
              "variance               -3.966560   5.927564     -1.818222\n",
              "tendency                1.730390  -0.834826     -1.302737\n",
              "calm_sleep              4.418379  -3.692721     -1.789863\n",
              "rem_sleep               6.312340  -5.503215     -1.860374\n",
              "calm_vigilance          4.555072  -2.728527      0.000000\n",
              "active_vigilance        3.449023  -3.627368      0.000000\n",
              "e                      -5.313993   8.305056     -1.822108\n",
              "acc_pattern_stress      7.244410  -2.764744     -1.837296\n",
              "dec_pattern_vagal       2.521015   1.865346     -1.788103\n",
              "largely_dec            -5.317337 -10.237336      5.607081\n",
              "patho_flat_sinusoidal  -2.583044  -4.517022      4.620279\n",
              "suspect                -4.461702  10.110494     -3.701515\n",
              "class                  -4.711808  -0.873742      1.378825"
            ],
            "text/html": [
              "\n",
              "  <div id=\"df-6f98709a-f316-4c0b-b995-2708b744b2bc\">\n",
              "    <div class=\"colab-df-container\">\n",
              "      <div>\n",
              "<style scoped>\n",
              "    .dataframe tbody tr th:only-of-type {\n",
              "        vertical-align: middle;\n",
              "    }\n",
              "\n",
              "    .dataframe tbody tr th {\n",
              "        vertical-align: top;\n",
              "    }\n",
              "\n",
              "    .dataframe thead th {\n",
              "        text-align: right;\n",
              "    }\n",
              "</style>\n",
              "<table border=\"1\" class=\"dataframe\">\n",
              "  <thead>\n",
              "    <tr style=\"text-align: right;\">\n",
              "      <th></th>\n",
              "      <th>Normal</th>\n",
              "      <th>Suspect</th>\n",
              "      <th>Pathological</th>\n",
              "    </tr>\n",
              "  </thead>\n",
              "  <tbody>\n",
              "    <tr>\n",
              "      <th>start_instant</th>\n",
              "      <td>6.016332</td>\n",
              "      <td>-6.661470</td>\n",
              "      <td>0.207741</td>\n",
              "    </tr>\n",
              "    <tr>\n",
              "      <th>end_instant</th>\n",
              "      <td>-2.225219</td>\n",
              "      <td>-0.429192</td>\n",
              "      <td>0.697612</td>\n",
              "    </tr>\n",
              "    <tr>\n",
              "      <th>medical_baseline</th>\n",
              "      <td>-5.496406</td>\n",
              "      <td>2.849283</td>\n",
              "      <td>1.740522</td>\n",
              "    </tr>\n",
              "    <tr>\n",
              "      <th>sisproto_baseline</th>\n",
              "      <td>-5.496406</td>\n",
              "      <td>2.849283</td>\n",
              "      <td>1.740522</td>\n",
              "    </tr>\n",
              "    <tr>\n",
              "      <th>heart_acc</th>\n",
              "      <td>4.074393</td>\n",
              "      <td>-3.644429</td>\n",
              "      <td>-0.375241</td>\n",
              "    </tr>\n",
              "    <tr>\n",
              "      <th>foetal_move</th>\n",
              "      <td>-3.250419</td>\n",
              "      <td>2.863981</td>\n",
              "      <td>0.000000</td>\n",
              "    </tr>\n",
              "    <tr>\n",
              "      <th>utherine_contract</th>\n",
              "      <td>-0.864958</td>\n",
              "      <td>0.646082</td>\n",
              "      <td>-0.901096</td>\n",
              "    </tr>\n",
              "    <tr>\n",
              "      <th>pct_short_variability</th>\n",
              "      <td>-2.989835</td>\n",
              "      <td>1.998034</td>\n",
              "      <td>-0.215649</td>\n",
              "    </tr>\n",
              "    <tr>\n",
              "      <th>mean_short_variability</th>\n",
              "      <td>2.927713</td>\n",
              "      <td>-2.640532</td>\n",
              "      <td>-0.699514</td>\n",
              "    </tr>\n",
              "    <tr>\n",
              "      <th>pct_long_variability</th>\n",
              "      <td>-6.653299</td>\n",
              "      <td>5.455237</td>\n",
              "      <td>1.667427</td>\n",
              "    </tr>\n",
              "    <tr>\n",
              "      <th>mean_long_variability</th>\n",
              "      <td>0.240612</td>\n",
              "      <td>-1.699456</td>\n",
              "      <td>0.000000</td>\n",
              "    </tr>\n",
              "    <tr>\n",
              "      <th>light_dec</th>\n",
              "      <td>7.350580</td>\n",
              "      <td>-6.923527</td>\n",
              "      <td>0.000000</td>\n",
              "    </tr>\n",
              "    <tr>\n",
              "      <th>severe_dec</th>\n",
              "      <td>0.000000</td>\n",
              "      <td>0.000000</td>\n",
              "      <td>0.852833</td>\n",
              "    </tr>\n",
              "    <tr>\n",
              "      <th>prolongued_dec</th>\n",
              "      <td>-8.976323</td>\n",
              "      <td>7.483027</td>\n",
              "      <td>1.153737</td>\n",
              "    </tr>\n",
              "    <tr>\n",
              "      <th>repetitive_dec</th>\n",
              "      <td>0.000000</td>\n",
              "      <td>0.000000</td>\n",
              "      <td>0.000000</td>\n",
              "    </tr>\n",
              "    <tr>\n",
              "      <th>width</th>\n",
              "      <td>0.892531</td>\n",
              "      <td>-2.098480</td>\n",
              "      <td>-2.148709</td>\n",
              "    </tr>\n",
              "    <tr>\n",
              "      <th>min</th>\n",
              "      <td>2.717831</td>\n",
              "      <td>-3.397347</td>\n",
              "      <td>1.678374</td>\n",
              "    </tr>\n",
              "    <tr>\n",
              "      <th>max</th>\n",
              "      <td>-2.114248</td>\n",
              "      <td>0.957651</td>\n",
              "      <td>0.000000</td>\n",
              "    </tr>\n",
              "    <tr>\n",
              "      <th>nmax</th>\n",
              "      <td>-1.816467</td>\n",
              "      <td>0.505321</td>\n",
              "      <td>0.000000</td>\n",
              "    </tr>\n",
              "    <tr>\n",
              "      <th>nzeros</th>\n",
              "      <td>2.194661</td>\n",
              "      <td>-2.829182</td>\n",
              "      <td>0.000000</td>\n",
              "    </tr>\n",
              "    <tr>\n",
              "      <th>mode</th>\n",
              "      <td>8.425826</td>\n",
              "      <td>-5.848454</td>\n",
              "      <td>-1.319906</td>\n",
              "    </tr>\n",
              "    <tr>\n",
              "      <th>mean</th>\n",
              "      <td>-0.070693</td>\n",
              "      <td>1.311928</td>\n",
              "      <td>-2.679522</td>\n",
              "    </tr>\n",
              "    <tr>\n",
              "      <th>median</th>\n",
              "      <td>2.783013</td>\n",
              "      <td>-1.255444</td>\n",
              "      <td>-0.995811</td>\n",
              "    </tr>\n",
              "    <tr>\n",
              "      <th>variance</th>\n",
              "      <td>-3.966560</td>\n",
              "      <td>5.927564</td>\n",
              "      <td>-1.818222</td>\n",
              "    </tr>\n",
              "    <tr>\n",
              "      <th>tendency</th>\n",
              "      <td>1.730390</td>\n",
              "      <td>-0.834826</td>\n",
              "      <td>-1.302737</td>\n",
              "    </tr>\n",
              "    <tr>\n",
              "      <th>calm_sleep</th>\n",
              "      <td>4.418379</td>\n",
              "      <td>-3.692721</td>\n",
              "      <td>-1.789863</td>\n",
              "    </tr>\n",
              "    <tr>\n",
              "      <th>rem_sleep</th>\n",
              "      <td>6.312340</td>\n",
              "      <td>-5.503215</td>\n",
              "      <td>-1.860374</td>\n",
              "    </tr>\n",
              "    <tr>\n",
              "      <th>calm_vigilance</th>\n",
              "      <td>4.555072</td>\n",
              "      <td>-2.728527</td>\n",
              "      <td>0.000000</td>\n",
              "    </tr>\n",
              "    <tr>\n",
              "      <th>active_vigilance</th>\n",
              "      <td>3.449023</td>\n",
              "      <td>-3.627368</td>\n",
              "      <td>0.000000</td>\n",
              "    </tr>\n",
              "    <tr>\n",
              "      <th>e</th>\n",
              "      <td>-5.313993</td>\n",
              "      <td>8.305056</td>\n",
              "      <td>-1.822108</td>\n",
              "    </tr>\n",
              "    <tr>\n",
              "      <th>acc_pattern_stress</th>\n",
              "      <td>7.244410</td>\n",
              "      <td>-2.764744</td>\n",
              "      <td>-1.837296</td>\n",
              "    </tr>\n",
              "    <tr>\n",
              "      <th>dec_pattern_vagal</th>\n",
              "      <td>2.521015</td>\n",
              "      <td>1.865346</td>\n",
              "      <td>-1.788103</td>\n",
              "    </tr>\n",
              "    <tr>\n",
              "      <th>largely_dec</th>\n",
              "      <td>-5.317337</td>\n",
              "      <td>-10.237336</td>\n",
              "      <td>5.607081</td>\n",
              "    </tr>\n",
              "    <tr>\n",
              "      <th>patho_flat_sinusoidal</th>\n",
              "      <td>-2.583044</td>\n",
              "      <td>-4.517022</td>\n",
              "      <td>4.620279</td>\n",
              "    </tr>\n",
              "    <tr>\n",
              "      <th>suspect</th>\n",
              "      <td>-4.461702</td>\n",
              "      <td>10.110494</td>\n",
              "      <td>-3.701515</td>\n",
              "    </tr>\n",
              "    <tr>\n",
              "      <th>class</th>\n",
              "      <td>-4.711808</td>\n",
              "      <td>-0.873742</td>\n",
              "      <td>1.378825</td>\n",
              "    </tr>\n",
              "  </tbody>\n",
              "</table>\n",
              "</div>\n",
              "      <button class=\"colab-df-convert\" onclick=\"convertToInteractive('df-6f98709a-f316-4c0b-b995-2708b744b2bc')\"\n",
              "              title=\"Convert this dataframe to an interactive table.\"\n",
              "              style=\"display:none;\">\n",
              "        \n",
              "  <svg xmlns=\"http://www.w3.org/2000/svg\" height=\"24px\"viewBox=\"0 0 24 24\"\n",
              "       width=\"24px\">\n",
              "    <path d=\"M0 0h24v24H0V0z\" fill=\"none\"/>\n",
              "    <path d=\"M18.56 5.44l.94 2.06.94-2.06 2.06-.94-2.06-.94-.94-2.06-.94 2.06-2.06.94zm-11 1L8.5 8.5l.94-2.06 2.06-.94-2.06-.94L8.5 2.5l-.94 2.06-2.06.94zm10 10l.94 2.06.94-2.06 2.06-.94-2.06-.94-.94-2.06-.94 2.06-2.06.94z\"/><path d=\"M17.41 7.96l-1.37-1.37c-.4-.4-.92-.59-1.43-.59-.52 0-1.04.2-1.43.59L10.3 9.45l-7.72 7.72c-.78.78-.78 2.05 0 2.83L4 21.41c.39.39.9.59 1.41.59.51 0 1.02-.2 1.41-.59l7.78-7.78 2.81-2.81c.8-.78.8-2.07 0-2.86zM5.41 20L4 18.59l7.72-7.72 1.47 1.35L5.41 20z\"/>\n",
              "  </svg>\n",
              "      </button>\n",
              "      \n",
              "  <style>\n",
              "    .colab-df-container {\n",
              "      display:flex;\n",
              "      flex-wrap:wrap;\n",
              "      gap: 12px;\n",
              "    }\n",
              "\n",
              "    .colab-df-convert {\n",
              "      background-color: #E8F0FE;\n",
              "      border: none;\n",
              "      border-radius: 50%;\n",
              "      cursor: pointer;\n",
              "      display: none;\n",
              "      fill: #1967D2;\n",
              "      height: 32px;\n",
              "      padding: 0 0 0 0;\n",
              "      width: 32px;\n",
              "    }\n",
              "\n",
              "    .colab-df-convert:hover {\n",
              "      background-color: #E2EBFA;\n",
              "      box-shadow: 0px 1px 2px rgba(60, 64, 67, 0.3), 0px 1px 3px 1px rgba(60, 64, 67, 0.15);\n",
              "      fill: #174EA6;\n",
              "    }\n",
              "\n",
              "    [theme=dark] .colab-df-convert {\n",
              "      background-color: #3B4455;\n",
              "      fill: #D2E3FC;\n",
              "    }\n",
              "\n",
              "    [theme=dark] .colab-df-convert:hover {\n",
              "      background-color: #434B5C;\n",
              "      box-shadow: 0px 1px 3px 1px rgba(0, 0, 0, 0.15);\n",
              "      filter: drop-shadow(0px 1px 2px rgba(0, 0, 0, 0.3));\n",
              "      fill: #FFFFFF;\n",
              "    }\n",
              "  </style>\n",
              "\n",
              "      <script>\n",
              "        const buttonEl =\n",
              "          document.querySelector('#df-6f98709a-f316-4c0b-b995-2708b744b2bc button.colab-df-convert');\n",
              "        buttonEl.style.display =\n",
              "          google.colab.kernel.accessAllowed ? 'block' : 'none';\n",
              "\n",
              "        async function convertToInteractive(key) {\n",
              "          const element = document.querySelector('#df-6f98709a-f316-4c0b-b995-2708b744b2bc');\n",
              "          const dataTable =\n",
              "            await google.colab.kernel.invokeFunction('convertToInteractive',\n",
              "                                                     [key], {});\n",
              "          if (!dataTable) return;\n",
              "\n",
              "          const docLinkHtml = 'Like what you see? Visit the ' +\n",
              "            '<a target=\"_blank\" href=https://colab.research.google.com/notebooks/data_table.ipynb>data table notebook</a>'\n",
              "            + ' to learn more about interactive tables.';\n",
              "          element.innerHTML = '';\n",
              "          dataTable['output_type'] = 'display_data';\n",
              "          await google.colab.output.renderOutput(dataTable, element);\n",
              "          const docLink = document.createElement('div');\n",
              "          docLink.innerHTML = docLinkHtml;\n",
              "          element.appendChild(docLink);\n",
              "        }\n",
              "      </script>\n",
              "    </div>\n",
              "  </div>\n",
              "  "
            ]
          },
          "metadata": {},
          "execution_count": 163
        }
      ]
    },
    {
      "cell_type": "markdown",
      "source": [
        "Notiamo come, siccome è stata scelta nel modello migliore la regolarizzazione `l1`, alcune features si sono azzerate, specialemte per quanto riguarda la predizione della classe `Pathological`. Questa scelta di parametri ha portato ad un *confusion matrix*:"
      ],
      "metadata": {
        "id": "Dmz7pjJ1Yj4d"
      }
    },
    {
      "cell_type": "code",
      "source": [
        "cm = get_confusion_matrix(gs, y_test, gs.predict(X_test), normalize='true')\n",
        "get_percentage_cm(cm)"
      ],
      "metadata": {
        "id": "NDOmvhdNYnou",
        "colab": {
          "base_uri": "https://localhost:8080/",
          "height": 142
        },
        "outputId": "14dc8cfa-19bc-42d9-b773-03d75b67b5ee"
      },
      "execution_count": null,
      "outputs": [
        {
          "output_type": "execute_result",
          "data": {
            "text/plain": [
              "              Normal Suspect Pathological\n",
              "Normal        98.91%   1.09%         0.0%\n",
              "Suspect         5.1%   94.9%         0.0%\n",
              "Pathological    0.0%   1.69%       98.31%"
            ],
            "text/html": [
              "\n",
              "  <div id=\"df-045f3460-7a95-484c-ab7c-685398a09f23\">\n",
              "    <div class=\"colab-df-container\">\n",
              "      <div>\n",
              "<style scoped>\n",
              "    .dataframe tbody tr th:only-of-type {\n",
              "        vertical-align: middle;\n",
              "    }\n",
              "\n",
              "    .dataframe tbody tr th {\n",
              "        vertical-align: top;\n",
              "    }\n",
              "\n",
              "    .dataframe thead th {\n",
              "        text-align: right;\n",
              "    }\n",
              "</style>\n",
              "<table border=\"1\" class=\"dataframe\">\n",
              "  <thead>\n",
              "    <tr style=\"text-align: right;\">\n",
              "      <th></th>\n",
              "      <th>Normal</th>\n",
              "      <th>Suspect</th>\n",
              "      <th>Pathological</th>\n",
              "    </tr>\n",
              "  </thead>\n",
              "  <tbody>\n",
              "    <tr>\n",
              "      <th>Normal</th>\n",
              "      <td>98.91%</td>\n",
              "      <td>1.09%</td>\n",
              "      <td>0.0%</td>\n",
              "    </tr>\n",
              "    <tr>\n",
              "      <th>Suspect</th>\n",
              "      <td>5.1%</td>\n",
              "      <td>94.9%</td>\n",
              "      <td>0.0%</td>\n",
              "    </tr>\n",
              "    <tr>\n",
              "      <th>Pathological</th>\n",
              "      <td>0.0%</td>\n",
              "      <td>1.69%</td>\n",
              "      <td>98.31%</td>\n",
              "    </tr>\n",
              "  </tbody>\n",
              "</table>\n",
              "</div>\n",
              "      <button class=\"colab-df-convert\" onclick=\"convertToInteractive('df-045f3460-7a95-484c-ab7c-685398a09f23')\"\n",
              "              title=\"Convert this dataframe to an interactive table.\"\n",
              "              style=\"display:none;\">\n",
              "        \n",
              "  <svg xmlns=\"http://www.w3.org/2000/svg\" height=\"24px\"viewBox=\"0 0 24 24\"\n",
              "       width=\"24px\">\n",
              "    <path d=\"M0 0h24v24H0V0z\" fill=\"none\"/>\n",
              "    <path d=\"M18.56 5.44l.94 2.06.94-2.06 2.06-.94-2.06-.94-.94-2.06-.94 2.06-2.06.94zm-11 1L8.5 8.5l.94-2.06 2.06-.94-2.06-.94L8.5 2.5l-.94 2.06-2.06.94zm10 10l.94 2.06.94-2.06 2.06-.94-2.06-.94-.94-2.06-.94 2.06-2.06.94z\"/><path d=\"M17.41 7.96l-1.37-1.37c-.4-.4-.92-.59-1.43-.59-.52 0-1.04.2-1.43.59L10.3 9.45l-7.72 7.72c-.78.78-.78 2.05 0 2.83L4 21.41c.39.39.9.59 1.41.59.51 0 1.02-.2 1.41-.59l7.78-7.78 2.81-2.81c.8-.78.8-2.07 0-2.86zM5.41 20L4 18.59l7.72-7.72 1.47 1.35L5.41 20z\"/>\n",
              "  </svg>\n",
              "      </button>\n",
              "      \n",
              "  <style>\n",
              "    .colab-df-container {\n",
              "      display:flex;\n",
              "      flex-wrap:wrap;\n",
              "      gap: 12px;\n",
              "    }\n",
              "\n",
              "    .colab-df-convert {\n",
              "      background-color: #E8F0FE;\n",
              "      border: none;\n",
              "      border-radius: 50%;\n",
              "      cursor: pointer;\n",
              "      display: none;\n",
              "      fill: #1967D2;\n",
              "      height: 32px;\n",
              "      padding: 0 0 0 0;\n",
              "      width: 32px;\n",
              "    }\n",
              "\n",
              "    .colab-df-convert:hover {\n",
              "      background-color: #E2EBFA;\n",
              "      box-shadow: 0px 1px 2px rgba(60, 64, 67, 0.3), 0px 1px 3px 1px rgba(60, 64, 67, 0.15);\n",
              "      fill: #174EA6;\n",
              "    }\n",
              "\n",
              "    [theme=dark] .colab-df-convert {\n",
              "      background-color: #3B4455;\n",
              "      fill: #D2E3FC;\n",
              "    }\n",
              "\n",
              "    [theme=dark] .colab-df-convert:hover {\n",
              "      background-color: #434B5C;\n",
              "      box-shadow: 0px 1px 3px 1px rgba(0, 0, 0, 0.15);\n",
              "      filter: drop-shadow(0px 1px 2px rgba(0, 0, 0, 0.3));\n",
              "      fill: #FFFFFF;\n",
              "    }\n",
              "  </style>\n",
              "\n",
              "      <script>\n",
              "        const buttonEl =\n",
              "          document.querySelector('#df-045f3460-7a95-484c-ab7c-685398a09f23 button.colab-df-convert');\n",
              "        buttonEl.style.display =\n",
              "          google.colab.kernel.accessAllowed ? 'block' : 'none';\n",
              "\n",
              "        async function convertToInteractive(key) {\n",
              "          const element = document.querySelector('#df-045f3460-7a95-484c-ab7c-685398a09f23');\n",
              "          const dataTable =\n",
              "            await google.colab.kernel.invokeFunction('convertToInteractive',\n",
              "                                                     [key], {});\n",
              "          if (!dataTable) return;\n",
              "\n",
              "          const docLinkHtml = 'Like what you see? Visit the ' +\n",
              "            '<a target=\"_blank\" href=https://colab.research.google.com/notebooks/data_table.ipynb>data table notebook</a>'\n",
              "            + ' to learn more about interactive tables.';\n",
              "          element.innerHTML = '';\n",
              "          dataTable['output_type'] = 'display_data';\n",
              "          await google.colab.output.renderOutput(dataTable, element);\n",
              "          const docLink = document.createElement('div');\n",
              "          docLink.innerHTML = docLinkHtml;\n",
              "          element.appendChild(docLink);\n",
              "        }\n",
              "      </script>\n",
              "    </div>\n",
              "  </div>\n",
              "  "
            ]
          },
          "metadata": {},
          "execution_count": 164
        }
      ]
    },
    {
      "cell_type": "code",
      "source": [
        "print_f1_score(get_f1_score(gs, y_test, X_test))"
      ],
      "metadata": {
        "colab": {
          "base_uri": "https://localhost:8080/"
        },
        "id": "GSCHrvkCdliS",
        "outputId": "15ae1293-05f9-48a2-eb32-a47fdf0a6b43"
      },
      "execution_count": null,
      "outputs": [
        {
          "output_type": "stream",
          "name": "stdout",
          "text": [
            "F1 Score: 0.9736\n"
          ]
        }
      ]
    },
    {
      "cell_type": "markdown",
      "source": [
        "Notiamo subito che:\n",
        "- I risultati per la classe `Normal` sono migliorati notevolmente: i parametri sono stati pesati in modo tale da redistribuire i pesi e premiare la predizione della classe `Normal`.\n",
        "- I risultati per classe `Suspect` sono invece migliorati, ma rimanendo poco più bassi rispetto alle altre classi. Questo ci può far pensare che per via dei miglioramenti nelle altre categorie, gli individui sospetti risultano ora più difficili da individuare. Questo può essere notato anche nei diversi pesi utilizzati per i coefficienti $\\mathbf{w}$ del modello individuato, dove per esempio, la feature `prolongued_dec` assume in valore assoluto il valore più alto, ma nelle due classi ha segno opposto.\n",
        "- I risultati per la classe `Pathological` sono invece nettamente migliorati, rendendo il modello pressoché infallibile nel creare un falso `Pathological`, e avere una percentuale più del 98% nella predizione di un soggetto patologoico; tutto questo nonostante i dati per quest'ultima categoria sono molto limitati."
      ],
      "metadata": {
        "id": "H-ERLwLRY7TT"
      }
    },
    {
      "cell_type": "markdown",
      "source": [
        "Testiamo ora un modello di **regressione logistica**, il quale si basa sulla probabilità di appartenenza di una classe per ogni istanza del training set. Di default viene utilizzata la regolarizzazione `l1`, e oltre ad impostare il *random_state*, impostiamo anche "
      ],
      "metadata": {
        "id": "__yk9PD3Z5bR"
      }
    },
    {
      "cell_type": "code",
      "source": [
        "from sklearn.linear_model import LogisticRegression\n",
        "\n",
        "model = LogisticRegression(random_state=1926, solver='saga')\n",
        "\n",
        "model.fit(X_train, y_train)"
      ],
      "metadata": {
        "id": "mzNHd4AsaNt7",
        "colab": {
          "base_uri": "https://localhost:8080/",
          "height": 74
        },
        "outputId": "59cdbaa1-5bb3-4d05-a512-82be123c8aa9"
      },
      "execution_count": null,
      "outputs": [
        {
          "output_type": "execute_result",
          "data": {
            "text/plain": [
              "LogisticRegression(random_state=1926, solver='saga')"
            ],
            "text/html": [
              "<style>#sk-container-id-3 {color: black;background-color: white;}#sk-container-id-3 pre{padding: 0;}#sk-container-id-3 div.sk-toggleable {background-color: white;}#sk-container-id-3 label.sk-toggleable__label {cursor: pointer;display: block;width: 100%;margin-bottom: 0;padding: 0.3em;box-sizing: border-box;text-align: center;}#sk-container-id-3 label.sk-toggleable__label-arrow:before {content: \"▸\";float: left;margin-right: 0.25em;color: #696969;}#sk-container-id-3 label.sk-toggleable__label-arrow:hover:before {color: black;}#sk-container-id-3 div.sk-estimator:hover label.sk-toggleable__label-arrow:before {color: black;}#sk-container-id-3 div.sk-toggleable__content {max-height: 0;max-width: 0;overflow: hidden;text-align: left;background-color: #f0f8ff;}#sk-container-id-3 div.sk-toggleable__content pre {margin: 0.2em;color: black;border-radius: 0.25em;background-color: #f0f8ff;}#sk-container-id-3 input.sk-toggleable__control:checked~div.sk-toggleable__content {max-height: 200px;max-width: 100%;overflow: auto;}#sk-container-id-3 input.sk-toggleable__control:checked~label.sk-toggleable__label-arrow:before {content: \"▾\";}#sk-container-id-3 div.sk-estimator input.sk-toggleable__control:checked~label.sk-toggleable__label {background-color: #d4ebff;}#sk-container-id-3 div.sk-label input.sk-toggleable__control:checked~label.sk-toggleable__label {background-color: #d4ebff;}#sk-container-id-3 input.sk-hidden--visually {border: 0;clip: rect(1px 1px 1px 1px);clip: rect(1px, 1px, 1px, 1px);height: 1px;margin: -1px;overflow: hidden;padding: 0;position: absolute;width: 1px;}#sk-container-id-3 div.sk-estimator {font-family: monospace;background-color: #f0f8ff;border: 1px dotted black;border-radius: 0.25em;box-sizing: border-box;margin-bottom: 0.5em;}#sk-container-id-3 div.sk-estimator:hover {background-color: #d4ebff;}#sk-container-id-3 div.sk-parallel-item::after {content: \"\";width: 100%;border-bottom: 1px solid gray;flex-grow: 1;}#sk-container-id-3 div.sk-label:hover label.sk-toggleable__label {background-color: #d4ebff;}#sk-container-id-3 div.sk-serial::before {content: \"\";position: absolute;border-left: 1px solid gray;box-sizing: border-box;top: 0;bottom: 0;left: 50%;z-index: 0;}#sk-container-id-3 div.sk-serial {display: flex;flex-direction: column;align-items: center;background-color: white;padding-right: 0.2em;padding-left: 0.2em;position: relative;}#sk-container-id-3 div.sk-item {position: relative;z-index: 1;}#sk-container-id-3 div.sk-parallel {display: flex;align-items: stretch;justify-content: center;background-color: white;position: relative;}#sk-container-id-3 div.sk-item::before, #sk-container-id-3 div.sk-parallel-item::before {content: \"\";position: absolute;border-left: 1px solid gray;box-sizing: border-box;top: 0;bottom: 0;left: 50%;z-index: -1;}#sk-container-id-3 div.sk-parallel-item {display: flex;flex-direction: column;z-index: 1;position: relative;background-color: white;}#sk-container-id-3 div.sk-parallel-item:first-child::after {align-self: flex-end;width: 50%;}#sk-container-id-3 div.sk-parallel-item:last-child::after {align-self: flex-start;width: 50%;}#sk-container-id-3 div.sk-parallel-item:only-child::after {width: 0;}#sk-container-id-3 div.sk-dashed-wrapped {border: 1px dashed gray;margin: 0 0.4em 0.5em 0.4em;box-sizing: border-box;padding-bottom: 0.4em;background-color: white;}#sk-container-id-3 div.sk-label label {font-family: monospace;font-weight: bold;display: inline-block;line-height: 1.2em;}#sk-container-id-3 div.sk-label-container {text-align: center;}#sk-container-id-3 div.sk-container {/* jupyter's `normalize.less` sets `[hidden] { display: none; }` but bootstrap.min.css set `[hidden] { display: none !important; }` so we also need the `!important` here to be able to override the default hidden behavior on the sphinx rendered scikit-learn.org. See: https://github.com/scikit-learn/scikit-learn/issues/21755 */display: inline-block !important;position: relative;}#sk-container-id-3 div.sk-text-repr-fallback {display: none;}</style><div id=\"sk-container-id-3\" class=\"sk-top-container\"><div class=\"sk-text-repr-fallback\"><pre>LogisticRegression(random_state=1926, solver=&#x27;saga&#x27;)</pre><b>In a Jupyter environment, please rerun this cell to show the HTML representation or trust the notebook. <br />On GitHub, the HTML representation is unable to render, please try loading this page with nbviewer.org.</b></div><div class=\"sk-container\" hidden><div class=\"sk-item\"><div class=\"sk-estimator sk-toggleable\"><input class=\"sk-toggleable__control sk-hidden--visually\" id=\"sk-estimator-id-3\" type=\"checkbox\" checked><label for=\"sk-estimator-id-3\" class=\"sk-toggleable__label sk-toggleable__label-arrow\">LogisticRegression</label><div class=\"sk-toggleable__content\"><pre>LogisticRegression(random_state=1926, solver=&#x27;saga&#x27;)</pre></div></div></div></div></div>"
            ]
          },
          "metadata": {},
          "execution_count": 166
        }
      ]
    },
    {
      "cell_type": "code",
      "source": [
        "get_percentage_cm(\n",
        "    get_confusion_matrix(model, y_test, model.predict(X_test), normalize='true'))"
      ],
      "metadata": {
        "id": "CvR97Oa7aPS1",
        "colab": {
          "base_uri": "https://localhost:8080/",
          "height": 142
        },
        "outputId": "4f4969f3-63c2-4c86-a319-01903bf0b595"
      },
      "execution_count": null,
      "outputs": [
        {
          "output_type": "execute_result",
          "data": {
            "text/plain": [
              "              Normal Suspect Pathological\n",
              "Normal        98.55%   1.27%        0.18%\n",
              "Suspect       67.35%  32.65%         0.0%\n",
              "Pathological  42.37%   32.2%       25.42%"
            ],
            "text/html": [
              "\n",
              "  <div id=\"df-bc7320e5-41f0-432f-8939-0e86b2fb19d8\">\n",
              "    <div class=\"colab-df-container\">\n",
              "      <div>\n",
              "<style scoped>\n",
              "    .dataframe tbody tr th:only-of-type {\n",
              "        vertical-align: middle;\n",
              "    }\n",
              "\n",
              "    .dataframe tbody tr th {\n",
              "        vertical-align: top;\n",
              "    }\n",
              "\n",
              "    .dataframe thead th {\n",
              "        text-align: right;\n",
              "    }\n",
              "</style>\n",
              "<table border=\"1\" class=\"dataframe\">\n",
              "  <thead>\n",
              "    <tr style=\"text-align: right;\">\n",
              "      <th></th>\n",
              "      <th>Normal</th>\n",
              "      <th>Suspect</th>\n",
              "      <th>Pathological</th>\n",
              "    </tr>\n",
              "  </thead>\n",
              "  <tbody>\n",
              "    <tr>\n",
              "      <th>Normal</th>\n",
              "      <td>98.55%</td>\n",
              "      <td>1.27%</td>\n",
              "      <td>0.18%</td>\n",
              "    </tr>\n",
              "    <tr>\n",
              "      <th>Suspect</th>\n",
              "      <td>67.35%</td>\n",
              "      <td>32.65%</td>\n",
              "      <td>0.0%</td>\n",
              "    </tr>\n",
              "    <tr>\n",
              "      <th>Pathological</th>\n",
              "      <td>42.37%</td>\n",
              "      <td>32.2%</td>\n",
              "      <td>25.42%</td>\n",
              "    </tr>\n",
              "  </tbody>\n",
              "</table>\n",
              "</div>\n",
              "      <button class=\"colab-df-convert\" onclick=\"convertToInteractive('df-bc7320e5-41f0-432f-8939-0e86b2fb19d8')\"\n",
              "              title=\"Convert this dataframe to an interactive table.\"\n",
              "              style=\"display:none;\">\n",
              "        \n",
              "  <svg xmlns=\"http://www.w3.org/2000/svg\" height=\"24px\"viewBox=\"0 0 24 24\"\n",
              "       width=\"24px\">\n",
              "    <path d=\"M0 0h24v24H0V0z\" fill=\"none\"/>\n",
              "    <path d=\"M18.56 5.44l.94 2.06.94-2.06 2.06-.94-2.06-.94-.94-2.06-.94 2.06-2.06.94zm-11 1L8.5 8.5l.94-2.06 2.06-.94-2.06-.94L8.5 2.5l-.94 2.06-2.06.94zm10 10l.94 2.06.94-2.06 2.06-.94-2.06-.94-.94-2.06-.94 2.06-2.06.94z\"/><path d=\"M17.41 7.96l-1.37-1.37c-.4-.4-.92-.59-1.43-.59-.52 0-1.04.2-1.43.59L10.3 9.45l-7.72 7.72c-.78.78-.78 2.05 0 2.83L4 21.41c.39.39.9.59 1.41.59.51 0 1.02-.2 1.41-.59l7.78-7.78 2.81-2.81c.8-.78.8-2.07 0-2.86zM5.41 20L4 18.59l7.72-7.72 1.47 1.35L5.41 20z\"/>\n",
              "  </svg>\n",
              "      </button>\n",
              "      \n",
              "  <style>\n",
              "    .colab-df-container {\n",
              "      display:flex;\n",
              "      flex-wrap:wrap;\n",
              "      gap: 12px;\n",
              "    }\n",
              "\n",
              "    .colab-df-convert {\n",
              "      background-color: #E8F0FE;\n",
              "      border: none;\n",
              "      border-radius: 50%;\n",
              "      cursor: pointer;\n",
              "      display: none;\n",
              "      fill: #1967D2;\n",
              "      height: 32px;\n",
              "      padding: 0 0 0 0;\n",
              "      width: 32px;\n",
              "    }\n",
              "\n",
              "    .colab-df-convert:hover {\n",
              "      background-color: #E2EBFA;\n",
              "      box-shadow: 0px 1px 2px rgba(60, 64, 67, 0.3), 0px 1px 3px 1px rgba(60, 64, 67, 0.15);\n",
              "      fill: #174EA6;\n",
              "    }\n",
              "\n",
              "    [theme=dark] .colab-df-convert {\n",
              "      background-color: #3B4455;\n",
              "      fill: #D2E3FC;\n",
              "    }\n",
              "\n",
              "    [theme=dark] .colab-df-convert:hover {\n",
              "      background-color: #434B5C;\n",
              "      box-shadow: 0px 1px 3px 1px rgba(0, 0, 0, 0.15);\n",
              "      filter: drop-shadow(0px 1px 2px rgba(0, 0, 0, 0.3));\n",
              "      fill: #FFFFFF;\n",
              "    }\n",
              "  </style>\n",
              "\n",
              "      <script>\n",
              "        const buttonEl =\n",
              "          document.querySelector('#df-bc7320e5-41f0-432f-8939-0e86b2fb19d8 button.colab-df-convert');\n",
              "        buttonEl.style.display =\n",
              "          google.colab.kernel.accessAllowed ? 'block' : 'none';\n",
              "\n",
              "        async function convertToInteractive(key) {\n",
              "          const element = document.querySelector('#df-bc7320e5-41f0-432f-8939-0e86b2fb19d8');\n",
              "          const dataTable =\n",
              "            await google.colab.kernel.invokeFunction('convertToInteractive',\n",
              "                                                     [key], {});\n",
              "          if (!dataTable) return;\n",
              "\n",
              "          const docLinkHtml = 'Like what you see? Visit the ' +\n",
              "            '<a target=\"_blank\" href=https://colab.research.google.com/notebooks/data_table.ipynb>data table notebook</a>'\n",
              "            + ' to learn more about interactive tables.';\n",
              "          element.innerHTML = '';\n",
              "          dataTable['output_type'] = 'display_data';\n",
              "          await google.colab.output.renderOutput(dataTable, element);\n",
              "          const docLink = document.createElement('div');\n",
              "          docLink.innerHTML = docLinkHtml;\n",
              "          element.appendChild(docLink);\n",
              "        }\n",
              "      </script>\n",
              "    </div>\n",
              "  </div>\n",
              "  "
            ]
          },
          "metadata": {},
          "execution_count": 167
        }
      ]
    },
    {
      "cell_type": "markdown",
      "source": [
        "È interessante notare come, similmente al modello precedente, la mal predizione di un soggetto patologico in un soggetto normale o sospetto è pressochè nulla (terza colonna, prime due righe), mentre in questo modello di regressione logistica, le accuratetzze sui casi sospetti e patologici sono scese drasticamente.\n",
        "\n",
        "Procediamo ad effettuare *tuning* degli iperparametri del modello"
      ],
      "metadata": {
        "id": "erVitgc5aWie"
      }
    },
    {
      "cell_type": "code",
      "source": [
        "log_reg = Pipeline([\n",
        "    ('scale', None),\n",
        "    ('regr', LogisticRegression(solver='saga', random_state=1926, ))\n",
        "])\n",
        "\n",
        "grid = [\n",
        "    {\n",
        "        'scale': [None, StandardScaler(), MinMaxScaler()],\n",
        "        'regr__penalty': ['l1', 'l2'],\n",
        "        'regr__C': np.logspace(-5, 3, 9),\n",
        "        'regr__fit_intercept': [False, True],\n",
        "    },\n",
        "    {\n",
        "        'scale': [None, StandardScaler(), MinMaxScaler()],\n",
        "        'regr__penalty': ['elasticnet'],\n",
        "        'regr__C': np.logspace(-5, 3, 9),\n",
        "        'regr__l1_ratio': [0.1, 0.2, 0.3, 0.4, 0.5, 0.6, 0.7, 0.8, 0.9],\n",
        "        'regr__fit_intercept': [False, True],\n",
        "    },\n",
        "    {\n",
        "        'scale': [None, StandardScaler(), MinMaxScaler()],\n",
        "        'regr__penalty': [None]\n",
        "    }\n",
        "]\n",
        "\n",
        "gs, score = grid_search_class(log_reg, grid, X_train, y_train)"
      ],
      "metadata": {
        "id": "AI-LCheyaUNc"
      },
      "execution_count": null,
      "outputs": []
    },
    {
      "cell_type": "code",
      "source": [
        "score.iloc[0]['params']"
      ],
      "metadata": {
        "id": "ykpcUbC7bVEI",
        "colab": {
          "base_uri": "https://localhost:8080/"
        },
        "outputId": "f1a9fd57-6f52-40c3-81b2-d799afbbc735"
      },
      "execution_count": null,
      "outputs": [
        {
          "output_type": "execute_result",
          "data": {
            "text/plain": [
              "{'regr__C': 1.0,\n",
              " 'regr__fit_intercept': False,\n",
              " 'regr__l1_ratio': 0.5,\n",
              " 'regr__penalty': 'elasticnet',\n",
              " 'scale': StandardScaler()}"
            ]
          },
          "metadata": {},
          "execution_count": 169
        }
      ]
    },
    {
      "cell_type": "markdown",
      "source": [
        "È risultato più efficiente un mix di regolarizzazione Ridge e Lasso al 50%, risultando nel calcolo dei seguenti pesi:"
      ],
      "metadata": {
        "id": "h928ET13bbZK"
      }
    },
    {
      "cell_type": "code",
      "source": [
        "get_coefficients_frame(gs, X.columns)"
      ],
      "metadata": {
        "id": "A3W9B2KEbn00",
        "colab": {
          "base_uri": "https://localhost:8080/",
          "height": 1000
        },
        "outputId": "ed71702a-b954-46d7-d635-78d43fa65269"
      },
      "execution_count": null,
      "outputs": [
        {
          "output_type": "execute_result",
          "data": {
            "text/plain": [
              "                          Normal   Suspect  Pathological\n",
              "start_instant           0.505188 -0.555378      0.009231\n",
              "end_instant            -0.198634  0.086504      0.087788\n",
              "medical_baseline       -0.399361  0.167325      0.191079\n",
              "sisproto_baseline      -0.399361  0.167325      0.191079\n",
              "heart_acc               0.118183 -0.272782      0.117056\n",
              "foetal_move            -0.056336  0.120599     -0.023467\n",
              "utherine_contract       0.003541  0.082300     -0.109182\n",
              "pct_short_variability  -0.281987  0.339945     -0.037108\n",
              "mean_short_variability  0.040506 -0.072527      0.000000\n",
              "pct_long_variability   -0.465241  0.309456      0.114755\n",
              "mean_long_variability  -0.035234 -0.038515      0.097506\n",
              "light_dec               0.396271 -0.469831      0.040359\n",
              "severe_dec             -0.559654  0.190796      0.327830\n",
              "prolongued_dec         -0.630305  0.469411      0.119974\n",
              "repetitive_dec          0.000000  0.000000      0.000000\n",
              "width                  -0.011091  0.118570     -0.074265\n",
              "min                    -0.047514 -0.137267      0.216952\n",
              "max                    -0.189136  0.018573      0.129587\n",
              "nmax                   -0.026262  0.119450     -0.052310\n",
              "nzeros                  0.124833 -0.182197      0.021962\n",
              "mode                    0.784296 -0.531345     -0.212059\n",
              "mean                   -0.220091  0.650011     -0.398257\n",
              "median                  0.314988 -0.170553     -0.103571\n",
              "variance               -0.162946  0.422623     -0.224109\n",
              "tendency               -0.011264  0.040760      0.000000\n",
              "calm_sleep              0.422989 -0.116214     -0.265748\n",
              "rem_sleep               0.749755 -0.470456     -0.238270\n",
              "calm_vigilance          0.350098 -0.161291     -0.147874\n",
              "active_vigilance        0.503804 -0.351732     -0.111099\n",
              "e                       0.013439  0.396908     -0.415469\n",
              "acc_pattern_stress      1.667828 -0.892965     -0.733836\n",
              "dec_pattern_vagal       1.449753 -0.383920     -1.024810\n",
              "largely_dec            -2.359081  0.162091      2.156029\n",
              "patho_flat_sinusoidal  -1.844394  0.389682      1.415418\n",
              "suspect                -3.173457  2.284043      0.848385\n",
              "class                  -2.603507  1.361669      1.200809"
            ],
            "text/html": [
              "\n",
              "  <div id=\"df-f96c49e3-7fd6-4f2a-a1aa-3ee8ac9f97d8\">\n",
              "    <div class=\"colab-df-container\">\n",
              "      <div>\n",
              "<style scoped>\n",
              "    .dataframe tbody tr th:only-of-type {\n",
              "        vertical-align: middle;\n",
              "    }\n",
              "\n",
              "    .dataframe tbody tr th {\n",
              "        vertical-align: top;\n",
              "    }\n",
              "\n",
              "    .dataframe thead th {\n",
              "        text-align: right;\n",
              "    }\n",
              "</style>\n",
              "<table border=\"1\" class=\"dataframe\">\n",
              "  <thead>\n",
              "    <tr style=\"text-align: right;\">\n",
              "      <th></th>\n",
              "      <th>Normal</th>\n",
              "      <th>Suspect</th>\n",
              "      <th>Pathological</th>\n",
              "    </tr>\n",
              "  </thead>\n",
              "  <tbody>\n",
              "    <tr>\n",
              "      <th>start_instant</th>\n",
              "      <td>0.505188</td>\n",
              "      <td>-0.555378</td>\n",
              "      <td>0.009231</td>\n",
              "    </tr>\n",
              "    <tr>\n",
              "      <th>end_instant</th>\n",
              "      <td>-0.198634</td>\n",
              "      <td>0.086504</td>\n",
              "      <td>0.087788</td>\n",
              "    </tr>\n",
              "    <tr>\n",
              "      <th>medical_baseline</th>\n",
              "      <td>-0.399361</td>\n",
              "      <td>0.167325</td>\n",
              "      <td>0.191079</td>\n",
              "    </tr>\n",
              "    <tr>\n",
              "      <th>sisproto_baseline</th>\n",
              "      <td>-0.399361</td>\n",
              "      <td>0.167325</td>\n",
              "      <td>0.191079</td>\n",
              "    </tr>\n",
              "    <tr>\n",
              "      <th>heart_acc</th>\n",
              "      <td>0.118183</td>\n",
              "      <td>-0.272782</td>\n",
              "      <td>0.117056</td>\n",
              "    </tr>\n",
              "    <tr>\n",
              "      <th>foetal_move</th>\n",
              "      <td>-0.056336</td>\n",
              "      <td>0.120599</td>\n",
              "      <td>-0.023467</td>\n",
              "    </tr>\n",
              "    <tr>\n",
              "      <th>utherine_contract</th>\n",
              "      <td>0.003541</td>\n",
              "      <td>0.082300</td>\n",
              "      <td>-0.109182</td>\n",
              "    </tr>\n",
              "    <tr>\n",
              "      <th>pct_short_variability</th>\n",
              "      <td>-0.281987</td>\n",
              "      <td>0.339945</td>\n",
              "      <td>-0.037108</td>\n",
              "    </tr>\n",
              "    <tr>\n",
              "      <th>mean_short_variability</th>\n",
              "      <td>0.040506</td>\n",
              "      <td>-0.072527</td>\n",
              "      <td>0.000000</td>\n",
              "    </tr>\n",
              "    <tr>\n",
              "      <th>pct_long_variability</th>\n",
              "      <td>-0.465241</td>\n",
              "      <td>0.309456</td>\n",
              "      <td>0.114755</td>\n",
              "    </tr>\n",
              "    <tr>\n",
              "      <th>mean_long_variability</th>\n",
              "      <td>-0.035234</td>\n",
              "      <td>-0.038515</td>\n",
              "      <td>0.097506</td>\n",
              "    </tr>\n",
              "    <tr>\n",
              "      <th>light_dec</th>\n",
              "      <td>0.396271</td>\n",
              "      <td>-0.469831</td>\n",
              "      <td>0.040359</td>\n",
              "    </tr>\n",
              "    <tr>\n",
              "      <th>severe_dec</th>\n",
              "      <td>-0.559654</td>\n",
              "      <td>0.190796</td>\n",
              "      <td>0.327830</td>\n",
              "    </tr>\n",
              "    <tr>\n",
              "      <th>prolongued_dec</th>\n",
              "      <td>-0.630305</td>\n",
              "      <td>0.469411</td>\n",
              "      <td>0.119974</td>\n",
              "    </tr>\n",
              "    <tr>\n",
              "      <th>repetitive_dec</th>\n",
              "      <td>0.000000</td>\n",
              "      <td>0.000000</td>\n",
              "      <td>0.000000</td>\n",
              "    </tr>\n",
              "    <tr>\n",
              "      <th>width</th>\n",
              "      <td>-0.011091</td>\n",
              "      <td>0.118570</td>\n",
              "      <td>-0.074265</td>\n",
              "    </tr>\n",
              "    <tr>\n",
              "      <th>min</th>\n",
              "      <td>-0.047514</td>\n",
              "      <td>-0.137267</td>\n",
              "      <td>0.216952</td>\n",
              "    </tr>\n",
              "    <tr>\n",
              "      <th>max</th>\n",
              "      <td>-0.189136</td>\n",
              "      <td>0.018573</td>\n",
              "      <td>0.129587</td>\n",
              "    </tr>\n",
              "    <tr>\n",
              "      <th>nmax</th>\n",
              "      <td>-0.026262</td>\n",
              "      <td>0.119450</td>\n",
              "      <td>-0.052310</td>\n",
              "    </tr>\n",
              "    <tr>\n",
              "      <th>nzeros</th>\n",
              "      <td>0.124833</td>\n",
              "      <td>-0.182197</td>\n",
              "      <td>0.021962</td>\n",
              "    </tr>\n",
              "    <tr>\n",
              "      <th>mode</th>\n",
              "      <td>0.784296</td>\n",
              "      <td>-0.531345</td>\n",
              "      <td>-0.212059</td>\n",
              "    </tr>\n",
              "    <tr>\n",
              "      <th>mean</th>\n",
              "      <td>-0.220091</td>\n",
              "      <td>0.650011</td>\n",
              "      <td>-0.398257</td>\n",
              "    </tr>\n",
              "    <tr>\n",
              "      <th>median</th>\n",
              "      <td>0.314988</td>\n",
              "      <td>-0.170553</td>\n",
              "      <td>-0.103571</td>\n",
              "    </tr>\n",
              "    <tr>\n",
              "      <th>variance</th>\n",
              "      <td>-0.162946</td>\n",
              "      <td>0.422623</td>\n",
              "      <td>-0.224109</td>\n",
              "    </tr>\n",
              "    <tr>\n",
              "      <th>tendency</th>\n",
              "      <td>-0.011264</td>\n",
              "      <td>0.040760</td>\n",
              "      <td>0.000000</td>\n",
              "    </tr>\n",
              "    <tr>\n",
              "      <th>calm_sleep</th>\n",
              "      <td>0.422989</td>\n",
              "      <td>-0.116214</td>\n",
              "      <td>-0.265748</td>\n",
              "    </tr>\n",
              "    <tr>\n",
              "      <th>rem_sleep</th>\n",
              "      <td>0.749755</td>\n",
              "      <td>-0.470456</td>\n",
              "      <td>-0.238270</td>\n",
              "    </tr>\n",
              "    <tr>\n",
              "      <th>calm_vigilance</th>\n",
              "      <td>0.350098</td>\n",
              "      <td>-0.161291</td>\n",
              "      <td>-0.147874</td>\n",
              "    </tr>\n",
              "    <tr>\n",
              "      <th>active_vigilance</th>\n",
              "      <td>0.503804</td>\n",
              "      <td>-0.351732</td>\n",
              "      <td>-0.111099</td>\n",
              "    </tr>\n",
              "    <tr>\n",
              "      <th>e</th>\n",
              "      <td>0.013439</td>\n",
              "      <td>0.396908</td>\n",
              "      <td>-0.415469</td>\n",
              "    </tr>\n",
              "    <tr>\n",
              "      <th>acc_pattern_stress</th>\n",
              "      <td>1.667828</td>\n",
              "      <td>-0.892965</td>\n",
              "      <td>-0.733836</td>\n",
              "    </tr>\n",
              "    <tr>\n",
              "      <th>dec_pattern_vagal</th>\n",
              "      <td>1.449753</td>\n",
              "      <td>-0.383920</td>\n",
              "      <td>-1.024810</td>\n",
              "    </tr>\n",
              "    <tr>\n",
              "      <th>largely_dec</th>\n",
              "      <td>-2.359081</td>\n",
              "      <td>0.162091</td>\n",
              "      <td>2.156029</td>\n",
              "    </tr>\n",
              "    <tr>\n",
              "      <th>patho_flat_sinusoidal</th>\n",
              "      <td>-1.844394</td>\n",
              "      <td>0.389682</td>\n",
              "      <td>1.415418</td>\n",
              "    </tr>\n",
              "    <tr>\n",
              "      <th>suspect</th>\n",
              "      <td>-3.173457</td>\n",
              "      <td>2.284043</td>\n",
              "      <td>0.848385</td>\n",
              "    </tr>\n",
              "    <tr>\n",
              "      <th>class</th>\n",
              "      <td>-2.603507</td>\n",
              "      <td>1.361669</td>\n",
              "      <td>1.200809</td>\n",
              "    </tr>\n",
              "  </tbody>\n",
              "</table>\n",
              "</div>\n",
              "      <button class=\"colab-df-convert\" onclick=\"convertToInteractive('df-f96c49e3-7fd6-4f2a-a1aa-3ee8ac9f97d8')\"\n",
              "              title=\"Convert this dataframe to an interactive table.\"\n",
              "              style=\"display:none;\">\n",
              "        \n",
              "  <svg xmlns=\"http://www.w3.org/2000/svg\" height=\"24px\"viewBox=\"0 0 24 24\"\n",
              "       width=\"24px\">\n",
              "    <path d=\"M0 0h24v24H0V0z\" fill=\"none\"/>\n",
              "    <path d=\"M18.56 5.44l.94 2.06.94-2.06 2.06-.94-2.06-.94-.94-2.06-.94 2.06-2.06.94zm-11 1L8.5 8.5l.94-2.06 2.06-.94-2.06-.94L8.5 2.5l-.94 2.06-2.06.94zm10 10l.94 2.06.94-2.06 2.06-.94-2.06-.94-.94-2.06-.94 2.06-2.06.94z\"/><path d=\"M17.41 7.96l-1.37-1.37c-.4-.4-.92-.59-1.43-.59-.52 0-1.04.2-1.43.59L10.3 9.45l-7.72 7.72c-.78.78-.78 2.05 0 2.83L4 21.41c.39.39.9.59 1.41.59.51 0 1.02-.2 1.41-.59l7.78-7.78 2.81-2.81c.8-.78.8-2.07 0-2.86zM5.41 20L4 18.59l7.72-7.72 1.47 1.35L5.41 20z\"/>\n",
              "  </svg>\n",
              "      </button>\n",
              "      \n",
              "  <style>\n",
              "    .colab-df-container {\n",
              "      display:flex;\n",
              "      flex-wrap:wrap;\n",
              "      gap: 12px;\n",
              "    }\n",
              "\n",
              "    .colab-df-convert {\n",
              "      background-color: #E8F0FE;\n",
              "      border: none;\n",
              "      border-radius: 50%;\n",
              "      cursor: pointer;\n",
              "      display: none;\n",
              "      fill: #1967D2;\n",
              "      height: 32px;\n",
              "      padding: 0 0 0 0;\n",
              "      width: 32px;\n",
              "    }\n",
              "\n",
              "    .colab-df-convert:hover {\n",
              "      background-color: #E2EBFA;\n",
              "      box-shadow: 0px 1px 2px rgba(60, 64, 67, 0.3), 0px 1px 3px 1px rgba(60, 64, 67, 0.15);\n",
              "      fill: #174EA6;\n",
              "    }\n",
              "\n",
              "    [theme=dark] .colab-df-convert {\n",
              "      background-color: #3B4455;\n",
              "      fill: #D2E3FC;\n",
              "    }\n",
              "\n",
              "    [theme=dark] .colab-df-convert:hover {\n",
              "      background-color: #434B5C;\n",
              "      box-shadow: 0px 1px 3px 1px rgba(0, 0, 0, 0.15);\n",
              "      filter: drop-shadow(0px 1px 2px rgba(0, 0, 0, 0.3));\n",
              "      fill: #FFFFFF;\n",
              "    }\n",
              "  </style>\n",
              "\n",
              "      <script>\n",
              "        const buttonEl =\n",
              "          document.querySelector('#df-f96c49e3-7fd6-4f2a-a1aa-3ee8ac9f97d8 button.colab-df-convert');\n",
              "        buttonEl.style.display =\n",
              "          google.colab.kernel.accessAllowed ? 'block' : 'none';\n",
              "\n",
              "        async function convertToInteractive(key) {\n",
              "          const element = document.querySelector('#df-f96c49e3-7fd6-4f2a-a1aa-3ee8ac9f97d8');\n",
              "          const dataTable =\n",
              "            await google.colab.kernel.invokeFunction('convertToInteractive',\n",
              "                                                     [key], {});\n",
              "          if (!dataTable) return;\n",
              "\n",
              "          const docLinkHtml = 'Like what you see? Visit the ' +\n",
              "            '<a target=\"_blank\" href=https://colab.research.google.com/notebooks/data_table.ipynb>data table notebook</a>'\n",
              "            + ' to learn more about interactive tables.';\n",
              "          element.innerHTML = '';\n",
              "          dataTable['output_type'] = 'display_data';\n",
              "          await google.colab.output.renderOutput(dataTable, element);\n",
              "          const docLink = document.createElement('div');\n",
              "          docLink.innerHTML = docLinkHtml;\n",
              "          element.appendChild(docLink);\n",
              "        }\n",
              "      </script>\n",
              "    </div>\n",
              "  </div>\n",
              "  "
            ]
          },
          "metadata": {},
          "execution_count": 170
        }
      ]
    },
    {
      "cell_type": "markdown",
      "source": [
        "È da subito evidente come il non utilizzo di una regolarizzazione Lasso pura abbia portato all'azzeramento di molte meno variabili."
      ],
      "metadata": {
        "id": "8oOGQE8zbvUs"
      }
    },
    {
      "cell_type": "code",
      "source": [
        "get_percentage_cm(\n",
        "    get_confusion_matrix(gs, y_test, gs.predict(X_test), normalize='true')\n",
        ")"
      ],
      "metadata": {
        "id": "RUNLHb5Wb60_",
        "colab": {
          "base_uri": "https://localhost:8080/",
          "height": 142
        },
        "outputId": "35bd2735-5bfd-4328-b4ca-17eb6a41af03"
      },
      "execution_count": null,
      "outputs": [
        {
          "output_type": "execute_result",
          "data": {
            "text/plain": [
              "              Normal Suspect Pathological\n",
              "Normal        99.28%   0.72%         0.0%\n",
              "Suspect         5.1%   94.9%         0.0%\n",
              "Pathological    0.0%   1.69%       98.31%"
            ],
            "text/html": [
              "\n",
              "  <div id=\"df-4e12cc46-b4b3-49c8-917c-8807f8918beb\">\n",
              "    <div class=\"colab-df-container\">\n",
              "      <div>\n",
              "<style scoped>\n",
              "    .dataframe tbody tr th:only-of-type {\n",
              "        vertical-align: middle;\n",
              "    }\n",
              "\n",
              "    .dataframe tbody tr th {\n",
              "        vertical-align: top;\n",
              "    }\n",
              "\n",
              "    .dataframe thead th {\n",
              "        text-align: right;\n",
              "    }\n",
              "</style>\n",
              "<table border=\"1\" class=\"dataframe\">\n",
              "  <thead>\n",
              "    <tr style=\"text-align: right;\">\n",
              "      <th></th>\n",
              "      <th>Normal</th>\n",
              "      <th>Suspect</th>\n",
              "      <th>Pathological</th>\n",
              "    </tr>\n",
              "  </thead>\n",
              "  <tbody>\n",
              "    <tr>\n",
              "      <th>Normal</th>\n",
              "      <td>99.28%</td>\n",
              "      <td>0.72%</td>\n",
              "      <td>0.0%</td>\n",
              "    </tr>\n",
              "    <tr>\n",
              "      <th>Suspect</th>\n",
              "      <td>5.1%</td>\n",
              "      <td>94.9%</td>\n",
              "      <td>0.0%</td>\n",
              "    </tr>\n",
              "    <tr>\n",
              "      <th>Pathological</th>\n",
              "      <td>0.0%</td>\n",
              "      <td>1.69%</td>\n",
              "      <td>98.31%</td>\n",
              "    </tr>\n",
              "  </tbody>\n",
              "</table>\n",
              "</div>\n",
              "      <button class=\"colab-df-convert\" onclick=\"convertToInteractive('df-4e12cc46-b4b3-49c8-917c-8807f8918beb')\"\n",
              "              title=\"Convert this dataframe to an interactive table.\"\n",
              "              style=\"display:none;\">\n",
              "        \n",
              "  <svg xmlns=\"http://www.w3.org/2000/svg\" height=\"24px\"viewBox=\"0 0 24 24\"\n",
              "       width=\"24px\">\n",
              "    <path d=\"M0 0h24v24H0V0z\" fill=\"none\"/>\n",
              "    <path d=\"M18.56 5.44l.94 2.06.94-2.06 2.06-.94-2.06-.94-.94-2.06-.94 2.06-2.06.94zm-11 1L8.5 8.5l.94-2.06 2.06-.94-2.06-.94L8.5 2.5l-.94 2.06-2.06.94zm10 10l.94 2.06.94-2.06 2.06-.94-2.06-.94-.94-2.06-.94 2.06-2.06.94z\"/><path d=\"M17.41 7.96l-1.37-1.37c-.4-.4-.92-.59-1.43-.59-.52 0-1.04.2-1.43.59L10.3 9.45l-7.72 7.72c-.78.78-.78 2.05 0 2.83L4 21.41c.39.39.9.59 1.41.59.51 0 1.02-.2 1.41-.59l7.78-7.78 2.81-2.81c.8-.78.8-2.07 0-2.86zM5.41 20L4 18.59l7.72-7.72 1.47 1.35L5.41 20z\"/>\n",
              "  </svg>\n",
              "      </button>\n",
              "      \n",
              "  <style>\n",
              "    .colab-df-container {\n",
              "      display:flex;\n",
              "      flex-wrap:wrap;\n",
              "      gap: 12px;\n",
              "    }\n",
              "\n",
              "    .colab-df-convert {\n",
              "      background-color: #E8F0FE;\n",
              "      border: none;\n",
              "      border-radius: 50%;\n",
              "      cursor: pointer;\n",
              "      display: none;\n",
              "      fill: #1967D2;\n",
              "      height: 32px;\n",
              "      padding: 0 0 0 0;\n",
              "      width: 32px;\n",
              "    }\n",
              "\n",
              "    .colab-df-convert:hover {\n",
              "      background-color: #E2EBFA;\n",
              "      box-shadow: 0px 1px 2px rgba(60, 64, 67, 0.3), 0px 1px 3px 1px rgba(60, 64, 67, 0.15);\n",
              "      fill: #174EA6;\n",
              "    }\n",
              "\n",
              "    [theme=dark] .colab-df-convert {\n",
              "      background-color: #3B4455;\n",
              "      fill: #D2E3FC;\n",
              "    }\n",
              "\n",
              "    [theme=dark] .colab-df-convert:hover {\n",
              "      background-color: #434B5C;\n",
              "      box-shadow: 0px 1px 3px 1px rgba(0, 0, 0, 0.15);\n",
              "      filter: drop-shadow(0px 1px 2px rgba(0, 0, 0, 0.3));\n",
              "      fill: #FFFFFF;\n",
              "    }\n",
              "  </style>\n",
              "\n",
              "      <script>\n",
              "        const buttonEl =\n",
              "          document.querySelector('#df-4e12cc46-b4b3-49c8-917c-8807f8918beb button.colab-df-convert');\n",
              "        buttonEl.style.display =\n",
              "          google.colab.kernel.accessAllowed ? 'block' : 'none';\n",
              "\n",
              "        async function convertToInteractive(key) {\n",
              "          const element = document.querySelector('#df-4e12cc46-b4b3-49c8-917c-8807f8918beb');\n",
              "          const dataTable =\n",
              "            await google.colab.kernel.invokeFunction('convertToInteractive',\n",
              "                                                     [key], {});\n",
              "          if (!dataTable) return;\n",
              "\n",
              "          const docLinkHtml = 'Like what you see? Visit the ' +\n",
              "            '<a target=\"_blank\" href=https://colab.research.google.com/notebooks/data_table.ipynb>data table notebook</a>'\n",
              "            + ' to learn more about interactive tables.';\n",
              "          element.innerHTML = '';\n",
              "          dataTable['output_type'] = 'display_data';\n",
              "          await google.colab.output.renderOutput(dataTable, element);\n",
              "          const docLink = document.createElement('div');\n",
              "          docLink.innerHTML = docLinkHtml;\n",
              "          element.appendChild(docLink);\n",
              "        }\n",
              "      </script>\n",
              "    </div>\n",
              "  </div>\n",
              "  "
            ]
          },
          "metadata": {},
          "execution_count": 171
        }
      ]
    },
    {
      "cell_type": "code",
      "source": [
        "print_f1_score(get_f1_score(gs, y_test, X_test))"
      ],
      "metadata": {
        "id": "HAp6rJO3cNTa",
        "colab": {
          "base_uri": "https://localhost:8080/"
        },
        "outputId": "27d6b434-f019-4a24-9d04-ac6fd262ec67"
      },
      "execution_count": null,
      "outputs": [
        {
          "output_type": "stream",
          "name": "stdout",
          "text": [
            "F1 Score: 0.9774\n"
          ]
        }
      ]
    }
  ],
  "metadata": {
    "colab": {
      "provenance": []
    },
    "kernelspec": {
      "display_name": "Python 3 (ipykernel)",
      "language": "python",
      "name": "python3"
    },
    "language_info": {
      "codemirror_mode": {
        "name": "ipython",
        "version": 3
      },
      "file_extension": ".py",
      "mimetype": "text/x-python",
      "name": "python",
      "nbconvert_exporter": "python",
      "pygments_lexer": "ipython3",
      "version": "3.9.16"
    }
  },
  "nbformat": 4,
  "nbformat_minor": 0
}