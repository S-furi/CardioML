{
  "cells": [
    {
      "cell_type": "markdown",
      "metadata": {
        "id": "AUCXRc_tjTB_"
      },
      "source": [
        "# CardioML\n",
        "\n"
      ]
    },
    {
      "cell_type": "markdown",
      "metadata": {
        "id": "qd0misoXjTCG"
      },
      "source": [
        "Elaborato di Programmazione di Applicazioni Data Intensive - 2023\n",
        "\n",
        "Membri del Gruppo:\n",
        "- Matteo Iorio\n",
        "- Fabio Vincenzi\n",
        "- Stefano Furi"
      ]
    },
    {
      "cell_type": "code",
      "execution_count": 46,
      "metadata": {
        "id": "yNqSjBQ0jTCH"
      },
      "outputs": [],
      "source": [
        "import pandas as pd\n",
        "import numpy as np\n",
        "import matplotlib.pyplot as plt\n",
        "import seaborn as sns\n",
        "\n",
        "sns.set(style=\"ticks\")\n",
        "sns.set_style(\"whitegrid\")"
      ]
    },
    {
      "cell_type": "markdown",
      "metadata": {
        "id": "EZNeLWRtjTCH"
      },
      "source": [
        "## Creazione del DataFrame"
      ]
    },
    {
      "cell_type": "markdown",
      "metadata": {
        "id": "eAEwO9jDjTCI"
      },
      "source": [
        "Ci siamo posti l'obbiettivo di realizzare un progetto che **possa veramente risultare utile** per alcuni professionisti del settore. Quello che andremo a studiare è un problema che riguarda i fanciulli di tenera età, più in particolare andremo ad analizzare i *risultati di rilevazioni cardiache*, andando a determinare se avranno o meno complicanze cardiache patologiche. \n",
        "\n",
        "Il dataset utilizzato riguarda una serie di misurazioni effettuate attraverso [cardiotocografia](https://it.wikipedia.org/wiki/Cardiotocografia), consultabile presso [UCI Machine Learning Repository](https://archive.ics.uci.edu/ml/datasets/cardiotocography#).\n"
      ]
    },
    {
      "cell_type": "markdown",
      "metadata": {
        "id": "etfNFk4wjTCJ"
      },
      "source": [
        "## Preparazione del dataset"
      ]
    },
    {
      "cell_type": "code",
      "execution_count": 47,
      "metadata": {
        "id": "_waY7KnUjTCJ"
      },
      "outputs": [],
      "source": [
        "raw_df = pd.read_csv(\"https://raw.githubusercontent.com/S-furi/CardioML/main/data/ctg.csv?token=GHSAT0AAAAAAB2INSX3OMMLZ7L45MTIRBW2ZEB3QJQ\", delimiter=';')"
      ]
    },
    {
      "cell_type": "code",
      "execution_count": 48,
      "metadata": {
        "colab": {
          "base_uri": "https://localhost:8080/",
          "height": 235
        },
        "id": "KkPzRMCLjTCJ",
        "outputId": "66e4abf6-7fd0-423a-836d-b0ff3a19386b"
      },
      "outputs": [
        {
          "output_type": "execute_result",
          "data": {
            "text/plain": [
              "       FileName      Date      SegFile    b     e  LBE   LB  AC  FM  UC  ...  \\\n",
              "0  Variab10.txt  01/12/96  CTG0001.txt  240   357  120  120   0   0   0  ...   \n",
              "1    Fmcs_1.txt  03/05/96  CTG0002.txt    5   632  132  132   4   0   4  ...   \n",
              "2    Fmcs_1.txt  03/05/96  CTG0003.txt  177   779  133  133   2   0   5  ...   \n",
              "3    Fmcs_1.txt  03/05/96  CTG0004.txt  411  1192  134  134   2   0   6  ...   \n",
              "4    Fmcs_1.txt  03/05/96  CTG0005.txt  533  1147  132  132   4   0   5  ...   \n",
              "\n",
              "   C  D  E AD  DE  LD  FS  SUSP  CLASS  NSP  \n",
              "0  0  0  0  0   0   0   1     0      9    2  \n",
              "1  0  0  0  1   0   0   0     0      6    1  \n",
              "2  0  0  0  1   0   0   0     0      6    1  \n",
              "3  0  0  0  1   0   0   0     0      6    1  \n",
              "4  0  0  0  0   0   0   0     0      2    1  \n",
              "\n",
              "[5 rows x 40 columns]"
            ],
            "text/html": [
              "\n",
              "  <div id=\"df-2e484c3e-0bd9-4491-9ee5-d07d4121a320\">\n",
              "    <div class=\"colab-df-container\">\n",
              "      <div>\n",
              "<style scoped>\n",
              "    .dataframe tbody tr th:only-of-type {\n",
              "        vertical-align: middle;\n",
              "    }\n",
              "\n",
              "    .dataframe tbody tr th {\n",
              "        vertical-align: top;\n",
              "    }\n",
              "\n",
              "    .dataframe thead th {\n",
              "        text-align: right;\n",
              "    }\n",
              "</style>\n",
              "<table border=\"1\" class=\"dataframe\">\n",
              "  <thead>\n",
              "    <tr style=\"text-align: right;\">\n",
              "      <th></th>\n",
              "      <th>FileName</th>\n",
              "      <th>Date</th>\n",
              "      <th>SegFile</th>\n",
              "      <th>b</th>\n",
              "      <th>e</th>\n",
              "      <th>LBE</th>\n",
              "      <th>LB</th>\n",
              "      <th>AC</th>\n",
              "      <th>FM</th>\n",
              "      <th>UC</th>\n",
              "      <th>...</th>\n",
              "      <th>C</th>\n",
              "      <th>D</th>\n",
              "      <th>E</th>\n",
              "      <th>AD</th>\n",
              "      <th>DE</th>\n",
              "      <th>LD</th>\n",
              "      <th>FS</th>\n",
              "      <th>SUSP</th>\n",
              "      <th>CLASS</th>\n",
              "      <th>NSP</th>\n",
              "    </tr>\n",
              "  </thead>\n",
              "  <tbody>\n",
              "    <tr>\n",
              "      <th>0</th>\n",
              "      <td>Variab10.txt</td>\n",
              "      <td>01/12/96</td>\n",
              "      <td>CTG0001.txt</td>\n",
              "      <td>240</td>\n",
              "      <td>357</td>\n",
              "      <td>120</td>\n",
              "      <td>120</td>\n",
              "      <td>0</td>\n",
              "      <td>0</td>\n",
              "      <td>0</td>\n",
              "      <td>...</td>\n",
              "      <td>0</td>\n",
              "      <td>0</td>\n",
              "      <td>0</td>\n",
              "      <td>0</td>\n",
              "      <td>0</td>\n",
              "      <td>0</td>\n",
              "      <td>1</td>\n",
              "      <td>0</td>\n",
              "      <td>9</td>\n",
              "      <td>2</td>\n",
              "    </tr>\n",
              "    <tr>\n",
              "      <th>1</th>\n",
              "      <td>Fmcs_1.txt</td>\n",
              "      <td>03/05/96</td>\n",
              "      <td>CTG0002.txt</td>\n",
              "      <td>5</td>\n",
              "      <td>632</td>\n",
              "      <td>132</td>\n",
              "      <td>132</td>\n",
              "      <td>4</td>\n",
              "      <td>0</td>\n",
              "      <td>4</td>\n",
              "      <td>...</td>\n",
              "      <td>0</td>\n",
              "      <td>0</td>\n",
              "      <td>0</td>\n",
              "      <td>1</td>\n",
              "      <td>0</td>\n",
              "      <td>0</td>\n",
              "      <td>0</td>\n",
              "      <td>0</td>\n",
              "      <td>6</td>\n",
              "      <td>1</td>\n",
              "    </tr>\n",
              "    <tr>\n",
              "      <th>2</th>\n",
              "      <td>Fmcs_1.txt</td>\n",
              "      <td>03/05/96</td>\n",
              "      <td>CTG0003.txt</td>\n",
              "      <td>177</td>\n",
              "      <td>779</td>\n",
              "      <td>133</td>\n",
              "      <td>133</td>\n",
              "      <td>2</td>\n",
              "      <td>0</td>\n",
              "      <td>5</td>\n",
              "      <td>...</td>\n",
              "      <td>0</td>\n",
              "      <td>0</td>\n",
              "      <td>0</td>\n",
              "      <td>1</td>\n",
              "      <td>0</td>\n",
              "      <td>0</td>\n",
              "      <td>0</td>\n",
              "      <td>0</td>\n",
              "      <td>6</td>\n",
              "      <td>1</td>\n",
              "    </tr>\n",
              "    <tr>\n",
              "      <th>3</th>\n",
              "      <td>Fmcs_1.txt</td>\n",
              "      <td>03/05/96</td>\n",
              "      <td>CTG0004.txt</td>\n",
              "      <td>411</td>\n",
              "      <td>1192</td>\n",
              "      <td>134</td>\n",
              "      <td>134</td>\n",
              "      <td>2</td>\n",
              "      <td>0</td>\n",
              "      <td>6</td>\n",
              "      <td>...</td>\n",
              "      <td>0</td>\n",
              "      <td>0</td>\n",
              "      <td>0</td>\n",
              "      <td>1</td>\n",
              "      <td>0</td>\n",
              "      <td>0</td>\n",
              "      <td>0</td>\n",
              "      <td>0</td>\n",
              "      <td>6</td>\n",
              "      <td>1</td>\n",
              "    </tr>\n",
              "    <tr>\n",
              "      <th>4</th>\n",
              "      <td>Fmcs_1.txt</td>\n",
              "      <td>03/05/96</td>\n",
              "      <td>CTG0005.txt</td>\n",
              "      <td>533</td>\n",
              "      <td>1147</td>\n",
              "      <td>132</td>\n",
              "      <td>132</td>\n",
              "      <td>4</td>\n",
              "      <td>0</td>\n",
              "      <td>5</td>\n",
              "      <td>...</td>\n",
              "      <td>0</td>\n",
              "      <td>0</td>\n",
              "      <td>0</td>\n",
              "      <td>0</td>\n",
              "      <td>0</td>\n",
              "      <td>0</td>\n",
              "      <td>0</td>\n",
              "      <td>0</td>\n",
              "      <td>2</td>\n",
              "      <td>1</td>\n",
              "    </tr>\n",
              "  </tbody>\n",
              "</table>\n",
              "<p>5 rows × 40 columns</p>\n",
              "</div>\n",
              "      <button class=\"colab-df-convert\" onclick=\"convertToInteractive('df-2e484c3e-0bd9-4491-9ee5-d07d4121a320')\"\n",
              "              title=\"Convert this dataframe to an interactive table.\"\n",
              "              style=\"display:none;\">\n",
              "        \n",
              "  <svg xmlns=\"http://www.w3.org/2000/svg\" height=\"24px\"viewBox=\"0 0 24 24\"\n",
              "       width=\"24px\">\n",
              "    <path d=\"M0 0h24v24H0V0z\" fill=\"none\"/>\n",
              "    <path d=\"M18.56 5.44l.94 2.06.94-2.06 2.06-.94-2.06-.94-.94-2.06-.94 2.06-2.06.94zm-11 1L8.5 8.5l.94-2.06 2.06-.94-2.06-.94L8.5 2.5l-.94 2.06-2.06.94zm10 10l.94 2.06.94-2.06 2.06-.94-2.06-.94-.94-2.06-.94 2.06-2.06.94z\"/><path d=\"M17.41 7.96l-1.37-1.37c-.4-.4-.92-.59-1.43-.59-.52 0-1.04.2-1.43.59L10.3 9.45l-7.72 7.72c-.78.78-.78 2.05 0 2.83L4 21.41c.39.39.9.59 1.41.59.51 0 1.02-.2 1.41-.59l7.78-7.78 2.81-2.81c.8-.78.8-2.07 0-2.86zM5.41 20L4 18.59l7.72-7.72 1.47 1.35L5.41 20z\"/>\n",
              "  </svg>\n",
              "      </button>\n",
              "      \n",
              "  <style>\n",
              "    .colab-df-container {\n",
              "      display:flex;\n",
              "      flex-wrap:wrap;\n",
              "      gap: 12px;\n",
              "    }\n",
              "\n",
              "    .colab-df-convert {\n",
              "      background-color: #E8F0FE;\n",
              "      border: none;\n",
              "      border-radius: 50%;\n",
              "      cursor: pointer;\n",
              "      display: none;\n",
              "      fill: #1967D2;\n",
              "      height: 32px;\n",
              "      padding: 0 0 0 0;\n",
              "      width: 32px;\n",
              "    }\n",
              "\n",
              "    .colab-df-convert:hover {\n",
              "      background-color: #E2EBFA;\n",
              "      box-shadow: 0px 1px 2px rgba(60, 64, 67, 0.3), 0px 1px 3px 1px rgba(60, 64, 67, 0.15);\n",
              "      fill: #174EA6;\n",
              "    }\n",
              "\n",
              "    [theme=dark] .colab-df-convert {\n",
              "      background-color: #3B4455;\n",
              "      fill: #D2E3FC;\n",
              "    }\n",
              "\n",
              "    [theme=dark] .colab-df-convert:hover {\n",
              "      background-color: #434B5C;\n",
              "      box-shadow: 0px 1px 3px 1px rgba(0, 0, 0, 0.15);\n",
              "      filter: drop-shadow(0px 1px 2px rgba(0, 0, 0, 0.3));\n",
              "      fill: #FFFFFF;\n",
              "    }\n",
              "  </style>\n",
              "\n",
              "      <script>\n",
              "        const buttonEl =\n",
              "          document.querySelector('#df-2e484c3e-0bd9-4491-9ee5-d07d4121a320 button.colab-df-convert');\n",
              "        buttonEl.style.display =\n",
              "          google.colab.kernel.accessAllowed ? 'block' : 'none';\n",
              "\n",
              "        async function convertToInteractive(key) {\n",
              "          const element = document.querySelector('#df-2e484c3e-0bd9-4491-9ee5-d07d4121a320');\n",
              "          const dataTable =\n",
              "            await google.colab.kernel.invokeFunction('convertToInteractive',\n",
              "                                                     [key], {});\n",
              "          if (!dataTable) return;\n",
              "\n",
              "          const docLinkHtml = 'Like what you see? Visit the ' +\n",
              "            '<a target=\"_blank\" href=https://colab.research.google.com/notebooks/data_table.ipynb>data table notebook</a>'\n",
              "            + ' to learn more about interactive tables.';\n",
              "          element.innerHTML = '';\n",
              "          dataTable['output_type'] = 'display_data';\n",
              "          await google.colab.output.renderOutput(dataTable, element);\n",
              "          const docLink = document.createElement('div');\n",
              "          docLink.innerHTML = docLinkHtml;\n",
              "          element.appendChild(docLink);\n",
              "        }\n",
              "      </script>\n",
              "    </div>\n",
              "  </div>\n",
              "  "
            ]
          },
          "metadata": {},
          "execution_count": 48
        }
      ],
      "source": [
        "raw_df.head()"
      ]
    },
    {
      "cell_type": "markdown",
      "metadata": {
        "id": "Y7yTkN74jTCK"
      },
      "source": [
        "Alcune variabili categoriche sono state mappate a `np.float64`, mentre altre sarebbe stato sufficiente un tipo `np.int32`. Possiamo quindi ricaricare il dataset, specificando il tipo di dato per ogni colonna, facendo anche riferimento all'utilizzo di memoria"
      ]
    },
    {
      "cell_type": "code",
      "execution_count": 49,
      "metadata": {
        "colab": {
          "base_uri": "https://localhost:8080/"
        },
        "id": "ORIzkWYcjTCK",
        "outputId": "1e8fa5ac-54d9-417d-90af-77d8e49fc2e1"
      },
      "outputs": [
        {
          "output_type": "stream",
          "name": "stdout",
          "text": [
            "<class 'pandas.core.frame.DataFrame'>\n",
            "RangeIndex: 2126 entries, 0 to 2125\n",
            "Data columns (total 40 columns):\n",
            " #   Column    Non-Null Count  Dtype \n",
            "---  ------    --------------  ----- \n",
            " 0   FileName  2126 non-null   object\n",
            " 1   Date      2126 non-null   object\n",
            " 2   SegFile   2126 non-null   object\n",
            " 3   b         2126 non-null   int64 \n",
            " 4   e         2126 non-null   int64 \n",
            " 5   LBE       2126 non-null   int64 \n",
            " 6   LB        2126 non-null   int64 \n",
            " 7   AC        2126 non-null   int64 \n",
            " 8   FM        2126 non-null   int64 \n",
            " 9   UC        2126 non-null   int64 \n",
            " 10  ASTV      2126 non-null   int64 \n",
            " 11  MSTV      2126 non-null   object\n",
            " 12  ALTV      2126 non-null   int64 \n",
            " 13  MLTV      2126 non-null   object\n",
            " 14  DL        2126 non-null   int64 \n",
            " 15  DS        2126 non-null   int64 \n",
            " 16  DP        2126 non-null   int64 \n",
            " 17  DR        2126 non-null   int64 \n",
            " 18  Width     2126 non-null   int64 \n",
            " 19  Min       2126 non-null   int64 \n",
            " 20  Max       2126 non-null   int64 \n",
            " 21  Nmax      2126 non-null   int64 \n",
            " 22  Nzeros    2126 non-null   int64 \n",
            " 23  Mode      2126 non-null   int64 \n",
            " 24  Mean      2126 non-null   int64 \n",
            " 25  Median    2126 non-null   int64 \n",
            " 26  Variance  2126 non-null   int64 \n",
            " 27  Tendency  2126 non-null   int64 \n",
            " 28  A         2126 non-null   int64 \n",
            " 29  B         2126 non-null   int64 \n",
            " 30  C         2126 non-null   int64 \n",
            " 31  D         2126 non-null   int64 \n",
            " 32  E         2126 non-null   int64 \n",
            " 33  AD        2126 non-null   int64 \n",
            " 34  DE        2126 non-null   int64 \n",
            " 35  LD        2126 non-null   int64 \n",
            " 36  FS        2126 non-null   int64 \n",
            " 37  SUSP      2126 non-null   int64 \n",
            " 38  CLASS     2126 non-null   int64 \n",
            " 39  NSP       2126 non-null   int64 \n",
            "dtypes: int64(35), object(5)\n",
            "memory usage: 1.2 MB\n"
          ]
        }
      ],
      "source": [
        "raw_df.info(memory_usage=\"deep\")"
      ]
    },
    {
      "cell_type": "markdown",
      "metadata": {
        "id": "9ux4f88DjTCL"
      },
      "source": [
        "Possiamo poi procedere con la classificazione dei nostro dati, più nello specifico abbiamo individuato 3 macro classi:\n",
        "* *bool_vars*: Tutte le variabili del nostro data frame che assumono valori tra [0, 1], andremo ad assegnare come tipologia di valore quello *booleano*\n",
        "* *cat_varts*: All'interno di questa tipologia di variabili, troviamo quelle *categoriche*, assegneremo a tali variabili il valore *category*\n",
        "* *num_vars*: In quest'ultima tipologia di variabili, abbiamo solamente le tipologie di valori *numerici*, le quali verranno trattate come variabili di tipo *float32*\n",
        "\n",
        "Queste classi, oltre ad essere utili per motivi di training dei modelli, risultano utili per poter caricare efficientemente il *dataframe* in memoria."
      ]
    },
    {
      "cell_type": "code",
      "execution_count": 50,
      "metadata": {
        "id": "C8k0z7QljTCL"
      },
      "outputs": [],
      "source": [
        "bool_vars = [\n",
        "    \"A\", \"B\", \"C\", \"D\", \"SH\",\n",
        "    \"AD\", \"DE\", \"LD\", \"FS\", \"SUSP\"\n",
        "]\n",
        "\n",
        "cat_vars = [\"CLASS\", \"NSP\", \"Tendency\"]\n",
        "\n",
        "num_vars = [\n",
        "    \"b\", \"e\", \"LBE\", \"LB\", \"AC\",\n",
        "    \"FM\", \"UC\", \"ASTV\",\n",
        "    \"MSTV\", \"ALTV\", \"MLTV\", \"DL\",\n",
        "    \"DS\", \"DP\", \"DR\", \"Width\", \"Min\",\n",
        "    \"Max\", \"Nmax\", \"Nzeros\", \"Mode\",\n",
        "    \"Mean\", \"Median\", \"Variance\"\n",
        "]\n",
        "\n",
        "custom_dtpes = { \n",
        "    **{ col: \"bool\" for col in bool_vars }, \n",
        "    **{ col: \"category\" for col in cat_vars},\n",
        "    **{ col: \"float32\" for col in num_vars}\n",
        "}"
      ]
    },
    {
      "cell_type": "markdown",
      "metadata": {
        "id": "gNH-VVbojTCL"
      },
      "source": [
        "Possiamo quindi procedere a leggere nuovamente il Data Frame, specificando i tipi delle colonne."
      ]
    },
    {
      "cell_type": "code",
      "execution_count": 51,
      "metadata": {
        "id": "ONo7sYFojTCM"
      },
      "outputs": [],
      "source": [
        "raw_df = pd.read_csv(\"https://raw.githubusercontent.com/S-furi/CardioML/main/data/ctg.csv\", delimiter=';', dtype=custom_dtpes, decimal=',')"
      ]
    },
    {
      "cell_type": "code",
      "execution_count": 52,
      "metadata": {
        "colab": {
          "base_uri": "https://localhost:8080/"
        },
        "id": "P4s1VntCjTCM",
        "outputId": "5b3f57c5-a290-4d90-ad89-698b4d9b6d00"
      },
      "outputs": [
        {
          "output_type": "stream",
          "name": "stdout",
          "text": [
            "<class 'pandas.core.frame.DataFrame'>\n",
            "RangeIndex: 2126 entries, 0 to 2125\n",
            "Data columns (total 40 columns):\n",
            " #   Column    Non-Null Count  Dtype   \n",
            "---  ------    --------------  -----   \n",
            " 0   FileName  2126 non-null   object  \n",
            " 1   Date      2126 non-null   object  \n",
            " 2   SegFile   2126 non-null   object  \n",
            " 3   b         2126 non-null   float32 \n",
            " 4   e         2126 non-null   float32 \n",
            " 5   LBE       2126 non-null   float32 \n",
            " 6   LB        2126 non-null   float32 \n",
            " 7   AC        2126 non-null   float32 \n",
            " 8   FM        2126 non-null   float32 \n",
            " 9   UC        2126 non-null   float32 \n",
            " 10  ASTV      2126 non-null   float32 \n",
            " 11  MSTV      2126 non-null   float32 \n",
            " 12  ALTV      2126 non-null   float32 \n",
            " 13  MLTV      2126 non-null   float32 \n",
            " 14  DL        2126 non-null   float32 \n",
            " 15  DS        2126 non-null   float32 \n",
            " 16  DP        2126 non-null   float32 \n",
            " 17  DR        2126 non-null   float32 \n",
            " 18  Width     2126 non-null   float32 \n",
            " 19  Min       2126 non-null   float32 \n",
            " 20  Max       2126 non-null   float32 \n",
            " 21  Nmax      2126 non-null   float32 \n",
            " 22  Nzeros    2126 non-null   float32 \n",
            " 23  Mode      2126 non-null   float32 \n",
            " 24  Mean      2126 non-null   float32 \n",
            " 25  Median    2126 non-null   float32 \n",
            " 26  Variance  2126 non-null   float32 \n",
            " 27  Tendency  2126 non-null   category\n",
            " 28  A         2126 non-null   bool    \n",
            " 29  B         2126 non-null   bool    \n",
            " 30  C         2126 non-null   bool    \n",
            " 31  D         2126 non-null   bool    \n",
            " 32  E         2126 non-null   int64   \n",
            " 33  AD        2126 non-null   bool    \n",
            " 34  DE        2126 non-null   bool    \n",
            " 35  LD        2126 non-null   bool    \n",
            " 36  FS        2126 non-null   bool    \n",
            " 37  SUSP      2126 non-null   bool    \n",
            " 38  CLASS     2126 non-null   category\n",
            " 39  NSP       2126 non-null   category\n",
            "dtypes: bool(9), category(3), float32(24), int64(1), object(3)\n",
            "memory usage: 660.6 KB\n"
          ]
        }
      ],
      "source": [
        "raw_df.info(memory_usage=\"deep\")"
      ]
    },
    {
      "cell_type": "markdown",
      "metadata": {
        "id": "XX7Cdlk1jTCM"
      },
      "source": [
        "In questo modo, abbiamo ridotto di quasi la metà la quantità di memoria utilizzata per mantenere il dataset."
      ]
    },
    {
      "cell_type": "markdown",
      "metadata": {
        "id": "s0gowddBjTCN"
      },
      "source": [
        "I nomi utilizzati nel dataset non risultano molto esplicativi, perciò mappiamo i nomi di aclune colonne in nomi più esplicativi."
      ]
    },
    {
      "cell_type": "code",
      "execution_count": 53,
      "metadata": {
        "id": "ekZlw_6ZjTCN"
      },
      "outputs": [],
      "source": [
        "col_names = {\n",
        "    \"FileName\": \"file_name\",\n",
        "    \"Date\": \"date\",\n",
        "    \"SegFile\": \"seg_file\",\n",
        "    \"b\": \"start_instant\",\n",
        "    \"e\": \"end_instant\",\n",
        "    \"LBE\": \"medical_baseline\",\n",
        "    \"LB\": \"sisproto_baseline\",\n",
        "    \"AC\": \"heart_acc\",\n",
        "    \"FM\": \"foetal_move\",\n",
        "    \"UC\": \"utherine_contract\",\n",
        "    \"ASTV\": \"pct_short_variability\",\n",
        "    \"MSTV\": \"mean_short_variability\",\n",
        "    \"ALTV\": \"pct_long_variability\",\n",
        "    \"MLTV\": \"mean_long_variability\",\n",
        "    \"DL\": \"light_dec\",\n",
        "    \"DS\": \"severe_dec\",\n",
        "    \"DP\": \"prolongued_dec\",\n",
        "    \"DR\": \"repetitive_dec\",\n",
        "    \"A\": \"calm_sleep\",\n",
        "    \"B\": \"rem_sleep\",\n",
        "    \"C\": \"calm_vigilance\",\n",
        "    \"D\": \"active_vigilance\",\n",
        "    \"AD\": \"acc_pattern_stress\", # negativo se pattern in decelerazione\n",
        "    \"DE\": \"dec_pattern_vagal\",\n",
        "    \"LD\": \"largely_dec\",\n",
        "    \"FS\": \"patho_flat_sinusoidal\",\n",
        "    \"SUSP\": \"suspect\"\n",
        "}"
      ]
    },
    {
      "cell_type": "markdown",
      "metadata": {
        "id": "l8yyYREjLNPO"
      },
      "source": [
        "\n",
        "*   **file_name**: Nome del file che contiene i dati della cardiotografia. È un identificatore unico per il file.\n",
        "*   **date**: Data relativa alla registrazione della cardiotografia. Indica la data in cui è stato eseguito l'esame.\n",
        "*   **seg_file**: Nome del file di segmentazione associato ai dati della \n",
        "cardiotografia. Può contenere informazioni sulla suddivisione temporale dei dati.\n",
        "*   **start_instant**: Istante di inizio della registrazione della cardiotografia. Indica il momento in cui i dati sono stati registrati.\n",
        "* **end_instant**: Istante di fine della registrazione della cardiotografia. Indica il momento finale in cui i dati sono stati registrati.\n",
        "*   **medical_baseline**: Baseline medica, rappresenta la linea di base dei segnali registrati durante l'esame.\n",
        "*   **sisproto_baseline**: Baseline di riferimento, rappresenta una linea di base standard usata per confrontare i segnali registrati.\n",
        "*   **heart_acc**: Accelerazioni cardiache, misura le variazioni di frequenza cardiaca che indicano l'accelerazione del cuore.\n",
        "*   **foetal_move**: Movimenti fetali, rappresenta l'attività motoria del feto durante la registrazione.\n",
        "*   **utherine_contract**: Contrazioni uterine, indica le contrazioni dell'utero durante la registrazione.\n",
        "*   **pct_short_variability**: Variabilità a breve termine della frequenza cardiaca fetale espressa in percentuale.\n",
        "*   **mean_short_variability**: Media della variabilità a breve termine della frequenza cardiaca fetale.\n",
        "*   **pct_long_variability**: Variabilità a lungo termine della frequenza cardiaca fetale espressa in percentuale.\n",
        "*   **mean_long_variability**: Media della variabilità a lungo termine della frequenza cardiaca fetale.\n",
        "*   **light_dec**: Decelerazioni lievi, rappresenta la diminuzione temporanea della frequenza cardiaca fetale in modo lieve.\n",
        "*   **severe_dec**: Decelerazioni gravi, indica la diminuzione temporanea della frequenza cardiaca fetale in modo significativo.\n",
        "*   **prolongued_dec**: Decelerazioni prolungate, rappresenta la diminuzione prolungata della frequenza cardiaca fetale.\n",
        "*   **repetitive_dec**: Decelerazioni ripetitive, indica la presenza di decelerazioni che si ripetono durante la registrazione.\n",
        "*   **calm_sleep**: Stato di sonno tranquillo del feto durante la registrazione.\n",
        "*   **rem_sleep**: Stato di sonno REM (Rapid Eye Movement) del feto durante la registrazione.\n",
        "*   **calm_vigilance**: Stato di veglia tranquilla del feto durante la registrazione.\n",
        "*   **active_vigilance**: Stato di veglia attiva del feto durante la registrazione.\n",
        "*   **acc_pattern_stress**: Pattern di accelerazione legato allo stress. Assume un valore negativo se è presente un pattern di decelerazione.\n",
        "*  **width**: rappresenta la durata delle onde nell'attività cardiaca fetale registrata.\n",
        "* **variance** è una misura statistica che rappresenta la dispersione dei dati intorno alla media.\n"
      ]
    },
    {
      "cell_type": "code",
      "execution_count": 54,
      "metadata": {
        "id": "rLYx4-y-jTCN"
      },
      "outputs": [],
      "source": [
        "bool_vars_low = [\n",
        "    \"calm_sleep\", \"rem_sleep\", \"calm_vigilance\", \"active_vigilance\",\n",
        "    \"acc_pattern_stress\", \"dec_pattern_vagal\", \"largely_dec\", \"patho_flat_sinusoidal\", \"suspect\"\n",
        "]\n",
        "cat_vars_low = [\n",
        "    \"nsp\", \"tendency\"\n",
        "]\n",
        "num_vars_low = [\n",
        "    \"start_instant\", \"end_instant\", \"medical_baseline\", \"heart_acc\",\n",
        "    \"foetal_move\", \"utherine_contract\", \"pct_short_variability\",\n",
        "    \"mean_short_variability\", \"pct_long_variability\", \"mean_long_variability\",\n",
        "    \"light_dec\", \"severe_dec\", \"prolongued_dec\", \"repetitive_dec\", \"width\",\n",
        "    \"min\", \"max\", \"nmax\", \"nzeros\", \"mode\", \"mean\", \"median\", \"variance\"\n",
        "]"
      ]
    },
    {
      "cell_type": "code",
      "execution_count": 55,
      "metadata": {
        "colab": {
          "base_uri": "https://localhost:8080/"
        },
        "id": "zdzl_-3cjTCO",
        "outputId": "a445a618-f594-427c-89bd-f486bf1722e1"
      },
      "outputs": [
        {
          "output_type": "execute_result",
          "data": {
            "text/plain": [
              "Index(['file_name', 'date', 'seg_file', 'start_instant', 'end_instant',\n",
              "       'medical_baseline', 'sisproto_baseline', 'heart_acc', 'foetal_move',\n",
              "       'utherine_contract', 'pct_short_variability', 'mean_short_variability',\n",
              "       'pct_long_variability', 'mean_long_variability', 'light_dec',\n",
              "       'severe_dec', 'prolongued_dec', 'repetitive_dec', 'width', 'min', 'max',\n",
              "       'nmax', 'nzeros', 'mode', 'mean', 'median', 'variance', 'tendency',\n",
              "       'calm_sleep', 'rem_sleep', 'calm_vigilance', 'active_vigilance', 'e',\n",
              "       'acc_pattern_stress', 'dec_pattern_vagal', 'largely_dec',\n",
              "       'patho_flat_sinusoidal', 'suspect', 'class', 'nsp'],\n",
              "      dtype='object')"
            ]
          },
          "metadata": {},
          "execution_count": 55
        }
      ],
      "source": [
        "raw_df.rename(columns=col_names, inplace=True)\n",
        "raw_df.columns = raw_df.columns.str.lower()\n",
        "raw_df.columns"
      ]
    },
    {
      "cell_type": "markdown",
      "metadata": {
        "id": "cQXwdguZjTCO"
      },
      "source": [
        "Otteniamo quindi un dataset con le colonne ben formattate"
      ]
    },
    {
      "cell_type": "code",
      "execution_count": 56,
      "metadata": {
        "colab": {
          "base_uri": "https://localhost:8080/",
          "height": 299
        },
        "id": "6CEbh2hNjTCO",
        "outputId": "59a0d0c6-7bdd-4d15-b399-47776da8a866"
      },
      "outputs": [
        {
          "output_type": "execute_result",
          "data": {
            "text/plain": [
              "      file_name      date     seg_file  start_instant  end_instant  \\\n",
              "0  Variab10.txt  01/12/96  CTG0001.txt          240.0        357.0   \n",
              "1    Fmcs_1.txt  03/05/96  CTG0002.txt            5.0        632.0   \n",
              "2    Fmcs_1.txt  03/05/96  CTG0003.txt          177.0        779.0   \n",
              "3    Fmcs_1.txt  03/05/96  CTG0004.txt          411.0       1192.0   \n",
              "4    Fmcs_1.txt  03/05/96  CTG0005.txt          533.0       1147.0   \n",
              "\n",
              "   medical_baseline  sisproto_baseline  heart_acc  foetal_move  \\\n",
              "0             120.0              120.0        0.0          0.0   \n",
              "1             132.0              132.0        4.0          0.0   \n",
              "2             133.0              133.0        2.0          0.0   \n",
              "3             134.0              134.0        2.0          0.0   \n",
              "4             132.0              132.0        4.0          0.0   \n",
              "\n",
              "   utherine_contract  ...  calm_vigilance  active_vigilance  e  \\\n",
              "0                0.0  ...           False             False  0   \n",
              "1                4.0  ...           False             False  0   \n",
              "2                5.0  ...           False             False  0   \n",
              "3                6.0  ...           False             False  0   \n",
              "4                5.0  ...           False             False  0   \n",
              "\n",
              "   acc_pattern_stress  dec_pattern_vagal  largely_dec  patho_flat_sinusoidal  \\\n",
              "0               False              False        False                   True   \n",
              "1                True              False        False                  False   \n",
              "2                True              False        False                  False   \n",
              "3                True              False        False                  False   \n",
              "4               False              False        False                  False   \n",
              "\n",
              "   suspect  class  nsp  \n",
              "0    False      9    2  \n",
              "1    False      6    1  \n",
              "2    False      6    1  \n",
              "3    False      6    1  \n",
              "4    False      2    1  \n",
              "\n",
              "[5 rows x 40 columns]"
            ],
            "text/html": [
              "\n",
              "  <div id=\"df-76c7aef9-cc94-4e63-958e-2104663e14ea\">\n",
              "    <div class=\"colab-df-container\">\n",
              "      <div>\n",
              "<style scoped>\n",
              "    .dataframe tbody tr th:only-of-type {\n",
              "        vertical-align: middle;\n",
              "    }\n",
              "\n",
              "    .dataframe tbody tr th {\n",
              "        vertical-align: top;\n",
              "    }\n",
              "\n",
              "    .dataframe thead th {\n",
              "        text-align: right;\n",
              "    }\n",
              "</style>\n",
              "<table border=\"1\" class=\"dataframe\">\n",
              "  <thead>\n",
              "    <tr style=\"text-align: right;\">\n",
              "      <th></th>\n",
              "      <th>file_name</th>\n",
              "      <th>date</th>\n",
              "      <th>seg_file</th>\n",
              "      <th>start_instant</th>\n",
              "      <th>end_instant</th>\n",
              "      <th>medical_baseline</th>\n",
              "      <th>sisproto_baseline</th>\n",
              "      <th>heart_acc</th>\n",
              "      <th>foetal_move</th>\n",
              "      <th>utherine_contract</th>\n",
              "      <th>...</th>\n",
              "      <th>calm_vigilance</th>\n",
              "      <th>active_vigilance</th>\n",
              "      <th>e</th>\n",
              "      <th>acc_pattern_stress</th>\n",
              "      <th>dec_pattern_vagal</th>\n",
              "      <th>largely_dec</th>\n",
              "      <th>patho_flat_sinusoidal</th>\n",
              "      <th>suspect</th>\n",
              "      <th>class</th>\n",
              "      <th>nsp</th>\n",
              "    </tr>\n",
              "  </thead>\n",
              "  <tbody>\n",
              "    <tr>\n",
              "      <th>0</th>\n",
              "      <td>Variab10.txt</td>\n",
              "      <td>01/12/96</td>\n",
              "      <td>CTG0001.txt</td>\n",
              "      <td>240.0</td>\n",
              "      <td>357.0</td>\n",
              "      <td>120.0</td>\n",
              "      <td>120.0</td>\n",
              "      <td>0.0</td>\n",
              "      <td>0.0</td>\n",
              "      <td>0.0</td>\n",
              "      <td>...</td>\n",
              "      <td>False</td>\n",
              "      <td>False</td>\n",
              "      <td>0</td>\n",
              "      <td>False</td>\n",
              "      <td>False</td>\n",
              "      <td>False</td>\n",
              "      <td>True</td>\n",
              "      <td>False</td>\n",
              "      <td>9</td>\n",
              "      <td>2</td>\n",
              "    </tr>\n",
              "    <tr>\n",
              "      <th>1</th>\n",
              "      <td>Fmcs_1.txt</td>\n",
              "      <td>03/05/96</td>\n",
              "      <td>CTG0002.txt</td>\n",
              "      <td>5.0</td>\n",
              "      <td>632.0</td>\n",
              "      <td>132.0</td>\n",
              "      <td>132.0</td>\n",
              "      <td>4.0</td>\n",
              "      <td>0.0</td>\n",
              "      <td>4.0</td>\n",
              "      <td>...</td>\n",
              "      <td>False</td>\n",
              "      <td>False</td>\n",
              "      <td>0</td>\n",
              "      <td>True</td>\n",
              "      <td>False</td>\n",
              "      <td>False</td>\n",
              "      <td>False</td>\n",
              "      <td>False</td>\n",
              "      <td>6</td>\n",
              "      <td>1</td>\n",
              "    </tr>\n",
              "    <tr>\n",
              "      <th>2</th>\n",
              "      <td>Fmcs_1.txt</td>\n",
              "      <td>03/05/96</td>\n",
              "      <td>CTG0003.txt</td>\n",
              "      <td>177.0</td>\n",
              "      <td>779.0</td>\n",
              "      <td>133.0</td>\n",
              "      <td>133.0</td>\n",
              "      <td>2.0</td>\n",
              "      <td>0.0</td>\n",
              "      <td>5.0</td>\n",
              "      <td>...</td>\n",
              "      <td>False</td>\n",
              "      <td>False</td>\n",
              "      <td>0</td>\n",
              "      <td>True</td>\n",
              "      <td>False</td>\n",
              "      <td>False</td>\n",
              "      <td>False</td>\n",
              "      <td>False</td>\n",
              "      <td>6</td>\n",
              "      <td>1</td>\n",
              "    </tr>\n",
              "    <tr>\n",
              "      <th>3</th>\n",
              "      <td>Fmcs_1.txt</td>\n",
              "      <td>03/05/96</td>\n",
              "      <td>CTG0004.txt</td>\n",
              "      <td>411.0</td>\n",
              "      <td>1192.0</td>\n",
              "      <td>134.0</td>\n",
              "      <td>134.0</td>\n",
              "      <td>2.0</td>\n",
              "      <td>0.0</td>\n",
              "      <td>6.0</td>\n",
              "      <td>...</td>\n",
              "      <td>False</td>\n",
              "      <td>False</td>\n",
              "      <td>0</td>\n",
              "      <td>True</td>\n",
              "      <td>False</td>\n",
              "      <td>False</td>\n",
              "      <td>False</td>\n",
              "      <td>False</td>\n",
              "      <td>6</td>\n",
              "      <td>1</td>\n",
              "    </tr>\n",
              "    <tr>\n",
              "      <th>4</th>\n",
              "      <td>Fmcs_1.txt</td>\n",
              "      <td>03/05/96</td>\n",
              "      <td>CTG0005.txt</td>\n",
              "      <td>533.0</td>\n",
              "      <td>1147.0</td>\n",
              "      <td>132.0</td>\n",
              "      <td>132.0</td>\n",
              "      <td>4.0</td>\n",
              "      <td>0.0</td>\n",
              "      <td>5.0</td>\n",
              "      <td>...</td>\n",
              "      <td>False</td>\n",
              "      <td>False</td>\n",
              "      <td>0</td>\n",
              "      <td>False</td>\n",
              "      <td>False</td>\n",
              "      <td>False</td>\n",
              "      <td>False</td>\n",
              "      <td>False</td>\n",
              "      <td>2</td>\n",
              "      <td>1</td>\n",
              "    </tr>\n",
              "  </tbody>\n",
              "</table>\n",
              "<p>5 rows × 40 columns</p>\n",
              "</div>\n",
              "      <button class=\"colab-df-convert\" onclick=\"convertToInteractive('df-76c7aef9-cc94-4e63-958e-2104663e14ea')\"\n",
              "              title=\"Convert this dataframe to an interactive table.\"\n",
              "              style=\"display:none;\">\n",
              "        \n",
              "  <svg xmlns=\"http://www.w3.org/2000/svg\" height=\"24px\"viewBox=\"0 0 24 24\"\n",
              "       width=\"24px\">\n",
              "    <path d=\"M0 0h24v24H0V0z\" fill=\"none\"/>\n",
              "    <path d=\"M18.56 5.44l.94 2.06.94-2.06 2.06-.94-2.06-.94-.94-2.06-.94 2.06-2.06.94zm-11 1L8.5 8.5l.94-2.06 2.06-.94-2.06-.94L8.5 2.5l-.94 2.06-2.06.94zm10 10l.94 2.06.94-2.06 2.06-.94-2.06-.94-.94-2.06-.94 2.06-2.06.94z\"/><path d=\"M17.41 7.96l-1.37-1.37c-.4-.4-.92-.59-1.43-.59-.52 0-1.04.2-1.43.59L10.3 9.45l-7.72 7.72c-.78.78-.78 2.05 0 2.83L4 21.41c.39.39.9.59 1.41.59.51 0 1.02-.2 1.41-.59l7.78-7.78 2.81-2.81c.8-.78.8-2.07 0-2.86zM5.41 20L4 18.59l7.72-7.72 1.47 1.35L5.41 20z\"/>\n",
              "  </svg>\n",
              "      </button>\n",
              "      \n",
              "  <style>\n",
              "    .colab-df-container {\n",
              "      display:flex;\n",
              "      flex-wrap:wrap;\n",
              "      gap: 12px;\n",
              "    }\n",
              "\n",
              "    .colab-df-convert {\n",
              "      background-color: #E8F0FE;\n",
              "      border: none;\n",
              "      border-radius: 50%;\n",
              "      cursor: pointer;\n",
              "      display: none;\n",
              "      fill: #1967D2;\n",
              "      height: 32px;\n",
              "      padding: 0 0 0 0;\n",
              "      width: 32px;\n",
              "    }\n",
              "\n",
              "    .colab-df-convert:hover {\n",
              "      background-color: #E2EBFA;\n",
              "      box-shadow: 0px 1px 2px rgba(60, 64, 67, 0.3), 0px 1px 3px 1px rgba(60, 64, 67, 0.15);\n",
              "      fill: #174EA6;\n",
              "    }\n",
              "\n",
              "    [theme=dark] .colab-df-convert {\n",
              "      background-color: #3B4455;\n",
              "      fill: #D2E3FC;\n",
              "    }\n",
              "\n",
              "    [theme=dark] .colab-df-convert:hover {\n",
              "      background-color: #434B5C;\n",
              "      box-shadow: 0px 1px 3px 1px rgba(0, 0, 0, 0.15);\n",
              "      filter: drop-shadow(0px 1px 2px rgba(0, 0, 0, 0.3));\n",
              "      fill: #FFFFFF;\n",
              "    }\n",
              "  </style>\n",
              "\n",
              "      <script>\n",
              "        const buttonEl =\n",
              "          document.querySelector('#df-76c7aef9-cc94-4e63-958e-2104663e14ea button.colab-df-convert');\n",
              "        buttonEl.style.display =\n",
              "          google.colab.kernel.accessAllowed ? 'block' : 'none';\n",
              "\n",
              "        async function convertToInteractive(key) {\n",
              "          const element = document.querySelector('#df-76c7aef9-cc94-4e63-958e-2104663e14ea');\n",
              "          const dataTable =\n",
              "            await google.colab.kernel.invokeFunction('convertToInteractive',\n",
              "                                                     [key], {});\n",
              "          if (!dataTable) return;\n",
              "\n",
              "          const docLinkHtml = 'Like what you see? Visit the ' +\n",
              "            '<a target=\"_blank\" href=https://colab.research.google.com/notebooks/data_table.ipynb>data table notebook</a>'\n",
              "            + ' to learn more about interactive tables.';\n",
              "          element.innerHTML = '';\n",
              "          dataTable['output_type'] = 'display_data';\n",
              "          await google.colab.output.renderOutput(dataTable, element);\n",
              "          const docLink = document.createElement('div');\n",
              "          docLink.innerHTML = docLinkHtml;\n",
              "          element.appendChild(docLink);\n",
              "        }\n",
              "      </script>\n",
              "    </div>\n",
              "  </div>\n",
              "  "
            ]
          },
          "metadata": {},
          "execution_count": 56
        }
      ],
      "source": [
        "raw_df.head(5)"
      ]
    },
    {
      "cell_type": "markdown",
      "metadata": {
        "id": "Bq-9P0ssjTCO"
      },
      "source": [
        "Ai fini dello scopo di questo progetto, le colonne `file_name`, `seg_file` e `date` non risultano particolarmente utili per la creazione di modelli predittivi. Inoltre, la variabile `class` indica quale tra le variabili booleane è attiva. Infine, rimuoviamo `sisproto_baseline` in quanto risulta, per ogni record, uguale a `medical_baseline."
      ]
    },
    {
      "cell_type": "code",
      "execution_count": 57,
      "metadata": {
        "id": "tt9kn7RDjTCP"
      },
      "outputs": [],
      "source": [
        "df = raw_df.drop(columns=['file_name', 'date', 'seg_file', 'class', 'sisproto_baseline'])"
      ]
    },
    {
      "cell_type": "markdown",
      "metadata": {
        "id": "Ke4wUPkmjTCP"
      },
      "source": [
        "Il dataset è ora utilizzabile per procedere con l'analisi esplorativa."
      ]
    },
    {
      "cell_type": "markdown",
      "metadata": {
        "id": "c6cB5pqrjTCP"
      },
      "source": [
        "## Analisi Esplorativa"
      ]
    },
    {
      "cell_type": "markdown",
      "metadata": {
        "id": "FuO5DrwGjTCP"
      },
      "source": [
        "Possiamo rapidamente vedere quali variabili del dataset hanno correlazione maggiore, per poter poi comprendere come effettivamente alcuni valori possano influenzare altri. Utilizziamo quindi l'indice di correlazione di Pearson."
      ]
    },
    {
      "cell_type": "code",
      "execution_count": 58,
      "metadata": {
        "colab": {
          "base_uri": "https://localhost:8080/",
          "height": 780
        },
        "id": "hblxW-VrjTCP",
        "outputId": "48908a19-ba46-45e3-ea90-09c11c9faf54"
      },
      "outputs": [
        {
          "output_type": "stream",
          "name": "stderr",
          "text": [
            "<ipython-input-58-e90dc83d269b>:1: FutureWarning: The default value of numeric_only in DataFrame.corr is deprecated. In a future version, it will default to False. Select only valid columns or specify the value of numeric_only to silence this warning.\n",
            "  corr_matrix = df.drop(columns=['min', 'mean', 'max','nmax', 'mode', 'median']) \\\n"
          ]
        },
        {
          "output_type": "execute_result",
          "data": {
            "text/plain": [
              "Text(0.5, 1.0, 'Correlation Matrix Heatmap')"
            ]
          },
          "metadata": {},
          "execution_count": 58
        },
        {
          "output_type": "display_data",
          "data": {
            "text/plain": [
              "<Figure size 800x600 with 2 Axes>"
            ],
            "image/png": "[encoded data removed]"
          },
          "metadata": {}
        }
      ],
      "source": [
        "corr_matrix = df.drop(columns=['min', 'mean', 'max','nmax', 'mode', 'median']) \\\n",
        "    .corr(method=\"pearson\")\n",
        "\n",
        "plt.figure(figsize=(8, 6))\n",
        "sns.heatmap(corr_matrix, cmap=\"coolwarm\")\n",
        "plt.title(\"Correlation Matrix Heatmap\")"
      ]
    },
    {
      "cell_type": "markdown",
      "metadata": {
        "id": "RQStGVBMjTCP"
      },
      "source": [
        "La *heatmap* mostra come alcune variabili vengano influenzate tra di loro (correlazione). \n",
        "È importante notare come la correlazione non implichi sempre relazioni di causa-effetto, ma piusttosto come due variabili possano verificarsi insieme o influenzarsi reciprocamente. \n",
        "\n",
        "\n",
        "**largely_dec** e **prolongued_dec**: correlazione di 0.7578\n",
        "Notiamo una relazione positiva tra la diminuzione significativa (largely_dec) e la diminuzione prolungata (prolongued_dec). Questa relazione può essere di particolare interesse nella valutazione della salute fetale, poiché una diminuzione significativa prolungata potrebbe essere associata a condizioni di stress o anomalie nel tracciato cardiografico.\n",
        "\n",
        "**width** e **mean_short_variability**: correlazione di 0.6608\n",
        "Questa correlazione moderatamente alta suggerisce una relazione positiva tra la larghezza (width) e la variabilità media a breve termine (mean_short_variability). Ciò potrebbe essere interessante da un punto di vista clinico, poiché un aumento della larghezza potrebbe essere associato a una maggiore variabilità nelle misurazioni cardiografiche a breve termine.\n",
        "\n",
        "**variance** e **mean_short_variability**: correlazione di 0.5559\n",
        "Questa correlazione moderata indica una relazione positiva tra la varianza (variance) e la variabilità media a breve termine (mean_short_variability). Ciò suggerisce che un aumento della varianza potrebbe essere associato a un aumento della variabilità nelle misurazioni cardiografiche a breve termine."
      ]
    },
    {
      "cell_type": "code",
      "execution_count": 59,
      "metadata": {
        "colab": {
          "base_uri": "https://localhost:8080/",
          "height": 235
        },
        "id": "13nm4V2M2OVN",
        "outputId": "cfc2193c-951c-4148-dc07-4e901ff26421"
      },
      "outputs": [
        {
          "output_type": "execute_result",
          "data": {
            "text/plain": [
              "    start_instant                                                              \\\n",
              "            count        mean         std  min    25%    50%      75%     max   \n",
              "nsp                                                                             \n",
              "1          1655.0  952.833862  915.016663  0.0  112.0  651.0  1644.00  3296.0   \n",
              "2           295.0  481.959320  656.533997  0.0   10.0  233.0   610.50  3073.0   \n",
              "3           176.0  843.437500  866.536255  0.0  110.0  494.0  1547.75  3037.0   \n",
              "\n",
              "    end_instant               ... variance              e                      \\\n",
              "          count         mean  ...      75%    max   count      mean       std   \n",
              "nsp                           ...                                               \n",
              "1        1655.0  1781.982422  ...     24.0  177.0  1655.0  0.001813  0.042550   \n",
              "2         295.0  1299.369507  ...      4.0  116.0   295.0  0.233898  0.424028   \n",
              "3         176.0  1635.352295  ...     80.0  269.0   176.0  0.000000  0.000000   \n",
              "\n",
              "                              \n",
              "     min  25%  50%  75%  max  \n",
              "nsp                           \n",
              "1    0.0  0.0  0.0  0.0  1.0  \n",
              "2    0.0  0.0  0.0  0.0  1.0  \n",
              "3    0.0  0.0  0.0  0.0  0.0  \n",
              "\n",
              "[3 rows x 192 columns]"
            ],
            "text/html": [
              "\n",
              "  <div id=\"df-3df69e34-cc0b-4975-882b-93a3cff67b30\">\n",
              "    <div class=\"colab-df-container\">\n",
              "      <div>\n",
              "<style scoped>\n",
              "    .dataframe tbody tr th:only-of-type {\n",
              "        vertical-align: middle;\n",
              "    }\n",
              "\n",
              "    .dataframe tbody tr th {\n",
              "        vertical-align: top;\n",
              "    }\n",
              "\n",
              "    .dataframe thead tr th {\n",
              "        text-align: left;\n",
              "    }\n",
              "\n",
              "    .dataframe thead tr:last-of-type th {\n",
              "        text-align: right;\n",
              "    }\n",
              "</style>\n",
              "<table border=\"1\" class=\"dataframe\">\n",
              "  <thead>\n",
              "    <tr>\n",
              "      <th></th>\n",
              "      <th colspan=\"8\" halign=\"left\">start_instant</th>\n",
              "      <th colspan=\"2\" halign=\"left\">end_instant</th>\n",
              "      <th>...</th>\n",
              "      <th colspan=\"2\" halign=\"left\">variance</th>\n",
              "      <th colspan=\"8\" halign=\"left\">e</th>\n",
              "    </tr>\n",
              "    <tr>\n",
              "      <th></th>\n",
              "      <th>count</th>\n",
              "      <th>mean</th>\n",
              "      <th>std</th>\n",
              "      <th>min</th>\n",
              "      <th>25%</th>\n",
              "      <th>50%</th>\n",
              "      <th>75%</th>\n",
              "      <th>max</th>\n",
              "      <th>count</th>\n",
              "      <th>mean</th>\n",
              "      <th>...</th>\n",
              "      <th>75%</th>\n",
              "      <th>max</th>\n",
              "      <th>count</th>\n",
              "      <th>mean</th>\n",
              "      <th>std</th>\n",
              "      <th>min</th>\n",
              "      <th>25%</th>\n",
              "      <th>50%</th>\n",
              "      <th>75%</th>\n",
              "      <th>max</th>\n",
              "    </tr>\n",
              "    <tr>\n",
              "      <th>nsp</th>\n",
              "      <th></th>\n",
              "      <th></th>\n",
              "      <th></th>\n",
              "      <th></th>\n",
              "      <th></th>\n",
              "      <th></th>\n",
              "      <th></th>\n",
              "      <th></th>\n",
              "      <th></th>\n",
              "      <th></th>\n",
              "      <th></th>\n",
              "      <th></th>\n",
              "      <th></th>\n",
              "      <th></th>\n",
              "      <th></th>\n",
              "      <th></th>\n",
              "      <th></th>\n",
              "      <th></th>\n",
              "      <th></th>\n",
              "      <th></th>\n",
              "      <th></th>\n",
              "    </tr>\n",
              "  </thead>\n",
              "  <tbody>\n",
              "    <tr>\n",
              "      <th>1</th>\n",
              "      <td>1655.0</td>\n",
              "      <td>952.833862</td>\n",
              "      <td>915.016663</td>\n",
              "      <td>0.0</td>\n",
              "      <td>112.0</td>\n",
              "      <td>651.0</td>\n",
              "      <td>1644.00</td>\n",
              "      <td>3296.0</td>\n",
              "      <td>1655.0</td>\n",
              "      <td>1781.982422</td>\n",
              "      <td>...</td>\n",
              "      <td>24.0</td>\n",
              "      <td>177.0</td>\n",
              "      <td>1655.0</td>\n",
              "      <td>0.001813</td>\n",
              "      <td>0.042550</td>\n",
              "      <td>0.0</td>\n",
              "      <td>0.0</td>\n",
              "      <td>0.0</td>\n",
              "      <td>0.0</td>\n",
              "      <td>1.0</td>\n",
              "    </tr>\n",
              "    <tr>\n",
              "      <th>2</th>\n",
              "      <td>295.0</td>\n",
              "      <td>481.959320</td>\n",
              "      <td>656.533997</td>\n",
              "      <td>0.0</td>\n",
              "      <td>10.0</td>\n",
              "      <td>233.0</td>\n",
              "      <td>610.50</td>\n",
              "      <td>3073.0</td>\n",
              "      <td>295.0</td>\n",
              "      <td>1299.369507</td>\n",
              "      <td>...</td>\n",
              "      <td>4.0</td>\n",
              "      <td>116.0</td>\n",
              "      <td>295.0</td>\n",
              "      <td>0.233898</td>\n",
              "      <td>0.424028</td>\n",
              "      <td>0.0</td>\n",
              "      <td>0.0</td>\n",
              "      <td>0.0</td>\n",
              "      <td>0.0</td>\n",
              "      <td>1.0</td>\n",
              "    </tr>\n",
              "    <tr>\n",
              "      <th>3</th>\n",
              "      <td>176.0</td>\n",
              "      <td>843.437500</td>\n",
              "      <td>866.536255</td>\n",
              "      <td>0.0</td>\n",
              "      <td>110.0</td>\n",
              "      <td>494.0</td>\n",
              "      <td>1547.75</td>\n",
              "      <td>3037.0</td>\n",
              "      <td>176.0</td>\n",
              "      <td>1635.352295</td>\n",
              "      <td>...</td>\n",
              "      <td>80.0</td>\n",
              "      <td>269.0</td>\n",
              "      <td>176.0</td>\n",
              "      <td>0.000000</td>\n",
              "      <td>0.000000</td>\n",
              "      <td>0.0</td>\n",
              "      <td>0.0</td>\n",
              "      <td>0.0</td>\n",
              "      <td>0.0</td>\n",
              "      <td>0.0</td>\n",
              "    </tr>\n",
              "  </tbody>\n",
              "</table>\n",
              "<p>3 rows × 192 columns</p>\n",
              "</div>\n",
              "      <button class=\"colab-df-convert\" onclick=\"convertToInteractive('df-3df69e34-cc0b-4975-882b-93a3cff67b30')\"\n",
              "              title=\"Convert this dataframe to an interactive table.\"\n",
              "              style=\"display:none;\">\n",
              "        \n",
              "  <svg xmlns=\"http://www.w3.org/2000/svg\" height=\"24px\"viewBox=\"0 0 24 24\"\n",
              "       width=\"24px\">\n",
              "    <path d=\"M0 0h24v24H0V0z\" fill=\"none\"/>\n",
              "    <path d=\"M18.56 5.44l.94 2.06.94-2.06 2.06-.94-2.06-.94-.94-2.06-.94 2.06-2.06.94zm-11 1L8.5 8.5l.94-2.06 2.06-.94-2.06-.94L8.5 2.5l-.94 2.06-2.06.94zm10 10l.94 2.06.94-2.06 2.06-.94-2.06-.94-.94-2.06-.94 2.06-2.06.94z\"/><path d=\"M17.41 7.96l-1.37-1.37c-.4-.4-.92-.59-1.43-.59-.52 0-1.04.2-1.43.59L10.3 9.45l-7.72 7.72c-.78.78-.78 2.05 0 2.83L4 21.41c.39.39.9.59 1.41.59.51 0 1.02-.2 1.41-.59l7.78-7.78 2.81-2.81c.8-.78.8-2.07 0-2.86zM5.41 20L4 18.59l7.72-7.72 1.47 1.35L5.41 20z\"/>\n",
              "  </svg>\n",
              "      </button>\n",
              "      \n",
              "  <style>\n",
              "    .colab-df-container {\n",
              "      display:flex;\n",
              "      flex-wrap:wrap;\n",
              "      gap: 12px;\n",
              "    }\n",
              "\n",
              "    .colab-df-convert {\n",
              "      background-color: #E8F0FE;\n",
              "      border: none;\n",
              "      border-radius: 50%;\n",
              "      cursor: pointer;\n",
              "      display: none;\n",
              "      fill: #1967D2;\n",
              "      height: 32px;\n",
              "      padding: 0 0 0 0;\n",
              "      width: 32px;\n",
              "    }\n",
              "\n",
              "    .colab-df-convert:hover {\n",
              "      background-color: #E2EBFA;\n",
              "      box-shadow: 0px 1px 2px rgba(60, 64, 67, 0.3), 0px 1px 3px 1px rgba(60, 64, 67, 0.15);\n",
              "      fill: #174EA6;\n",
              "    }\n",
              "\n",
              "    [theme=dark] .colab-df-convert {\n",
              "      background-color: #3B4455;\n",
              "      fill: #D2E3FC;\n",
              "    }\n",
              "\n",
              "    [theme=dark] .colab-df-convert:hover {\n",
              "      background-color: #434B5C;\n",
              "      box-shadow: 0px 1px 3px 1px rgba(0, 0, 0, 0.15);\n",
              "      filter: drop-shadow(0px 1px 2px rgba(0, 0, 0, 0.3));\n",
              "      fill: #FFFFFF;\n",
              "    }\n",
              "  </style>\n",
              "\n",
              "      <script>\n",
              "        const buttonEl =\n",
              "          document.querySelector('#df-3df69e34-cc0b-4975-882b-93a3cff67b30 button.colab-df-convert');\n",
              "        buttonEl.style.display =\n",
              "          google.colab.kernel.accessAllowed ? 'block' : 'none';\n",
              "\n",
              "        async function convertToInteractive(key) {\n",
              "          const element = document.querySelector('#df-3df69e34-cc0b-4975-882b-93a3cff67b30');\n",
              "          const dataTable =\n",
              "            await google.colab.kernel.invokeFunction('convertToInteractive',\n",
              "                                                     [key], {});\n",
              "          if (!dataTable) return;\n",
              "\n",
              "          const docLinkHtml = 'Like what you see? Visit the ' +\n",
              "            '<a target=\"_blank\" href=https://colab.research.google.com/notebooks/data_table.ipynb>data table notebook</a>'\n",
              "            + ' to learn more about interactive tables.';\n",
              "          element.innerHTML = '';\n",
              "          dataTable['output_type'] = 'display_data';\n",
              "          await google.colab.output.renderOutput(dataTable, element);\n",
              "          const docLink = document.createElement('div');\n",
              "          docLink.innerHTML = docLinkHtml;\n",
              "          element.appendChild(docLink);\n",
              "        }\n",
              "      </script>\n",
              "    </div>\n",
              "  </div>\n",
              "  "
            ]
          },
          "metadata": {},
          "execution_count": 59
        }
      ],
      "source": [
        "df.groupby('nsp').describe(include=[np.number])"
      ]
    },
    {
      "cell_type": "markdown",
      "source": [
        "La tabella fornisce una panoramica delle statistiche descrittive per la variabile \"nsp\" suddivisa nelle categorie \n",
        "1. normal\n",
        "2. suspect\n",
        "3. pathological \n",
        "\n",
        "Si osserva uno sbilanciamento significativo tra le categorie, con un numero maggiore di istanze nella categoria \"normal\". \n",
        "La categoria \"suspect\" presenta la deviazione standard più alta, pari a circa 656.53, seguita dalla categoria \"pathological\" con una deviazione standard di circa 866.54 e dalla categoria \"normal\" con una deviazione standard di circa 915.02. Ciò indica una maggiore variabilità dei valori nella categoria \"suspect\" rispetto alle altre due categorie. La presenza di valori massimi più elevati nella categoria \"normal\" suggerisce la presenza di alcuni casi estremi. Nel complesso, la tabella evidenzia la distribuzione e le caratteristiche delle categorie di risultato nel dataset."
      ],
      "metadata": {
        "id": "WM1RlcG7-Q6v"
      }
    },
    {
      "cell_type": "code",
      "execution_count": 60,
      "metadata": {
        "colab": {
          "base_uri": "https://localhost:8080/",
          "height": 562
        },
        "id": "fin8xY8sb3pN",
        "outputId": "d322a591-ab44-47cc-a479-3b858b6b5bb3"
      },
      "outputs": [
        {
          "output_type": "execute_result",
          "data": {
            "text/plain": [
              "([<matplotlib.patches.Wedge at 0x7fe62a895840>,\n",
              "  <matplotlib.patches.Wedge at 0x7fe62a8944f0>,\n",
              "  <matplotlib.patches.Wedge at 0x7fe62a896200>],\n",
              " [Text(-0.8441562311892146, 0.7052660897451555, 'normal'),\n",
              "  Text(0.6344062353380878, -0.8986260226390926, 'suspect'),\n",
              "  Text(1.0630076905865578, -0.28286860863983, 'pathological')],\n",
              " [Text(-0.4604488533759351, 0.38469059440644837, '78%'),\n",
              "  Text(0.3460397647298661, -0.4901596487122323, '14%'),\n",
              "  Text(0.5798223766835768, -0.15429196834899814, '8%')])"
            ]
          },
          "metadata": {},
          "execution_count": 60
        },
        {
          "output_type": "display_data",
          "data": {
            "text/plain": [
              "<Figure size 640x480 with 1 Axes>"
            ],
            "image/png": "[encoded data removed]"
          },
          "metadata": {}
        }
      ],
      "source": [
        "keys = ['normal', 'suspect', 'pathological']\n",
        "palette_color = sns.color_palette('pastel')\n",
        "plt.pie(df['nsp'].value_counts(), labels=keys, colors=palette_color, autopct='%.0f%%')"
      ]
    },
    {
      "cell_type": "markdown",
      "metadata": {
        "id": "hCrLas4_W7jt"
      },
      "source": [
        "Come si può notare dal grafico a torta, la variabile target \"nsp\" risulta sbilanciata. Ciò significa che il numero di istanze per le tre classi non è bilanciato.\n",
        "Per affrontare questo problema, utilizzeremo tecniche di bilanciamento delle classi al fine di ottenere una distribuzione più equilibrata tra le varie variabili."
      ]
    },
    {
      "cell_type": "markdown",
      "metadata": {
        "id": "jaNg9s-ZjTCP"
      },
      "source": [
        "Come si può notare dalla heatmap, esiste una una forte correlazione tra la variabile `width` e `mean_short_variability`, pari a:"
      ]
    },
    {
      "cell_type": "code",
      "execution_count": 61,
      "metadata": {
        "colab": {
          "base_uri": "https://localhost:8080/"
        },
        "id": "VNVvqmqejTCQ",
        "outputId": "a74a7887-eac3-4d3e-be9b-a3a70ef45c32"
      },
      "outputs": [
        {
          "output_type": "execute_result",
          "data": {
            "text/plain": [
              "0.6608467767745067"
            ]
          },
          "metadata": {},
          "execution_count": 61
        }
      ],
      "source": [
        "corr_matrix['width']['mean_short_variability']"
      ]
    },
    {
      "cell_type": "code",
      "execution_count": 62,
      "metadata": {
        "colab": {
          "base_uri": "https://localhost:8080/",
          "height": 475
        },
        "id": "48u0WI1VjTCQ",
        "outputId": "838c1a59-a3a8-4792-ee69-044af186f3a9"
      },
      "outputs": [
        {
          "output_type": "execute_result",
          "data": {
            "text/plain": [
              "<Axes: xlabel='width', ylabel='mean_short_variability'>"
            ]
          },
          "metadata": {},
          "execution_count": 62
        },
        {
          "output_type": "display_data",
          "data": {
            "text/plain": [
              "<Figure size 640x480 with 1 Axes>"
            ],
            "image/png": "[encoded data removed]"
          },
          "metadata": {}
        }
      ],
      "source": [
        "scatter_plot = sns.scatterplot(data=df, x='width', y='mean_short_variability', \\\n",
        "                               hue='nsp', palette=['#6c9a8b', '#ffc914', '#d62828'])\n",
        "\n",
        "sns.lineplot(x=[df['width'].min(), df['width'].max()], y=[0.8, 4], color='blue')"
      ]
    },
    {
      "cell_type": "markdown",
      "metadata": {
        "id": "6wtpG-rXjTCQ"
      },
      "source": [
        "Da come si può vedere in questo grafico vi è una piccola regione in cui sono condensati una grande quantità di casi **patologici**, quando si ha il *mean_short_variability* compreso tra 1.70 e 3 e la *width* compresa tra 80 e 130 circa, mentre una grande distribuzione di valori etichettati come *normali* si trovano al di sotto della linea blu, quando i valori di \"**mean_short_variability**\" sono compreso tra 0 e 2.5 mentre i valori di **\"width\"** sono compresi tra 0 e 100 circa."
      ]
    },
    {
      "cell_type": "markdown",
      "metadata": {
        "id": "StlOXHGmjTCQ"
      },
      "source": [
        "Possiamo individuare una associazione moderata tra `mean_short_variability` e `variance`, in particolare il loro indice di correlazione è pari a:"
      ]
    },
    {
      "cell_type": "code",
      "execution_count": 63,
      "metadata": {
        "colab": {
          "base_uri": "https://localhost:8080/"
        },
        "id": "ysZUEEx6jTCQ",
        "outputId": "c875c2d9-1f61-4d51-baf5-c47f0e6d3e43"
      },
      "outputs": [
        {
          "output_type": "execute_result",
          "data": {
            "text/plain": [
              "0.5558524410341099"
            ]
          },
          "metadata": {},
          "execution_count": 63
        }
      ],
      "source": [
        "corr_matrix['mean_short_variability']['variance']"
      ]
    },
    {
      "cell_type": "code",
      "execution_count": 64,
      "metadata": {
        "colab": {
          "base_uri": "https://localhost:8080/",
          "height": 475
        },
        "id": "PVrQvW6ojTCQ",
        "outputId": "92b42e47-645b-4d77-9f20-af49801246c2"
      },
      "outputs": [
        {
          "output_type": "execute_result",
          "data": {
            "text/plain": [
              "<matplotlib.patches.Rectangle at 0x7fe62a897880>"
            ]
          },
          "metadata": {},
          "execution_count": 64
        },
        {
          "output_type": "display_data",
          "data": {
            "text/plain": [
              "<Figure size 640x480 with 1 Axes>"
            ],
            "image/png": "[encoded data removed]"
          },
          "metadata": {}
        }
      ],
      "source": [
        "sns.scatterplot(data=df, x='mean_short_variability', y='variance', hue='nsp', palette=['#6c9a8b', '#ffc914', '#d62828'])\n",
        "rect = plt.Rectangle((0.5, 0), 3, 75, fill=False, color='blue')\n",
        "plt.gca().add_patch(rect)\n"
      ]
    },
    {
      "cell_type": "markdown",
      "metadata": {
        "id": "wvyfekEajTCR"
      },
      "source": [
        "Sono comuni valori di **variance** compresi tra 50 e 150 e valori di **mean_short_variability** compresi tra 1 e 3 ad indicare casi \"patologici\", mentre un'elevata concentrazione di valori etichettati come \"normale\", è racchiusa nei valori di **y** che stanno tra 0 e 75 e nei valori di **x** che oscillano tra 0.5 e 3.5 circa, come si può vedere dal grafico sovrastante la maggior parte dei valori etichettati come *normale* sono racchiusi all'interno del rettangolo blu. \n"
      ]
    },
    {
      "cell_type": "markdown",
      "metadata": {
        "id": "CdKKM3WrjTCR"
      },
      "source": [
        "È interessante notare anche l'apparente forte correlazione tra `largely_dec` e `prolongued_dec`, pari a:"
      ]
    },
    {
      "cell_type": "code",
      "execution_count": 65,
      "metadata": {
        "colab": {
          "base_uri": "https://localhost:8080/"
        },
        "id": "y0eZGsVBjTCR",
        "outputId": "edb57369-8216-402f-f867-d8217ce025f0"
      },
      "outputs": [
        {
          "output_type": "execute_result",
          "data": {
            "text/plain": [
              "0.7577662756421346"
            ]
          },
          "metadata": {},
          "execution_count": 65
        }
      ],
      "source": [
        "corr_matrix['largely_dec']['prolongued_dec']"
      ]
    },
    {
      "cell_type": "markdown",
      "metadata": {
        "id": "iOsp3IhbjTCR"
      },
      "source": [
        "Possiamo quindi effettuare un grafico per visualizzare la distribuzione dei valori (diagonale) e come si presenta l'output di `NSP` in base alla distribuzione dei due valori"
      ]
    },
    {
      "cell_type": "code",
      "execution_count": 66,
      "metadata": {
        "colab": {
          "base_uri": "https://localhost:8080/",
          "height": 527
        },
        "id": "9jdLtnl7jTCR",
        "outputId": "3da3f1a2-06ed-4e35-b008-da3a3b415af9"
      },
      "outputs": [
        {
          "output_type": "execute_result",
          "data": {
            "text/plain": [
              "<seaborn.axisgrid.PairGrid at 0x7fe5e8d14e50>"
            ]
          },
          "metadata": {},
          "execution_count": 66
        },
        {
          "output_type": "display_data",
          "data": {
            "text/plain": [
              "<Figure size 564.75x500 with 6 Axes>"
            ],
            "image/png": "[encoded data removed]"
          },
          "metadata": {}
        }
      ],
      "source": [
        "sns.pairplot(data=df, vars=['largely_dec', 'prolongued_dec'], hue='nsp',\n",
        "             palette=['#6c9a8b', '#ffc914', '#d62828'],\n",
        "             diag_kind=\"kde\", plot_kws={'alpha': 0.6, 's': 30})"
      ]
    },
    {
      "cell_type": "markdown",
      "metadata": {
        "id": "-C4PHMUzjTCR"
      },
      "source": [
        "Per quanto le variabili risultano piuttosto correlate, questo potrebbe non indicare una diretta relazione di cause-effetto tra le due variabili. In particolare, essendo entrambe misure ricavate da momenti di decelerazione, la loro forte correlazione può piuttosto indicare come queste variabili possano verificarsi durante lo stesso fenomeno.\n",
        "\n",
        "È però degno di nota come la variabile `NSP` sia sul livello di *pathological* quando la variabile booleana `largely_dec` sia impostata a 1, per ogni valore di `prolongued_dec`, mentre quando a 0, si può notare per valori superiori a 2 di `prolongued_dec` un comportamento sospetto."
      ]
    },
    {
      "cell_type": "markdown",
      "metadata": {
        "id": "OPMXMnevjTCR"
      },
      "source": [
        "## Modelli predittivi"
      ]
    },
    {
      "cell_type": "code",
      "execution_count": 67,
      "metadata": {
        "id": "YPFaXRQFjTCR"
      },
      "outputs": [],
      "source": [
        "from sklearn.model_selection import train_test_split\n",
        "from sklearn.preprocessing import StandardScaler, MinMaxScaler, OneHotEncoder\n",
        "from sklearn.metrics import mean_squared_error, r2_score\n",
        "from sklearn.pipeline import Pipeline\n",
        "from sklearn.tree import plot_tree\n",
        "from sklearn.model_selection import GridSearchCV, StratifiedKFold\n",
        "from sklearn.pipeline import Pipeline"
      ]
    },
    {
      "cell_type": "markdown",
      "metadata": {
        "id": "dcvzfUBvjgS4"
      },
      "source": [
        "Root Mean Squared Percentage Error, è una formula che ci permette di capire quanto il nostro albero di regressione è accurato, **più il valore è basso e più il nostro modello sarà ottima**, questa funzione verrà poi utilizzata nel metodo successivo per valutare il modello che abbiamo addestrato. "
      ]
    },
    {
      "cell_type": "code",
      "execution_count": 68,
      "metadata": {
        "id": "DuQGw3hbjTCR"
      },
      "outputs": [],
      "source": [
        "def rmspe(y_real, y_pred):\n",
        "    return np.sqrt(np.mean((y_pred /y_real - 1) ** 2))"
      ]
    },
    {
      "cell_type": "markdown",
      "metadata": {
        "id": "1hUgwJpojiNC"
      },
      "source": [
        "Ora che abbiamo definito RMSPE, possiamo realizzare la funzione `print_eval`, la quale ci permetterà di capire quanto il nostro modello è accurato rispetto ai dati X ed y di input. "
      ]
    },
    {
      "cell_type": "code",
      "execution_count": 69,
      "metadata": {
        "id": "JX-hFcc0jTCS"
      },
      "outputs": [],
      "source": [
        "def print_eval(X, y, model):\n",
        "    y_pred = model.predict(X)\n",
        "    print(f\"      MSE: {mean_squared_error(y, y_pred):12.4f}\")\n",
        "    print(f\"R-squared: {r2_score(y, y_pred):12.4f}\")\n",
        "    print(f\"    RMSPE: {rmspe(y, y_pred):12.4f}\")"
      ]
    },
    {
      "cell_type": "markdown",
      "metadata": {
        "id": "iXtqg9IpjTCS"
      },
      "source": [
        "Definiamo ora una nuova funzione che ci permetterà di addestrare il modello attraverso i dati passati in input:\n",
        "*  *X_train*\n",
        "*  *y_train*\n",
        "*  *X_test*\n",
        "*  *y_test*\n",
        "\n",
        "\n",
        "Una volta che il nostro modello sarà stato addestrato, andremo subito a verificare la sua correttezza tramite la funzione *print_eval*."
      ]
    },
    {
      "cell_type": "code",
      "execution_count": 70,
      "metadata": {
        "id": "rSYyLGsKjTCS"
      },
      "outputs": [],
      "source": [
        "def fit_eval_tree(model, X_train, y_train, X_test, y_test):\n",
        "    model.fit(X_train, y_train)\n",
        "    print_eval(X_test, y_test, model=model)"
      ]
    },
    {
      "cell_type": "markdown",
      "metadata": {
        "id": "P9Q8eWddjTCS"
      },
      "source": [
        "### Modelli di studio\n",
        "I modelli con la quale andremo a studiare il nostro dataset sono diversi, tra i tanti disponibili abbiamo deciso di utilizzare:\n",
        "1. *Alberi di regressione*: `RandomForestRegressor`, `DecisionTreeRegressor`, `XGBoost` e `GradientBoosting`.\n",
        "2. *Classificazione multiclasse*: `Perceptron`, `LogisticRegression`   \n",
        "\n",
        "\n",
        "La scelta di tali modelli nasce dalla struttura del nostro dataset. "
      ]
    },
    {
      "cell_type": "markdown",
      "metadata": {
        "id": "Xl9P-RoqIDkX"
      },
      "source": [
        "### Alberi di regressione"
      ]
    },
    {
      "cell_type": "markdown",
      "metadata": {
        "id": "KhSzUKaGaoip"
      },
      "source": [
        "Prima di iniziare a realizzare i diversi modelli di classificazione, partiamo con il definire una funzione, `boosting_hyperparameters`, che ci permetterà di migliorare il nostro algoritmo. All'interno di questa funzione utilizzeremo la `Grid Search`, in modo da trovare i migliori **iper parametri** da utilizzare e la `StratifiedKFold` per la gestione dei dati di training."
      ]
    },
    {
      "cell_type": "code",
      "execution_count": 71,
      "metadata": {
        "id": "42rqp8dqUnMi"
      },
      "outputs": [],
      "source": [
        "skf = StratifiedKFold(3, shuffle=True, random_state=1926)\n",
        "\n",
        "def boosting_hyperparameters(classifier, params, X_boosting, y_boosting, name):\n",
        "  grid_search = GridSearchCV(classifier, params, cv=skf, scoring='accuracy')\n",
        "  \n",
        "  grid_model = Pipeline([\n",
        "      (\"std_scaler\", StandardScaler()),\n",
        "      (\"grid_search\", grid_search)\n",
        "  ])\n",
        "\n",
        "  grid_model.fit(X_train if X_boosting is None else X_boosting,\\\n",
        "                  y_train if y_boosting is None else y_boosting)\n",
        "  #print(f\"Grid Search: {grid_search}\")\n",
        "  print(f\"             Migliori iperparametri per {name} : {grid_search.best_params_}\")\n",
        "  print(f\"Punteggio medio di cross-validation per {name} : {(grid_search.best_score_):12.4f}\\n \\n\")\n",
        "  return grid_search\n"
      ]
    },
    {
      "cell_type": "markdown",
      "metadata": {
        "id": "25fj1gdfIakU"
      },
      "source": [
        "Successivamente a ciò, possiamo iniziare a definire i valori che andremo ad utilizzare per addestrare e validare il nostro modello:\n",
        "1. *X*: E' un data frame, dove all'interno troviamo tutte le colonne, eccetto una, **nsp**\n",
        "2. *y*: E' una serie, composta dai soli valori di **nsp**\n",
        "\n",
        "Queste due variabili verranno utilizzate per generare le *variabili di training* e le *variabili di testing*. "
      ]
    },
    {
      "cell_type": "code",
      "execution_count": 72,
      "metadata": {
        "id": "sqPAlvKkjTCS"
      },
      "outputs": [],
      "source": [
        "df_dropped = df.drop(columns=[\"nsp\"])\n",
        "X = df_dropped"
      ]
    },
    {
      "cell_type": "code",
      "execution_count": 73,
      "metadata": {
        "colab": {
          "base_uri": "https://localhost:8080/",
          "height": 299
        },
        "id": "M7x_kFX6daW4",
        "outputId": "a669f712-75ae-40f2-9c9f-286c5f9c21c8"
      },
      "outputs": [
        {
          "output_type": "execute_result",
          "data": {
            "text/plain": [
              "   start_instant  end_instant  medical_baseline  heart_acc  foetal_move  \\\n",
              "0          240.0        357.0             120.0        0.0          0.0   \n",
              "1            5.0        632.0             132.0        4.0          0.0   \n",
              "2          177.0        779.0             133.0        2.0          0.0   \n",
              "3          411.0       1192.0             134.0        2.0          0.0   \n",
              "4          533.0       1147.0             132.0        4.0          0.0   \n",
              "\n",
              "   utherine_contract  pct_short_variability  mean_short_variability  \\\n",
              "0                0.0                   73.0                     0.5   \n",
              "1                4.0                   17.0                     2.1   \n",
              "2                5.0                   16.0                     2.1   \n",
              "3                6.0                   16.0                     2.4   \n",
              "4                5.0                   16.0                     2.4   \n",
              "\n",
              "   pct_long_variability  mean_long_variability  ...  calm_sleep  rem_sleep  \\\n",
              "0                  43.0                    2.4  ...       False      False   \n",
              "1                   0.0                   10.4  ...       False      False   \n",
              "2                   0.0                   13.4  ...       False      False   \n",
              "3                   0.0                   23.0  ...       False      False   \n",
              "4                   0.0                   19.9  ...       False       True   \n",
              "\n",
              "   calm_vigilance  active_vigilance  e  acc_pattern_stress  dec_pattern_vagal  \\\n",
              "0           False             False  0               False              False   \n",
              "1           False             False  0                True              False   \n",
              "2           False             False  0                True              False   \n",
              "3           False             False  0                True              False   \n",
              "4           False             False  0               False              False   \n",
              "\n",
              "   largely_dec  patho_flat_sinusoidal  suspect  \n",
              "0        False                   True    False  \n",
              "1        False                  False    False  \n",
              "2        False                  False    False  \n",
              "3        False                  False    False  \n",
              "4        False                  False    False  \n",
              "\n",
              "[5 rows x 34 columns]"
            ],
            "text/html": [
              "\n",
              "  <div id=\"df-caf89dbe-76ca-4566-9eb4-fca3a7823a72\">\n",
              "    <div class=\"colab-df-container\">\n",
              "      <div>\n",
              "<style scoped>\n",
              "    .dataframe tbody tr th:only-of-type {\n",
              "        vertical-align: middle;\n",
              "    }\n",
              "\n",
              "    .dataframe tbody tr th {\n",
              "        vertical-align: top;\n",
              "    }\n",
              "\n",
              "    .dataframe thead th {\n",
              "        text-align: right;\n",
              "    }\n",
              "</style>\n",
              "<table border=\"1\" class=\"dataframe\">\n",
              "  <thead>\n",
              "    <tr style=\"text-align: right;\">\n",
              "      <th></th>\n",
              "      <th>start_instant</th>\n",
              "      <th>end_instant</th>\n",
              "      <th>medical_baseline</th>\n",
              "      <th>heart_acc</th>\n",
              "      <th>foetal_move</th>\n",
              "      <th>utherine_contract</th>\n",
              "      <th>pct_short_variability</th>\n",
              "      <th>mean_short_variability</th>\n",
              "      <th>pct_long_variability</th>\n",
              "      <th>mean_long_variability</th>\n",
              "      <th>...</th>\n",
              "      <th>calm_sleep</th>\n",
              "      <th>rem_sleep</th>\n",
              "      <th>calm_vigilance</th>\n",
              "      <th>active_vigilance</th>\n",
              "      <th>e</th>\n",
              "      <th>acc_pattern_stress</th>\n",
              "      <th>dec_pattern_vagal</th>\n",
              "      <th>largely_dec</th>\n",
              "      <th>patho_flat_sinusoidal</th>\n",
              "      <th>suspect</th>\n",
              "    </tr>\n",
              "  </thead>\n",
              "  <tbody>\n",
              "    <tr>\n",
              "      <th>0</th>\n",
              "      <td>240.0</td>\n",
              "      <td>357.0</td>\n",
              "      <td>120.0</td>\n",
              "      <td>0.0</td>\n",
              "      <td>0.0</td>\n",
              "      <td>0.0</td>\n",
              "      <td>73.0</td>\n",
              "      <td>0.5</td>\n",
              "      <td>43.0</td>\n",
              "      <td>2.4</td>\n",
              "      <td>...</td>\n",
              "      <td>False</td>\n",
              "      <td>False</td>\n",
              "      <td>False</td>\n",
              "      <td>False</td>\n",
              "      <td>0</td>\n",
              "      <td>False</td>\n",
              "      <td>False</td>\n",
              "      <td>False</td>\n",
              "      <td>True</td>\n",
              "      <td>False</td>\n",
              "    </tr>\n",
              "    <tr>\n",
              "      <th>1</th>\n",
              "      <td>5.0</td>\n",
              "      <td>632.0</td>\n",
              "      <td>132.0</td>\n",
              "      <td>4.0</td>\n",
              "      <td>0.0</td>\n",
              "      <td>4.0</td>\n",
              "      <td>17.0</td>\n",
              "      <td>2.1</td>\n",
              "      <td>0.0</td>\n",
              "      <td>10.4</td>\n",
              "      <td>...</td>\n",
              "      <td>False</td>\n",
              "      <td>False</td>\n",
              "      <td>False</td>\n",
              "      <td>False</td>\n",
              "      <td>0</td>\n",
              "      <td>True</td>\n",
              "      <td>False</td>\n",
              "      <td>False</td>\n",
              "      <td>False</td>\n",
              "      <td>False</td>\n",
              "    </tr>\n",
              "    <tr>\n",
              "      <th>2</th>\n",
              "      <td>177.0</td>\n",
              "      <td>779.0</td>\n",
              "      <td>133.0</td>\n",
              "      <td>2.0</td>\n",
              "      <td>0.0</td>\n",
              "      <td>5.0</td>\n",
              "      <td>16.0</td>\n",
              "      <td>2.1</td>\n",
              "      <td>0.0</td>\n",
              "      <td>13.4</td>\n",
              "      <td>...</td>\n",
              "      <td>False</td>\n",
              "      <td>False</td>\n",
              "      <td>False</td>\n",
              "      <td>False</td>\n",
              "      <td>0</td>\n",
              "      <td>True</td>\n",
              "      <td>False</td>\n",
              "      <td>False</td>\n",
              "      <td>False</td>\n",
              "      <td>False</td>\n",
              "    </tr>\n",
              "    <tr>\n",
              "      <th>3</th>\n",
              "      <td>411.0</td>\n",
              "      <td>1192.0</td>\n",
              "      <td>134.0</td>\n",
              "      <td>2.0</td>\n",
              "      <td>0.0</td>\n",
              "      <td>6.0</td>\n",
              "      <td>16.0</td>\n",
              "      <td>2.4</td>\n",
              "      <td>0.0</td>\n",
              "      <td>23.0</td>\n",
              "      <td>...</td>\n",
              "      <td>False</td>\n",
              "      <td>False</td>\n",
              "      <td>False</td>\n",
              "      <td>False</td>\n",
              "      <td>0</td>\n",
              "      <td>True</td>\n",
              "      <td>False</td>\n",
              "      <td>False</td>\n",
              "      <td>False</td>\n",
              "      <td>False</td>\n",
              "    </tr>\n",
              "    <tr>\n",
              "      <th>4</th>\n",
              "      <td>533.0</td>\n",
              "      <td>1147.0</td>\n",
              "      <td>132.0</td>\n",
              "      <td>4.0</td>\n",
              "      <td>0.0</td>\n",
              "      <td>5.0</td>\n",
              "      <td>16.0</td>\n",
              "      <td>2.4</td>\n",
              "      <td>0.0</td>\n",
              "      <td>19.9</td>\n",
              "      <td>...</td>\n",
              "      <td>False</td>\n",
              "      <td>True</td>\n",
              "      <td>False</td>\n",
              "      <td>False</td>\n",
              "      <td>0</td>\n",
              "      <td>False</td>\n",
              "      <td>False</td>\n",
              "      <td>False</td>\n",
              "      <td>False</td>\n",
              "      <td>False</td>\n",
              "    </tr>\n",
              "  </tbody>\n",
              "</table>\n",
              "<p>5 rows × 34 columns</p>\n",
              "</div>\n",
              "      <button class=\"colab-df-convert\" onclick=\"convertToInteractive('df-caf89dbe-76ca-4566-9eb4-fca3a7823a72')\"\n",
              "              title=\"Convert this dataframe to an interactive table.\"\n",
              "              style=\"display:none;\">\n",
              "        \n",
              "  <svg xmlns=\"http://www.w3.org/2000/svg\" height=\"24px\"viewBox=\"0 0 24 24\"\n",
              "       width=\"24px\">\n",
              "    <path d=\"M0 0h24v24H0V0z\" fill=\"none\"/>\n",
              "    <path d=\"M18.56 5.44l.94 2.06.94-2.06 2.06-.94-2.06-.94-.94-2.06-.94 2.06-2.06.94zm-11 1L8.5 8.5l.94-2.06 2.06-.94-2.06-.94L8.5 2.5l-.94 2.06-2.06.94zm10 10l.94 2.06.94-2.06 2.06-.94-2.06-.94-.94-2.06-.94 2.06-2.06.94z\"/><path d=\"M17.41 7.96l-1.37-1.37c-.4-.4-.92-.59-1.43-.59-.52 0-1.04.2-1.43.59L10.3 9.45l-7.72 7.72c-.78.78-.78 2.05 0 2.83L4 21.41c.39.39.9.59 1.41.59.51 0 1.02-.2 1.41-.59l7.78-7.78 2.81-2.81c.8-.78.8-2.07 0-2.86zM5.41 20L4 18.59l7.72-7.72 1.47 1.35L5.41 20z\"/>\n",
              "  </svg>\n",
              "      </button>\n",
              "      \n",
              "  <style>\n",
              "    .colab-df-container {\n",
              "      display:flex;\n",
              "      flex-wrap:wrap;\n",
              "      gap: 12px;\n",
              "    }\n",
              "\n",
              "    .colab-df-convert {\n",
              "      background-color: #E8F0FE;\n",
              "      border: none;\n",
              "      border-radius: 50%;\n",
              "      cursor: pointer;\n",
              "      display: none;\n",
              "      fill: #1967D2;\n",
              "      height: 32px;\n",
              "      padding: 0 0 0 0;\n",
              "      width: 32px;\n",
              "    }\n",
              "\n",
              "    .colab-df-convert:hover {\n",
              "      background-color: #E2EBFA;\n",
              "      box-shadow: 0px 1px 2px rgba(60, 64, 67, 0.3), 0px 1px 3px 1px rgba(60, 64, 67, 0.15);\n",
              "      fill: #174EA6;\n",
              "    }\n",
              "\n",
              "    [theme=dark] .colab-df-convert {\n",
              "      background-color: #3B4455;\n",
              "      fill: #D2E3FC;\n",
              "    }\n",
              "\n",
              "    [theme=dark] .colab-df-convert:hover {\n",
              "      background-color: #434B5C;\n",
              "      box-shadow: 0px 1px 3px 1px rgba(0, 0, 0, 0.15);\n",
              "      filter: drop-shadow(0px 1px 2px rgba(0, 0, 0, 0.3));\n",
              "      fill: #FFFFFF;\n",
              "    }\n",
              "  </style>\n",
              "\n",
              "      <script>\n",
              "        const buttonEl =\n",
              "          document.querySelector('#df-caf89dbe-76ca-4566-9eb4-fca3a7823a72 button.colab-df-convert');\n",
              "        buttonEl.style.display =\n",
              "          google.colab.kernel.accessAllowed ? 'block' : 'none';\n",
              "\n",
              "        async function convertToInteractive(key) {\n",
              "          const element = document.querySelector('#df-caf89dbe-76ca-4566-9eb4-fca3a7823a72');\n",
              "          const dataTable =\n",
              "            await google.colab.kernel.invokeFunction('convertToInteractive',\n",
              "                                                     [key], {});\n",
              "          if (!dataTable) return;\n",
              "\n",
              "          const docLinkHtml = 'Like what you see? Visit the ' +\n",
              "            '<a target=\"_blank\" href=https://colab.research.google.com/notebooks/data_table.ipynb>data table notebook</a>'\n",
              "            + ' to learn more about interactive tables.';\n",
              "          element.innerHTML = '';\n",
              "          dataTable['output_type'] = 'display_data';\n",
              "          await google.colab.output.renderOutput(dataTable, element);\n",
              "          const docLink = document.createElement('div');\n",
              "          docLink.innerHTML = docLinkHtml;\n",
              "          element.appendChild(docLink);\n",
              "        }\n",
              "      </script>\n",
              "    </div>\n",
              "  </div>\n",
              "  "
            ]
          },
          "metadata": {},
          "execution_count": 73
        }
      ],
      "source": [
        "X.head(5)"
      ]
    },
    {
      "cell_type": "markdown",
      "metadata": {
        "id": "mZsq3iCKdBFC"
      },
      "source": [
        "Un'operazione preliminare che dobbiamo eseguire per lavorare su queste variabili è modificare il tipo dei valori nella variabile *y*, ponendo la tipologia del dato come **intero**, in questo modo potremo calcolare l'accuratezza del modello con le formule viste in precedenza."
      ]
    },
    {
      "cell_type": "code",
      "execution_count": 74,
      "metadata": {
        "colab": {
          "base_uri": "https://localhost:8080/"
        },
        "id": "mooSig0ljTCS",
        "outputId": "428464d4-d8fc-4f96-9712-3fecc6c3bef4"
      },
      "outputs": [
        {
          "output_type": "execute_result",
          "data": {
            "text/plain": [
              "0    2\n",
              "1    1\n",
              "2    1\n",
              "3    1\n",
              "4    1\n",
              "Name: nsp, dtype: int64"
            ]
          },
          "metadata": {},
          "execution_count": 74
        }
      ],
      "source": [
        "y = df[\"nsp\"].astype(int)\n",
        "y.head(5)"
      ]
    },
    {
      "cell_type": "markdown",
      "metadata": {
        "id": "FSxdnFTfdet7"
      },
      "source": [
        "Una volta che abbiamo definito le nostre due variabili X ed y, possiamo adoperarci della funzione `train_test_split` per suddividere i dataset X e y, in variabili di training e variabili di testing. Da notare che specifichiamo in oltre anche il parametro `stratify`=y, dal momento in cui il nostro dataset è sbilanciato, con questa funzionalità andiamo a distribuire i valori di *y* nelle variabili di training e nelle variabili di test."
      ]
    },
    {
      "cell_type": "code",
      "execution_count": 75,
      "metadata": {
        "id": "zhaQZLYdjTCT"
      },
      "outputs": [],
      "source": [
        "X_train, X_test, y_train, y_test = train_test_split(X, y, test_size=1/3, stratify=y,random_state=1926)"
      ]
    },
    {
      "cell_type": "markdown",
      "metadata": {
        "id": "fc0y5GBdIzQV"
      },
      "source": [
        "#### Random Forest"
      ]
    },
    {
      "cell_type": "markdown",
      "metadata": {
        "id": "ZB08mzl8ewDy"
      },
      "source": [
        "Il primo modello che andremo ad utilizzare per lavorare sul nostro dataset è il *Random Forest*.  "
      ]
    },
    {
      "cell_type": "code",
      "execution_count": 76,
      "metadata": {
        "id": "xfji5CUcI5Lu"
      },
      "outputs": [],
      "source": [
        "from sklearn.ensemble import RandomForestRegressor, RandomForestClassifier"
      ]
    },
    {
      "cell_type": "markdown",
      "metadata": {
        "id": "eaxpOMnRetfn"
      },
      "source": [
        "Il Random Forest che andremo ad utilizzare è **inizializzato con i seguenti iper parametri**:\n",
        "1. `max_samples`, specifica la **dimensione del subset di dati di addestramento da utilizzare** per ogni albero all'interno della Random Forest\n",
        "\n",
        "2. `max_features`,  indica il n**umero massimo di features da considerare durante la ricerca** della migliore suddivisione dei nodi all'interno di ciascun albero della foresta \n",
        "\n",
        "3. `n_estimators`, indica il **numero di alberi decisionali che verranno creati** all'interno dell'ensemble.\n",
        "\n",
        "4. `max_depth`, indica la **massima profondità consentita** per ciascun albero all'interno dell'ensemble\n",
        "\n",
        "5. `n_jobs`, specifica il **numero di processori da utilizzare** per l'addestramento e la previsione dell'ensemble, in questo caso verranno usati tutti quelli disponibili"
      ]
    },
    {
      "cell_type": "code",
      "execution_count": 77,
      "metadata": {
        "id": "nr_NrUJ9JJ5d"
      },
      "outputs": [],
      "source": [
        "rfr = RandomForestRegressor(max_samples=0.2, max_features=\"sqrt\", n_estimators=200, max_depth=None, n_jobs=-1)"
      ]
    },
    {
      "cell_type": "markdown",
      "source": [
        "Adesso che abbiamo creato il nostro albero, possiamo inizializzare una  `Pipeline`, nella quale metteremo anche uno `StandardScaler` per gestire i parametri numerici.  "
      ],
      "metadata": {
        "id": "gYRLzB6pIIRI"
      }
    },
    {
      "cell_type": "code",
      "execution_count": 78,
      "metadata": {
        "id": "SeAdRfEfkHbv"
      },
      "outputs": [],
      "source": [
        "randomforest_model = Pipeline([\n",
        "    (\"std_scaler\", StandardScaler()),\n",
        "    (\"tree\", rfr)\n",
        "])"
      ]
    },
    {
      "cell_type": "markdown",
      "metadata": {
        "id": "ImAWHX6CiRRJ"
      },
      "source": [
        "Dopo aver inizializzato il nostro *RandomForestRegressor*, passiamo quindi a addestrare e verificare l'accuratezza di questo modello. "
      ]
    },
    {
      "cell_type": "code",
      "execution_count": 79,
      "metadata": {
        "colab": {
          "base_uri": "https://localhost:8080/"
        },
        "id": "z-JM3ZSngToo",
        "outputId": "aa6e7528-6149-417e-e4f4-7c1a2039fcab"
      },
      "outputs": [
        {
          "output_type": "stream",
          "name": "stdout",
          "text": [
            "      MSE:       0.0290\n",
            "R-squared:       0.9234\n",
            "    RMSPE:       0.1142\n"
          ]
        }
      ],
      "source": [
        "fit_eval_tree(randomforest_model, X_train, y_train, X_test, y_test)"
      ]
    },
    {
      "cell_type": "markdown",
      "metadata": {
        "id": "aCvZy3WbkLkJ"
      },
      "source": [
        "Da come si può notare il modello che abbiamo ottenuto ha un errore percentuale del 11% mentre il valore di $R^2$ ha un valore di 0.91.  Controlliamo ora l'importanza di ciascuna feature all'interno dell'albero. "
      ]
    },
    {
      "cell_type": "code",
      "execution_count": 80,
      "metadata": {
        "colab": {
          "base_uri": "https://localhost:8080/"
        },
        "id": "FD7dB0pqqasf",
        "outputId": "a40859c6-3bbb-4326-c6d6-77d0e5c76a96"
      },
      "outputs": [
        {
          "output_type": "execute_result",
          "data": {
            "text/plain": [
              "largely_dec               0.123379\n",
              "pct_short_variability     0.088391\n",
              "mean                      0.083838\n",
              "patho_flat_sinusoidal     0.079832\n",
              "pct_long_variability      0.065944\n",
              "mean_short_variability    0.061863\n",
              "prolongued_dec            0.057703\n",
              "mode                      0.052703\n",
              "suspect                   0.046321\n",
              "median                    0.043506\n",
              "width                     0.030637\n",
              "variance                  0.026834\n",
              "e                         0.026409\n",
              "heart_acc                 0.024965\n",
              "mean_long_variability     0.024364\n",
              "utherine_contract         0.021945\n",
              "min                       0.021265\n",
              "calm_sleep                0.020717\n",
              "end_instant               0.017479\n",
              "medical_baseline          0.015172\n",
              "start_instant             0.012655\n",
              "max                       0.010644\n",
              "nmax                      0.009179\n",
              "foetal_move               0.008055\n",
              "rem_sleep                 0.007091\n",
              "light_dec                 0.006714\n",
              "tendency                  0.004489\n",
              "acc_pattern_stress        0.002868\n",
              "dec_pattern_vagal         0.002585\n",
              "nzeros                    0.001024\n",
              "severe_dec                0.000919\n",
              "active_vigilance          0.000437\n",
              "calm_vigilance            0.000072\n",
              "repetitive_dec            0.000000\n",
              "dtype: float64"
            ]
          },
          "metadata": {},
          "execution_count": 80
        }
      ],
      "source": [
        "pd.Series(rfr.feature_importances_, index=X.columns).sort_values(ascending=False)"
      ]
    },
    {
      "cell_type": "markdown",
      "metadata": {
        "id": "B7Ihl9dJpN4T"
      },
      "source": [
        "Dalla serie qui sopra proposta, si può notare che l'elemento più pesato tra i vari parametri, è la colonna *largely_dec*, mentre l'elemento meno pesato è quello di *repetitive_dec*. \n",
        "\n",
        "Ora che abbiamo realizzato il nostro albero, possiamo passare alla visualizzazione della sua struttura."
      ]
    },
    {
      "cell_type": "code",
      "execution_count": 81,
      "metadata": {
        "colab": {
          "base_uri": "https://localhost:8080/",
          "height": 844
        },
        "id": "xACZcMw9XGsh",
        "outputId": "82c75023-ca9a-430c-ddef-a8797e733bb3"
      },
      "outputs": [
        {
          "output_type": "execute_result",
          "data": {
            "text/plain": [
              "[Text(0.5555555555555556, 0.875, 'mean_short_variability <= -0.901\\nsquared_error = 0.395\\nsamples = 255\\nvalue = 1.304'),\n",
              " Text(0.3333333333333333, 0.625, 'calm_sleep <= 0.794\\nsquared_error = 0.365\\nsamples = 43\\nvalue = 1.935'),\n",
              " Text(0.2222222222222222, 0.375, 'patho_flat_sinusoidal <= 2.638\\nsquared_error = 0.22\\nsamples = 35\\nvalue = 2.132'),\n",
              " Text(0.1111111111111111, 0.125, '\\n  (...)  \\n'),\n",
              " Text(0.3333333333333333, 0.125, '\\n  (...)  \\n'),\n",
              " Text(0.4444444444444444, 0.375, 'squared_error = 0.0\\nsamples = 8\\nvalue = 1.0'),\n",
              " Text(0.7777777777777778, 0.625, 'largely_dec <= 2.045\\nsquared_error = 0.309\\nsamples = 212\\nvalue = 1.181'),\n",
              " Text(0.6666666666666666, 0.375, 'max <= 1.252\\nsquared_error = 0.022\\nsamples = 196\\nvalue = 1.023'),\n",
              " Text(0.5555555555555556, 0.125, '\\n  (...)  \\n'),\n",
              " Text(0.7777777777777778, 0.125, '\\n  (...)  \\n'),\n",
              " Text(0.8888888888888888, 0.375, 'squared_error = 0.0\\nsamples = 16\\nvalue = 3.0')]"
            ]
          },
          "metadata": {},
          "execution_count": 81
        },
        {
          "output_type": "display_data",
          "data": {
            "text/plain": [
              "<Figure size 1000x800 with 1 Axes>"
            ],
            "image/png": "[encoded data removed]"
          },
          "metadata": {}
        }
      ],
      "source": [
        "plt.figure(figsize=(10, 8))\n",
        "plot_tree(rfr.estimators_[0], feature_names=X_train.columns, max_depth=2, filled=True, fontsize=8)"
      ]
    },
    {
      "cell_type": "markdown",
      "metadata": {
        "id": "0zD9WC7CJtDj"
      },
      "source": [
        "#### Boosting iper parametri"
      ]
    },
    {
      "cell_type": "markdown",
      "metadata": {
        "id": "Hlbo32j6qVwb"
      },
      "source": [
        "Ora che abbiamo il nostro modello, possiamo provare a migliorarne l'efficienza attraverso un boosting dei suoi *iper parametri*. Più nello specifico andremo a testare i valori:\n",
        "* `n_estimators`\n",
        "* `max_depth`\n",
        "* `min_samples_split`\n",
        "* `min_samples_leaf`\n",
        "\n",
        "Il boosting avverrà tramite la nostra funzione **boosting_hyperparameters**, successivamente a questa operazione potremmo vedere il valore di score migliore con i migliori *iper parametri* individuati. "
      ]
    },
    {
      "cell_type": "code",
      "execution_count": 82,
      "metadata": {
        "id": "zQ8m-ENFJ453",
        "colab": {
          "base_uri": "https://localhost:8080/"
        },
        "outputId": "1dc5225e-97ca-483e-c2cb-13d68f428fb9"
      },
      "outputs": [
        {
          "output_type": "stream",
          "name": "stdout",
          "text": [
            "             Migliori iperparametri per Random Forest : {'max_depth': 5, 'min_samples_leaf': 1, 'min_samples_split': 2, 'n_estimators': 200}\n",
            "Punteggio medio di cross-validation per Random Forest :       0.9697\n",
            " \n",
            "\n"
          ]
        }
      ],
      "source": [
        "rf_params = {\n",
        "    'n_estimators': [100, 200],\n",
        "    'max_depth': [2, 3, 5],\n",
        "    'min_samples_split': [2, 5],\n",
        "    'min_samples_leaf': [1, 2]\n",
        "}\n",
        "rf = RandomForestClassifier(random_state=1926)\n",
        "gscv = boosting_hyperparameters(classifier=rf, params=rf_params, X_boosting=None, y_boosting=None, name=\"Random Forest\")"
      ]
    },
    {
      "cell_type": "markdown",
      "metadata": {
        "id": "8wFXOeRFr7Li"
      },
      "source": [
        "Possiamo notare un aumento del valore di $R^2$, siamo passati da 0.91 a 0.96.  "
      ]
    },
    {
      "cell_type": "markdown",
      "metadata": {
        "id": "DUWXaohiKpxN"
      },
      "source": [
        "### Decision Forest Classifier"
      ]
    },
    {
      "cell_type": "markdown",
      "metadata": {
        "id": "xJyCfrxxsskR"
      },
      "source": [
        "Possiamo ora passare a realizzare il nostro secondo albero, il `DecisionTreeRegressor`. "
      ]
    },
    {
      "cell_type": "code",
      "execution_count": 83,
      "metadata": {
        "id": "tAo_pEwGLpww"
      },
      "outputs": [],
      "source": [
        "from sklearn.tree import DecisionTreeRegressor, DecisionTreeClassifier"
      ]
    },
    {
      "cell_type": "markdown",
      "metadata": {
        "id": "FqvCQBQ3tRy-"
      },
      "source": [
        "Una volta che abbiamo importato la classe che ci permette di inizializzare il nostro albero, specifichiamo anche alcuni *iper parametri*:\n",
        "* `max_depth`\n",
        "* `random_state`, è utilizzato per impostare il seme iniziale del generatore di numeri casuali durante la costruzione del modello."
      ]
    },
    {
      "cell_type": "code",
      "execution_count": 84,
      "metadata": {
        "id": "BYP5jllyLvgD"
      },
      "outputs": [],
      "source": [
        "dtc = DecisionTreeRegressor(max_depth=5, random_state=1926)"
      ]
    },
    {
      "cell_type": "markdown",
      "metadata": {
        "id": "Sy7jl8F0tpBz"
      },
      "source": [
        "Adesso che abbiamo creato il nostro albero, possiamo inizializzare una  `Pipeline`, nella quale metteremo anche uno `StandardScaler` per gestire i parametri numerici.  "
      ]
    },
    {
      "cell_type": "code",
      "execution_count": 85,
      "metadata": {
        "id": "02J998Bwlv2W"
      },
      "outputs": [],
      "source": [
        "decisiontree_model = Pipeline([\n",
        "    (\"std_scaler\", StandardScaler()),\n",
        "    (\"tree\", dtc)\n",
        "])"
      ]
    },
    {
      "cell_type": "markdown",
      "metadata": {
        "id": "ly3kagdvt6xZ"
      },
      "source": [
        "Possiamo ora addestrare e valutare il modello che abbiamo creato."
      ]
    },
    {
      "cell_type": "code",
      "execution_count": 86,
      "metadata": {
        "id": "jXWpuBIzlu1h",
        "colab": {
          "base_uri": "https://localhost:8080/"
        },
        "outputId": "c77aeb81-4060-426b-fd4b-b2c8c6125130"
      },
      "outputs": [
        {
          "output_type": "stream",
          "name": "stdout",
          "text": [
            "      MSE:       0.0184\n",
            "R-squared:       0.9513\n",
            "    RMSPE:       0.0709\n"
          ]
        }
      ],
      "source": [
        "fit_eval_tree(decisiontree_model, X_train, y_train, X_test, y_test)"
      ]
    },
    {
      "cell_type": "markdown",
      "metadata": {
        "id": "Q8xUwcV4ukjz"
      },
      "source": [
        "Notiamo che il valore di $R^2$ è maggiore rispetto al valore ottenuto in precedenza dal `RandomForestRegressor`, inoltre possiamo essere soddisfatti dell'errore quadratico che otteniamo (MSE), che è pari a 0.01 .\n",
        "\n",
        "Ecco qui di seguito alcune informazioni riguardo l'albero realizzato, più nello specifico, mostriamo la profondità dell'albero e il numero di foglie che sono state generate. "
      ]
    },
    {
      "cell_type": "code",
      "execution_count": 87,
      "metadata": {
        "id": "PD5xh_KvqJ6O",
        "colab": {
          "base_uri": "https://localhost:8080/"
        },
        "outputId": "bc8ed943-46f4-406c-da9e-4d5e017e485d"
      },
      "outputs": [
        {
          "output_type": "stream",
          "name": "stdout",
          "text": [
            "Profondita albero: 5\n",
            "Numero di foglie : 8\n"
          ]
        }
      ],
      "source": [
        "print(f\"Profondita albero: {dtc.get_depth()}\")\n",
        "print(f\"Numero di foglie : {dtc.get_n_leaves()}\")"
      ]
    },
    {
      "cell_type": "markdown",
      "metadata": {
        "id": "SQj2gnk5PEgZ"
      },
      "source": [
        "Diamo ora un occhio a come i parametri sono stati pesati all'interno dell'albero. "
      ]
    },
    {
      "cell_type": "code",
      "execution_count": 88,
      "metadata": {
        "id": "WvbwBIB0O_V2",
        "colab": {
          "base_uri": "https://localhost:8080/"
        },
        "outputId": "dc6a18d0-d52f-4e28-afd9-32f5db93cfc5"
      },
      "outputs": [
        {
          "output_type": "execute_result",
          "data": {
            "text/plain": [
              "largely_dec               0.423948\n",
              "patho_flat_sinusoidal     0.288314\n",
              "suspect                   0.198957\n",
              "e                         0.080702\n",
              "prolongued_dec            0.005629\n",
              "min                       0.001901\n",
              "mean_long_variability     0.000548\n",
              "active_vigilance          0.000000\n",
              "calm_vigilance            0.000000\n",
              "mode                      0.000000\n",
              "rem_sleep                 0.000000\n",
              "calm_sleep                0.000000\n",
              "acc_pattern_stress        0.000000\n",
              "tendency                  0.000000\n",
              "variance                  0.000000\n",
              "dec_pattern_vagal         0.000000\n",
              "median                    0.000000\n",
              "mean                      0.000000\n",
              "start_instant             0.000000\n",
              "nzeros                    0.000000\n",
              "end_instant               0.000000\n",
              "max                       0.000000\n",
              "width                     0.000000\n",
              "repetitive_dec            0.000000\n",
              "severe_dec                0.000000\n",
              "light_dec                 0.000000\n",
              "pct_long_variability      0.000000\n",
              "mean_short_variability    0.000000\n",
              "pct_short_variability     0.000000\n",
              "utherine_contract         0.000000\n",
              "foetal_move               0.000000\n",
              "heart_acc                 0.000000\n",
              "medical_baseline          0.000000\n",
              "nmax                      0.000000\n",
              "dtype: float64"
            ]
          },
          "metadata": {},
          "execution_count": 88
        }
      ],
      "source": [
        "pd.Series(dtc.feature_importances_, index=X.columns).sort_values(ascending=False)"
      ]
    },
    {
      "cell_type": "markdown",
      "metadata": {
        "id": "m9r6BQaxPKna"
      },
      "source": [
        "Da come si può notare, la colonna `largely_dec` viene pesata maggiormente, mentre una grande rimanenza di variabili viene pesata come 0. Vediamo ora la struttura dell'albero costruito."
      ]
    },
    {
      "cell_type": "code",
      "execution_count": 89,
      "metadata": {
        "id": "ugG4LNH2OoWf",
        "colab": {
          "base_uri": "https://localhost:8080/",
          "height": 499
        },
        "outputId": "31abe703-2557-4445-9989-3eb2106d3311"
      },
      "outputs": [
        {
          "output_type": "display_data",
          "data": {
            "text/plain": [
              "<Figure size 1800x600 with 1 Axes>"
            ],
            "image/png": "[encoded data removed]"
          },
          "metadata": {}
        }
      ],
      "source": [
        "plt.figure(figsize=(18, 6))\n",
        "plot_tree(dtc, feature_names=X.columns, max_depth=2, filled=True, fontsize=8);"
      ]
    },
    {
      "cell_type": "markdown",
      "metadata": {
        "id": "kgK5Ex7dwEf1"
      },
      "source": [
        "#### Boosting iper parametri"
      ]
    },
    {
      "cell_type": "markdown",
      "metadata": {
        "id": "F22wBfSNwNY7"
      },
      "source": [
        "Una volta che abbiamo realizzato il nostro albero possiamo provare a migliorare lo `score`, attraverso un **boosting** dei suoi *iper parametri*, in particolare andremo a testare i parametri:\n",
        "* `max_depth`\n",
        "* `min_samples_split`\n",
        "* `min_samples_leaf`"
      ]
    },
    {
      "cell_type": "code",
      "execution_count": 90,
      "metadata": {
        "id": "cNeS_QuUNCI9",
        "colab": {
          "base_uri": "https://localhost:8080/"
        },
        "outputId": "2449df6f-4dc8-42f1-dba8-952cf2e2751d"
      },
      "outputs": [
        {
          "output_type": "stream",
          "name": "stdout",
          "text": [
            "             Migliori iperparametri per Decision Tree : {'max_depth': None, 'min_samples_leaf': 1, 'min_samples_split': 10}\n",
            "Punteggio medio di cross-validation per Decision Tree :       0.9859\n",
            " \n",
            "\n"
          ]
        }
      ],
      "source": [
        "dt_params = {\n",
        "    'max_depth': [None, 5, 10],\n",
        "    'min_samples_split': [2, 5, 10],\n",
        "    'min_samples_leaf': [1, 2, 4]\n",
        "}\n",
        "# Crea un oggetto Random Forest e un oggetto Grid Search\n",
        "dfc = DecisionTreeClassifier(random_state=1926)\n",
        "gscv = boosting_hyperparameters(classifier=dfc, params=dt_params, X_boosting=None, y_boosting=None, name=\"Decision Tree\")\n"
      ]
    },
    {
      "cell_type": "markdown",
      "metadata": {
        "id": "z9NGcLfSxVda"
      },
      "source": [
        "Con i `DecisionTreeResgressor` otteniamo come valore migliore di *score* 0.98, superiore rispetto al modello precedente. Proviamo ora ad utilizzare modelli più potenti e performanti come `XGBoost` e `CatBoost`. "
      ]
    },
    {
      "cell_type": "markdown",
      "metadata": {
        "id": "q04mtvLFN41o"
      },
      "source": [
        "### XGBoost"
      ]
    },
    {
      "cell_type": "markdown",
      "metadata": {
        "id": "lrJJfTylyY0A"
      },
      "source": [
        "Come prima cosa importiamo la classe `XGBRegressor`."
      ]
    },
    {
      "cell_type": "code",
      "execution_count": 91,
      "metadata": {
        "id": "CXaVvnnlN9r0"
      },
      "outputs": [],
      "source": [
        "from xgboost import XGBRegressor, XGBClassifier"
      ]
    },
    {
      "cell_type": "markdown",
      "metadata": {
        "id": "ggcjEjvdyiDS"
      },
      "source": [
        "Dal momento in cui `XGBoost` ancora non è in grado di supportare le variabili categoriche abbiamo l'obbligo di utilizzare solamente le variabili numeriche.  Questo potrebbe quindi essere una causa di un **peggioramento** delle performance rispetto agli altri modelli.\n",
        "\n",
        "\n",
        "Andiamo quindi a prelevare da `X` solamente le variabili *numeriche*, in questo modo non andremo generare eccezioni. "
      ]
    },
    {
      "cell_type": "code",
      "execution_count": 92,
      "metadata": {
        "id": "_Mq_qMC7tzOl"
      },
      "outputs": [],
      "source": [
        "X_xgbtrain, X_xgbtest, y_xgbtrain, y_xgbtest = train_test_split(X[num_vars_low], y, test_size=1/3, stratify=y,random_state=1926)"
      ]
    },
    {
      "cell_type": "markdown",
      "metadata": {
        "id": "rETAvplPzUTZ"
      },
      "source": [
        "Ora che abbiamo suddiviso il dataset e abbiamo creato le variabili per il *training* e il *testing*, possiamo inizializzare il modello `XGBRegressor`, impostando i seguenti *iper parametri*:\n",
        "* `objective`, specifica la funzione obiettivo da ottimizzare\n",
        "* `reg_alpha`, utilizzato per la regolarizzazione L1\n",
        "* `reg_lambda`, utilizzato per la regolarizzazione L2\n",
        "* `n_estimators`, indica il numero di sotto alberi da addestrare"
      ]
    },
    {
      "cell_type": "code",
      "execution_count": 93,
      "metadata": {
        "id": "9TsSF9wvOMmF"
      },
      "outputs": [],
      "source": [
        "xgbm = XGBRegressor(objective='reg:squarederror',reg_alpha=0.0, reg_lambda=1.0, n_estimators=200, verbose_eval=True)"
      ]
    },
    {
      "cell_type": "markdown",
      "metadata": {
        "id": "REae9l8v1NfN"
      },
      "source": [
        "Adesso che abbiamo impostato il nostro regressor, passiamo a costruire una `Pipeline`, in cui useremo uno `StandardScaler` per le variabili numeriche. "
      ]
    },
    {
      "cell_type": "code",
      "execution_count": 94,
      "metadata": {
        "id": "GJdgSreknA1N"
      },
      "outputs": [],
      "source": [
        "xgbm_model = Pipeline([\n",
        "    (\"std_scaler\", StandardScaler()),\n",
        "    (\"xgbm\", xgbm)\n",
        "])"
      ]
    },
    {
      "cell_type": "markdown",
      "metadata": {
        "id": "X4_4cM891Ln3"
      },
      "source": [
        "Addestriamo e valutiamo il nostro modello."
      ]
    },
    {
      "cell_type": "code",
      "execution_count": 95,
      "metadata": {
        "id": "H6jBS_rqm-xd",
        "colab": {
          "base_uri": "https://localhost:8080/"
        },
        "outputId": "2cbb3364-8029-42de-cc0a-77b6b7c412e2"
      },
      "outputs": [
        {
          "output_type": "stream",
          "name": "stdout",
          "text": [
            "[12:28:50] WARNING: ../src/learner.cc:767: \n",
            "Parameters: { \"verbose_eval\" } are not used.\n",
            "\n",
            "      MSE:       0.0460\n",
            "R-squared:       0.8784\n",
            "    RMSPE:       0.1477\n"
          ]
        }
      ],
      "source": [
        "fit_eval_tree(xgbm_model, X_xgbtrain, y_xgbtrain, X_xgbtest, y_xgbtest)"
      ]
    },
    {
      "cell_type": "markdown",
      "metadata": {
        "id": "X6EB9OTS1tBS"
      },
      "source": [
        "Da come si può notare dal risultato sovrastante, abbiamo un valore di $R^2$ pari a 0.87, un valore inferiore rispetto a `RandomForestRegressor` e `DecisionTreeRegressor` **senza boosting** di iper parametri. Diamo un occhio a come vengono pesati i valori. "
      ]
    },
    {
      "cell_type": "code",
      "execution_count": 96,
      "metadata": {
        "id": "oar_hlQ9PnS7",
        "colab": {
          "base_uri": "https://localhost:8080/"
        },
        "outputId": "ac34e2e0-3b4c-400c-a547-4a1047fefca7"
      },
      "outputs": [
        {
          "output_type": "execute_result",
          "data": {
            "text/plain": [
              "mean                      0.220781\n",
              "prolongued_dec            0.155105\n",
              "pct_short_variability     0.149150\n",
              "utherine_contract         0.089729\n",
              "severe_dec                0.070172\n",
              "pct_long_variability      0.067865\n",
              "mean_short_variability    0.051099\n",
              "heart_acc                 0.042989\n",
              "max                       0.030842\n",
              "mode                      0.029687\n",
              "min                       0.020239\n",
              "median                    0.017932\n",
              "nmax                      0.010811\n",
              "variance                  0.009119\n",
              "medical_baseline          0.007399\n",
              "mean_long_variability     0.006958\n",
              "foetal_move               0.006782\n",
              "end_instant               0.005085\n",
              "width                     0.004719\n",
              "start_instant             0.001962\n",
              "nzeros                    0.000864\n",
              "light_dec                 0.000710\n",
              "repetitive_dec            0.000000\n",
              "dtype: float32"
            ]
          },
          "metadata": {},
          "execution_count": 96
        }
      ],
      "source": [
        "pd.Series(xgbm.feature_importances_, index=X[num_vars_low].columns).sort_values(ascending=False)"
      ]
    },
    {
      "cell_type": "markdown",
      "metadata": {
        "id": "WE_ZEt2kQKpq"
      },
      "source": [
        "Nel caso di `XGBoost` il parametro che viene pesato maggiormente è la colonna `mean`, mentre solamente una colonna viene pesate con un valore pari a 0."
      ]
    },
    {
      "cell_type": "markdown",
      "metadata": {
        "id": "-vyNLQNE2Gsv"
      },
      "source": [
        "#### Boosting iper parametri\n",
        "Dal momento in cui che `XGBoost` ottiene valori peggiori rispetto ai modelli precedenti, proviamo a trovare il valore migliore per alcuni dei suoi *iper \n",
        "parametri*, scegliamo in particolare:\n",
        "* `n_estimators`\n",
        "* `max_depth`\n",
        "* `learning_rate`\n",
        "\n",
        "Da notare che passiamo valori specifici di `X_train` e `y_train`, dal momento in cui possiamo utilizzare solamente variabili numeriche.  "
      ]
    },
    {
      "cell_type": "code",
      "execution_count": 97,
      "metadata": {
        "id": "liYS00yOR1IS",
        "colab": {
          "base_uri": "https://localhost:8080/"
        },
        "outputId": "4ca985e4-79a1-428f-d4d4-b6f445ed6696"
      },
      "outputs": [
        {
          "output_type": "stream",
          "name": "stdout",
          "text": [
            "             Migliori iperparametri per XGBoost : {'learning_rate': 0.1, 'max_depth': 3, 'n_estimators': 300}\n",
            "Punteggio medio di cross-validation per XGBoost :       0.9499\n",
            " \n",
            "\n"
          ]
        }
      ],
      "source": [
        "xgb_model = XGBClassifier()\n",
        "y_boosting = np.subtract(y_xgbtrain, 1)\n",
        "# Define the hyperparameters grid for grid search\n",
        "params_grid = {\n",
        "    'n_estimators': [100, 200, 300],\n",
        "    'max_depth': [3, 5],\n",
        "    'learning_rate': [0.1, 0.01, 0.001]\n",
        "}\n",
        "\n",
        "gscv = boosting_hyperparameters(classifier=xgb_model, params=params_grid, X_boosting=X_xgbtrain,  y_boosting=y_boosting, name=\"XGBoost\")"
      ]
    },
    {
      "cell_type": "markdown",
      "metadata": {
        "id": "JsZlHmyE22aL"
      },
      "source": [
        "Dopo aver effettuato un **boosting**, otteniamo come valore ottimo 0.94, un valore inferiore rispetto ai modelli precedenti, ma va ricordato che **non** sono state utilizzate le variabili categoriche all'interno del dataframe. "
      ]
    },
    {
      "cell_type": "markdown",
      "metadata": {
        "id": "9dwVxMDzPY4r"
      },
      "source": [
        "### CatBoosting"
      ]
    },
    {
      "cell_type": "code",
      "execution_count": 98,
      "metadata": {
        "id": "z9qhODNZPkC1",
        "colab": {
          "base_uri": "https://localhost:8080/"
        },
        "outputId": "d92923ef-0f0b-4721-910f-19be9eb802f6"
      },
      "outputs": [
        {
          "output_type": "stream",
          "name": "stdout",
          "text": [
            "Looking in indexes: https://pypi.org/simple, https://us-python.pkg.dev/colab-wheels/public/simple/\n",
            "Collecting catboost\n",
            "  Downloading catboost-1.2-cp310-cp310-manylinux2014_x86_64.whl (98.6 MB)\n",
            "\u001b[2K     \u001b[90m━━━━━━━━━━━━━━━━━━━━━━━━━━━━━━━━━━━━━━━━\u001b[0m \u001b[32m98.6/98.6 MB\u001b[0m \u001b[31m8.8 MB/s\u001b[0m eta \u001b[36m0:00:00\u001b[0m\n",
            "\u001b[?25hRequirement already satisfied: graphviz in /usr/local/lib/python3.10/dist-packages (from catboost) (0.20.1)\n",
            "Requirement already satisfied: matplotlib in /usr/local/lib/python3.10/dist-packages (from catboost) (3.7.1)\n",
            "Requirement already satisfied: numpy>=1.16.0 in /usr/local/lib/python3.10/dist-packages (from catboost) (1.22.4)\n",
            "Requirement already satisfied: pandas>=0.24 in /usr/local/lib/python3.10/dist-packages (from catboost) (1.5.3)\n",
            "Requirement already satisfied: scipy in /usr/local/lib/python3.10/dist-packages (from catboost) (1.10.1)\n",
            "Requirement already satisfied: plotly in /usr/local/lib/python3.10/dist-packages (from catboost) (5.13.1)\n",
            "Requirement already satisfied: six in /usr/local/lib/python3.10/dist-packages (from catboost) (1.16.0)\n",
            "Requirement already satisfied: python-dateutil>=2.8.1 in /usr/local/lib/python3.10/dist-packages (from pandas>=0.24->catboost) (2.8.2)\n",
            "Requirement already satisfied: pytz>=2020.1 in /usr/local/lib/python3.10/dist-packages (from pandas>=0.24->catboost) (2022.7.1)\n",
            "Requirement already satisfied: contourpy>=1.0.1 in /usr/local/lib/python3.10/dist-packages (from matplotlib->catboost) (1.0.7)\n",
            "Requirement already satisfied: cycler>=0.10 in /usr/local/lib/python3.10/dist-packages (from matplotlib->catboost) (0.11.0)\n",
            "Requirement already satisfied: fonttools>=4.22.0 in /usr/local/lib/python3.10/dist-packages (from matplotlib->catboost) (4.39.3)\n",
            "Requirement already satisfied: kiwisolver>=1.0.1 in /usr/local/lib/python3.10/dist-packages (from matplotlib->catboost) (1.4.4)\n",
            "Requirement already satisfied: packaging>=20.0 in /usr/local/lib/python3.10/dist-packages (from matplotlib->catboost) (23.1)\n",
            "Requirement already satisfied: pillow>=6.2.0 in /usr/local/lib/python3.10/dist-packages (from matplotlib->catboost) (8.4.0)\n",
            "Requirement already satisfied: pyparsing>=2.3.1 in /usr/local/lib/python3.10/dist-packages (from matplotlib->catboost) (3.0.9)\n",
            "Requirement already satisfied: tenacity>=6.2.0 in /usr/local/lib/python3.10/dist-packages (from plotly->catboost) (8.2.2)\n",
            "Installing collected packages: catboost\n",
            "Successfully installed catboost-1.2\n"
          ]
        }
      ],
      "source": [
        "!pip install catboost"
      ]
    },
    {
      "cell_type": "markdown",
      "metadata": {
        "id": "4f-V1zLO3ifW"
      },
      "source": [
        "Come ultimo modello andiamo a testare `CatBoostRegressor`, un modello meno performante di `XGBoost` ma con l'unica differenza che *CatBoost* riesce a gestire le variabile categoriche. "
      ]
    },
    {
      "cell_type": "code",
      "execution_count": 99,
      "metadata": {
        "id": "4Vl3Aq9WPegE",
        "colab": {
          "base_uri": "https://localhost:8080/"
        },
        "outputId": "f4f1e503-6906-410c-a09e-a2435cc9f991"
      },
      "outputs": [
        {
          "output_type": "stream",
          "name": "stdout",
          "text": [
            " Le variabili categoriche all'interno del nostro modello sono: ['nsp', 'tendency']\n"
          ]
        }
      ],
      "source": [
        "from catboost import CatBoostRegressor, CatBoostClassifier\n",
        "print(f\" Le variabili categoriche all'interno del nostro modello sono: {cat_vars_low}\")"
      ]
    },
    {
      "cell_type": "markdown",
      "metadata": {
        "id": "ex29ZhyH4Bjo"
      },
      "source": [
        "Inizializziamo il modello, andando a specificare il `random_state` , inoltre specifichiamo anche quali sono le variabili categoriche, attraverso il parametro `cat_features`. "
      ]
    },
    {
      "cell_type": "code",
      "execution_count": 100,
      "metadata": {
        "id": "kMTPRsqUPilp"
      },
      "outputs": [],
      "source": [
        "catbm = CatBoostRegressor(n_estimators=1926, cat_features=['tendency'], verbose=0)"
      ]
    },
    {
      "cell_type": "markdown",
      "metadata": {
        "id": "ln875MVS8Qvu"
      },
      "source": [
        "Ora che abbiamo inizializzato la nostra classe, possiamo addestrare e successivamente validare il nostro modello."
      ]
    },
    {
      "cell_type": "code",
      "execution_count": 101,
      "metadata": {
        "id": "gbZB-dCMoBhm",
        "colab": {
          "base_uri": "https://localhost:8080/"
        },
        "outputId": "f4fd8372-e5a8-4b4f-9b1a-ce16c2932bbc"
      },
      "outputs": [
        {
          "output_type": "stream",
          "name": "stdout",
          "text": [
            "      MSE:       0.0094\n",
            "R-squared:       0.9750\n",
            "    RMSPE:       0.0655\n"
          ]
        }
      ],
      "source": [
        "fit_eval_tree(catbm, X_train, y_train, X_test, y_test)"
      ]
    },
    {
      "cell_type": "markdown",
      "metadata": {
        "id": "HqW9ezWl8kxH"
      },
      "source": [
        "Da come si può notare il nostro valore di $R^2$ tocca gia un valore di circa 0.97 senza aver eseguisto un **boosting** degli iper parametri. Guardiamo in che modo vengono pesate le features."
      ]
    },
    {
      "cell_type": "code",
      "execution_count": 102,
      "metadata": {
        "id": "c7JL3R45QahG",
        "colab": {
          "base_uri": "https://localhost:8080/"
        },
        "outputId": "90d93e50-e41b-4384-8fa2-e03140f71527"
      },
      "outputs": [
        {
          "output_type": "execute_result",
          "data": {
            "text/plain": [
              "largely_dec               44.549782\n",
              "patho_flat_sinusoidal     23.594781\n",
              "suspect                   15.588014\n",
              "e                          6.873687\n",
              "pct_long_variability       1.580149\n",
              "mean_short_variability     1.424235\n",
              "prolongued_dec             1.044341\n",
              "calm_sleep                 0.775326\n",
              "dec_pattern_vagal          0.541251\n",
              "pct_short_variability      0.426881\n",
              "end_instant                0.395927\n",
              "heart_acc                  0.385693\n",
              "max                        0.309966\n",
              "width                      0.276748\n",
              "medical_baseline           0.266367\n",
              "mean_long_variability      0.247890\n",
              "min                        0.246870\n",
              "foetal_move                0.200061\n",
              "nmax                       0.187053\n",
              "mode                       0.184107\n",
              "start_instant              0.182052\n",
              "utherine_contract          0.161118\n",
              "variance                   0.160043\n",
              "mean                       0.138972\n",
              "median                     0.117380\n",
              "light_dec                  0.072327\n",
              "nzeros                     0.030568\n",
              "acc_pattern_stress         0.019513\n",
              "rem_sleep                  0.011050\n",
              "tendency                   0.003600\n",
              "calm_vigilance             0.002168\n",
              "severe_dec                 0.002074\n",
              "active_vigilance           0.000007\n",
              "repetitive_dec             0.000000\n",
              "dtype: float64"
            ]
          },
          "metadata": {},
          "execution_count": 102
        }
      ],
      "source": [
        "pd.Series(catbm.feature_importances_, index=X.columns).sort_values(ascending=False)"
      ]
    },
    {
      "cell_type": "markdown",
      "metadata": {
        "id": "RutwuLHuQoMM"
      },
      "source": [
        "In questo caso invece, la variabile che viene maggiormente pesata è `largely_dec` come nei primi due modelli iniziali. Proviamo ad osservare la struttura dell'albero appena realizzato."
      ]
    },
    {
      "cell_type": "code",
      "execution_count": 103,
      "metadata": {
        "id": "mu-J_FHc8_Q5",
        "colab": {
          "base_uri": "https://localhost:8080/",
          "height": 796
        },
        "outputId": "7ecd8717-4a11-4002-bf11-32a58cf615f9"
      },
      "outputs": [
        {
          "output_type": "execute_result",
          "data": {
            "image/svg+xml": "<?xml version=\"1.0\" encoding=\"UTF-8\" standalone=\"no\"?>\n<!DOCTYPE svg PUBLIC \"-//W3C//DTD SVG 1.1//EN\"\n \"http://www.w3.org/Graphics/SVG/1.1/DTD/svg11.dtd\">\n<!-- Generated by graphviz version 2.43.0 (0)\n -->\n<!-- Title: %3 Pages: 1 -->\n<svg width=\"6278pt\" height=\"566pt\"\n viewBox=\"0.00 0.00 6278.00 566.00\" xmlns=\"http://www.w3.org/2000/svg\" xmlns:xlink=\"http://www.w3.org/1999/xlink\">\n<g id=\"graph0\" class=\"graph\" transform=\"scale(1 1) rotate(0) translate(4 562)\">\n<title>%3</title>\n<polygon fill=\"white\" stroke=\"transparent\" points=\"-4,4 -4,-562 6274,-562 6274,4 -4,4\"/>\n<!-- 0 -->\n<g id=\"node1\" class=\"node\">\n<title>0</title>\n<ellipse fill=\"none\" stroke=\"black\" cx=\"3432\" cy=\"-540\" rx=\"64.19\" ry=\"18\"/>\n<text text-anchor=\"middle\" x=\"3432\" y=\"-536.3\" font-family=\"Times,serif\" font-size=\"14.00\">9, value&gt;25.35</text>\n</g>\n<!-- 1 -->\n<g id=\"node2\" class=\"node\">\n<title>1</title>\n<ellipse fill=\"none\" stroke=\"black\" cx=\"2359\" cy=\"-453\" rx=\"59.59\" ry=\"18\"/>\n<text text-anchor=\"middle\" x=\"2359\" y=\"-449.3\" font-family=\"Times,serif\" font-size=\"14.00\">12, value&gt;2.5</text>\n</g>\n<!-- 0&#45;&gt;1 -->\n<g id=\"edge1\" class=\"edge\">\n<title>0&#45;&gt;1</title>\n<path fill=\"none\" stroke=\"black\" d=\"M3370.85,-534.16C3183.91,-519.35 2620.97,-474.75 2426.19,-459.32\"/>\n<polygon fill=\"black\" stroke=\"black\" points=\"2426.33,-455.82 2416.09,-458.52 2425.78,-462.8 2426.33,-455.82\"/>\n<text text-anchor=\"middle\" x=\"2968.5\" y=\"-492.8\" font-family=\"Times,serif\" font-size=\"14.00\">No</text>\n</g>\n<!-- 2 -->\n<g id=\"node3\" class=\"node\">\n<title>2</title>\n<ellipse fill=\"none\" stroke=\"black\" cx=\"3986\" cy=\"-453\" rx=\"59.59\" ry=\"18\"/>\n<text text-anchor=\"middle\" x=\"3986\" y=\"-449.3\" font-family=\"Times,serif\" font-size=\"14.00\">12, value&gt;2.5</text>\n</g>\n<!-- 0&#45;&gt;2 -->\n<g id=\"edge2\" class=\"edge\">\n<title>0&#45;&gt;2</title>\n<path fill=\"none\" stroke=\"black\" d=\"M3486.89,-530.58C3590.56,-514.67 3814.51,-480.31 3923.66,-463.56\"/>\n<polygon fill=\"black\" stroke=\"black\" points=\"3924.5,-466.98 3933.86,-462 3923.44,-460.06 3924.5,-466.98\"/>\n<text text-anchor=\"middle\" x=\"3753.5\" y=\"-492.8\" font-family=\"Times,serif\" font-size=\"14.00\">Yes</text>\n</g>\n<!-- 3 -->\n<g id=\"node4\" class=\"node\">\n<title>3</title>\n<ellipse fill=\"none\" stroke=\"black\" cx=\"1157\" cy=\"-366\" rx=\"64.19\" ry=\"18\"/>\n<text text-anchor=\"middle\" x=\"1157\" y=\"-362.3\" font-family=\"Times,serif\" font-size=\"14.00\">15, value&gt;54.5</text>\n</g>\n<!-- 1&#45;&gt;3 -->\n<g id=\"edge3\" class=\"edge\">\n<title>1&#45;&gt;3</title>\n<path fill=\"none\" stroke=\"black\" d=\"M2301.43,-447.93C2102.98,-433.9 1447.59,-387.55 1228.81,-372.08\"/>\n<polygon fill=\"black\" stroke=\"black\" points=\"1228.95,-368.58 1218.73,-371.37 1228.46,-375.56 1228.95,-368.58\"/>\n<text text-anchor=\"middle\" x=\"1838.5\" y=\"-405.8\" font-family=\"Times,serif\" font-size=\"14.00\">No</text>\n</g>\n<!-- 4 -->\n<g id=\"node5\" class=\"node\">\n<title>4</title>\n<ellipse fill=\"none\" stroke=\"black\" cx=\"2359\" cy=\"-366\" rx=\"64.19\" ry=\"18\"/>\n<text text-anchor=\"middle\" x=\"2359\" y=\"-362.3\" font-family=\"Times,serif\" font-size=\"14.00\">15, value&gt;54.5</text>\n</g>\n<!-- 1&#45;&gt;4 -->\n<g id=\"edge4\" class=\"edge\">\n<title>1&#45;&gt;4</title>\n<path fill=\"none\" stroke=\"black\" d=\"M2359,-434.8C2359,-423.16 2359,-407.55 2359,-394.24\"/>\n<polygon fill=\"black\" stroke=\"black\" points=\"2362.5,-394.18 2359,-384.18 2355.5,-394.18 2362.5,-394.18\"/>\n<text text-anchor=\"middle\" x=\"2369.5\" y=\"-405.8\" font-family=\"Times,serif\" font-size=\"14.00\">Yes</text>\n</g>\n<!-- 5 -->\n<g id=\"node6\" class=\"node\">\n<title>5</title>\n<ellipse fill=\"none\" stroke=\"black\" cx=\"3986\" cy=\"-366\" rx=\"64.19\" ry=\"18\"/>\n<text text-anchor=\"middle\" x=\"3986\" y=\"-362.3\" font-family=\"Times,serif\" font-size=\"14.00\">15, value&gt;54.5</text>\n</g>\n<!-- 2&#45;&gt;5 -->\n<g id=\"edge5\" class=\"edge\">\n<title>2&#45;&gt;5</title>\n<path fill=\"none\" stroke=\"black\" d=\"M3986,-434.8C3986,-423.16 3986,-407.55 3986,-394.24\"/>\n<polygon fill=\"black\" stroke=\"black\" points=\"3989.5,-394.18 3986,-384.18 3982.5,-394.18 3989.5,-394.18\"/>\n<text text-anchor=\"middle\" x=\"3994.5\" y=\"-405.8\" font-family=\"Times,serif\" font-size=\"14.00\">No</text>\n</g>\n<!-- 6 -->\n<g id=\"node7\" class=\"node\">\n<title>6</title>\n<ellipse fill=\"none\" stroke=\"black\" cx=\"5084\" cy=\"-366\" rx=\"64.19\" ry=\"18\"/>\n<text text-anchor=\"middle\" x=\"5084\" y=\"-362.3\" font-family=\"Times,serif\" font-size=\"14.00\">15, value&gt;54.5</text>\n</g>\n<!-- 2&#45;&gt;6 -->\n<g id=\"edge6\" class=\"edge\">\n<title>2&#45;&gt;6</title>\n<path fill=\"none\" stroke=\"black\" d=\"M4043.1,-447.58C4227.84,-433.28 4809.05,-388.28 5012.68,-372.52\"/>\n<polygon fill=\"black\" stroke=\"black\" points=\"5012.96,-376.01 5022.66,-371.75 5012.42,-369.03 5012.96,-376.01\"/>\n<text text-anchor=\"middle\" x=\"4611.5\" y=\"-405.8\" font-family=\"Times,serif\" font-size=\"14.00\">Yes</text>\n</g>\n<!-- 7 -->\n<g id=\"node8\" class=\"node\">\n<title>7</title>\n<ellipse fill=\"none\" stroke=\"black\" cx=\"580\" cy=\"-279\" rx=\"59.59\" ry=\"18\"/>\n<text text-anchor=\"middle\" x=\"580\" y=\"-275.3\" font-family=\"Times,serif\" font-size=\"14.00\">33, value&gt;0.5</text>\n</g>\n<!-- 3&#45;&gt;7 -->\n<g id=\"edge7\" class=\"edge\">\n<title>3&#45;&gt;7</title>\n<path fill=\"none\" stroke=\"black\" d=\"M1101.41,-356.81C993.39,-340.9 755.81,-305.9 642.5,-289.21\"/>\n<polygon fill=\"black\" stroke=\"black\" points=\"642.99,-285.74 632.59,-287.75 641.97,-292.67 642.99,-285.74\"/>\n<text text-anchor=\"middle\" x=\"912.5\" y=\"-318.8\" font-family=\"Times,serif\" font-size=\"14.00\">No</text>\n</g>\n<!-- 8 -->\n<g id=\"node9\" class=\"node\">\n<title>8</title>\n<ellipse fill=\"none\" stroke=\"black\" cx=\"1157\" cy=\"-279\" rx=\"59.59\" ry=\"18\"/>\n<text text-anchor=\"middle\" x=\"1157\" y=\"-275.3\" font-family=\"Times,serif\" font-size=\"14.00\">33, value&gt;0.5</text>\n</g>\n<!-- 3&#45;&gt;8 -->\n<g id=\"edge8\" class=\"edge\">\n<title>3&#45;&gt;8</title>\n<path fill=\"none\" stroke=\"black\" d=\"M1157,-347.8C1157,-336.16 1157,-320.55 1157,-307.24\"/>\n<polygon fill=\"black\" stroke=\"black\" points=\"1160.5,-307.18 1157,-297.18 1153.5,-307.18 1160.5,-307.18\"/>\n<text text-anchor=\"middle\" x=\"1167.5\" y=\"-318.8\" font-family=\"Times,serif\" font-size=\"14.00\">Yes</text>\n</g>\n<!-- 9 -->\n<g id=\"node10\" class=\"node\">\n<title>9</title>\n<ellipse fill=\"none\" stroke=\"black\" cx=\"2143\" cy=\"-279\" rx=\"59.59\" ry=\"18\"/>\n<text text-anchor=\"middle\" x=\"2143\" y=\"-275.3\" font-family=\"Times,serif\" font-size=\"14.00\">33, value&gt;0.5</text>\n</g>\n<!-- 4&#45;&gt;9 -->\n<g id=\"edge9\" class=\"edge\">\n<title>4&#45;&gt;9</title>\n<path fill=\"none\" stroke=\"black\" d=\"M2323.33,-350.96C2286.14,-336.33 2227.76,-313.35 2187.56,-297.53\"/>\n<polygon fill=\"black\" stroke=\"black\" points=\"2188.59,-294.18 2178,-293.77 2186.03,-300.69 2188.59,-294.18\"/>\n<text text-anchor=\"middle\" x=\"2272.5\" y=\"-318.8\" font-family=\"Times,serif\" font-size=\"14.00\">No</text>\n</g>\n<!-- 10 -->\n<g id=\"node11\" class=\"node\">\n<title>10</title>\n<ellipse fill=\"none\" stroke=\"black\" cx=\"2590\" cy=\"-279\" rx=\"59.59\" ry=\"18\"/>\n<text text-anchor=\"middle\" x=\"2590\" y=\"-275.3\" font-family=\"Times,serif\" font-size=\"14.00\">33, value&gt;0.5</text>\n</g>\n<!-- 4&#45;&gt;10 -->\n<g id=\"edge10\" class=\"edge\">\n<title>4&#45;&gt;10</title>\n<path fill=\"none\" stroke=\"black\" d=\"M2396.37,-351.25C2436.61,-336.44 2500.68,-312.87 2543.99,-296.93\"/>\n<polygon fill=\"black\" stroke=\"black\" points=\"2545.27,-300.19 2553.45,-293.45 2542.85,-293.62 2545.27,-300.19\"/>\n<text text-anchor=\"middle\" x=\"2499.5\" y=\"-318.8\" font-family=\"Times,serif\" font-size=\"14.00\">Yes</text>\n</g>\n<!-- 11 -->\n<g id=\"node12\" class=\"node\">\n<title>11</title>\n<ellipse fill=\"none\" stroke=\"black\" cx=\"3724\" cy=\"-279\" rx=\"59.59\" ry=\"18\"/>\n<text text-anchor=\"middle\" x=\"3724\" y=\"-275.3\" font-family=\"Times,serif\" font-size=\"14.00\">33, value&gt;0.5</text>\n</g>\n<!-- 5&#45;&gt;11 -->\n<g id=\"edge11\" class=\"edge\">\n<title>5&#45;&gt;11</title>\n<path fill=\"none\" stroke=\"black\" d=\"M3945.64,-351.91C3899.08,-336.8 3822.55,-311.97 3772.72,-295.81\"/>\n<polygon fill=\"black\" stroke=\"black\" points=\"3773.72,-292.45 3763.12,-292.69 3771.56,-299.11 3773.72,-292.45\"/>\n<text text-anchor=\"middle\" x=\"3879.5\" y=\"-318.8\" font-family=\"Times,serif\" font-size=\"14.00\">No</text>\n</g>\n<!-- 12 -->\n<g id=\"node13\" class=\"node\">\n<title>12</title>\n<ellipse fill=\"none\" stroke=\"black\" cx=\"4161\" cy=\"-279\" rx=\"59.59\" ry=\"18\"/>\n<text text-anchor=\"middle\" x=\"4161\" y=\"-275.3\" font-family=\"Times,serif\" font-size=\"14.00\">33, value&gt;0.5</text>\n</g>\n<!-- 5&#45;&gt;12 -->\n<g id=\"edge12\" class=\"edge\">\n<title>5&#45;&gt;12</title>\n<path fill=\"none\" stroke=\"black\" d=\"M4016.88,-350C4046.09,-335.81 4090.04,-314.47 4121.72,-299.08\"/>\n<polygon fill=\"black\" stroke=\"black\" points=\"4123.25,-302.23 4130.72,-294.71 4120.19,-295.93 4123.25,-302.23\"/>\n<text text-anchor=\"middle\" x=\"4094.5\" y=\"-318.8\" font-family=\"Times,serif\" font-size=\"14.00\">Yes</text>\n</g>\n<!-- 13 -->\n<g id=\"node14\" class=\"node\">\n<title>13</title>\n<ellipse fill=\"none\" stroke=\"black\" cx=\"5084\" cy=\"-279\" rx=\"59.59\" ry=\"18\"/>\n<text text-anchor=\"middle\" x=\"5084\" y=\"-275.3\" font-family=\"Times,serif\" font-size=\"14.00\">33, value&gt;0.5</text>\n</g>\n<!-- 6&#45;&gt;13 -->\n<g id=\"edge13\" class=\"edge\">\n<title>6&#45;&gt;13</title>\n<path fill=\"none\" stroke=\"black\" d=\"M5084,-347.8C5084,-336.16 5084,-320.55 5084,-307.24\"/>\n<polygon fill=\"black\" stroke=\"black\" points=\"5087.5,-307.18 5084,-297.18 5080.5,-307.18 5087.5,-307.18\"/>\n<text text-anchor=\"middle\" x=\"5092.5\" y=\"-318.8\" font-family=\"Times,serif\" font-size=\"14.00\">No</text>\n</g>\n<!-- 14 -->\n<g id=\"node15\" class=\"node\">\n<title>14</title>\n<ellipse fill=\"none\" stroke=\"black\" cx=\"5657\" cy=\"-279\" rx=\"59.59\" ry=\"18\"/>\n<text text-anchor=\"middle\" x=\"5657\" y=\"-275.3\" font-family=\"Times,serif\" font-size=\"14.00\">33, value&gt;0.5</text>\n</g>\n<!-- 6&#45;&gt;14 -->\n<g id=\"edge14\" class=\"edge\">\n<title>6&#45;&gt;14</title>\n<path fill=\"none\" stroke=\"black\" d=\"M5139.46,-356.77C5246.64,-340.87 5481.53,-306.03 5594.23,-289.31\"/>\n<polygon fill=\"black\" stroke=\"black\" points=\"5595.05,-292.73 5604.42,-287.8 5594.02,-285.8 5595.05,-292.73\"/>\n<text text-anchor=\"middle\" x=\"5415.5\" y=\"-318.8\" font-family=\"Times,serif\" font-size=\"14.00\">Yes</text>\n</g>\n<!-- 15 -->\n<g id=\"node16\" class=\"node\">\n<title>15</title>\n<ellipse fill=\"none\" stroke=\"black\" cx=\"309\" cy=\"-192\" rx=\"59.59\" ry=\"18\"/>\n<text text-anchor=\"middle\" x=\"309\" y=\"-188.3\" font-family=\"Times,serif\" font-size=\"14.00\">32, value&gt;0.5</text>\n</g>\n<!-- 7&#45;&gt;15 -->\n<g id=\"edge15\" class=\"edge\">\n<title>7&#45;&gt;15</title>\n<path fill=\"none\" stroke=\"black\" d=\"M540.01,-265.46C491.88,-250.36 411.02,-225 358.86,-208.64\"/>\n<polygon fill=\"black\" stroke=\"black\" points=\"359.74,-205.25 349.15,-205.59 357.65,-211.93 359.74,-205.25\"/>\n<text text-anchor=\"middle\" x=\"469.5\" y=\"-231.8\" font-family=\"Times,serif\" font-size=\"14.00\">No</text>\n</g>\n<!-- 16 -->\n<g id=\"node17\" class=\"node\">\n<title>16</title>\n<ellipse fill=\"none\" stroke=\"black\" cx=\"580\" cy=\"-192\" rx=\"59.59\" ry=\"18\"/>\n<text text-anchor=\"middle\" x=\"580\" y=\"-188.3\" font-family=\"Times,serif\" font-size=\"14.00\">32, value&gt;0.5</text>\n</g>\n<!-- 7&#45;&gt;16 -->\n<g id=\"edge16\" class=\"edge\">\n<title>7&#45;&gt;16</title>\n<path fill=\"none\" stroke=\"black\" d=\"M580,-260.8C580,-249.16 580,-233.55 580,-220.24\"/>\n<polygon fill=\"black\" stroke=\"black\" points=\"583.5,-220.18 580,-210.18 576.5,-220.18 583.5,-220.18\"/>\n<text text-anchor=\"middle\" x=\"590.5\" y=\"-231.8\" font-family=\"Times,serif\" font-size=\"14.00\">Yes</text>\n</g>\n<!-- 17 -->\n<g id=\"node18\" class=\"node\">\n<title>17</title>\n<ellipse fill=\"none\" stroke=\"black\" cx=\"1085\" cy=\"-192\" rx=\"59.59\" ry=\"18\"/>\n<text text-anchor=\"middle\" x=\"1085\" y=\"-188.3\" font-family=\"Times,serif\" font-size=\"14.00\">32, value&gt;0.5</text>\n</g>\n<!-- 8&#45;&gt;17 -->\n<g id=\"edge17\" class=\"edge\">\n<title>8&#45;&gt;17</title>\n<path fill=\"none\" stroke=\"black\" d=\"M1142.62,-261.29C1137.66,-255.51 1132.07,-248.98 1127,-243 1119.96,-234.7 1112.29,-225.6 1105.46,-217.46\"/>\n<polygon fill=\"black\" stroke=\"black\" points=\"1108.07,-215.12 1098.96,-209.7 1102.7,-219.61 1108.07,-215.12\"/>\n<text text-anchor=\"middle\" x=\"1135.5\" y=\"-231.8\" font-family=\"Times,serif\" font-size=\"14.00\">No</text>\n</g>\n<!-- 18 -->\n<g id=\"node19\" class=\"node\">\n<title>18</title>\n<ellipse fill=\"none\" stroke=\"black\" cx=\"1253\" cy=\"-192\" rx=\"59.59\" ry=\"18\"/>\n<text text-anchor=\"middle\" x=\"1253\" y=\"-188.3\" font-family=\"Times,serif\" font-size=\"14.00\">32, value&gt;0.5</text>\n</g>\n<!-- 8&#45;&gt;18 -->\n<g id=\"edge18\" class=\"edge\">\n<title>8&#45;&gt;18</title>\n<path fill=\"none\" stroke=\"black\" d=\"M1175.51,-261.61C1190.12,-248.68 1210.68,-230.47 1226.95,-216.07\"/>\n<polygon fill=\"black\" stroke=\"black\" points=\"1229.38,-218.59 1234.55,-209.34 1224.74,-213.35 1229.38,-218.59\"/>\n<text text-anchor=\"middle\" x=\"1221.5\" y=\"-231.8\" font-family=\"Times,serif\" font-size=\"14.00\">Yes</text>\n</g>\n<!-- 19 -->\n<g id=\"node20\" class=\"node\">\n<title>19</title>\n<ellipse fill=\"none\" stroke=\"black\" cx=\"1881\" cy=\"-192\" rx=\"59.59\" ry=\"18\"/>\n<text text-anchor=\"middle\" x=\"1881\" y=\"-188.3\" font-family=\"Times,serif\" font-size=\"14.00\">32, value&gt;0.5</text>\n</g>\n<!-- 9&#45;&gt;19 -->\n<g id=\"edge19\" class=\"edge\">\n<title>9&#45;&gt;19</title>\n<path fill=\"none\" stroke=\"black\" d=\"M2103.78,-265.27C2057.34,-250.21 1979.98,-225.11 1929.73,-208.81\"/>\n<polygon fill=\"black\" stroke=\"black\" points=\"1930.66,-205.43 1920.06,-205.67 1928.5,-212.09 1930.66,-205.43\"/>\n<text text-anchor=\"middle\" x=\"2036.5\" y=\"-231.8\" font-family=\"Times,serif\" font-size=\"14.00\">No</text>\n</g>\n<!-- 20 -->\n<g id=\"node21\" class=\"node\">\n<title>20</title>\n<ellipse fill=\"none\" stroke=\"black\" cx=\"2143\" cy=\"-192\" rx=\"59.59\" ry=\"18\"/>\n<text text-anchor=\"middle\" x=\"2143\" y=\"-188.3\" font-family=\"Times,serif\" font-size=\"14.00\">32, value&gt;0.5</text>\n</g>\n<!-- 9&#45;&gt;20 -->\n<g id=\"edge20\" class=\"edge\">\n<title>9&#45;&gt;20</title>\n<path fill=\"none\" stroke=\"black\" d=\"M2143,-260.8C2143,-249.16 2143,-233.55 2143,-220.24\"/>\n<polygon fill=\"black\" stroke=\"black\" points=\"2146.5,-220.18 2143,-210.18 2139.5,-220.18 2146.5,-220.18\"/>\n<text text-anchor=\"middle\" x=\"2153.5\" y=\"-231.8\" font-family=\"Times,serif\" font-size=\"14.00\">Yes</text>\n</g>\n<!-- 21 -->\n<g id=\"node22\" class=\"node\">\n<title>21</title>\n<ellipse fill=\"none\" stroke=\"black\" cx=\"2590\" cy=\"-192\" rx=\"59.59\" ry=\"18\"/>\n<text text-anchor=\"middle\" x=\"2590\" y=\"-188.3\" font-family=\"Times,serif\" font-size=\"14.00\">32, value&gt;0.5</text>\n</g>\n<!-- 10&#45;&gt;21 -->\n<g id=\"edge21\" class=\"edge\">\n<title>10&#45;&gt;21</title>\n<path fill=\"none\" stroke=\"black\" d=\"M2590,-260.8C2590,-249.16 2590,-233.55 2590,-220.24\"/>\n<polygon fill=\"black\" stroke=\"black\" points=\"2593.5,-220.18 2590,-210.18 2586.5,-220.18 2593.5,-220.18\"/>\n<text text-anchor=\"middle\" x=\"2598.5\" y=\"-231.8\" font-family=\"Times,serif\" font-size=\"14.00\">No</text>\n</g>\n<!-- 22 -->\n<g id=\"node23\" class=\"node\">\n<title>22</title>\n<ellipse fill=\"none\" stroke=\"black\" cx=\"2821\" cy=\"-192\" rx=\"59.59\" ry=\"18\"/>\n<text text-anchor=\"middle\" x=\"2821\" y=\"-188.3\" font-family=\"Times,serif\" font-size=\"14.00\">32, value&gt;0.5</text>\n</g>\n<!-- 10&#45;&gt;22 -->\n<g id=\"edge22\" class=\"edge\">\n<title>10&#45;&gt;22</title>\n<path fill=\"none\" stroke=\"black\" d=\"M2626.35,-264.63C2666.51,-249.85 2731.27,-226.02 2774.95,-209.94\"/>\n<polygon fill=\"black\" stroke=\"black\" points=\"2776.31,-213.18 2784.48,-206.44 2773.89,-206.61 2776.31,-213.18\"/>\n<text text-anchor=\"middle\" x=\"2730.5\" y=\"-231.8\" font-family=\"Times,serif\" font-size=\"14.00\">Yes</text>\n</g>\n<!-- 23 -->\n<g id=\"node24\" class=\"node\">\n<title>23</title>\n<ellipse fill=\"none\" stroke=\"black\" cx=\"3453\" cy=\"-192\" rx=\"59.59\" ry=\"18\"/>\n<text text-anchor=\"middle\" x=\"3453\" y=\"-188.3\" font-family=\"Times,serif\" font-size=\"14.00\">32, value&gt;0.5</text>\n</g>\n<!-- 11&#45;&gt;23 -->\n<g id=\"edge23\" class=\"edge\">\n<title>11&#45;&gt;23</title>\n<path fill=\"none\" stroke=\"black\" d=\"M3684.01,-265.46C3635.88,-250.36 3555.02,-225 3502.86,-208.64\"/>\n<polygon fill=\"black\" stroke=\"black\" points=\"3503.74,-205.25 3493.15,-205.59 3501.65,-211.93 3503.74,-205.25\"/>\n<text text-anchor=\"middle\" x=\"3613.5\" y=\"-231.8\" font-family=\"Times,serif\" font-size=\"14.00\">No</text>\n</g>\n<!-- 24 -->\n<g id=\"node25\" class=\"node\">\n<title>24</title>\n<ellipse fill=\"none\" stroke=\"black\" cx=\"3724\" cy=\"-192\" rx=\"59.59\" ry=\"18\"/>\n<text text-anchor=\"middle\" x=\"3724\" y=\"-188.3\" font-family=\"Times,serif\" font-size=\"14.00\">32, value&gt;0.5</text>\n</g>\n<!-- 11&#45;&gt;24 -->\n<g id=\"edge24\" class=\"edge\">\n<title>11&#45;&gt;24</title>\n<path fill=\"none\" stroke=\"black\" d=\"M3724,-260.8C3724,-249.16 3724,-233.55 3724,-220.24\"/>\n<polygon fill=\"black\" stroke=\"black\" points=\"3727.5,-220.18 3724,-210.18 3720.5,-220.18 3727.5,-220.18\"/>\n<text text-anchor=\"middle\" x=\"3734.5\" y=\"-231.8\" font-family=\"Times,serif\" font-size=\"14.00\">Yes</text>\n</g>\n<!-- 25 -->\n<g id=\"node26\" class=\"node\">\n<title>25</title>\n<ellipse fill=\"none\" stroke=\"black\" cx=\"4161\" cy=\"-192\" rx=\"59.59\" ry=\"18\"/>\n<text text-anchor=\"middle\" x=\"4161\" y=\"-188.3\" font-family=\"Times,serif\" font-size=\"14.00\">32, value&gt;0.5</text>\n</g>\n<!-- 12&#45;&gt;25 -->\n<g id=\"edge25\" class=\"edge\">\n<title>12&#45;&gt;25</title>\n<path fill=\"none\" stroke=\"black\" d=\"M4161,-260.8C4161,-249.16 4161,-233.55 4161,-220.24\"/>\n<polygon fill=\"black\" stroke=\"black\" points=\"4164.5,-220.18 4161,-210.18 4157.5,-220.18 4164.5,-220.18\"/>\n<text text-anchor=\"middle\" x=\"4169.5\" y=\"-231.8\" font-family=\"Times,serif\" font-size=\"14.00\">No</text>\n</g>\n<!-- 26 -->\n<g id=\"node27\" class=\"node\">\n<title>26</title>\n<ellipse fill=\"none\" stroke=\"black\" cx=\"4397\" cy=\"-192\" rx=\"59.59\" ry=\"18\"/>\n<text text-anchor=\"middle\" x=\"4397\" y=\"-188.3\" font-family=\"Times,serif\" font-size=\"14.00\">32, value&gt;0.5</text>\n</g>\n<!-- 12&#45;&gt;26 -->\n<g id=\"edge26\" class=\"edge\">\n<title>12&#45;&gt;26</title>\n<path fill=\"none\" stroke=\"black\" d=\"M4197.88,-264.72C4239.06,-249.89 4305.8,-225.85 4350.52,-209.74\"/>\n<polygon fill=\"black\" stroke=\"black\" points=\"4351.77,-213.01 4360,-206.33 4349.4,-206.42 4351.77,-213.01\"/>\n<text text-anchor=\"middle\" x=\"4304.5\" y=\"-231.8\" font-family=\"Times,serif\" font-size=\"14.00\">Yes</text>\n</g>\n<!-- 27 -->\n<g id=\"node28\" class=\"node\">\n<title>27</title>\n<ellipse fill=\"none\" stroke=\"black\" cx=\"5025\" cy=\"-192\" rx=\"59.59\" ry=\"18\"/>\n<text text-anchor=\"middle\" x=\"5025\" y=\"-188.3\" font-family=\"Times,serif\" font-size=\"14.00\">32, value&gt;0.5</text>\n</g>\n<!-- 13&#45;&gt;27 -->\n<g id=\"edge27\" class=\"edge\">\n<title>13&#45;&gt;27</title>\n<path fill=\"none\" stroke=\"black\" d=\"M5072.34,-261.21C5063.86,-248.98 5052.22,-232.21 5042.6,-218.36\"/>\n<polygon fill=\"black\" stroke=\"black\" points=\"5045.21,-215.98 5036.63,-209.76 5039.46,-219.97 5045.21,-215.98\"/>\n<text text-anchor=\"middle\" x=\"5067.5\" y=\"-231.8\" font-family=\"Times,serif\" font-size=\"14.00\">No</text>\n</g>\n<!-- 28 -->\n<g id=\"node29\" class=\"node\">\n<title>28</title>\n<ellipse fill=\"none\" stroke=\"black\" cx=\"5201\" cy=\"-192\" rx=\"59.59\" ry=\"18\"/>\n<text text-anchor=\"middle\" x=\"5201\" y=\"-188.3\" font-family=\"Times,serif\" font-size=\"14.00\">32, value&gt;0.5</text>\n</g>\n<!-- 13&#45;&gt;28 -->\n<g id=\"edge28\" class=\"edge\">\n<title>13&#45;&gt;28</title>\n<path fill=\"none\" stroke=\"black\" d=\"M5105.73,-262.21C5124.01,-248.94 5150.33,-229.81 5170.67,-215.03\"/>\n<polygon fill=\"black\" stroke=\"black\" points=\"5172.95,-217.7 5178.99,-208.99 5168.84,-212.04 5172.95,-217.7\"/>\n<text text-anchor=\"middle\" x=\"5160.5\" y=\"-231.8\" font-family=\"Times,serif\" font-size=\"14.00\">Yes</text>\n</g>\n<!-- 29 -->\n<g id=\"node30\" class=\"node\">\n<title>29</title>\n<ellipse fill=\"none\" stroke=\"black\" cx=\"5657\" cy=\"-192\" rx=\"59.59\" ry=\"18\"/>\n<text text-anchor=\"middle\" x=\"5657\" y=\"-188.3\" font-family=\"Times,serif\" font-size=\"14.00\">32, value&gt;0.5</text>\n</g>\n<!-- 14&#45;&gt;29 -->\n<g id=\"edge29\" class=\"edge\">\n<title>14&#45;&gt;29</title>\n<path fill=\"none\" stroke=\"black\" d=\"M5657,-260.8C5657,-249.16 5657,-233.55 5657,-220.24\"/>\n<polygon fill=\"black\" stroke=\"black\" points=\"5660.5,-220.18 5657,-210.18 5653.5,-220.18 5660.5,-220.18\"/>\n<text text-anchor=\"middle\" x=\"5665.5\" y=\"-231.8\" font-family=\"Times,serif\" font-size=\"14.00\">No</text>\n</g>\n<!-- 30 -->\n<g id=\"node31\" class=\"node\">\n<title>30</title>\n<ellipse fill=\"none\" stroke=\"black\" cx=\"5965\" cy=\"-192\" rx=\"59.59\" ry=\"18\"/>\n<text text-anchor=\"middle\" x=\"5965\" y=\"-188.3\" font-family=\"Times,serif\" font-size=\"14.00\">32, value&gt;0.5</text>\n</g>\n<!-- 14&#45;&gt;30 -->\n<g id=\"edge30\" class=\"edge\">\n<title>14&#45;&gt;30</title>\n<path fill=\"none\" stroke=\"black\" d=\"M5699.5,-266.27C5755.15,-250.91 5852.67,-224 5912.76,-207.42\"/>\n<polygon fill=\"black\" stroke=\"black\" points=\"5913.73,-210.78 5922.44,-204.75 5911.87,-204.03 5913.73,-210.78\"/>\n<text text-anchor=\"middle\" x=\"5840.5\" y=\"-231.8\" font-family=\"Times,serif\" font-size=\"14.00\">Yes</text>\n</g>\n<!-- 31 -->\n<g id=\"node32\" class=\"node\">\n<title>31</title>\n<ellipse fill=\"none\" stroke=\"black\" cx=\"142\" cy=\"-105\" rx=\"59.59\" ry=\"18\"/>\n<text text-anchor=\"middle\" x=\"142\" y=\"-101.3\" font-family=\"Times,serif\" font-size=\"14.00\">31, value&gt;0.5</text>\n</g>\n<!-- 15&#45;&gt;31 -->\n<g id=\"edge31\" class=\"edge\">\n<title>15&#45;&gt;31</title>\n<path fill=\"none\" stroke=\"black\" d=\"M279.91,-176.19C252.22,-162.1 210.38,-140.8 180.05,-125.37\"/>\n<polygon fill=\"black\" stroke=\"black\" points=\"181.54,-122.2 171.04,-120.78 178.36,-128.43 181.54,-122.2\"/>\n<text text-anchor=\"middle\" x=\"244.5\" y=\"-144.8\" font-family=\"Times,serif\" font-size=\"14.00\">No</text>\n</g>\n<!-- 32 -->\n<g id=\"node33\" class=\"node\">\n<title>32</title>\n<ellipse fill=\"none\" stroke=\"black\" cx=\"309\" cy=\"-105\" rx=\"59.59\" ry=\"18\"/>\n<text text-anchor=\"middle\" x=\"309\" y=\"-101.3\" font-family=\"Times,serif\" font-size=\"14.00\">31, value&gt;0.5</text>\n</g>\n<!-- 15&#45;&gt;32 -->\n<g id=\"edge32\" class=\"edge\">\n<title>15&#45;&gt;32</title>\n<path fill=\"none\" stroke=\"black\" d=\"M309,-173.8C309,-162.16 309,-146.55 309,-133.24\"/>\n<polygon fill=\"black\" stroke=\"black\" points=\"312.5,-133.18 309,-123.18 305.5,-133.18 312.5,-133.18\"/>\n<text text-anchor=\"middle\" x=\"319.5\" y=\"-144.8\" font-family=\"Times,serif\" font-size=\"14.00\">Yes</text>\n</g>\n<!-- 33 -->\n<g id=\"node34\" class=\"node\">\n<title>33</title>\n<ellipse fill=\"none\" stroke=\"black\" cx=\"514\" cy=\"-105\" rx=\"59.59\" ry=\"18\"/>\n<text text-anchor=\"middle\" x=\"514\" y=\"-101.3\" font-family=\"Times,serif\" font-size=\"14.00\">31, value&gt;0.5</text>\n</g>\n<!-- 16&#45;&gt;33 -->\n<g id=\"edge33\" class=\"edge\">\n<title>16&#45;&gt;33</title>\n<path fill=\"none\" stroke=\"black\" d=\"M566.96,-174.21C557.38,-161.87 544.2,-144.89 533.39,-130.97\"/>\n<polygon fill=\"black\" stroke=\"black\" points=\"535.91,-128.51 527.01,-122.76 530.38,-132.8 535.91,-128.51\"/>\n<text text-anchor=\"middle\" x=\"559.5\" y=\"-144.8\" font-family=\"Times,serif\" font-size=\"14.00\">No</text>\n</g>\n<!-- 34 -->\n<g id=\"node35\" class=\"node\">\n<title>34</title>\n<ellipse fill=\"none\" stroke=\"black\" cx=\"652\" cy=\"-105\" rx=\"59.59\" ry=\"18\"/>\n<text text-anchor=\"middle\" x=\"652\" y=\"-101.3\" font-family=\"Times,serif\" font-size=\"14.00\">31, value&gt;0.5</text>\n</g>\n<!-- 16&#45;&gt;34 -->\n<g id=\"edge34\" class=\"edge\">\n<title>16&#45;&gt;34</title>\n<path fill=\"none\" stroke=\"black\" d=\"M594.22,-174.21C604.78,-161.75 619.33,-144.57 631.18,-130.57\"/>\n<polygon fill=\"black\" stroke=\"black\" points=\"634.01,-132.65 637.8,-122.76 628.67,-128.13 634.01,-132.65\"/>\n<text text-anchor=\"middle\" x=\"631.5\" y=\"-144.8\" font-family=\"Times,serif\" font-size=\"14.00\">Yes</text>\n</g>\n<!-- 35 -->\n<g id=\"node36\" class=\"node\">\n<title>35</title>\n<ellipse fill=\"none\" stroke=\"black\" cx=\"930\" cy=\"-105\" rx=\"59.59\" ry=\"18\"/>\n<text text-anchor=\"middle\" x=\"930\" y=\"-101.3\" font-family=\"Times,serif\" font-size=\"14.00\">31, value&gt;0.5</text>\n</g>\n<!-- 17&#45;&gt;35 -->\n<g id=\"edge35\" class=\"edge\">\n<title>17&#45;&gt;35</title>\n<path fill=\"none\" stroke=\"black\" d=\"M1057.29,-175.8C1031.94,-161.9 994.27,-141.25 966.48,-126.01\"/>\n<polygon fill=\"black\" stroke=\"black\" points=\"967.92,-122.8 957.47,-121.06 964.56,-128.94 967.92,-122.8\"/>\n<text text-anchor=\"middle\" x=\"1025.5\" y=\"-144.8\" font-family=\"Times,serif\" font-size=\"14.00\">No</text>\n</g>\n<!-- 36 -->\n<g id=\"node37\" class=\"node\">\n<title>36</title>\n<ellipse fill=\"none\" stroke=\"black\" cx=\"1085\" cy=\"-105\" rx=\"59.59\" ry=\"18\"/>\n<text text-anchor=\"middle\" x=\"1085\" y=\"-101.3\" font-family=\"Times,serif\" font-size=\"14.00\">31, value&gt;0.5</text>\n</g>\n<!-- 17&#45;&gt;36 -->\n<g id=\"edge36\" class=\"edge\">\n<title>17&#45;&gt;36</title>\n<path fill=\"none\" stroke=\"black\" d=\"M1085,-173.8C1085,-162.16 1085,-146.55 1085,-133.24\"/>\n<polygon fill=\"black\" stroke=\"black\" points=\"1088.5,-133.18 1085,-123.18 1081.5,-133.18 1088.5,-133.18\"/>\n<text text-anchor=\"middle\" x=\"1095.5\" y=\"-144.8\" font-family=\"Times,serif\" font-size=\"14.00\">Yes</text>\n</g>\n<!-- 37 -->\n<g id=\"node38\" class=\"node\">\n<title>37</title>\n<ellipse fill=\"none\" stroke=\"black\" cx=\"1253\" cy=\"-105\" rx=\"59.59\" ry=\"18\"/>\n<text text-anchor=\"middle\" x=\"1253\" y=\"-101.3\" font-family=\"Times,serif\" font-size=\"14.00\">31, value&gt;0.5</text>\n</g>\n<!-- 18&#45;&gt;37 -->\n<g id=\"edge37\" class=\"edge\">\n<title>18&#45;&gt;37</title>\n<path fill=\"none\" stroke=\"black\" d=\"M1253,-173.8C1253,-162.16 1253,-146.55 1253,-133.24\"/>\n<polygon fill=\"black\" stroke=\"black\" points=\"1256.5,-133.18 1253,-123.18 1249.5,-133.18 1256.5,-133.18\"/>\n<text text-anchor=\"middle\" x=\"1261.5\" y=\"-144.8\" font-family=\"Times,serif\" font-size=\"14.00\">No</text>\n</g>\n<!-- 38 -->\n<g id=\"node39\" class=\"node\">\n<title>38</title>\n<ellipse fill=\"none\" stroke=\"black\" cx=\"1420\" cy=\"-105\" rx=\"59.59\" ry=\"18\"/>\n<text text-anchor=\"middle\" x=\"1420\" y=\"-101.3\" font-family=\"Times,serif\" font-size=\"14.00\">31, value&gt;0.5</text>\n</g>\n<!-- 18&#45;&gt;38 -->\n<g id=\"edge38\" class=\"edge\">\n<title>18&#45;&gt;38</title>\n<path fill=\"none\" stroke=\"black\" d=\"M1282.09,-176.19C1309.78,-162.1 1351.62,-140.8 1381.95,-125.37\"/>\n<polygon fill=\"black\" stroke=\"black\" points=\"1383.64,-128.43 1390.96,-120.78 1380.46,-122.2 1383.64,-128.43\"/>\n<text text-anchor=\"middle\" x=\"1357.5\" y=\"-144.8\" font-family=\"Times,serif\" font-size=\"14.00\">Yes</text>\n</g>\n<!-- 39 -->\n<g id=\"node40\" class=\"node\">\n<title>39</title>\n<ellipse fill=\"none\" stroke=\"black\" cx=\"1714\" cy=\"-105\" rx=\"59.59\" ry=\"18\"/>\n<text text-anchor=\"middle\" x=\"1714\" y=\"-101.3\" font-family=\"Times,serif\" font-size=\"14.00\">31, value&gt;0.5</text>\n</g>\n<!-- 19&#45;&gt;39 -->\n<g id=\"edge39\" class=\"edge\">\n<title>19&#45;&gt;39</title>\n<path fill=\"none\" stroke=\"black\" d=\"M1851.91,-176.19C1824.22,-162.1 1782.38,-140.8 1752.05,-125.37\"/>\n<polygon fill=\"black\" stroke=\"black\" points=\"1753.54,-122.2 1743.04,-120.78 1750.36,-128.43 1753.54,-122.2\"/>\n<text text-anchor=\"middle\" x=\"1816.5\" y=\"-144.8\" font-family=\"Times,serif\" font-size=\"14.00\">No</text>\n</g>\n<!-- 40 -->\n<g id=\"node41\" class=\"node\">\n<title>40</title>\n<ellipse fill=\"none\" stroke=\"black\" cx=\"1881\" cy=\"-105\" rx=\"59.59\" ry=\"18\"/>\n<text text-anchor=\"middle\" x=\"1881\" y=\"-101.3\" font-family=\"Times,serif\" font-size=\"14.00\">31, value&gt;0.5</text>\n</g>\n<!-- 19&#45;&gt;40 -->\n<g id=\"edge40\" class=\"edge\">\n<title>19&#45;&gt;40</title>\n<path fill=\"none\" stroke=\"black\" d=\"M1881,-173.8C1881,-162.16 1881,-146.55 1881,-133.24\"/>\n<polygon fill=\"black\" stroke=\"black\" points=\"1884.5,-133.18 1881,-123.18 1877.5,-133.18 1884.5,-133.18\"/>\n<text text-anchor=\"middle\" x=\"1891.5\" y=\"-144.8\" font-family=\"Times,serif\" font-size=\"14.00\">Yes</text>\n</g>\n<!-- 41 -->\n<g id=\"node42\" class=\"node\">\n<title>41</title>\n<ellipse fill=\"none\" stroke=\"black\" cx=\"2077\" cy=\"-105\" rx=\"59.59\" ry=\"18\"/>\n<text text-anchor=\"middle\" x=\"2077\" y=\"-101.3\" font-family=\"Times,serif\" font-size=\"14.00\">31, value&gt;0.5</text>\n</g>\n<!-- 20&#45;&gt;41 -->\n<g id=\"edge41\" class=\"edge\">\n<title>20&#45;&gt;41</title>\n<path fill=\"none\" stroke=\"black\" d=\"M2129.96,-174.21C2120.38,-161.87 2107.2,-144.89 2096.39,-130.97\"/>\n<polygon fill=\"black\" stroke=\"black\" points=\"2098.91,-128.51 2090.01,-122.76 2093.38,-132.8 2098.91,-128.51\"/>\n<text text-anchor=\"middle\" x=\"2122.5\" y=\"-144.8\" font-family=\"Times,serif\" font-size=\"14.00\">No</text>\n</g>\n<!-- 42 -->\n<g id=\"node43\" class=\"node\">\n<title>42</title>\n<ellipse fill=\"none\" stroke=\"black\" cx=\"2215\" cy=\"-105\" rx=\"59.59\" ry=\"18\"/>\n<text text-anchor=\"middle\" x=\"2215\" y=\"-101.3\" font-family=\"Times,serif\" font-size=\"14.00\">31, value&gt;0.5</text>\n</g>\n<!-- 20&#45;&gt;42 -->\n<g id=\"edge42\" class=\"edge\">\n<title>20&#45;&gt;42</title>\n<path fill=\"none\" stroke=\"black\" d=\"M2157.22,-174.21C2167.78,-161.75 2182.33,-144.57 2194.18,-130.57\"/>\n<polygon fill=\"black\" stroke=\"black\" points=\"2197.01,-132.65 2200.8,-122.76 2191.67,-128.13 2197.01,-132.65\"/>\n<text text-anchor=\"middle\" x=\"2194.5\" y=\"-144.8\" font-family=\"Times,serif\" font-size=\"14.00\">Yes</text>\n</g>\n<!-- 43 -->\n<g id=\"node44\" class=\"node\">\n<title>43</title>\n<ellipse fill=\"none\" stroke=\"black\" cx=\"2483\" cy=\"-105\" rx=\"59.59\" ry=\"18\"/>\n<text text-anchor=\"middle\" x=\"2483\" y=\"-101.3\" font-family=\"Times,serif\" font-size=\"14.00\">31, value&gt;0.5</text>\n</g>\n<!-- 21&#45;&gt;43 -->\n<g id=\"edge43\" class=\"edge\">\n<title>21&#45;&gt;43</title>\n<path fill=\"none\" stroke=\"black\" d=\"M2569.87,-175.01C2553.39,-161.92 2529.87,-143.23 2511.46,-128.6\"/>\n<polygon fill=\"black\" stroke=\"black\" points=\"2513.41,-125.68 2503.4,-122.21 2509.05,-131.17 2513.41,-125.68\"/>\n<text text-anchor=\"middle\" x=\"2551.5\" y=\"-144.8\" font-family=\"Times,serif\" font-size=\"14.00\">No</text>\n</g>\n<!-- 44 -->\n<g id=\"node45\" class=\"node\">\n<title>44</title>\n<ellipse fill=\"none\" stroke=\"black\" cx=\"2621\" cy=\"-105\" rx=\"59.59\" ry=\"18\"/>\n<text text-anchor=\"middle\" x=\"2621\" y=\"-101.3\" font-family=\"Times,serif\" font-size=\"14.00\">31, value&gt;0.5</text>\n</g>\n<!-- 21&#45;&gt;44 -->\n<g id=\"edge44\" class=\"edge\">\n<title>21&#45;&gt;44</title>\n<path fill=\"none\" stroke=\"black\" d=\"M2596.27,-173.8C2600.56,-162.05 2606.32,-146.24 2611.21,-132.84\"/>\n<polygon fill=\"black\" stroke=\"black\" points=\"2614.6,-133.77 2614.74,-123.18 2608.02,-131.37 2614.6,-133.77\"/>\n<text text-anchor=\"middle\" x=\"2618.5\" y=\"-144.8\" font-family=\"Times,serif\" font-size=\"14.00\">Yes</text>\n</g>\n<!-- 45 -->\n<g id=\"node46\" class=\"node\">\n<title>45</title>\n<ellipse fill=\"none\" stroke=\"black\" cx=\"2821\" cy=\"-105\" rx=\"59.59\" ry=\"18\"/>\n<text text-anchor=\"middle\" x=\"2821\" y=\"-101.3\" font-family=\"Times,serif\" font-size=\"14.00\">31, value&gt;0.5</text>\n</g>\n<!-- 22&#45;&gt;45 -->\n<g id=\"edge45\" class=\"edge\">\n<title>22&#45;&gt;45</title>\n<path fill=\"none\" stroke=\"black\" d=\"M2821,-173.8C2821,-162.16 2821,-146.55 2821,-133.24\"/>\n<polygon fill=\"black\" stroke=\"black\" points=\"2824.5,-133.18 2821,-123.18 2817.5,-133.18 2824.5,-133.18\"/>\n<text text-anchor=\"middle\" x=\"2829.5\" y=\"-144.8\" font-family=\"Times,serif\" font-size=\"14.00\">No</text>\n</g>\n<!-- 46 -->\n<g id=\"node47\" class=\"node\">\n<title>46</title>\n<ellipse fill=\"none\" stroke=\"black\" cx=\"2988\" cy=\"-105\" rx=\"59.59\" ry=\"18\"/>\n<text text-anchor=\"middle\" x=\"2988\" y=\"-101.3\" font-family=\"Times,serif\" font-size=\"14.00\">31, value&gt;0.5</text>\n</g>\n<!-- 22&#45;&gt;46 -->\n<g id=\"edge46\" class=\"edge\">\n<title>22&#45;&gt;46</title>\n<path fill=\"none\" stroke=\"black\" d=\"M2850.09,-176.19C2877.78,-162.1 2919.62,-140.8 2949.95,-125.37\"/>\n<polygon fill=\"black\" stroke=\"black\" points=\"2951.64,-128.43 2958.96,-120.78 2948.46,-122.2 2951.64,-128.43\"/>\n<text text-anchor=\"middle\" x=\"2925.5\" y=\"-144.8\" font-family=\"Times,serif\" font-size=\"14.00\">Yes</text>\n</g>\n<!-- 47 -->\n<g id=\"node48\" class=\"node\">\n<title>47</title>\n<ellipse fill=\"none\" stroke=\"black\" cx=\"3286\" cy=\"-105\" rx=\"59.59\" ry=\"18\"/>\n<text text-anchor=\"middle\" x=\"3286\" y=\"-101.3\" font-family=\"Times,serif\" font-size=\"14.00\">31, value&gt;0.5</text>\n</g>\n<!-- 23&#45;&gt;47 -->\n<g id=\"edge47\" class=\"edge\">\n<title>23&#45;&gt;47</title>\n<path fill=\"none\" stroke=\"black\" d=\"M3423.91,-176.19C3396.22,-162.1 3354.38,-140.8 3324.05,-125.37\"/>\n<polygon fill=\"black\" stroke=\"black\" points=\"3325.54,-122.2 3315.04,-120.78 3322.36,-128.43 3325.54,-122.2\"/>\n<text text-anchor=\"middle\" x=\"3388.5\" y=\"-144.8\" font-family=\"Times,serif\" font-size=\"14.00\">No</text>\n</g>\n<!-- 48 -->\n<g id=\"node49\" class=\"node\">\n<title>48</title>\n<ellipse fill=\"none\" stroke=\"black\" cx=\"3453\" cy=\"-105\" rx=\"59.59\" ry=\"18\"/>\n<text text-anchor=\"middle\" x=\"3453\" y=\"-101.3\" font-family=\"Times,serif\" font-size=\"14.00\">31, value&gt;0.5</text>\n</g>\n<!-- 23&#45;&gt;48 -->\n<g id=\"edge48\" class=\"edge\">\n<title>23&#45;&gt;48</title>\n<path fill=\"none\" stroke=\"black\" d=\"M3453,-173.8C3453,-162.16 3453,-146.55 3453,-133.24\"/>\n<polygon fill=\"black\" stroke=\"black\" points=\"3456.5,-133.18 3453,-123.18 3449.5,-133.18 3456.5,-133.18\"/>\n<text text-anchor=\"middle\" x=\"3463.5\" y=\"-144.8\" font-family=\"Times,serif\" font-size=\"14.00\">Yes</text>\n</g>\n<!-- 49 -->\n<g id=\"node50\" class=\"node\">\n<title>49</title>\n<ellipse fill=\"none\" stroke=\"black\" cx=\"3658\" cy=\"-105\" rx=\"59.59\" ry=\"18\"/>\n<text text-anchor=\"middle\" x=\"3658\" y=\"-101.3\" font-family=\"Times,serif\" font-size=\"14.00\">31, value&gt;0.5</text>\n</g>\n<!-- 24&#45;&gt;49 -->\n<g id=\"edge49\" class=\"edge\">\n<title>24&#45;&gt;49</title>\n<path fill=\"none\" stroke=\"black\" d=\"M3710.96,-174.21C3701.38,-161.87 3688.2,-144.89 3677.39,-130.97\"/>\n<polygon fill=\"black\" stroke=\"black\" points=\"3679.91,-128.51 3671.01,-122.76 3674.38,-132.8 3679.91,-128.51\"/>\n<text text-anchor=\"middle\" x=\"3703.5\" y=\"-144.8\" font-family=\"Times,serif\" font-size=\"14.00\">No</text>\n</g>\n<!-- 50 -->\n<g id=\"node51\" class=\"node\">\n<title>50</title>\n<ellipse fill=\"none\" stroke=\"black\" cx=\"3796\" cy=\"-105\" rx=\"59.59\" ry=\"18\"/>\n<text text-anchor=\"middle\" x=\"3796\" y=\"-101.3\" font-family=\"Times,serif\" font-size=\"14.00\">31, value&gt;0.5</text>\n</g>\n<!-- 24&#45;&gt;50 -->\n<g id=\"edge50\" class=\"edge\">\n<title>24&#45;&gt;50</title>\n<path fill=\"none\" stroke=\"black\" d=\"M3738.22,-174.21C3748.78,-161.75 3763.33,-144.57 3775.18,-130.57\"/>\n<polygon fill=\"black\" stroke=\"black\" points=\"3778.01,-132.65 3781.8,-122.76 3772.67,-128.13 3778.01,-132.65\"/>\n<text text-anchor=\"middle\" x=\"3775.5\" y=\"-144.8\" font-family=\"Times,serif\" font-size=\"14.00\">Yes</text>\n</g>\n<!-- 51 -->\n<g id=\"node52\" class=\"node\">\n<title>51</title>\n<ellipse fill=\"none\" stroke=\"black\" cx=\"4067\" cy=\"-105\" rx=\"59.59\" ry=\"18\"/>\n<text text-anchor=\"middle\" x=\"4067\" y=\"-101.3\" font-family=\"Times,serif\" font-size=\"14.00\">31, value&gt;0.5</text>\n</g>\n<!-- 25&#45;&gt;51 -->\n<g id=\"edge51\" class=\"edge\">\n<title>25&#45;&gt;51</title>\n<path fill=\"none\" stroke=\"black\" d=\"M4142.88,-174.61C4128.57,-161.68 4108.44,-143.47 4092.51,-129.07\"/>\n<polygon fill=\"black\" stroke=\"black\" points=\"4094.83,-126.45 4085.07,-122.34 4090.14,-131.64 4094.83,-126.45\"/>\n<text text-anchor=\"middle\" x=\"4128.5\" y=\"-144.8\" font-family=\"Times,serif\" font-size=\"14.00\">No</text>\n</g>\n<!-- 52 -->\n<g id=\"node53\" class=\"node\">\n<title>52</title>\n<ellipse fill=\"none\" stroke=\"black\" cx=\"4205\" cy=\"-105\" rx=\"59.59\" ry=\"18\"/>\n<text text-anchor=\"middle\" x=\"4205\" y=\"-101.3\" font-family=\"Times,serif\" font-size=\"14.00\">31, value&gt;0.5</text>\n</g>\n<!-- 25&#45;&gt;52 -->\n<g id=\"edge52\" class=\"edge\">\n<title>25&#45;&gt;52</title>\n<path fill=\"none\" stroke=\"black\" d=\"M4169.9,-173.8C4176.15,-161.74 4184.6,-145.4 4191.65,-131.79\"/>\n<polygon fill=\"black\" stroke=\"black\" points=\"4194.77,-133.38 4196.26,-122.89 4188.55,-130.16 4194.77,-133.38\"/>\n<text text-anchor=\"middle\" x=\"4196.5\" y=\"-144.8\" font-family=\"Times,serif\" font-size=\"14.00\">Yes</text>\n</g>\n<!-- 53 -->\n<g id=\"node54\" class=\"node\">\n<title>53</title>\n<ellipse fill=\"none\" stroke=\"black\" cx=\"4397\" cy=\"-105\" rx=\"59.59\" ry=\"18\"/>\n<text text-anchor=\"middle\" x=\"4397\" y=\"-101.3\" font-family=\"Times,serif\" font-size=\"14.00\">31, value&gt;0.5</text>\n</g>\n<!-- 26&#45;&gt;53 -->\n<g id=\"edge53\" class=\"edge\">\n<title>26&#45;&gt;53</title>\n<path fill=\"none\" stroke=\"black\" d=\"M4397,-173.8C4397,-162.16 4397,-146.55 4397,-133.24\"/>\n<polygon fill=\"black\" stroke=\"black\" points=\"4400.5,-133.18 4397,-123.18 4393.5,-133.18 4400.5,-133.18\"/>\n<text text-anchor=\"middle\" x=\"4405.5\" y=\"-144.8\" font-family=\"Times,serif\" font-size=\"14.00\">No</text>\n</g>\n<!-- 54 -->\n<g id=\"node55\" class=\"node\">\n<title>54</title>\n<ellipse fill=\"none\" stroke=\"black\" cx=\"4564\" cy=\"-105\" rx=\"59.59\" ry=\"18\"/>\n<text text-anchor=\"middle\" x=\"4564\" y=\"-101.3\" font-family=\"Times,serif\" font-size=\"14.00\">31, value&gt;0.5</text>\n</g>\n<!-- 26&#45;&gt;54 -->\n<g id=\"edge54\" class=\"edge\">\n<title>26&#45;&gt;54</title>\n<path fill=\"none\" stroke=\"black\" d=\"M4426.09,-176.19C4453.78,-162.1 4495.62,-140.8 4525.95,-125.37\"/>\n<polygon fill=\"black\" stroke=\"black\" points=\"4527.64,-128.43 4534.96,-120.78 4524.46,-122.2 4527.64,-128.43\"/>\n<text text-anchor=\"middle\" x=\"4501.5\" y=\"-144.8\" font-family=\"Times,serif\" font-size=\"14.00\">Yes</text>\n</g>\n<!-- 55 -->\n<g id=\"node56\" class=\"node\">\n<title>55</title>\n<ellipse fill=\"none\" stroke=\"black\" cx=\"4858\" cy=\"-105\" rx=\"59.59\" ry=\"18\"/>\n<text text-anchor=\"middle\" x=\"4858\" y=\"-101.3\" font-family=\"Times,serif\" font-size=\"14.00\">31, value&gt;0.5</text>\n</g>\n<!-- 27&#45;&gt;55 -->\n<g id=\"edge55\" class=\"edge\">\n<title>27&#45;&gt;55</title>\n<path fill=\"none\" stroke=\"black\" d=\"M4995.91,-176.19C4968.22,-162.1 4926.38,-140.8 4896.05,-125.37\"/>\n<polygon fill=\"black\" stroke=\"black\" points=\"4897.54,-122.2 4887.04,-120.78 4894.36,-128.43 4897.54,-122.2\"/>\n<text text-anchor=\"middle\" x=\"4960.5\" y=\"-144.8\" font-family=\"Times,serif\" font-size=\"14.00\">No</text>\n</g>\n<!-- 56 -->\n<g id=\"node57\" class=\"node\">\n<title>56</title>\n<ellipse fill=\"none\" stroke=\"black\" cx=\"5025\" cy=\"-105\" rx=\"59.59\" ry=\"18\"/>\n<text text-anchor=\"middle\" x=\"5025\" y=\"-101.3\" font-family=\"Times,serif\" font-size=\"14.00\">31, value&gt;0.5</text>\n</g>\n<!-- 27&#45;&gt;56 -->\n<g id=\"edge56\" class=\"edge\">\n<title>27&#45;&gt;56</title>\n<path fill=\"none\" stroke=\"black\" d=\"M5025,-173.8C5025,-162.16 5025,-146.55 5025,-133.24\"/>\n<polygon fill=\"black\" stroke=\"black\" points=\"5028.5,-133.18 5025,-123.18 5021.5,-133.18 5028.5,-133.18\"/>\n<text text-anchor=\"middle\" x=\"5035.5\" y=\"-144.8\" font-family=\"Times,serif\" font-size=\"14.00\">Yes</text>\n</g>\n<!-- 57 -->\n<g id=\"node58\" class=\"node\">\n<title>57</title>\n<ellipse fill=\"none\" stroke=\"black\" cx=\"5201\" cy=\"-105\" rx=\"59.59\" ry=\"18\"/>\n<text text-anchor=\"middle\" x=\"5201\" y=\"-101.3\" font-family=\"Times,serif\" font-size=\"14.00\">31, value&gt;0.5</text>\n</g>\n<!-- 28&#45;&gt;57 -->\n<g id=\"edge57\" class=\"edge\">\n<title>28&#45;&gt;57</title>\n<path fill=\"none\" stroke=\"black\" d=\"M5201,-173.8C5201,-162.16 5201,-146.55 5201,-133.24\"/>\n<polygon fill=\"black\" stroke=\"black\" points=\"5204.5,-133.18 5201,-123.18 5197.5,-133.18 5204.5,-133.18\"/>\n<text text-anchor=\"middle\" x=\"5209.5\" y=\"-144.8\" font-family=\"Times,serif\" font-size=\"14.00\">No</text>\n</g>\n<!-- 58 -->\n<g id=\"node59\" class=\"node\">\n<title>58</title>\n<ellipse fill=\"none\" stroke=\"black\" cx=\"5348\" cy=\"-105\" rx=\"59.59\" ry=\"18\"/>\n<text text-anchor=\"middle\" x=\"5348\" y=\"-101.3\" font-family=\"Times,serif\" font-size=\"14.00\">31, value&gt;0.5</text>\n</g>\n<!-- 28&#45;&gt;58 -->\n<g id=\"edge58\" class=\"edge\">\n<title>28&#45;&gt;58</title>\n<path fill=\"none\" stroke=\"black\" d=\"M5227.28,-175.8C5251.07,-162.05 5286.3,-141.68 5312.57,-126.49\"/>\n<polygon fill=\"black\" stroke=\"black\" points=\"5314.55,-129.39 5321.45,-121.35 5311.04,-123.33 5314.55,-129.39\"/>\n<text text-anchor=\"middle\" x=\"5294.5\" y=\"-144.8\" font-family=\"Times,serif\" font-size=\"14.00\">Yes</text>\n</g>\n<!-- 59 -->\n<g id=\"node60\" class=\"node\">\n<title>59</title>\n<ellipse fill=\"none\" stroke=\"black\" cx=\"5622\" cy=\"-105\" rx=\"59.59\" ry=\"18\"/>\n<text text-anchor=\"middle\" x=\"5622\" y=\"-101.3\" font-family=\"Times,serif\" font-size=\"14.00\">31, value&gt;0.5</text>\n</g>\n<!-- 29&#45;&gt;59 -->\n<g id=\"edge59\" class=\"edge\">\n<title>29&#45;&gt;59</title>\n<path fill=\"none\" stroke=\"black\" d=\"M5649.92,-173.8C5645,-161.85 5638.35,-145.72 5632.78,-132.18\"/>\n<polygon fill=\"black\" stroke=\"black\" points=\"5636,-130.8 5628.95,-122.89 5629.52,-133.46 5636,-130.8\"/>\n<text text-anchor=\"middle\" x=\"5650.5\" y=\"-144.8\" font-family=\"Times,serif\" font-size=\"14.00\">No</text>\n</g>\n<!-- 60 -->\n<g id=\"node61\" class=\"node\">\n<title>60</title>\n<ellipse fill=\"none\" stroke=\"black\" cx=\"5760\" cy=\"-105\" rx=\"59.59\" ry=\"18\"/>\n<text text-anchor=\"middle\" x=\"5760\" y=\"-101.3\" font-family=\"Times,serif\" font-size=\"14.00\">31, value&gt;0.5</text>\n</g>\n<!-- 29&#45;&gt;60 -->\n<g id=\"edge60\" class=\"edge\">\n<title>29&#45;&gt;60</title>\n<path fill=\"none\" stroke=\"black\" d=\"M5676.86,-174.61C5692.63,-161.59 5714.87,-143.24 5732.38,-128.79\"/>\n<polygon fill=\"black\" stroke=\"black\" points=\"5735.07,-131.11 5740.55,-122.05 5730.61,-125.72 5735.07,-131.11\"/>\n<text text-anchor=\"middle\" x=\"5725.5\" y=\"-144.8\" font-family=\"Times,serif\" font-size=\"14.00\">Yes</text>\n</g>\n<!-- 61 -->\n<g id=\"node62\" class=\"node\">\n<title>61</title>\n<ellipse fill=\"none\" stroke=\"black\" cx=\"5965\" cy=\"-105\" rx=\"59.59\" ry=\"18\"/>\n<text text-anchor=\"middle\" x=\"5965\" y=\"-101.3\" font-family=\"Times,serif\" font-size=\"14.00\">31, value&gt;0.5</text>\n</g>\n<!-- 30&#45;&gt;61 -->\n<g id=\"edge61\" class=\"edge\">\n<title>30&#45;&gt;61</title>\n<path fill=\"none\" stroke=\"black\" d=\"M5965,-173.8C5965,-162.16 5965,-146.55 5965,-133.24\"/>\n<polygon fill=\"black\" stroke=\"black\" points=\"5968.5,-133.18 5965,-123.18 5961.5,-133.18 5968.5,-133.18\"/>\n<text text-anchor=\"middle\" x=\"5973.5\" y=\"-144.8\" font-family=\"Times,serif\" font-size=\"14.00\">No</text>\n</g>\n<!-- 62 -->\n<g id=\"node63\" class=\"node\">\n<title>62</title>\n<ellipse fill=\"none\" stroke=\"black\" cx=\"6132\" cy=\"-105\" rx=\"59.59\" ry=\"18\"/>\n<text text-anchor=\"middle\" x=\"6132\" y=\"-101.3\" font-family=\"Times,serif\" font-size=\"14.00\">31, value&gt;0.5</text>\n</g>\n<!-- 30&#45;&gt;62 -->\n<g id=\"edge62\" class=\"edge\">\n<title>30&#45;&gt;62</title>\n<path fill=\"none\" stroke=\"black\" d=\"M5994.09,-176.19C6021.78,-162.1 6063.62,-140.8 6093.95,-125.37\"/>\n<polygon fill=\"black\" stroke=\"black\" points=\"6095.64,-128.43 6102.96,-120.78 6092.46,-122.2 6095.64,-128.43\"/>\n<text text-anchor=\"middle\" x=\"6069.5\" y=\"-144.8\" font-family=\"Times,serif\" font-size=\"14.00\">Yes</text>\n</g>\n<!-- 63 -->\n<g id=\"node64\" class=\"node\">\n<title>63</title>\n<polygon fill=\"none\" stroke=\"red\" points=\"84,-36 0,-36 0,0 84,0 84,-36\"/>\n<text text-anchor=\"middle\" x=\"42\" y=\"-14.3\" font-family=\"Times,serif\" font-size=\"14.00\">val = &#45;0.006</text>\n</g>\n<!-- 31&#45;&gt;63 -->\n<g id=\"edge63\" class=\"edge\">\n<title>31&#45;&gt;63</title>\n<path fill=\"none\" stroke=\"black\" d=\"M122.72,-87.61C107.79,-74.92 86.91,-57.17 70.12,-42.9\"/>\n<polygon fill=\"black\" stroke=\"black\" points=\"72.14,-40.02 62.25,-36.21 67.6,-45.36 72.14,-40.02\"/>\n<text text-anchor=\"middle\" x=\"106.5\" y=\"-57.8\" font-family=\"Times,serif\" font-size=\"14.00\">No</text>\n</g>\n<!-- 64 -->\n<g id=\"node65\" class=\"node\">\n<title>64</title>\n<polygon fill=\"none\" stroke=\"red\" points=\"182,-36 102,-36 102,0 182,0 182,-36\"/>\n<text text-anchor=\"middle\" x=\"142\" y=\"-14.3\" font-family=\"Times,serif\" font-size=\"14.00\">val = 0.036</text>\n</g>\n<!-- 31&#45;&gt;64 -->\n<g id=\"edge64\" class=\"edge\">\n<title>31&#45;&gt;64</title>\n<path fill=\"none\" stroke=\"black\" d=\"M142,-86.8C142,-75.16 142,-59.55 142,-46.24\"/>\n<polygon fill=\"black\" stroke=\"black\" points=\"145.5,-46.18 142,-36.18 138.5,-46.18 145.5,-46.18\"/>\n<text text-anchor=\"middle\" x=\"152.5\" y=\"-57.8\" font-family=\"Times,serif\" font-size=\"14.00\">Yes</text>\n</g>\n<!-- 65 -->\n<g id=\"node66\" class=\"node\">\n<title>65</title>\n<polygon fill=\"none\" stroke=\"red\" points=\"280,-36 200,-36 200,0 280,0 280,-36\"/>\n<text text-anchor=\"middle\" x=\"240\" y=\"-14.3\" font-family=\"Times,serif\" font-size=\"14.00\">val = 0.000</text>\n</g>\n<!-- 32&#45;&gt;65 -->\n<g id=\"edge65\" class=\"edge\">\n<title>32&#45;&gt;65</title>\n<path fill=\"none\" stroke=\"black\" d=\"M295.37,-87.21C285.32,-74.83 271.49,-57.8 260.17,-43.85\"/>\n<polygon fill=\"black\" stroke=\"black\" points=\"262.86,-41.61 253.84,-36.05 257.43,-46.02 262.86,-41.61\"/>\n<text text-anchor=\"middle\" x=\"287.5\" y=\"-57.8\" font-family=\"Times,serif\" font-size=\"14.00\">No</text>\n</g>\n<!-- 66 -->\n<g id=\"node67\" class=\"node\">\n<title>66</title>\n<polygon fill=\"none\" stroke=\"red\" points=\"378,-36 298,-36 298,0 378,0 378,-36\"/>\n<text text-anchor=\"middle\" x=\"338\" y=\"-14.3\" font-family=\"Times,serif\" font-size=\"14.00\">val = 0.000</text>\n</g>\n<!-- 32&#45;&gt;66 -->\n<g id=\"edge66\" class=\"edge\">\n<title>32&#45;&gt;66</title>\n<path fill=\"none\" stroke=\"black\" d=\"M314.87,-86.8C318.88,-75.05 324.27,-59.24 328.84,-45.84\"/>\n<polygon fill=\"black\" stroke=\"black\" points=\"332.22,-46.77 332.14,-36.18 325.6,-44.51 332.22,-46.77\"/>\n<text text-anchor=\"middle\" x=\"336.5\" y=\"-57.8\" font-family=\"Times,serif\" font-size=\"14.00\">Yes</text>\n</g>\n<!-- 67 -->\n<g id=\"node68\" class=\"node\">\n<title>67</title>\n<polygon fill=\"none\" stroke=\"red\" points=\"476,-36 396,-36 396,0 476,0 476,-36\"/>\n<text text-anchor=\"middle\" x=\"436\" y=\"-14.3\" font-family=\"Times,serif\" font-size=\"14.00\">val = 0.007</text>\n</g>\n<!-- 33&#45;&gt;67 -->\n<g id=\"edge67\" class=\"edge\">\n<title>33&#45;&gt;67</title>\n<path fill=\"none\" stroke=\"black\" d=\"M498.59,-87.21C487.13,-74.72 471.31,-57.48 458.44,-43.46\"/>\n<polygon fill=\"black\" stroke=\"black\" points=\"460.99,-41.05 451.65,-36.05 455.83,-45.78 460.99,-41.05\"/>\n<text text-anchor=\"middle\" x=\"488.5\" y=\"-57.8\" font-family=\"Times,serif\" font-size=\"14.00\">No</text>\n</g>\n<!-- 68 -->\n<g id=\"node69\" class=\"node\">\n<title>68</title>\n<polygon fill=\"none\" stroke=\"red\" points=\"574,-36 494,-36 494,0 574,0 574,-36\"/>\n<text text-anchor=\"middle\" x=\"534\" y=\"-14.3\" font-family=\"Times,serif\" font-size=\"14.00\">val = 0.000</text>\n</g>\n<!-- 33&#45;&gt;68 -->\n<g id=\"edge68\" class=\"edge\">\n<title>33&#45;&gt;68</title>\n<path fill=\"none\" stroke=\"black\" d=\"M518.05,-86.8C520.79,-75.16 524.46,-59.55 527.59,-46.24\"/>\n<polygon fill=\"black\" stroke=\"black\" points=\"531.08,-46.71 529.96,-36.18 524.26,-45.11 531.08,-46.71\"/>\n<text text-anchor=\"middle\" x=\"536.5\" y=\"-57.8\" font-family=\"Times,serif\" font-size=\"14.00\">Yes</text>\n</g>\n<!-- 69 -->\n<g id=\"node70\" class=\"node\">\n<title>69</title>\n<polygon fill=\"none\" stroke=\"red\" points=\"672,-36 592,-36 592,0 672,0 672,-36\"/>\n<text text-anchor=\"middle\" x=\"632\" y=\"-14.3\" font-family=\"Times,serif\" font-size=\"14.00\">val = 0.000</text>\n</g>\n<!-- 34&#45;&gt;69 -->\n<g id=\"edge69\" class=\"edge\">\n<title>34&#45;&gt;69</title>\n<path fill=\"none\" stroke=\"black\" d=\"M647.95,-86.8C645.21,-75.16 641.54,-59.55 638.41,-46.24\"/>\n<polygon fill=\"black\" stroke=\"black\" points=\"641.74,-45.11 636.04,-36.18 634.92,-46.71 641.74,-45.11\"/>\n<text text-anchor=\"middle\" x=\"652.5\" y=\"-57.8\" font-family=\"Times,serif\" font-size=\"14.00\">No</text>\n</g>\n<!-- 70 -->\n<g id=\"node71\" class=\"node\">\n<title>70</title>\n<polygon fill=\"none\" stroke=\"red\" points=\"770,-36 690,-36 690,0 770,0 770,-36\"/>\n<text text-anchor=\"middle\" x=\"730\" y=\"-14.3\" font-family=\"Times,serif\" font-size=\"14.00\">val = 0.000</text>\n</g>\n<!-- 34&#45;&gt;70 -->\n<g id=\"edge70\" class=\"edge\">\n<title>34&#45;&gt;70</title>\n<path fill=\"none\" stroke=\"black\" d=\"M667.41,-87.21C678.87,-74.72 694.69,-57.48 707.56,-43.46\"/>\n<polygon fill=\"black\" stroke=\"black\" points=\"710.17,-45.78 714.35,-36.05 705.01,-41.05 710.17,-45.78\"/>\n<text text-anchor=\"middle\" x=\"706.5\" y=\"-57.8\" font-family=\"Times,serif\" font-size=\"14.00\">Yes</text>\n</g>\n<!-- 71 -->\n<g id=\"node72\" class=\"node\">\n<title>71</title>\n<polygon fill=\"none\" stroke=\"red\" points=\"872,-36 788,-36 788,0 872,0 872,-36\"/>\n<text text-anchor=\"middle\" x=\"830\" y=\"-14.3\" font-family=\"Times,serif\" font-size=\"14.00\">val = &#45;0.006</text>\n</g>\n<!-- 35&#45;&gt;71 -->\n<g id=\"edge71\" class=\"edge\">\n<title>35&#45;&gt;71</title>\n<path fill=\"none\" stroke=\"black\" d=\"M910.72,-87.61C895.79,-74.92 874.91,-57.17 858.12,-42.9\"/>\n<polygon fill=\"black\" stroke=\"black\" points=\"860.14,-40.02 850.25,-36.21 855.6,-45.36 860.14,-40.02\"/>\n<text text-anchor=\"middle\" x=\"894.5\" y=\"-57.8\" font-family=\"Times,serif\" font-size=\"14.00\">No</text>\n</g>\n<!-- 72 -->\n<g id=\"node73\" class=\"node\">\n<title>72</title>\n<polygon fill=\"none\" stroke=\"red\" points=\"970,-36 890,-36 890,0 970,0 970,-36\"/>\n<text text-anchor=\"middle\" x=\"930\" y=\"-14.3\" font-family=\"Times,serif\" font-size=\"14.00\">val = 0.040</text>\n</g>\n<!-- 35&#45;&gt;72 -->\n<g id=\"edge72\" class=\"edge\">\n<title>35&#45;&gt;72</title>\n<path fill=\"none\" stroke=\"black\" d=\"M930,-86.8C930,-75.16 930,-59.55 930,-46.24\"/>\n<polygon fill=\"black\" stroke=\"black\" points=\"933.5,-46.18 930,-36.18 926.5,-46.18 933.5,-46.18\"/>\n<text text-anchor=\"middle\" x=\"940.5\" y=\"-57.8\" font-family=\"Times,serif\" font-size=\"14.00\">Yes</text>\n</g>\n<!-- 73 -->\n<g id=\"node74\" class=\"node\">\n<title>73</title>\n<polygon fill=\"none\" stroke=\"red\" points=\"1068,-36 988,-36 988,0 1068,0 1068,-36\"/>\n<text text-anchor=\"middle\" x=\"1028\" y=\"-14.3\" font-family=\"Times,serif\" font-size=\"14.00\">val = 0.040</text>\n</g>\n<!-- 36&#45;&gt;73 -->\n<g id=\"edge73\" class=\"edge\">\n<title>36&#45;&gt;73</title>\n<path fill=\"none\" stroke=\"black\" d=\"M1073.74,-87.21C1065.59,-75.06 1054.44,-58.43 1045.19,-44.63\"/>\n<polygon fill=\"black\" stroke=\"black\" points=\"1047.91,-42.41 1039.43,-36.05 1042.1,-46.3 1047.91,-42.41\"/>\n<text text-anchor=\"middle\" x=\"1068.5\" y=\"-57.8\" font-family=\"Times,serif\" font-size=\"14.00\">No</text>\n</g>\n<!-- 74 -->\n<g id=\"node75\" class=\"node\">\n<title>74</title>\n<polygon fill=\"none\" stroke=\"red\" points=\"1166,-36 1086,-36 1086,0 1166,0 1166,-36\"/>\n<text text-anchor=\"middle\" x=\"1126\" y=\"-14.3\" font-family=\"Times,serif\" font-size=\"14.00\">val = 0.000</text>\n</g>\n<!-- 36&#45;&gt;74 -->\n<g id=\"edge74\" class=\"edge\">\n<title>36&#45;&gt;74</title>\n<path fill=\"none\" stroke=\"black\" d=\"M1093.3,-86.8C1099.02,-74.93 1106.74,-58.93 1113.24,-45.45\"/>\n<polygon fill=\"black\" stroke=\"black\" points=\"1116.52,-46.7 1117.72,-36.18 1110.22,-43.66 1116.52,-46.7\"/>\n<text text-anchor=\"middle\" x=\"1118.5\" y=\"-57.8\" font-family=\"Times,serif\" font-size=\"14.00\">Yes</text>\n</g>\n<!-- 75 -->\n<g id=\"node76\" class=\"node\">\n<title>75</title>\n<polygon fill=\"none\" stroke=\"red\" points=\"1264,-36 1184,-36 1184,0 1264,0 1264,-36\"/>\n<text text-anchor=\"middle\" x=\"1224\" y=\"-14.3\" font-family=\"Times,serif\" font-size=\"14.00\">val = 0.017</text>\n</g>\n<!-- 37&#45;&gt;75 -->\n<g id=\"edge75\" class=\"edge\">\n<title>37&#45;&gt;75</title>\n<path fill=\"none\" stroke=\"black\" d=\"M1247.13,-86.8C1243.12,-75.05 1237.73,-59.24 1233.16,-45.84\"/>\n<polygon fill=\"black\" stroke=\"black\" points=\"1236.4,-44.51 1229.86,-36.18 1229.78,-46.77 1236.4,-44.51\"/>\n<text text-anchor=\"middle\" x=\"1249.5\" y=\"-57.8\" font-family=\"Times,serif\" font-size=\"14.00\">No</text>\n</g>\n<!-- 76 -->\n<g id=\"node77\" class=\"node\">\n<title>76</title>\n<polygon fill=\"none\" stroke=\"red\" points=\"1362,-36 1282,-36 1282,0 1362,0 1362,-36\"/>\n<text text-anchor=\"middle\" x=\"1322\" y=\"-14.3\" font-family=\"Times,serif\" font-size=\"14.00\">val = 0.000</text>\n</g>\n<!-- 37&#45;&gt;76 -->\n<g id=\"edge76\" class=\"edge\">\n<title>37&#45;&gt;76</title>\n<path fill=\"none\" stroke=\"black\" d=\"M1266.63,-87.21C1276.68,-74.83 1290.51,-57.8 1301.83,-43.85\"/>\n<polygon fill=\"black\" stroke=\"black\" points=\"1304.57,-46.02 1308.16,-36.05 1299.14,-41.61 1304.57,-46.02\"/>\n<text text-anchor=\"middle\" x=\"1302.5\" y=\"-57.8\" font-family=\"Times,serif\" font-size=\"14.00\">Yes</text>\n</g>\n<!-- 77 -->\n<g id=\"node78\" class=\"node\">\n<title>77</title>\n<polygon fill=\"none\" stroke=\"red\" points=\"1460,-36 1380,-36 1380,0 1460,0 1460,-36\"/>\n<text text-anchor=\"middle\" x=\"1420\" y=\"-14.3\" font-family=\"Times,serif\" font-size=\"14.00\">val = 0.000</text>\n</g>\n<!-- 38&#45;&gt;77 -->\n<g id=\"edge77\" class=\"edge\">\n<title>38&#45;&gt;77</title>\n<path fill=\"none\" stroke=\"black\" d=\"M1420,-86.8C1420,-75.16 1420,-59.55 1420,-46.24\"/>\n<polygon fill=\"black\" stroke=\"black\" points=\"1423.5,-46.18 1420,-36.18 1416.5,-46.18 1423.5,-46.18\"/>\n<text text-anchor=\"middle\" x=\"1428.5\" y=\"-57.8\" font-family=\"Times,serif\" font-size=\"14.00\">No</text>\n</g>\n<!-- 78 -->\n<g id=\"node79\" class=\"node\">\n<title>78</title>\n<polygon fill=\"none\" stroke=\"red\" points=\"1558,-36 1478,-36 1478,0 1558,0 1558,-36\"/>\n<text text-anchor=\"middle\" x=\"1518\" y=\"-14.3\" font-family=\"Times,serif\" font-size=\"14.00\">val = 0.000</text>\n</g>\n<!-- 38&#45;&gt;78 -->\n<g id=\"edge78\" class=\"edge\">\n<title>38&#45;&gt;78</title>\n<path fill=\"none\" stroke=\"black\" d=\"M1438.9,-87.61C1453.52,-74.92 1473.99,-57.17 1490.44,-42.9\"/>\n<polygon fill=\"black\" stroke=\"black\" points=\"1492.89,-45.41 1498.15,-36.21 1488.31,-40.12 1492.89,-45.41\"/>\n<text text-anchor=\"middle\" x=\"1485.5\" y=\"-57.8\" font-family=\"Times,serif\" font-size=\"14.00\">Yes</text>\n</g>\n<!-- 79 -->\n<g id=\"node80\" class=\"node\">\n<title>79</title>\n<polygon fill=\"none\" stroke=\"red\" points=\"1656,-36 1576,-36 1576,0 1656,0 1656,-36\"/>\n<text text-anchor=\"middle\" x=\"1616\" y=\"-14.3\" font-family=\"Times,serif\" font-size=\"14.00\">val = 0.004</text>\n</g>\n<!-- 39&#45;&gt;79 -->\n<g id=\"edge79\" class=\"edge\">\n<title>39&#45;&gt;79</title>\n<path fill=\"none\" stroke=\"black\" d=\"M1695.1,-87.61C1680.48,-74.92 1660.01,-57.17 1643.56,-42.9\"/>\n<polygon fill=\"black\" stroke=\"black\" points=\"1645.69,-40.12 1635.85,-36.21 1641.11,-45.41 1645.69,-40.12\"/>\n<text text-anchor=\"middle\" x=\"1679.5\" y=\"-57.8\" font-family=\"Times,serif\" font-size=\"14.00\">No</text>\n</g>\n<!-- 80 -->\n<g id=\"node81\" class=\"node\">\n<title>80</title>\n<polygon fill=\"none\" stroke=\"red\" points=\"1754,-36 1674,-36 1674,0 1754,0 1754,-36\"/>\n<text text-anchor=\"middle\" x=\"1714\" y=\"-14.3\" font-family=\"Times,serif\" font-size=\"14.00\">val = 0.027</text>\n</g>\n<!-- 39&#45;&gt;80 -->\n<g id=\"edge80\" class=\"edge\">\n<title>39&#45;&gt;80</title>\n<path fill=\"none\" stroke=\"black\" d=\"M1714,-86.8C1714,-75.16 1714,-59.55 1714,-46.24\"/>\n<polygon fill=\"black\" stroke=\"black\" points=\"1717.5,-46.18 1714,-36.18 1710.5,-46.18 1717.5,-46.18\"/>\n<text text-anchor=\"middle\" x=\"1724.5\" y=\"-57.8\" font-family=\"Times,serif\" font-size=\"14.00\">Yes</text>\n</g>\n<!-- 81 -->\n<g id=\"node82\" class=\"node\">\n<title>81</title>\n<polygon fill=\"none\" stroke=\"red\" points=\"1852,-36 1772,-36 1772,0 1852,0 1852,-36\"/>\n<text text-anchor=\"middle\" x=\"1812\" y=\"-14.3\" font-family=\"Times,serif\" font-size=\"14.00\">val = 0.000</text>\n</g>\n<!-- 40&#45;&gt;81 -->\n<g id=\"edge81\" class=\"edge\">\n<title>40&#45;&gt;81</title>\n<path fill=\"none\" stroke=\"black\" d=\"M1867.37,-87.21C1857.32,-74.83 1843.49,-57.8 1832.17,-43.85\"/>\n<polygon fill=\"black\" stroke=\"black\" points=\"1834.86,-41.61 1825.84,-36.05 1829.43,-46.02 1834.86,-41.61\"/>\n<text text-anchor=\"middle\" x=\"1859.5\" y=\"-57.8\" font-family=\"Times,serif\" font-size=\"14.00\">No</text>\n</g>\n<!-- 82 -->\n<g id=\"node83\" class=\"node\">\n<title>82</title>\n<polygon fill=\"none\" stroke=\"red\" points=\"1950,-36 1870,-36 1870,0 1950,0 1950,-36\"/>\n<text text-anchor=\"middle\" x=\"1910\" y=\"-14.3\" font-family=\"Times,serif\" font-size=\"14.00\">val = 0.000</text>\n</g>\n<!-- 40&#45;&gt;82 -->\n<g id=\"edge82\" class=\"edge\">\n<title>40&#45;&gt;82</title>\n<path fill=\"none\" stroke=\"black\" d=\"M1886.87,-86.8C1890.88,-75.05 1896.27,-59.24 1900.84,-45.84\"/>\n<polygon fill=\"black\" stroke=\"black\" points=\"1904.22,-46.77 1904.14,-36.18 1897.6,-44.51 1904.22,-46.77\"/>\n<text text-anchor=\"middle\" x=\"1908.5\" y=\"-57.8\" font-family=\"Times,serif\" font-size=\"14.00\">Yes</text>\n</g>\n<!-- 83 -->\n<g id=\"node84\" class=\"node\">\n<title>83</title>\n<polygon fill=\"none\" stroke=\"red\" points=\"2048,-36 1968,-36 1968,0 2048,0 2048,-36\"/>\n<text text-anchor=\"middle\" x=\"2008\" y=\"-14.3\" font-family=\"Times,serif\" font-size=\"14.00\">val = 0.000</text>\n</g>\n<!-- 41&#45;&gt;83 -->\n<g id=\"edge83\" class=\"edge\">\n<title>41&#45;&gt;83</title>\n<path fill=\"none\" stroke=\"black\" d=\"M2063.37,-87.21C2053.32,-74.83 2039.49,-57.8 2028.17,-43.85\"/>\n<polygon fill=\"black\" stroke=\"black\" points=\"2030.86,-41.61 2021.84,-36.05 2025.43,-46.02 2030.86,-41.61\"/>\n<text text-anchor=\"middle\" x=\"2055.5\" y=\"-57.8\" font-family=\"Times,serif\" font-size=\"14.00\">No</text>\n</g>\n<!-- 84 -->\n<g id=\"node85\" class=\"node\">\n<title>84</title>\n<polygon fill=\"none\" stroke=\"red\" points=\"2146,-36 2066,-36 2066,0 2146,0 2146,-36\"/>\n<text text-anchor=\"middle\" x=\"2106\" y=\"-14.3\" font-family=\"Times,serif\" font-size=\"14.00\">val = 0.000</text>\n</g>\n<!-- 41&#45;&gt;84 -->\n<g id=\"edge84\" class=\"edge\">\n<title>41&#45;&gt;84</title>\n<path fill=\"none\" stroke=\"black\" d=\"M2082.87,-86.8C2086.88,-75.05 2092.27,-59.24 2096.84,-45.84\"/>\n<polygon fill=\"black\" stroke=\"black\" points=\"2100.22,-46.77 2100.14,-36.18 2093.6,-44.51 2100.22,-46.77\"/>\n<text text-anchor=\"middle\" x=\"2104.5\" y=\"-57.8\" font-family=\"Times,serif\" font-size=\"14.00\">Yes</text>\n</g>\n<!-- 85 -->\n<g id=\"node86\" class=\"node\">\n<title>85</title>\n<polygon fill=\"none\" stroke=\"red\" points=\"2244,-36 2164,-36 2164,0 2244,0 2244,-36\"/>\n<text text-anchor=\"middle\" x=\"2204\" y=\"-14.3\" font-family=\"Times,serif\" font-size=\"14.00\">val = 0.000</text>\n</g>\n<!-- 42&#45;&gt;85 -->\n<g id=\"edge85\" class=\"edge\">\n<title>42&#45;&gt;85</title>\n<path fill=\"none\" stroke=\"black\" d=\"M2212.77,-86.8C2211.27,-75.16 2209.25,-59.55 2207.52,-46.24\"/>\n<polygon fill=\"black\" stroke=\"black\" points=\"2210.98,-45.64 2206.22,-36.18 2204.04,-46.54 2210.98,-45.64\"/>\n<text text-anchor=\"middle\" x=\"2219.5\" y=\"-57.8\" font-family=\"Times,serif\" font-size=\"14.00\">No</text>\n</g>\n<!-- 86 -->\n<g id=\"node87\" class=\"node\">\n<title>86</title>\n<polygon fill=\"none\" stroke=\"red\" points=\"2342,-36 2262,-36 2262,0 2342,0 2342,-36\"/>\n<text text-anchor=\"middle\" x=\"2302\" y=\"-14.3\" font-family=\"Times,serif\" font-size=\"14.00\">val = 0.000</text>\n</g>\n<!-- 42&#45;&gt;86 -->\n<g id=\"edge86\" class=\"edge\">\n<title>42&#45;&gt;86</title>\n<path fill=\"none\" stroke=\"black\" d=\"M2231.77,-87.61C2244.64,-75.04 2262.6,-57.49 2277.14,-43.29\"/>\n<polygon fill=\"black\" stroke=\"black\" points=\"2279.67,-45.71 2284.38,-36.21 2274.78,-40.7 2279.67,-45.71\"/>\n<text text-anchor=\"middle\" x=\"2274.5\" y=\"-57.8\" font-family=\"Times,serif\" font-size=\"14.00\">Yes</text>\n</g>\n<!-- 87 -->\n<g id=\"node88\" class=\"node\">\n<title>87</title>\n<polygon fill=\"none\" stroke=\"red\" points=\"2440,-36 2360,-36 2360,0 2440,0 2440,-36\"/>\n<text text-anchor=\"middle\" x=\"2400\" y=\"-14.3\" font-family=\"Times,serif\" font-size=\"14.00\">val = 0.000</text>\n</g>\n<!-- 43&#45;&gt;87 -->\n<g id=\"edge87\" class=\"edge\">\n<title>43&#45;&gt;87</title>\n<path fill=\"none\" stroke=\"black\" d=\"M2467,-87.61C2454.83,-75.16 2437.9,-57.81 2424.1,-43.68\"/>\n<polygon fill=\"black\" stroke=\"black\" points=\"2426.3,-40.92 2416.81,-36.21 2421.29,-45.81 2426.3,-40.92\"/>\n<text text-anchor=\"middle\" x=\"2455.5\" y=\"-57.8\" font-family=\"Times,serif\" font-size=\"14.00\">No</text>\n</g>\n<!-- 88 -->\n<g id=\"node89\" class=\"node\">\n<title>88</title>\n<polygon fill=\"none\" stroke=\"red\" points=\"2538,-36 2458,-36 2458,0 2538,0 2538,-36\"/>\n<text text-anchor=\"middle\" x=\"2498\" y=\"-14.3\" font-family=\"Times,serif\" font-size=\"14.00\">val = 0.027</text>\n</g>\n<!-- 43&#45;&gt;88 -->\n<g id=\"edge88\" class=\"edge\">\n<title>43&#45;&gt;88</title>\n<path fill=\"none\" stroke=\"black\" d=\"M2486.04,-86.8C2488.09,-75.16 2490.84,-59.55 2493.19,-46.24\"/>\n<polygon fill=\"black\" stroke=\"black\" points=\"2496.68,-46.63 2494.97,-36.18 2489.78,-45.41 2496.68,-46.63\"/>\n<text text-anchor=\"middle\" x=\"2502.5\" y=\"-57.8\" font-family=\"Times,serif\" font-size=\"14.00\">Yes</text>\n</g>\n<!-- 89 -->\n<g id=\"node90\" class=\"node\">\n<title>89</title>\n<polygon fill=\"none\" stroke=\"red\" points=\"2636,-36 2556,-36 2556,0 2636,0 2636,-36\"/>\n<text text-anchor=\"middle\" x=\"2596\" y=\"-14.3\" font-family=\"Times,serif\" font-size=\"14.00\">val = 0.000</text>\n</g>\n<!-- 44&#45;&gt;89 -->\n<g id=\"edge89\" class=\"edge\">\n<title>44&#45;&gt;89</title>\n<path fill=\"none\" stroke=\"black\" d=\"M2615.94,-86.8C2612.48,-75.05 2607.83,-59.24 2603.89,-45.84\"/>\n<polygon fill=\"black\" stroke=\"black\" points=\"2607.23,-44.78 2601.05,-36.18 2600.52,-46.76 2607.23,-44.78\"/>\n<text text-anchor=\"middle\" x=\"2618.5\" y=\"-57.8\" font-family=\"Times,serif\" font-size=\"14.00\">No</text>\n</g>\n<!-- 90 -->\n<g id=\"node91\" class=\"node\">\n<title>90</title>\n<polygon fill=\"none\" stroke=\"red\" points=\"2734,-36 2654,-36 2654,0 2734,0 2734,-36\"/>\n<text text-anchor=\"middle\" x=\"2694\" y=\"-14.3\" font-family=\"Times,serif\" font-size=\"14.00\">val = 0.000</text>\n</g>\n<!-- 44&#45;&gt;90 -->\n<g id=\"edge90\" class=\"edge\">\n<title>44&#45;&gt;90</title>\n<path fill=\"none\" stroke=\"black\" d=\"M2635.42,-87.21C2646.05,-74.83 2660.68,-57.8 2672.66,-43.85\"/>\n<polygon fill=\"black\" stroke=\"black\" points=\"2675.5,-45.92 2679.36,-36.05 2670.19,-41.36 2675.5,-45.92\"/>\n<text text-anchor=\"middle\" x=\"2672.5\" y=\"-57.8\" font-family=\"Times,serif\" font-size=\"14.00\">Yes</text>\n</g>\n<!-- 91 -->\n<g id=\"node92\" class=\"node\">\n<title>91</title>\n<polygon fill=\"none\" stroke=\"red\" points=\"2832,-36 2752,-36 2752,0 2832,0 2832,-36\"/>\n<text text-anchor=\"middle\" x=\"2792\" y=\"-14.3\" font-family=\"Times,serif\" font-size=\"14.00\">val = 0.000</text>\n</g>\n<!-- 45&#45;&gt;91 -->\n<g id=\"edge91\" class=\"edge\">\n<title>45&#45;&gt;91</title>\n<path fill=\"none\" stroke=\"black\" d=\"M2815.13,-86.8C2811.12,-75.05 2805.73,-59.24 2801.16,-45.84\"/>\n<polygon fill=\"black\" stroke=\"black\" points=\"2804.4,-44.51 2797.86,-36.18 2797.78,-46.77 2804.4,-44.51\"/>\n<text text-anchor=\"middle\" x=\"2817.5\" y=\"-57.8\" font-family=\"Times,serif\" font-size=\"14.00\">No</text>\n</g>\n<!-- 92 -->\n<g id=\"node93\" class=\"node\">\n<title>92</title>\n<polygon fill=\"none\" stroke=\"red\" points=\"2930,-36 2850,-36 2850,0 2930,0 2930,-36\"/>\n<text text-anchor=\"middle\" x=\"2890\" y=\"-14.3\" font-family=\"Times,serif\" font-size=\"14.00\">val = 0.000</text>\n</g>\n<!-- 45&#45;&gt;92 -->\n<g id=\"edge92\" class=\"edge\">\n<title>45&#45;&gt;92</title>\n<path fill=\"none\" stroke=\"black\" d=\"M2834.63,-87.21C2844.68,-74.83 2858.51,-57.8 2869.83,-43.85\"/>\n<polygon fill=\"black\" stroke=\"black\" points=\"2872.57,-46.02 2876.16,-36.05 2867.14,-41.61 2872.57,-46.02\"/>\n<text text-anchor=\"middle\" x=\"2870.5\" y=\"-57.8\" font-family=\"Times,serif\" font-size=\"14.00\">Yes</text>\n</g>\n<!-- 93 -->\n<g id=\"node94\" class=\"node\">\n<title>93</title>\n<polygon fill=\"none\" stroke=\"red\" points=\"3028,-36 2948,-36 2948,0 3028,0 3028,-36\"/>\n<text text-anchor=\"middle\" x=\"2988\" y=\"-14.3\" font-family=\"Times,serif\" font-size=\"14.00\">val = 0.000</text>\n</g>\n<!-- 46&#45;&gt;93 -->\n<g id=\"edge93\" class=\"edge\">\n<title>46&#45;&gt;93</title>\n<path fill=\"none\" stroke=\"black\" d=\"M2988,-86.8C2988,-75.16 2988,-59.55 2988,-46.24\"/>\n<polygon fill=\"black\" stroke=\"black\" points=\"2991.5,-46.18 2988,-36.18 2984.5,-46.18 2991.5,-46.18\"/>\n<text text-anchor=\"middle\" x=\"2996.5\" y=\"-57.8\" font-family=\"Times,serif\" font-size=\"14.00\">No</text>\n</g>\n<!-- 94 -->\n<g id=\"node95\" class=\"node\">\n<title>94</title>\n<polygon fill=\"none\" stroke=\"red\" points=\"3126,-36 3046,-36 3046,0 3126,0 3126,-36\"/>\n<text text-anchor=\"middle\" x=\"3086\" y=\"-14.3\" font-family=\"Times,serif\" font-size=\"14.00\">val = 0.000</text>\n</g>\n<!-- 46&#45;&gt;94 -->\n<g id=\"edge94\" class=\"edge\">\n<title>46&#45;&gt;94</title>\n<path fill=\"none\" stroke=\"black\" d=\"M3006.9,-87.61C3021.52,-74.92 3041.99,-57.17 3058.44,-42.9\"/>\n<polygon fill=\"black\" stroke=\"black\" points=\"3060.89,-45.41 3066.15,-36.21 3056.31,-40.12 3060.89,-45.41\"/>\n<text text-anchor=\"middle\" x=\"3053.5\" y=\"-57.8\" font-family=\"Times,serif\" font-size=\"14.00\">Yes</text>\n</g>\n<!-- 95 -->\n<g id=\"node96\" class=\"node\">\n<title>95</title>\n<polygon fill=\"none\" stroke=\"red\" points=\"3228,-36 3144,-36 3144,0 3228,0 3228,-36\"/>\n<text text-anchor=\"middle\" x=\"3186\" y=\"-14.3\" font-family=\"Times,serif\" font-size=\"14.00\">val = &#45;0.006</text>\n</g>\n<!-- 47&#45;&gt;95 -->\n<g id=\"edge95\" class=\"edge\">\n<title>47&#45;&gt;95</title>\n<path fill=\"none\" stroke=\"black\" d=\"M3266.72,-87.61C3251.79,-74.92 3230.91,-57.17 3214.12,-42.9\"/>\n<polygon fill=\"black\" stroke=\"black\" points=\"3216.14,-40.02 3206.25,-36.21 3211.6,-45.36 3216.14,-40.02\"/>\n<text text-anchor=\"middle\" x=\"3250.5\" y=\"-57.8\" font-family=\"Times,serif\" font-size=\"14.00\">No</text>\n</g>\n<!-- 96 -->\n<g id=\"node97\" class=\"node\">\n<title>96</title>\n<polygon fill=\"none\" stroke=\"red\" points=\"3326,-36 3246,-36 3246,0 3326,0 3326,-36\"/>\n<text text-anchor=\"middle\" x=\"3286\" y=\"-14.3\" font-family=\"Times,serif\" font-size=\"14.00\">val = 0.000</text>\n</g>\n<!-- 47&#45;&gt;96 -->\n<g id=\"edge96\" class=\"edge\">\n<title>47&#45;&gt;96</title>\n<path fill=\"none\" stroke=\"black\" d=\"M3286,-86.8C3286,-75.16 3286,-59.55 3286,-46.24\"/>\n<polygon fill=\"black\" stroke=\"black\" points=\"3289.5,-46.18 3286,-36.18 3282.5,-46.18 3289.5,-46.18\"/>\n<text text-anchor=\"middle\" x=\"3296.5\" y=\"-57.8\" font-family=\"Times,serif\" font-size=\"14.00\">Yes</text>\n</g>\n<!-- 97 -->\n<g id=\"node98\" class=\"node\">\n<title>97</title>\n<polygon fill=\"none\" stroke=\"red\" points=\"3424,-36 3344,-36 3344,0 3424,0 3424,-36\"/>\n<text text-anchor=\"middle\" x=\"3384\" y=\"-14.3\" font-family=\"Times,serif\" font-size=\"14.00\">val = 0.000</text>\n</g>\n<!-- 48&#45;&gt;97 -->\n<g id=\"edge97\" class=\"edge\">\n<title>48&#45;&gt;97</title>\n<path fill=\"none\" stroke=\"black\" d=\"M3439.37,-87.21C3429.32,-74.83 3415.49,-57.8 3404.17,-43.85\"/>\n<polygon fill=\"black\" stroke=\"black\" points=\"3406.86,-41.61 3397.84,-36.05 3401.43,-46.02 3406.86,-41.61\"/>\n<text text-anchor=\"middle\" x=\"3431.5\" y=\"-57.8\" font-family=\"Times,serif\" font-size=\"14.00\">No</text>\n</g>\n<!-- 98 -->\n<g id=\"node99\" class=\"node\">\n<title>98</title>\n<polygon fill=\"none\" stroke=\"red\" points=\"3522,-36 3442,-36 3442,0 3522,0 3522,-36\"/>\n<text text-anchor=\"middle\" x=\"3482\" y=\"-14.3\" font-family=\"Times,serif\" font-size=\"14.00\">val = 0.000</text>\n</g>\n<!-- 48&#45;&gt;98 -->\n<g id=\"edge98\" class=\"edge\">\n<title>48&#45;&gt;98</title>\n<path fill=\"none\" stroke=\"black\" d=\"M3458.87,-86.8C3462.88,-75.05 3468.27,-59.24 3472.84,-45.84\"/>\n<polygon fill=\"black\" stroke=\"black\" points=\"3476.22,-46.77 3476.14,-36.18 3469.6,-44.51 3476.22,-46.77\"/>\n<text text-anchor=\"middle\" x=\"3480.5\" y=\"-57.8\" font-family=\"Times,serif\" font-size=\"14.00\">Yes</text>\n</g>\n<!-- 99 -->\n<g id=\"node100\" class=\"node\">\n<title>99</title>\n<polygon fill=\"none\" stroke=\"red\" points=\"3620,-36 3540,-36 3540,0 3620,0 3620,-36\"/>\n<text text-anchor=\"middle\" x=\"3580\" y=\"-14.3\" font-family=\"Times,serif\" font-size=\"14.00\">val = 0.000</text>\n</g>\n<!-- 49&#45;&gt;99 -->\n<g id=\"edge99\" class=\"edge\">\n<title>49&#45;&gt;99</title>\n<path fill=\"none\" stroke=\"black\" d=\"M3642.59,-87.21C3631.13,-74.72 3615.31,-57.48 3602.44,-43.46\"/>\n<polygon fill=\"black\" stroke=\"black\" points=\"3604.99,-41.05 3595.65,-36.05 3599.83,-45.78 3604.99,-41.05\"/>\n<text text-anchor=\"middle\" x=\"3632.5\" y=\"-57.8\" font-family=\"Times,serif\" font-size=\"14.00\">No</text>\n</g>\n<!-- 100 -->\n<g id=\"node101\" class=\"node\">\n<title>100</title>\n<polygon fill=\"none\" stroke=\"red\" points=\"3718,-36 3638,-36 3638,0 3718,0 3718,-36\"/>\n<text text-anchor=\"middle\" x=\"3678\" y=\"-14.3\" font-family=\"Times,serif\" font-size=\"14.00\">val = 0.000</text>\n</g>\n<!-- 49&#45;&gt;100 -->\n<g id=\"edge100\" class=\"edge\">\n<title>49&#45;&gt;100</title>\n<path fill=\"none\" stroke=\"black\" d=\"M3662.05,-86.8C3664.79,-75.16 3668.46,-59.55 3671.59,-46.24\"/>\n<polygon fill=\"black\" stroke=\"black\" points=\"3675.08,-46.71 3673.96,-36.18 3668.26,-45.11 3675.08,-46.71\"/>\n<text text-anchor=\"middle\" x=\"3680.5\" y=\"-57.8\" font-family=\"Times,serif\" font-size=\"14.00\">Yes</text>\n</g>\n<!-- 101 -->\n<g id=\"node102\" class=\"node\">\n<title>101</title>\n<polygon fill=\"none\" stroke=\"red\" points=\"3816,-36 3736,-36 3736,0 3816,0 3816,-36\"/>\n<text text-anchor=\"middle\" x=\"3776\" y=\"-14.3\" font-family=\"Times,serif\" font-size=\"14.00\">val = 0.000</text>\n</g>\n<!-- 50&#45;&gt;101 -->\n<g id=\"edge101\" class=\"edge\">\n<title>50&#45;&gt;101</title>\n<path fill=\"none\" stroke=\"black\" d=\"M3791.95,-86.8C3789.21,-75.16 3785.54,-59.55 3782.41,-46.24\"/>\n<polygon fill=\"black\" stroke=\"black\" points=\"3785.74,-45.11 3780.04,-36.18 3778.92,-46.71 3785.74,-45.11\"/>\n<text text-anchor=\"middle\" x=\"3796.5\" y=\"-57.8\" font-family=\"Times,serif\" font-size=\"14.00\">No</text>\n</g>\n<!-- 102 -->\n<g id=\"node103\" class=\"node\">\n<title>102</title>\n<polygon fill=\"none\" stroke=\"red\" points=\"3914,-36 3834,-36 3834,0 3914,0 3914,-36\"/>\n<text text-anchor=\"middle\" x=\"3874\" y=\"-14.3\" font-family=\"Times,serif\" font-size=\"14.00\">val = 0.000</text>\n</g>\n<!-- 50&#45;&gt;102 -->\n<g id=\"edge102\" class=\"edge\">\n<title>50&#45;&gt;102</title>\n<path fill=\"none\" stroke=\"black\" d=\"M3811.41,-87.21C3822.87,-74.72 3838.69,-57.48 3851.56,-43.46\"/>\n<polygon fill=\"black\" stroke=\"black\" points=\"3854.17,-45.78 3858.35,-36.05 3849.01,-41.05 3854.17,-45.78\"/>\n<text text-anchor=\"middle\" x=\"3850.5\" y=\"-57.8\" font-family=\"Times,serif\" font-size=\"14.00\">Yes</text>\n</g>\n<!-- 103 -->\n<g id=\"node104\" class=\"node\">\n<title>103</title>\n<polygon fill=\"none\" stroke=\"red\" points=\"4016,-36 3932,-36 3932,0 4016,0 4016,-36\"/>\n<text text-anchor=\"middle\" x=\"3974\" y=\"-14.3\" font-family=\"Times,serif\" font-size=\"14.00\">val = &#45;0.005</text>\n</g>\n<!-- 51&#45;&gt;103 -->\n<g id=\"edge103\" class=\"edge\">\n<title>51&#45;&gt;103</title>\n<path fill=\"none\" stroke=\"black\" d=\"M4049.07,-87.61C4035.31,-75.04 4016.12,-57.49 4000.58,-43.29\"/>\n<polygon fill=\"black\" stroke=\"black\" points=\"4002.58,-40.38 3992.83,-36.21 3997.85,-45.54 4002.58,-40.38\"/>\n<text text-anchor=\"middle\" x=\"4035.5\" y=\"-57.8\" font-family=\"Times,serif\" font-size=\"14.00\">No</text>\n</g>\n<!-- 104 -->\n<g id=\"node105\" class=\"node\">\n<title>104</title>\n<polygon fill=\"none\" stroke=\"red\" points=\"4114,-36 4034,-36 4034,0 4114,0 4114,-36\"/>\n<text text-anchor=\"middle\" x=\"4074\" y=\"-14.3\" font-family=\"Times,serif\" font-size=\"14.00\">val = 0.000</text>\n</g>\n<!-- 51&#45;&gt;104 -->\n<g id=\"edge104\" class=\"edge\">\n<title>51&#45;&gt;104</title>\n<path fill=\"none\" stroke=\"black\" d=\"M4068.42,-86.8C4069.37,-75.16 4070.66,-59.55 4071.76,-46.24\"/>\n<polygon fill=\"black\" stroke=\"black\" points=\"4075.25,-46.43 4072.59,-36.18 4068.28,-45.85 4075.25,-46.43\"/>\n<text text-anchor=\"middle\" x=\"4081.5\" y=\"-57.8\" font-family=\"Times,serif\" font-size=\"14.00\">Yes</text>\n</g>\n<!-- 105 -->\n<g id=\"node106\" class=\"node\">\n<title>105</title>\n<polygon fill=\"none\" stroke=\"red\" points=\"4212,-36 4132,-36 4132,0 4212,0 4212,-36\"/>\n<text text-anchor=\"middle\" x=\"4172\" y=\"-14.3\" font-family=\"Times,serif\" font-size=\"14.00\">val = 0.000</text>\n</g>\n<!-- 52&#45;&gt;105 -->\n<g id=\"edge105\" class=\"edge\">\n<title>52&#45;&gt;105</title>\n<path fill=\"none\" stroke=\"black\" d=\"M4198.32,-86.8C4193.76,-75.05 4187.62,-59.24 4182.42,-45.84\"/>\n<polygon fill=\"black\" stroke=\"black\" points=\"4185.55,-44.23 4178.67,-36.18 4179.02,-46.76 4185.55,-44.23\"/>\n<text text-anchor=\"middle\" x=\"4199.5\" y=\"-57.8\" font-family=\"Times,serif\" font-size=\"14.00\">No</text>\n</g>\n<!-- 106 -->\n<g id=\"node107\" class=\"node\">\n<title>106</title>\n<polygon fill=\"none\" stroke=\"red\" points=\"4310,-36 4230,-36 4230,0 4310,0 4310,-36\"/>\n<text text-anchor=\"middle\" x=\"4270\" y=\"-14.3\" font-family=\"Times,serif\" font-size=\"14.00\">val = 0.000</text>\n</g>\n<!-- 52&#45;&gt;106 -->\n<g id=\"edge106\" class=\"edge\">\n<title>52&#45;&gt;106</title>\n<path fill=\"none\" stroke=\"black\" d=\"M4217.84,-87.21C4227.22,-74.95 4240.09,-58.11 4250.7,-44.24\"/>\n<polygon fill=\"black\" stroke=\"black\" points=\"4253.67,-46.12 4256.96,-36.05 4248.11,-41.87 4253.67,-46.12\"/>\n<text text-anchor=\"middle\" x=\"4252.5\" y=\"-57.8\" font-family=\"Times,serif\" font-size=\"14.00\">Yes</text>\n</g>\n<!-- 107 -->\n<g id=\"node108\" class=\"node\">\n<title>107</title>\n<polygon fill=\"none\" stroke=\"red\" points=\"4408,-36 4328,-36 4328,0 4408,0 4408,-36\"/>\n<text text-anchor=\"middle\" x=\"4368\" y=\"-14.3\" font-family=\"Times,serif\" font-size=\"14.00\">val = 0.004</text>\n</g>\n<!-- 53&#45;&gt;107 -->\n<g id=\"edge107\" class=\"edge\">\n<title>53&#45;&gt;107</title>\n<path fill=\"none\" stroke=\"black\" d=\"M4391.13,-86.8C4387.12,-75.05 4381.73,-59.24 4377.16,-45.84\"/>\n<polygon fill=\"black\" stroke=\"black\" points=\"4380.4,-44.51 4373.86,-36.18 4373.78,-46.77 4380.4,-44.51\"/>\n<text text-anchor=\"middle\" x=\"4393.5\" y=\"-57.8\" font-family=\"Times,serif\" font-size=\"14.00\">No</text>\n</g>\n<!-- 108 -->\n<g id=\"node109\" class=\"node\">\n<title>108</title>\n<polygon fill=\"none\" stroke=\"red\" points=\"4506,-36 4426,-36 4426,0 4506,0 4506,-36\"/>\n<text text-anchor=\"middle\" x=\"4466\" y=\"-14.3\" font-family=\"Times,serif\" font-size=\"14.00\">val = 0.000</text>\n</g>\n<!-- 53&#45;&gt;108 -->\n<g id=\"edge108\" class=\"edge\">\n<title>53&#45;&gt;108</title>\n<path fill=\"none\" stroke=\"black\" d=\"M4410.63,-87.21C4420.68,-74.83 4434.51,-57.8 4445.83,-43.85\"/>\n<polygon fill=\"black\" stroke=\"black\" points=\"4448.57,-46.02 4452.16,-36.05 4443.14,-41.61 4448.57,-46.02\"/>\n<text text-anchor=\"middle\" x=\"4446.5\" y=\"-57.8\" font-family=\"Times,serif\" font-size=\"14.00\">Yes</text>\n</g>\n<!-- 109 -->\n<g id=\"node110\" class=\"node\">\n<title>109</title>\n<polygon fill=\"none\" stroke=\"red\" points=\"4604,-36 4524,-36 4524,0 4604,0 4604,-36\"/>\n<text text-anchor=\"middle\" x=\"4564\" y=\"-14.3\" font-family=\"Times,serif\" font-size=\"14.00\">val = 0.000</text>\n</g>\n<!-- 54&#45;&gt;109 -->\n<g id=\"edge109\" class=\"edge\">\n<title>54&#45;&gt;109</title>\n<path fill=\"none\" stroke=\"black\" d=\"M4564,-86.8C4564,-75.16 4564,-59.55 4564,-46.24\"/>\n<polygon fill=\"black\" stroke=\"black\" points=\"4567.5,-46.18 4564,-36.18 4560.5,-46.18 4567.5,-46.18\"/>\n<text text-anchor=\"middle\" x=\"4572.5\" y=\"-57.8\" font-family=\"Times,serif\" font-size=\"14.00\">No</text>\n</g>\n<!-- 110 -->\n<g id=\"node111\" class=\"node\">\n<title>110</title>\n<polygon fill=\"none\" stroke=\"red\" points=\"4702,-36 4622,-36 4622,0 4702,0 4702,-36\"/>\n<text text-anchor=\"middle\" x=\"4662\" y=\"-14.3\" font-family=\"Times,serif\" font-size=\"14.00\">val = 0.000</text>\n</g>\n<!-- 54&#45;&gt;110 -->\n<g id=\"edge110\" class=\"edge\">\n<title>54&#45;&gt;110</title>\n<path fill=\"none\" stroke=\"black\" d=\"M4582.9,-87.61C4597.52,-74.92 4617.99,-57.17 4634.44,-42.9\"/>\n<polygon fill=\"black\" stroke=\"black\" points=\"4636.89,-45.41 4642.15,-36.21 4632.31,-40.12 4636.89,-45.41\"/>\n<text text-anchor=\"middle\" x=\"4629.5\" y=\"-57.8\" font-family=\"Times,serif\" font-size=\"14.00\">Yes</text>\n</g>\n<!-- 111 -->\n<g id=\"node112\" class=\"node\">\n<title>111</title>\n<polygon fill=\"none\" stroke=\"red\" points=\"4800,-36 4720,-36 4720,0 4800,0 4800,-36\"/>\n<text text-anchor=\"middle\" x=\"4760\" y=\"-14.3\" font-family=\"Times,serif\" font-size=\"14.00\">val = 0.000</text>\n</g>\n<!-- 55&#45;&gt;111 -->\n<g id=\"edge111\" class=\"edge\">\n<title>55&#45;&gt;111</title>\n<path fill=\"none\" stroke=\"black\" d=\"M4839.1,-87.61C4824.48,-74.92 4804.01,-57.17 4787.56,-42.9\"/>\n<polygon fill=\"black\" stroke=\"black\" points=\"4789.69,-40.12 4779.85,-36.21 4785.11,-45.41 4789.69,-40.12\"/>\n<text text-anchor=\"middle\" x=\"4823.5\" y=\"-57.8\" font-family=\"Times,serif\" font-size=\"14.00\">No</text>\n</g>\n<!-- 112 -->\n<g id=\"node113\" class=\"node\">\n<title>112</title>\n<polygon fill=\"none\" stroke=\"red\" points=\"4898,-36 4818,-36 4818,0 4898,0 4898,-36\"/>\n<text text-anchor=\"middle\" x=\"4858\" y=\"-14.3\" font-family=\"Times,serif\" font-size=\"14.00\">val = 0.000</text>\n</g>\n<!-- 55&#45;&gt;112 -->\n<g id=\"edge112\" class=\"edge\">\n<title>55&#45;&gt;112</title>\n<path fill=\"none\" stroke=\"black\" d=\"M4858,-86.8C4858,-75.16 4858,-59.55 4858,-46.24\"/>\n<polygon fill=\"black\" stroke=\"black\" points=\"4861.5,-46.18 4858,-36.18 4854.5,-46.18 4861.5,-46.18\"/>\n<text text-anchor=\"middle\" x=\"4868.5\" y=\"-57.8\" font-family=\"Times,serif\" font-size=\"14.00\">Yes</text>\n</g>\n<!-- 113 -->\n<g id=\"node114\" class=\"node\">\n<title>113</title>\n<polygon fill=\"none\" stroke=\"red\" points=\"4996,-36 4916,-36 4916,0 4996,0 4996,-36\"/>\n<text text-anchor=\"middle\" x=\"4956\" y=\"-14.3\" font-family=\"Times,serif\" font-size=\"14.00\">val = 0.000</text>\n</g>\n<!-- 56&#45;&gt;113 -->\n<g id=\"edge113\" class=\"edge\">\n<title>56&#45;&gt;113</title>\n<path fill=\"none\" stroke=\"black\" d=\"M5011.37,-87.21C5001.32,-74.83 4987.49,-57.8 4976.17,-43.85\"/>\n<polygon fill=\"black\" stroke=\"black\" points=\"4978.86,-41.61 4969.84,-36.05 4973.43,-46.02 4978.86,-41.61\"/>\n<text text-anchor=\"middle\" x=\"5003.5\" y=\"-57.8\" font-family=\"Times,serif\" font-size=\"14.00\">No</text>\n</g>\n<!-- 114 -->\n<g id=\"node115\" class=\"node\">\n<title>114</title>\n<polygon fill=\"none\" stroke=\"red\" points=\"5094,-36 5014,-36 5014,0 5094,0 5094,-36\"/>\n<text text-anchor=\"middle\" x=\"5054\" y=\"-14.3\" font-family=\"Times,serif\" font-size=\"14.00\">val = 0.000</text>\n</g>\n<!-- 56&#45;&gt;114 -->\n<g id=\"edge114\" class=\"edge\">\n<title>56&#45;&gt;114</title>\n<path fill=\"none\" stroke=\"black\" d=\"M5030.87,-86.8C5034.88,-75.05 5040.27,-59.24 5044.84,-45.84\"/>\n<polygon fill=\"black\" stroke=\"black\" points=\"5048.22,-46.77 5048.14,-36.18 5041.6,-44.51 5048.22,-46.77\"/>\n<text text-anchor=\"middle\" x=\"5052.5\" y=\"-57.8\" font-family=\"Times,serif\" font-size=\"14.00\">Yes</text>\n</g>\n<!-- 115 -->\n<g id=\"node116\" class=\"node\">\n<title>115</title>\n<polygon fill=\"none\" stroke=\"red\" points=\"5192,-36 5112,-36 5112,0 5192,0 5192,-36\"/>\n<text text-anchor=\"middle\" x=\"5152\" y=\"-14.3\" font-family=\"Times,serif\" font-size=\"14.00\">val = 0.000</text>\n</g>\n<!-- 57&#45;&gt;115 -->\n<g id=\"edge115\" class=\"edge\">\n<title>57&#45;&gt;115</title>\n<path fill=\"none\" stroke=\"black\" d=\"M5191.32,-87.21C5184.38,-75.18 5174.91,-58.75 5167,-45.03\"/>\n<polygon fill=\"black\" stroke=\"black\" points=\"5169.86,-42.96 5161.83,-36.05 5163.79,-46.46 5169.86,-42.96\"/>\n<text text-anchor=\"middle\" x=\"5188.5\" y=\"-57.8\" font-family=\"Times,serif\" font-size=\"14.00\">No</text>\n</g>\n<!-- 116 -->\n<g id=\"node117\" class=\"node\">\n<title>116</title>\n<polygon fill=\"none\" stroke=\"red\" points=\"5290,-36 5210,-36 5210,0 5290,0 5290,-36\"/>\n<text text-anchor=\"middle\" x=\"5250\" y=\"-14.3\" font-family=\"Times,serif\" font-size=\"14.00\">val = 0.000</text>\n</g>\n<!-- 57&#45;&gt;116 -->\n<g id=\"edge116\" class=\"edge\">\n<title>57&#45;&gt;116</title>\n<path fill=\"none\" stroke=\"black\" d=\"M5210.68,-87.21C5217.62,-75.18 5227.09,-58.75 5235,-45.03\"/>\n<polygon fill=\"black\" stroke=\"black\" points=\"5238.21,-46.46 5240.17,-36.05 5232.14,-42.96 5238.21,-46.46\"/>\n<text text-anchor=\"middle\" x=\"5239.5\" y=\"-57.8\" font-family=\"Times,serif\" font-size=\"14.00\">Yes</text>\n</g>\n<!-- 117 -->\n<g id=\"node118\" class=\"node\">\n<title>117</title>\n<polygon fill=\"none\" stroke=\"red\" points=\"5388,-36 5308,-36 5308,0 5388,0 5388,-36\"/>\n<text text-anchor=\"middle\" x=\"5348\" y=\"-14.3\" font-family=\"Times,serif\" font-size=\"14.00\">val = 0.000</text>\n</g>\n<!-- 58&#45;&gt;117 -->\n<g id=\"edge117\" class=\"edge\">\n<title>58&#45;&gt;117</title>\n<path fill=\"none\" stroke=\"black\" d=\"M5348,-86.8C5348,-75.16 5348,-59.55 5348,-46.24\"/>\n<polygon fill=\"black\" stroke=\"black\" points=\"5351.5,-46.18 5348,-36.18 5344.5,-46.18 5351.5,-46.18\"/>\n<text text-anchor=\"middle\" x=\"5356.5\" y=\"-57.8\" font-family=\"Times,serif\" font-size=\"14.00\">No</text>\n</g>\n<!-- 118 -->\n<g id=\"node119\" class=\"node\">\n<title>118</title>\n<polygon fill=\"none\" stroke=\"red\" points=\"5486,-36 5406,-36 5406,0 5486,0 5486,-36\"/>\n<text text-anchor=\"middle\" x=\"5446\" y=\"-14.3\" font-family=\"Times,serif\" font-size=\"14.00\">val = 0.000</text>\n</g>\n<!-- 58&#45;&gt;118 -->\n<g id=\"edge118\" class=\"edge\">\n<title>58&#45;&gt;118</title>\n<path fill=\"none\" stroke=\"black\" d=\"M5366.9,-87.61C5381.52,-74.92 5401.99,-57.17 5418.44,-42.9\"/>\n<polygon fill=\"black\" stroke=\"black\" points=\"5420.89,-45.41 5426.15,-36.21 5416.31,-40.12 5420.89,-45.41\"/>\n<text text-anchor=\"middle\" x=\"5413.5\" y=\"-57.8\" font-family=\"Times,serif\" font-size=\"14.00\">Yes</text>\n</g>\n<!-- 119 -->\n<g id=\"node120\" class=\"node\">\n<title>119</title>\n<polygon fill=\"none\" stroke=\"red\" points=\"5584,-36 5504,-36 5504,0 5584,0 5584,-36\"/>\n<text text-anchor=\"middle\" x=\"5544\" y=\"-14.3\" font-family=\"Times,serif\" font-size=\"14.00\">val = 0.000</text>\n</g>\n<!-- 59&#45;&gt;119 -->\n<g id=\"edge119\" class=\"edge\">\n<title>59&#45;&gt;119</title>\n<path fill=\"none\" stroke=\"black\" d=\"M5606.59,-87.21C5595.13,-74.72 5579.31,-57.48 5566.44,-43.46\"/>\n<polygon fill=\"black\" stroke=\"black\" points=\"5568.99,-41.05 5559.65,-36.05 5563.83,-45.78 5568.99,-41.05\"/>\n<text text-anchor=\"middle\" x=\"5596.5\" y=\"-57.8\" font-family=\"Times,serif\" font-size=\"14.00\">No</text>\n</g>\n<!-- 120 -->\n<g id=\"node121\" class=\"node\">\n<title>120</title>\n<polygon fill=\"none\" stroke=\"red\" points=\"5682,-36 5602,-36 5602,0 5682,0 5682,-36\"/>\n<text text-anchor=\"middle\" x=\"5642\" y=\"-14.3\" font-family=\"Times,serif\" font-size=\"14.00\">val = 0.000</text>\n</g>\n<!-- 59&#45;&gt;120 -->\n<g id=\"edge120\" class=\"edge\">\n<title>59&#45;&gt;120</title>\n<path fill=\"none\" stroke=\"black\" d=\"M5626.05,-86.8C5628.79,-75.16 5632.46,-59.55 5635.59,-46.24\"/>\n<polygon fill=\"black\" stroke=\"black\" points=\"5639.08,-46.71 5637.96,-36.18 5632.26,-45.11 5639.08,-46.71\"/>\n<text text-anchor=\"middle\" x=\"5644.5\" y=\"-57.8\" font-family=\"Times,serif\" font-size=\"14.00\">Yes</text>\n</g>\n<!-- 121 -->\n<g id=\"node122\" class=\"node\">\n<title>121</title>\n<polygon fill=\"none\" stroke=\"red\" points=\"5780,-36 5700,-36 5700,0 5780,0 5780,-36\"/>\n<text text-anchor=\"middle\" x=\"5740\" y=\"-14.3\" font-family=\"Times,serif\" font-size=\"14.00\">val = 0.000</text>\n</g>\n<!-- 60&#45;&gt;121 -->\n<g id=\"edge121\" class=\"edge\">\n<title>60&#45;&gt;121</title>\n<path fill=\"none\" stroke=\"black\" d=\"M5755.95,-86.8C5753.21,-75.16 5749.54,-59.55 5746.41,-46.24\"/>\n<polygon fill=\"black\" stroke=\"black\" points=\"5749.74,-45.11 5744.04,-36.18 5742.92,-46.71 5749.74,-45.11\"/>\n<text text-anchor=\"middle\" x=\"5760.5\" y=\"-57.8\" font-family=\"Times,serif\" font-size=\"14.00\">No</text>\n</g>\n<!-- 122 -->\n<g id=\"node123\" class=\"node\">\n<title>122</title>\n<polygon fill=\"none\" stroke=\"red\" points=\"5878,-36 5798,-36 5798,0 5878,0 5878,-36\"/>\n<text text-anchor=\"middle\" x=\"5838\" y=\"-14.3\" font-family=\"Times,serif\" font-size=\"14.00\">val = 0.000</text>\n</g>\n<!-- 60&#45;&gt;122 -->\n<g id=\"edge122\" class=\"edge\">\n<title>60&#45;&gt;122</title>\n<path fill=\"none\" stroke=\"black\" d=\"M5775.41,-87.21C5786.87,-74.72 5802.69,-57.48 5815.56,-43.46\"/>\n<polygon fill=\"black\" stroke=\"black\" points=\"5818.17,-45.78 5822.35,-36.05 5813.01,-41.05 5818.17,-45.78\"/>\n<text text-anchor=\"middle\" x=\"5814.5\" y=\"-57.8\" font-family=\"Times,serif\" font-size=\"14.00\">Yes</text>\n</g>\n<!-- 123 -->\n<g id=\"node124\" class=\"node\">\n<title>123</title>\n<polygon fill=\"none\" stroke=\"red\" points=\"5976,-36 5896,-36 5896,0 5976,0 5976,-36\"/>\n<text text-anchor=\"middle\" x=\"5936\" y=\"-14.3\" font-family=\"Times,serif\" font-size=\"14.00\">val = 0.000</text>\n</g>\n<!-- 61&#45;&gt;123 -->\n<g id=\"edge123\" class=\"edge\">\n<title>61&#45;&gt;123</title>\n<path fill=\"none\" stroke=\"black\" d=\"M5959.13,-86.8C5955.12,-75.05 5949.73,-59.24 5945.16,-45.84\"/>\n<polygon fill=\"black\" stroke=\"black\" points=\"5948.4,-44.51 5941.86,-36.18 5941.78,-46.77 5948.4,-44.51\"/>\n<text text-anchor=\"middle\" x=\"5961.5\" y=\"-57.8\" font-family=\"Times,serif\" font-size=\"14.00\">No</text>\n</g>\n<!-- 124 -->\n<g id=\"node125\" class=\"node\">\n<title>124</title>\n<polygon fill=\"none\" stroke=\"red\" points=\"6074,-36 5994,-36 5994,0 6074,0 6074,-36\"/>\n<text text-anchor=\"middle\" x=\"6034\" y=\"-14.3\" font-family=\"Times,serif\" font-size=\"14.00\">val = 0.000</text>\n</g>\n<!-- 61&#45;&gt;124 -->\n<g id=\"edge124\" class=\"edge\">\n<title>61&#45;&gt;124</title>\n<path fill=\"none\" stroke=\"black\" d=\"M5978.63,-87.21C5988.68,-74.83 6002.51,-57.8 6013.83,-43.85\"/>\n<polygon fill=\"black\" stroke=\"black\" points=\"6016.57,-46.02 6020.16,-36.05 6011.14,-41.61 6016.57,-46.02\"/>\n<text text-anchor=\"middle\" x=\"6014.5\" y=\"-57.8\" font-family=\"Times,serif\" font-size=\"14.00\">Yes</text>\n</g>\n<!-- 125 -->\n<g id=\"node126\" class=\"node\">\n<title>125</title>\n<polygon fill=\"none\" stroke=\"red\" points=\"6172,-36 6092,-36 6092,0 6172,0 6172,-36\"/>\n<text text-anchor=\"middle\" x=\"6132\" y=\"-14.3\" font-family=\"Times,serif\" font-size=\"14.00\">val = 0.000</text>\n</g>\n<!-- 62&#45;&gt;125 -->\n<g id=\"edge125\" class=\"edge\">\n<title>62&#45;&gt;125</title>\n<path fill=\"none\" stroke=\"black\" d=\"M6132,-86.8C6132,-75.16 6132,-59.55 6132,-46.24\"/>\n<polygon fill=\"black\" stroke=\"black\" points=\"6135.5,-46.18 6132,-36.18 6128.5,-46.18 6135.5,-46.18\"/>\n<text text-anchor=\"middle\" x=\"6140.5\" y=\"-57.8\" font-family=\"Times,serif\" font-size=\"14.00\">No</text>\n</g>\n<!-- 126 -->\n<g id=\"node127\" class=\"node\">\n<title>126</title>\n<polygon fill=\"none\" stroke=\"red\" points=\"6270,-36 6190,-36 6190,0 6270,0 6270,-36\"/>\n<text text-anchor=\"middle\" x=\"6230\" y=\"-14.3\" font-family=\"Times,serif\" font-size=\"14.00\">val = 0.000</text>\n</g>\n<!-- 62&#45;&gt;126 -->\n<g id=\"edge126\" class=\"edge\">\n<title>62&#45;&gt;126</title>\n<path fill=\"none\" stroke=\"black\" d=\"M6150.9,-87.61C6165.52,-74.92 6185.99,-57.17 6202.44,-42.9\"/>\n<polygon fill=\"black\" stroke=\"black\" points=\"6204.89,-45.41 6210.15,-36.21 6200.31,-40.12 6204.89,-45.41\"/>\n<text text-anchor=\"middle\" x=\"6197.5\" y=\"-57.8\" font-family=\"Times,serif\" font-size=\"14.00\">Yes</text>\n</g>\n</g>\n</svg>\n",
            "text/plain": [
              "<graphviz.graphs.Digraph at 0x7fe5ea8a5f90>"
            ]
          },
          "metadata": {},
          "execution_count": 103
        }
      ],
      "source": [
        "catbm.plot_tree(tree_idx=0)"
      ]
    },
    {
      "cell_type": "markdown",
      "metadata": {
        "id": "kS0v3Mqo-LmG"
      },
      "source": [
        "#### Boosting iper parametri\n",
        "\n",
        "Proviamo a vedere ora se riusciamo ad ottenre un valore ancora migliore attraverso un **boosting**, in particolare andiamo a toccare:\n",
        "* `learning_rate`\n",
        "* `depth`\n",
        "* `iterations`"
      ]
    },
    {
      "cell_type": "code",
      "execution_count": 104,
      "metadata": {
        "id": "gus0e5mC5fL7",
        "colab": {
          "base_uri": "https://localhost:8080/"
        },
        "outputId": "7c30510f-8c0e-471c-b898-7e44fbf34c67"
      },
      "outputs": [
        {
          "output_type": "stream",
          "name": "stdout",
          "text": [
            "             Migliori iperparametri per CatBoost : {'learning_rate': 0.1, 'max_depth': 3, 'n_estimators': 200}\n",
            "Punteggio medio di cross-validation per CatBoost :       0.9873\n",
            " \n",
            "\n"
          ]
        }
      ],
      "source": [
        "param_grid = {\n",
        "    'learning_rate': [0.1, 0.01, 0.001],\n",
        "    'depth': [3, 5, 7],\n",
        "    'iterations': [100, 500, 1000]\n",
        "}\n",
        "cbmc = CatBoostClassifier(verbose=0)\n",
        "\n",
        "gscv = boosting_hyperparameters(classifier=cbmc, params=params_grid, X_boosting=None,  y_boosting=None, name=\"CatBoost\") "
      ]
    },
    {
      "cell_type": "markdown",
      "metadata": {
        "id": "WRXvOhXQwXXy"
      },
      "source": [
        "In questo caso il valore che otteniamo dopo il **boosting** arriva a sfiorare un valore vicino a 0.99, toccando quasi la \"perfezione\" risultando quindi il migliore tra i modelli precedenti. Proviamo ora invece a sviluppare dei modelli di *classificazione*. "
      ]
    },
    {
      "cell_type": "markdown",
      "metadata": {
        "id": "0lL6F1hRN6HG"
      },
      "source": [
        "### Modelli di Classificazione\n",
        "Per i modelli di classificazione, per mantenere il numero delle classi di `NSP` costanti all'interno di ogni fold, è necessario utilizzare una `StratifiedKFold`.\n"
      ]
    },
    {
      "cell_type": "code",
      "execution_count": 105,
      "metadata": {
        "id": "Wlmi8WPWN7I7"
      },
      "outputs": [],
      "source": [
        "skf = StratifiedKFold(3, shuffle=True, random_state=1926)"
      ]
    },
    {
      "cell_type": "markdown",
      "metadata": {
        "id": "GgIQctS-ePZf"
      },
      "source": [
        "Aggiungiamo questa linea di codice per evitare che gli output si riempiano di `FeatureWarning`"
      ]
    },
    {
      "cell_type": "code",
      "execution_count": 106,
      "metadata": {
        "id": "G01bKLK7eWoQ"
      },
      "outputs": [],
      "source": [
        "def warn(*args, **kwargs):\n",
        "    pass\n",
        "import warnings\n",
        "warnings.warn = warn"
      ]
    },
    {
      "cell_type": "markdown",
      "metadata": {
        "id": "tNvDL4CoODU5"
      },
      "source": [
        "A questo punto possiamo definire una funzione per poter agevolmente calcolare i risultati della Cross Validation di modelli di classificazione."
      ]
    },
    {
      "cell_type": "code",
      "execution_count": 107,
      "metadata": {
        "id": "jtcoE7ATOAT4"
      },
      "outputs": [],
      "source": [
        "def grid_search_class(model, grid, X_train, y_train, cv=skf):\n",
        "    gs = GridSearchCV(model, grid, cv=cv)\n",
        "    gs.fit(X_train, y_train)\n",
        "    return (\n",
        "        gs,\n",
        "        pd.DataFrame(gs.cv_results_).sort_values('mean_test_score', ascending=False).head()\n",
        "    )"
      ]
    },
    {
      "cell_type": "markdown",
      "metadata": {
        "id": "FFAzKG5KOHOD"
      },
      "source": [
        "##### Classificazione Lineare\n",
        "Inizialmente testiamo un modello di classificazione molto semplice di classificazione Lineare, avvalendoci dell'algoritmo di apprendimento `Perceptron`."
      ]
    },
    {
      "cell_type": "code",
      "execution_count": 108,
      "metadata": {
        "id": "etzyn4UiOKEQ",
        "colab": {
          "base_uri": "https://localhost:8080/"
        },
        "outputId": "9ba9d614-f5b9-4f21-eea8-09e3856b487c"
      },
      "outputs": [
        {
          "output_type": "execute_result",
          "data": {
            "text/plain": [
              "0.24259520451339917"
            ]
          },
          "metadata": {},
          "execution_count": 108
        }
      ],
      "source": [
        "from sklearn.linear_model import Perceptron\n",
        "model = Perceptron(random_state=1926)\n",
        "\n",
        "model.fit(X_train, y_train)\n",
        "model.score(X_test, y_test)"
      ]
    },
    {
      "cell_type": "markdown",
      "metadata": {
        "id": "Ls4uLjw4OmxP"
      },
      "source": [
        "Per i modelli di classificazione, è importante adottare misurazioni differenti. In questo caso è interessante controllare lo stato della **_Confusion Matrix_**, e per la valutazione possiamo usare `f1_score`, ovvero la media armonica tra le misure `recall` e `precision`, entrambe misure ricavate dall'accuratezza di predizioni di classe dalla *confusion matrix*."
      ]
    },
    {
      "cell_type": "code",
      "execution_count": 109,
      "metadata": {
        "id": "3PGFN6uIQpZ9"
      },
      "outputs": [],
      "source": [
        "from sklearn.metrics import confusion_matrix, precision_score, recall_score, f1_score\n",
        "\n",
        "labels = { 1: 'Normal', 2: 'Suspect', 3: 'Pathological' }\n",
        "\n",
        "def get_confusion_matrix(model, y_true, y_pred, normalize=None):\n",
        "    cm = pd.DataFrame(\n",
        "        confusion_matrix(y_true, y_pred, normalize=normalize),\n",
        "        index=model.classes_, columns=model.classes_\n",
        "    )\n",
        "\n",
        "    cm.index = [ labels[i] for i in cm.index ]\n",
        "    cm.columns = [ labels[i] for i in cm.columns ]\n",
        "    return cm\n",
        "\n",
        "def get_percentage_cm(cm: pd.DataFrame)-> pd.DataFrame:\n",
        "    return (cm * 100).round(2).astype(str) + '%'\n",
        "\n",
        "def get_coefficients_frame(gs, idx):\n",
        "    return pd.DataFrame(\n",
        "        {\n",
        "            \"Normal\": gs.best_estimator_['regr'].coef_[0],\n",
        "            \"Suspect\": gs.best_estimator_['regr'].coef_[1],\n",
        "            \"Pathological\": gs.best_estimator_['regr'].coef_[2],\n",
        "        }, index=idx\n",
        "    )\n",
        "\n",
        "def print_f1_score(score):\n",
        "    print(f\"F1 Score: {score:5.4f}\")\n",
        "\n",
        "def get_f1_score(model, y_test, X_test):\n",
        "    return f1_score(y_test, model.predict(X_test), average='macro')"
      ]
    },
    {
      "cell_type": "code",
      "execution_count": 110,
      "metadata": {
        "id": "fl95t00GTsy-",
        "colab": {
          "base_uri": "https://localhost:8080/",
          "height": 143
        },
        "outputId": "f65a7e55-aeff-4476-aae5-77d5948c972f"
      },
      "outputs": [
        {
          "output_type": "execute_result",
          "data": {
            "text/plain": [
              "              Normal  Suspect  Pathological\n",
              "Normal            68      482             2\n",
              "Suspect            1       96             1\n",
              "Pathological       0       51             8"
            ],
            "text/html": [
              "\n",
              "  <div id=\"df-0e4f525b-1e7d-4f5d-917c-65fe97522157\">\n",
              "    <div class=\"colab-df-container\">\n",
              "      <div>\n",
              "<style scoped>\n",
              "    .dataframe tbody tr th:only-of-type {\n",
              "        vertical-align: middle;\n",
              "    }\n",
              "\n",
              "    .dataframe tbody tr th {\n",
              "        vertical-align: top;\n",
              "    }\n",
              "\n",
              "    .dataframe thead th {\n",
              "        text-align: right;\n",
              "    }\n",
              "</style>\n",
              "<table border=\"1\" class=\"dataframe\">\n",
              "  <thead>\n",
              "    <tr style=\"text-align: right;\">\n",
              "      <th></th>\n",
              "      <th>Normal</th>\n",
              "      <th>Suspect</th>\n",
              "      <th>Pathological</th>\n",
              "    </tr>\n",
              "  </thead>\n",
              "  <tbody>\n",
              "    <tr>\n",
              "      <th>Normal</th>\n",
              "      <td>68</td>\n",
              "      <td>482</td>\n",
              "      <td>2</td>\n",
              "    </tr>\n",
              "    <tr>\n",
              "      <th>Suspect</th>\n",
              "      <td>1</td>\n",
              "      <td>96</td>\n",
              "      <td>1</td>\n",
              "    </tr>\n",
              "    <tr>\n",
              "      <th>Pathological</th>\n",
              "      <td>0</td>\n",
              "      <td>51</td>\n",
              "      <td>8</td>\n",
              "    </tr>\n",
              "  </tbody>\n",
              "</table>\n",
              "</div>\n",
              "      <button class=\"colab-df-convert\" onclick=\"convertToInteractive('df-0e4f525b-1e7d-4f5d-917c-65fe97522157')\"\n",
              "              title=\"Convert this dataframe to an interactive table.\"\n",
              "              style=\"display:none;\">\n",
              "        \n",
              "  <svg xmlns=\"http://www.w3.org/2000/svg\" height=\"24px\"viewBox=\"0 0 24 24\"\n",
              "       width=\"24px\">\n",
              "    <path d=\"M0 0h24v24H0V0z\" fill=\"none\"/>\n",
              "    <path d=\"M18.56 5.44l.94 2.06.94-2.06 2.06-.94-2.06-.94-.94-2.06-.94 2.06-2.06.94zm-11 1L8.5 8.5l.94-2.06 2.06-.94-2.06-.94L8.5 2.5l-.94 2.06-2.06.94zm10 10l.94 2.06.94-2.06 2.06-.94-2.06-.94-.94-2.06-.94 2.06-2.06.94z\"/><path d=\"M17.41 7.96l-1.37-1.37c-.4-.4-.92-.59-1.43-.59-.52 0-1.04.2-1.43.59L10.3 9.45l-7.72 7.72c-.78.78-.78 2.05 0 2.83L4 21.41c.39.39.9.59 1.41.59.51 0 1.02-.2 1.41-.59l7.78-7.78 2.81-2.81c.8-.78.8-2.07 0-2.86zM5.41 20L4 18.59l7.72-7.72 1.47 1.35L5.41 20z\"/>\n",
              "  </svg>\n",
              "      </button>\n",
              "      \n",
              "  <style>\n",
              "    .colab-df-container {\n",
              "      display:flex;\n",
              "      flex-wrap:wrap;\n",
              "      gap: 12px;\n",
              "    }\n",
              "\n",
              "    .colab-df-convert {\n",
              "      background-color: #E8F0FE;\n",
              "      border: none;\n",
              "      border-radius: 50%;\n",
              "      cursor: pointer;\n",
              "      display: none;\n",
              "      fill: #1967D2;\n",
              "      height: 32px;\n",
              "      padding: 0 0 0 0;\n",
              "      width: 32px;\n",
              "    }\n",
              "\n",
              "    .colab-df-convert:hover {\n",
              "      background-color: #E2EBFA;\n",
              "      box-shadow: 0px 1px 2px rgba(60, 64, 67, 0.3), 0px 1px 3px 1px rgba(60, 64, 67, 0.15);\n",
              "      fill: #174EA6;\n",
              "    }\n",
              "\n",
              "    [theme=dark] .colab-df-convert {\n",
              "      background-color: #3B4455;\n",
              "      fill: #D2E3FC;\n",
              "    }\n",
              "\n",
              "    [theme=dark] .colab-df-convert:hover {\n",
              "      background-color: #434B5C;\n",
              "      box-shadow: 0px 1px 3px 1px rgba(0, 0, 0, 0.15);\n",
              "      filter: drop-shadow(0px 1px 2px rgba(0, 0, 0, 0.3));\n",
              "      fill: #FFFFFF;\n",
              "    }\n",
              "  </style>\n",
              "\n",
              "      <script>\n",
              "        const buttonEl =\n",
              "          document.querySelector('#df-0e4f525b-1e7d-4f5d-917c-65fe97522157 button.colab-df-convert');\n",
              "        buttonEl.style.display =\n",
              "          google.colab.kernel.accessAllowed ? 'block' : 'none';\n",
              "\n",
              "        async function convertToInteractive(key) {\n",
              "          const element = document.querySelector('#df-0e4f525b-1e7d-4f5d-917c-65fe97522157');\n",
              "          const dataTable =\n",
              "            await google.colab.kernel.invokeFunction('convertToInteractive',\n",
              "                                                     [key], {});\n",
              "          if (!dataTable) return;\n",
              "\n",
              "          const docLinkHtml = 'Like what you see? Visit the ' +\n",
              "            '<a target=\"_blank\" href=https://colab.research.google.com/notebooks/data_table.ipynb>data table notebook</a>'\n",
              "            + ' to learn more about interactive tables.';\n",
              "          element.innerHTML = '';\n",
              "          dataTable['output_type'] = 'display_data';\n",
              "          await google.colab.output.renderOutput(dataTable, element);\n",
              "          const docLink = document.createElement('div');\n",
              "          docLink.innerHTML = docLinkHtml;\n",
              "          element.appendChild(docLink);\n",
              "        }\n",
              "      </script>\n",
              "    </div>\n",
              "  </div>\n",
              "  "
            ]
          },
          "metadata": {},
          "execution_count": 110
        }
      ],
      "source": [
        "get_confusion_matrix(model, y_test, model.predict(X_test))"
      ]
    },
    {
      "cell_type": "code",
      "execution_count": 111,
      "metadata": {
        "id": "O38poXN-ciIG",
        "colab": {
          "base_uri": "https://localhost:8080/"
        },
        "outputId": "9f766890-2f04-41a3-d5c1-b244d6b2c249"
      },
      "outputs": [
        {
          "output_type": "stream",
          "name": "stdout",
          "text": [
            "F1 Score: 0.2372\n"
          ]
        }
      ],
      "source": [
        "print_f1_score(get_f1_score(model, y_test, X_test))"
      ]
    },
    {
      "cell_type": "markdown",
      "metadata": {
        "id": "LsT-5rWbWwye"
      },
      "source": [
        "La *confusion matrix* rispecchia la conformazione del dataset, ovvero che lo sbilanciamento delle classi di `NSP` porta inevitabilmente ad uno squilibrio nella predizione di classi. In questo caso, il modello `Perceptron` per sopperire allo sbilianciamento di record con classi `Suspect` e `Patological`, mostra risultati perggiori nella classe `Normal` e una piuttosto forte inclinazione verso `Pathological`.\n",
        "\n",
        "Potrebbe essere più d'aiuto visualizzare i dati in percentuale.\n"
      ]
    },
    {
      "cell_type": "code",
      "execution_count": 112,
      "metadata": {
        "id": "7NYCWkzTXHW-",
        "colab": {
          "base_uri": "https://localhost:8080/",
          "height": 143
        },
        "outputId": "ed39029e-d87f-47f5-fc93-97a2c42de9de"
      },
      "outputs": [
        {
          "output_type": "execute_result",
          "data": {
            "text/plain": [
              "              Normal Suspect Pathological\n",
              "Normal        12.32%  87.32%        0.36%\n",
              "Suspect        1.02%  97.96%        1.02%\n",
              "Pathological    0.0%  86.44%       13.56%"
            ],
            "text/html": [
              "\n",
              "  <div id=\"df-77bddb55-fb52-496d-ba12-23598f2e1ca0\">\n",
              "    <div class=\"colab-df-container\">\n",
              "      <div>\n",
              "<style scoped>\n",
              "    .dataframe tbody tr th:only-of-type {\n",
              "        vertical-align: middle;\n",
              "    }\n",
              "\n",
              "    .dataframe tbody tr th {\n",
              "        vertical-align: top;\n",
              "    }\n",
              "\n",
              "    .dataframe thead th {\n",
              "        text-align: right;\n",
              "    }\n",
              "</style>\n",
              "<table border=\"1\" class=\"dataframe\">\n",
              "  <thead>\n",
              "    <tr style=\"text-align: right;\">\n",
              "      <th></th>\n",
              "      <th>Normal</th>\n",
              "      <th>Suspect</th>\n",
              "      <th>Pathological</th>\n",
              "    </tr>\n",
              "  </thead>\n",
              "  <tbody>\n",
              "    <tr>\n",
              "      <th>Normal</th>\n",
              "      <td>12.32%</td>\n",
              "      <td>87.32%</td>\n",
              "      <td>0.36%</td>\n",
              "    </tr>\n",
              "    <tr>\n",
              "      <th>Suspect</th>\n",
              "      <td>1.02%</td>\n",
              "      <td>97.96%</td>\n",
              "      <td>1.02%</td>\n",
              "    </tr>\n",
              "    <tr>\n",
              "      <th>Pathological</th>\n",
              "      <td>0.0%</td>\n",
              "      <td>86.44%</td>\n",
              "      <td>13.56%</td>\n",
              "    </tr>\n",
              "  </tbody>\n",
              "</table>\n",
              "</div>\n",
              "      <button class=\"colab-df-convert\" onclick=\"convertToInteractive('df-77bddb55-fb52-496d-ba12-23598f2e1ca0')\"\n",
              "              title=\"Convert this dataframe to an interactive table.\"\n",
              "              style=\"display:none;\">\n",
              "        \n",
              "  <svg xmlns=\"http://www.w3.org/2000/svg\" height=\"24px\"viewBox=\"0 0 24 24\"\n",
              "       width=\"24px\">\n",
              "    <path d=\"M0 0h24v24H0V0z\" fill=\"none\"/>\n",
              "    <path d=\"M18.56 5.44l.94 2.06.94-2.06 2.06-.94-2.06-.94-.94-2.06-.94 2.06-2.06.94zm-11 1L8.5 8.5l.94-2.06 2.06-.94-2.06-.94L8.5 2.5l-.94 2.06-2.06.94zm10 10l.94 2.06.94-2.06 2.06-.94-2.06-.94-.94-2.06-.94 2.06-2.06.94z\"/><path d=\"M17.41 7.96l-1.37-1.37c-.4-.4-.92-.59-1.43-.59-.52 0-1.04.2-1.43.59L10.3 9.45l-7.72 7.72c-.78.78-.78 2.05 0 2.83L4 21.41c.39.39.9.59 1.41.59.51 0 1.02-.2 1.41-.59l7.78-7.78 2.81-2.81c.8-.78.8-2.07 0-2.86zM5.41 20L4 18.59l7.72-7.72 1.47 1.35L5.41 20z\"/>\n",
              "  </svg>\n",
              "      </button>\n",
              "      \n",
              "  <style>\n",
              "    .colab-df-container {\n",
              "      display:flex;\n",
              "      flex-wrap:wrap;\n",
              "      gap: 12px;\n",
              "    }\n",
              "\n",
              "    .colab-df-convert {\n",
              "      background-color: #E8F0FE;\n",
              "      border: none;\n",
              "      border-radius: 50%;\n",
              "      cursor: pointer;\n",
              "      display: none;\n",
              "      fill: #1967D2;\n",
              "      height: 32px;\n",
              "      padding: 0 0 0 0;\n",
              "      width: 32px;\n",
              "    }\n",
              "\n",
              "    .colab-df-convert:hover {\n",
              "      background-color: #E2EBFA;\n",
              "      box-shadow: 0px 1px 2px rgba(60, 64, 67, 0.3), 0px 1px 3px 1px rgba(60, 64, 67, 0.15);\n",
              "      fill: #174EA6;\n",
              "    }\n",
              "\n",
              "    [theme=dark] .colab-df-convert {\n",
              "      background-color: #3B4455;\n",
              "      fill: #D2E3FC;\n",
              "    }\n",
              "\n",
              "    [theme=dark] .colab-df-convert:hover {\n",
              "      background-color: #434B5C;\n",
              "      box-shadow: 0px 1px 3px 1px rgba(0, 0, 0, 0.15);\n",
              "      filter: drop-shadow(0px 1px 2px rgba(0, 0, 0, 0.3));\n",
              "      fill: #FFFFFF;\n",
              "    }\n",
              "  </style>\n",
              "\n",
              "      <script>\n",
              "        const buttonEl =\n",
              "          document.querySelector('#df-77bddb55-fb52-496d-ba12-23598f2e1ca0 button.colab-df-convert');\n",
              "        buttonEl.style.display =\n",
              "          google.colab.kernel.accessAllowed ? 'block' : 'none';\n",
              "\n",
              "        async function convertToInteractive(key) {\n",
              "          const element = document.querySelector('#df-77bddb55-fb52-496d-ba12-23598f2e1ca0');\n",
              "          const dataTable =\n",
              "            await google.colab.kernel.invokeFunction('convertToInteractive',\n",
              "                                                     [key], {});\n",
              "          if (!dataTable) return;\n",
              "\n",
              "          const docLinkHtml = 'Like what you see? Visit the ' +\n",
              "            '<a target=\"_blank\" href=https://colab.research.google.com/notebooks/data_table.ipynb>data table notebook</a>'\n",
              "            + ' to learn more about interactive tables.';\n",
              "          element.innerHTML = '';\n",
              "          dataTable['output_type'] = 'display_data';\n",
              "          await google.colab.output.renderOutput(dataTable, element);\n",
              "          const docLink = document.createElement('div');\n",
              "          docLink.innerHTML = docLinkHtml;\n",
              "          element.appendChild(docLink);\n",
              "        }\n",
              "      </script>\n",
              "    </div>\n",
              "  </div>\n",
              "  "
            ]
          },
          "metadata": {},
          "execution_count": 112
        }
      ],
      "source": [
        "cm_perc = get_percentage_cm(\n",
        "    get_confusion_matrix(model, y_test, model.predict(X_test), normalize='true'))\n",
        "\n",
        "cm_perc"
      ]
    },
    {
      "cell_type": "markdown",
      "metadata": {
        "id": "doin6pWNXplZ"
      },
      "source": [
        "Proviamo ora ad effettuare una Grid Search per individuare i migliori iperparametri. In particolare, `Perceptron`:\n",
        "- Utilizza una funzione di regolarizzazione (`penalty`) variabile tra:\n",
        "  - `l1`\n",
        "  - `l2`\n",
        "  - `elasticnet`\n",
        "    - tramite `l1_ratio` si gestisce il peso della regolarizzazione l1.\n",
        "- Specifcare il parametro `alpha` delle regolarizzazioni\n",
        "- `fit_intercept`\n",
        "\n",
        "Effettuiamo anche valutazioni sull'utilizzo di filtri per la normalizzazione dei dati attraverso `StandardScale` e `MinMaxScaler`, oppure nessuno."
      ]
    },
    {
      "cell_type": "code",
      "execution_count": 113,
      "metadata": {
        "id": "Jt5jnAvFXviH"
      },
      "outputs": [],
      "source": [
        "perc = Pipeline([\n",
        "    ('scale', None),\n",
        "    ('regr', Perceptron(random_state=1926))\n",
        "])\n",
        "\n",
        "grid = [\n",
        "    {\n",
        "        'scale': [None, StandardScaler(), MinMaxScaler()],\n",
        "        'regr__penalty': ['l1', 'l2'],\n",
        "        'regr__alpha': np.logspace(-5, 3, 9),\n",
        "        'regr__fit_intercept': [False, True],\n",
        "    },\n",
        "    {\n",
        "        'scale': [None, StandardScaler(), MinMaxScaler()],\n",
        "        'regr__penalty': ['elasticnet'],\n",
        "        'regr__alpha': np.logspace(-5, 3, 9),\n",
        "        'regr__l1_ratio': [0.1, 0.2, 0.3, 0.4, 0.5, 0.6, 0.7, 0.8, 0.9],\n",
        "        'regr__fit_intercept': [False, True],\n",
        "    },\n",
        "    {\n",
        "        'scale': [None, StandardScaler(), MinMaxScaler()],\n",
        "        'regr__penalty': [None]\n",
        "    }\n",
        "]\n",
        "\n",
        "gs, result = grid_search_class(perc, grid, X_train, y_train)"
      ]
    },
    {
      "cell_type": "markdown",
      "metadata": {
        "id": "vkywa8OTYOXz"
      },
      "source": [
        "I migliori parametri trovati sono"
      ]
    },
    {
      "cell_type": "code",
      "execution_count": 114,
      "metadata": {
        "id": "JkqvcDcjYXro",
        "colab": {
          "base_uri": "https://localhost:8080/"
        },
        "outputId": "5f2463af-c5c0-4e48-d2a5-19d9bb6f83f9"
      },
      "outputs": [
        {
          "output_type": "execute_result",
          "data": {
            "text/plain": [
              "{'regr__alpha': 1e-05,\n",
              " 'regr__fit_intercept': True,\n",
              " 'regr__penalty': 'l1',\n",
              " 'scale': MinMaxScaler()}"
            ]
          },
          "metadata": {},
          "execution_count": 114
        }
      ],
      "source": [
        "result.iloc[0]['params']"
      ]
    },
    {
      "cell_type": "markdown",
      "metadata": {
        "id": "9p8NVuV7YeLz"
      },
      "source": [
        "Utilizzando `elasticnet` con `l1_ratio` pari a 0.5, significa che è stata utilizzata anche al regolarizzazione Lasso, la quale può aver eliminato le features meno importanti."
      ]
    },
    {
      "cell_type": "code",
      "execution_count": 115,
      "metadata": {
        "id": "jEoLJuUuYgIs",
        "colab": {
          "base_uri": "https://localhost:8080/",
          "height": 1000
        },
        "outputId": "0b65b7b5-d539-4c2a-fdc5-e3a0fcfb567d"
      },
      "outputs": [
        {
          "output_type": "execute_result",
          "data": {
            "text/plain": [
              "                          Normal    Suspect  Pathological\n",
              "start_instant           5.179475  -6.084746      0.000000\n",
              "end_instant            -1.380383   0.206293      0.697089\n",
              "medical_baseline       -7.033664   2.319014      2.695982\n",
              "heart_acc               3.368422  -4.475709     -0.459515\n",
              "foetal_move            -3.893790   2.096004     -0.063988\n",
              "utherine_contract      -0.438656   2.179723     -0.670217\n",
              "pct_short_variability  -3.083293   3.278273      0.364130\n",
              "mean_short_variability  0.741725  -1.421411     -0.182365\n",
              "pct_long_variability   -4.412378   4.459226      2.118855\n",
              "mean_long_variability  -0.121826  -0.608576     -0.131211\n",
              "light_dec               5.972817  -7.316369      0.915559\n",
              "severe_dec              0.000000   0.000000      0.844130\n",
              "prolongued_dec         -9.496627  10.411607      2.177463\n",
              "repetitive_dec          0.000000   0.000000      0.000000\n",
              "width                  -0.475674   0.647797     -1.472701\n",
              "min                     0.589219  -4.087533      1.862649\n",
              "max                    -1.829960   0.529423      0.421716\n",
              "nmax                   -1.329960   0.633829      0.000000\n",
              "nzeros                  2.429960  -3.644940      0.000000\n",
              "mode                    5.337897  -7.697321     -0.764765\n",
              "mean                   -0.380419   3.130261     -2.633121\n",
              "median                  1.949226  -1.754114     -0.532203\n",
              "variance               -5.711850   6.768562     -1.088224\n",
              "tendency                0.329960   0.000000     -0.844130\n",
              "calm_sleep              5.829960  -0.744940     -2.844130\n",
              "rem_sleep               6.829960  -4.744940     -1.844130\n",
              "calm_vigilance          3.829960  -2.744940     -0.844130\n",
              "active_vigilance        4.829960  -3.744940     -0.844130\n",
              "e                      -5.829960   8.744940     -0.844130\n",
              "acc_pattern_stress      5.829960  -0.744940     -1.844130\n",
              "dec_pattern_vagal       1.829960   2.744940     -1.844130\n",
              "largely_dec            -7.829960 -11.744940      7.844130\n",
              "patho_flat_sinusoidal  -5.829960  -3.744940      4.844130\n",
              "suspect                -6.829960  11.744940     -2.844130"
            ],
            "text/html": [
              "\n",
              "  <div id=\"df-2817fedd-e44a-4baa-adf1-5360a68d0b72\">\n",
              "    <div class=\"colab-df-container\">\n",
              "      <div>\n",
              "<style scoped>\n",
              "    .dataframe tbody tr th:only-of-type {\n",
              "        vertical-align: middle;\n",
              "    }\n",
              "\n",
              "    .dataframe tbody tr th {\n",
              "        vertical-align: top;\n",
              "    }\n",
              "\n",
              "    .dataframe thead th {\n",
              "        text-align: right;\n",
              "    }\n",
              "</style>\n",
              "<table border=\"1\" class=\"dataframe\">\n",
              "  <thead>\n",
              "    <tr style=\"text-align: right;\">\n",
              "      <th></th>\n",
              "      <th>Normal</th>\n",
              "      <th>Suspect</th>\n",
              "      <th>Pathological</th>\n",
              "    </tr>\n",
              "  </thead>\n",
              "  <tbody>\n",
              "    <tr>\n",
              "      <th>start_instant</th>\n",
              "      <td>5.179475</td>\n",
              "      <td>-6.084746</td>\n",
              "      <td>0.000000</td>\n",
              "    </tr>\n",
              "    <tr>\n",
              "      <th>end_instant</th>\n",
              "      <td>-1.380383</td>\n",
              "      <td>0.206293</td>\n",
              "      <td>0.697089</td>\n",
              "    </tr>\n",
              "    <tr>\n",
              "      <th>medical_baseline</th>\n",
              "      <td>-7.033664</td>\n",
              "      <td>2.319014</td>\n",
              "      <td>2.695982</td>\n",
              "    </tr>\n",
              "    <tr>\n",
              "      <th>heart_acc</th>\n",
              "      <td>3.368422</td>\n",
              "      <td>-4.475709</td>\n",
              "      <td>-0.459515</td>\n",
              "    </tr>\n",
              "    <tr>\n",
              "      <th>foetal_move</th>\n",
              "      <td>-3.893790</td>\n",
              "      <td>2.096004</td>\n",
              "      <td>-0.063988</td>\n",
              "    </tr>\n",
              "    <tr>\n",
              "      <th>utherine_contract</th>\n",
              "      <td>-0.438656</td>\n",
              "      <td>2.179723</td>\n",
              "      <td>-0.670217</td>\n",
              "    </tr>\n",
              "    <tr>\n",
              "      <th>pct_short_variability</th>\n",
              "      <td>-3.083293</td>\n",
              "      <td>3.278273</td>\n",
              "      <td>0.364130</td>\n",
              "    </tr>\n",
              "    <tr>\n",
              "      <th>mean_short_variability</th>\n",
              "      <td>0.741725</td>\n",
              "      <td>-1.421411</td>\n",
              "      <td>-0.182365</td>\n",
              "    </tr>\n",
              "    <tr>\n",
              "      <th>pct_long_variability</th>\n",
              "      <td>-4.412378</td>\n",
              "      <td>4.459226</td>\n",
              "      <td>2.118855</td>\n",
              "    </tr>\n",
              "    <tr>\n",
              "      <th>mean_long_variability</th>\n",
              "      <td>-0.121826</td>\n",
              "      <td>-0.608576</td>\n",
              "      <td>-0.131211</td>\n",
              "    </tr>\n",
              "    <tr>\n",
              "      <th>light_dec</th>\n",
              "      <td>5.972817</td>\n",
              "      <td>-7.316369</td>\n",
              "      <td>0.915559</td>\n",
              "    </tr>\n",
              "    <tr>\n",
              "      <th>severe_dec</th>\n",
              "      <td>0.000000</td>\n",
              "      <td>0.000000</td>\n",
              "      <td>0.844130</td>\n",
              "    </tr>\n",
              "    <tr>\n",
              "      <th>prolongued_dec</th>\n",
              "      <td>-9.496627</td>\n",
              "      <td>10.411607</td>\n",
              "      <td>2.177463</td>\n",
              "    </tr>\n",
              "    <tr>\n",
              "      <th>repetitive_dec</th>\n",
              "      <td>0.000000</td>\n",
              "      <td>0.000000</td>\n",
              "      <td>0.000000</td>\n",
              "    </tr>\n",
              "    <tr>\n",
              "      <th>width</th>\n",
              "      <td>-0.475674</td>\n",
              "      <td>0.647797</td>\n",
              "      <td>-1.472701</td>\n",
              "    </tr>\n",
              "    <tr>\n",
              "      <th>min</th>\n",
              "      <td>0.589219</td>\n",
              "      <td>-4.087533</td>\n",
              "      <td>1.862649</td>\n",
              "    </tr>\n",
              "    <tr>\n",
              "      <th>max</th>\n",
              "      <td>-1.829960</td>\n",
              "      <td>0.529423</td>\n",
              "      <td>0.421716</td>\n",
              "    </tr>\n",
              "    <tr>\n",
              "      <th>nmax</th>\n",
              "      <td>-1.329960</td>\n",
              "      <td>0.633829</td>\n",
              "      <td>0.000000</td>\n",
              "    </tr>\n",
              "    <tr>\n",
              "      <th>nzeros</th>\n",
              "      <td>2.429960</td>\n",
              "      <td>-3.644940</td>\n",
              "      <td>0.000000</td>\n",
              "    </tr>\n",
              "    <tr>\n",
              "      <th>mode</th>\n",
              "      <td>5.337897</td>\n",
              "      <td>-7.697321</td>\n",
              "      <td>-0.764765</td>\n",
              "    </tr>\n",
              "    <tr>\n",
              "      <th>mean</th>\n",
              "      <td>-0.380419</td>\n",
              "      <td>3.130261</td>\n",
              "      <td>-2.633121</td>\n",
              "    </tr>\n",
              "    <tr>\n",
              "      <th>median</th>\n",
              "      <td>1.949226</td>\n",
              "      <td>-1.754114</td>\n",
              "      <td>-0.532203</td>\n",
              "    </tr>\n",
              "    <tr>\n",
              "      <th>variance</th>\n",
              "      <td>-5.711850</td>\n",
              "      <td>6.768562</td>\n",
              "      <td>-1.088224</td>\n",
              "    </tr>\n",
              "    <tr>\n",
              "      <th>tendency</th>\n",
              "      <td>0.329960</td>\n",
              "      <td>0.000000</td>\n",
              "      <td>-0.844130</td>\n",
              "    </tr>\n",
              "    <tr>\n",
              "      <th>calm_sleep</th>\n",
              "      <td>5.829960</td>\n",
              "      <td>-0.744940</td>\n",
              "      <td>-2.844130</td>\n",
              "    </tr>\n",
              "    <tr>\n",
              "      <th>rem_sleep</th>\n",
              "      <td>6.829960</td>\n",
              "      <td>-4.744940</td>\n",
              "      <td>-1.844130</td>\n",
              "    </tr>\n",
              "    <tr>\n",
              "      <th>calm_vigilance</th>\n",
              "      <td>3.829960</td>\n",
              "      <td>-2.744940</td>\n",
              "      <td>-0.844130</td>\n",
              "    </tr>\n",
              "    <tr>\n",
              "      <th>active_vigilance</th>\n",
              "      <td>4.829960</td>\n",
              "      <td>-3.744940</td>\n",
              "      <td>-0.844130</td>\n",
              "    </tr>\n",
              "    <tr>\n",
              "      <th>e</th>\n",
              "      <td>-5.829960</td>\n",
              "      <td>8.744940</td>\n",
              "      <td>-0.844130</td>\n",
              "    </tr>\n",
              "    <tr>\n",
              "      <th>acc_pattern_stress</th>\n",
              "      <td>5.829960</td>\n",
              "      <td>-0.744940</td>\n",
              "      <td>-1.844130</td>\n",
              "    </tr>\n",
              "    <tr>\n",
              "      <th>dec_pattern_vagal</th>\n",
              "      <td>1.829960</td>\n",
              "      <td>2.744940</td>\n",
              "      <td>-1.844130</td>\n",
              "    </tr>\n",
              "    <tr>\n",
              "      <th>largely_dec</th>\n",
              "      <td>-7.829960</td>\n",
              "      <td>-11.744940</td>\n",
              "      <td>7.844130</td>\n",
              "    </tr>\n",
              "    <tr>\n",
              "      <th>patho_flat_sinusoidal</th>\n",
              "      <td>-5.829960</td>\n",
              "      <td>-3.744940</td>\n",
              "      <td>4.844130</td>\n",
              "    </tr>\n",
              "    <tr>\n",
              "      <th>suspect</th>\n",
              "      <td>-6.829960</td>\n",
              "      <td>11.744940</td>\n",
              "      <td>-2.844130</td>\n",
              "    </tr>\n",
              "  </tbody>\n",
              "</table>\n",
              "</div>\n",
              "      <button class=\"colab-df-convert\" onclick=\"convertToInteractive('df-2817fedd-e44a-4baa-adf1-5360a68d0b72')\"\n",
              "              title=\"Convert this dataframe to an interactive table.\"\n",
              "              style=\"display:none;\">\n",
              "        \n",
              "  <svg xmlns=\"http://www.w3.org/2000/svg\" height=\"24px\"viewBox=\"0 0 24 24\"\n",
              "       width=\"24px\">\n",
              "    <path d=\"M0 0h24v24H0V0z\" fill=\"none\"/>\n",
              "    <path d=\"M18.56 5.44l.94 2.06.94-2.06 2.06-.94-2.06-.94-.94-2.06-.94 2.06-2.06.94zm-11 1L8.5 8.5l.94-2.06 2.06-.94-2.06-.94L8.5 2.5l-.94 2.06-2.06.94zm10 10l.94 2.06.94-2.06 2.06-.94-2.06-.94-.94-2.06-.94 2.06-2.06.94z\"/><path d=\"M17.41 7.96l-1.37-1.37c-.4-.4-.92-.59-1.43-.59-.52 0-1.04.2-1.43.59L10.3 9.45l-7.72 7.72c-.78.78-.78 2.05 0 2.83L4 21.41c.39.39.9.59 1.41.59.51 0 1.02-.2 1.41-.59l7.78-7.78 2.81-2.81c.8-.78.8-2.07 0-2.86zM5.41 20L4 18.59l7.72-7.72 1.47 1.35L5.41 20z\"/>\n",
              "  </svg>\n",
              "      </button>\n",
              "      \n",
              "  <style>\n",
              "    .colab-df-container {\n",
              "      display:flex;\n",
              "      flex-wrap:wrap;\n",
              "      gap: 12px;\n",
              "    }\n",
              "\n",
              "    .colab-df-convert {\n",
              "      background-color: #E8F0FE;\n",
              "      border: none;\n",
              "      border-radius: 50%;\n",
              "      cursor: pointer;\n",
              "      display: none;\n",
              "      fill: #1967D2;\n",
              "      height: 32px;\n",
              "      padding: 0 0 0 0;\n",
              "      width: 32px;\n",
              "    }\n",
              "\n",
              "    .colab-df-convert:hover {\n",
              "      background-color: #E2EBFA;\n",
              "      box-shadow: 0px 1px 2px rgba(60, 64, 67, 0.3), 0px 1px 3px 1px rgba(60, 64, 67, 0.15);\n",
              "      fill: #174EA6;\n",
              "    }\n",
              "\n",
              "    [theme=dark] .colab-df-convert {\n",
              "      background-color: #3B4455;\n",
              "      fill: #D2E3FC;\n",
              "    }\n",
              "\n",
              "    [theme=dark] .colab-df-convert:hover {\n",
              "      background-color: #434B5C;\n",
              "      box-shadow: 0px 1px 3px 1px rgba(0, 0, 0, 0.15);\n",
              "      filter: drop-shadow(0px 1px 2px rgba(0, 0, 0, 0.3));\n",
              "      fill: #FFFFFF;\n",
              "    }\n",
              "  </style>\n",
              "\n",
              "      <script>\n",
              "        const buttonEl =\n",
              "          document.querySelector('#df-2817fedd-e44a-4baa-adf1-5360a68d0b72 button.colab-df-convert');\n",
              "        buttonEl.style.display =\n",
              "          google.colab.kernel.accessAllowed ? 'block' : 'none';\n",
              "\n",
              "        async function convertToInteractive(key) {\n",
              "          const element = document.querySelector('#df-2817fedd-e44a-4baa-adf1-5360a68d0b72');\n",
              "          const dataTable =\n",
              "            await google.colab.kernel.invokeFunction('convertToInteractive',\n",
              "                                                     [key], {});\n",
              "          if (!dataTable) return;\n",
              "\n",
              "          const docLinkHtml = 'Like what you see? Visit the ' +\n",
              "            '<a target=\"_blank\" href=https://colab.research.google.com/notebooks/data_table.ipynb>data table notebook</a>'\n",
              "            + ' to learn more about interactive tables.';\n",
              "          element.innerHTML = '';\n",
              "          dataTable['output_type'] = 'display_data';\n",
              "          await google.colab.output.renderOutput(dataTable, element);\n",
              "          const docLink = document.createElement('div');\n",
              "          docLink.innerHTML = docLinkHtml;\n",
              "          element.appendChild(docLink);\n",
              "        }\n",
              "      </script>\n",
              "    </div>\n",
              "  </div>\n",
              "  "
            ]
          },
          "metadata": {},
          "execution_count": 115
        }
      ],
      "source": [
        "gs.best_estimator_['regr'].coef_\n",
        "get_coefficients_frame(gs, X.columns)"
      ]
    },
    {
      "cell_type": "markdown",
      "metadata": {
        "id": "Dmz7pjJ1Yj4d"
      },
      "source": [
        "Notiamo come, siccome è stata scelta nel modello migliore la regolarizzazione `l1`, alcune features si sono azzerate, specialemte per quanto riguarda la predizione della classe `Pathological`. Questa scelta di parametri ha portato ad un *confusion matrix*:"
      ]
    },
    {
      "cell_type": "code",
      "execution_count": 116,
      "metadata": {
        "id": "NDOmvhdNYnou",
        "colab": {
          "base_uri": "https://localhost:8080/",
          "height": 143
        },
        "outputId": "f809d791-9f4a-4638-c750-f6990828916e"
      },
      "outputs": [
        {
          "output_type": "execute_result",
          "data": {
            "text/plain": [
              "              Normal Suspect Pathological\n",
              "Normal        100.0%    0.0%         0.0%\n",
              "Suspect        9.18%  86.73%        4.08%\n",
              "Pathological    0.0%   1.69%       98.31%"
            ],
            "text/html": [
              "\n",
              "  <div id=\"df-eb2a697b-3b57-47a3-aa00-e471b91b13a3\">\n",
              "    <div class=\"colab-df-container\">\n",
              "      <div>\n",
              "<style scoped>\n",
              "    .dataframe tbody tr th:only-of-type {\n",
              "        vertical-align: middle;\n",
              "    }\n",
              "\n",
              "    .dataframe tbody tr th {\n",
              "        vertical-align: top;\n",
              "    }\n",
              "\n",
              "    .dataframe thead th {\n",
              "        text-align: right;\n",
              "    }\n",
              "</style>\n",
              "<table border=\"1\" class=\"dataframe\">\n",
              "  <thead>\n",
              "    <tr style=\"text-align: right;\">\n",
              "      <th></th>\n",
              "      <th>Normal</th>\n",
              "      <th>Suspect</th>\n",
              "      <th>Pathological</th>\n",
              "    </tr>\n",
              "  </thead>\n",
              "  <tbody>\n",
              "    <tr>\n",
              "      <th>Normal</th>\n",
              "      <td>100.0%</td>\n",
              "      <td>0.0%</td>\n",
              "      <td>0.0%</td>\n",
              "    </tr>\n",
              "    <tr>\n",
              "      <th>Suspect</th>\n",
              "      <td>9.18%</td>\n",
              "      <td>86.73%</td>\n",
              "      <td>4.08%</td>\n",
              "    </tr>\n",
              "    <tr>\n",
              "      <th>Pathological</th>\n",
              "      <td>0.0%</td>\n",
              "      <td>1.69%</td>\n",
              "      <td>98.31%</td>\n",
              "    </tr>\n",
              "  </tbody>\n",
              "</table>\n",
              "</div>\n",
              "      <button class=\"colab-df-convert\" onclick=\"convertToInteractive('df-eb2a697b-3b57-47a3-aa00-e471b91b13a3')\"\n",
              "              title=\"Convert this dataframe to an interactive table.\"\n",
              "              style=\"display:none;\">\n",
              "        \n",
              "  <svg xmlns=\"http://www.w3.org/2000/svg\" height=\"24px\"viewBox=\"0 0 24 24\"\n",
              "       width=\"24px\">\n",
              "    <path d=\"M0 0h24v24H0V0z\" fill=\"none\"/>\n",
              "    <path d=\"M18.56 5.44l.94 2.06.94-2.06 2.06-.94-2.06-.94-.94-2.06-.94 2.06-2.06.94zm-11 1L8.5 8.5l.94-2.06 2.06-.94-2.06-.94L8.5 2.5l-.94 2.06-2.06.94zm10 10l.94 2.06.94-2.06 2.06-.94-2.06-.94-.94-2.06-.94 2.06-2.06.94z\"/><path d=\"M17.41 7.96l-1.37-1.37c-.4-.4-.92-.59-1.43-.59-.52 0-1.04.2-1.43.59L10.3 9.45l-7.72 7.72c-.78.78-.78 2.05 0 2.83L4 21.41c.39.39.9.59 1.41.59.51 0 1.02-.2 1.41-.59l7.78-7.78 2.81-2.81c.8-.78.8-2.07 0-2.86zM5.41 20L4 18.59l7.72-7.72 1.47 1.35L5.41 20z\"/>\n",
              "  </svg>\n",
              "      </button>\n",
              "      \n",
              "  <style>\n",
              "    .colab-df-container {\n",
              "      display:flex;\n",
              "      flex-wrap:wrap;\n",
              "      gap: 12px;\n",
              "    }\n",
              "\n",
              "    .colab-df-convert {\n",
              "      background-color: #E8F0FE;\n",
              "      border: none;\n",
              "      border-radius: 50%;\n",
              "      cursor: pointer;\n",
              "      display: none;\n",
              "      fill: #1967D2;\n",
              "      height: 32px;\n",
              "      padding: 0 0 0 0;\n",
              "      width: 32px;\n",
              "    }\n",
              "\n",
              "    .colab-df-convert:hover {\n",
              "      background-color: #E2EBFA;\n",
              "      box-shadow: 0px 1px 2px rgba(60, 64, 67, 0.3), 0px 1px 3px 1px rgba(60, 64, 67, 0.15);\n",
              "      fill: #174EA6;\n",
              "    }\n",
              "\n",
              "    [theme=dark] .colab-df-convert {\n",
              "      background-color: #3B4455;\n",
              "      fill: #D2E3FC;\n",
              "    }\n",
              "\n",
              "    [theme=dark] .colab-df-convert:hover {\n",
              "      background-color: #434B5C;\n",
              "      box-shadow: 0px 1px 3px 1px rgba(0, 0, 0, 0.15);\n",
              "      filter: drop-shadow(0px 1px 2px rgba(0, 0, 0, 0.3));\n",
              "      fill: #FFFFFF;\n",
              "    }\n",
              "  </style>\n",
              "\n",
              "      <script>\n",
              "        const buttonEl =\n",
              "          document.querySelector('#df-eb2a697b-3b57-47a3-aa00-e471b91b13a3 button.colab-df-convert');\n",
              "        buttonEl.style.display =\n",
              "          google.colab.kernel.accessAllowed ? 'block' : 'none';\n",
              "\n",
              "        async function convertToInteractive(key) {\n",
              "          const element = document.querySelector('#df-eb2a697b-3b57-47a3-aa00-e471b91b13a3');\n",
              "          const dataTable =\n",
              "            await google.colab.kernel.invokeFunction('convertToInteractive',\n",
              "                                                     [key], {});\n",
              "          if (!dataTable) return;\n",
              "\n",
              "          const docLinkHtml = 'Like what you see? Visit the ' +\n",
              "            '<a target=\"_blank\" href=https://colab.research.google.com/notebooks/data_table.ipynb>data table notebook</a>'\n",
              "            + ' to learn more about interactive tables.';\n",
              "          element.innerHTML = '';\n",
              "          dataTable['output_type'] = 'display_data';\n",
              "          await google.colab.output.renderOutput(dataTable, element);\n",
              "          const docLink = document.createElement('div');\n",
              "          docLink.innerHTML = docLinkHtml;\n",
              "          element.appendChild(docLink);\n",
              "        }\n",
              "      </script>\n",
              "    </div>\n",
              "  </div>\n",
              "  "
            ]
          },
          "metadata": {},
          "execution_count": 116
        }
      ],
      "source": [
        "cm = get_confusion_matrix(gs, y_test, gs.predict(X_test), normalize='true')\n",
        "get_percentage_cm(cm)"
      ]
    },
    {
      "cell_type": "code",
      "execution_count": 117,
      "metadata": {
        "id": "GSCHrvkCdliS",
        "colab": {
          "base_uri": "https://localhost:8080/"
        },
        "outputId": "f69d6b75-7106-4235-a9be-f89a73bfa4be"
      },
      "outputs": [
        {
          "output_type": "stream",
          "name": "stdout",
          "text": [
            "F1 Score: 0.9582\n"
          ]
        }
      ],
      "source": [
        "print_f1_score(get_f1_score(gs, y_test, X_test))"
      ]
    },
    {
      "cell_type": "markdown",
      "metadata": {
        "id": "H-ERLwLRY7TT"
      },
      "source": [
        "Notiamo subito che:\n",
        "- I risultati per la classe `Normal` sono migliorati notevolmente: i parametri sono stati pesati in modo tale da redistribuire i pesi e premiare la predizione della classe `Normal`.\n",
        "- I risultati per classe `Suspect` sono invece migliorati, ma rimanendo poco più bassi rispetto alle altre classi. Questo ci può far pensare che per via dei miglioramenti nelle altre categorie, gli individui sospetti risultano ora più difficili da individuare. Questo può essere notato anche nei diversi pesi utilizzati per i coefficienti $\\mathbf{w}$ del modello individuato, dove per esempio, la feature `prolongued_dec` assume in valore assoluto il valore più alto, ma nelle due classi ha segno opposto.\n",
        "- I risultati per la classe `Pathological` sono invece nettamente migliorati, rendendo il modello pressoché infallibile nel creare un falso `Pathological`, e avere una percentuale più del 98% nella predizione di un soggetto patologoico; tutto questo nonostante i dati per quest'ultima categoria sono molto limitati."
      ]
    },
    {
      "cell_type": "markdown",
      "metadata": {
        "id": "__yk9PD3Z5bR"
      },
      "source": [
        "Testiamo ora un modello di **regressione logistica**, il quale si basa sulla probabilità di appartenenza di una classe per ogni istanza del training set. Di default viene utilizzata la regolarizzazione `l1`, e oltre ad impostare il *random_state*, impostiamo anche "
      ]
    },
    {
      "cell_type": "code",
      "execution_count": 118,
      "metadata": {
        "id": "mzNHd4AsaNt7",
        "colab": {
          "base_uri": "https://localhost:8080/",
          "height": 75
        },
        "outputId": "f054120b-bf93-4ee7-d9ca-96bd7709369e"
      },
      "outputs": [
        {
          "output_type": "execute_result",
          "data": {
            "text/plain": [
              "LogisticRegression(random_state=1926, solver='saga')"
            ],
            "text/html": [
              "<style>#sk-container-id-1 {color: black;background-color: white;}#sk-container-id-1 pre{padding: 0;}#sk-container-id-1 div.sk-toggleable {background-color: white;}#sk-container-id-1 label.sk-toggleable__label {cursor: pointer;display: block;width: 100%;margin-bottom: 0;padding: 0.3em;box-sizing: border-box;text-align: center;}#sk-container-id-1 label.sk-toggleable__label-arrow:before {content: \"▸\";float: left;margin-right: 0.25em;color: #696969;}#sk-container-id-1 label.sk-toggleable__label-arrow:hover:before {color: black;}#sk-container-id-1 div.sk-estimator:hover label.sk-toggleable__label-arrow:before {color: black;}#sk-container-id-1 div.sk-toggleable__content {max-height: 0;max-width: 0;overflow: hidden;text-align: left;background-color: #f0f8ff;}#sk-container-id-1 div.sk-toggleable__content pre {margin: 0.2em;color: black;border-radius: 0.25em;background-color: #f0f8ff;}#sk-container-id-1 input.sk-toggleable__control:checked~div.sk-toggleable__content {max-height: 200px;max-width: 100%;overflow: auto;}#sk-container-id-1 input.sk-toggleable__control:checked~label.sk-toggleable__label-arrow:before {content: \"▾\";}#sk-container-id-1 div.sk-estimator input.sk-toggleable__control:checked~label.sk-toggleable__label {background-color: #d4ebff;}#sk-container-id-1 div.sk-label input.sk-toggleable__control:checked~label.sk-toggleable__label {background-color: #d4ebff;}#sk-container-id-1 input.sk-hidden--visually {border: 0;clip: rect(1px 1px 1px 1px);clip: rect(1px, 1px, 1px, 1px);height: 1px;margin: -1px;overflow: hidden;padding: 0;position: absolute;width: 1px;}#sk-container-id-1 div.sk-estimator {font-family: monospace;background-color: #f0f8ff;border: 1px dotted black;border-radius: 0.25em;box-sizing: border-box;margin-bottom: 0.5em;}#sk-container-id-1 div.sk-estimator:hover {background-color: #d4ebff;}#sk-container-id-1 div.sk-parallel-item::after {content: \"\";width: 100%;border-bottom: 1px solid gray;flex-grow: 1;}#sk-container-id-1 div.sk-label:hover label.sk-toggleable__label {background-color: #d4ebff;}#sk-container-id-1 div.sk-serial::before {content: \"\";position: absolute;border-left: 1px solid gray;box-sizing: border-box;top: 0;bottom: 0;left: 50%;z-index: 0;}#sk-container-id-1 div.sk-serial {display: flex;flex-direction: column;align-items: center;background-color: white;padding-right: 0.2em;padding-left: 0.2em;position: relative;}#sk-container-id-1 div.sk-item {position: relative;z-index: 1;}#sk-container-id-1 div.sk-parallel {display: flex;align-items: stretch;justify-content: center;background-color: white;position: relative;}#sk-container-id-1 div.sk-item::before, #sk-container-id-1 div.sk-parallel-item::before {content: \"\";position: absolute;border-left: 1px solid gray;box-sizing: border-box;top: 0;bottom: 0;left: 50%;z-index: -1;}#sk-container-id-1 div.sk-parallel-item {display: flex;flex-direction: column;z-index: 1;position: relative;background-color: white;}#sk-container-id-1 div.sk-parallel-item:first-child::after {align-self: flex-end;width: 50%;}#sk-container-id-1 div.sk-parallel-item:last-child::after {align-self: flex-start;width: 50%;}#sk-container-id-1 div.sk-parallel-item:only-child::after {width: 0;}#sk-container-id-1 div.sk-dashed-wrapped {border: 1px dashed gray;margin: 0 0.4em 0.5em 0.4em;box-sizing: border-box;padding-bottom: 0.4em;background-color: white;}#sk-container-id-1 div.sk-label label {font-family: monospace;font-weight: bold;display: inline-block;line-height: 1.2em;}#sk-container-id-1 div.sk-label-container {text-align: center;}#sk-container-id-1 div.sk-container {/* jupyter's `normalize.less` sets `[hidden] { display: none; }` but bootstrap.min.css set `[hidden] { display: none !important; }` so we also need the `!important` here to be able to override the default hidden behavior on the sphinx rendered scikit-learn.org. See: https://github.com/scikit-learn/scikit-learn/issues/21755 */display: inline-block !important;position: relative;}#sk-container-id-1 div.sk-text-repr-fallback {display: none;}</style><div id=\"sk-container-id-1\" class=\"sk-top-container\"><div class=\"sk-text-repr-fallback\"><pre>LogisticRegression(random_state=1926, solver=&#x27;saga&#x27;)</pre><b>In a Jupyter environment, please rerun this cell to show the HTML representation or trust the notebook. <br />On GitHub, the HTML representation is unable to render, please try loading this page with nbviewer.org.</b></div><div class=\"sk-container\" hidden><div class=\"sk-item\"><div class=\"sk-estimator sk-toggleable\"><input class=\"sk-toggleable__control sk-hidden--visually\" id=\"sk-estimator-id-1\" type=\"checkbox\" checked><label for=\"sk-estimator-id-1\" class=\"sk-toggleable__label sk-toggleable__label-arrow\">LogisticRegression</label><div class=\"sk-toggleable__content\"><pre>LogisticRegression(random_state=1926, solver=&#x27;saga&#x27;)</pre></div></div></div></div></div>"
            ]
          },
          "metadata": {},
          "execution_count": 118
        }
      ],
      "source": [
        "from sklearn.linear_model import LogisticRegression\n",
        "\n",
        "model = LogisticRegression(random_state=1926, solver='saga')\n",
        "\n",
        "model.fit(X_train, y_train)"
      ]
    },
    {
      "cell_type": "code",
      "execution_count": 119,
      "metadata": {
        "id": "CvR97Oa7aPS1",
        "colab": {
          "base_uri": "https://localhost:8080/",
          "height": 143
        },
        "outputId": "7fe31f6c-60a5-4457-b0c9-573dde08f802"
      },
      "outputs": [
        {
          "output_type": "execute_result",
          "data": {
            "text/plain": [
              "              Normal Suspect Pathological\n",
              "Normal        98.55%   1.27%        0.18%\n",
              "Suspect       69.39%  30.61%         0.0%\n",
              "Pathological  44.07%   32.2%       23.73%"
            ],
            "text/html": [
              "\n",
              "  <div id=\"df-bde2b6d5-37f1-406e-a222-34086e0b7e98\">\n",
              "    <div class=\"colab-df-container\">\n",
              "      <div>\n",
              "<style scoped>\n",
              "    .dataframe tbody tr th:only-of-type {\n",
              "        vertical-align: middle;\n",
              "    }\n",
              "\n",
              "    .dataframe tbody tr th {\n",
              "        vertical-align: top;\n",
              "    }\n",
              "\n",
              "    .dataframe thead th {\n",
              "        text-align: right;\n",
              "    }\n",
              "</style>\n",
              "<table border=\"1\" class=\"dataframe\">\n",
              "  <thead>\n",
              "    <tr style=\"text-align: right;\">\n",
              "      <th></th>\n",
              "      <th>Normal</th>\n",
              "      <th>Suspect</th>\n",
              "      <th>Pathological</th>\n",
              "    </tr>\n",
              "  </thead>\n",
              "  <tbody>\n",
              "    <tr>\n",
              "      <th>Normal</th>\n",
              "      <td>98.55%</td>\n",
              "      <td>1.27%</td>\n",
              "      <td>0.18%</td>\n",
              "    </tr>\n",
              "    <tr>\n",
              "      <th>Suspect</th>\n",
              "      <td>69.39%</td>\n",
              "      <td>30.61%</td>\n",
              "      <td>0.0%</td>\n",
              "    </tr>\n",
              "    <tr>\n",
              "      <th>Pathological</th>\n",
              "      <td>44.07%</td>\n",
              "      <td>32.2%</td>\n",
              "      <td>23.73%</td>\n",
              "    </tr>\n",
              "  </tbody>\n",
              "</table>\n",
              "</div>\n",
              "      <button class=\"colab-df-convert\" onclick=\"convertToInteractive('df-bde2b6d5-37f1-406e-a222-34086e0b7e98')\"\n",
              "              title=\"Convert this dataframe to an interactive table.\"\n",
              "              style=\"display:none;\">\n",
              "        \n",
              "  <svg xmlns=\"http://www.w3.org/2000/svg\" height=\"24px\"viewBox=\"0 0 24 24\"\n",
              "       width=\"24px\">\n",
              "    <path d=\"M0 0h24v24H0V0z\" fill=\"none\"/>\n",
              "    <path d=\"M18.56 5.44l.94 2.06.94-2.06 2.06-.94-2.06-.94-.94-2.06-.94 2.06-2.06.94zm-11 1L8.5 8.5l.94-2.06 2.06-.94-2.06-.94L8.5 2.5l-.94 2.06-2.06.94zm10 10l.94 2.06.94-2.06 2.06-.94-2.06-.94-.94-2.06-.94 2.06-2.06.94z\"/><path d=\"M17.41 7.96l-1.37-1.37c-.4-.4-.92-.59-1.43-.59-.52 0-1.04.2-1.43.59L10.3 9.45l-7.72 7.72c-.78.78-.78 2.05 0 2.83L4 21.41c.39.39.9.59 1.41.59.51 0 1.02-.2 1.41-.59l7.78-7.78 2.81-2.81c.8-.78.8-2.07 0-2.86zM5.41 20L4 18.59l7.72-7.72 1.47 1.35L5.41 20z\"/>\n",
              "  </svg>\n",
              "      </button>\n",
              "      \n",
              "  <style>\n",
              "    .colab-df-container {\n",
              "      display:flex;\n",
              "      flex-wrap:wrap;\n",
              "      gap: 12px;\n",
              "    }\n",
              "\n",
              "    .colab-df-convert {\n",
              "      background-color: #E8F0FE;\n",
              "      border: none;\n",
              "      border-radius: 50%;\n",
              "      cursor: pointer;\n",
              "      display: none;\n",
              "      fill: #1967D2;\n",
              "      height: 32px;\n",
              "      padding: 0 0 0 0;\n",
              "      width: 32px;\n",
              "    }\n",
              "\n",
              "    .colab-df-convert:hover {\n",
              "      background-color: #E2EBFA;\n",
              "      box-shadow: 0px 1px 2px rgba(60, 64, 67, 0.3), 0px 1px 3px 1px rgba(60, 64, 67, 0.15);\n",
              "      fill: #174EA6;\n",
              "    }\n",
              "\n",
              "    [theme=dark] .colab-df-convert {\n",
              "      background-color: #3B4455;\n",
              "      fill: #D2E3FC;\n",
              "    }\n",
              "\n",
              "    [theme=dark] .colab-df-convert:hover {\n",
              "      background-color: #434B5C;\n",
              "      box-shadow: 0px 1px 3px 1px rgba(0, 0, 0, 0.15);\n",
              "      filter: drop-shadow(0px 1px 2px rgba(0, 0, 0, 0.3));\n",
              "      fill: #FFFFFF;\n",
              "    }\n",
              "  </style>\n",
              "\n",
              "      <script>\n",
              "        const buttonEl =\n",
              "          document.querySelector('#df-bde2b6d5-37f1-406e-a222-34086e0b7e98 button.colab-df-convert');\n",
              "        buttonEl.style.display =\n",
              "          google.colab.kernel.accessAllowed ? 'block' : 'none';\n",
              "\n",
              "        async function convertToInteractive(key) {\n",
              "          const element = document.querySelector('#df-bde2b6d5-37f1-406e-a222-34086e0b7e98');\n",
              "          const dataTable =\n",
              "            await google.colab.kernel.invokeFunction('convertToInteractive',\n",
              "                                                     [key], {});\n",
              "          if (!dataTable) return;\n",
              "\n",
              "          const docLinkHtml = 'Like what you see? Visit the ' +\n",
              "            '<a target=\"_blank\" href=https://colab.research.google.com/notebooks/data_table.ipynb>data table notebook</a>'\n",
              "            + ' to learn more about interactive tables.';\n",
              "          element.innerHTML = '';\n",
              "          dataTable['output_type'] = 'display_data';\n",
              "          await google.colab.output.renderOutput(dataTable, element);\n",
              "          const docLink = document.createElement('div');\n",
              "          docLink.innerHTML = docLinkHtml;\n",
              "          element.appendChild(docLink);\n",
              "        }\n",
              "      </script>\n",
              "    </div>\n",
              "  </div>\n",
              "  "
            ]
          },
          "metadata": {},
          "execution_count": 119
        }
      ],
      "source": [
        "get_percentage_cm(\n",
        "    get_confusion_matrix(model, y_test, model.predict(X_test), normalize='true'))"
      ]
    },
    {
      "cell_type": "markdown",
      "metadata": {
        "id": "erVitgc5aWie"
      },
      "source": [
        "È interessante notare come, similmente al modello precedente, la mal predizione di un soggetto patologico in un soggetto normale o sospetto è pressochè nulla (terza colonna, prime due righe), mentre in questo modello di regressione logistica, le accuratetzze sui casi sospetti e patologici sono scese drasticamente.\n",
        "\n",
        "Procediamo ad effettuare *tuning* degli iperparametri del modello"
      ]
    },
    {
      "cell_type": "code",
      "execution_count": 120,
      "metadata": {
        "id": "AI-LCheyaUNc"
      },
      "outputs": [],
      "source": [
        "log_reg = Pipeline([\n",
        "    ('scale', None),\n",
        "    ('regr', LogisticRegression(solver='saga', random_state=1926, ))\n",
        "])\n",
        "\n",
        "grid = [\n",
        "    {\n",
        "        'scale': [None, StandardScaler(), MinMaxScaler()],\n",
        "        'regr__penalty': ['l1', 'l2'],\n",
        "        'regr__C': np.logspace(-5, 3, 9),\n",
        "        'regr__fit_intercept': [False, True],\n",
        "    },\n",
        "    {\n",
        "        'scale': [None, StandardScaler(), MinMaxScaler()],\n",
        "        'regr__penalty': ['elasticnet'],\n",
        "        'regr__C': np.logspace(-5, 3, 9),\n",
        "        'regr__l1_ratio': [0.1, 0.2, 0.3, 0.4, 0.5, 0.6, 0.7, 0.8, 0.9],\n",
        "        'regr__fit_intercept': [False, True],\n",
        "    },\n",
        "    {\n",
        "        'scale': [None, StandardScaler(), MinMaxScaler()],\n",
        "        'regr__penalty': [None]\n",
        "    }\n",
        "]\n",
        "\n",
        "gs, score = grid_search_class(log_reg, grid, X_train, y_train)"
      ]
    },
    {
      "cell_type": "code",
      "execution_count": 121,
      "metadata": {
        "id": "ykpcUbC7bVEI",
        "colab": {
          "base_uri": "https://localhost:8080/"
        },
        "outputId": "9c001dab-e25a-4c77-d843-be735e55d769"
      },
      "outputs": [
        {
          "output_type": "execute_result",
          "data": {
            "text/plain": [
              "{'regr__C': 10.0,\n",
              " 'regr__fit_intercept': False,\n",
              " 'regr__penalty': 'l2',\n",
              " 'scale': StandardScaler()}"
            ]
          },
          "metadata": {},
          "execution_count": 121
        }
      ],
      "source": [
        "score.iloc[0]['params']"
      ]
    },
    {
      "cell_type": "markdown",
      "metadata": {
        "id": "h928ET13bbZK"
      },
      "source": [
        "È risultato più efficiente un mix di regolarizzazione Ridge e Lasso al 50%, risultando nel calcolo dei seguenti pesi:"
      ]
    },
    {
      "cell_type": "code",
      "execution_count": 122,
      "metadata": {
        "id": "A3W9B2KEbn00",
        "colab": {
          "base_uri": "https://localhost:8080/",
          "height": 1000
        },
        "outputId": "6a7932f5-e264-4028-96fe-c4e81b5e004b"
      },
      "outputs": [
        {
          "output_type": "execute_result",
          "data": {
            "text/plain": [
              "                          Normal   Suspect  Pathological\n",
              "start_instant           0.484176 -0.524391      0.040215\n",
              "end_instant            -0.193335  0.113574      0.079762\n",
              "medical_baseline       -0.678506  0.333989      0.344517\n",
              "heart_acc               0.147545 -0.276219      0.128674\n",
              "foetal_move            -0.068980  0.111742     -0.042762\n",
              "utherine_contract       0.040007  0.080870     -0.120877\n",
              "pct_short_variability  -0.264361  0.322309     -0.057949\n",
              "mean_short_variability  0.065869 -0.077880      0.012011\n",
              "pct_long_variability   -0.433914  0.303686      0.130228\n",
              "mean_long_variability  -0.022720 -0.074345      0.097065\n",
              "light_dec               0.300374 -0.449801      0.149427\n",
              "severe_dec             -0.744772  0.303249      0.441522\n",
              "prolongued_dec         -0.611413  0.455106      0.156306\n",
              "repetitive_dec          0.000000  0.000000      0.000000\n",
              "width                  -0.034050  0.120196     -0.086146\n",
              "min                    -0.075676 -0.134241      0.209917\n",
              "max                    -0.197117  0.041726      0.155391\n",
              "nmax                   -0.028024  0.108977     -0.080953\n",
              "nzeros                  0.112725 -0.166382      0.053657\n",
              "mode                    0.728194 -0.532589     -0.195605\n",
              "mean                   -0.258888  0.656615     -0.397727\n",
              "median                  0.348180 -0.215096     -0.133084\n",
              "variance               -0.198405  0.413470     -0.215066\n",
              "tendency               -0.068164  0.043819      0.024345\n",
              "calm_sleep              1.516098 -0.752138     -0.763960\n",
              "rem_sleep               1.605141 -0.934834     -0.670307\n",
              "calm_vigilance          0.518733 -0.264438     -0.254295\n",
              "active_vigilance        0.569451 -0.411789     -0.157661\n",
              "e                      -0.062218  0.421656     -0.359439\n",
              "acc_pattern_stress      1.256849 -0.671988     -0.584861\n",
              "dec_pattern_vagal       0.849791 -0.069071     -0.780720\n",
              "largely_dec            -2.961077  0.529122      2.431955\n",
              "patho_flat_sinusoidal  -2.337319  0.677356      1.659964\n",
              "suspect                -3.991997  2.736859      1.255138"
            ],
            "text/html": [
              "\n",
              "  <div id=\"df-113b3c77-8c55-48db-a576-62c27ec5d58c\">\n",
              "    <div class=\"colab-df-container\">\n",
              "      <div>\n",
              "<style scoped>\n",
              "    .dataframe tbody tr th:only-of-type {\n",
              "        vertical-align: middle;\n",
              "    }\n",
              "\n",
              "    .dataframe tbody tr th {\n",
              "        vertical-align: top;\n",
              "    }\n",
              "\n",
              "    .dataframe thead th {\n",
              "        text-align: right;\n",
              "    }\n",
              "</style>\n",
              "<table border=\"1\" class=\"dataframe\">\n",
              "  <thead>\n",
              "    <tr style=\"text-align: right;\">\n",
              "      <th></th>\n",
              "      <th>Normal</th>\n",
              "      <th>Suspect</th>\n",
              "      <th>Pathological</th>\n",
              "    </tr>\n",
              "  </thead>\n",
              "  <tbody>\n",
              "    <tr>\n",
              "      <th>start_instant</th>\n",
              "      <td>0.484176</td>\n",
              "      <td>-0.524391</td>\n",
              "      <td>0.040215</td>\n",
              "    </tr>\n",
              "    <tr>\n",
              "      <th>end_instant</th>\n",
              "      <td>-0.193335</td>\n",
              "      <td>0.113574</td>\n",
              "      <td>0.079762</td>\n",
              "    </tr>\n",
              "    <tr>\n",
              "      <th>medical_baseline</th>\n",
              "      <td>-0.678506</td>\n",
              "      <td>0.333989</td>\n",
              "      <td>0.344517</td>\n",
              "    </tr>\n",
              "    <tr>\n",
              "      <th>heart_acc</th>\n",
              "      <td>0.147545</td>\n",
              "      <td>-0.276219</td>\n",
              "      <td>0.128674</td>\n",
              "    </tr>\n",
              "    <tr>\n",
              "      <th>foetal_move</th>\n",
              "      <td>-0.068980</td>\n",
              "      <td>0.111742</td>\n",
              "      <td>-0.042762</td>\n",
              "    </tr>\n",
              "    <tr>\n",
              "      <th>utherine_contract</th>\n",
              "      <td>0.040007</td>\n",
              "      <td>0.080870</td>\n",
              "      <td>-0.120877</td>\n",
              "    </tr>\n",
              "    <tr>\n",
              "      <th>pct_short_variability</th>\n",
              "      <td>-0.264361</td>\n",
              "      <td>0.322309</td>\n",
              "      <td>-0.057949</td>\n",
              "    </tr>\n",
              "    <tr>\n",
              "      <th>mean_short_variability</th>\n",
              "      <td>0.065869</td>\n",
              "      <td>-0.077880</td>\n",
              "      <td>0.012011</td>\n",
              "    </tr>\n",
              "    <tr>\n",
              "      <th>pct_long_variability</th>\n",
              "      <td>-0.433914</td>\n",
              "      <td>0.303686</td>\n",
              "      <td>0.130228</td>\n",
              "    </tr>\n",
              "    <tr>\n",
              "      <th>mean_long_variability</th>\n",
              "      <td>-0.022720</td>\n",
              "      <td>-0.074345</td>\n",
              "      <td>0.097065</td>\n",
              "    </tr>\n",
              "    <tr>\n",
              "      <th>light_dec</th>\n",
              "      <td>0.300374</td>\n",
              "      <td>-0.449801</td>\n",
              "      <td>0.149427</td>\n",
              "    </tr>\n",
              "    <tr>\n",
              "      <th>severe_dec</th>\n",
              "      <td>-0.744772</td>\n",
              "      <td>0.303249</td>\n",
              "      <td>0.441522</td>\n",
              "    </tr>\n",
              "    <tr>\n",
              "      <th>prolongued_dec</th>\n",
              "      <td>-0.611413</td>\n",
              "      <td>0.455106</td>\n",
              "      <td>0.156306</td>\n",
              "    </tr>\n",
              "    <tr>\n",
              "      <th>repetitive_dec</th>\n",
              "      <td>0.000000</td>\n",
              "      <td>0.000000</td>\n",
              "      <td>0.000000</td>\n",
              "    </tr>\n",
              "    <tr>\n",
              "      <th>width</th>\n",
              "      <td>-0.034050</td>\n",
              "      <td>0.120196</td>\n",
              "      <td>-0.086146</td>\n",
              "    </tr>\n",
              "    <tr>\n",
              "      <th>min</th>\n",
              "      <td>-0.075676</td>\n",
              "      <td>-0.134241</td>\n",
              "      <td>0.209917</td>\n",
              "    </tr>\n",
              "    <tr>\n",
              "      <th>max</th>\n",
              "      <td>-0.197117</td>\n",
              "      <td>0.041726</td>\n",
              "      <td>0.155391</td>\n",
              "    </tr>\n",
              "    <tr>\n",
              "      <th>nmax</th>\n",
              "      <td>-0.028024</td>\n",
              "      <td>0.108977</td>\n",
              "      <td>-0.080953</td>\n",
              "    </tr>\n",
              "    <tr>\n",
              "      <th>nzeros</th>\n",
              "      <td>0.112725</td>\n",
              "      <td>-0.166382</td>\n",
              "      <td>0.053657</td>\n",
              "    </tr>\n",
              "    <tr>\n",
              "      <th>mode</th>\n",
              "      <td>0.728194</td>\n",
              "      <td>-0.532589</td>\n",
              "      <td>-0.195605</td>\n",
              "    </tr>\n",
              "    <tr>\n",
              "      <th>mean</th>\n",
              "      <td>-0.258888</td>\n",
              "      <td>0.656615</td>\n",
              "      <td>-0.397727</td>\n",
              "    </tr>\n",
              "    <tr>\n",
              "      <th>median</th>\n",
              "      <td>0.348180</td>\n",
              "      <td>-0.215096</td>\n",
              "      <td>-0.133084</td>\n",
              "    </tr>\n",
              "    <tr>\n",
              "      <th>variance</th>\n",
              "      <td>-0.198405</td>\n",
              "      <td>0.413470</td>\n",
              "      <td>-0.215066</td>\n",
              "    </tr>\n",
              "    <tr>\n",
              "      <th>tendency</th>\n",
              "      <td>-0.068164</td>\n",
              "      <td>0.043819</td>\n",
              "      <td>0.024345</td>\n",
              "    </tr>\n",
              "    <tr>\n",
              "      <th>calm_sleep</th>\n",
              "      <td>1.516098</td>\n",
              "      <td>-0.752138</td>\n",
              "      <td>-0.763960</td>\n",
              "    </tr>\n",
              "    <tr>\n",
              "      <th>rem_sleep</th>\n",
              "      <td>1.605141</td>\n",
              "      <td>-0.934834</td>\n",
              "      <td>-0.670307</td>\n",
              "    </tr>\n",
              "    <tr>\n",
              "      <th>calm_vigilance</th>\n",
              "      <td>0.518733</td>\n",
              "      <td>-0.264438</td>\n",
              "      <td>-0.254295</td>\n",
              "    </tr>\n",
              "    <tr>\n",
              "      <th>active_vigilance</th>\n",
              "      <td>0.569451</td>\n",
              "      <td>-0.411789</td>\n",
              "      <td>-0.157661</td>\n",
              "    </tr>\n",
              "    <tr>\n",
              "      <th>e</th>\n",
              "      <td>-0.062218</td>\n",
              "      <td>0.421656</td>\n",
              "      <td>-0.359439</td>\n",
              "    </tr>\n",
              "    <tr>\n",
              "      <th>acc_pattern_stress</th>\n",
              "      <td>1.256849</td>\n",
              "      <td>-0.671988</td>\n",
              "      <td>-0.584861</td>\n",
              "    </tr>\n",
              "    <tr>\n",
              "      <th>dec_pattern_vagal</th>\n",
              "      <td>0.849791</td>\n",
              "      <td>-0.069071</td>\n",
              "      <td>-0.780720</td>\n",
              "    </tr>\n",
              "    <tr>\n",
              "      <th>largely_dec</th>\n",
              "      <td>-2.961077</td>\n",
              "      <td>0.529122</td>\n",
              "      <td>2.431955</td>\n",
              "    </tr>\n",
              "    <tr>\n",
              "      <th>patho_flat_sinusoidal</th>\n",
              "      <td>-2.337319</td>\n",
              "      <td>0.677356</td>\n",
              "      <td>1.659964</td>\n",
              "    </tr>\n",
              "    <tr>\n",
              "      <th>suspect</th>\n",
              "      <td>-3.991997</td>\n",
              "      <td>2.736859</td>\n",
              "      <td>1.255138</td>\n",
              "    </tr>\n",
              "  </tbody>\n",
              "</table>\n",
              "</div>\n",
              "      <button class=\"colab-df-convert\" onclick=\"convertToInteractive('df-113b3c77-8c55-48db-a576-62c27ec5d58c')\"\n",
              "              title=\"Convert this dataframe to an interactive table.\"\n",
              "              style=\"display:none;\">\n",
              "        \n",
              "  <svg xmlns=\"http://www.w3.org/2000/svg\" height=\"24px\"viewBox=\"0 0 24 24\"\n",
              "       width=\"24px\">\n",
              "    <path d=\"M0 0h24v24H0V0z\" fill=\"none\"/>\n",
              "    <path d=\"M18.56 5.44l.94 2.06.94-2.06 2.06-.94-2.06-.94-.94-2.06-.94 2.06-2.06.94zm-11 1L8.5 8.5l.94-2.06 2.06-.94-2.06-.94L8.5 2.5l-.94 2.06-2.06.94zm10 10l.94 2.06.94-2.06 2.06-.94-2.06-.94-.94-2.06-.94 2.06-2.06.94z\"/><path d=\"M17.41 7.96l-1.37-1.37c-.4-.4-.92-.59-1.43-.59-.52 0-1.04.2-1.43.59L10.3 9.45l-7.72 7.72c-.78.78-.78 2.05 0 2.83L4 21.41c.39.39.9.59 1.41.59.51 0 1.02-.2 1.41-.59l7.78-7.78 2.81-2.81c.8-.78.8-2.07 0-2.86zM5.41 20L4 18.59l7.72-7.72 1.47 1.35L5.41 20z\"/>\n",
              "  </svg>\n",
              "      </button>\n",
              "      \n",
              "  <style>\n",
              "    .colab-df-container {\n",
              "      display:flex;\n",
              "      flex-wrap:wrap;\n",
              "      gap: 12px;\n",
              "    }\n",
              "\n",
              "    .colab-df-convert {\n",
              "      background-color: #E8F0FE;\n",
              "      border: none;\n",
              "      border-radius: 50%;\n",
              "      cursor: pointer;\n",
              "      display: none;\n",
              "      fill: #1967D2;\n",
              "      height: 32px;\n",
              "      padding: 0 0 0 0;\n",
              "      width: 32px;\n",
              "    }\n",
              "\n",
              "    .colab-df-convert:hover {\n",
              "      background-color: #E2EBFA;\n",
              "      box-shadow: 0px 1px 2px rgba(60, 64, 67, 0.3), 0px 1px 3px 1px rgba(60, 64, 67, 0.15);\n",
              "      fill: #174EA6;\n",
              "    }\n",
              "\n",
              "    [theme=dark] .colab-df-convert {\n",
              "      background-color: #3B4455;\n",
              "      fill: #D2E3FC;\n",
              "    }\n",
              "\n",
              "    [theme=dark] .colab-df-convert:hover {\n",
              "      background-color: #434B5C;\n",
              "      box-shadow: 0px 1px 3px 1px rgba(0, 0, 0, 0.15);\n",
              "      filter: drop-shadow(0px 1px 2px rgba(0, 0, 0, 0.3));\n",
              "      fill: #FFFFFF;\n",
              "    }\n",
              "  </style>\n",
              "\n",
              "      <script>\n",
              "        const buttonEl =\n",
              "          document.querySelector('#df-113b3c77-8c55-48db-a576-62c27ec5d58c button.colab-df-convert');\n",
              "        buttonEl.style.display =\n",
              "          google.colab.kernel.accessAllowed ? 'block' : 'none';\n",
              "\n",
              "        async function convertToInteractive(key) {\n",
              "          const element = document.querySelector('#df-113b3c77-8c55-48db-a576-62c27ec5d58c');\n",
              "          const dataTable =\n",
              "            await google.colab.kernel.invokeFunction('convertToInteractive',\n",
              "                                                     [key], {});\n",
              "          if (!dataTable) return;\n",
              "\n",
              "          const docLinkHtml = 'Like what you see? Visit the ' +\n",
              "            '<a target=\"_blank\" href=https://colab.research.google.com/notebooks/data_table.ipynb>data table notebook</a>'\n",
              "            + ' to learn more about interactive tables.';\n",
              "          element.innerHTML = '';\n",
              "          dataTable['output_type'] = 'display_data';\n",
              "          await google.colab.output.renderOutput(dataTable, element);\n",
              "          const docLink = document.createElement('div');\n",
              "          docLink.innerHTML = docLinkHtml;\n",
              "          element.appendChild(docLink);\n",
              "        }\n",
              "      </script>\n",
              "    </div>\n",
              "  </div>\n",
              "  "
            ]
          },
          "metadata": {},
          "execution_count": 122
        }
      ],
      "source": [
        "get_coefficients_frame(gs, X.columns)"
      ]
    },
    {
      "cell_type": "markdown",
      "metadata": {
        "id": "8oOGQE8zbvUs"
      },
      "source": [
        "È da subito evidente come il non utilizzo di una regolarizzazione Lasso pura abbia portato all'azzeramento di molte meno variabili."
      ]
    },
    {
      "cell_type": "code",
      "execution_count": 123,
      "metadata": {
        "id": "RUNLHb5Wb60_",
        "colab": {
          "base_uri": "https://localhost:8080/",
          "height": 143
        },
        "outputId": "caac62ea-a269-4db0-e7a2-8ddf1d30aa28"
      },
      "outputs": [
        {
          "output_type": "execute_result",
          "data": {
            "text/plain": [
              "              Normal Suspect Pathological\n",
              "Normal        99.28%   0.72%         0.0%\n",
              "Suspect         5.1%   94.9%         0.0%\n",
              "Pathological    0.0%   1.69%       98.31%"
            ],
            "text/html": [
              "\n",
              "  <div id=\"df-9da4eb2c-640e-4e5a-8f68-a50242061d1c\">\n",
              "    <div class=\"colab-df-container\">\n",
              "      <div>\n",
              "<style scoped>\n",
              "    .dataframe tbody tr th:only-of-type {\n",
              "        vertical-align: middle;\n",
              "    }\n",
              "\n",
              "    .dataframe tbody tr th {\n",
              "        vertical-align: top;\n",
              "    }\n",
              "\n",
              "    .dataframe thead th {\n",
              "        text-align: right;\n",
              "    }\n",
              "</style>\n",
              "<table border=\"1\" class=\"dataframe\">\n",
              "  <thead>\n",
              "    <tr style=\"text-align: right;\">\n",
              "      <th></th>\n",
              "      <th>Normal</th>\n",
              "      <th>Suspect</th>\n",
              "      <th>Pathological</th>\n",
              "    </tr>\n",
              "  </thead>\n",
              "  <tbody>\n",
              "    <tr>\n",
              "      <th>Normal</th>\n",
              "      <td>99.28%</td>\n",
              "      <td>0.72%</td>\n",
              "      <td>0.0%</td>\n",
              "    </tr>\n",
              "    <tr>\n",
              "      <th>Suspect</th>\n",
              "      <td>5.1%</td>\n",
              "      <td>94.9%</td>\n",
              "      <td>0.0%</td>\n",
              "    </tr>\n",
              "    <tr>\n",
              "      <th>Pathological</th>\n",
              "      <td>0.0%</td>\n",
              "      <td>1.69%</td>\n",
              "      <td>98.31%</td>\n",
              "    </tr>\n",
              "  </tbody>\n",
              "</table>\n",
              "</div>\n",
              "      <button class=\"colab-df-convert\" onclick=\"convertToInteractive('df-9da4eb2c-640e-4e5a-8f68-a50242061d1c')\"\n",
              "              title=\"Convert this dataframe to an interactive table.\"\n",
              "              style=\"display:none;\">\n",
              "        \n",
              "  <svg xmlns=\"http://www.w3.org/2000/svg\" height=\"24px\"viewBox=\"0 0 24 24\"\n",
              "       width=\"24px\">\n",
              "    <path d=\"M0 0h24v24H0V0z\" fill=\"none\"/>\n",
              "    <path d=\"M18.56 5.44l.94 2.06.94-2.06 2.06-.94-2.06-.94-.94-2.06-.94 2.06-2.06.94zm-11 1L8.5 8.5l.94-2.06 2.06-.94-2.06-.94L8.5 2.5l-.94 2.06-2.06.94zm10 10l.94 2.06.94-2.06 2.06-.94-2.06-.94-.94-2.06-.94 2.06-2.06.94z\"/><path d=\"M17.41 7.96l-1.37-1.37c-.4-.4-.92-.59-1.43-.59-.52 0-1.04.2-1.43.59L10.3 9.45l-7.72 7.72c-.78.78-.78 2.05 0 2.83L4 21.41c.39.39.9.59 1.41.59.51 0 1.02-.2 1.41-.59l7.78-7.78 2.81-2.81c.8-.78.8-2.07 0-2.86zM5.41 20L4 18.59l7.72-7.72 1.47 1.35L5.41 20z\"/>\n",
              "  </svg>\n",
              "      </button>\n",
              "      \n",
              "  <style>\n",
              "    .colab-df-container {\n",
              "      display:flex;\n",
              "      flex-wrap:wrap;\n",
              "      gap: 12px;\n",
              "    }\n",
              "\n",
              "    .colab-df-convert {\n",
              "      background-color: #E8F0FE;\n",
              "      border: none;\n",
              "      border-radius: 50%;\n",
              "      cursor: pointer;\n",
              "      display: none;\n",
              "      fill: #1967D2;\n",
              "      height: 32px;\n",
              "      padding: 0 0 0 0;\n",
              "      width: 32px;\n",
              "    }\n",
              "\n",
              "    .colab-df-convert:hover {\n",
              "      background-color: #E2EBFA;\n",
              "      box-shadow: 0px 1px 2px rgba(60, 64, 67, 0.3), 0px 1px 3px 1px rgba(60, 64, 67, 0.15);\n",
              "      fill: #174EA6;\n",
              "    }\n",
              "\n",
              "    [theme=dark] .colab-df-convert {\n",
              "      background-color: #3B4455;\n",
              "      fill: #D2E3FC;\n",
              "    }\n",
              "\n",
              "    [theme=dark] .colab-df-convert:hover {\n",
              "      background-color: #434B5C;\n",
              "      box-shadow: 0px 1px 3px 1px rgba(0, 0, 0, 0.15);\n",
              "      filter: drop-shadow(0px 1px 2px rgba(0, 0, 0, 0.3));\n",
              "      fill: #FFFFFF;\n",
              "    }\n",
              "  </style>\n",
              "\n",
              "      <script>\n",
              "        const buttonEl =\n",
              "          document.querySelector('#df-9da4eb2c-640e-4e5a-8f68-a50242061d1c button.colab-df-convert');\n",
              "        buttonEl.style.display =\n",
              "          google.colab.kernel.accessAllowed ? 'block' : 'none';\n",
              "\n",
              "        async function convertToInteractive(key) {\n",
              "          const element = document.querySelector('#df-9da4eb2c-640e-4e5a-8f68-a50242061d1c');\n",
              "          const dataTable =\n",
              "            await google.colab.kernel.invokeFunction('convertToInteractive',\n",
              "                                                     [key], {});\n",
              "          if (!dataTable) return;\n",
              "\n",
              "          const docLinkHtml = 'Like what you see? Visit the ' +\n",
              "            '<a target=\"_blank\" href=https://colab.research.google.com/notebooks/data_table.ipynb>data table notebook</a>'\n",
              "            + ' to learn more about interactive tables.';\n",
              "          element.innerHTML = '';\n",
              "          dataTable['output_type'] = 'display_data';\n",
              "          await google.colab.output.renderOutput(dataTable, element);\n",
              "          const docLink = document.createElement('div');\n",
              "          docLink.innerHTML = docLinkHtml;\n",
              "          element.appendChild(docLink);\n",
              "        }\n",
              "      </script>\n",
              "    </div>\n",
              "  </div>\n",
              "  "
            ]
          },
          "metadata": {},
          "execution_count": 123
        }
      ],
      "source": [
        "get_percentage_cm(\n",
        "    get_confusion_matrix(gs, y_test, gs.predict(X_test), normalize='true')\n",
        ")"
      ]
    },
    {
      "cell_type": "code",
      "execution_count": 124,
      "metadata": {
        "id": "HAp6rJO3cNTa",
        "colab": {
          "base_uri": "https://localhost:8080/"
        },
        "outputId": "b1e446f8-1286-42fa-a109-d59788117e95"
      },
      "outputs": [
        {
          "output_type": "stream",
          "name": "stdout",
          "text": [
            "F1 Score: 0.9774\n"
          ]
        }
      ],
      "source": [
        "print_f1_score(get_f1_score(gs, y_test, X_test))"
      ]
    }
  ],
  "metadata": {
    "colab": {
      "provenance": []
    },
    "kernelspec": {
      "display_name": "Python 3 (ipykernel)",
      "language": "python",
      "name": "python3"
    },
    "language_info": {
      "codemirror_mode": {
        "name": "ipython",
        "version": 3
      },
      "file_extension": ".py",
      "mimetype": "text/x-python",
      "name": "python",
      "nbconvert_exporter": "python",
      "pygments_lexer": "ipython3",
      "version": "3.9.16"
    }
  },
  "nbformat": 4,
  "nbformat_minor": 0
}